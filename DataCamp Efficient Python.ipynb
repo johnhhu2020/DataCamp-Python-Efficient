{
 "cells": [
  {
   "cell_type": "markdown",
   "id": "0c389d9b-55fd-416f-a7e5-44ca8cd648df",
   "metadata": {},
   "source": [
    "## Writing Efficient Python Code\n",
    "\n",
    "\n"
   ]
  },
  {
   "cell_type": "markdown",
   "id": "daf84959-1edf-455d-a108-5296a348ddb6",
   "metadata": {},
   "source": [
    "# Course Description\n",
    "\n",
    "As a Data Scientist, the majority of your time should be spent gleaning actionable insights from data -- not waiting for your code to finish running. Writing efficient Python code can help reduce runtime and save computational resources, ultimately freeing you up to do the things you love as a Data Scientist. In this course, you'll learn how to use Python's built-in data structures, functions, and modules to write cleaner, faster, and more efficient code. We'll explore how to time and profile code in order to find bottlenecks. Then, you'll practice eliminating these bottlenecks, and other bad design patterns, using Python's Standard Library, NumPy, and pandas. After completing this course, you'll have the necessary tools to start writing efficient Python code!\n"
   ]
  },
  {
   "cell_type": "markdown",
   "id": "cae0df75-7ece-471a-bbb9-5661032618f0",
   "metadata": {},
   "source": [
    "##  Foundations for efficiencies\n",
    "\n",
    "In this chapter, you'll learn what it means to write efficient Python code. You'll explore Python's Standard Library, learn about NumPy arrays, and practice using some of Python's built-in tools. This chapter builds a foundation for the concepts covered ahead.\n",
    "\n",
    "    Welcome!    50 xp\n",
    "    Pop quiz: what is efficient    50 xp\n",
    "    A taste of things to come    100 xp\n",
    "    Zen of Python    35 xp\n",
    "    Building with built-ins    50 xp\n",
    "    Built-in practice: range()    100 xp\n",
    "    Built-in practice: enumerate()    100 xp\n",
    "    Built-in practice: map()    100 xp\n",
    "    The power of NumPy arrays    50 xp\n",
    "    Practice with NumPy arrays    100 xp\n",
    "    Bringing it all together: Festivus!    100 xp\n"
   ]
  },
  {
   "cell_type": "markdown",
   "id": "46a8ea61-f135-47c3-8ae5-d152b109baf0",
   "metadata": {},
   "source": [
    "##  Timing and profiling code\n",
    "\n",
    "In this chapter, you will learn how to gather and compare runtimes between different coding approaches. You'll practice using the line_profiler and memory_profiler packages to profile your code base and spot bottlenecks. Then, you'll put your learnings to practice by replacing these bottlenecks with efficient Python code.\n",
    "\n",
    "    Examining runtime    50 xp\n",
    "    Using %timeit: your turn!    100 xp\n",
    "    Using %timeit: specifying number of runs and loops    50 xp\n",
    "    Using %timeit: formal name or literal syntax    100 xp\n",
    "    Using cell magic mode (%%timeit)    50 xp\n",
    "    Code profiling for runtime    50 xp\n",
    "    Pop quiz: steps for using %lprun    50 xp\n",
    "    Using %lprun: spot bottlenecks    50 xp\n",
    "    Using %lprun: fix the bottleneck    50 xp\n",
    "    Code profiling for memory usage    50 xp\n",
    "    Pop quiz: steps for using %mprun    50 xp\n",
    "    Using %mprun: Hero BMI    50 xp\n",
    "    Using %mprun: Hero BMI 2.0    50 xp\n",
    "    Bringing it all together: Star Wars profiling    100 xp \n",
    "    "
   ]
  },
  {
   "cell_type": "markdown",
   "id": "93a2039b-46e2-4ee6-9fcd-37afb79499a4",
   "metadata": {},
   "source": [
    "##  Gaining efficiencies\n",
    "\n",
    "This chapter covers more complex efficiency tips and tricks. You'll learn a few useful built-in modules for writing efficient code and practice using set theory. You'll then learn about looping patterns in Python and how to make them more efficient.\n",
    "\n",
    "    Efficiently combining, counting, and iterating    50 xp\n",
    "    Combining Pokémon names and types    100 xp\n",
    "    Counting Pokémon from a sample    100 xp\n",
    "    Combinations of Pokémon    100 xp\n",
    "    Set theory    50 xp\n",
    "    Comparing Pokédexes    100 xp\n",
    "    Searching for Pokémon    100 xp\n",
    "    Gathering unique Pokémon    100 xp\n",
    "    Eliminating loops    50 xp\n",
    "    Gathering Pokémon without a loop    100 xp\n",
    "    Pokémon totals and averages without a loop    100 xp\n",
    "    Writing better loops    50 xp\n",
    "    One-time calculation loop    100 xp\n",
    "    Holistic conversion loop    100 xp\n",
    "    Bringing it all together: Pokémon z-scores    100 xp \n",
    "    "
   ]
  },
  {
   "cell_type": "markdown",
   "id": "8a6929ad-5e13-4409-92b6-1e26390e30e3",
   "metadata": {},
   "source": [
    "##  Basic pandas optimizations\n",
    "\n",
    "This chapter offers a brief introduction on how to efficiently work with pandas DataFrames. You'll learn the various options you have for iterating over a DataFrame. Then, you'll learn how to efficiently apply functions to data stored in a DataFrame.\n",
    "\n",
    "    Intro to pandas DataFrame iteration    50 xp\n",
    "    Iterating with .iterrows()    100 xp\n",
    "    Run differentials with .iterrows()    100 xp\n",
    "    Another iterator method: .itertuples()    50 xp\n",
    "    Iterating with .itertuples()    100 xp\n",
    "    Run differentials with .itertuples()    100 xp\n",
    "    pandas alternative to looping    50 xp\n",
    "    Analyzing baseball stats with .apply()    100 xp\n",
    "    Settle a debate with .apply()    100 xp\n",
    "    Optimal pandas iterating    50 xp\n",
    "    Replacing .iloc with underlying arrays    100 xp\n",
    "    Bringing it all together: Predict win percentage    100 xp\n",
    "    Congratulations!    50 xp\n"
   ]
  },
  {
   "cell_type": "code",
   "execution_count": null,
   "id": "e9623b95-4fb2-4096-94ee-86970a756fdb",
   "metadata": {},
   "outputs": [],
   "source": []
  },
  {
   "cell_type": "code",
   "execution_count": null,
   "id": "69e184b4-5506-4744-996c-629ca3aefed5",
   "metadata": {},
   "outputs": [],
   "source": []
  },
  {
   "cell_type": "markdown",
   "id": "06a1e634-b641-45a8-a7cb-581740cafb52",
   "metadata": {},
   "source": [
    "## In this course, you'll learn how to write cleaner, faster, and more efficient Python code\n",
    "\n",
    "   **.We'll explore how to time and profile your code in order to find potential bottlenecks\n",
    "   ** And learn practice eliminating these bottlenecks, and other bad design patterns, using Python's standard Library, NumPy and Pandas\n",
    "   \n",
    "   **After completing thise course, you''ll have everything you need to start writting elegant and efficient Python code. \n",
    "\n",
    "\n",
    "\n",
    "# **Efficient refers to code that satisfies two key concepts. \n",
    "   **first, fast to run and small latency between execution and returning result\n",
    "   **second, allocates resources skillfully and isn't subjected to unnecessary overhead\n",
    "   "
   ]
  },
  {
   "cell_type": "code",
   "execution_count": 26,
   "id": "3597820d-b4f3-4cbc-941a-d441bdaf8129",
   "metadata": {},
   "outputs": [
    {
     "name": "stdout",
     "output_type": "stream",
     "text": [
      "[2, 6, 10, 14, 18]\n",
      "[2, 6, 10, 14, 18]\n"
     ]
    }
   ],
   "source": [
    "# Non-Pythonic\n",
    "numbers = [1, 3, 5, 7, 9]\n",
    "\n",
    "double_numbers = []\n",
    "\n",
    "for i in range(len(numbers)):\n",
    "    double_numbers.append(numbers[i]*2)\n",
    "print(double_numbers)\n",
    "# *************************************************************************************************** #\n",
    "\n",
    "    \n",
    "# Pythonic\n",
    "double_numbers = [x*2 for x in numbers]\n",
    "print(double_numbers)"
   ]
  },
  {
   "cell_type": "markdown",
   "id": "4f83e0e0-2c1b-4ed9-9ef1-4b63051f2121",
   "metadata": {},
   "source": [
    "## Things you should know:\n",
    "\n",
    "\n",
    "   **Data types typically used in Data Science**\n",
    "      Data Types for Data Science\n",
    "   \n",
    "   **Writing and using your own functions**\n",
    "      Python Data Science Toolbox(part 1)\n",
    "   \n",
    "   **Anonymous functions(lambda expressions)**\n",
    "      Python Data Science Toolbox(part 1)\n",
    "      \n",
    "   **Writing and using list comprehensions**\n",
    "      Python Data Science Toolbox(part 2)\n",
    "      "
   ]
  },
  {
   "cell_type": "markdown",
   "id": "e41bdaa2-f1ec-45be-9185-666e8ddd8223",
   "metadata": {},
   "source": [
    "## A taste of things to come\n",
    "\n",
    "In this exercise, you'll explore both the Non-Pythonic and Pythonic ways of looping over a list.\n",
    "\n",
    "names = ['Jerry', 'Kramer', 'Elaine', 'George', 'Newman']\n",
    "\n",
    "Suppose you wanted to collect the names in the above list that have six letters or more. In other programming languages, the typical approach is to create an index variable (i), use i to iterate over the list, and use an if statement to collect the names with six letters or more:\n",
    "\n",
    "i = 0\n",
    "new_list= []\n",
    "while i < len(names):\n",
    "    if len(names[i]) >= 6:\n",
    "        new_list.append(names[i])\n",
    "    i += 1\n",
    "\n",
    "Let's explore some more Pythonic ways of doing this.\n",
    "Instructions 1/3\n",
    "50 XP\n",
    "\n",
    "    1   Print the list, new_list, that was created using a Non-Pythonic approach.\n",
    "\n",
    "    2   A more Pythonic approach would loop over the contents of names, rather than using an index variable. Print better_list.\n",
    "\n",
    "    3   The best Pythonic way of doing this is by using list comprehension. Print best_list.\n",
    "    "
   ]
  },
  {
   "cell_type": "code",
   "execution_count": 4,
   "id": "1ac527ec-2825-411e-bc89-5d8db7b0c5d2",
   "metadata": {},
   "outputs": [
    {
     "name": "stdout",
     "output_type": "stream",
     "text": [
      "['Kramer', 'Elaine', 'George', 'Newman']\n"
     ]
    }
   ],
   "source": [
    "# Print the list created using the Non-Pythonic approach\n",
    "\n",
    "\n",
    "names = ['Jerry', 'Kramer', 'Elaine', 'George', 'Newman']\n",
    "\n",
    "i = 0\n",
    "new_list= []\n",
    "while i < len(names):\n",
    "    if len(names[i]) >= 6:\n",
    "        new_list.append(names[i])\n",
    "    i += 1\n",
    "print(new_list)"
   ]
  },
  {
   "cell_type": "code",
   "execution_count": 3,
   "id": "71f78da3-1680-47de-987c-ab942c4e032f",
   "metadata": {},
   "outputs": [
    {
     "name": "stdout",
     "output_type": "stream",
     "text": [
      "['Kramer', 'Elaine', 'George', 'Newman']\n"
     ]
    }
   ],
   "source": [
    "names = ['Jerry', 'Kramer', 'Elaine', 'George', 'Newman']\n",
    "\n",
    "new_list = [i for i in names if len(i)>=6]    # I did it on the first shot\n",
    "print(new_list)"
   ]
  },
  {
   "cell_type": "code",
   "execution_count": 22,
   "id": "8eb0c8ce-180a-4859-8596-e27aafe8b1ef",
   "metadata": {},
   "outputs": [
    {
     "name": "stdout",
     "output_type": "stream",
     "text": [
      "['Kramer', 'Elaine', 'George', 'Newman']\n"
     ]
    }
   ],
   "source": [
    "# Print the list created by looping over the contents of names\n",
    "\n",
    "\n",
    "names = ['Jerry', 'Kramer', 'Elaine', 'George', 'Newman']\n",
    "\n",
    "better_list = []\n",
    "for name in names:\n",
    "    if len(name) >= 6:\n",
    "        better_list.append(name)\n",
    "print(better_list)"
   ]
  },
  {
   "cell_type": "code",
   "execution_count": 24,
   "id": "78a60c95-51f7-46d5-bb4f-191c77899c0f",
   "metadata": {},
   "outputs": [
    {
     "name": "stdout",
     "output_type": "stream",
     "text": [
      "['Jerry', 'Kramer', 'Elaine', 'George', 'Newman']\n"
     ]
    }
   ],
   "source": [
    "# Print the list created by using list comprehension\n",
    "# *************************************************************************************************** #\n",
    "\n",
    "\n",
    "names = ['Jerry', 'Kramer', 'Elaine', 'George', 'Newman']\n",
    "\n",
    "best_list = [i for i in names if len(name) >= 6]\n",
    "print(best_list)"
   ]
  },
  {
   "cell_type": "markdown",
   "id": "f4924529-4a67-4bd3-9d88-17f7f4b7b755",
   "metadata": {},
   "source": [
    "## Zen of Python\n",
    "\n",
    "In the video, we covered the Zen of Python written by Tim Peters, which lists 19 idioms that serve as guiding principles for any Pythonista. Python has hundreds of Python Enhancement Proposals, commonly referred to as PEPs. The Zen of Python is one of these PEPs and is documented as PEP20.\n",
    "\n",
    "One little Easter Egg in Python is the ability to print the Zen of Python using the command import this. Let's take a look at one of the idioms listed in these guiding principles.\n",
    "\n",
    "Type and run the command import this within your IPython console and answer the following question:\n",
    "\n",
    "What is the 7th idiom of the Zen of Python?\n",
    "Instructions\n",
    "50 XP\n",
    "Possible Answers\n",
    "\n",
    "    Flat is better than nested.\n",
    "    Beautiful is better than ugly.\n",
    "#   Readability counts.\n",
    "    Python is the best programming language ever.\n",
    "\n"
   ]
  },
  {
   "cell_type": "markdown",
   "id": "ffa8024c-a8fe-4b9a-b1d5-76a3ff87edd1",
   "metadata": {
    "tags": []
   },
   "source": [
    "## Building with built-ins\n",
    "\n",
    "\n",
    "# **Built-in components are referred to as the Python Standard Library\n",
    "\n",
    "   __built-in types: list, tuple, set, dict\n",
    "    \n",
    "   __built-in functions: print(), len(), range(), round(), enumerate(), map(), zip()\n",
    "    \n",
    "   __built-in modules: os, sys, intertools, collections, math\n",
    "    \n",
    "    "
   ]
  },
  {
   "cell_type": "code",
   "execution_count": 21,
   "id": "649a09f1-32ca-420d-b128-4cce1aaa22fa",
   "metadata": {},
   "outputs": [
    {
     "name": "stdout",
     "output_type": "stream",
     "text": [
      "[1, 2, 3, 4, 5, 6, 7, 8, 9, 10]\n"
     ]
    },
    {
     "data": {
      "text/plain": [
       "\u001b[0;31mType:\u001b[0m        range\n",
       "\u001b[0;31mString form:\u001b[0m range(1, 25, 3)\n",
       "\u001b[0;31mLength:\u001b[0m      8\n",
       "\u001b[0;31mDocstring:\u001b[0m  \n",
       "range(stop) -> range object\n",
       "range(start, stop[, step]) -> range object\n",
       "\n",
       "Return an object that produces a sequence of integers from start (inclusive)\n",
       "to stop (exclusive) by step.  range(i, j) produces i, i+1, i+2, ..., j-1.\n",
       "start defaults to 0, and stop is omitted!  range(4) produces 0, 1, 2, 3.\n",
       "These are exactly the valid indices for a list of 4 elements.\n",
       "When step is given, it specifies the increment (or decrement).\n"
      ]
     },
     "metadata": {},
     "output_type": "display_data"
    }
   ],
   "source": [
    "# Buildin function: range()\n",
    "   # The range() function returns a range object, \n",
    "   # which we can convert into a list\n",
    "   # range() can also accept a start, stop, step value\n",
    "# *************************************************************************************************** #\n",
    "\n",
    "\n",
    "num_list = list(range(1,11))\n",
    "n_list = range(1,25,3)\n",
    "\n",
    "?n_list\n",
    "print(num_list)"
   ]
  },
  {
   "cell_type": "markdown",
   "id": "dfe97b85-268b-4034-a9a2-a1fad97b4a9b",
   "metadata": {},
   "source": [
    "# Buildin function: enumerate()\n",
    "\n",
    "    # enumerate() create an index, item pair for each item in the object provided\n",
    "    # For example, calling enumerate on the list letters produces a sequence of indexed values\n",
    "    # Similar to range(), enumerate() returns an enumerate object, can be converted into a list too\n",
    "    \n",
    "    # We can also specify the starting index of enumerate with the keyword argument start\n",
    "# *************************************************************************************************** #\n"
   ]
  },
  {
   "cell_type": "code",
   "execution_count": 4,
   "id": "8eae0e35-d983-4af4-8385-d0f3ee5a3ad1",
   "metadata": {},
   "outputs": [
    {
     "name": "stdout",
     "output_type": "stream",
     "text": [
      "<enumerate object at 0x7f289dbc9e00>\n",
      "(0, 'a') (1, 'b') (2, 'c') (3, 'd') (4, 'e') (5, 'f') (6, 'g')\n",
      "[]\n",
      "[(0, 'a'), (1, 'b'), (2, 'c'), (3, 'd'), (4, 'e'), (5, 'f'), (6, 'g')]\n",
      "[(2, 'a'), (3, 'b'), (4, 'c'), (5, 'd'), (6, 'e'), (7, 'f'), (8, 'g')]\n"
     ]
    }
   ],
   "source": [
    "# Buildin function: enumerate()\n",
    "    # enumerate() create an index item pair for each item in the object provided\n",
    "    # For example, calling enumerate on the list letters produces a sequence of indexed values\n",
    "    # Similar to range(), enumerate() returns an enumerate object, can be converted into a list too\n",
    "    \n",
    "    # We can also specify the starting index of enumerate with the keyword argument start=\n",
    "# *************************************************************************************************** #\n",
    "\n",
    "\n",
    "letters = ['a', 'b', 'c', 'd', 'e', 'f', 'g']\n",
    "n_letters = enumerate(letters)\n",
    "print(n_letters)\n",
    "print(*n_letters)\n",
    "print([*n_letters])\n",
    "\n",
    "new_letters = list(enumerate(letters))\n",
    "print(new_letters)\n",
    "\n",
    "nn_letters = list(enumerate(letters, start=2))\n",
    "print(nn_letters)"
   ]
  },
  {
   "cell_type": "markdown",
   "id": "836cb582-4786-4f6b-95fc-b8da82f98195",
   "metadata": {},
   "source": [
    "# Buildin function: map()\n",
    "\n",
    "\n",
    "    # The last buildin function we'll cover is map()\n",
    "    # map() applies function into each element in an object\n",
    "    \n",
    "    # map() can also be used with lambda, or anonymous function\n",
    "    # The map() function provides a quick and clean way to apply a function to an object iteratively\n",
    "# *************************************************************************************************** #\n"
   ]
  },
  {
   "cell_type": "code",
   "execution_count": 91,
   "id": "62dfb20f-bf90-4c9b-b02e-a303240ff02a",
   "metadata": {},
   "outputs": [
    {
     "name": "stdout",
     "output_type": "stream",
     "text": [
      "[2, 2, 3, 5, 5]\n",
      "[2.25, 5.289999999999999, 11.559999999999999, 21.159999999999997, 25.0]\n",
      "[]\n",
      "2.25 5.289999999999999 11.559999999999999 21.159999999999997 25.0\n",
      "[2.25, 5.289999999999999, 11.559999999999999, 21.159999999999997, 25.0]\n",
      "[0, 1, 2, 3, 4, 5, 6, 7, 8, 9, 10, 11, 12, 13, 14]\n"
     ]
    }
   ],
   "source": [
    "# Buildin function: map()\n",
    "    # The last buildin function we'll cover is map()\n",
    "    # map() applies function into each element in an object\n",
    "    \n",
    "    # map() can also be used with lambda, or anonymous function\n",
    "    # The map() function provides a quick and clean way to apply a function to an object iteratively\n",
    "# *************************************************************************************************** #\n",
    "\n",
    "\n",
    "nums = [1.5, 2.3, 3.4, 4.6, 5.0]\n",
    "\n",
    "rnd_nums = map(round, nums)\n",
    "print(list(rnd_nums))\n",
    "\n",
    "surd_nums = map(lambda x: x**2, nums)\n",
    "# *************************************************************************************************** #\n",
    "print(list(surd_nums))\n",
    "print([*surd_nums])   # My guessing is nested function caused * unpacking failure ******************* #\n",
    "print(*map(lambda x: x**2, nums))\n",
    "print([*map(lambda x: x**2, nums)])\n",
    "# *************************************************************************************************** #\n",
    "# In this tutorial, we will learn how to use the asterisk (*) operator to unpack iterable objects, \n",
    "# and two asterisks (**) to unpack dictionaries.\n",
    "# *************************************************************************************************** #\n",
    "nn = [*range(15)]\n",
    "print(nn)"
   ]
  },
  {
   "cell_type": "markdown",
   "id": "f13e5875-f751-44ed-bdb6-44ffb0907bbd",
   "metadata": {},
   "source": [
    "## Packing With the * Operator\n",
    "\n",
    "\n",
    "The * operator is known, in this context, as the tuple (or iterable) unpacking operator. It extends the unpacking functionality to allow us to collect or pack multiple values in a single variable. In the following example, we pack a tuple of values into a single variable by using the * operator:\n",
    "\n",
    ">>> *a, = 1, 2\n",
    ">>> a\n",
    "[1, 2]\n",
    "\n",
    "For this code to work, the left side of the assignment must be a tuple (or a list). That's why we use a trailing comma. This tuple can contain as many variables as we need. However, it can only contain one starred expression."
   ]
  },
  {
   "cell_type": "code",
   "execution_count": 90,
   "id": "f063eed2-ee4a-48ac-a96a-fa134fd5f9f3",
   "metadata": {},
   "outputs": [
    {
     "name": "stdout",
     "output_type": "stream",
     "text": [
      "['Joh', 'Jho', 'Jo']\n",
      "[1.5, 2.3, 3.4, 4.6, 5.0]\n",
      "{'a': 1, 'b': 2, 'c': 3}\n",
      "{'a': 1, 'b': 2, 'c': 3, 'd': 4, 'e': 5, 'f': 6}\n"
     ]
    }
   ],
   "source": [
    "# We can also use the * operator to pack multiple values into a single variable. \n",
    "\n",
    "[*names] = 'Joh', 'Jho', 'Jo'\n",
    "print(names)\n",
    "\n",
    "[*nums] = [1.5, 2.3, 3.4, 4.6, 5.0]\n",
    "print(nums)\n",
    "\n",
    "\n",
    "num_dict = {'a': 1, 'b': 2, 'c': 3}\n",
    "num_dict_2 = {'d': 4, 'e': 5, 'f': 6}\n",
    "#n_dict = [**num_dict]\n",
    "n_dict = {**num_dict}\n",
    "print(n_dict)\n",
    "\n",
    "new_dict = {**num_dict, **num_dict_2}\n",
    "print(new_dict)"
   ]
  },
  {
   "cell_type": "markdown",
   "id": "cba07ef5-6ac5-4bb9-bf2e-0582899108e0",
   "metadata": {},
   "source": [
    "## Built-in practice: range()\n",
    "\n",
    "In this exercise, you will practice using Python's built-in function range(). Remember that you can use range() in a few different ways:\n",
    "\n",
    "1) Create a sequence of numbers from 0 to a stop value (which is exclusive). This is useful when you want to create a simple sequence of numbers starting at zero:\n",
    "\n",
    "range(stop)\n",
    "\n",
    "# Example\n",
    "list(range(11))\n",
    "\n",
    "[0, 1, 2, 3, 4, 5, 6, 7, 8, 9, 10]\n",
    "\n",
    "2) Create a sequence of numbers from a start value to a stop value (which is exclusive) with a step size. This is useful when you want to create a sequence of numbers that increments by some value other than one. For example, a list of even numbers:\n",
    "\n",
    "range(start, stop, step)\n",
    "\n",
    "# Example\n",
    "list(range(2,11,2))\n",
    "\n",
    "[2, 4, 6, 8, 10]\n",
    "\n",
    "Instructions\n",
    "100 XP\n",
    "\n",
    "    Create a range object that starts at zero and ends at five. Only use a stop argument.\n",
    "    Convert the nums variable into a list called nums_list.\n",
    "    Create a new list called nums_list2 that starts at one, ends at eleven, and increments by two by \n",
    "# unpacking a range object using the star character (*).\n",
    "\n",
    "Hint\n",
    "\n",
    "    The stop argument in range() is exclusive. This means range(11) will create a range object from zero to ten.\n",
    "    To convert an object y into a list, you can use the command list(y).\n",
    "    You can unpack an object z into a list by using the command [*z].\n"
   ]
  },
  {
   "cell_type": "code",
   "execution_count": 92,
   "id": "9dbbdfe6-4c1c-4a21-a6e7-119da694081e",
   "metadata": {},
   "outputs": [
    {
     "name": "stdout",
     "output_type": "stream",
     "text": [
      "<class 'range'>\n",
      "0 1 2 3 4 5\n",
      "[0, 1, 2, 3, 4, 5]\n",
      "[1, 3, 5, 7, 9, 11]\n"
     ]
    }
   ],
   "source": [
    "# Create a range object that goes from 0 to 5\n",
    "nums = range(6)\n",
    "print(type(nums))\n",
    "print(*nums)  # My guessing is nested function caused * unpacking failure *************************** #\n",
    "# *************************************************************************************************** #\n",
    "\n",
    "# Convert nums to a list\n",
    "nums_list = list(nums)\n",
    "print(nums_list)\n",
    "\n",
    "# Create a new list of odd numbers from 1 to 11 by unpacking a range object\n",
    "nums_list2 = [*range(1,12,2)]\n",
    "# *************************************************************************************************** #\n",
    "print(nums_list2)"
   ]
  },
  {
   "cell_type": "markdown",
   "id": "617efcd0-34e0-4bde-9529-c1e9abab5f96",
   "metadata": {},
   "source": [
    "## Built-in practice: enumerate()\n",
    "\n",
    "In this exercise, you'll practice using Python's built-in function enumerate(). This function is useful for obtaining an indexed list. For example, suppose you had a list of people that arrived at a party you are hosting. The list is ordered by arrival (Jerry was the first to arrive, followed by Kramer, etc.):\n",
    "\n",
    "names = ['Jerry', 'Kramer', 'Elaine', 'George', 'Newman']\n",
    "\n",
    "If you wanted to attach an index representing a person's arrival order, you could use the following for loop:\n",
    "\n",
    "indexed_names = []\n",
    "for i in range(len(names)):\n",
    "    index_name = (i, names[i])\n",
    "    indexed_names.append(index_name)\n",
    "\n",
    "[(0,'Jerry'),(1,'Kramer'),(2,'Elaine'),(3,'George'),(4,'Newman')]\n",
    "\n",
    "But, that's not the most efficient solution. Let's explore how to use enumerate() to make this more efficient.\n",
    "Instructions\n",
    "100 XP\n",
    "\n",
    "    Instead of using for i in range(len(names)), update the for loop to use i as the index variable and name as the iterator variable and use enumerate().\n",
    "    Rewrite the previous for loop using enumerate() and list comprehension to create a new list, indexed_names_comp.\n",
    "    Create another list (indexed_names_unpack) by using the star character (*) to unpack the enumerate object created from using enumerate() on names. This time, start the index for enumerate() at one instead of zero.\n",
    "\n",
    "Hint\n",
    "\n",
    "    When using enumerate() in a for loop, the first variable is an index variable. The second variable is the iterator variable.\n",
    "    Use i as the index variable and name as the iterator variable in your list comprehension.\n",
    "    To unpack an enumerate object, use a star character (*) before the enumerate() function.\n",
    "    enumerate(names, s) will specify s as a starting index.\n"
   ]
  },
  {
   "cell_type": "code",
   "execution_count": 5,
   "id": "de7bfc06-e810-4895-84c8-7874beeaf808",
   "metadata": {},
   "outputs": [
    {
     "name": "stdout",
     "output_type": "stream",
     "text": [
      "[(0, 'Jerry'), (1, 'Kramer'), (2, 'Elaine'), (3, 'George'), (4, 'Newman')]\n",
      "[(0, 'Jerry'), (1, 'Kramer'), (2, 'Elaine'), (3, 'George'), (4, 'Newman')]\n",
      "[(1, 'Jerry'), (2, 'Kramer'), (3, 'Elaine'), (4, 'George'), (5, 'Newman')]\n"
     ]
    }
   ],
   "source": [
    "names = ['Jerry', 'Kramer', 'Elaine', 'George', 'Newman']\n",
    "\n",
    "# Rewrite the for loop to use enumerate\n",
    "indexed_names = []\n",
    "for i,name in enumerate(names):\n",
    "    index_name = (i,name)\n",
    "    indexed_names.append(index_name) \n",
    "print(indexed_names)\n",
    "\n",
    "# Rewrite the above for loop using list comprehension\n",
    "indexed_names_comp = [(i,name) for i,name in enumerate(names)]\n",
    "print(indexed_names_comp)\n",
    "\n",
    "# Unpack an enumerate object with a starting index of one\n",
    "indexed_names_unpack = [*enumerate(names, start=1)]\n",
    "print(indexed_names_unpack)"
   ]
  },
  {
   "cell_type": "code",
   "execution_count": 53,
   "id": "c84b6523-e824-438b-b420-013811872541",
   "metadata": {},
   "outputs": [
    {
     "name": "stdout",
     "output_type": "stream",
     "text": [
      "[(0, 'Jerry'), (1, 'Kramer'), (2, 'Elaine'), (3, 'George'), (4, 'Newman')]\n",
      "[(0, 'Jerry'), (1, 'Kramer'), (2, 'Elaine'), (3, 'George'), (4, 'Newman')]\n",
      "[(1, 'Jerry'), (2, 'Kramer'), (3, 'Elaine'), (4, 'George'), (5, 'Newman')]\n"
     ]
    }
   ],
   "source": [
    "names = ['Jerry', 'Kramer', 'Elaine', 'George', 'Newman']\n",
    "\n",
    "# Rewrite the for loop to use enumerate\n",
    "indexed_names = []\n",
    "for i,name in enumerate(names):\n",
    "    index_name = (i,name)\n",
    "    indexed_names.append(index_name) \n",
    "print(indexed_names)\n",
    "\n",
    "# Rewrite the above for loop using list comprehension\n",
    "indexed_names_comp = [(i,name) for i,name in enumerate(names)]\n",
    "print(indexed_names_comp)\n",
    "\n",
    "# Unpack an enumerate object with a starting index of one\n",
    "indexed_names_unpack = [*enumerate(names, 1)]\n",
    "# *************************************************************************************************** #\n",
    "print(indexed_names_unpack)"
   ]
  },
  {
   "cell_type": "markdown",
   "id": "78afaffc-c261-4d4f-8fec-bf415bdc2af9",
   "metadata": {},
   "source": [
    "## Built-in practice: map()\n",
    "\n",
    "\n",
    "# In this exercise, you'll practice using Python's built-in map() function to apply a function to every element of an object. Let's look at a list of party guests:\n",
    "\n",
    "names = ['Jerry', 'Kramer', 'Elaine', 'George', 'Newman']\n",
    "\n",
    "Suppose you wanted to create a new list (called names_uppercase) that converted all the letters in each name to uppercase. you could accomplish this with the below for loop:\n",
    "\n",
    "names_uppercase = []\n",
    "\n",
    "for name in names:\n",
    "  names_uppercase.append(name.upper())\n",
    "\n",
    "['JERRY', 'KRAMER', 'ELAINE', 'GEORGE', 'NEWMAN']\n",
    "\n",
    "Let's explore using the map() function to do this more efficiently in one line of code.\n",
    "Instructions\n",
    "100 XP\n",
    "\n",
    "    Use map() and the method str.upper() to convert each name in the list names to uppercase. Save this to the variable names_map.\n",
    "    Print the data type of names_map.\n",
    "# *****************************************************************************************************\n",
    "#    Unpack the contents of names_map into a list called names_uppercase using the star character (*).\n",
    "    Print names_uppercase and observe its contents.\n"
   ]
  },
  {
   "cell_type": "code",
   "execution_count": 6,
   "id": "00864815-919d-46bd-a281-f891ce16bfcf",
   "metadata": {},
   "outputs": [
    {
     "name": "stdout",
     "output_type": "stream",
     "text": [
      "<class 'map'>\n",
      "['jerry', 'kramer', 'elaine', 'george', 'newman']\n"
     ]
    }
   ],
   "source": [
    "names = ['JERRY', 'KRAMER', 'ELAINE', 'GEORGE', 'NEWMAN']\n",
    "\n",
    "\n",
    "# Use map to apply str.upper to each element in names\n",
    "names_map  = map(str.lower, names)\n",
    "\n",
    "# Print the type of the names_map\n",
    "print(type(names_map))\n",
    "\n",
    "# Unpack names_map into a list\n",
    "names_uppercase = [*names_map]\n",
    "#names_uppercase = list(names_map)   # Working code\n",
    "\n",
    "# Print the list created above\n",
    "print(names_uppercase)"
   ]
  },
  {
   "cell_type": "markdown",
   "id": "d161cfbe-64f4-4f08-a78b-d84ff62392c3",
   "metadata": {},
   "source": [
    "## The power of NumPy arrays\n",
    "\n",
    "\n",
    "\n",
    "\n",
    "**NumPy or Numerical Python, is an invaluable package for Data Scientists.  Its the fundamental package for scientific computing in Python and pvovides a number of benefits for writing efficient code.  In this course, we'll highlight one of the most imprtant advantages of NumPy, the NumPy array.  \n",
    "\n",
    "# NumPy arrays provides a fast and memory efficient alternative to Python lists.  NumPy arrays are homogeneous, which means that they must contanin elements of the same type.  \n",
    "\n",
    "We can see the type of each element using the .dtype() method.  \n",
    "\n",
    "\n"
   ]
  },
  {
   "cell_type": "code",
   "execution_count": 16,
   "id": "aa3943c1-87f8-4a2c-bda9-c645003da9bb",
   "metadata": {},
   "outputs": [
    {
     "data": {
      "text/plain": [
       "dtype('float64')"
      ]
     },
     "execution_count": 16,
     "metadata": {},
     "output_type": "execute_result"
    }
   ],
   "source": [
    "import numpy as np\n",
    "\n",
    "weight = [65.4, 59.2, 63.6, 88.4, 68.7]\n",
    "np_weight = np.array(weight)\n",
    "\n",
    "np_weight.dtype\n",
    "#print(dir(np_weight))\n",
    "\n",
    "\n",
    "# *****************************************************************************************************\n",
    "# Shape is a so-called attribute of the np2d array, that can give you more information about \n",
    "# what the data structure looks like.  Note that the syntax for access an attribute looks \n",
    "# a bit like calling a method, but they are not the same.  Remember that the method has \n",
    "# round brackets fater them and you can see here, the attribute do not.  \n"
   ]
  },
  {
   "cell_type": "markdown",
   "id": "c3d01505-ddd3-4455-bf23-ea9723ab15d6",
   "metadata": {},
   "source": [
    "# *****************************************************************************************************\n",
    "**Shape is a so-called attribute of the np2d array, that can give you more information about what the data structure looks like.  Note that the syntax for access an attribute looks a bit like calling a method, but they are not the same.  Remember that the method has round brackets after them and you can see here, the attribute do not.  \n"
   ]
  },
  {
   "cell_type": "code",
   "execution_count": 18,
   "id": "c0314f02-15bb-4997-b6f9-7c5e97c14c38",
   "metadata": {},
   "outputs": [
    {
     "data": {
      "text/plain": [
       "array([57.36, 65.  , 67.18,  1.  , 70.  ])"
      ]
     },
     "execution_count": 18,
     "metadata": {},
     "output_type": "execute_result"
    }
   ],
   "source": [
    "height = [57.36, 65, 67.18, True, 70]\n",
    "\n",
    "np_height = np.array(height)\n",
    "np_height"
   ]
  },
  {
   "cell_type": "markdown",
   "id": "5a23e5e5-3912-40c9-9503-92eec9aafc06",
   "metadata": {},
   "source": [
    "# **In above array, the integer and boolean are preceeding dot in the array, that because NumPy converts the integer and boolean to float to retain that array's homogeneous nature.  \n",
    "\n",
    "# Homogeneity allows NumPy array to be more memory efficient and faster than Python lists.  \n",
    "**Requiring all elements be the same type eliminates the overhead needed for data type checking.  \n",
    "\n",
    "\n",
    "\n",
    "\n",
    "# **When analyzing data, you often want to perform operations over entire collections of values quickly. \n",
    "\n",
    "# **# The second advantage of NumPy arrays is they broadcasting functionality.  NumPy arrays vectorize operations, so they are performed on all elements of an object at once.  Allows us to efficiently perform calculations over entire array.  \n",
    "\n",
    "\n",
    "**# Another advantange of NumPy arrays is their indexing capabilities.  When comparing basic indexing between a one-dimensional array and list, the capabilities are indentical.  \n",
    "\n",
    "**When using two-dimensional arrays and lists, the advantages of arrays are clear, the analogous list ayntax is a bit more verbose as you have to surround both indexing with square brackets.  \n",
    "\n",
    "**If we select all rows and last column of our 2 dimensional array, we can use colon to represent all rows and then index -1 to represent last column.  But list dont support this kind of syntax, so we must use a list comprehension to return columns. \n",
    "\n"
   ]
  },
  {
   "cell_type": "code",
   "execution_count": 36,
   "id": "63e5b28a-7fee-4acc-9f46-77375fd13e56",
   "metadata": {},
   "outputs": [
    {
     "data": {
      "text/plain": [
       "array([3.2901696e+03, 4.2250000e+03, 4.5131524e+03, 1.0000000e+00,\n",
       "       4.9000000e+03])"
      ]
     },
     "execution_count": 36,
     "metadata": {},
     "output_type": "execute_result"
    }
   ],
   "source": [
    "height = [57.36, 65, 67.18, True, 70]\n",
    "\n",
    "np_height = np.array(height)\n",
    "np_height_squd = np_height**2\n",
    "\n",
    "np_height_squd"
   ]
  },
  {
   "cell_type": "code",
   "execution_count": 42,
   "id": "878bfc25-bee1-4ad0-aa6f-3e69b85d0645",
   "metadata": {},
   "outputs": [
    {
     "name": "stdout",
     "output_type": "stream",
     "text": [
      "4\n",
      "4\n",
      "[4, 8]\n",
      "[1, 2, 3, 4]\n",
      "[4 8]\n"
     ]
    }
   ],
   "source": [
    "nums = [[1, 2, 3, 4], \n",
    "        [5, 6, 7, 8]]\n",
    "\n",
    "np_nums = np.array(nums)\n",
    "\n",
    "print(nums[0][-1])\n",
    "\n",
    "print(np_nums[0, -1])\n",
    "\n",
    "print([i[-1] for i in nums])\n",
    "print(nums[0])\n",
    "\n",
    "print(np_nums[:, -1])"
   ]
  },
  {
   "cell_type": "markdown",
   "id": "4a1c3d06-aced-48d3-ab73-c59eb2e1f009",
   "metadata": {},
   "source": [
    "\n",
    "# **NumPy array also have a special technique called boolean indexing, with an array, we can create a boolean just using a simple inequality.  Indexing the array is as simple as enclosing this inequality in square brackets.  \n",
    "\n",
    "\n",
    "\n"
   ]
  },
  {
   "cell_type": "code",
   "execution_count": 51,
   "id": "d245f86d-770c-4c18-8dd8-fda965933d12",
   "metadata": {},
   "outputs": [
    {
     "name": "stdout",
     "output_type": "stream",
     "text": [
      "[False False False  True  True]\n",
      "[88.4 68.7]\n"
     ]
    }
   ],
   "source": [
    "weight = [65.4, 59.2, 63.6, 88.4, 68.7]\n",
    "\n",
    "np_weight = np.array(weight)\n",
    "\n",
    "\n",
    "print(np_weight>66)\n",
    "\n",
    "print(np_weight[np_weight>66])"
   ]
  },
  {
   "cell_type": "code",
   "execution_count": 82,
   "id": "a6b02fc7-7ed0-4636-a49f-09bff5cf92ec",
   "metadata": {},
   "outputs": [
    {
     "name": "stdout",
     "output_type": "stream",
     "text": [
      "[False, False, False, True, True]\n",
      "[88.4, 68.7]\n"
     ]
    }
   ],
   "source": [
    "weight = [65.4, 59.2, 63.6, 88.4, 68.7]\n",
    "\n",
    "\n",
    "# *************************************************************************************************** #\n",
    "# *************************************************************************************************** #\n",
    "select_weight = [True if i>66 else False for i in weight]\n",
    "print(select_weight)\n",
    "\n",
    "# *************************************************************************************************** #\n",
    "# *************************************************************************************************** #\n",
    "sel_weight = [i for i in weight if i>66 ]\n",
    "print(sel_weight)"
   ]
  },
  {
   "cell_type": "markdown",
   "id": "20c72520-b570-4a6d-afd3-0ab769d38acf",
   "metadata": {},
   "source": [
    "## Practice with NumPy arrays\n",
    "\n",
    "# Let's practice slicing numpy arrays and using NumPy's broadcasting concept. Remember, broadcasting refers to a numpy array's ability to vectorize operations, so they are performed on all elements of an object at once.\n",
    "\n",
    "A two-dimensional numpy array has been loaded into your session (called nums) and printed into the console for your convenience. numpy has been imported into your session as np.\n",
    "Instructions 1/2\n",
    "50 XP\n",
    "\n",
    "    1 Question\n",
    "    Print the second row of nums.\n",
    "    Print the items of nums that are greater than six.\n",
    "    Create nums_dbl that doubles each number in nums.\n",
    "    Replace the third column in nums with a new column that adds 1 to each item in the original column.\n",
    "\n",
    "\n",
    "\n",
    "    2 Question\n",
    "    When compared to a list object, what are two advantages of using a numpy array?\n",
    "    Possible Answers\n",
    "\n",
    "    A numpy array is the only data structure that can be used with the numpy package and often has less verbose indexing syntax.\n",
    "#    A numpy array contains homogeneous data types (which reduces memory consumption) and provides the ability to apply operations on all elements through broadcasting.\n",
    "#    A numpy array supports boolean indexing and has much better one-dimensional indexing capabilities.\n",
    "    Both a list object and a numpy array are identical.\n",
    "    "
   ]
  },
  {
   "cell_type": "code",
   "execution_count": 9,
   "id": "62f2b8d5-de8b-4e9c-ac0a-fb0dc60d433f",
   "metadata": {},
   "outputs": [
    {
     "name": "stdout",
     "output_type": "stream",
     "text": [
      "[[ 1  2  3  4  5]\n",
      " [ 6  7  8  9 10]]\n",
      "\n",
      "[ 6  7  8  9 10]\n",
      "\n",
      "[ 7  8  9 10]\n",
      "\n",
      "[[ 2  4  6  8 10]\n",
      " [12 14 16 18 20]]\n",
      "\n",
      "[[ 1  2  4  4  5]\n",
      " [ 6  7  9  9 10]]\n"
     ]
    }
   ],
   "source": [
    "nums = [[1, 2, 3, 4, 5], \n",
    "        [6, 7, 8, 9, 10]]\n",
    "import numpy as np\n",
    "\n",
    "nums = np.array(nums)\n",
    "print(nums)\n",
    "print()\n",
    "\n",
    "# *************************************************************************************************** #\n",
    "# Print second row of nums\n",
    "print(nums[1,:])\n",
    "print()\n",
    "\n",
    "# Print all elements of nums that are greater than six\n",
    "print(nums[nums > 6])\n",
    "print()\n",
    "\n",
    "# Double every element of nums\n",
    "nums_dbl = nums * 2\n",
    "print(nums_dbl)\n",
    "print()\n",
    "\n",
    "# *************************************************************************************************** #\n",
    "# *************************************************************************************************** #\n",
    "# Replace the third column of nums\n",
    "nums[:,2] = nums[:,2] + 1\n",
    "print(nums)\n",
    "\n",
    "# *************************************************************************************************** #"
   ]
  },
  {
   "cell_type": "markdown",
   "id": "8a33c368-cb96-49e1-862c-39c2c26af067",
   "metadata": {},
   "source": [
    "## Bringing it all together: Festivus!\n",
    "\n",
    "In this exercise, you will be throwing a party—a Festivus if you will!\n",
    "\n",
    "You have a list of guests (the names list). Each guest, for whatever reason, has decided to show up to the party in 10-minute increments. For example, Jerry shows up to Festivus 10 minutes into the party's start time, Kramer shows up 20 minutes into the party, and so on and so forth.\n",
    "\n",
    "We want to write a few simple lines of code, using the built-ins we have covered, to welcome each of your guests and let them know how many minutes late they are to your party. Note that numpy has been imported into your session as np and the names list has been loaded as well.\n",
    "\n",
    "Let's welcome your guests!\n",
    "Instructions 1/4\n",
    "25 XP\n",
    "\n",
    "    1 Question\n",
    "    Use range() to create a list of arrival times (10 through 50 incremented by 10). Create the list arrival_times by unpacking the range object.\n",
    "Hint\n",
    "\n",
    "    range() accepts a start (inclusive), stop (exclusive), and step argument in that order.\n",
    "#    You can unpack the range object by placing a star character (*) in front of it; just like you've done in previous exercises.\n",
    "    \n",
    "    \n",
    "    \n",
    "    2 Question\n",
    "    You realize your clock is three minutes fast. Convert the arrival_times list into a numpy array (called arrival_times_np) and use NumPy broadcasting to subtract three minutes from each arrival time.\n",
    "    \n",
    "    \n",
    "    \n",
    "    3 Question\n",
    "#    Use list comprehension with enumerate() to pair each guest in the names list to their updated arrival time in the new_times array. You'll need to use the index variable created from using enumerate() on new_times to index the names list.\n",
    "    \n",
    "    \n",
    "    \n",
    "    4 Question\n",
    "    A function named welcome_guest() has been pre-loaded into your session. Use map() to apply this function to each element of the guest_arrivals list and save it as the variable welcome_map.\n"
   ]
  },
  {
   "cell_type": "code",
   "execution_count": 11,
   "id": "c1b82688-f734-4776-b04a-ce300e18ed18",
   "metadata": {},
   "outputs": [
    {
     "name": "stdout",
     "output_type": "stream",
     "text": [
      "[10, 20, 30, 40]\n"
     ]
    }
   ],
   "source": [
    "names = ['Jerry', 'Kramer', 'Elaine', 'George', 'Newman']\n",
    "\n",
    "\n",
    "# Create a list of arrival times\n",
    "arrival_times = [*range(10, 50, 10)]\n",
    "\n",
    "print(arrival_times)"
   ]
  },
  {
   "cell_type": "code",
   "execution_count": 12,
   "id": "50426cf7-3ace-4153-82f1-85223b60488f",
   "metadata": {},
   "outputs": [
    {
     "name": "stdout",
     "output_type": "stream",
     "text": [
      "[ 7 17 27 37 47]\n"
     ]
    }
   ],
   "source": [
    "# Create a list of arrival times\n",
    "arrival_times = [*range(10,60,10)]\n",
    "\n",
    "# Convert arrival_times to an array and update the times\n",
    "arrival_times_np = np.array(arrival_times)\n",
    "new_times = arrival_times_np - 3\n",
    "\n",
    "print(new_times)"
   ]
  },
  {
   "cell_type": "code",
   "execution_count": 13,
   "id": "d111d60f-0755-43c8-83be-914ec621b31d",
   "metadata": {},
   "outputs": [
    {
     "name": "stdout",
     "output_type": "stream",
     "text": [
      "[('Jerry', 7), ('Kramer', 17), ('Elaine', 27), ('George', 37), ('Newman', 47)]\n"
     ]
    }
   ],
   "source": [
    "# Create a list of arrival times\n",
    "arrival_times = [*range(10,60,10)]\n",
    "\n",
    "# Convert arrival_times to an array and update the times\n",
    "arrival_times_np = np.array(arrival_times)\n",
    "new_times = arrival_times_np - 3\n",
    "\n",
    "# Use list comprehension and enumerate to pair guests to new times\n",
    "guest_arrivals = [(names[i],time) for i,time in enumerate(new_times)]\n",
    "# *************************************************************************************************** #\n",
    "# *************************************************************************************************** #\n",
    "\n",
    "print(guest_arrivals)\n"
   ]
  },
  {
   "cell_type": "code",
   "execution_count": 14,
   "id": "682c2acb-f010-4688-a8f5-1eef278e791e",
   "metadata": {},
   "outputs": [
    {
     "name": "stdout",
     "output_type": "stream",
     "text": [
      "<map object at 0x7f289dbbc4c0>\n",
      "\n",
      "Welcome to Festivus Jerry... You've 7 min late\n",
      "Welcome to Festivus Kramer... You've 17 min late\n",
      "Welcome to Festivus Elaine... You've 27 min late\n",
      "Welcome to Festivus George... You've 37 min late\n",
      "Welcome to Festivus Newman... You've 47 min late\n"
     ]
    }
   ],
   "source": [
    "def welcome_guest(guest_and_time):\n",
    "    \n",
    "    \"\"\"Returns a welcome string for the guest_and_time tuple.\\n\n",
    "    \n",
    "    Args:\n",
    "      guest_and_time (tuple): The guest and time tuple to create\\n\n",
    "      a welcome string for.\n",
    "      \n",
    "    Returns:\n",
    "      welcome_string (str): A string welcoming the guest to Festivus.\n",
    "      'Welcome to Festivus {guest}... You're {time} min late.'\n",
    "    \"\"\"\n",
    "    guest = guest_and_time[0]\n",
    "    arrival_time = guest_and_time[1]\n",
    "    welcome_string = \"Welcome to Festivus {}... You're {} min late.\".format(guest,arrival_time)\n",
    "    return welcome_string\n",
    "\n",
    "\n",
    "#In [9]:\n",
    "#welcome_guest(guest_arrivals)\n",
    "#Out[9]:\n",
    "#\"Welcome to Festivus ('Jerry', 7)... You're ('Kramer', 17) min late.\"\n",
    "\n",
    "\n",
    "def welcome_guest(guest_and_time):\n",
    "\n",
    "    return f\"Welcome to Festivus {guest_and_time[0]}... You've {guest_and_time[1]} min late\"\n",
    "\n",
    "\n",
    "# Map the welcome_guest function to each (guest,time) pair\n",
    "welcome_map = map(welcome_guest, guest_arrivals)\n",
    "# *************************************************************************************************** #\n",
    "\n",
    "print(welcome_map)\n",
    "print()\n",
    "\n",
    "#print(*welcome_map)   # This function becomes a generator?\n",
    "\n",
    "guest_welcomes = [*welcome_map]\n",
    "print(*guest_welcomes, sep='\\n')\n"
   ]
  },
  {
   "cell_type": "raw",
   "id": "dbdb5693-ab59-45c1-a976-a56219dfd2af",
   "metadata": {
    "tags": []
   },
   "source": [
    "DataCamp IDE Return\n",
    "\n",
    "welcome_guest??\n",
    "\n",
    "{'text/plain': 'Signature: welcome_guest(guest_and_time)\\nDocstring:\\nReturns a welcome string for the guest_and_time tuple.\\n\\nArgs:\\n    guest_and_time (tuple): The guest and time tuple to create\\n        a welcome string for.\\n        \\nReturns:\\n    welcome_string (str): A string welcoming the guest to Festivus.\\n    \\'Welcome to Festivus {guest}... You\\'re {time} min late.\\'\\nSource:   \\ndef welcome_guest(guest_and_time):\\n    \"\"\"\\n    Returns a welcome string for the guest_and_time tuple.\\n    \\n    Args:\\n        guest_and_time (tuple): The guest and time tuple to create\\n            a welcome string for.\\n            \\n    Returns:\\n        welcome_string (str): A string welcoming the guest to Festivus.\\n        \\'Welcome to Festivus {guest}... You\\'re {time} min late.\\'\\n    \\n    \"\"\"\\n    guest = guest_and_time[0]\\n    arrival_time = guest_and_time[1]\\n    welcome_string = \"Welcome to Festivus {}... You\\'re {} min late.\".format(guest,arrival_time)\\n    return welcome_string\\nFile:      /tmp/tmpdqkos8y4/<ipython-input-1-286a427e45ef>\\nType:      function\\n'}"
   ]
  },
  {
   "cell_type": "code",
   "execution_count": 15,
   "id": "bb5057ff-1bfc-409a-95f0-d0e08990ca77",
   "metadata": {},
   "outputs": [
    {
     "name": "stdout",
     "output_type": "stream",
     "text": [
      "[('Jerry', 7), ('Kramer', 17), ('Elaine', 27), ('George', 37), ('Newman', 47)]\n",
      "Jerry\n",
      "['Jerry', 'Kramer', 'Elaine', 'George', 'Newman']\n"
     ]
    }
   ],
   "source": [
    "print(guest_arrivals)\n",
    "#print(dir(guest_arrivals))\n",
    "\n",
    "print(guest_arrivals[0][0])\n",
    "\n",
    "print([i[0] for i in guest_arrivals])"
   ]
  },
  {
   "cell_type": "code",
   "execution_count": 16,
   "id": "b88fbcef-e513-4c16-a6d1-c501242758e6",
   "metadata": {},
   "outputs": [
    {
     "name": "stdout",
     "output_type": "stream",
     "text": [
      "Welcome to Festivus Jerry... You've 7 min late\n",
      "Welcome to Festivus Kramer... You've 17 min late\n",
      "Welcome to Festivus Elaine... You've 27 min late\n",
      "Welcome to Festivus George... You've 37 min late\n",
      "Welcome to Festivus Newman... You've 47 min late\n",
      "\n",
      "Welcome to Festivus Jerry... You've 7 min late\n",
      "Welcome to Festivus Kramer... You've 17 min late\n",
      "Welcome to Festivus Elaine... You've 27 min late\n",
      "Welcome to Festivus George... You've 37 min late\n",
      "Welcome to Festivus Newman... You've 47 min late\n",
      "\n"
     ]
    },
    {
     "data": {
      "text/plain": [
       "[\"Wlcomes to Festivus Jerry... You've 7 min late\",\n",
       " \"Wlcomes to Festivus Kramer... You've 17 min late\",\n",
       " \"Wlcomes to Festivus Elaine... You've 27 min late\",\n",
       " \"Wlcomes to Festivus George... You've 37 min late\",\n",
       " \"Wlcomes to Festivus Newman... You've 47 min late\"]"
      ]
     },
     "execution_count": 16,
     "metadata": {},
     "output_type": "execute_result"
    }
   ],
   "source": [
    "def welcome_guest(guest_and_time):\n",
    "\n",
    "    for guest, time in guest_and_time:\n",
    "        print(f\"Welcome to Festivus {guest}... You've {time} min late\")\n",
    "        # ******************************************************************************************* #\n",
    "        # How can we do it with return? think about the difference between return and print\n",
    "        \n",
    "welcome_guest(guest_arrivals)\n",
    "print()\n",
    "\n",
    "# *************************************************************************************************** #\n",
    "for guest, time in guest_arrivals:\n",
    "    print(f\"Welcome to Festivus {guest}... You've {time} min late\")\n",
    "print()\n",
    "\n",
    "\n",
    "def welcome_guest(guest_and_time):\n",
    "\n",
    "#    for guest, time in guest_and_time:\n",
    "#        return f\"Welcome to Festivus {guest}... You've {time} min late\"\n",
    "# a generator? with not return keyword but yield maybe ?  should do some deeper studying\n",
    "# *************************************************************************************************** #\n",
    "    outcome = []\n",
    "    for i in guest_and_time:\n",
    "        outcome.append(f\"Wlcomes to Festivus {i[0]}... You've {i[1]} min late\")\n",
    "    return outcome\n",
    "    #return f\"Welcome to Festivus {guest_and_time[0]}... You've {guest_and_time[1]} min late\"\n",
    "    \n",
    "    \n",
    "welcome_guest(guest_arrivals)"
   ]
  },
  {
   "cell_type": "code",
   "execution_count": 76,
   "id": "ea966044-2887-4677-a2db-089a0f318449",
   "metadata": {},
   "outputs": [
    {
     "name": "stdout",
     "output_type": "stream",
     "text": [
      "hello? world!\n",
      "['__add__', '__class__', '__contains__', '__delattr__', '__dir__', '__doc__', '__eq__', '__format__', '__ge__', '__getattribute__', '__getitem__', '__getnewargs__', '__gt__', '__hash__', '__init__', '__init_subclass__', '__iter__', '__le__', '__len__', '__lt__', '__mod__', '__mul__', '__ne__', '__new__', '__reduce__', '__reduce_ex__', '__repr__', '__rmod__', '__rmul__', '__setattr__', '__sizeof__', '__str__', '__subclasshook__', 'capitalize', 'casefold', 'center', 'count', 'encode', 'endswith', 'expandtabs', 'find', 'format', 'format_map', 'index', 'isalnum', 'isalpha', 'isascii', 'isdecimal', 'isdigit', 'isidentifier', 'islower', 'isnumeric', 'isprintable', 'isspace', 'istitle', 'isupper', 'join', 'ljust', 'lower', 'lstrip', 'maketrans', 'partition', 'removeprefix', 'removesuffix', 'replace', 'rfind', 'rindex', 'rjust', 'rpartition', 'rsplit', 'rstrip', 'split', 'splitlines', 'startswith', 'strip', 'swapcase', 'title', 'translate', 'upper', 'zfill']\n"
     ]
    }
   ],
   "source": [
    "a = 'hello? '\n",
    "b = 'world!'\n",
    "print(a+b)\n",
    "\n",
    "print(dir(a))"
   ]
  },
  {
   "cell_type": "code",
   "execution_count": 17,
   "id": "8ff9d1ef-4d6e-4b3b-87fc-0676d6d40d5f",
   "metadata": {},
   "outputs": [
    {
     "name": "stdout",
     "output_type": "stream",
     "text": [
      "Wlcomes to Festivus Jerry... You've 7 min late! \n",
      "Wlcomes to Festivus Kramer... You've 17 min late! \n",
      "Wlcomes to Festivus Elaine... You've 27 min late! \n",
      "Wlcomes to Festivus George... You've 37 min late! \n",
      "Wlcomes to Festivus Newman... You've 47 min late! \n",
      "\n"
     ]
    }
   ],
   "source": [
    "def welcome_guest(guest_and_time):\n",
    "\n",
    "# *************************************************************************************************** #\n",
    "    outcome = str()\n",
    "    for i in guest_and_time:\n",
    "        outcome += f\"Wlcomes to Festivus {i[0]}... You've {i[1]} min late! \\n\"\n",
    "    return outcome\n",
    "\n",
    "str_outcome = welcome_guest(guest_arrivals)\n",
    "print(str_outcome)"
   ]
  },
  {
   "cell_type": "markdown",
   "id": "a27be796-228b-402b-b0b5-5f0587a9aea7",
   "metadata": {},
   "source": [
    "# *****************************************************************************************************"
   ]
  },
  {
   "cell_type": "code",
   "execution_count": null,
   "id": "9271c4ad-452d-4e9f-92aa-ced28331b0fc",
   "metadata": {},
   "outputs": [],
   "source": []
  },
  {
   "cell_type": "markdown",
   "id": "485698ca-e291-4f5e-a2f5-e664665eac79",
   "metadata": {},
   "source": [
    "## Examining runtime\n",
    "\n",
    "\n",
    "\n",
    "**In this lesson, we'll learn how to examine the runtime of our code.  As mentioned in the previous chapter, runtime is an important consideration when thinking about efficiency.  \n",
    "\n",
    "**IPyhon comes with some handy build-in magic commands we can use to time our code. %timeit.  The magic commands are enhancements that have been added on top of the normal Python syntax.  These commands are prefixed with the % sign, see all the magic commands with %lsmagic\n",
    "\n"
   ]
  },
  {
   "cell_type": "code",
   "execution_count": 198,
   "id": "b07b2baf-382e-4981-a4d5-2f3d0fe67a72",
   "metadata": {},
   "outputs": [
    {
     "data": {
      "application/json": {
       "cell": {
        "!": "OSMagics",
        "HTML": "Other",
        "SVG": "Other",
        "bash": "Other",
        "capture": "ExecutionMagics",
        "debug": "ExecutionMagics",
        "file": "Other",
        "html": "DisplayMagics",
        "javascript": "DisplayMagics",
        "js": "DisplayMagics",
        "latex": "DisplayMagics",
        "markdown": "DisplayMagics",
        "perl": "Other",
        "prun": "ExecutionMagics",
        "pypy": "Other",
        "python": "Other",
        "python2": "Other",
        "python3": "Other",
        "ruby": "Other",
        "script": "ScriptMagics",
        "sh": "Other",
        "svg": "DisplayMagics",
        "sx": "OSMagics",
        "system": "OSMagics",
        "time": "ExecutionMagics",
        "timeit": "ExecutionMagics",
        "writefile": "OSMagics"
       },
       "line": {
        "alias": "OSMagics",
        "alias_magic": "BasicMagics",
        "autoawait": "AsyncMagics",
        "autocall": "AutoMagics",
        "automagic": "AutoMagics",
        "autosave": "KernelMagics",
        "bookmark": "OSMagics",
        "cat": "Other",
        "cd": "OSMagics",
        "clear": "KernelMagics",
        "colors": "BasicMagics",
        "conda": "PackagingMagics",
        "config": "ConfigMagics",
        "connect_info": "KernelMagics",
        "cp": "Other",
        "debug": "ExecutionMagics",
        "dhist": "OSMagics",
        "dirs": "OSMagics",
        "doctest_mode": "BasicMagics",
        "ed": "Other",
        "edit": "KernelMagics",
        "env": "OSMagics",
        "gui": "BasicMagics",
        "hist": "Other",
        "history": "HistoryMagics",
        "killbgscripts": "ScriptMagics",
        "ldir": "Other",
        "less": "KernelMagics",
        "lf": "Other",
        "lk": "Other",
        "ll": "Other",
        "load": "CodeMagics",
        "load_ext": "ExtensionMagics",
        "loadpy": "CodeMagics",
        "logoff": "LoggingMagics",
        "logon": "LoggingMagics",
        "logstart": "LoggingMagics",
        "logstate": "LoggingMagics",
        "logstop": "LoggingMagics",
        "ls": "Other",
        "lsmagic": "BasicMagics",
        "lx": "Other",
        "macro": "ExecutionMagics",
        "magic": "BasicMagics",
        "man": "KernelMagics",
        "matplotlib": "PylabMagics",
        "mkdir": "Other",
        "more": "KernelMagics",
        "mv": "Other",
        "notebook": "BasicMagics",
        "page": "BasicMagics",
        "pastebin": "CodeMagics",
        "pdb": "ExecutionMagics",
        "pdef": "NamespaceMagics",
        "pdoc": "NamespaceMagics",
        "pfile": "NamespaceMagics",
        "pinfo": "NamespaceMagics",
        "pinfo2": "NamespaceMagics",
        "pip": "PackagingMagics",
        "popd": "OSMagics",
        "pprint": "BasicMagics",
        "precision": "BasicMagics",
        "prun": "ExecutionMagics",
        "psearch": "NamespaceMagics",
        "psource": "NamespaceMagics",
        "pushd": "OSMagics",
        "pwd": "OSMagics",
        "pycat": "OSMagics",
        "pylab": "PylabMagics",
        "qtconsole": "KernelMagics",
        "quickref": "BasicMagics",
        "recall": "HistoryMagics",
        "rehashx": "OSMagics",
        "reload_ext": "ExtensionMagics",
        "rep": "Other",
        "rerun": "HistoryMagics",
        "reset": "NamespaceMagics",
        "reset_selective": "NamespaceMagics",
        "rm": "Other",
        "rmdir": "Other",
        "run": "ExecutionMagics",
        "save": "CodeMagics",
        "sc": "OSMagics",
        "set_env": "OSMagics",
        "store": "StoreMagics",
        "sx": "OSMagics",
        "system": "OSMagics",
        "tb": "ExecutionMagics",
        "time": "ExecutionMagics",
        "timeit": "ExecutionMagics",
        "unalias": "OSMagics",
        "unload_ext": "ExtensionMagics",
        "who": "NamespaceMagics",
        "who_ls": "NamespaceMagics",
        "whos": "NamespaceMagics",
        "xdel": "NamespaceMagics",
        "xmode": "BasicMagics"
       }
      },
      "text/plain": [
       "Available line magics:\n",
       "%alias  %alias_magic  %autoawait  %autocall  %automagic  %autosave  %bookmark  %cat  %cd  %clear  %colors  %conda  %config  %connect_info  %cp  %debug  %dhist  %dirs  %doctest_mode  %ed  %edit  %env  %gui  %hist  %history  %killbgscripts  %ldir  %less  %lf  %lk  %ll  %load  %load_ext  %loadpy  %logoff  %logon  %logstart  %logstate  %logstop  %ls  %lsmagic  %lx  %macro  %magic  %man  %matplotlib  %mkdir  %more  %mv  %notebook  %page  %pastebin  %pdb  %pdef  %pdoc  %pfile  %pinfo  %pinfo2  %pip  %popd  %pprint  %precision  %prun  %psearch  %psource  %pushd  %pwd  %pycat  %pylab  %qtconsole  %quickref  %recall  %rehashx  %reload_ext  %rep  %rerun  %reset  %reset_selective  %rm  %rmdir  %run  %save  %sc  %set_env  %store  %sx  %system  %tb  %time  %timeit  %unalias  %unload_ext  %who  %who_ls  %whos  %xdel  %xmode\n",
       "\n",
       "Available cell magics:\n",
       "%%!  %%HTML  %%SVG  %%bash  %%capture  %%debug  %%file  %%html  %%javascript  %%js  %%latex  %%markdown  %%perl  %%prun  %%pypy  %%python  %%python2  %%python3  %%ruby  %%script  %%sh  %%svg  %%sx  %%system  %%time  %%timeit  %%writefile\n",
       "\n",
       "Automagic is ON, % prefix IS NOT needed for line magics."
      ]
     },
     "execution_count": 198,
     "metadata": {},
     "output_type": "execute_result"
    }
   ],
   "source": [
    "%lsmagic"
   ]
  },
  {
   "cell_type": "code",
   "execution_count": 203,
   "id": "895f410a-66f2-4e3d-8bd7-a51735d69221",
   "metadata": {},
   "outputs": [
    {
     "name": "stdout",
     "output_type": "stream",
     "text": [
      "CPU times: user 2 µs, sys: 1e+03 ns, total: 3 µs\n",
      "Wall time: 6.68 µs\n",
      "[0.66125308 0.65303654 0.15436973 0.23602073 0.75578688]\n"
     ]
    }
   ],
   "source": [
    "%time\n",
    "\n",
    "import numpy as np\n",
    "\n",
    "rand_nums = np.random.rand(1000)\n",
    "print(rand_nums[:5])"
   ]
  },
  {
   "cell_type": "code",
   "execution_count": 9,
   "id": "a855ce1e-50c9-4fa5-a72c-f2e777d882e6",
   "metadata": {},
   "outputs": [
    {
     "name": "stdout",
     "output_type": "stream",
     "text": [
      "17.8 µs ± 203 ns per loop (mean ± std. dev. of 7 runs, 100000 loops each)\n",
      "[0.76291336 0.70731689 0.07369344 0.31056904 0.16007574]\n",
      "<class 'numpy.ndarray'>\n"
     ]
    }
   ],
   "source": [
    "import numpy as np\n",
    "\n",
    "%timeit rand_nums = np.random.rand(1000)\n",
    "\n",
    "rand_nums = np.random.rand(1000)\n",
    "print(rand_nums[:5])\n",
    "print(type(rand_nums))"
   ]
  },
  {
   "cell_type": "code",
   "execution_count": 10,
   "id": "04a9cd46-5798-4ead-9298-57eec40226e5",
   "metadata": {},
   "outputs": [
    {
     "data": {
      "text/plain": [
       "\u001b[0;31mDocstring:\u001b[0m\n",
       "rand(d0, d1, ..., dn)\n",
       "\n",
       "Random values in a given shape.\n",
       "\n",
       ".. note::\n",
       "    This is a convenience function for users porting code from Matlab,\n",
       "    and wraps `random_sample`. That function takes a\n",
       "    tuple to specify the size of the output, which is consistent with\n",
       "    other NumPy functions like `numpy.zeros` and `numpy.ones`.\n",
       "\n",
       "Create an array of the given shape and populate it with\n",
       "random samples from a uniform distribution\n",
       "over ``[0, 1)``.\n",
       "\n",
       "Parameters\n",
       "----------\n",
       "d0, d1, ..., dn : int, optional\n",
       "    The dimensions of the returned array, must be non-negative.\n",
       "    If no argument is given a single Python float is returned.\n",
       "\n",
       "Returns\n",
       "-------\n",
       "out : ndarray, shape ``(d0, d1, ..., dn)``\n",
       "    Random values.\n",
       "\n",
       "See Also\n",
       "--------\n",
       "random\n",
       "\n",
       "Examples\n",
       "--------\n",
       ">>> np.random.rand(3,2)\n",
       "array([[ 0.14022471,  0.96360618],  #random\n",
       "       [ 0.37601032,  0.25528411],  #random\n",
       "       [ 0.49313049,  0.94909878]]) #random\n",
       "\u001b[0;31mType:\u001b[0m      builtin_function_or_method\n"
      ]
     },
     "metadata": {},
     "output_type": "display_data"
    }
   ],
   "source": [
    "?np.random.rand"
   ]
  },
  {
   "cell_type": "markdown",
   "id": "44cd302c-3687-4c14-9279-04dbf1f2ee41",
   "metadata": {},
   "source": [
    "# **One advantage to using %timeit is the fact that it provides an average of timing statistics.  \n",
    "\n",
    "**Notice that the output provides a mean and standard deviation of time.  We also see that multiple runs and loops were generated.  \n",
    "\n",
    "# %timeit runs through the provided code multiple times to estimatethe code's execution time.  This provides a more accurate representation of the actual runtime.  \n",
    "\n",
    "\n",
    "\n",
    "**The number of runs represents how many iterations you'd like to use to estimate the runtime.  The number of loops represents how many times you'd like the code to be executed per run.  \n",
    "\n",
    "# **We can specify the number of runs using the -r flag, and the number of loops using the -n flag\n"
   ]
  },
  {
   "cell_type": "code",
   "execution_count": 1,
   "id": "3c3a7049-da2e-4b0c-8ccb-ed734c8f6fa3",
   "metadata": {},
   "outputs": [
    {
     "name": "stdout",
     "output_type": "stream",
     "text": [
      "20.4 µs ± 3.11 µs per loop (mean ± std. dev. of 10 runs, 1000 loops each)\n"
     ]
    }
   ],
   "source": [
    "import numpy as np\n",
    "\n",
    "\n",
    "%timeit -r10 -n1000 rand_nums = np.random.rand(1000)\n",
    "#print(rand_nums[:5])\n",
    "#print(type(rand_nums))"
   ]
  },
  {
   "cell_type": "markdown",
   "id": "3143b999-0345-4a66-a564-2576a6ede879",
   "metadata": {},
   "source": [
    "# **Another cool feature of %timeit is its ability to run on single or multiple lines of code. \n",
    "\n",
    "\n",
    "  **When using %timeit in line magic code, or with a single line of code, one percentage sign is used.  Similarly we can run %timeit in cell magic mode.  (or provide multiple lines of code.) by using two percentage signs. %%timeit\n",
    "  "
   ]
  },
  {
   "cell_type": "code",
   "execution_count": 2,
   "id": "9c1ead31-9bd2-42bc-b501-1f36e313c104",
   "metadata": {},
   "outputs": [
    {
     "name": "stdout",
     "output_type": "stream",
     "text": [
      "152 µs ± 933 ns per loop (mean ± std. dev. of 7 runs, 10000 loops each)\n"
     ]
    }
   ],
   "source": [
    "%%timeit\n",
    "\n",
    "nums = []\n",
    "for i in range(1000):\n",
    "    nums.append(i)"
   ]
  },
  {
   "cell_type": "markdown",
   "id": "e7d62fab-a306-4aa1-a9de-33e669141132",
   "metadata": {},
   "source": [
    "# We can save the output of %timeit into a variable using the -o flag.  \n",
    "\n",
    "\n",
    "\n",
    "**This allows us to dig deeper into the output and see things like the time for each run, the best for all runs, and the worst time for all runs.  \n"
   ]
  },
  {
   "cell_type": "code",
   "execution_count": 3,
   "id": "a5f5d7fd-0f9e-40dd-a62d-4b669baece17",
   "metadata": {},
   "outputs": [
    {
     "name": "stdout",
     "output_type": "stream",
     "text": [
      "18.1 µs ± 284 ns per loop (mean ± std. dev. of 7 runs, 100000 loops each)\n"
     ]
    }
   ],
   "source": [
    "import numpy as np\n",
    "\n",
    "times = %timeit -o rand_nums = np.random.rand(1000)"
   ]
  },
  {
   "cell_type": "code",
   "execution_count": 5,
   "id": "13a30158-82fc-438b-ae75-4a5be85294f7",
   "metadata": {},
   "outputs": [
    {
     "data": {
      "text/plain": [
       "[1.7756067299924325e-05,\n",
       " 1.8325870239932556e-05,\n",
       " 1.8093979990080697e-05,\n",
       " 1.7981149010010995e-05,\n",
       " 1.8588930539990544e-05,\n",
       " 1.781848231999902e-05,\n",
       " 1.782109755993588e-05]"
      ]
     },
     "execution_count": 5,
     "metadata": {},
     "output_type": "execute_result"
    }
   ],
   "source": [
    "# the time for each run\n",
    "\n",
    "times.timings"
   ]
  },
  {
   "cell_type": "code",
   "execution_count": 6,
   "id": "d38ab9b5-49e0-4ae8-b51c-35faad4063e2",
   "metadata": {},
   "outputs": [
    {
     "data": {
      "text/plain": [
       "1.7756067299924325e-05"
      ]
     },
     "execution_count": 6,
     "metadata": {},
     "output_type": "execute_result"
    }
   ],
   "source": [
    "times.best"
   ]
  },
  {
   "cell_type": "code",
   "execution_count": 7,
   "id": "d3fd471b-232e-43fc-a640-0ab427076525",
   "metadata": {},
   "outputs": [
    {
     "data": {
      "text/plain": [
       "1.8588930539990544e-05"
      ]
     },
     "execution_count": 7,
     "metadata": {},
     "output_type": "execute_result"
    }
   ],
   "source": [
    "times.worst"
   ]
  },
  {
   "cell_type": "markdown",
   "id": "bbabb778-cca2-4909-9ffe-f1423a5aa5cc",
   "metadata": {},
   "source": [
    "# Comapring times on some of Python's build in data structures.  \n",
    "\n"
   ]
  },
  {
   "cell_type": "code",
   "execution_count": 14,
   "id": "6a965ccc-858e-40ff-955b-1f8f6d9e503e",
   "metadata": {},
   "outputs": [
    {
     "name": "stdout",
     "output_type": "stream",
     "text": [
      "<class 'str'>\n",
      "['__add__', '__class__', '__contains__', '__delattr__', '__dir__', '__doc__', '__eq__', '__format__', '__ge__', '__getattribute__', '__getitem__', '__getnewargs__', '__gt__', '__hash__', '__init__', '__init_subclass__', '__iter__', '__le__', '__len__', '__lt__', '__mod__', '__mul__', '__ne__', '__new__', '__reduce__', '__reduce_ex__', '__repr__', '__rmod__', '__rmul__', '__setattr__', '__sizeof__', '__str__', '__subclasshook__', 'capitalize', 'casefold', 'center', 'count', 'encode', 'endswith', 'expandtabs', 'find', 'format', 'format_map', 'index', 'isalnum', 'isalpha', 'isascii', 'isdecimal', 'isdigit', 'isidentifier', 'islower', 'isnumeric', 'isprintable', 'isspace', 'istitle', 'isupper', 'join', 'ljust', 'lower', 'lstrip', 'maketrans', 'partition', 'removeprefix', 'removesuffix', 'replace', 'rfind', 'rindex', 'rjust', 'rpartition', 'rsplit', 'rstrip', 'split', 'splitlines', 'startswith', 'strip', 'swapcase', 'title', 'translate', 'upper', 'zfill']\n"
     ]
    }
   ],
   "source": [
    "a = 'John'\n",
    "\n",
    "print(type(a))\n",
    "print(dir(a))\n",
    "# we found the str object has a 'upper' method, index[-2]. use it in below with map function"
   ]
  },
  {
   "cell_type": "markdown",
   "id": "63885053-ac5f-4ffd-a0d8-4816e4666598",
   "metadata": {},
   "source": [
    "# Python allows us to create these data structures using: formal name and literal syntax, but be careful, when iterate elements from an object,\n",
    "# formal name can iterable all the elements of object and put in a container, but literal syntax like [], {}, (), can not\n",
    "\n",
    "\n",
    "# *************************************************************************************************** #\n",
    "**An iterable is any Python object capable of returning its members one at a time, permitting it to be iterated over in a for-loop."
   ]
  },
  {
   "cell_type": "code",
   "execution_count": 19,
   "id": "420be37d-4ff1-4fa7-a4f1-5ecea0ccfd59",
   "metadata": {},
   "outputs": [
    {
     "name": "stdout",
     "output_type": "stream",
     "text": [
      "['__add__', '__class__', '__class_getitem__', '__contains__', '__delattr__', '__delitem__', '__dir__', '__doc__', '__eq__', '__format__', '__ge__', '__getattribute__', '__getitem__', '__gt__', '__hash__', '__iadd__', '__imul__', '__init__', '__init_subclass__', '__iter__', '__le__', '__len__', '__lt__', '__mul__', '__ne__', '__new__', '__reduce__', '__reduce_ex__', '__repr__', '__reversed__', '__rmul__', '__setattr__', '__setitem__', '__sizeof__', '__str__', '__subclasshook__', 'append', 'clear', 'copy', 'count', 'extend', 'index', 'insert', 'pop', 'remove', 'reverse', 'sort']\n"
     ]
    }
   ],
   "source": [
    "print(dir(names))"
   ]
  },
  {
   "cell_type": "code",
   "execution_count": 20,
   "id": "639fac2c-829b-435d-8acd-f0391b8fbf67",
   "metadata": {},
   "outputs": [
    {
     "name": "stdout",
     "output_type": "stream",
     "text": [
      "['JERRY', 'KRAMER', 'ELAINE', 'GEORGE', 'NEWMAN']\n",
      "['jerry', 'kramer', 'elaine', 'george', 'newman']\n"
     ]
    }
   ],
   "source": [
    "\n",
    "\n",
    "our_list = list()\n",
    "our_dict = dict()\n",
    "our_tuple = tuple()\n",
    "\n",
    "names = ['Jerry', 'Kramer', 'Elaine', 'George', 'Newman']\n",
    "# *************************************************************************************************** #\n",
    "new_names = list(map(str.upper, names))\n",
    "print(new_names)\n",
    "# *************************************************************************************************** #\n",
    "nn_names = [*map(str.lower, names)]\n",
    "print(nn_names)\n",
    "# Can you see the difference? why? because map function gives us a \n",
    "\n",
    "#nnn_names = names.apply(str.upper)   # 'list' object has no attribute 'apply'\n",
    "#print(nnn_names)\n",
    "\n",
    "\n",
    "# or shorthand called literal syntax\n",
    "# but be careful, when iterate elements from object,\n",
    "# literal syntax only gives you a basket to contain all stuff\n",
    "our_list = []\n",
    "our_dict = {}\n",
    "our_tuple = ()"
   ]
  },
  {
   "cell_type": "code",
   "execution_count": 23,
   "id": "f353802e-f689-49b8-b1e5-f935308a89cb",
   "metadata": {},
   "outputs": [
    {
     "name": "stdout",
     "output_type": "stream",
     "text": [
      "237 ns ± 5.04 ns per loop (mean ± std. dev. of 7 runs, 1000000 loops each)\n"
     ]
    }
   ],
   "source": [
    "f_time = %timeit -o formal_dict = dict()"
   ]
  },
  {
   "cell_type": "code",
   "execution_count": 24,
   "id": "0858b901-b0b9-4aaa-b605-9f3a15f32b8f",
   "metadata": {},
   "outputs": [
    {
     "name": "stdout",
     "output_type": "stream",
     "text": [
      "94.6 ns ± 0.17 ns per loop (mean ± std. dev. of 7 runs, 10000000 loops each)\n"
     ]
    }
   ],
   "source": [
    "l_time = %timeit -o literal_dict = {}"
   ]
  },
  {
   "cell_type": "code",
   "execution_count": 30,
   "id": "d1f11aaa-9e00-4bff-b63c-5956a3cc3313",
   "metadata": {},
   "outputs": [
    {
     "name": "stdout",
     "output_type": "stream",
     "text": [
      "['__class__', '__delattr__', '__dict__', '__dir__', '__doc__', '__eq__', '__format__', '__ge__', '__getattribute__', '__gt__', '__hash__', '__init__', '__init_subclass__', '__le__', '__lt__', '__module__', '__ne__', '__new__', '__reduce__', '__reduce_ex__', '__repr__', '__setattr__', '__sizeof__', '__str__', '__subclasshook__', '__weakref__', '_precision', '_repr_pretty_', 'all_runs', 'average', 'best', 'compile_time', 'loops', 'repeat', 'stdev', 'timings', 'worst']\n"
     ]
    }
   ],
   "source": [
    "print(dir(l_time))"
   ]
  },
  {
   "cell_type": "code",
   "execution_count": 31,
   "id": "202d2529-7a24-4e24-856f-f534255fcb17",
   "metadata": {},
   "outputs": [
    {
     "name": "stdout",
     "output_type": "stream",
     "text": [
      "l_dict is better than f_dict by 142.6964152142838 ns\n"
     ]
    }
   ],
   "source": [
    "diff = (f_time.average - l_time.average)*(10**9)\n",
    "\n",
    "print(\"l_dict is better than f_dict by {} ns\".format(diff))"
   ]
  },
  {
   "cell_type": "markdown",
   "id": "53facb04-418b-46b7-8c8f-165d71cb7f95",
   "metadata": {},
   "source": [
    "## Using %timeit: your turn!\n",
    "\n",
    "You'd like to create a list of integers from 0 to 50 using the range() function. However, you are unsure whether using list comprehension or unpacking the range object into a list is faster. Let's use %timeit to find the best implementation.\n",
    "\n",
    "For your convenience, a reference table of time orders of magnitude is provided below (faster at the top).\n",
    "symbol \tname \tunit (s)\n",
    "ns \tnanosecond \t10-9\n",
    "µs (us) \tmicrosecond \t10-6\n",
    "ms \tmillisecond \t10-3\n",
    "s \tsecond \t100\n",
    "Instructions 1/3\n",
    "35 XP\n",
    "\n",
    "    1 Question\n",
    "    Use list comprehension and range() to create a list of integers from 0 to 50 called nums_list_comp.\n",
    "    \n",
    "    \n",
    "    \n",
    "    2 Question\n",
    "    Use range() to create a list of integers from 0 to 50 and unpack its contents into a list called nums_unpack.\n",
    "    \n",
    "    \n",
    "    \n",
    "    3 Question\n",
    "    Use %timeit within your IPython console to compare the runtimes for creating a list of integers from 0 to 50 using list comprehension vs. unpacking the range object. Don't include the print() statements when timing.\n",
    "\n",
    "    Which method was faster?\n"
   ]
  },
  {
   "cell_type": "code",
   "execution_count": 32,
   "id": "ccacc635-8121-49aa-8411-c4107e0385fc",
   "metadata": {},
   "outputs": [
    {
     "name": "stdout",
     "output_type": "stream",
     "text": [
      "[0, 1, 2, 3, 4, 5, 6, 7, 8, 9, 10, 11, 12, 13, 14, 15, 16, 17, 18, 19, 20, 21, 22, 23, 24, 25, 26, 27, 28, 29, 30, 31, 32, 33, 34, 35, 36, 37, 38, 39, 40, 41, 42, 43, 44, 45, 46, 47, 48, 49, 50]\n"
     ]
    }
   ],
   "source": [
    "# Create a list of integers (0-50) using list comprehension\n",
    "nums_list_comp = [num for num in range(51)]\n",
    "print(nums_list_comp)"
   ]
  },
  {
   "cell_type": "code",
   "execution_count": 3,
   "id": "a5a3d1ef-7b84-4b08-bbce-72efa1614c94",
   "metadata": {},
   "outputs": [
    {
     "name": "stdout",
     "output_type": "stream",
     "text": [
      "7.31 µs ± 228 ns per loop (mean ± std. dev. of 7 runs, 100000 loops each)\n"
     ]
    },
    {
     "ename": "NameError",
     "evalue": "name 'f_list' is not defined",
     "output_type": "error",
     "traceback": [
      "\u001b[0;31m---------------------------------------------------------------------------\u001b[0m",
      "\u001b[0;31mNameError\u001b[0m                                 Traceback (most recent call last)",
      "\u001b[0;32m/tmp/ipykernel_12291/467702423.py\u001b[0m in \u001b[0;36m<module>\u001b[0;34m\u001b[0m\n\u001b[1;32m      3\u001b[0m \u001b[0;31m# *************************************************************************************************** #\u001b[0m\u001b[0;34m\u001b[0m\u001b[0;34m\u001b[0m\u001b[0;34m\u001b[0m\u001b[0m\n\u001b[1;32m      4\u001b[0m \u001b[0;31m# Why cant we print f_list after above line?\u001b[0m\u001b[0;34m\u001b[0m\u001b[0;34m\u001b[0m\u001b[0;34m\u001b[0m\u001b[0m\n\u001b[0;32m----> 5\u001b[0;31m \u001b[0mprint\u001b[0m\u001b[0;34m(\u001b[0m\u001b[0mf_list\u001b[0m\u001b[0;34m)\u001b[0m\u001b[0;34m\u001b[0m\u001b[0;34m\u001b[0m\u001b[0m\n\u001b[0m",
      "\u001b[0;31mNameError\u001b[0m: name 'f_list' is not defined"
     ]
    }
   ],
   "source": [
    "f_time = %timeit -o  f_list = list(num for num in range(51))\n",
    "\n",
    "# *************************************************************************************************** #\n",
    "# Why cant we print f_list after above line?  \n",
    "print(f_list)"
   ]
  },
  {
   "cell_type": "code",
   "execution_count": 91,
   "id": "5d74770e-eaca-4017-9875-6923de8034d1",
   "metadata": {},
   "outputs": [
    {
     "name": "stdout",
     "output_type": "stream",
     "text": [
      "4.82 µs ± 268 ns per loop (mean ± std. dev. of 7 runs, 100000 loops each)\n"
     ]
    },
    {
     "ename": "NameError",
     "evalue": "name 'l_list' is not defined",
     "output_type": "error",
     "traceback": [
      "\u001b[0;31m---------------------------------------------------------------------------\u001b[0m",
      "\u001b[0;31mNameError\u001b[0m                                 Traceback (most recent call last)",
      "\u001b[0;32m/tmp/ipykernel_1881/923480130.py\u001b[0m in \u001b[0;36m<module>\u001b[0;34m\u001b[0m\n\u001b[1;32m      1\u001b[0m \u001b[0ml_time\u001b[0m \u001b[0;34m=\u001b[0m \u001b[0mget_ipython\u001b[0m\u001b[0;34m(\u001b[0m\u001b[0;34m)\u001b[0m\u001b[0;34m.\u001b[0m\u001b[0mrun_line_magic\u001b[0m\u001b[0;34m(\u001b[0m\u001b[0;34m'timeit'\u001b[0m\u001b[0;34m,\u001b[0m \u001b[0;34m'-o  l_list = [num for num in range(51)]'\u001b[0m\u001b[0;34m)\u001b[0m\u001b[0;34m\u001b[0m\u001b[0;34m\u001b[0m\u001b[0m\n\u001b[1;32m      2\u001b[0m \u001b[0;34m\u001b[0m\u001b[0m\n\u001b[0;32m----> 3\u001b[0;31m \u001b[0mprint\u001b[0m\u001b[0;34m(\u001b[0m\u001b[0ml_list\u001b[0m\u001b[0;34m)\u001b[0m\u001b[0;34m\u001b[0m\u001b[0;34m\u001b[0m\u001b[0m\n\u001b[0m",
      "\u001b[0;31mNameError\u001b[0m: name 'l_list' is not defined"
     ]
    }
   ],
   "source": [
    "l_time = %timeit -o  l_list = [num for num in range(51)]\n",
    "\n",
    "print(l_list)"
   ]
  },
  {
   "cell_type": "code",
   "execution_count": 22,
   "id": "66270d14-7da1-438c-b065-99b7ba8cba89",
   "metadata": {},
   "outputs": [
    {
     "name": "stdout",
     "output_type": "stream",
     "text": [
      "[0, 1, 2, 3, 4, 5, 6, 7, 8, 9, 10, 11, 12, 13, 14, 15, 16, 17, 18, 19, 20, 21, 22, 23, 24, 25, 26, 27, 28, 29, 30, 31, 32, 33, 34, 35, 36, 37, 38, 39, 40, 41, 42, 43, 44, 45, 46, 47, 48, 49, 50]\n",
      "[0, 1, 2, 3, 4, 5, 6, 7, 8, 9, 10, 11, 12, 13, 14, 15, 16, 17, 18, 19, 20, 21, 22, 23, 24, 25, 26, 27, 28, 29, 30, 31, 32, 33, 34, 35, 36, 37, 38, 39, 40, 41, 42, 43, 44, 45, 46, 47, 48, 49, 50]\n",
      "[[0, 1, 2, 3, 4, 5, 6, 7, 8, 9, 10, 11, 12, 13, 14, 15, 16, 17, 18, 19, 20, 21, 22, 23, 24, 25, 26, 27, 28, 29, 30, 31, 32, 33, 34, 35, 36, 37, 38, 39, 40, 41, 42, 43, 44, 45, 46, 47, 48, 49, 50]]\n"
     ]
    }
   ],
   "source": [
    "# Use range() to create a list of integers from 0 to 50 and unpack its contents into a list \n",
    "# called nums_unpack.\n",
    "\n",
    "# Create a list of integers (0-50) using list comprehension\n",
    "nums_list_comp = [num for num in range(51)]\n",
    "print(nums_list_comp)\n",
    "\n",
    "# Create a list of integers (0-50) by unpacking range\n",
    "nums_unpack = [*nums_list_comp]\n",
    "print(nums_unpack)\n",
    "\n",
    "\n",
    "# *************************************************************************************************** #\n",
    "print([nums_list_comp])"
   ]
  },
  {
   "cell_type": "code",
   "execution_count": 51,
   "id": "e7a87e95-9fae-4649-844b-b43a819edfae",
   "metadata": {},
   "outputs": [
    {
     "name": "stdout",
     "output_type": "stream",
     "text": [
      "4.73 µs ± 67.7 ns per loop (mean ± std. dev. of 7 runs, 100000 loops each)\n"
     ]
    }
   ],
   "source": [
    "comprehension_list_time = %timeit -o  nums_list_comp = [num for num in range(51)]"
   ]
  },
  {
   "cell_type": "code",
   "execution_count": 52,
   "id": "bf717ac4-773a-48d1-a81a-508373fd3f0c",
   "metadata": {},
   "outputs": [
    {
     "name": "stdout",
     "output_type": "stream",
     "text": [
      "223 ns ± 5.42 ns per loop (mean ± std. dev. of 7 runs, 1000000 loops each)\n"
     ]
    }
   ],
   "source": [
    "unpacking_list_time = %timeit -o  nums_unpack = [*(nums_list_comp)]"
   ]
  },
  {
   "cell_type": "markdown",
   "id": "96565aaf-23f2-4d94-983f-4a1b49f21765",
   "metadata": {},
   "source": [
    "# ns \t\tnanosecond \t\t10-9\n",
    "# µs (us) \tmicrosecond \t10-6\n",
    "\n",
    "\n",
    "# *************************************************************************************************** #\n",
    "# So ns means less time spending, but why?  And wahts the point doing this?  What we want to know? "
   ]
  },
  {
   "cell_type": "code",
   "execution_count": 53,
   "id": "1c17f928-1722-4260-9229-4a2877b6327d",
   "metadata": {},
   "outputs": [
    {
     "name": "stdout",
     "output_type": "stream",
     "text": [
      "7.22 µs ± 69.1 ns per loop (mean ± std. dev. of 7 runs, 100000 loops each)\n"
     ]
    }
   ],
   "source": [
    "unpacking_and_comprehension_list_time = %timeit -o  nums_unpack = [*(i for i in range(51))]"
   ]
  },
  {
   "cell_type": "code",
   "execution_count": 26,
   "id": "e16e06dd-1714-42f1-85e9-70917afbf865",
   "metadata": {},
   "outputs": [
    {
     "name": "stdout",
     "output_type": "stream",
     "text": [
      "716 ns ± 6.89 ns per loop (mean ± std. dev. of 7 runs, 1000000 loops each)\n",
      "0 1 2 3 4 5 6 7 8 9 10 11 12 13 14 15 16 17 18 19 20 21 22 23 24 25 26 27 28 29 30 31 32 33 34 35 36 37 38 39 40 41 42 43 44 45 46 47 48 49 50\n"
     ]
    }
   ],
   "source": [
    "%timeit generate_list = (i for i in range(51))\n",
    "# Return error if we print(generate_list)\n",
    "# NameError: name 'generate_list' is not defined\n",
    "# *************************************************************************************************** #\n",
    "\n",
    "\n",
    "#generator_list_time = %timeit -o  generate_list = (i for i in range(51))\n",
    "\n",
    "\n",
    "generate_list = (i for i in range(51))\n",
    "\n",
    "\n",
    "print(*generate_list)"
   ]
  },
  {
   "cell_type": "markdown",
   "id": "825c72b9-bf6f-4d5b-98a3-3742bdbc6c4e",
   "metadata": {},
   "source": [
    "# *****************************************************************************************************\n",
    "# *****************************************************************************************************\n",
    "# Generator can only be unpacking once, interesting\n"
   ]
  },
  {
   "cell_type": "code",
   "execution_count": 1,
   "id": "3c7fd018-5eb4-43c4-b4aa-05a07555b6dd",
   "metadata": {},
   "outputs": [
    {
     "name": "stdout",
     "output_type": "stream",
     "text": [
      "<generator object <genexpr> at 0x7f468e129e40>\n",
      "[0, 1, 2, 3, 4, 5, 6, 7, 8, 9, 10, 11, 12, 13, 14, 15, 16, 17, 18, 19, 20, 21, 22, 23, 24, 25, 26, 27, 28, 29, 30, 31, 32, 33, 34, 35, 36, 37, 38, 39, 40, 41, 42, 43, 44, 45, 46, 47, 48, 49, 50]\n"
     ]
    }
   ],
   "source": [
    "generate_list = (i for i in range(51))\n",
    "\n",
    "print(generate_list)\n",
    "\n",
    "# *************************************************************************************************** #\n",
    "#print(*(generate_list))       # **********************************************************************\n",
    "new_list = [*generate_list]  # Generator can only be unpacking once, interesting\n",
    "print(new_list)\n",
    "\n",
    "\n",
    "#print(list(*(generate_list)))  # TypeError: list expected at most 1 argument, got 51"
   ]
  },
  {
   "cell_type": "code",
   "execution_count": 5,
   "id": "0a35846c-2c39-4e3f-a316-02b567e17e79",
   "metadata": {},
   "outputs": [
    {
     "name": "stdout",
     "output_type": "stream",
     "text": [
      "272 ns ± 1.39 ns per loop (mean ± std. dev. of 7 runs, 1000000 loops each)\n",
      "[]\n"
     ]
    }
   ],
   "source": [
    "# *************************************************************************************************** #\n",
    "\n",
    "generate_list = (i for i in range(51))  # 717 ns\n",
    "\n",
    "list_unpacking_time = %timeit -o generate_unpack = [*generate_list]  # 275 ns\n",
    "\n",
    "# *************************************************************************************************** #\n",
    "# Creating generator cost 717 ns, unpacking generator elements into list cost 275 ns, \n",
    "# Can we think it aa relative efficiency solution?  and generator can handle data size over memory\n",
    "# *************************************************************************************************** #\n",
    "new_list = [*generate_list]\n",
    "print(new_list)"
   ]
  },
  {
   "cell_type": "code",
   "execution_count": 1,
   "id": "6a9e5998-7021-4746-819f-675585beff02",
   "metadata": {},
   "outputs": [
    {
     "name": "stdout",
     "output_type": "stream",
     "text": [
      "4.54 µs ± 40.4 ns per loop (mean ± std. dev. of 7 runs, 100000 loops each)\n"
     ]
    },
    {
     "ename": "NameError",
     "evalue": "name 'l_list' is not defined",
     "output_type": "error",
     "traceback": [
      "\u001b[0;31m---------------------------------------------------------------------------\u001b[0m",
      "\u001b[0;31mNameError\u001b[0m                                 Traceback (most recent call last)",
      "\u001b[0;32m/tmp/ipykernel_19450/1598315522.py\u001b[0m in \u001b[0;36m<module>\u001b[0;34m\u001b[0m\n\u001b[1;32m      1\u001b[0m \u001b[0ml_time\u001b[0m \u001b[0;34m=\u001b[0m \u001b[0mget_ipython\u001b[0m\u001b[0;34m(\u001b[0m\u001b[0;34m)\u001b[0m\u001b[0;34m.\u001b[0m\u001b[0mrun_line_magic\u001b[0m\u001b[0;34m(\u001b[0m\u001b[0;34m'timeit'\u001b[0m\u001b[0;34m,\u001b[0m \u001b[0;34m'-o  l_list = [num for num in range(51)]'\u001b[0m\u001b[0;34m)\u001b[0m\u001b[0;34m\u001b[0m\u001b[0;34m\u001b[0m\u001b[0m\n\u001b[1;32m      2\u001b[0m \u001b[0;34m\u001b[0m\u001b[0m\n\u001b[0;32m----> 3\u001b[0;31m \u001b[0mprint\u001b[0m\u001b[0;34m(\u001b[0m\u001b[0mtype\u001b[0m\u001b[0;34m(\u001b[0m\u001b[0ml_list\u001b[0m\u001b[0;34m)\u001b[0m\u001b[0;34m)\u001b[0m\u001b[0;34m\u001b[0m\u001b[0;34m\u001b[0m\u001b[0m\n\u001b[0m",
      "\u001b[0;31mNameError\u001b[0m: name 'l_list' is not defined"
     ]
    }
   ],
   "source": [
    "l_time = %timeit -o  l_list = [num for num in range(51)]\n",
    "\n",
    "print(type(l_list))"
   ]
  },
  {
   "cell_type": "markdown",
   "id": "727a3c30-f266-4e4d-8049-a60750c72e91",
   "metadata": {},
   "source": [
    "## Using %timeit: specifying number of runs and loops\n",
    "\n",
    "A list of 480 superheroes has been loaded into your session (called heroes). You'd like to analyze the runtime for converting this heroes list into a set. Instead of relying on the default settings for %timeit, you'd like to only use 5 runs and 25 loops per each run.\n",
    "\n",
    "What is the correct syntax when using %timeit and only using 5 runs with 25 loops per each run?\n",
    "Instructions\n",
    "50 XP\n",
    "Possible Answers\n",
    "\n",
    "    timeit -runs5 -loops25 set(heroes)\n",
    "#    %%timeit -r5 -n25 set(heroes)\n",
    "    %timeit set(heroes), 5, 25\n",
    "    %timeit -r5 -n25 set(heroes)\n",
    "    "
   ]
  },
  {
   "cell_type": "markdown",
   "id": "d09afc17-4fff-4f35-83ea-eb02acb03415",
   "metadata": {},
   "source": [
    "## Using %timeit: formal name or literal syntax\n",
    "\n",
    "Python allows you to create data structures using either a formal name or a literal syntax. In this exercise, you'll explore how using a literal syntax for creating a data structure can speed up runtimes.\n",
    "data structure \tformal name \tliteral syntax\n",
    "list \tlist() \t[]\n",
    "dictionary \tdict() \t{}\n",
    "tuple \ttuple() \t()\n",
    "Instructions 1/3\n",
    "35 XP\n",
    "\n",
    "    1 Question\n",
    "    Create an empty list called formal_list using the formal name (list()).\n",
    "    Create an empty list called literal_list using the literal syntax ([]).\n",
    "    \n",
    "    \n",
    "    \n",
    "    2 Question\n",
    "    Print out the type of formal_list and literal_list to show that both naming conventions create a list.\n",
    "    \n",
    "    \n",
    "    \n",
    "    3 Question\n",
    "    Use %timeit in your IPython console to compare runtimes between creating a list using the formal name (list()) and the literal syntax ([]). Don't include the print() statements when timing.\n",
    "\n",
    "    Which naming convention is faster?\n",
    "    "
   ]
  },
  {
   "cell_type": "code",
   "execution_count": 10,
   "id": "e78b79e0-6e52-4619-8bdf-fea78d9b9830",
   "metadata": {},
   "outputs": [
    {
     "name": "stdout",
     "output_type": "stream",
     "text": [
      "[]\n",
      "[]\n"
     ]
    }
   ],
   "source": [
    "# Create a list using the formal name\n",
    "formal_list = list()\n",
    "print(formal_list)\n",
    "\n",
    "# Create a list using the literal syntax\n",
    "literal_list = []\n",
    "print(literal_list)"
   ]
  },
  {
   "cell_type": "code",
   "execution_count": 11,
   "id": "161c8057-a360-4eea-8a16-6574eb4689fc",
   "metadata": {},
   "outputs": [
    {
     "name": "stdout",
     "output_type": "stream",
     "text": [
      "<class 'list'>\n",
      "<class 'list'>\n"
     ]
    }
   ],
   "source": [
    "# Create a list using the formal name\n",
    "formal_list = list()\n",
    "print(type(formal_list))\n",
    "\n",
    "# Create a list using the literal syntax\n",
    "literal_list = []\n",
    "print(type(literal_list))"
   ]
  },
  {
   "cell_type": "code",
   "execution_count": 12,
   "id": "09aedf8b-a9b1-4610-8bdd-e8e06857f6d0",
   "metadata": {},
   "outputs": [
    {
     "name": "stdout",
     "output_type": "stream",
     "text": [
      "195 ns ± 0.991 ns per loop (mean ± std. dev. of 7 runs, 1000000 loops each)\n",
      "<class 'list'>\n",
      "96.4 ns ± 0.502 ns per loop (mean ± std. dev. of 7 runs, 10000000 loops each)\n",
      "<class 'list'>\n"
     ]
    }
   ],
   "source": [
    "# Create a list using the formal name\n",
    "f_time = %timeit -o  formal_list = list()\n",
    "print(type(formal_list))\n",
    "\n",
    "# Create a list using the literal syntax\n",
    "l_time = %timeit -o  literal_list = []\n",
    "print(type(literal_list))"
   ]
  },
  {
   "cell_type": "markdown",
   "id": "cedda501-0e7a-4376-b182-3664723c8887",
   "metadata": {},
   "source": [
    "## Using cell magic mode (%%timeit)\n",
    "\n",
    "From here on out, you'll be working with a superheroes dataset. For this exercise, a list of each hero's weight in kilograms (called wts) is loaded into your session. You'd like to convert these weights into pounds.\n",
    "\n",
    "You could accomplish this using the below for loop:\n",
    "\n",
    "hero_wts_lbs = []\n",
    "for wt in wts:\n",
    "    hero_wts_lbs.append(wt * 2.20462)\n",
    "\n",
    "Or you could use a numpy array to accomplish this task:\n",
    "\n",
    "wts_np = np.array(wts)\n",
    "hero_wts_lbs_np = wts_np * 2.20462\n",
    "\n",
    "Use %%timeit in your IPython console to compare runtimes between these two approaches. Make sure to press SHIFT+ENTER after the magic command to add a new line before writing the code you wish to time. After you've finished coding, answer the following question:\n",
    "\n",
    "Which of the above techniques is faster?\n",
    "Instructions\n",
    "50 XP\n",
    "Possible Answers\n",
    "\n",
    "    The for loop technique was faster.\n",
    "#    The numpy technique was faster.\n",
    "    Both techniques had similar runtimes.\n",
    "    "
   ]
  },
  {
   "cell_type": "code",
   "execution_count": 6,
   "id": "a2894399-aad2-420c-9de6-f3c4371989a9",
   "metadata": {},
   "outputs": [
    {
     "name": "stdout",
     "output_type": "stream",
     "text": [
      "480\n",
      "[58.63 61.85 66.59 61.75 65.72]\n"
     ]
    },
    {
     "data": {
      "image/png": "[encoded data removed]",
      "text/plain": [
       "<Figure size 432x288 with 1 Axes>"
      ]
     },
     "metadata": {
      "needs_background": "light"
     },
     "output_type": "display_data"
    }
   ],
   "source": [
    "import numpy as np\n",
    "\n",
    "wts = np.round(np.random.normal(60.45, 4.2, 480), 2)\n",
    "\n",
    "print(len(wts))\n",
    "print(wts[:5])\n",
    "\n",
    "\n",
    "x = [i for i in range(len(wts))]\n",
    "\n",
    "import matplotlib.pyplot as plt\n",
    "\n",
    "#plt.plot(x, wts)\n",
    "plt.hist(wts, 30)\n",
    "\n",
    "plt.xlabel('hero weight in kg of range')\n",
    "plt.ylabel('hero weight bin num')\n",
    "plt.title('hero weight and distribution', fontweight='bold')\n",
    "\n",
    "plt.show()"
   ]
  },
  {
   "cell_type": "code",
   "execution_count": 33,
   "id": "4f785869-deb2-4933-878f-6861e70f8ad9",
   "metadata": {},
   "outputs": [
    {
     "data": {
      "text/plain": [
       "\u001b[0;31mSignature:\u001b[0m \u001b[0mplt\u001b[0m\u001b[0;34m.\u001b[0m\u001b[0mtitle\u001b[0m\u001b[0;34m(\u001b[0m\u001b[0mlabel\u001b[0m\u001b[0;34m,\u001b[0m \u001b[0mfontdict\u001b[0m\u001b[0;34m=\u001b[0m\u001b[0;32mNone\u001b[0m\u001b[0;34m,\u001b[0m \u001b[0mloc\u001b[0m\u001b[0;34m=\u001b[0m\u001b[0;32mNone\u001b[0m\u001b[0;34m,\u001b[0m \u001b[0mpad\u001b[0m\u001b[0;34m=\u001b[0m\u001b[0;32mNone\u001b[0m\u001b[0;34m,\u001b[0m \u001b[0;34m*\u001b[0m\u001b[0;34m,\u001b[0m \u001b[0my\u001b[0m\u001b[0;34m=\u001b[0m\u001b[0;32mNone\u001b[0m\u001b[0;34m,\u001b[0m \u001b[0;34m**\u001b[0m\u001b[0mkwargs\u001b[0m\u001b[0;34m)\u001b[0m\u001b[0;34m\u001b[0m\u001b[0;34m\u001b[0m\u001b[0m\n",
       "\u001b[0;31mDocstring:\u001b[0m\n",
       "Set a title for the Axes.\n",
       "\n",
       "Set one of the three available Axes titles. The available titles\n",
       "are positioned above the Axes in the center, flush with the left\n",
       "edge, and flush with the right edge.\n",
       "\n",
       "Parameters\n",
       "----------\n",
       "label : str\n",
       "    Text to use for the title\n",
       "\n",
       "fontdict : dict\n",
       "    A dictionary controlling the appearance of the title text,\n",
       "    the default *fontdict* is::\n",
       "\n",
       "       {'fontsize': rcParams['axes.titlesize'],\n",
       "        'fontweight': rcParams['axes.titleweight'],\n",
       "        'color': rcParams['axes.titlecolor'],\n",
       "        'verticalalignment': 'baseline',\n",
       "        'horizontalalignment': loc}\n",
       "\n",
       "loc : {'center', 'left', 'right'}, default: :rc:`axes.titlelocation`\n",
       "    Which title to set.\n",
       "\n",
       "y : float, default: :rc:`axes.titley`\n",
       "    Vertical Axes loation for the title (1.0 is the top).  If\n",
       "    None (the default), y is determined automatically to avoid\n",
       "    decorators on the Axes.\n",
       "\n",
       "pad : float, default: :rc:`axes.titlepad`\n",
       "    The offset of the title from the top of the Axes, in points.\n",
       "\n",
       "Returns\n",
       "-------\n",
       "`.Text`\n",
       "    The matplotlib text instance representing the title\n",
       "\n",
       "Other Parameters\n",
       "----------------\n",
       "**kwargs : `.Text` properties\n",
       "    Other keyword arguments are text properties, see `.Text` for a list\n",
       "    of valid text properties.\n",
       "\u001b[0;31mFile:\u001b[0m      ~/.virtual_environments/py39/lib/python3.9/site-packages/matplotlib/pyplot.py\n",
       "\u001b[0;31mType:\u001b[0m      function\n"
      ]
     },
     "metadata": {},
     "output_type": "display_data"
    }
   ],
   "source": [
    "#print(dir(plt))\n",
    "\n",
    "#?plt.hist\n",
    "?plt.title"
   ]
  },
  {
   "cell_type": "code",
   "execution_count": 18,
   "id": "615935dc-e00d-49a9-919f-3c0d8671c236",
   "metadata": {},
   "outputs": [
    {
     "name": "stdout",
     "output_type": "stream",
     "text": [
      "275 µs ± 1.93 µs per loop (mean ± std. dev. of 7 runs, 1000 loops each)\n"
     ]
    }
   ],
   "source": [
    "%%timeit\n",
    "hero_wts_lbs = []\n",
    "for wt in wts:\n",
    "    hero_wts_lbs.append(wt*2.20462)\n",
    "    "
   ]
  },
  {
   "cell_type": "code",
   "execution_count": 19,
   "id": "0f00ac72-c8db-4671-8161-cec63f5077ad",
   "metadata": {},
   "outputs": [
    {
     "name": "stdout",
     "output_type": "stream",
     "text": [
      "3.05 µs ± 74.8 ns per loop (mean ± std. dev. of 7 runs, 100000 loops each)\n"
     ]
    }
   ],
   "source": [
    "%%timeit\n",
    "wts_np = np.array(wts)\n",
    "hero_wts_lbs_np = wts_np*2.20462"
   ]
  },
  {
   "cell_type": "markdown",
   "id": "fea211c1-ef3a-4c13-aea2-1dd9a993fdf3",
   "metadata": {},
   "source": [
    "# *****************************************************************************************************\n",
    "# Thats impressive, how could NumPy array did it so much faster? \n"
   ]
  },
  {
   "cell_type": "markdown",
   "id": "730f278c-b5b1-4943-bc13-00f5aea265be",
   "metadata": {},
   "source": [
    "## Code profiling for runtime\n",
    "\n",
    "\n",
    "\n",
    "**We've covered how to time our code using the magic command %timeit, which works well with bite-sized code.  \n",
    "# But what if we want to time a large code base or see the line-by-line runtime within a function.  \n",
    "# In this lesson, we'll cover a concept called code profiling that allows us analyze code more efficiently.  \n",
    "\n",
    "Code profiling is a technique used to describe how long, and how often, various parts of a program executed.  The beauty of a code profiling is its ability to gather summary statistics on individual pieces of our code without using magic command like %timeit.  \n",
    "\n",
    "\n",
    "# We'll focus on the line_profiler package to profile a function's runtime line-by-line.  \n"
   ]
  },
  {
   "cell_type": "code",
   "execution_count": 13,
   "id": "e420b3e0-57ce-473a-a3bf-a391938c07c0",
   "metadata": {},
   "outputs": [
    {
     "name": "stdout",
     "output_type": "stream",
     "text": [
      "38.1 µs ± 4.12 µs per loop (mean ± std. dev. of 7 runs, 10000 loops each)\n",
      "{'Batman': (74, 209), 'Superman': (75, 223), 'Wonder Woman': (72, 163)}\n"
     ]
    }
   ],
   "source": [
    "import line_profiler as lp\n",
    "import numpy as np\n",
    "\n",
    "heroes = ['Batman', 'Superman', 'Wonder Woman']\n",
    "hts = np.array([188.0,  191.0, 183.0])\n",
    "wts = np.array([95, 101, 74])\n",
    "\n",
    "\n",
    "def convert_units(heroes, heights, weights):\n",
    "    new_hts = [ht*0.39370 for ht in heights]\n",
    "    new_wts = [wt*2.20462 for wt in weights]\n",
    "    \n",
    "    hero_data = {}\n",
    "    for i, hero in enumerate(heroes):\n",
    "        hero_data[hero] = (round(new_hts[i]), round(new_wts[i]))\n",
    "        \n",
    "    return hero_data\n",
    "\n",
    "\n",
    "%timeit heroes_data = convert_units(heroes, hts, wts)\n",
    "print(convert_units(heroes, hts, wts))"
   ]
  },
  {
   "cell_type": "markdown",
   "id": "e6eae2a2-8e9e-4345-982b-959893857fa2",
   "metadata": {},
   "source": [
    "# What if we want to see how long each line within the function took to run? \n",
    "\n",
    "\n",
    "\n",
    "\n",
    "# Load line_profiler into our session\n",
    "%load_ext line_profiler\n",
    "\n",
    "# Then use the magic command %lprun from line_profiler, to gather runtimes for individual lines of code within the convert_units() function\n",
    "%lprun -f convert_units  convert_units(heroes, hts, wts)\n",
    "\n",
    "\n",
    "\n",
    "# %lprun uses s special syntax.  First we use the -f flag to indicate we'd like to profile a function,\n",
    "# Next we specify the name of the function we'd like to profile\n",
    "# Finally we provide the exact function call we'd like to profile by including any arguments needed\n",
    "\n",
    "\n",
    "# *****************************************************************************************************"
   ]
  },
  {
   "cell_type": "code",
   "execution_count": 1,
   "id": "80c94b9f-e078-479f-b319-68e55114447e",
   "metadata": {},
   "outputs": [
    {
     "data": {
      "text/plain": [
       "Timer unit: 1e-06 s\n",
       "\n",
       "Total time: 6.2e-05 s\n",
       "File: /tmp/ipykernel_9176/2304078823.py\n",
       "Function: convert_units at line 8\n",
       "\n",
       "Line #      Hits         Time  Per Hit   % Time  Line Contents\n",
       "==============================================================\n",
       "     8                                           def convert_units(heroes, heights, weights):\n",
       "     9         1         14.0     14.0     22.6      new_hts = [ht*0.39370 for ht in heights]\n",
       "    10         1         33.0     33.0     53.2      new_wts = [wt*2.20462 for wt in weights]\n",
       "    11                                               \n",
       "    12         1          2.0      2.0      3.2      hero_data = {}\n",
       "    13         4          6.0      1.5      9.7      for i, hero in enumerate(heroes):\n",
       "    14         3          6.0      2.0      9.7          hero_data[hero] = (new_hts[i], new_wts[i])\n",
       "    15                                                   \n",
       "    16         1          1.0      1.0      1.6      return hero_data"
      ]
     },
     "metadata": {},
     "output_type": "display_data"
    }
   ],
   "source": [
    "import numpy as np\n",
    "\n",
    "heroes = ['Batman', 'Superman', 'Wonder Woman']\n",
    "hts = np.array([188.0,  191.0, 183.0])\n",
    "wts = np.array([95, 101, 74])\n",
    "\n",
    "\n",
    "def convert_units(heroes, heights, weights):\n",
    "    new_hts = [ht*0.39370 for ht in heights]\n",
    "    new_wts = [wt*2.20462 for wt in weights]\n",
    "    \n",
    "    hero_data = {}\n",
    "    for i, hero in enumerate(heroes):\n",
    "        hero_data[hero] = (new_hts[i], new_wts[i])\n",
    "        \n",
    "    return hero_data\n",
    "\n",
    "\n",
    "# *************************************************************************************************** #\n",
    "# Load line_profiler into our session\n",
    "%load_ext line_profiler\n",
    "# Then use the magic command %lprun from line_profiler, \n",
    "# to gather runtimes for individual lines of code within the convert_units function\n",
    "\n",
    "%lprun -f convert_units  convert_units(heroes, hts, wts)\n",
    "# %lprun uses special syntax.  First we use the -f flag to indicate we'd like to profile a function,\n",
    "# Next we specify the name of the function we'd like to profile\n",
    "# Finally we provide the exact function call we'd like to profile by including any arguments needed"
   ]
  },
  {
   "cell_type": "code",
   "execution_count": 2,
   "id": "568569dd-e9a5-43fe-8e92-585bdcc92dc2",
   "metadata": {},
   "outputs": [
    {
     "name": "stdout",
     "output_type": "stream",
     "text": [
      "22.5 µs ± 2.57 µs per loop (mean ± std. dev. of 7 runs, 10000 loops each)\n"
     ]
    }
   ],
   "source": [
    "convert_time = %timeit -o  heroes_data = convert_units(heroes, hts, wts)\n",
    "\n",
    "# ns \t\tnanosecond \t\t10-9\n",
    "# µs (us) \tmicrosecond \t10-6"
   ]
  },
  {
   "cell_type": "markdown",
   "id": "1462e5f4-2eba-40d5-9803-3eaf6b96b7f6",
   "metadata": {},
   "source": [
    "# The output from %lprun provides a nice table that summarizes the profiling statistics\n",
    "\n",
    "\n",
    "# You Are What You Read just like you are what you eat\n",
    "# So read it to get better understanding of this do not lazy \n",
    "# *************************************************************************************************** #\n",
    "   **First a column specifying the Line number followed by a column displaying the number of times that line was executed (called the Hits column).  \n",
    "   **Next , the Time column shows the total amount of time each line tooks to execute.  This column uses a specific unit that can be found in the first line of the output.  Here our time unit is listed in microseconds using scientific notation (1e-06 s or 10^(-6) s).  \n",
    "   **The Per Hit column gives the average amount of time spent executing a single line.  This is calculated by dividing the Time column by the Hits column.  \n",
    "   **The %Time column shows the percentage of time spent on a line relative to the total amount of time spen t in the function.  \n",
    "   **Finally the source code is displayed for each line in the Line Contents column.  \n",
    "\n",
    "\n",
    "\n",
    "  # You may notice that the Total time reported when using %lprun and the time reported from using %timeit do not match.  Remember %timeit uses multiple loops in order to calculatean average and standard devision of time, so the time report from each of these magic commands arent expected to match exactly.\n",
    "   "
   ]
  },
  {
   "cell_type": "markdown",
   "id": "f1367b1d-2078-441b-83c7-88eef56bb8b0",
   "metadata": {},
   "source": [
    "## Pop quiz: steps for using %lprun\n",
    "\n",
    "Below is the convert_units() function, which converts the heights and weights of our favorite superheroes from metric units to Imperial units.\n",
    "\n",
    "def convert_units(heroes, heights, weights):\n",
    "\n",
    "    new_hts = [ht * 0.39370  for ht in heights]\n",
    "    new_wts = [wt * 2.20462  for wt in weights]\n",
    "\n",
    "    hero_data = {}\n",
    "    for i,hero in enumerate(heroes):\n",
    "        hero_data[hero] = (new_hts[i], new_wts[i])\n",
    "\n",
    "    return hero_data\n",
    "\n",
    "Suppose you have a list of superheroes (named heroes) along with each hero's height (in centimeters) and weight (in kilograms) loaded as NumPy arrays (named hts and wts respectively).\n",
    "\n",
    "What are the necessary steps you need to take in order to profile the convert_units() function acting on your superheroes data if you'd like to see line-by-line runtimes?\n",
    "Answer the question\n",
    "50XP\n",
    "Possible Answers\n",
    "\n",
    "    Use %load_ext line_profiler to load the line_profiler within your IPython session.\n",
    "    1\n",
    "#    Use %lprun -f convert_units convert_units(heroes, hts, wts) to get line-by-line runtimes.\n",
    "    2\n",
    "    Use %timeit convert_units(heroes, hts, wts) to gather runtimes.\n",
    "    3\n",
    "    The first and second options from above are necessary.\n",
    "    4\n",
    "    "
   ]
  },
  {
   "cell_type": "markdown",
   "id": "a7162ba5-8e8f-46b0-a580-2491ebe78f59",
   "metadata": {},
   "source": [
    "## Using %lprun: spot bottlenecks\n",
    "\n",
    "Profiling a function allows you to dig deeper into the function's source code and potentially spot bottlenecks. When you see certain lines of code taking up the majority of the function's runtime, it is an indication that you may want to deploy a different, more efficient technique.\n",
    "\n",
    "Lets dig deeper into the convert_units() function.\n",
    "\n",
    "def convert_units(heroes, heights, weights):\n",
    "\n",
    "    new_hts = [ht * 0.39370  for ht in heights]\n",
    "    new_wts = [wt * 2.20462  for wt in weights]\n",
    "\n",
    "    hero_data = {}\n",
    "    for i,hero in enumerate(heroes):\n",
    "        hero_data[hero] = (new_hts[i], new_wts[i])\n",
    "\n",
    "    return hero_data\n",
    "\n",
    "# Load the line_profiler package into your IPython session. Then, use %lprun to profile the convert_units() function acting on your superheroes data. Remember to use the special syntax for working with %lprun (you'll have to provide a -f flag specifying the function you'd like to profile).\n",
    "\n",
    "The convert_units() function, heroes list, hts array, and wts array have been loaded into your session. After you've finished coding, answer the following question:\n",
    "\n",
    "What percentage of time is spent on the new_hts list comprehension line of code relative to the total amount of time spent in the convert_units() function?\n",
    "Instructions\n",
    "50 XP\n",
    "Possible Answers\n",
    "\n",
    "    0% - 10%\n",
    "    11% - 20%\n",
    "#    21% - 50%\n",
    "    51% - 100%\n",
    "\n"
   ]
  },
  {
   "cell_type": "code",
   "execution_count": 7,
   "id": "5d28440c-f57c-4ec1-baba-ecf89b5fa31f",
   "metadata": {},
   "outputs": [
    {
     "data": {
      "text/plain": [
       "Timer unit: 1e-06 s\n",
       "\n",
       "Total time: 7e-05 s\n",
       "File: /tmp/ipykernel_39852/3808037975.py\n",
       "Function: convert_units at line 8\n",
       "\n",
       "Line #      Hits         Time  Per Hit   % Time  Line Contents\n",
       "==============================================================\n",
       "     8                                           def convert_units(heroes, heights, weights):\n",
       "     9         1         17.0     17.0     24.3      new_hts = [ht*0.39370 for ht in heights]\n",
       "    10         1         38.0     38.0     54.3      new_wts = [wt*2.20462 for wt in weights]\n",
       "    11                                               \n",
       "    12         1          2.0      2.0      2.9      hero_data = {}\n",
       "    13         4          6.0      1.5      8.6      for i, hero in enumerate(heroes):\n",
       "    14         3          6.0      2.0      8.6          hero_data[hero] = (new_hts[i], new_wts[i])\n",
       "    15                                                   \n",
       "    16         1          1.0      1.0      1.4      return hero_data"
      ]
     },
     "metadata": {},
     "output_type": "display_data"
    }
   ],
   "source": [
    "import numpy as np\n",
    "\n",
    "heroes = ['Batman', 'Superman', 'Wonder Woman']\n",
    "hts = np.array([188.0,  191.0, 183.0])\n",
    "wts = np.array([95, 101, 74])\n",
    "\n",
    "\n",
    "def convert_units(heroes, heights, weights):\n",
    "    new_hts = [ht*0.39370 for ht in heights]\n",
    "    new_wts = [wt*2.20462 for wt in weights]\n",
    "    \n",
    "    hero_data = {}\n",
    "    for i, hero in enumerate(heroes):\n",
    "        hero_data[hero] = (new_hts[i], new_wts[i])\n",
    "        \n",
    "    return hero_data\n",
    "\n",
    "\n",
    "\n",
    "# *************************************************************************************************** #\n",
    "%load_ext line_profiler\n",
    "\n",
    "%lprun -f convert_units  convert_units(heroes, hts, wts)"
   ]
  },
  {
   "cell_type": "code",
   "execution_count": 19,
   "id": "6f47e5a3-0231-4a78-a621-f804ab257888",
   "metadata": {},
   "outputs": [
    {
     "data": {
      "application/json": {
       "cell": {
        "!": "OSMagics",
        "HTML": "Other",
        "SVG": "Other",
        "bash": "Other",
        "capture": "ExecutionMagics",
        "debug": "ExecutionMagics",
        "file": "Other",
        "html": "DisplayMagics",
        "javascript": "DisplayMagics",
        "js": "DisplayMagics",
        "latex": "DisplayMagics",
        "markdown": "DisplayMagics",
        "perl": "Other",
        "prun": "ExecutionMagics",
        "pypy": "Other",
        "python": "Other",
        "python2": "Other",
        "python3": "Other",
        "ruby": "Other",
        "script": "ScriptMagics",
        "sh": "Other",
        "svg": "DisplayMagics",
        "sx": "OSMagics",
        "system": "OSMagics",
        "time": "ExecutionMagics",
        "timeit": "ExecutionMagics",
        "writefile": "OSMagics"
       },
       "line": {
        "alias": "OSMagics",
        "alias_magic": "BasicMagics",
        "autoawait": "AsyncMagics",
        "autocall": "AutoMagics",
        "automagic": "AutoMagics",
        "autosave": "KernelMagics",
        "bookmark": "OSMagics",
        "cat": "Other",
        "cd": "OSMagics",
        "clear": "KernelMagics",
        "colors": "BasicMagics",
        "conda": "PackagingMagics",
        "config": "ConfigMagics",
        "connect_info": "KernelMagics",
        "cp": "Other",
        "debug": "ExecutionMagics",
        "dhist": "OSMagics",
        "dirs": "OSMagics",
        "doctest_mode": "BasicMagics",
        "ed": "Other",
        "edit": "KernelMagics",
        "env": "OSMagics",
        "gui": "BasicMagics",
        "hist": "Other",
        "history": "HistoryMagics",
        "killbgscripts": "ScriptMagics",
        "ldir": "Other",
        "less": "KernelMagics",
        "lf": "Other",
        "lk": "Other",
        "ll": "Other",
        "load": "CodeMagics",
        "load_ext": "ExtensionMagics",
        "loadpy": "CodeMagics",
        "logoff": "LoggingMagics",
        "logon": "LoggingMagics",
        "logstart": "LoggingMagics",
        "logstate": "LoggingMagics",
        "logstop": "LoggingMagics",
        "lprun": "LineProfilerMagics",
        "ls": "Other",
        "lsmagic": "BasicMagics",
        "lx": "Other",
        "macro": "ExecutionMagics",
        "magic": "BasicMagics",
        "man": "KernelMagics",
        "matplotlib": "PylabMagics",
        "mkdir": "Other",
        "more": "KernelMagics",
        "mv": "Other",
        "notebook": "BasicMagics",
        "page": "BasicMagics",
        "pastebin": "CodeMagics",
        "pdb": "ExecutionMagics",
        "pdef": "NamespaceMagics",
        "pdoc": "NamespaceMagics",
        "pfile": "NamespaceMagics",
        "pinfo": "NamespaceMagics",
        "pinfo2": "NamespaceMagics",
        "pip": "PackagingMagics",
        "popd": "OSMagics",
        "pprint": "BasicMagics",
        "precision": "BasicMagics",
        "prun": "ExecutionMagics",
        "psearch": "NamespaceMagics",
        "psource": "NamespaceMagics",
        "pushd": "OSMagics",
        "pwd": "OSMagics",
        "pycat": "OSMagics",
        "pylab": "PylabMagics",
        "qtconsole": "KernelMagics",
        "quickref": "BasicMagics",
        "recall": "HistoryMagics",
        "rehashx": "OSMagics",
        "reload_ext": "ExtensionMagics",
        "rep": "Other",
        "rerun": "HistoryMagics",
        "reset": "NamespaceMagics",
        "reset_selective": "NamespaceMagics",
        "rm": "Other",
        "rmdir": "Other",
        "run": "ExecutionMagics",
        "save": "CodeMagics",
        "sc": "OSMagics",
        "set_env": "OSMagics",
        "store": "StoreMagics",
        "sx": "OSMagics",
        "system": "OSMagics",
        "tb": "ExecutionMagics",
        "time": "ExecutionMagics",
        "timeit": "ExecutionMagics",
        "unalias": "OSMagics",
        "unload_ext": "ExtensionMagics",
        "who": "NamespaceMagics",
        "who_ls": "NamespaceMagics",
        "whos": "NamespaceMagics",
        "xdel": "NamespaceMagics",
        "xmode": "BasicMagics"
       }
      },
      "text/plain": [
       "Available line magics:\n",
       "%alias  %alias_magic  %autoawait  %autocall  %automagic  %autosave  %bookmark  %cat  %cd  %clear  %colors  %conda  %config  %connect_info  %cp  %debug  %dhist  %dirs  %doctest_mode  %ed  %edit  %env  %gui  %hist  %history  %killbgscripts  %ldir  %less  %lf  %lk  %ll  %load  %load_ext  %loadpy  %logoff  %logon  %logstart  %logstate  %logstop  %lprun  %ls  %lsmagic  %lx  %macro  %magic  %man  %matplotlib  %mkdir  %more  %mv  %notebook  %page  %pastebin  %pdb  %pdef  %pdoc  %pfile  %pinfo  %pinfo2  %pip  %popd  %pprint  %precision  %prun  %psearch  %psource  %pushd  %pwd  %pycat  %pylab  %qtconsole  %quickref  %recall  %rehashx  %reload_ext  %rep  %rerun  %reset  %reset_selective  %rm  %rmdir  %run  %save  %sc  %set_env  %store  %sx  %system  %tb  %time  %timeit  %unalias  %unload_ext  %who  %who_ls  %whos  %xdel  %xmode\n",
       "\n",
       "Available cell magics:\n",
       "%%!  %%HTML  %%SVG  %%bash  %%capture  %%debug  %%file  %%html  %%javascript  %%js  %%latex  %%markdown  %%perl  %%prun  %%pypy  %%python  %%python2  %%python3  %%ruby  %%script  %%sh  %%svg  %%sx  %%system  %%time  %%timeit  %%writefile\n",
       "\n",
       "Automagic is ON, % prefix IS NOT needed for line magics."
      ]
     },
     "execution_count": 19,
     "metadata": {},
     "output_type": "execute_result"
    }
   ],
   "source": [
    "%lsmagic"
   ]
  },
  {
   "cell_type": "markdown",
   "id": "1e1e2104-91a0-427b-b6f8-9b47254445d5",
   "metadata": {},
   "source": [
    "## Code profiling for memory usage\n",
    "\n",
    "\n",
    "\n",
    "**We've defined efficient code as the code that has a minimal runtime and a small memory footprint.  So far, we've only covered how to inspect the runtime of our code.  In this lession, we'll cover a few techniques on how to evaluate our code's memory footprint.  \n",
    "\n",
    "\n",
    "# One basic approach for inspecting memory consumption is using Python's build in modules sys.  This module contains system specific function and contains one nice method .getsizeof(), that returns the size of an objcet in bytes.  \n",
    "\n",
    "**sys.getsizeof() is a quick and dirty way to see the size of an object, but this only gives us the size of an individual object.  What if we want to inspect the line-by-line memory footprint of our code?  \n",
    "\n",
    "\n",
    "\n",
    "# We'll have to use a code profiler.  Just like we've used code profiling to gether datailed stats on runtime, we can also use code profiling to analyze the memory allocation for each line of code in our code base.  We use the memory_profiler package that is very similar to the line_profiler package.  \n",
    "\n",
    "**The momory_frofiler comes with a handy magic command %mprun that uses the same syntax as %lprun\n",
    "\n",
    "**One drawback to using %mprun is that any function profiled for memory consumption must be defined in a .py file and imported.  %mprun can only be used on functions defined in pyhsical files, and not in IPython session.  \n"
   ]
  },
  {
   "cell_type": "code",
   "execution_count": 82,
   "id": "e41c1c2a-42dc-4ec9-8348-62e764b4898a",
   "metadata": {},
   "outputs": [
    {
     "data": {
      "text/plain": [
       "8056"
      ]
     },
     "execution_count": 82,
     "metadata": {},
     "output_type": "execute_result"
    }
   ],
   "source": [
    "import sys\n",
    "\n",
    "nums_list = [*range(1000)]\n",
    "sys.getsizeof(nums_list)\n",
    "\n",
    "\n",
    "# *************************************************************************************************** #\n",
    "# sys.getsizeof() returns the size of an object in bytes"
   ]
  },
  {
   "cell_type": "code",
   "execution_count": 5,
   "id": "2ddf9e99-41f5-4aeb-8168-f1b254a373e3",
   "metadata": {},
   "outputs": [
    {
     "data": {
      "text/plain": [
       "8104"
      ]
     },
     "execution_count": 5,
     "metadata": {},
     "output_type": "execute_result"
    }
   ],
   "source": [
    "import sys\n",
    "import numpy as np\n",
    "#nums_np = np.array(range(1000))  # np.array() takes an list as input\n",
    "nums_np2 = np.array([*range(1000)])\n",
    "sys.getsizeof(nums_np2)"
   ]
  },
  {
   "cell_type": "code",
   "execution_count": 37,
   "id": "9a6ec8a8-423a-4fb1-a673-c8cda362289d",
   "metadata": {},
   "outputs": [
    {
     "data": {
      "text/plain": [
       "\u001b[0;31mDocstring:\u001b[0m Load an IPython extension by its module name.\n",
       "\u001b[0;31mFile:\u001b[0m      ~/.virtual_environments/py39/lib/python3.9/site-packages/IPython/core/magics/extension.py\n"
      ]
     },
     "metadata": {},
     "output_type": "display_data"
    }
   ],
   "source": [
    "?%load_ext"
   ]
  },
  {
   "cell_type": "code",
   "execution_count": 1,
   "id": "44deec2e-18b6-48e0-92bd-66c737c7df16",
   "metadata": {},
   "outputs": [
    {
     "name": "stdout",
     "output_type": "stream",
     "text": [
      "\n"
     ]
    },
    {
     "data": {
      "text/plain": [
       "Filename: /home/jhu/.virtual_environments/heroes_func.py\n",
       "\n",
       "Line #    Mem usage    Increment  Occurences   Line Contents\n",
       "============================================================\n",
       "     1     74.5 MiB     74.5 MiB           1   def convert_units(heroes, heights, weights):\n",
       "     2     74.5 MiB      0.0 MiB           6       new_hts = [ht*0.39370 for ht in heights]\n",
       "     3     74.5 MiB      0.0 MiB           6       new_wts = [wt*2.20462 for wt in weights]\n",
       "     4                                             \n",
       "     5     74.5 MiB      0.0 MiB           1       hero_data = {}\n",
       "     6     74.5 MiB      0.0 MiB           4       for i, hero in enumerate(heroes):\n",
       "     7     74.5 MiB      0.0 MiB           3           hero_data[hero] = (new_hts[i], new_wts[i])\n",
       "     8                                                 \n",
       "     9     74.5 MiB      0.0 MiB           1       return hero_data"
      ]
     },
     "metadata": {},
     "output_type": "display_data"
    }
   ],
   "source": [
    "import numpy as np\n",
    "\n",
    "heroes = ['Batman', 'Superman', 'Wonder Woman']\n",
    "hts = np.array([188.0,  191.0, 183.0])\n",
    "wts = np.array([95, 101, 74])\n",
    "\n",
    "\n",
    "\n",
    "from heroes_func import convert_units\n",
    "\n",
    "%load_ext memory_profiler\n",
    "\n",
    "%mprun -f convert_units  convert_units(heroes, hts, wts)"
   ]
  },
  {
   "cell_type": "markdown",
   "id": "bb6adef3-1d11-4141-a522-d4fe945b1f74",
   "metadata": {},
   "source": [
    "## In this example, the convert_units() function was placed in a file named heroes_func.py, now we simply import convert_units() function from the heroes_func.py file, and use the magic command %mprun to gather statistics on its memory footprint.  %mprun output is similar to %lprun output.  \n",
    "\n",
    "   **First Line column represent the line number of the code that has been profiled\n",
    "   **Second Mem usage column is the memory used after that line has been executed\n",
    "   **The Increment column shows the diff in memory of current line respect to the previous\n",
    "     It shows us the impact of the current line on the total memory usage\n",
    "   **The Last LineContents shows the source code that has been profiled\n",
    "   \n",
    "   \n",
    "# In this case, why is only def our function and pass in arguments takes lots of memory?\n",
    "   \n",
    "   \n",
    "Profiling a function with %mprun allows us to see what lines are taking up a large amount of memory and possible develop a more efficient solution.  "
   ]
  },
  {
   "cell_type": "code",
   "execution_count": 1,
   "id": "5ba4e57d-df3e-4056-a4de-a83d9d0591c8",
   "metadata": {},
   "outputs": [
    {
     "name": "stdout",
     "output_type": "stream",
     "text": [
      "['Charlie', 'Connie', 'Patricia', 'Robin', 'Lynn']\n",
      "304.7109375\n",
      "[169.22516087 176.97333985 196.11759945 196.2999926  191.66110104]\n",
      "[80.65417253 90.27843511 95.15139063 94.27552401 92.31624445]\n",
      "273.546875\n",
      "\n"
     ]
    },
    {
     "data": {
      "text/plain": [
       "Filename: /home/jhu/.virtual_environments/heroes_func.py\n",
       "\n",
       "Line #    Mem usage    Increment  Occurences   Line Contents\n",
       "============================================================\n",
       "     1     79.1 MiB     79.1 MiB           1   def convert_units(heroes, heights, weights):\n",
       "     2     80.4 MiB      1.2 MiB       35004       new_hts = [ht*0.39370 for ht in heights]\n",
       "     3     81.7 MiB      1.3 MiB       35004       new_wts = [wt*2.20462 for wt in weights]\n",
       "     4                                             \n",
       "     5     81.7 MiB      0.0 MiB           1       hero_data = {}\n",
       "     6     82.2 MiB      0.3 MiB       35002       for i, hero in enumerate(heroes):\n",
       "     7     82.2 MiB      0.3 MiB       35001           hero_data[hero] = (new_hts[i], new_wts[i])\n",
       "     8                                                 \n",
       "     9     82.2 MiB      0.0 MiB           1       return hero_data"
      ]
     },
     "metadata": {},
     "output_type": "display_data"
    }
   ],
   "source": [
    "import names, sys\n",
    "import numpy as np\n",
    "\n",
    "\n",
    "heroes = [names.get_first_name() for i in range(35001)]\n",
    "print(heroes[:5])\n",
    "print(sys.getsizeof(heroes)/1024)\n",
    "\n",
    "#?np.random.normal\n",
    "hts = np.array(np.random.normal(191.4, 13, 35001))\n",
    "wts = np.array(np.random.normal(95.3, 8, 35001))\n",
    "\n",
    "print(hts[:5])\n",
    "print(wts[:5])\n",
    "print(sys.getsizeof(hts)/1024)\n",
    "\n",
    "\n",
    "from heroes_func import convert_units\n",
    "\n",
    "\n",
    "%load_ext memory_profiler\n",
    "%mprun -f convert_units  convert_units(heroes, hts, wts)"
   ]
  },
  {
   "cell_type": "markdown",
   "id": "72d1a37d-1168-43c6-aefb-465b4ac7518d",
   "metadata": {},
   "source": [
    "## Do not worry about zeors, the main take away is that small memory allocation may not show up when using %mprun magic command, and thats a perfectly fine result.  \n",
    "\n",
    "Finally how memory_frofiler package did this?  The memory_profiler inspects memory footprint consumption by querying the operating system.  This might be slightly different from the amount of memory that is used by the Python interpreter.  And results may differ between platforms and runs.  \n",
    "\n"
   ]
  },
  {
   "cell_type": "markdown",
   "id": "3bbad3a1-e7a1-4ce6-a53b-eba099ecd304",
   "metadata": {},
   "source": [
    "## Pop quiz: steps for using %mprun\n",
    "\n",
    "Suppose you have a list of superheroes (named heroes) along with each hero's height (in centimeters) and weight (in kilograms) loaded as NumPy arrays (named hts and wts, respectively). You also have a convert_units() function saved in a file titled hero_funcs.py.\n",
    "\n",
    "What are the necessary steps you need to take in order to profile the convert_units() function acting on your superheroes data if you'd like to see the line-by-line memory consumption of convert_units()?\n",
    "Answer the question\n",
    "50XP\n",
    "Possible Answers\n",
    "\n",
    "#    Use the command from hero_funcs import convert_units to load the function you'd like to profile.\n",
    "    1\n",
    "#    Use %load_ext memory_profiler to load the memory_profiler within your IPython session.\n",
    "    2\n",
    "#    Use %mprun -f convert_units convert_units(heroes, hts, wts) to get line-by-line memory allocations.\n",
    "    3\n",
    "#    All of the above.\n",
    "    4\n",
    "    "
   ]
  },
  {
   "cell_type": "markdown",
   "id": "856b57be-d96a-4010-9f42-7bb9ca53f398",
   "metadata": {},
   "source": [
    "## Using %mprun: Hero BMI\n",
    "\n",
    "You'd like to calculate the body mass index (BMI) for a selected sample of heroes. BMI can be calculated using the below formula:\n",
    "\n",
    "BMI = mass(kg) / height(m)^2\n",
    "\n",
    "# A random sample of 25,000 superheroes has been loaded into your session as an array called sample_indices. This sample is a list of indices that corresponds to each superhero's index selected from the heroes list.\n",
    "\n",
    "A function named calc_bmi_lists has also been created and saved to a file titled bmi_lists.py. For convenience, it is displayed below:\n",
    "\n",
    "def calc_bmi_lists(sample_indices, hts, wts):\n",
    "\n",
    "    # Gather sample heights and weights as lists\n",
    "    s_hts = [hts[i] for i in sample_indices]\n",
    "    s_wts = [wts[i] for i in sample_indices]\n",
    "\n",
    "    # Convert heights from cm to m and square with list comprehension\n",
    "    s_hts_m_sqr = [(ht / 100) ** 2 for ht in s_hts]\n",
    "\n",
    "    # Calculate BMIs as a list with list comprehension\n",
    "    bmis = [s_wts[i] / s_hts_m_sqr[i] for i in range(len(sample_indices))]\n",
    "\n",
    "    return bmis\n",
    "\n",
    "# Notice that this function performs all necessary calculations using list comprehension (hence the name calc_bmi_lists()). Dig deeper into this function and analyze the memory footprint for performing your calculations using lists:\n",
    "\n",
    "    Load the memory_profiler package into your IPython session.\n",
    "    Import calc_bmi_lists from bmi_lists.\n",
    "    Once you've completed the above steps, use %mprun to profile the calc_bmi_lists() function acting on your superheroes data. The hts array and wts array have already been loaded into your session.\n",
    "\n",
    "    After you've finished coding, answer the following question:\n",
    "\n",
    "    How much memory do the list comprehension lines of code consume in the calc_bmi_lists() function? (i.e., what is the total sum of the Increment column for these four lines of code?)\n",
    "Instructions\n",
    "50 XP\n",
    "Possible Answers\n",
    "\n",
    "    20.0 MiB - 30.0 MiB\n",
    "#    0.1 MiB - 2.0 MiB\n",
    "    10.0 MiB - 15.0 MiB\n",
    "    0.0 MiB\n",
    "    "
   ]
  },
  {
   "cell_type": "code",
   "execution_count": 32,
   "id": "db4a1cd9-25e6-4bc0-b1b3-16a1a0c67adf",
   "metadata": {},
   "outputs": [
    {
     "name": "stdout",
     "output_type": "stream",
     "text": [
      "25000\n",
      "25000\n",
      "25000\n",
      "25000\n"
     ]
    }
   ],
   "source": [
    "# *************************************************************************************************** #\n",
    "#sample_indices = np.array(np.random.choice(25001, 25001))\n",
    "sample_indices_cho = np.random.choice([i for i in range(25001)], 25000, replace=False)\n",
    "# *************************************************************************************************** #\n",
    "\n",
    "\n",
    "import random\n",
    "sample_indices = random.sample(range(25001), 25000)\n",
    "# *************************************************************************************************** #\n",
    "\n",
    "\n",
    "\n",
    "# *************************************************************************************************** #\n",
    "#print(sample_indices)\n",
    "\n",
    "#print(sample_indices_cho)\n",
    "\n",
    "print(len(sample_indices))\n",
    "\n",
    "print(len(sample_indices_cho))\n",
    "\n",
    "sample_indices_set = set(sample_indices)\n",
    "print(len(sample_indices_set))\n",
    "\n",
    "sample_indices_set_cho = set(sample_indices_cho)\n",
    "print(len(sample_indices_set_cho))"
   ]
  },
  {
   "cell_type": "code",
   "execution_count": 38,
   "id": "6540deda-fe69-446f-9150-558f0165c309",
   "metadata": {},
   "outputs": [
    {
     "name": "stdout",
     "output_type": "stream",
     "text": [
      "25000\n",
      "[ 7253 12317 17618 ... 14880 14545 23574]\n",
      "25000\n"
     ]
    }
   ],
   "source": [
    "# *************************************************************************************************** #\n",
    "sample_indices = np.random.choice(25001, 25000, replace=False)\n",
    "print(len(sample_indices))\n",
    "print(sample_indices)\n",
    "\n",
    "\n",
    "# *************************************************************************************************** #\n",
    "sample_indices_set = set(sample_indices)\n",
    "print(len(sample_indices_set))"
   ]
  },
  {
   "cell_type": "code",
   "execution_count": 33,
   "id": "4bf0fb42-b23a-4596-baa0-276b7191b33e",
   "metadata": {},
   "outputs": [],
   "source": [
    "#?np.random.Generator.choice"
   ]
  },
  {
   "cell_type": "code",
   "execution_count": 35,
   "id": "b6d32c90-b270-4135-af9f-cc69a58f667a",
   "metadata": {},
   "outputs": [
    {
     "name": "stdout",
     "output_type": "stream",
     "text": [
      "The memory_profiler extension is already loaded. To reload it, use:\n",
      "  %reload_ext memory_profiler\n",
      "\n"
     ]
    },
    {
     "data": {
      "text/plain": [
       "Filename: /home/jhu/.virtual_environments/bmi_lists.py\n",
       "\n",
       "Line #    Mem usage    Increment  Occurences   Line Contents\n",
       "============================================================\n",
       "     1     89.8 MiB     89.8 MiB           1   def calc_bmi_lists(sample_indices, hts, wts):\n",
       "     2                                         \n",
       "     3                                             # Gather sample heights and weights as lists\n",
       "     4     89.8 MiB      0.0 MiB       25003       s_hts = [hts[i] for i in sample_indices]\n",
       "     5     90.4 MiB      0.5 MiB       25003       s_wts = [wts[i] for i in sample_indices]\n",
       "     6                                         \n",
       "     7                                             # Convert heights from cm to m and square with list comprehension\n",
       "     8     91.1 MiB      0.8 MiB       25003       s_hts_m_sqr = [(ht / 100) ** 2 for ht in s_hts]\n",
       "     9                                         \n",
       "    10                                             # Calculate BMIs as a list with list comprehension\n",
       "    11     91.9 MiB      0.8 MiB       25003       bmis = [s_wts[i] / s_hts_m_sqr[i] for i in range(len(sample_indices))]\n",
       "    12                                         \n",
       "    13     91.9 MiB      0.0 MiB           1       return bmis"
      ]
     },
     "metadata": {},
     "output_type": "display_data"
    }
   ],
   "source": [
    "from bmi_lists import calc_bmi_lists\n",
    "import names\n",
    "import numpy as np\n",
    "\n",
    "heroes = [names.get_first_name() for i in range(25001)]\n",
    "\n",
    "hts = np.array(np.random.normal(191.4, 13, 25001))\n",
    "wts = np.array(np.random.normal(95.3, 8, 25001))\n",
    "#sample_indices = np.array([i for i in range(25001)])\n",
    "\n",
    "sample_indices = np.random.choice(25001, 25000, replace=False)\n",
    "\n",
    "\n",
    "\n",
    "%load_ext memory_profiler\n",
    "%mprun -f calc_bmi_lists calc_bmi_lists(sample_indices, hts, wts)"
   ]
  },
  {
   "cell_type": "markdown",
   "id": "5fbbe530-46e9-4228-8d0e-d9d5fe5a8aaa",
   "metadata": {},
   "source": [
    "# Why they use unefficient and unnecessary code in calc_bmi_lists()? \n",
    "\n",
    "\n",
    "**random without replacement select can be done after bmi was calculated\n",
    "\n",
    "Below code no need, and we can reduice the imput data size to calc_bmi_lists() function. \n",
    "   #s_hts = [hts[i] for i in sample_indices]\n",
    "   #s_wts = [wts[i] for i in sample_indices]"
   ]
  },
  {
   "cell_type": "code",
   "execution_count": 1,
   "id": "9846012d-462c-4123-8067-4f9b414ac324",
   "metadata": {},
   "outputs": [
    {
     "name": "stdout",
     "output_type": "stream",
     "text": [
      "\n"
     ]
    },
    {
     "data": {
      "text/plain": [
       "Filename: /home/jhu/.virtual_environments/bmi_lists1.py\n",
       "\n",
       "Line #    Mem usage    Increment  Occurences   Line Contents\n",
       "============================================================\n",
       "     1     72.9 MiB     72.9 MiB           1   def calc_bmi_lists(sample_indices, hts, wts):\n",
       "     2                                         \n",
       "     3                                             # Gather sample heights and weights as lists\n",
       "     4                                             #s_hts = [hts[i] for i in sample_indices]\n",
       "     5                                             #s_wts = [wts[i] for i in sample_indices]\n",
       "     6                                         \n",
       "     7                                             # Convert heights from cm to m and square with list comprehension\n",
       "     8     73.8 MiB      0.9 MiB       25003       s_hts_m_sqr = [(hts[i] / 100) ** 2 for i in range(len(sample_indices))]\n",
       "     9                                         \n",
       "    10                                             # Calculate BMIs as a list with list comprehension\n",
       "    11     74.8 MiB      1.0 MiB       25003       bmis = [wts[i] / s_hts_m_sqr[i] for i in range(len(sample_indices))]\n",
       "    12                                         \n",
       "    13     74.8 MiB      0.0 MiB           1       return bmis"
      ]
     },
     "metadata": {},
     "output_type": "display_data"
    }
   ],
   "source": [
    "from bmi_lists1 import calc_bmi_lists\n",
    "import names\n",
    "import numpy as np\n",
    "\n",
    "hts = np.array(np.random.normal(191.4, 13, 25001))\n",
    "wts = np.array(np.random.normal(95.3, 8, 25001))\n",
    "#sample_indices = np.array([i for i in range(25001)])\n",
    "\n",
    "sample_indices = np.random.choice(25001, 25000, replace=False)\n",
    "\n",
    "\n",
    "\n",
    "%load_ext memory_profiler\n",
    "%mprun -f calc_bmi_lists calc_bmi_lists(sample_indices, hts, wts)"
   ]
  },
  {
   "cell_type": "code",
   "execution_count": 1,
   "id": "5fc7523d-8e46-4aea-832c-df04bbed528a",
   "metadata": {},
   "outputs": [
    {
     "name": "stdout",
     "output_type": "stream",
     "text": [
      "70.3 ms ± 772 µs per loop (mean ± std. dev. of 7 runs, 10 loops each)\n"
     ]
    },
    {
     "data": {
      "text/plain": [
       "Timer unit: 1e-06 s\n",
       "\n",
       "Total time: 0.123535 s\n",
       "File: /tmp/ipykernel_9547/606508678.py\n",
       "Function: calc_bmi_lists at line 10\n",
       "\n",
       "Line #      Hits         Time  Per Hit   % Time  Line Contents\n",
       "==============================================================\n",
       "    10                                           def calc_bmi_lists(sample_indices, hts, wts):\n",
       "    11                                           \n",
       "    12         1      19448.0  19448.0     15.7      s_hts = [hts[i] for i in sample_indices]\n",
       "    13         1      20231.0  20231.0     16.4      s_wts = [wts[i] for i in sample_indices]\n",
       "    14                                           \n",
       "    15         1      40625.0  40625.0     32.9      s_hts_m_sqr = [(ht / 100) ** 2 for ht in s_hts]\n",
       "    16         1      43228.0  43228.0     35.0      bmis = [s_wts[i] / s_hts_m_sqr[i] for i in range(len(sample_indices))]\n",
       "    17                                           \n",
       "    18         1          3.0      3.0      0.0      return bmis"
      ]
     },
     "metadata": {},
     "output_type": "display_data"
    }
   ],
   "source": [
    "from bmi_lists import calc_bmi_lists\n",
    "import names\n",
    "import numpy as np\n",
    "\n",
    "hts = np.array(np.random.normal(191.4, 13, 25001))\n",
    "wts = np.array(np.random.normal(95.3, 8, 25001))\n",
    "sample_indices = np.array([i for i in range(25001)])\n",
    "\n",
    "\n",
    "def calc_bmi_lists(sample_indices, hts, wts):\n",
    "\n",
    "    s_hts = [hts[i] for i in sample_indices]\n",
    "    s_wts = [wts[i] for i in sample_indices]\n",
    "\n",
    "    s_hts_m_sqr = [(ht / 100) ** 2 for ht in s_hts]\n",
    "    bmis = [s_wts[i] / s_hts_m_sqr[i] for i in range(len(sample_indices))]\n",
    "\n",
    "    return bmis\n",
    "\n",
    "\n",
    "%load_ext line_profiler\n",
    "%lprun -f calc_bmi_lists calc_bmi_lists(sample_indices, hts, wts)\n",
    "\n",
    "comp_time = %timeit -o calc_bmi_lists(sample_indices, hts, wts)"
   ]
  },
  {
   "cell_type": "code",
   "execution_count": 1,
   "id": "8529eab9-c504-4428-9881-6d800473b577",
   "metadata": {},
   "outputs": [
    {
     "name": "stdout",
     "output_type": "stream",
     "text": [
      "\n"
     ]
    },
    {
     "data": {
      "text/plain": [
       "Filename: /home/jhu/.virtual_environments/bmi_lists_2.py\n",
       "\n",
       "Line #    Mem usage    Increment  Occurences   Line Contents\n",
       "============================================================\n",
       "     1     76.8 MiB     76.8 MiB           1   def calc_bmi_lists(sample_indices, hts, wts):\n",
       "     2                                         \n",
       "     3                                             # Gather sample heights and weights as lists\n",
       "     4     77.7 MiB      0.9 MiB       50005       s_hts = list(hts[i] for i in sample_indices)\n",
       "     5     78.7 MiB      1.0 MiB       50005       s_wts = list(wts[i] for i in sample_indices)\n",
       "     6                                         \n",
       "     7                                             # Convert heights from cm to m and square with list comprehension\n",
       "     8     79.8 MiB      1.0 MiB       25004       s_hts_m_sqr = [(ht / 100) ** 2 for ht in s_hts]\n",
       "     9                                         \n",
       "    10                                             # Calculate BMIs as a list with list comprehension\n",
       "    11     80.5 MiB      0.8 MiB       25004       bmis = [s_wts[i] / s_hts_m_sqr[i] for i in range(len(sample_indices))]\n",
       "    12                                         \n",
       "    13     80.5 MiB      0.0 MiB           1       return bmis"
      ]
     },
     "metadata": {},
     "output_type": "display_data"
    }
   ],
   "source": [
    "from bmi_lists_2 import calc_bmi_lists\n",
    "import names\n",
    "import numpy as np\n",
    "\n",
    "hts = np.array(np.random.normal(191.4, 13, 25001))\n",
    "wts = np.array(np.random.normal(95.3, 8, 25001))\n",
    "sample_indices = np.array([i for i in range(25001)])\n",
    "\n",
    "\n",
    "%load_ext memory_profiler\n",
    "%mprun -f calc_bmi_lists calc_bmi_lists(sample_indices, hts, wts)\n"
   ]
  },
  {
   "cell_type": "code",
   "execution_count": 1,
   "id": "64421f34-b85b-4377-96d8-e0afdbf480f8",
   "metadata": {
    "tags": []
   },
   "outputs": [
    {
     "name": "stdout",
     "output_type": "stream",
     "text": [
      "77.5 ms ± 2.55 ms per loop (mean ± std. dev. of 7 runs, 10 loops each)\n"
     ]
    },
    {
     "data": {
      "text/plain": [
       "Timer unit: 1e-06 s\n",
       "\n",
       "Total time: 0.132232 s\n",
       "File: /tmp/ipykernel_9586/3629480099.py\n",
       "Function: calc_bmi_lists at line 10\n",
       "\n",
       "Line #      Hits         Time  Per Hit   % Time  Line Contents\n",
       "==============================================================\n",
       "    10                                           def calc_bmi_lists(sample_indices, hts, wts):\n",
       "    11                                           \n",
       "    12         1      33010.0  33010.0     25.0      s_hts = list(hts[i] for i in sample_indices)\n",
       "    13         1      28282.0  28282.0     21.4      s_wts = list(wts[i] for i in sample_indices)\n",
       "    14                                           \n",
       "    15         1      46813.0  46813.0     35.4      s_hts_m_sqr = list((ht / 100) ** 2 for ht in s_hts)\n",
       "    16         1      24124.0  24124.0     18.2      bmis = list(s_wts[i] / s_hts_m_sqr[i] for i in range(len(sample_indices)))\n",
       "    17                                           \n",
       "    18         1          3.0      3.0      0.0      return bmis"
      ]
     },
     "metadata": {},
     "output_type": "display_data"
    }
   ],
   "source": [
    "from bmi_lists import calc_bmi_lists\n",
    "import names\n",
    "import numpy as np\n",
    "\n",
    "hts = np.array(np.random.normal(191.4, 13, 25001))\n",
    "wts = np.array(np.random.normal(95.3, 8, 25001))\n",
    "sample_indices = np.array([i for i in range(25001)])\n",
    "\n",
    "\n",
    "def calc_bmi_lists(sample_indices, hts, wts):\n",
    "\n",
    "    s_hts = list(hts[i] for i in sample_indices)\n",
    "    s_wts = list(wts[i] for i in sample_indices)\n",
    "\n",
    "    s_hts_m_sqr = list((ht / 100) ** 2 for ht in s_hts)\n",
    "    bmis = list(s_wts[i] / s_hts_m_sqr[i] for i in range(len(sample_indices)))\n",
    "\n",
    "    return bmis\n",
    "\n",
    "\n",
    "\n",
    "%load_ext line_profiler\n",
    "%lprun -f calc_bmi_lists calc_bmi_lists(sample_indices, hts, wts)\n",
    "\n",
    "comp_time = %timeit -o calc_bmi_lists(sample_indices, hts, wts)"
   ]
  },
  {
   "cell_type": "code",
   "execution_count": 1,
   "id": "34ef36c0-9218-4516-ba7e-f94d3b81e3d6",
   "metadata": {
    "collapsed": true,
    "jupyter": {
     "outputs_hidden": true
    },
    "tags": []
   },
   "outputs": [
    {
     "name": "stdout",
     "output_type": "stream",
     "text": [
      "Filename: /home/jhu/.virtual_environments/bmi_lists_3.py\n",
      "\n",
      "Line #    Mem usage    Increment  Occurences   Line Contents\n",
      "============================================================\n",
      "     3     75.0 MiB     75.0 MiB           1   @profile\n",
      "     4                                         def calc_bmi_lists(sample_indices, hts, wts):\n",
      "     5                                         \n",
      "     6                                             # Gather sample heights and weights as lists\n",
      "     7     76.0 MiB      0.9 MiB       50005       s_hts = list(hts[i] for i in sample_indices)\n",
      "     8     77.0 MiB      1.0 MiB       50005       s_wts = list(wts[i] for i in sample_indices)\n",
      "     9                                         \n",
      "    10                                             # Convert heights from cm to m and square with list comprehension\n",
      "    11     77.8 MiB      0.8 MiB       25004       s_hts_m_sqr = [(ht / 100) ** 2 for ht in s_hts]\n",
      "    12                                         \n",
      "    13                                             # Calculate BMIs as a list with list comprehension\n",
      "    14     78.8 MiB      1.0 MiB       25004       bmis = [s_wts[i] / s_hts_m_sqr[i] for i in range(len(sample_indices))]\n",
      "    15                                         \n",
      "    16     78.8 MiB      0.0 MiB           1       return bmis\n",
      "\n",
      "\n"
     ]
    },
    {
     "data": {
      "text/plain": [
       "[25.344244275278903,\n",
       " 29.25939795821743,\n",
       " 25.83981756813558,\n",
       " 23.33597302734405,\n",
       " 28.047145729127873,\n",
       " 27.33966703267206,\n",
       " 18.89551551484956,\n",
       " 23.473368311595983,\n",
       " 31.41974905120909,\n",
       " 22.995428491020693,\n",
       " 37.873715230219915,\n",
       " 34.85535483952453,\n",
       " 24.037088338567294,\n",
       " 27.799978407090297,\n",
       " 31.565391811321753,\n",
       " 23.28319442546685,\n",
       " 25.054154453236407,\n",
       " 22.249313662731268,\n",
       " 26.81042975502555,\n",
       " 23.377943724265975,\n",
       " 27.781025808848298,\n",
       " 22.715789650390622,\n",
       " 22.66854495686832,\n",
       " 24.27071866459283,\n",
       " 19.896275062381786,\n",
       " 24.4373958035898,\n",
       " 32.220967008527914,\n",
       " 39.107886628225216,\n",
       " 25.589332395108666,\n",
       " 22.664953715902502,\n",
       " 24.339915699371627,\n",
       " 32.8786777065996,\n",
       " 30.75247568129808,\n",
       " 24.990921077777543,\n",
       " 28.49343851058899,\n",
       " 25.081750898827647,\n",
       " 22.452430573070195,\n",
       " 27.084659203628647,\n",
       " 24.814326142809225,\n",
       " 20.822785762172217,\n",
       " 25.519762511177,\n",
       " 25.956970672837468,\n",
       " 28.196357987843033,\n",
       " 29.29565412372735,\n",
       " 18.228460657146034,\n",
       " 22.82955311560004,\n",
       " 24.14418330836133,\n",
       " 20.728474390128113,\n",
       " 20.389005277951536,\n",
       " 22.951041441223126,\n",
       " 20.929166103036057,\n",
       " 23.162641125791488,\n",
       " 23.21676545322749,\n",
       " 31.64747095650847,\n",
       " 20.783613482523435,\n",
       " 20.23201487913021,\n",
       " 32.601848613251946,\n",
       " 23.770191198544016,\n",
       " 26.486502697912428,\n",
       " 22.407514383366607,\n",
       " 33.43821515044406,\n",
       " 29.370419960290537,\n",
       " 28.65956719946428,\n",
       " 22.822210096952077,\n",
       " 21.873073025830166,\n",
       " 28.96581043829669,\n",
       " 28.148408737989826,\n",
       " 24.196387043864434,\n",
       " 25.05171816310293,\n",
       " 24.900350804132927,\n",
       " 20.860333342793485,\n",
       " 28.426063409173377,\n",
       " 28.72731634668375,\n",
       " 33.00784428643041,\n",
       " 24.919497588996755,\n",
       " 26.815591016981028,\n",
       " 26.54430097015086,\n",
       " 30.232121203187553,\n",
       " 35.18002877230818,\n",
       " 39.64532517312061,\n",
       " 23.017626046152554,\n",
       " 36.72383129431225,\n",
       " 28.75463032756536,\n",
       " 39.68226161792956,\n",
       " 20.819048582748376,\n",
       " 26.88458688704565,\n",
       " 23.420622822608482,\n",
       " 21.950622507719434,\n",
       " 32.54847503582483,\n",
       " 25.72100178787539,\n",
       " 26.327994075816573,\n",
       " 26.1938426933268,\n",
       " 25.762043662602277,\n",
       " 27.126599759558456,\n",
       " 21.707368984031564,\n",
       " 28.547872341965327,\n",
       " 27.290351781607786,\n",
       " 37.79549049462123,\n",
       " 18.48310119943527,\n",
       " 19.935682360803874,\n",
       " 27.039174842527505,\n",
       " 35.766800019405366,\n",
       " 27.792524083946414,\n",
       " 25.436592280541184,\n",
       " 24.293198662079046,\n",
       " 29.12838004088356,\n",
       " 21.034767429288504,\n",
       " 25.60463319176573,\n",
       " 25.24991255928932,\n",
       " 17.86247224346919,\n",
       " 29.70864270441379,\n",
       " 22.35391447299496,\n",
       " 25.094695792046892,\n",
       " 25.185746615563012,\n",
       " 25.665873407064517,\n",
       " 27.70000425675044,\n",
       " 29.195883050032627,\n",
       " 20.534885680942566,\n",
       " 21.64234062176445,\n",
       " 24.463815109341063,\n",
       " 37.94163240859765,\n",
       " 29.056332354335836,\n",
       " 23.984990250562856,\n",
       " 36.340709079946144,\n",
       " 30.691193503535395,\n",
       " 18.317199835063043,\n",
       " 31.810977717086097,\n",
       " 23.60708045037446,\n",
       " 31.30196296109598,\n",
       " 29.305577320721746,\n",
       " 30.100096796497688,\n",
       " 27.322703907198797,\n",
       " 30.763333700848943,\n",
       " 30.193643022404718,\n",
       " 37.32607518558307,\n",
       " 27.193462170903757,\n",
       " 34.047060906345706,\n",
       " 27.89049085091906,\n",
       " 26.380757942972203,\n",
       " 32.485771644326704,\n",
       " 24.847026429881932,\n",
       " 28.11234515755946,\n",
       " 22.74454953794441,\n",
       " 23.531889801165416,\n",
       " 33.78752130531364,\n",
       " 25.703845785806376,\n",
       " 25.707003266327458,\n",
       " 28.411630713303836,\n",
       " 27.979866436553692,\n",
       " 22.75139828333793,\n",
       " 19.7495832131442,\n",
       " 24.92551712203044,\n",
       " 25.245717771148232,\n",
       " 26.120854718738766,\n",
       " 21.40578978927594,\n",
       " 22.844667538936097,\n",
       " 33.08053097251007,\n",
       " 27.894350543157607,\n",
       " 23.561822865437918,\n",
       " 27.11816937950242,\n",
       " 22.8626303817749,\n",
       " 30.826230684931144,\n",
       " 22.215383692401574,\n",
       " 25.455343004521897,\n",
       " 22.032252131699924,\n",
       " 19.247396914972533,\n",
       " 26.181316531973852,\n",
       " 33.496705507265126,\n",
       " 26.097183357240873,\n",
       " 25.706057665927396,\n",
       " 30.431351999848015,\n",
       " 26.237158625406504,\n",
       " 23.404495499951537,\n",
       " 26.329815652083745,\n",
       " 26.45449891627026,\n",
       " 24.81619921875117,\n",
       " 23.796260385872944,\n",
       " 31.680720191098043,\n",
       " 25.94702659313598,\n",
       " 32.263488162110825,\n",
       " 23.791267841152994,\n",
       " 26.399821491502735,\n",
       " 35.11938619317484,\n",
       " 32.322695587828115,\n",
       " 27.455017028651184,\n",
       " 25.009795163826624,\n",
       " 29.47884279281053,\n",
       " 27.47738577828263,\n",
       " 24.772685387550442,\n",
       " 37.77259805214171,\n",
       " 20.421441398649502,\n",
       " 26.457685246958484,\n",
       " 34.309836759099056,\n",
       " 31.370789860074204,\n",
       " 31.108959830194216,\n",
       " 22.725623027555645,\n",
       " 22.348683285059373,\n",
       " 36.25641554936628,\n",
       " 19.03788669282582,\n",
       " 31.730156449578228,\n",
       " 23.277975837425423,\n",
       " 30.14838367961522,\n",
       " 28.521097631942872,\n",
       " 27.359543134361722,\n",
       " 26.60061278741334,\n",
       " 20.269923231710923,\n",
       " 21.3154639730417,\n",
       " 23.732516321533925,\n",
       " 30.1210163239316,\n",
       " 23.5780366859479,\n",
       " 25.961105043015717,\n",
       " 15.090682948936884,\n",
       " 29.01279013439326,\n",
       " 29.820846369623492,\n",
       " 26.75024233060681,\n",
       " 31.041501709892277,\n",
       " 19.64315889654412,\n",
       " 27.64988011266742,\n",
       " 22.098965015241575,\n",
       " 26.79445020903314,\n",
       " 23.097356924471203,\n",
       " 24.982370023802275,\n",
       " 24.812323062271943,\n",
       " 18.074439791010267,\n",
       " 19.53263434670719,\n",
       " 19.903911695607587,\n",
       " 36.49751755951124,\n",
       " 28.78250028748426,\n",
       " 25.379787673876873,\n",
       " 31.996989518564074,\n",
       " 31.418221502957334,\n",
       " 28.56914182796164,\n",
       " 25.56098851709038,\n",
       " 31.78359576803691,\n",
       " 25.235507884658833,\n",
       " 33.31327487521574,\n",
       " 26.418876053729413,\n",
       " 28.498625274122087,\n",
       " 22.16010940129769,\n",
       " 19.155804548769407,\n",
       " 21.32048935036964,\n",
       " 29.69455442329161,\n",
       " 19.636014392946333,\n",
       " 24.03779858286926,\n",
       " 22.817942021105996,\n",
       " 21.694530973733727,\n",
       " 29.05856541696634,\n",
       " 26.4410773575171,\n",
       " 31.257923806889966,\n",
       " 25.52946108995669,\n",
       " 30.768552858617145,\n",
       " 27.497040616986048,\n",
       " 27.81372039683262,\n",
       " 31.93805560665241,\n",
       " 24.113646420226956,\n",
       " 21.431639508882146,\n",
       " 31.973716411739595,\n",
       " 34.272140369282525,\n",
       " 30.21895893704663,\n",
       " 26.792859987562206,\n",
       " 23.457916233909383,\n",
       " 23.812798864117372,\n",
       " 25.893410136559428,\n",
       " 20.91733150289834,\n",
       " 25.877796703509294,\n",
       " 31.02114841281582,\n",
       " 24.45450295654199,\n",
       " 28.83678090980026,\n",
       " 24.575378351715152,\n",
       " 22.000797527909487,\n",
       " 29.351019878536313,\n",
       " 25.55041411450209,\n",
       " 23.70032140434299,\n",
       " 27.409019567844535,\n",
       " 21.387625671183713,\n",
       " 22.35493962241469,\n",
       " 22.767247645561707,\n",
       " 38.37877200038778,\n",
       " 24.15889570170324,\n",
       " 32.38048695978895,\n",
       " 23.615345432563384,\n",
       " 29.91591116060735,\n",
       " 23.27881646137966,\n",
       " 31.990565282463074,\n",
       " 21.814600356822247,\n",
       " 18.64185586317596,\n",
       " 29.08766934751552,\n",
       " 26.85759482232553,\n",
       " 27.17315847141826,\n",
       " 17.44903770235269,\n",
       " 26.17832599223166,\n",
       " 25.405023574913933,\n",
       " 20.010688672018233,\n",
       " 21.879252298328748,\n",
       " 26.13699657833788,\n",
       " 33.841588826213574,\n",
       " 24.78704852819438,\n",
       " 35.87486637898574,\n",
       " 30.77653994633023,\n",
       " 24.452848961233272,\n",
       " 20.355861046822287,\n",
       " 24.20520988595435,\n",
       " 30.67683009990656,\n",
       " 28.019622062457415,\n",
       " 23.178797225884946,\n",
       " 25.18956227069773,\n",
       " 31.24950319821367,\n",
       " 23.68593457315995,\n",
       " 25.61243763524727,\n",
       " 28.325252114275983,\n",
       " 24.78719856353953,\n",
       " 32.76850006923739,\n",
       " 28.326739779441855,\n",
       " 22.694185670319655,\n",
       " 22.402524105528258,\n",
       " 24.527555625301236,\n",
       " 30.454901666712814,\n",
       " 24.175756682343255,\n",
       " 25.146478814443675,\n",
       " 26.79176269340451,\n",
       " 28.388624620875486,\n",
       " 28.246483193351963,\n",
       " 37.035317580353826,\n",
       " 31.73317848889161,\n",
       " 27.25359407554969,\n",
       " 27.57978667327665,\n",
       " 36.3674444189351,\n",
       " 27.45312792552462,\n",
       " 23.360204091905878,\n",
       " 32.24647013868318,\n",
       " 31.036786148751126,\n",
       " 18.832321633820438,\n",
       " 32.64202739755403,\n",
       " 33.3349130802126,\n",
       " 37.50305907009363,\n",
       " 20.407831818963558,\n",
       " 22.27373327365534,\n",
       " 25.022375381934634,\n",
       " 28.563117745196593,\n",
       " 22.023779235210725,\n",
       " 24.36952560922311,\n",
       " 28.3104271394856,\n",
       " 28.676555961999536,\n",
       " 28.07712224838361,\n",
       " 21.56846084321916,\n",
       " 31.930476109752938,\n",
       " 27.114602077012428,\n",
       " 18.119350863196328,\n",
       " 26.22737979898172,\n",
       " 21.16954279466465,\n",
       " 30.56820445243524,\n",
       " 27.743330301054545,\n",
       " 24.546472072504553,\n",
       " 23.686927861191705,\n",
       " 26.39420698832683,\n",
       " 28.734419803458618,\n",
       " 29.12274156511205,\n",
       " 26.71430374968712,\n",
       " 24.613590908193586,\n",
       " 27.806738932369008,\n",
       " 25.843585061265912,\n",
       " 19.570070550529746,\n",
       " 30.99650317352623,\n",
       " 22.631176715950936,\n",
       " 36.107373660851444,\n",
       " 24.93233670994401,\n",
       " 32.81455175596147,\n",
       " 31.40659416204109,\n",
       " 20.396138306525284,\n",
       " 25.60330655185807,\n",
       " 24.870219036853776,\n",
       " 24.904885304685333,\n",
       " 26.665155145418268,\n",
       " 24.993916629696894,\n",
       " 29.58027041374823,\n",
       " 23.747287196371598,\n",
       " 26.447285203699458,\n",
       " 27.996241254759575,\n",
       " 20.032221122624325,\n",
       " 23.646133005098804,\n",
       " 21.425862090848078,\n",
       " 28.94942785285027,\n",
       " 18.904193067162666,\n",
       " 26.914356395411104,\n",
       " 30.61292147073509,\n",
       " 28.33712821328188,\n",
       " 29.00915305067852,\n",
       " 24.359499749265336,\n",
       " 24.124880434983517,\n",
       " 32.60463092821668,\n",
       " 27.339260571969806,\n",
       " 24.428538093497107,\n",
       " 26.05871163775721,\n",
       " 25.121692000605655,\n",
       " 22.970666820429035,\n",
       " 27.55027357997689,\n",
       " 28.38823402947184,\n",
       " 34.217013410888576,\n",
       " 23.327442724454702,\n",
       " 27.019205153714505,\n",
       " 24.239835607109825,\n",
       " 20.988149658542643,\n",
       " 34.29114855506114,\n",
       " 28.65819315078027,\n",
       " 31.454019706662372,\n",
       " 26.311657964337577,\n",
       " 23.841857419265494,\n",
       " 24.69644664930953,\n",
       " 29.34828747105254,\n",
       " 21.401974489212733,\n",
       " 28.271852630501787,\n",
       " 26.878110913722416,\n",
       " 19.560218747653867,\n",
       " 22.453202542477896,\n",
       " 24.100148272519945,\n",
       " 26.80771370517091,\n",
       " 32.30822129528014,\n",
       " 25.058793088054397,\n",
       " 26.229495962483032,\n",
       " 26.55235288509523,\n",
       " 40.30436780340051,\n",
       " 27.61763025053372,\n",
       " 26.044794700108525,\n",
       " 32.11497534064155,\n",
       " 25.033547756352796,\n",
       " 21.073713374149836,\n",
       " 32.33654406360196,\n",
       " 24.280791398696234,\n",
       " 28.943574517933367,\n",
       " 25.096198349426842,\n",
       " 24.86649276864408,\n",
       " 20.939614175483108,\n",
       " 26.473943992392094,\n",
       " 21.60883914751457,\n",
       " 26.861573596768324,\n",
       " 23.90993785788673,\n",
       " 30.082478021872266,\n",
       " 20.984004252482816,\n",
       " 34.564146813607714,\n",
       " 29.97565592228241,\n",
       " 22.716622792672393,\n",
       " 23.88043537430574,\n",
       " 19.415771539901385,\n",
       " 25.303538616138503,\n",
       " 26.767051318364086,\n",
       " 24.829295627597126,\n",
       " 28.685473405378353,\n",
       " 18.059744334129142,\n",
       " 33.42553462144574,\n",
       " 23.473346161864633,\n",
       " 30.881936336637963,\n",
       " 28.2978988623397,\n",
       " 21.73402216430055,\n",
       " 38.027466948348234,\n",
       " 23.68077130009869,\n",
       " 30.79512325441312,\n",
       " 27.37630348033205,\n",
       " 24.165305660288844,\n",
       " 25.48618553399128,\n",
       " 26.645856719963128,\n",
       " 29.280280623810878,\n",
       " 24.698960223903587,\n",
       " 28.157833279541844,\n",
       " 26.278312184317706,\n",
       " 27.336484976951763,\n",
       " 20.985133515277205,\n",
       " 20.360112017727964,\n",
       " 23.626484342301353,\n",
       " 25.52933191574618,\n",
       " 28.683256749053758,\n",
       " 25.438205433669967,\n",
       " 29.046142118626392,\n",
       " 25.639970524383973,\n",
       " 24.525514771951546,\n",
       " 24.650399239670236,\n",
       " 25.9527648994923,\n",
       " 28.078374015955113,\n",
       " 26.490941115108473,\n",
       " 28.29509944680451,\n",
       " 34.737759480399696,\n",
       " 25.96613468430918,\n",
       " 27.784938419643094,\n",
       " 25.497777049494946,\n",
       " 28.87182819558988,\n",
       " 31.64492167071606,\n",
       " 27.84148143523425,\n",
       " 24.05758506810698,\n",
       " 35.853780325299425,\n",
       " 21.02176479904868,\n",
       " 26.840624150209127,\n",
       " 28.77964091390715,\n",
       " 27.09597606887091,\n",
       " 27.343697871797463,\n",
       " 20.591415524963388,\n",
       " 22.045794852645482,\n",
       " 27.828187105033052,\n",
       " 24.272087833483795,\n",
       " 26.413194975814275,\n",
       " 23.54974491978383,\n",
       " 25.534669994665776,\n",
       " 19.637626379545704,\n",
       " 28.325501246175396,\n",
       " 39.81143597209599,\n",
       " 29.580003352191685,\n",
       " 27.589613982114457,\n",
       " 32.07382535132098,\n",
       " 33.18014094769142,\n",
       " 26.290707099680716,\n",
       " 24.059596913503874,\n",
       " 21.616976991686077,\n",
       " 24.584941517426603,\n",
       " 24.138249725034306,\n",
       " 23.169269178230763,\n",
       " 19.922187754870095,\n",
       " 24.04331594495156,\n",
       " 26.095334502315435,\n",
       " 23.361321788518705,\n",
       " 22.73655168462532,\n",
       " 28.290009017367773,\n",
       " 25.191988093093933,\n",
       " 23.920022440956345,\n",
       " 30.67980754199225,\n",
       " 22.515169266778983,\n",
       " 32.18044066312084,\n",
       " 23.36444670207816,\n",
       " 24.86640683299431,\n",
       " 35.32342124524203,\n",
       " 25.711778351332622,\n",
       " 27.811186358999898,\n",
       " 25.69756532632345,\n",
       " 21.13863659266806,\n",
       " 23.671283117250717,\n",
       " 33.46223290774013,\n",
       " 26.14763271458358,\n",
       " 26.070487181861665,\n",
       " 23.509402162502532,\n",
       " 23.968716481439337,\n",
       " 36.10012819718261,\n",
       " 22.273313545194316,\n",
       " 21.955194109162342,\n",
       " 27.953991149539696,\n",
       " 23.57349230404679,\n",
       " 30.307128102265004,\n",
       " 25.438976246711565,\n",
       " 22.637052093566098,\n",
       " 22.53538741804905,\n",
       " 24.790988703239556,\n",
       " 26.686968852766267,\n",
       " 26.4543295762883,\n",
       " 25.441464638976136,\n",
       " 25.61016848258537,\n",
       " 28.928357931725827,\n",
       " 21.052967274418954,\n",
       " 24.380397624861903,\n",
       " 25.764609651646904,\n",
       " 40.436476681445065,\n",
       " 37.21941017682334,\n",
       " 26.34025451016466,\n",
       " 23.246162853983755,\n",
       " 22.812492045135006,\n",
       " 28.031933666360654,\n",
       " 25.882808163022865,\n",
       " 20.589823278058052,\n",
       " 27.200776416191037,\n",
       " 27.13666512933432,\n",
       " 20.696608597949353,\n",
       " 25.428156158462933,\n",
       " 28.697020084961867,\n",
       " 28.79125272700786,\n",
       " 28.86250995599582,\n",
       " 22.52717725551979,\n",
       " 28.00219336933718,\n",
       " 31.4092846471446,\n",
       " 25.035514165524937,\n",
       " 23.374125995911804,\n",
       " 38.965335272148366,\n",
       " 26.333806364789453,\n",
       " 25.15087883293358,\n",
       " 24.661773213463924,\n",
       " 24.89647327567152,\n",
       " 25.965170466532204,\n",
       " 27.397065070066716,\n",
       " 22.519351747070434,\n",
       " 30.680393664908596,\n",
       " 26.477346936961695,\n",
       " 23.320306885221726,\n",
       " 22.96723913816473,\n",
       " 22.37073575221292,\n",
       " 22.415552485550194,\n",
       " 21.106342038050432,\n",
       " 29.41757551134458,\n",
       " 30.996577927575082,\n",
       " 25.441183767495144,\n",
       " 27.52859656111509,\n",
       " 24.933235225838192,\n",
       " 28.583833561096856,\n",
       " 23.34635299744428,\n",
       " 27.258804481555714,\n",
       " 22.770009253086542,\n",
       " 24.007264550944157,\n",
       " 28.296795485261736,\n",
       " 30.88337216409812,\n",
       " 25.57899157903332,\n",
       " 32.0464474197445,\n",
       " 29.151359671400332,\n",
       " 20.289825014519923,\n",
       " 31.423673362595093,\n",
       " 27.90307957565436,\n",
       " 26.410308821567146,\n",
       " 29.467405791087767,\n",
       " 27.090454525803185,\n",
       " 32.04691941451635,\n",
       " 27.613084893275712,\n",
       " 21.200027111562697,\n",
       " 24.176337323927573,\n",
       " 28.688369595639156,\n",
       " 25.075180914511886,\n",
       " 39.855789548550796,\n",
       " 31.924476517177624,\n",
       " 23.78119313477232,\n",
       " 27.116001735687885,\n",
       " 25.98526787360955,\n",
       " 27.41416909645145,\n",
       " 32.46711824212901,\n",
       " 16.109960391100213,\n",
       " 26.653892944416825,\n",
       " 29.078964109325625,\n",
       " 34.35733055063568,\n",
       " 33.94862844675349,\n",
       " 30.379384379444314,\n",
       " 18.191911655864377,\n",
       " 29.88227190177429,\n",
       " 23.46015016569637,\n",
       " 24.14052120150005,\n",
       " 25.53466964282817,\n",
       " 29.98410232455465,\n",
       " 28.25304227247945,\n",
       " 23.00552266151921,\n",
       " 24.87259501276831,\n",
       " 20.206108693317997,\n",
       " 27.34565727248727,\n",
       " 32.34954082190375,\n",
       " 28.568729082814343,\n",
       " 27.375759244067865,\n",
       " 23.34938790231172,\n",
       " 23.915908904556968,\n",
       " 40.46515749047316,\n",
       " 29.157405671969727,\n",
       " 36.40813930425753,\n",
       " 19.801477795451024,\n",
       " 43.02103208115147,\n",
       " 27.26045074606331,\n",
       " 25.930862469058475,\n",
       " 32.594208071504504,\n",
       " 24.61736050257565,\n",
       " 28.60701079037614,\n",
       " 18.869680632565636,\n",
       " 33.10149800205742,\n",
       " 28.31347992155222,\n",
       " 28.25214328638295,\n",
       " 23.214526499836484,\n",
       " 39.15920449831361,\n",
       " 20.760239737535517,\n",
       " 29.788537831937813,\n",
       " 28.666208122049543,\n",
       " 25.927656961637513,\n",
       " 26.63308193072518,\n",
       " 26.005262276201478,\n",
       " 22.291866881686683,\n",
       " 22.01709563609284,\n",
       " 23.970524285356205,\n",
       " 29.475581180764422,\n",
       " 27.687679073703734,\n",
       " 26.224019600133847,\n",
       " 28.577145375046943,\n",
       " 25.507703109140355,\n",
       " 23.886387351861515,\n",
       " 31.177828411215014,\n",
       " 26.153085542951327,\n",
       " 25.007818887707923,\n",
       " 29.47013783770318,\n",
       " 25.268255392832963,\n",
       " 22.825351334854478,\n",
       " 28.78052451741375,\n",
       " 30.956468574179606,\n",
       " 31.807323061227656,\n",
       " 24.071308779106612,\n",
       " 28.991011788772454,\n",
       " 26.38061527780543,\n",
       " 21.24094944025424,\n",
       " 25.143843581844227,\n",
       " 24.872980895251942,\n",
       " 24.954108973922796,\n",
       " 25.862466889294186,\n",
       " 26.121806491761397,\n",
       " 26.044541655991463,\n",
       " 23.259160252782326,\n",
       " 23.582181146156987,\n",
       " 25.92333931712489,\n",
       " 30.050817644979453,\n",
       " 31.727718022476786,\n",
       " 24.316366411274853,\n",
       " 26.99165508762079,\n",
       " 33.21574614218154,\n",
       " 24.347343143004935,\n",
       " 33.7369591398861,\n",
       " 26.993043625904924,\n",
       " 25.932020282805112,\n",
       " 23.510995555575388,\n",
       " 23.969515868931335,\n",
       " 32.72572985779708,\n",
       " 28.05016821824893,\n",
       " 22.03763622160828,\n",
       " 26.1938121531195,\n",
       " 33.5451925908399,\n",
       " 29.17298924408572,\n",
       " 24.26021330493552,\n",
       " 28.046917657492973,\n",
       " 23.50113130861129,\n",
       " 29.50665564070081,\n",
       " 24.218399406866407,\n",
       " 23.710573187541787,\n",
       " 32.99119094570338,\n",
       " 22.998497629168423,\n",
       " 24.268734557057318,\n",
       " 23.353023713081157,\n",
       " 24.708764256436563,\n",
       " 22.899560976086214,\n",
       " 23.18329454139711,\n",
       " 25.23159952538985,\n",
       " 28.030063725100966,\n",
       " 32.04919653566062,\n",
       " 30.065174077343144,\n",
       " 25.18804686735564,\n",
       " 25.513851171935432,\n",
       " 23.551132298768962,\n",
       " 24.382680078425214,\n",
       " 26.159068520462633,\n",
       " 21.36061255084368,\n",
       " 31.662169579585626,\n",
       " 23.280131786115028,\n",
       " 25.7778017827607,\n",
       " 23.392740186318914,\n",
       " 26.14426026038257,\n",
       " 23.59289142444827,\n",
       " 24.60172668828518,\n",
       " 22.286047486001962,\n",
       " 32.34371864743644,\n",
       " 23.544822701610183,\n",
       " 29.552748091670846,\n",
       " 26.372063527213264,\n",
       " 31.50569776059232,\n",
       " 26.36874181534506,\n",
       " 37.507323046631875,\n",
       " 24.93981135518865,\n",
       " 20.757465410678222,\n",
       " 21.821370576458808,\n",
       " 19.704466702901982,\n",
       " 24.479415139589328,\n",
       " 24.71230558289031,\n",
       " 28.476696752838148,\n",
       " 29.14675540842526,\n",
       " 22.293779123233737,\n",
       " 26.516738547990105,\n",
       " 35.34209630383917,\n",
       " 27.536765340321725,\n",
       " 28.84069386485233,\n",
       " 29.089495824745036,\n",
       " 22.33217952271726,\n",
       " 34.06163946217747,\n",
       " 30.638621353477046,\n",
       " 28.498988906230426,\n",
       " 22.959917589649905,\n",
       " 24.18571478732868,\n",
       " 22.999185428562832,\n",
       " 25.66341194747722,\n",
       " 38.137341292643136,\n",
       " 26.694777101788954,\n",
       " 36.04920218125563,\n",
       " 37.91427345979348,\n",
       " 24.188259663159233,\n",
       " 29.705124370146716,\n",
       " 24.115533819276745,\n",
       " 18.90425312472875,\n",
       " 23.100663211424376,\n",
       " 23.928935396253372,\n",
       " 22.89989354668359,\n",
       " 23.146092851580374,\n",
       " 24.25154435161654,\n",
       " 21.857046771496595,\n",
       " 27.80454338933523,\n",
       " 28.139304363668817,\n",
       " 35.375490525899146,\n",
       " 27.91033805001137,\n",
       " 26.457708454490923,\n",
       " 35.89920518174233,\n",
       " 28.151305647863605,\n",
       " 26.42770189245436,\n",
       " 26.338687522662603,\n",
       " 23.1616852391514,\n",
       " 27.188985313620712,\n",
       " 25.725103963139578,\n",
       " 29.149899817041153,\n",
       " 32.147998445221766,\n",
       " 16.75769413378984,\n",
       " 25.152285324088528,\n",
       " 27.692944617843676,\n",
       " 26.512697390187377,\n",
       " 21.839788695884828,\n",
       " 26.190235920658754,\n",
       " 20.984837884928808,\n",
       " 32.62233839340486,\n",
       " 26.24868993707795,\n",
       " 20.650757489409486,\n",
       " 22.144283052921647,\n",
       " 24.242579860767844,\n",
       " 19.742460406730707,\n",
       " 23.35790903242109,\n",
       " 22.02535104750878,\n",
       " 32.0125428291894,\n",
       " 24.89855753920776,\n",
       " 26.252974455752984,\n",
       " 21.50582610307108,\n",
       " 36.64003085199976,\n",
       " 34.658164370268445,\n",
       " 22.837127181047972,\n",
       " 22.24287646667515,\n",
       " 30.914911608026834,\n",
       " 25.437604040829378,\n",
       " 28.6397989713498,\n",
       " 25.975903329769597,\n",
       " 25.03700988438755,\n",
       " 35.01219737370668,\n",
       " 26.957958627195207,\n",
       " 37.86934599300327,\n",
       " 28.623677810840846,\n",
       " 23.231454834779697,\n",
       " 21.351359949384292,\n",
       " 33.243110556551144,\n",
       " 27.732456527865143,\n",
       " 47.563692900888675,\n",
       " 21.195458514125704,\n",
       " 22.58436152858148,\n",
       " 22.19316953188636,\n",
       " 20.808481714088703,\n",
       " 28.041724977324836,\n",
       " 25.664633306717608,\n",
       " 32.35928985487919,\n",
       " 21.77200828964801,\n",
       " 23.824183063356568,\n",
       " 26.821599582136653,\n",
       " 32.46465094323767,\n",
       " 30.29064824952808,\n",
       " 24.978050184251057,\n",
       " 23.51761609439832,\n",
       " 25.79689536273072,\n",
       " 27.43877515997806,\n",
       " 25.015282688377745,\n",
       " 21.074413774689052,\n",
       " 21.4109481324442,\n",
       " 27.13209213124138,\n",
       " 24.201555649903526,\n",
       " 29.582588338401873,\n",
       " 25.06958646698891,\n",
       " 31.036275436483592,\n",
       " 26.44630746334107,\n",
       " 32.19537482012081,\n",
       " 27.252843979328365,\n",
       " 26.017799031833047,\n",
       " 31.708227371711388,\n",
       " 22.25850848838199,\n",
       " 26.490399434765667,\n",
       " 26.819404405379,\n",
       " 23.653585139697487,\n",
       " 25.221541764071414,\n",
       " 23.41334327900943,\n",
       " 25.60693590468537,\n",
       " 25.59787845366325,\n",
       " 24.417454929776678,\n",
       " 27.975412016590784,\n",
       " 25.774829540498402,\n",
       " 21.001239178328166,\n",
       " 19.24641236367797,\n",
       " 31.149060607877022,\n",
       " 33.445770307706496,\n",
       " 22.91669044500914,\n",
       " 30.043738590581096,\n",
       " 42.458677104609265,\n",
       " 22.40988930622933,\n",
       " 27.108983012402245,\n",
       " 30.0907291727829,\n",
       " 28.82222077127513,\n",
       " 27.581962827772816,\n",
       " 19.615006753572448,\n",
       " 33.45696860687687,\n",
       " 22.731337076463454,\n",
       " 24.078049638365442,\n",
       " 27.218432898093283,\n",
       " 22.591737335929956,\n",
       " 22.804876779354014,\n",
       " 26.287505345936243,\n",
       " 21.915845340618905,\n",
       " 27.513315788007137,\n",
       " 28.30587660734654,\n",
       " 17.133018759795387,\n",
       " 23.093937262353307,\n",
       " 32.35191648666332,\n",
       " 25.45872929756844,\n",
       " 23.27426488235,\n",
       " 25.65619771422829,\n",
       " 33.15624586078901,\n",
       " 23.78228282410361,\n",
       " 23.971936116875753,\n",
       " 27.370536953970788,\n",
       " 27.570063851707662,\n",
       " 29.382144205303334,\n",
       " 23.3382409786183,\n",
       " 26.867933715714877,\n",
       " 28.70667942600524,\n",
       " 27.601122002677563,\n",
       " 23.70776864059527,\n",
       " 25.273611600446834,\n",
       " 22.006489728292728,\n",
       " 24.066093007283477,\n",
       " 23.384849755952636,\n",
       " 32.56927109482883,\n",
       " 25.95724704128514,\n",
       " 28.71461933205676,\n",
       " 26.015993155246974,\n",
       " 23.091275003990894,\n",
       " 28.19235152392956,\n",
       " 28.797753912364566,\n",
       " 26.312384177327548,\n",
       " 27.86719425724363,\n",
       " 29.68833807367785,\n",
       " 23.369471361816082,\n",
       " 22.165059742969653,\n",
       " 22.126010137219883,\n",
       " 30.321953910984302,\n",
       " 25.47619744134232,\n",
       " 28.69942176031036,\n",
       " 24.769438296897757,\n",
       " 18.886309405894703,\n",
       " 23.09708178359629,\n",
       " 30.278862264007834,\n",
       " 22.461868014204427,\n",
       " 25.26276127301163,\n",
       " 26.16927367679127,\n",
       " 29.348104939682024,\n",
       " 30.046567243312843,\n",
       " 31.95556842554012,\n",
       " 23.686431843100273,\n",
       " 33.24525767312999,\n",
       " 25.76834291751085,\n",
       " 23.277346242194668,\n",
       " 28.638970011252262,\n",
       " 27.72970195690136,\n",
       " 29.78303945164468,\n",
       " 30.026721354223564,\n",
       " 34.4153374858267,\n",
       " 30.57664624325749,\n",
       " 32.16543813009762,\n",
       " 29.90266691952535,\n",
       " 22.35572906034795,\n",
       " 24.864438213000685,\n",
       " 22.84154388161658,\n",
       " 26.297248239029738,\n",
       " 23.02286115019722,\n",
       " 24.267815473913018,\n",
       " 26.75445498709989,\n",
       " 27.510847975209796,\n",
       " 34.285811365524125,\n",
       " 27.863150217923124,\n",
       " 20.836460879209866,\n",
       " 27.159243183946266,\n",
       " 29.07282678431512,\n",
       " 23.560174695063797,\n",
       " 23.230496007458026,\n",
       " 27.253521318886722,\n",
       " 19.13063267132569,\n",
       " 24.386547337510812,\n",
       " 27.549197050840895,\n",
       " 29.91697572948955,\n",
       " 27.18824795456594,\n",
       " 33.76417416112789,\n",
       " 26.722407384378428,\n",
       " 29.64077502331481,\n",
       " 27.786984996896503,\n",
       " 30.883349186295103,\n",
       " 28.887349419883446,\n",
       " 25.668530553868163,\n",
       " 26.418059077543738,\n",
       " 23.1782553713187,\n",
       " 23.080015915247923,\n",
       " 25.639433239789373,\n",
       " 21.568585456019168,\n",
       " 26.915492588589707,\n",
       " 26.114430642153096,\n",
       " 24.73831327881362,\n",
       " 22.175148205934757,\n",
       " ...]"
      ]
     },
     "execution_count": 1,
     "metadata": {},
     "output_type": "execute_result"
    }
   ],
   "source": [
    "# *************************************************************************************************** #\n",
    "# *************************************************************************************************** #\n",
    "import names\n",
    "import numpy as np\n",
    "\n",
    "hts = np.array(np.random.normal(191.4, 13, 25001))\n",
    "wts = np.array(np.random.normal(95.3, 8, 25001))\n",
    "sample_indices = np.array([i for i in range(25001)])\n",
    "\n",
    "\n",
    "from bmi_lists_3 import calc_bmi_lists\n",
    "\n",
    "calc_bmi_lists(sample_indices, hts, wts)\n",
    "\n",
    "\n",
    "# Why the return value pop out? I didnt ask the function to print\n",
    "# can we evaluate function preformance (memory and timing) but not return value pops out? \n",
    "# *************************************************************************************************** #"
   ]
  },
  {
   "cell_type": "markdown",
   "id": "a30cf632-b42c-4d35-a2be-188af5bb4364",
   "metadata": {},
   "source": [
    "## Using %mprun: Hero BMI 2.0\n",
    "\n",
    "Let's see if using a different approach to calculate the BMIs can save some memory. If you remember, each hero's height and weight is stored in a numpy array. That means you can use NumPy's handy array indexing capabilities and broadcasting to perform your calculations. A function named calc_bmi_arrays has been created and saved to a file titled bmi_arrays.py. For convenience, it is displayed below:\n",
    "\n",
    "def calc_bmi_arrays(sample_indices, hts, wts):\n",
    "\n",
    "    # Gather sample heights and weights as arrays\n",
    "    s_hts = hts[sample_indices]\n",
    "    s_wts = wts[sample_indices]\n",
    "\n",
    "    # Convert heights from cm to m and square with broadcasting\n",
    "    s_hts_m_sqr = (s_hts / 100) ** 2\n",
    "\n",
    "    # Calculate BMIs as an array using broadcasting\n",
    "    bmis = s_wts / s_hts_m_sqr\n",
    "\n",
    "    return bmis\n",
    "\n",
    "Notice that this function performs all necessary calculations using arrays.\n",
    "\n",
    "Let's see if this updated array approach decreases your memory footprint:\n",
    "\n",
    "    Load the memory_profiler package into your IPython session.\n",
    "    Import calc_bmi_arrays from bmi_arrays.\n",
    "    Once you've completed the above steps, use %mprun to profile the calc_bmi_arrays() function acting on your superheroes data. The sample_indices array, hts array, and wts array have been loaded into your session.\n",
    "\n",
    "After you've finished coding, answer the following question:\n",
    "\n",
    "# How much memory do the array indexing and broadcasting lines of code consume in the calc_bmi_array() function? (i.e., what is the total sum of the Increment column for these four lines of code?)\n",
    "Instructions\n",
    "50 XP\n",
    "Possible Answers\n",
    "\n",
    "    10.0 MiB - 15.0 MiB\n",
    "    0.0 MiB\n",
    "    20.0 MiB - 30.0 MiB\n",
    "#    0.1 MiB - 2.0 MiB   # 0.2, 0.0, 0.5 MiB\n",
    "    "
   ]
  },
  {
   "cell_type": "code",
   "execution_count": 1,
   "id": "fb52dbd9-c7af-4c5c-87e0-3f67071bff27",
   "metadata": {},
   "outputs": [
    {
     "name": "stdout",
     "output_type": "stream",
     "text": [
      "[    0     1     2 ... 24998 24999 25000]\n",
      "[199.96283563 199.81327985 189.51613558 ... 182.54663055 208.59182354\n",
      " 196.71642909]\n",
      "[199.96283563 199.81327985 189.51613558 ... 182.54663055 208.59182354\n",
      " 196.71642909]\n"
     ]
    }
   ],
   "source": [
    "import numpy as np\n",
    "\n",
    "hts = np.array(np.random.normal(191.4, 13, 25001))\n",
    "wts = np.array(np.random.normal(95.3, 8, 25001))\n",
    "sample_indices = np.array([i for i in range(25001)])\n",
    "print(sample_indices)\n",
    "\n",
    "# Gather sample heights and weights as arrays\n",
    "# What? array indexing using an array? \n",
    "s_hts = hts[sample_indices]\n",
    "s_wts = wts[sample_indices]\n",
    "\n",
    "ss_hts = hts[:]\n",
    "\n",
    "print(s_hts)\n",
    "print(ss_hts)"
   ]
  },
  {
   "cell_type": "code",
   "execution_count": 1,
   "id": "73f93722-2d5a-4cdb-8030-db8ce51930b9",
   "metadata": {},
   "outputs": [
    {
     "name": "stdout",
     "output_type": "stream",
     "text": [
      "Filename: /home/jhu/.virtual_environments/bmi_lists_4.py\n",
      "\n",
      "Line #    Mem usage    Increment  Occurences   Line Contents\n",
      "============================================================\n",
      "     3     72.7 MiB     72.7 MiB           1   @profile\n",
      "     4                                         def calc_bmi_lists(sample_indices, hts, wts):\n",
      "     5                                         \n",
      "     6                                             # Gather sample heights and weights as lists\n",
      "     7     72.9 MiB      0.2 MiB           1       s_hts = hts[sample_indices]\n",
      "     8     72.9 MiB      0.0 MiB           1       s_wts = wts[sample_indices]\n",
      "     9                                         \n",
      "    10                                             # Convert heights from cm to m and square with list comprehension\n",
      "    11     73.4 MiB      0.5 MiB           1       s_hts_m_sqr = (s_hts / 100) ** 2\n",
      "    12                                         \n",
      "    13                                             # Calculate BMIs as a list with list comprehension\n",
      "    14     73.4 MiB      0.0 MiB           1       bmis = s_wts / s_hts_m_sqr\n",
      "    15                                         \n",
      "    16     73.4 MiB      0.0 MiB           1       return bmis\n",
      "\n",
      "\n"
     ]
    },
    {
     "data": {
      "text/plain": [
       "array([25.32860114, 28.23360968, 27.50760805, ..., 27.43092678,\n",
       "       26.41310339, 22.06346943])"
      ]
     },
     "execution_count": 1,
     "metadata": {},
     "output_type": "execute_result"
    }
   ],
   "source": [
    "import numpy as np\n",
    "\n",
    "\n",
    "hts = np.array(np.random.normal(191.4, 13, 25001))\n",
    "wts = np.array(np.random.normal(95.3, 8, 25001))\n",
    "sample_indices = np.array([i for i in range(25001)])\n",
    "\n",
    "\n",
    "\n",
    "from bmi_lists_4 import calc_bmi_lists\n",
    "\n",
    "calc_bmi_lists(sample_indices, hts, wts)"
   ]
  },
  {
   "cell_type": "code",
   "execution_count": 1,
   "id": "7a8e19a8-1150-46c5-a265-22ec483f3f29",
   "metadata": {},
   "outputs": [
    {
     "name": "stdout",
     "output_type": "stream",
     "text": [
      "Filename: /home/jhu/.virtual_environments/bmi_lists_44.py\n",
      "\n",
      "Line #    Mem usage    Increment  Occurences   Line Contents\n",
      "============================================================\n",
      "     3     73.0 MiB     73.0 MiB           1   @profile\n",
      "     4                                         def calc_bmi_lists(sample_indices, hts, wts):\n",
      "     5                                         \n",
      "     6                                             # Gather sample heights and weights as lists\n",
      "     7                                             #s_hts = hts[sample_indices]\n",
      "     8                                             #s_wts = wts[sample_indices]\n",
      "     9                                         \n",
      "    10                                             # Convert heights from cm to m and square with list comprehension\n",
      "    11     73.2 MiB      0.2 MiB           1       s_hts_m_sqr = (hts / 100) ** 2\n",
      "    12                                         \n",
      "    13                                             # Calculate BMIs as a list with list comprehension\n",
      "    14     73.2 MiB      0.0 MiB           1       bmis = wts / s_hts_m_sqr\n",
      "    15                                         \n",
      "    16     73.2 MiB      0.0 MiB           1       return bmis\n",
      "\n",
      "\n"
     ]
    },
    {
     "data": {
      "text/plain": [
       "array([30.86914709, 26.06234474, 23.53505725, ..., 24.61236614,\n",
       "       28.84038013, 27.94106885])"
      ]
     },
     "execution_count": 1,
     "metadata": {},
     "output_type": "execute_result"
    }
   ],
   "source": [
    "import numpy as np\n",
    "\n",
    "hts = np.array(np.random.normal(191.4, 13, 25001))\n",
    "wts = np.array(np.random.normal(95.3, 8, 25001))\n",
    "sample_indices = np.array([i for i in range(25001)])\n",
    "\n",
    "\n",
    "from bmi_lists_44 import calc_bmi_lists\n",
    "\n",
    "calc_bmi_lists(sample_indices, hts, wts)"
   ]
  },
  {
   "cell_type": "code",
   "execution_count": 1,
   "id": "e499794d-7b3c-4cff-81a0-5a5106b2247f",
   "metadata": {},
   "outputs": [
    {
     "name": "stdout",
     "output_type": "stream",
     "text": [
      "Filename: /home/jhu/.virtual_environments/bmi_lists_5.py\n",
      "\n",
      "Line #    Mem usage    Increment  Occurences   Line Contents\n",
      "============================================================\n",
      "     3     74.6 MiB     74.6 MiB           1   @profile\n",
      "     4                                         def calc_bmi_lists(sample_indices, hts, wts):\n",
      "     5                                         \n",
      "     6                                             # Gather sample heights and weights as lists\n",
      "     7     74.6 MiB      0.0 MiB           1       s_hts = hts[:]\n",
      "     8     74.6 MiB      0.0 MiB           1       s_wts = wts[:]\n",
      "     9                                         \n",
      "    10                                             # Convert heights from cm to m and square with list comprehension\n",
      "    11     74.8 MiB      0.2 MiB           1       s_hts_m_sqr = (s_hts / 100) ** 2\n",
      "    12                                         \n",
      "    13                                             # Calculate BMIs as a list with list comprehension\n",
      "    14     74.8 MiB      0.0 MiB           1       bmis = s_wts / s_hts_m_sqr\n",
      "    15                                         \n",
      "    16     74.8 MiB      0.0 MiB           1       return bmis\n",
      "\n",
      "\n"
     ]
    },
    {
     "data": {
      "text/plain": [
       "array([35.87387881, 20.8379687 , 35.27832338, ..., 20.38479907,\n",
       "       27.78618811, 31.05260026])"
      ]
     },
     "execution_count": 1,
     "metadata": {},
     "output_type": "execute_result"
    }
   ],
   "source": [
    "import names\n",
    "import numpy as np\n",
    "\n",
    "heroes = [names.get_first_name() for i in range(25001)]\n",
    "\n",
    "hts = np.array(np.random.normal(191.4, 13, 25001))\n",
    "wts = np.array(np.random.normal(95.3, 8, 25001))\n",
    "sample_indices = np.array([i for i in range(25001)])\n",
    "\n",
    "\n",
    "\n",
    "from bmi_lists_5 import calc_bmi_lists\n",
    "\n",
    "calc_bmi_lists(sample_indices, hts, wts)"
   ]
  },
  {
   "cell_type": "code",
   "execution_count": 1,
   "id": "20f9d0fa-6a67-4d2c-9009-88199b598e10",
   "metadata": {},
   "outputs": [
    {
     "name": "stdout",
     "output_type": "stream",
     "text": [
      "Filename: /home/jhu/.virtual_environments/bmi_lists_7.py\n",
      "\n",
      "Line #    Mem usage    Increment  Occurences   Line Contents\n",
      "============================================================\n",
      "     3     74.9 MiB     74.9 MiB           1   @profile\n",
      "     4                                         def calc_bmi_lists(sample_indices, hts, wts):\n",
      "     5                                         \n",
      "     6                                             # Gather sample heights and weights as lists\n",
      "     7                                             #s_hts = hts[:]\n",
      "     8                                             #s_wts = wts[:]\n",
      "     9                                         \n",
      "    10                                             # Convert heights from cm to m and square with list comprehension\n",
      "    11     75.1 MiB      0.2 MiB           1       s_hts_m_sqr = (hts / 100) ** 2\n",
      "    12                                         \n",
      "    13                                             # Calculate BMIs as a list with list comprehension\n",
      "    14     75.1 MiB      0.0 MiB           1       bmis = wts / s_hts_m_sqr\n",
      "    15                                         \n",
      "    16     75.1 MiB      0.0 MiB           1       return bmis\n",
      "\n",
      "\n"
     ]
    },
    {
     "data": {
      "text/plain": [
       "array([23.41324038, 31.98418877, 26.1239234 , ..., 30.57338885,\n",
       "       30.89731134, 30.95359473])"
      ]
     },
     "execution_count": 1,
     "metadata": {},
     "output_type": "execute_result"
    }
   ],
   "source": [
    "import names\n",
    "import numpy as np\n",
    "\n",
    "heroes = [names.get_first_name() for i in range(25001)]\n",
    "\n",
    "hts = np.array(np.random.normal(191.4, 13, 25001))\n",
    "wts = np.array(np.random.normal(95.3, 8, 25001))\n",
    "sample_indices = np.array([i for i in range(25001)])\n",
    "\n",
    "\n",
    "\n",
    "from bmi_lists_7 import calc_bmi_lists\n",
    "\n",
    "calc_bmi_lists(sample_indices, hts, wts)"
   ]
  },
  {
   "cell_type": "code",
   "execution_count": 1,
   "id": "d22330d3-c351-4991-9e5f-96f2f0644e29",
   "metadata": {},
   "outputs": [
    {
     "name": "stdout",
     "output_type": "stream",
     "text": [
      "\n"
     ]
    },
    {
     "data": {
      "text/plain": [
       "Filename: /home/jhu/.virtual_environments/bmi_lists_6.py\n",
       "\n",
       "Line #    Mem usage    Increment  Occurences   Line Contents\n",
       "============================================================\n",
       "     4     72.7 MiB     72.7 MiB           1   def calc_bmi_lists(sample_indices, hts, wts):\n",
       "     5                                         \n",
       "     6                                             # Gather sample heights and weights as lists\n",
       "     7     72.7 MiB      0.0 MiB           1       s_hts = hts[:]\n",
       "     8     72.7 MiB      0.0 MiB           1       s_wts = wts[:]\n",
       "     9                                         \n",
       "    10                                             # Convert heights from cm to m and square with list comprehension\n",
       "    11     73.1 MiB      0.4 MiB           1       s_hts_m_sqr = (s_hts / 100) ** 2\n",
       "    12                                         \n",
       "    13                                             # Calculate BMIs as a list with list comprehension\n",
       "    14     73.1 MiB      0.0 MiB           1       bmis = s_wts / s_hts_m_sqr\n",
       "    15                                         \n",
       "    16     73.1 MiB      0.0 MiB           1       return bmis"
      ]
     },
     "metadata": {},
     "output_type": "display_data"
    }
   ],
   "source": [
    "import numpy as np\n",
    "\n",
    "\n",
    "hts = np.array(np.random.normal(191.4, 13, 25001))\n",
    "wts = np.array(np.random.normal(95.3, 8, 25001))\n",
    "sample_indices = np.array([i for i in range(25001)])\n",
    "\n",
    "\n",
    "\n",
    "from bmi_lists_6 import calc_bmi_lists\n",
    "\n",
    "\n",
    "%load_ext memory_profiler\n",
    "\n",
    "%mprun -f calc_bmi_lists calc_bmi_lists(sample_indices, hts, wts)"
   ]
  },
  {
   "cell_type": "code",
   "execution_count": 2,
   "id": "f6b7210a-ed2b-4fb1-8753-bba0d5a73ae2",
   "metadata": {},
   "outputs": [
    {
     "name": "stdout",
     "output_type": "stream",
     "text": [
      "25000\n",
      "25000\n",
      "49.5 µs ± 179 ns per loop (mean ± std. dev. of 7 runs, 10000 loops each)\n"
     ]
    },
    {
     "data": {
      "text/plain": [
       "Timer unit: 1e-06 s\n",
       "\n",
       "Total time: 9.8e-05 s\n",
       "File: /tmp/ipykernel_42873/3800822256.py\n",
       "Function: calc_bmi_lists at line 13\n",
       "\n",
       "Line #      Hits         Time  Per Hit   % Time  Line Contents\n",
       "==============================================================\n",
       "    13                                           def calc_bmi_lists(sample_indices, hts, wts):\n",
       "    14                                           \n",
       "    15         1         71.0     71.0     72.4      s_hts_m_sqr = (hts / 100) ** 2\n",
       "    16         1         26.0     26.0     26.5      bmis = wts / s_hts_m_sqr\n",
       "    17                                           \n",
       "    18         1          1.0      1.0      1.0      return bmis"
      ]
     },
     "metadata": {},
     "output_type": "display_data"
    }
   ],
   "source": [
    "import numpy as np\n",
    "\n",
    "\n",
    "hts = np.array(np.random.normal(191.4, 13, 25001))\n",
    "wts = np.array(np.random.normal(95.3, 8, 25001))\n",
    "#sample_indices = np.array([i for i in range(25001)])\n",
    "\n",
    "sample_indices = np.random.choice(25001, 25000, replace=False)\n",
    "print(len(sample_indices))\n",
    "print(len(set(sample_indices)))\n",
    "\n",
    "\n",
    "def calc_bmi_lists(sample_indices, hts, wts):\n",
    "\n",
    "    s_hts_m_sqr = (hts / 100) ** 2\n",
    "    bmis = wts / s_hts_m_sqr\n",
    "\n",
    "    return bmis\n",
    "\n",
    "\n",
    "\n",
    "%load_ext line_profiler\n",
    "\n",
    "%lprun -f calc_bmi_lists calc_bmi_lists(sample_indices, hts, wts)\n",
    "\n",
    "\n",
    "np_time = %timeit -o calc_bmi_lists(sample_indices, hts, wts)\n"
   ]
  },
  {
   "cell_type": "markdown",
   "id": "cea07196-8626-42c9-a441-2c26aac2450a",
   "metadata": {},
   "source": [
    "## Bringing it all together: Star Wars profiling\n",
    "\n",
    "# *****************************************************************************************************\n",
    "A list of 480 superheroes has been loaded into your session (called heroes) as well as a list of each hero's corresponding publisher (called publishers).\n",
    "\n",
    "You'd like to filter the heroes list based on a hero's specific publisher, but are unsure which of the below functions is more efficient.\n",
    "\n",
    "def get_publisher_heroes(heroes, publishers, desired_publisher):\n",
    "\n",
    "    desired_heroes = []\n",
    "\n",
    "    for i,pub in enumerate(publishers):\n",
    "        if pub == desired_publisher:\n",
    "            desired_heroes.append(heroes[i])\n",
    "\n",
    "    return desired_heroes\n",
    "\n",
    "def get_publisher_heroes_np(heroes, publishers, desired_publisher):\n",
    "\n",
    "    heroes_np = np.array(heroes)\n",
    "    pubs_np = np.array(publishers)\n",
    "\n",
    "# *****************************************************************************************************\n",
    "    desired_heroes = heroes_np[pubs_np == desired_publisher]\n",
    "\n",
    "    return desired_heroes\n",
    "\n",
    "Instructions 1/4\n",
    "25 XP\n",
    "\n",
    "    1 Question\n",
    "    Use the get_publisher_heroes() function and the get_publisher_heroes_np() function to collect heroes from the Star Wars universe. The desired_publisher for Star Wars is 'George Lucas'.\n",
    "    Hint\n",
    "\n",
    "    You can use get_publisher_heroes() or get_publisher_heroes_np() function to gather Star Wars heroes by placing the heroes and publishers lists into the function at the correct locations and using 'George Lucas' as the desired_publisher keyword argument.\n",
    "\n",
    "    \n",
    "    \n",
    "    \n",
    "    2 Question\n",
    "    Within your IPython console, load the line_profiler and use %lprun to profile the two functions for line-by-line runtime. When using %lprun, use each function to gather the Star Wars heroes as you did in the previous step. After you've finished profiling, answer the following question:\n",
    "    Which function has the fastest runtime?\n",
    "\n",
    "    Possible Answers\n",
    "#        get_publishers_heroes() is faster. \n",
    "        get_publishers_heroes_np() is faster. \n",
    "        Both functions have the same runtime. \n",
    "    \n",
    "    \n",
    "    \n",
    "    \n",
    "    3 Question\n",
    "    Question 3\n",
    "    Within your IPython console, load the memory_profiler and use %mprun to profile the two functions for line-by-line memory consumption.  \n",
    "\n",
    "    The get_publisher_heroes() function and get_publisher_heroes_np() function have been saved within a file titled hero_funcs.py (ie_you can import both functions from hero_funcs).  When using %mprun, use each function to gather the Star Wars heroes as you did in the previous step.  After you've finished profiling answer the following questions:\n",
    "\n",
    "    Which function uses the least amount of memory? \n",
    "\n",
    "    Possible Answers:\n",
    "        get_publisher_heroes() consumes less memory. \n",
    "        get_publisher_heroes_np() consumes less memory. \n",
    "#        Both function have the same memory consumption. \n",
    "    \n",
    "    \n",
    "    \n",
    "    \n",
    "    4 Question\n",
    "    Question 4\n",
    "    Based on your runtime profiling and memory allocation profiling, which function would you choose to gather Star Wars heroes? \n",
    "\n",
    "    Possible Answers\n",
    "#        I would use get_publisher_heroes()\n",
    "        I would use get_publisher_heroes_np()\n",
    "        I would use either function since they runtimes, and memory usage were identical. \n",
    "    \n",
    "    \n",
    "    "
   ]
  },
  {
   "cell_type": "code",
   "execution_count": 6,
   "id": "06df99c2-ca6c-4e4f-8072-03dfe4546f46",
   "metadata": {},
   "outputs": [
    {
     "name": "stdout",
     "output_type": "stream",
     "text": [
      "The line_profiler extension is already loaded. To reload it, use:\n",
      "  %reload_ext line_profiler\n",
      "87.7 µs ± 909 ns per loop (mean ± std. dev. of 7 runs, 10000 loops each)\n",
      "402 µs ± 6.69 µs per loop (mean ± std. dev. of 7 runs, 1000 loops each)\n",
      "15.8 µs ± 131 ns per loop (mean ± std. dev. of 7 runs, 100000 loops each)\n"
     ]
    },
    {
     "data": {
      "text/plain": [
       "Timer unit: 1e-06 s\n",
       "\n",
       "Total time: 3.5e-05 s\n",
       "File: /tmp/ipykernel_10239/2813838450.py\n",
       "Function: get_publisher_heroes_nnp at line 36\n",
       "\n",
       "Line #      Hits         Time  Per Hit   % Time  Line Contents\n",
       "==============================================================\n",
       "    36                                           def get_publisher_heroes_nnp(heroes, publishers, desired_publisher):\n",
       "    37                                           \n",
       "    38         1         34.0     34.0     97.1      desired_heroes = heroes_np[pubs_np == desired_publisher]\n",
       "    39                                           \n",
       "    40         1          1.0      1.0      2.9      return desired_heroes"
      ]
     },
     "metadata": {},
     "output_type": "display_data"
    }
   ],
   "source": [
    "import names, random\n",
    "import numpy as np\n",
    "\n",
    "heroes = [names.get_first_name() for i in range(481)]\n",
    "\n",
    "pub_list = ('Marvel Comics', 'DC Comics', 'Dark Horse Comics', 'Image Comics', \n",
    "              'IDW Publishing', 'Valiant Comics', 'George Lucas')\n",
    "\n",
    "publishers = [random.choice(pub_list) for i in range(481)]\n",
    "\n",
    "\n",
    "def get_publisher_heroes(heroes, publishers, desired_publisher):\n",
    "\n",
    "    desired_heroes = []\n",
    "    for i,pub in enumerate(publishers):\n",
    "        if pub == desired_publisher:\n",
    "            desired_heroes.append(heroes[i])\n",
    "\n",
    "    return desired_heroes\n",
    "\n",
    "\n",
    "def get_publisher_heroes_np(heroes, publishers, desired_publisher):\n",
    "\n",
    "    heroes_np = np.array(heroes)    # Cause convert list into np.array() takes time\n",
    "    pubs_np = np.array(publishers)\n",
    "\n",
    "    desired_heroes = heroes_np[pubs_np == desired_publisher]\n",
    "\n",
    "    return desired_heroes\n",
    "    \n",
    "    \n",
    "    \n",
    "heroes_np = np.array(heroes)    # Cause convert list into np.array() takes time\n",
    "pubs_np = np.array(publishers)\n",
    "\n",
    "def get_publisher_heroes_nnp(heroes, publishers, desired_publisher):\n",
    "\n",
    "    desired_heroes = heroes_np[pubs_np == desired_publisher]\n",
    "\n",
    "    return desired_heroes\n",
    "    \n",
    "\n",
    "    \n",
    "\n",
    "%load_ext line_profiler\n",
    "\n",
    "\n",
    "%lprun -f get_publisher_heroes get_publisher_heroes(heroes, publishers, 'George Lucas')\n",
    "\n",
    "bmi_time = %timeit -o get_publisher_heroes(heroes, publishers, 'George Lucas')\n",
    "\n",
    "\n",
    "%lprun -f get_publisher_heroes_np get_publisher_heroes_np(heroes, publishers, 'George Lucas')\n",
    "\n",
    "bmi_time_np = %timeit -o get_publisher_heroes_np(heroes, publishers, 'George Lucas')\n",
    "\n",
    "\n",
    "%lprun -f get_publisher_heroes_nnp get_publisher_heroes_nnp(heroes, publishers, 'George Lucas')\n",
    "\n",
    "bmi_time_np = %timeit -o get_publisher_heroes_nnp(heroes, publishers, 'George Lucas')"
   ]
  },
  {
   "cell_type": "code",
   "execution_count": 1,
   "id": "553b5f3c-cd1f-41f3-ac05-f3ea3f3df4dc",
   "metadata": {},
   "outputs": [
    {
     "name": "stdout",
     "output_type": "stream",
     "text": [
      "Filename: /home/jhu/.virtual_environments/hero_funcs.py\n",
      "\n",
      "Line #    Mem usage    Increment  Occurences   Line Contents\n",
      "============================================================\n",
      "     5     72.1 MiB     72.1 MiB           1   @profile\n",
      "     6                                         def get_publisher_heroes(heroes, publishers, desired_publisher):\n",
      "     7                                         \n",
      "     8     72.1 MiB      0.0 MiB           1       desired_heroes = []\n",
      "     9     72.1 MiB      0.0 MiB         482       for i,pub in enumerate(publishers):\n",
      "    10     72.1 MiB      0.0 MiB         481           if pub == desired_publisher:\n",
      "    11     72.1 MiB      0.0 MiB          64               desired_heroes.append(heroes[i])\n",
      "    12                                         \n",
      "    13     72.1 MiB      0.0 MiB           1       return desired_heroes\n",
      "\n",
      "\n",
      "Filename: /home/jhu/.virtual_environments/hero_funcs.py\n",
      "\n",
      "Line #    Mem usage    Increment  Occurences   Line Contents\n",
      "============================================================\n",
      "    16     72.1 MiB     72.1 MiB           1   @profile\n",
      "    17                                         def get_publisher_heroes_np(heroes, publishers, desired_publisher):\n",
      "    18                                         \n",
      "    19     72.1 MiB      0.0 MiB           1       heroes_np = np.array(heroes)\n",
      "    20     72.1 MiB      0.0 MiB           1       pubs_np = np.array(publishers)\n",
      "    21                                         \n",
      "    22     72.1 MiB      0.0 MiB           1       desired_heroes = heroes_np[pubs_np == desired_publisher]\n",
      "    23                                         \n",
      "    24     72.1 MiB      0.0 MiB           1       return desired_heroes\n",
      "\n",
      "\n"
     ]
    },
    {
     "data": {
      "text/plain": [
       "array(['Matthew', 'Shelby', 'Steve', 'Virginia', 'Kenya', 'William',\n",
       "       'Hazel', 'Reina', 'Deborah', 'Richard', 'Walter', 'Wesley',\n",
       "       'Larry', 'Danny', 'Michele', 'Oliver', 'Derrick', 'Carol',\n",
       "       'Shirley', 'Travis', 'Roger', 'Jimmy', 'Juan', 'Barbara', 'Ruby',\n",
       "       'James', 'John', 'June', 'Katie', 'Lee', 'James', 'Angelina',\n",
       "       'Josephine', 'Edith', 'Lionel', 'Penny', 'Kevin', 'Elizabeth',\n",
       "       'Kendall', 'Chester', 'Samuel', 'Merle', 'Noel', 'Lynne',\n",
       "       'William', 'Nannette', 'Adam', 'Ollie', 'Thomas', 'James', 'Erika',\n",
       "       'Earl', 'Mary', 'Bonnie', 'Gary', 'Felicita', 'Shirley', 'Gregg',\n",
       "       'Elma', 'Ethel', 'Paul', 'James', 'Glendora', 'Mary'], dtype='<U11')"
      ]
     },
     "execution_count": 1,
     "metadata": {},
     "output_type": "execute_result"
    }
   ],
   "source": [
    "import names, random\n",
    "\n",
    "\n",
    "heroes = [names.get_first_name() for i in range(481)]\n",
    "\n",
    "pub_list = ('Marvel Comics', 'DC Comics', 'Dark Horse Comics', 'Image Comics', \n",
    "              'IDW Publishing', 'Valiant Comics', 'George Lucas')\n",
    "publishers = [random.choice(pub_list) for i in range(481)]\n",
    "\n",
    "\n",
    "\n",
    "from hero_funcs import get_publisher_heroes\n",
    "\n",
    "get_publisher_heroes(heroes, publishers, 'George Lucas')\n",
    "\n",
    "\n",
    "\n",
    "from hero_funcs import get_publisher_heroes_np\n",
    "\n",
    "get_publisher_heroes_np(heroes, publishers, 'George Lucas')\n",
    "\n",
    "\n",
    "\n",
    "#%load_ext memory_profiler\n",
    "#\n",
    "#%mprun -f get_publisher_heroes_np get_publisher_heroes_np(heroes, publishers, 'George Lucas')"
   ]
  },
  {
   "cell_type": "markdown",
   "id": "0a164b26-b596-4720-9e65-fa8f81478856",
   "metadata": {},
   "source": [
    "# Very interesting\n",
    "\n",
    "\n",
    "\n",
    "# Also, what does dtype='<U11' means?"
   ]
  },
  {
   "cell_type": "code",
   "execution_count": null,
   "id": "c7357cbc-a430-4853-a25b-fd7ca20684ba",
   "metadata": {},
   "outputs": [],
   "source": []
  },
  {
   "cell_type": "markdown",
   "id": "d1c21d6b-f7a3-4b1a-8d46-f38bb5eda87b",
   "metadata": {},
   "source": [
    "## Efficiently combining, counting, and iterating\n",
    "\n",
    "\n",
    "\n",
    "\n",
    "# In this lesson, we'll cover combining, counting, and iterating over objects efficiently.  \n",
    "\n",
    "**Lets begin by exploring a dataset from the popular Nintendo video game Pokemon.  The Pokemon game centers around players called trainers that try to collect fictional animals called Pokemon.  These Pokemon animals roam the fictional universe where the game takes place.  When a trainer encounters a Pokemon, they try to capture that Pokemon to add to they collection.  If a trainer successfully captures a Pokemon, it is stored in a tool called a Pokedex.  \n",
    "\n",
    "**Each Pokemon comes with its own set of metadata, this metadata contains a name for each Pokemon, it also has the generation of each Pokemon specifying what version of the game the Pokemon appears in.  Say Squirtle is a Pokemon from Generation 1, the metadata also includes the Pokemon's Type and wheather or not it belongs to a special category called Legendary.  Each Pokemon has a set of statistics that are numerical values for certain categories like Health (called HP), Attact, and others.  \n",
    "\n",
    "Squirtle\n",
    "Pokemon Data\n",
    "Type:       Water\n",
    "Legendary:  False\n",
    "\n",
    "Base Stats\n",
    "HP:         44\n",
    "Attack:     48\n",
    "Defense:    65\n",
    "Sp. Atk:    50\n",
    "Sp. Def:    64\n",
    "Speed:      43\n",
    "Total:      314\n",
    "\n",
    "\n",
    "**We'll use a datasetthat contains pieces of this metadata for the remainder of the chapter.  \n"
   ]
  },
  {
   "cell_type": "markdown",
   "id": "3b4fd94d-e74a-4936-9c71-f7e37e8c376d",
   "metadata": {},
   "source": [
    "**Suppose we have two lists, one of Pokemon names, and another of each Pokemon's Heath Points.  We want to combaine these lists so that each Pokemon is stored next to its Health Points.  \n",
    "\n",
    "\n",
    "We can iterate over the names list using enumerate and grab each Pokemon's corresponding Health Points using the index variable.  \n",
    "\n",
    "**But Python's build-in function zip() provides a more elegant solution.  The name zip describes how this function combines objects like a zipper on a jacket (making two separate things becomeone).  \n",
    "\n",
    "# Zip() function returns a zip object that must be unpacked into a list and printed to see the contents.  Each item is a tuple of elements from the original lists.  \n"
   ]
  },
  {
   "cell_type": "code",
   "execution_count": 2,
   "id": "172fd3a5-57ef-408e-939c-6562ee5ce893",
   "metadata": {},
   "outputs": [
    {
     "name": "stdout",
     "output_type": "stream",
     "text": [
      "[('Bulbasaur', 45), ('Charmander', 39), ('Squirtle', 44)]\n"
     ]
    }
   ],
   "source": [
    "names = ['Bulbasaur', 'Charmander', 'Squirtle']\n",
    "hps = [45, 39, 44]\n",
    "\n",
    "combined = []\n",
    "for i, pokemon in enumerate(names):\n",
    "    #combined.append((names[i],hps[i]))\n",
    "    combined.append((pokemon, hps[i]))\n",
    "    \n",
    "print(combined)"
   ]
  },
  {
   "cell_type": "code",
   "execution_count": 7,
   "id": "b56117d0-128b-4b64-9609-5764bf0340b1",
   "metadata": {},
   "outputs": [
    {
     "name": "stdout",
     "output_type": "stream",
     "text": [
      "[('Bulbasaur', 45), ('Charmander', 39), ('Squirtle', 44)]\n"
     ]
    }
   ],
   "source": [
    "names = ['Bulbasaur', 'Charmander', 'Squirtle']\n",
    "hps = [45, 39, 44]\n",
    "\n",
    "\n",
    "# *************************************************************************************************** #\n",
    "# Zip() returns a zip object that must be unpacked into a list and printed to see the contents. \n",
    "combined = [*zip(names, hps)]\n",
    "print(combined)"
   ]
  },
  {
   "cell_type": "markdown",
   "id": "f69d05c5-3173-4602-97ef-4d53317e1b1c",
   "metadata": {},
   "source": [
    "## Python comes with a number of efficient build-in modules, the collections module contains specialized datatypes that can be used as alternatives to standard dictionaries, lists, sets, and tuples.  A few notable specialized datatypesare list here:\n",
    "\n",
    "   __namedtuple: tuple subclasses with named fields__\n",
    "   __deque: list-like container with fast appends and pops__\n",
    "   __Counter: dict for counting hashable objects__\n",
    "   __OrderedDict: dict that retains order of entries__\n",
    "   __defaultdict: dict that calls a factory function to supply missing values__\n",
    "\n",
    "\n",
    "\n",
    "# **Lets dig deeper into the Counter object.\n",
    "\n",
    "**Our Pokemon dataset describes 720 characters, here is a list of each Pokemon's corresponding type.  We'd like to create a dictionary where each key is Pokemon type, and each value is the count of characters that belongs to that type.  \n",
    "\n",
    "**Using a standard dictionary approach, we have to instantiate an empty output dictionary, then we iterate over the poke_types list and check wheather or not each poke_type exists within the type_counts dictionary.  "
   ]
  },
  {
   "cell_type": "code",
   "execution_count": 37,
   "id": "af6214b9-a61c-46b9-b8bf-a9491a11e219",
   "metadata": {},
   "outputs": [
    {
     "name": "stdout",
     "output_type": "stream",
     "text": [
      "['ChainMap', 'Counter', 'OrderedDict', 'UserDict', 'UserList', 'UserString', '_Link', '_OrderedDictItemsView', '_OrderedDictKeysView', '_OrderedDictValuesView', '__all__', '__builtins__', '__cached__', '__doc__', '__file__', '__getattr__', '__loader__', '__name__', '__package__', '__path__', '__spec__', '_chain', '_collections_abc', '_count_elements', '_eq', '_heapq', '_iskeyword', '_itemgetter', '_proxy', '_recursive_repr', '_repeat', '_starmap', '_sys', '_tuplegetter', 'abc', 'defaultdict', 'deque', 'namedtuple']\n"
     ]
    },
    {
     "data": {
      "text/plain": [
       "\u001b[0;31mInit signature:\u001b[0m \u001b[0mcollections\u001b[0m\u001b[0;34m.\u001b[0m\u001b[0mChainMap\u001b[0m\u001b[0;34m(\u001b[0m\u001b[0;34m*\u001b[0m\u001b[0mmaps\u001b[0m\u001b[0;34m)\u001b[0m\u001b[0;34m\u001b[0m\u001b[0;34m\u001b[0m\u001b[0m\n",
       "\u001b[0;31mDocstring:\u001b[0m     \n",
       "A ChainMap groups multiple dicts (or other mappings) together\n",
       "to create a single, updateable view.\n",
       "\n",
       "The underlying mappings are stored in a list.  That list is public and can\n",
       "be accessed or updated using the *maps* attribute.  There is no other\n",
       "state.\n",
       "\n",
       "Lookups search the underlying mappings successively until a key is found.\n",
       "In contrast, writes, updates, and deletions only operate on the first\n",
       "mapping.\n",
       "\u001b[0;31mInit docstring:\u001b[0m\n",
       "Initialize a ChainMap by setting *maps* to the given mappings.\n",
       "If no mappings are provided, a single empty dictionary is used.\n",
       "\u001b[0;31mFile:\u001b[0m           /usr/lib/python3.9/collections/__init__.py\n",
       "\u001b[0;31mType:\u001b[0m           ABCMeta\n",
       "\u001b[0;31mSubclasses:\u001b[0m     \n"
      ]
     },
     "metadata": {},
     "output_type": "display_data"
    }
   ],
   "source": [
    "import collections\n",
    "\n",
    "print(dir(collections))\n",
    "\n",
    "?collections.deque\n",
    "?collections.ChainMap"
   ]
  },
  {
   "cell_type": "code",
   "execution_count": 40,
   "id": "1326c851-2549-4525-a9b6-bc3d4aee42ed",
   "metadata": {},
   "outputs": [
    {
     "name": "stdout",
     "output_type": "stream",
     "text": [
      "deque([5, 1, 2, 3, 6])\n",
      "5\n"
     ]
    },
    {
     "data": {
      "text/plain": [
       "deque([1, 2, 3])"
      ]
     },
     "execution_count": 40,
     "metadata": {},
     "output_type": "execute_result"
    }
   ],
   "source": [
    "from collections import deque\n",
    "\n",
    "deq = deque([1, 2, 3])\n",
    "deq.appendleft(5)\n",
    "deq.append(6)\n",
    "print(deq)\n",
    "#deque([5, 1, 2, 3, 6])\n",
    "\n",
    "print(deq.popleft())\n",
    "#5\n",
    "deq.pop()\n",
    "#6\n",
    "\n",
    "deq\n",
    "#deque([1, 2, 3])\n"
   ]
  },
  {
   "cell_type": "code",
   "execution_count": 23,
   "id": "ee8f2868-cce4-4bc2-af42-bfa3dcabf2fb",
   "metadata": {},
   "outputs": [
    {
     "name": "stdout",
     "output_type": "stream",
     "text": [
      "{'Dragon': 36, 'Normal': 45, 'Fire': 43, 'Water': 38, 'Bug': 39, 'Fairy': 47, 'Ice': 35, 'Rock': 30, 'Fighting': 42, 'Ghost': 39, 'Grass': 34, 'Electric': 45, 'Flying': 43, 'Psychic': 40, 'Ground': 29, 'Poison': 36, 'Steel': 60, 'Dark': 40}\n"
     ]
    }
   ],
   "source": [
    "import random\n",
    "\n",
    "# Each Pokemon's type (720 total)\n",
    "types = ('Normal', 'Fire', 'Water', 'Grass', 'Flying', 'Fighting', 'Poison', 'Electric', \n",
    "         'Ground', 'Rock', 'Psychic', 'Ice', 'Bug', 'Ghost', 'Steel', 'Dragon', 'Dark', 'Fairy')\n",
    "\n",
    "poke_types = [random.choice(types) for i in range(721)]\n",
    "#print(poke_types)\n",
    "\n",
    "\n",
    "type_cunts = {}\n",
    "\n",
    "for poke_type in poke_types:\n",
    "    if poke_type in type_cunts:\n",
    "        type_cunts[poke_type] += 1\n",
    "    else:\n",
    "        type_cunts[poke_type] = 1\n",
    "    \n",
    "print(type_cunts)    \n"
   ]
  },
  {
   "cell_type": "markdown",
   "id": "e286575a-5bc4-40f6-8e33-f2561c7c4b39",
   "metadata": {},
   "source": [
    "## Using Counter from the collections moduleis a more efficient approach\n",
    "\n",
    "**Counter() returns a Counter dictionary of key-value pairs, when printed its ordered by highest to lowest counts.  \n",
    "\n",
    "# If comparing runtime times, we'd see that using Counter takes half the time as the standard dictionary approach.  \n"
   ]
  },
  {
   "cell_type": "code",
   "execution_count": 1,
   "id": "5355b4a6-9e29-473b-952c-db5e8dce93cb",
   "metadata": {},
   "outputs": [
    {
     "name": "stdout",
     "output_type": "stream",
     "text": [
      "Counter({'Electric': 57, 'Bug': 46, 'Rock': 46, 'Water': 45, 'Steel': 42, 'Ground': 41, 'Fire': 41, 'Dragon': 40, 'Normal': 40, 'Dark': 39, 'Poison': 39, 'Fighting': 39, 'Psychic': 38, 'Fairy': 37, 'Ghost': 36, 'Grass': 34, 'Ice': 33, 'Flying': 28})\n"
     ]
    }
   ],
   "source": [
    "import random\n",
    "from collections import Counter\n",
    "\n",
    "# Each Pokemon's type (720 total)\n",
    "types = ('Normal', 'Fire', 'Water', 'Grass', 'Flying', 'Fighting', 'Poison', 'Electric', \n",
    "         'Ground', 'Rock', 'Psychic', 'Ice', 'Bug', 'Ghost', 'Steel', 'Dragon', 'Dark', 'Fairy')\n",
    "\n",
    "poke_types = [random.choice(types) for i in range(721)]\n",
    "#print(poke_types)\n",
    "\n",
    "\n",
    "type_count = Counter(poke_types)\n",
    "print(type_count)"
   ]
  },
  {
   "cell_type": "code",
   "execution_count": 4,
   "id": "e1a7b9aa-ecd8-46ec-8da8-3f0cc8ed57b7",
   "metadata": {},
   "outputs": [
    {
     "name": "stdout",
     "output_type": "stream",
     "text": [
      "198 µs ± 4 µs per loop (mean ± std. dev. of 7 runs, 1000 loops each)\n",
      "50.1 µs ± 1.16 µs per loop (mean ± std. dev. of 7 runs, 10000 loops each)\n"
     ]
    }
   ],
   "source": [
    "import random\n",
    "from collections import Counter\n",
    "\n",
    "# Each Pokemon's type (720 total)\n",
    "types = ('Normal', 'Fire', 'Water', 'Grass', 'Flying', 'Fighting', 'Poison', 'Electric', \n",
    "         'Ground', 'Rock', 'Psychic', 'Ice', 'Bug', 'Ghost', 'Steel', 'Dragon', 'Dark', 'Fairy')\n",
    "\n",
    "poke_types = [random.choice(types) for i in range(721)]\n",
    "\n",
    "\n",
    "def loop_count(poke_types):\n",
    "    \n",
    "    type_cunts = {}\n",
    "    for poke_type in poke_types:\n",
    "        \n",
    "        if poke_type in type_cunts:\n",
    "            type_cunts[poke_type] += 1\n",
    "        else:\n",
    "            type_cunts[poke_type] = 1\n",
    "    return type_cunts\n",
    "\n",
    "\n",
    "loop_count_time = %timeit -o type_count_l = loop_count(poke_types)\n",
    "\n",
    "counter_time = %timeit -o  type_count = Counter(poke_types)"
   ]
  },
  {
   "cell_type": "code",
   "execution_count": 33,
   "id": "1dd25d79-54fa-47fd-b2ff-7be129275380",
   "metadata": {},
   "outputs": [
    {
     "name": "stdout",
     "output_type": "stream",
     "text": [
      "<bound method Counter.most_common of Counter({'Ground': 50, 'Rock': 45, 'Ice': 45, 'Normal': 43, 'Fire': 43, 'Steel': 43, 'Poison': 42, 'Bug': 42, 'Ghost': 41, 'Grass': 40, 'Dragon': 39, 'Psychic': 39, 'Fairy': 37, 'Flying': 36, 'Dark': 35, 'Water': 35, 'Fighting': 33, 'Electric': 33})>\n"
     ]
    }
   ],
   "source": [
    "import random\n",
    "from collections import Counter\n",
    "\n",
    "# Each Pokemon's type (720 total)\n",
    "types = ('Normal', 'Fire', 'Water', 'Grass', 'Flying', 'Fighting', 'Poison', 'Electric', \n",
    "         'Ground', 'Rock', 'Psychic', 'Ice', 'Bug', 'Ghost', 'Steel', 'Dragon', 'Dark', 'Fairy')\n",
    "\n",
    "poke_types = [random.choice(types) for i in range(721)]\n",
    "#print(poke_types)\n",
    "\n",
    "\n",
    "type_count = Counter(poke_types).most_common\n",
    "print(type_count)\n"
   ]
  },
  {
   "cell_type": "markdown",
   "id": "e1671bdc-f7f3-47d9-8bfc-32fe0d94ed7d",
   "metadata": {},
   "source": [
    "## Another build-in module, itertools contains functional tools for working with iterators.  \n",
    "\n",
    "\n",
    "**The itertools module\n",
    "   **Part of Python Standard Library (build-in module)\n",
    "   **unctional tools for creating and using iterators\n",
    "   **Notable:\n",
    "#     __Infinite iterators: count, cycle, repeat__\n",
    "#     __Finite iterators: accumulate, chain, zip_longest, etc__\n",
    "#     __Combination generators: product, permutations, combinations__\n",
    "\n",
    "\n",
    "\n",
    "**A subset of these tools is listed here, We'll focus on one piece of this module - the combinatoric generators.  These generators efficiently yield Cartesian products, permutations, and combinations of object.  \n"
   ]
  },
  {
   "cell_type": "markdown",
   "id": "e0f133e5-e9ca-4ea3-b215-2f561acf4744",
   "metadata": {},
   "source": [
    "## Supposet we want to gather all combination pairs of Pokemon types possile.  \n",
    "\n",
    "\n",
    "**We can do this with a nested for loopthat iterates over the poke_types list twice.  Or like below code, but still complicated and not efficient.  \n",
    "\n",
    "\n",
    "# The combinations generator from itertools module (build-in mudule) provides a more efficient solution, just import combinations ane then create a combinations object by providing the poke_type list and length of combinations we desire.  It returns a combinations object, we can unpack into a list.  \n",
    "**If comparing runtimes, we'd see using combinations is significiantly faster than the nested loops. \n"
   ]
  },
  {
   "cell_type": "code",
   "execution_count": 5,
   "id": "43d692e8-16d0-4cda-a209-72ee498fce5a",
   "metadata": {},
   "outputs": [
    {
     "name": "stdout",
     "output_type": "stream",
     "text": [
      "10\n",
      "('Normal', 'Fire') ('Normal', 'Water') ('Normal', 'Grass') ('Normal', 'Flying') ('Fire', 'Water') ('Fire', 'Grass') ('Fire', 'Flying') ('Water', 'Grass') ('Water', 'Flying') ('Grass', 'Flying')\n",
      "[('Normal', 'Fire'), ('Normal', 'Water'), ('Normal', 'Grass'), ('Normal', 'Flying'), ('Fire', 'Water'), ('Fire', 'Grass'), ('Fire', 'Flying'), ('Water', 'Grass'), ('Water', 'Flying'), ('Grass', 'Flying')]\n"
     ]
    }
   ],
   "source": [
    "# Each Pokemon's type (720 total)\n",
    "poke_types = ['Normal', 'Fire', 'Water', 'Grass', 'Flying']\n",
    "#, 'Fighting', 'Poison', 'Electric', \n",
    "#         'Ground', 'Rock', 'Psychic', 'Ice', 'Bug', 'Ghost', 'Steel', 'Dragon', 'Dark', 'Fairy']\n",
    "\n",
    "comb = []\n",
    "for i in range(len(poke_types)):\n",
    "    for j in range(i):\n",
    "        if poke_types[i]==poke_types[j]:\n",
    "            None\n",
    "        else:\n",
    "            comb.append((poke_types[i], poke_types[j]))\n",
    "print(len(comb))\n",
    "\n",
    "\n",
    "from itertools import combinations\n",
    "\n",
    "# *************************************************************************************************** #\n",
    "combo = combinations(poke_types, 2)\n",
    "print(*combo)  # With no container used, we have to unpacking\n",
    "\n",
    "# or use list() or [*combinations(poke_types, 2)]\n",
    "combo_list = list(combinations(poke_types, 2))\n",
    "print(combo_list)"
   ]
  },
  {
   "cell_type": "code",
   "execution_count": 3,
   "id": "075fd9a3-0874-4ac5-831a-095953d319a5",
   "metadata": {
    "tags": []
   },
   "outputs": [
    {
     "name": "stdout",
     "output_type": "stream",
     "text": [
      "6.78 µs ± 14 ns per loop (mean ± std. dev. of 7 runs, 100000 loops each)\n"
     ]
    }
   ],
   "source": [
    "%%timeit\n",
    "\n",
    "poke_types = ['Normal', 'Fire', 'Water', 'Grass', 'Flying']  # tuple() 6.74µs\n",
    "#, 'Fighting', 'Poison', 'Electric', \n",
    "#         'Ground', 'Rock', 'Psychic', 'Ice', 'Bug', 'Ghost', 'Steel', 'Dragon', 'Dark', 'Fairy']\n",
    "\n",
    "comb = []\n",
    "for i in range(len(poke_types)):\n",
    "    for j in range(i):\n",
    "        if poke_types[i]==poke_types[j]:\n",
    "            None\n",
    "        else:\n",
    "            comb.append((poke_types[i], poke_types[j]))"
   ]
  },
  {
   "cell_type": "code",
   "execution_count": 83,
   "id": "32d93d20-3729-4ef3-ae9d-68ab2767f72c",
   "metadata": {},
   "outputs": [
    {
     "name": "stdout",
     "output_type": "stream",
     "text": [
      "1.37 µs ± 10.3 ns per loop (mean ± std. dev. of 7 runs, 1000000 loops each)\n"
     ]
    }
   ],
   "source": [
    "%%timeit\n",
    "\n",
    "# Each Pokemon's type (720 total)                            # Why its called Numerical Python\n",
    "poke_types = ['Normal', 'Fire', 'Water', 'Grass', 'Flying']  # tuple() 1.23µs np.array() 9.57µs\n",
    "#, 'Fighting', 'Poison', 'Electric', \n",
    "#         'Ground', 'Rock', 'Psychic', 'Ice', 'Bug', 'Ghost', 'Steel', 'Dragon', 'Dark', 'Fairy']\n",
    "\n",
    "\n",
    "from itertools import combinations\n",
    "\n",
    "combo = combinations(poke_types, 2)\n",
    "#print(*combo)  # With no container used, we have to unpacking"
   ]
  },
  {
   "cell_type": "code",
   "execution_count": 76,
   "id": "853fdb80-40f2-44bc-8f87-a4513bab5e78",
   "metadata": {},
   "outputs": [
    {
     "name": "stdout",
     "output_type": "stream",
     "text": [
      "2.06 µs ± 20.6 ns per loop (mean ± std. dev. of 7 runs, 100000 loops each)\n"
     ]
    }
   ],
   "source": [
    "%%timeit\n",
    "\n",
    "\n",
    "# Each Pokemon's type (720 total)\n",
    "poke_types = ['Normal', 'Fire', 'Water', 'Grass', 'Flying']\n",
    "#, 'Fighting', 'Poison', 'Electric', \n",
    "#         'Ground', 'Rock', 'Psychic', 'Ice', 'Bug', 'Ghost', 'Steel', 'Dragon', 'Dark', 'Fairy']\n",
    "\n",
    "\n",
    "from itertools import combinations\n",
    "\n",
    "combo = [*combinations(poke_types, 2)]\n",
    "#print(*combo)  # With no container used, we have to unpacking"
   ]
  },
  {
   "cell_type": "code",
   "execution_count": 77,
   "id": "26147d80-a17e-4b1b-be5e-7f0ad0d2d63b",
   "metadata": {
    "tags": []
   },
   "outputs": [
    {
     "name": "stdout",
     "output_type": "stream",
     "text": [
      "2.21 µs ± 64.4 ns per loop (mean ± std. dev. of 7 runs, 100000 loops each)\n"
     ]
    }
   ],
   "source": [
    "%%timeit\n",
    "\n",
    "\n",
    "# Each Pokemon's type (720 total)\n",
    "poke_types = ['Normal', 'Fire', 'Water', 'Grass', 'Flying']\n",
    "#, 'Fighting', 'Poison', 'Electric', \n",
    "#         'Ground', 'Rock', 'Psychic', 'Ice', 'Bug', 'Ghost', 'Steel', 'Dragon', 'Dark', 'Fairy']\n",
    "\n",
    "\n",
    "from itertools import combinations\n",
    "\n",
    "combo = list(combinations(poke_types, 2))\n",
    "#print(*combo)  # With no container used, we have to unpacking"
   ]
  },
  {
   "cell_type": "code",
   "execution_count": 64,
   "id": "c4e53782-ab60-473b-9721-29fc6861b450",
   "metadata": {},
   "outputs": [
    {
     "name": "stdout",
     "output_type": "stream",
     "text": [
      "['__doc__', '__loader__', '__name__', '__package__', '__spec__', '_grouper', '_tee', '_tee_dataobject', 'accumulate', 'chain', 'combinations', 'combinations_with_replacement', 'compress', 'count', 'cycle', 'dropwhile', 'filterfalse', 'groupby', 'islice', 'permutations', 'product', 'repeat', 'starmap', 'takewhile', 'tee', 'zip_longest']\n"
     ]
    },
    {
     "data": {
      "text/plain": [
       "\u001b[0;31mInit signature:\u001b[0m \u001b[0mitertools\u001b[0m\u001b[0;34m.\u001b[0m\u001b[0mcombinations\u001b[0m\u001b[0;34m(\u001b[0m\u001b[0miterable\u001b[0m\u001b[0;34m,\u001b[0m \u001b[0mr\u001b[0m\u001b[0;34m)\u001b[0m\u001b[0;34m\u001b[0m\u001b[0;34m\u001b[0m\u001b[0m\n",
       "\u001b[0;31mDocstring:\u001b[0m     \n",
       "Return successive r-length combinations of elements in the iterable.\n",
       "\n",
       "combinations(range(4), 3) --> (0,1,2), (0,1,3), (0,2,3), (1,2,3)\n",
       "\u001b[0;31mType:\u001b[0m           type\n",
       "\u001b[0;31mSubclasses:\u001b[0m     \n"
      ]
     },
     "metadata": {},
     "output_type": "display_data"
    }
   ],
   "source": [
    "import itertools\n",
    "\n",
    "print(dir(itertools))\n",
    "\n",
    "?itertools.combinations"
   ]
  },
  {
   "cell_type": "code",
   "execution_count": 74,
   "id": "ebb2a6c6-2466-43da-b64e-a0f35569c84e",
   "metadata": {},
   "outputs": [
    {
     "name": "stdout",
     "output_type": "stream",
     "text": [
      "21.3 µs ± 162 ns per loop (mean ± std. dev. of 7 runs, 10000 loops each)\n"
     ]
    }
   ],
   "source": [
    "%%timeit\n",
    "\n",
    "\n",
    "# *************************************************************************************************** #\n",
    "# Originl DataCamp first solution with two iterate\n",
    "\n",
    "poke_types = ['Normal', 'Fire', 'Water', 'Grass', 'Flying']\n",
    "\n",
    "combos = []\n",
    "for i in poke_types:\n",
    "    for j in poke_types:\n",
    "        if i==j:\n",
    "            continue\n",
    "        if ((i, j) not in combos) and ((j, i) not in combos):\n",
    "            combos.append((i, j))\n",
    "            \n",
    "#print(len(combos))"
   ]
  },
  {
   "cell_type": "markdown",
   "id": "06aeae4d-d327-4b2c-9399-5e2979cc0266",
   "metadata": {},
   "source": [
    "## Combining Pokémon names and types\n",
    "\n",
    "Three lists have been loaded into your session from a dataset that contains 720 Pokémon:\n",
    "\n",
    "    The names list contains the names of each Pokémon.\n",
    "    The primary_types list contains the corresponding primary type of each Pokémon.\n",
    "    The secondary_types list contains the corresponding secondary type of each Pokémon (nan if the Pokémon has only one type).\n",
    "\n",
    "We want to combine each Pokémon's name and types together so that you easily see a description of each Pokémon. Practice using zip() to accomplish this task.\n",
    "Instructions 1/3\n",
    "35 XP\n",
    "\n",
    "    1\n",
    "    Combine the names list and the primary_types list into a new list object (called names_type1).\n",
    "    \n",
    "    \n",
    "    \n",
    "    2\n",
    "    Combine names, primary_types, and secondary_types (in that order) using zip() and unpack the zip object into a new list.\n",
    "    \n",
    "    \n",
    "    \n",
    "    3\n",
    "    Use zip() to combine the first five items from the names list and the first three items from the primary_types list.\n",
    "    "
   ]
  },
  {
   "cell_type": "code",
   "execution_count": 30,
   "id": "295bbde7-4505-4606-bac5-17367a7f16f1",
   "metadata": {},
   "outputs": [
    {
     "data": {
      "text/plain": [
       "\u001b[0;31mDocstring:\u001b[0m\n",
       "next(iterator[, default])\n",
       "\n",
       "Return the next item from the iterator. If default is given and the iterator\n",
       "is exhausted, it is returned instead of raising StopIteration.\n",
       "\u001b[0;31mType:\u001b[0m      builtin_function_or_method\n"
      ]
     },
     "metadata": {},
     "output_type": "display_data"
    }
   ],
   "source": [
    "?next"
   ]
  },
  {
   "cell_type": "code",
   "execution_count": 24,
   "id": "36be9529-5616-4cff-a53c-eca6407dc50b",
   "metadata": {
    "tags": []
   },
   "outputs": [
    {
     "name": "stdout",
     "output_type": "stream",
     "text": [
      "[('1', 'Bulbasaur', 'Grass', 'Poison'), ('2', 'Ivysaur', 'Grass', 'Poison'), ('3', 'Venusaur', 'Grass', 'Poison')]\n",
      "<_csv.reader object at 0x7ff26d1a9900>\n",
      "[('Odyssia Gallery', 'POINT(-73.96 40.76)', '(212) 486-7338', 'https://www.livevillage.com/netword/art/odyssia-gallery.html', '305 E 61st ST'), ('Africa America History Art', 'POINT(-78.78 45.78)', '(878) 234-1234', 'https://www.africa-america-art.com', 'No. 234 5st TT')]\n",
      "719 719 719\n"
     ]
    }
   ],
   "source": [
    "import csv\n",
    "\n",
    "\n",
    "with open('PokeMon_List2.csv', 'r') as file_obj:\n",
    "    csv_reader = csv.reader(file_obj)\n",
    "    next(csv_reader)   # Working code, skips the first row of the csv file\n",
    "    list_of_tuples = list(map(tuple, csv_reader))\n",
    "# *************************************************************************************************** #\n",
    "# *************************************************************************************************** #\n",
    "\n",
    "\n",
    "#with open('1.csv','r') as in_file, open('2.csv','w') as out_file:\n",
    "#    seen = set()   # set for fast O(1) amortized lookup\n",
    "#    for line in in_file:\n",
    "#        if line in seen: continue   # skip duplicate\n",
    "#        seen.add(line)\n",
    "#        out_file.write(line)\n",
    "# Above code should only be used to remove duplicates in original file as preparing process\n",
    "# cause it makes all rows as elements in to one set, thus helps us removing duplicate\n",
    "        \n",
    "    \n",
    "    \n",
    "print(list_of_tuples[:3])\n",
    "#print(dir(list_of_tuples))\n",
    "#print(dir(csv_reader))\n",
    "\n",
    "# *************************************************************************************************** #\n",
    "f_obj = open(\"art_gallery.csv\", \"r\")\n",
    "csvread = csv.reader(f_obj)\n",
    "f_obj.close\n",
    "# This skips the first row of the CSV file.\n",
    "next(csvread)\n",
    "print(csvread)   # <_csv.reader object at 0x7ff26d2c2dd0>\n",
    "outcome = [*map(tuple,csvread)]\n",
    "print(outcome)\n",
    "# *************************************************************************************************** #\n",
    "\n",
    "\n",
    "\n",
    "# *************************************************************************************************** #\n",
    "#name = list_of_tuples[1:][:]   # Why we cant do it this way?\n",
    "names = [i[1] for i in list_of_tuples[62:]]\n",
    "\n",
    "primary_types = [i[2] for i in list_of_tuples[62:]]\n",
    "secondary_types = [i[3] for i in list_of_tuples[62:]]\n",
    "#\n",
    "print(len(names), len(primary_types), len(secondary_types))"
   ]
  },
  {
   "cell_type": "code",
   "execution_count": 22,
   "id": "be0ad4e5-a54b-4a09-913c-1e2d57f5944a",
   "metadata": {},
   "outputs": [
    {
     "name": "stdout",
     "output_type": "stream",
     "text": [
      "[{'Idex': '1', 'Pokemon': 'Bulbasaur', 'Type': 'Grass', 'Secondary Type': 'Poison'}, {'Idex': '2', 'Pokemon': 'Ivysaur', 'Type': 'Grass', 'Secondary Type': 'Poison'}]\n"
     ]
    }
   ],
   "source": [
    "import csv\n",
    "\n",
    "with open('PokeMon_List2.csv', 'r') as file_obj:\n",
    "    dict_reader = csv.DictReader(file_obj)\n",
    "    \n",
    "    pokedex = [*dict_reader]\n",
    "    \n",
    "    \n",
    "print(pokedex[:2])"
   ]
  },
  {
   "cell_type": "code",
   "execution_count": 27,
   "id": "d4bcabac-8576-44fb-a160-d2594fb657da",
   "metadata": {},
   "outputs": [
    {
     "name": "stdout",
     "output_type": "stream",
     "text": [
      "('Meowth', 'Steel')\n",
      "('Persian', 'Normal')\n",
      "('Persian', 'Dark')\n",
      "('Psyduck', 'Water')\n",
      "('Golduck', 'Water')\n",
      "\n",
      "[('Meowth', 'Steel'), ('Persian', 'Normal'), ('Persian', 'Dark'), ('Psyduck', 'Water')]\n",
      "\n",
      "[('Meowth', 'Steel', 'Nan'), ('Persian', 'Normal', 'Nan'), ('Persian', 'Dark', 'Nan')]\n",
      "\n",
      "[('Meowth', 'Steel'), ('Persian', 'Normal'), ('Persian', 'Dark')]\n"
     ]
    }
   ],
   "source": [
    "# Combine names and primary_types\n",
    "names_type1 = [*zip(names, primary_types)]\n",
    "\n",
    "print(*names_type1[:5], sep='\\n')\n",
    "print()\n",
    "print(names_type1[:4], sep='\\n')\n",
    "print()\n",
    "\n",
    "\n",
    "names_type2 = [*zip(names, primary_types, secondary_types)]\n",
    "print(names_type2[:3])\n",
    "print()\n",
    "\n",
    "# 3 Use zip() to combine the first five items from the names list and \n",
    "# the first three items from the primary_types list.\n",
    "question3 = [*zip(names[:5], primary_types[:3])]\n",
    "print(question3)"
   ]
  },
  {
   "cell_type": "code",
   "execution_count": 23,
   "id": "4f4a1af4-876a-481c-bc97-a9603c7c6e6b",
   "metadata": {},
   "outputs": [
    {
     "name": "stdout",
     "output_type": "stream",
     "text": [
      "('Meowth', 'Meowth') ('Meowth', 'Persian') ('Meowth', 'Persian') ('Meowth', 'Psyduck') ('Meowth', 'Dark') ('Meowth', 'Steel') ('Meowth', 'Normal') ('Meowth', 'Persian') ('Meowth', 'Persian') ('Meowth', 'Psyduck') ('Meowth', 'Dark') ('Meowth', 'Steel') ('Meowth', 'Normal') ('Persian', 'Persian') ('Persian', 'Psyduck') ('Persian', 'Dark') ('Persian', 'Steel') ('Persian', 'Normal') ('Persian', 'Psyduck') ('Persian', 'Dark') ('Persian', 'Steel') ('Persian', 'Normal') ('Psyduck', 'Dark') ('Psyduck', 'Steel') ('Psyduck', 'Normal') ('Dark', 'Steel') ('Dark', 'Normal') ('Steel', 'Normal')\n"
     ]
    }
   ],
   "source": [
    "from itertools import combinations\n",
    "\n",
    "question3_combo = combinations(names[:5]+primary_types[:3], 2)\n",
    "print(*question3_combo)"
   ]
  },
  {
   "cell_type": "code",
   "execution_count": 28,
   "id": "e5d278bc-10d8-450f-9ac3-b82a7fb6c3ae",
   "metadata": {},
   "outputs": [],
   "source": [
    "#?zip\n",
    "\n",
    "#    >>> list(zip('abcdefg', range(3), range(4)))\n",
    "#   [('a', 0, 0), ('b', 1, 1), ('c', 2, 2)]"
   ]
  },
  {
   "cell_type": "markdown",
   "id": "3f44320a-a7bf-4641-81f9-b8c5eac526c8",
   "metadata": {},
   "source": [
    "\n",
    "**Also, for 2D arrays, the NumPy rule applies, an array can only contain a single type.  You can think of the 2D array as an improved list of lists, you can perform calculations on the array, \n",
    "# and you can do more advanced ways of subsetting.  \n",
    "# *****************************************************************************************************\n",
    "\n",
    "\n",
    "\n",
    "# **Basically you're selecting the row, and then from that row do another selection.  \n",
    "\n",
    "\n",
    "\n",
    "# **There is also an alternative way of subsetting, using single square brackets and a comma.  \n",
    "   **The value before the comma specifies the row, the value after the comma specifies the column.  \n",
    "   **Once you used to it, this syntax is more intuitive and opens up more possibilities.  "
   ]
  },
  {
   "cell_type": "code",
   "execution_count": 70,
   "id": "5a01f784-7097-4a9f-baa4-6da512cbf57f",
   "metadata": {},
   "outputs": [
    {
     "name": "stdout",
     "output_type": "stream",
     "text": [
      "name_g\n",
      "['name_g', 'data_h']\n",
      "[['name_a', 'data_b', 'stat_c'], ['name_d', 'data_e', 'stat_f']]\n",
      "['name_d', 'data_e', 'stat_f']\n",
      "['name_d', 'data_e', 'stat_f']\n",
      "['data_b', 'data_e', 'data_h', 'data_k']\n",
      "('data_b', 'data_e', 'data_h', 'data_k')\n",
      "('data_b', 'data_e', 'data_h', 'data_k')\n",
      "['data_b' 'data_e' 'data_h' 'data_k']\n"
     ]
    }
   ],
   "source": [
    "x = [[\"name_a\", \"data_b\", \"stat_c\"],\n",
    "     [\"name_d\", \"data_e\", \"stat_f\"],\n",
    "     [\"name_g\", \"data_h\", \"stat_i\"],\n",
    "     [\"name_j\", \"data_k\", \"stat_l\"]]\n",
    "\n",
    "print(x[2][0])  # third row and first element\n",
    "print(x[2][:2])  # third row and first 2 elements\n",
    "print(x[:][:2])  # whereas we cant go further\n",
    "print(x[:][1])\n",
    "print(x[1][:])\n",
    "# *************************************************************************************************** #\n",
    "\n",
    "\n",
    "data = [i[1] for i in x]\n",
    "print(data)\n",
    "# *************************************************************************************************** #\n",
    "\n",
    "data2 = list(zip(*x))[1]\n",
    "print(data2)\n",
    "# *************************************************************************************************** #\n",
    "\n",
    "d1, d2, d3 = zip(*x)\n",
    "data3 = d2[:]\n",
    "print(data3)\n",
    "# *************************************************************************************************** #\n",
    "\n",
    "\n",
    "import numpy as np\n",
    "x_np = np.array(x)\n",
    "print(x_np[:,1])\n",
    "# *************************************************************************************************** #\n"
   ]
  },
  {
   "cell_type": "code",
   "execution_count": 28,
   "id": "a7023a54-a3d8-4737-b87f-96cf972c5bad",
   "metadata": {
    "tags": []
   },
   "outputs": [
    {
     "data": {
      "text/plain": [
       "('720', 'Hoopa', 'Psychic', 'Dark')"
      ]
     },
     "execution_count": 28,
     "metadata": {},
     "output_type": "execute_result"
    }
   ],
   "source": [
    "'Idex','Pokemon','Type','Secondary Type'\n",
    "'1','Bulbasaur','Grass','Poison','Nan'\n",
    "'2','Ivysaur','Grass','Poison'\n",
    "'3','Venusaur','Grass','Poison'\n",
    "'4','Charmander','Fire','Nan'\n",
    "'5','Charmeleon','Fire','Nan'\n",
    "'6','Charizard','Fire','Flying'\n",
    "'7','Squirtle','Water','Nan'\n",
    "'8','Wartortle','Water','Nan'\n",
    "'9','Blastoise','Water','Nan'\n",
    "'10','Caterpie','Bug','Nan'\n",
    "'11','Metapod','Bug','Nan'\n",
    "'12','Butterfree','Bug','Flying'\n",
    "'13','Weedle','Bug','Poison'\n",
    "'14','Kakuna','Bug','Poison'\n",
    "'15','Beedrill','Bug','Poison'\n",
    "'16','Pidgey','Normal','Flying'\n",
    "'17','Pidgeotto','Normal','Flying'\n",
    "'18','Pidgeot','Normal','Flying'\n",
    "'19','Rattata','Normal','Nan'\n",
    "'19','Rattata','Dark','Normal'\n",
    "'20','Raticate','Normal','Nan'\n",
    "'20','Raticate','Dark','Normal'\n",
    "'21','Spearow','Normal','Flying'\n",
    "'22','Fearow','Normal','Flying'\n",
    "'23','Ekans','Poison','Nan'\n",
    "'24','Arbok','Poison','Nan'\n",
    "'25','Pikachu','Electric','Nan'\n",
    "'26','Raichu','Electric','Nan'\n",
    "'26','Raichu','Electric','Psychic'\n",
    "'27','Sandshrew','Ground','Nan'\n",
    "'27','Sandshrew','Ice','Steel'\n",
    "'28','Sandslash','Ground','Nan'\n",
    "'28','Sandslash','Ice','Steel'\n",
    "'29','Nidoran','Poison','Nan'\n",
    "'30','Nidorina','Poison','Nan'\n",
    "'31','Nidoqueen','Poison','Ground'\n",
    "'32','Nidoran','Poison','Nan'\n",
    "'33','Nidorino','Poison','Nan'\n",
    "'34','Nidoking','Poison','Ground'\n",
    "'35','Clefairy','Fairy','Nan'\n",
    "'36','Clefable','Fairy','Nan'\n",
    "'37','Vulpix','Fire','Nan'\n",
    "'37','Vulpix','Ice','Nan'\n",
    "'38','Ninetales','Fire','Nan'\n",
    "'38','Ninetales','Ice','Fairy'\n",
    "'39','Jigglypuff','Normal','Fairy'\n",
    "'40','Wigglytuff','Normal','Fairy'\n",
    "'41','Zubat','Poison','Flying'\n",
    "'42','Golbat','Poison','Flying'\n",
    "'43','Oddish','Grass','Poison'\n",
    "'44','Gloom','Grass','Poison'\n",
    "'45','Vileplume','Grass','Poison'\n",
    "'46','Paras','Bug','Grass'\n",
    "'47','Parasect','Bug','Grass'\n",
    "'48','Venonat','Bug','Poison'\n",
    "'49','Venomoth','Bug','Poison'\n",
    "'50','Diglett','Ground','Nan'\n",
    "'50','Diglett','Ground','Steel'\n",
    "'51','Dugtrio','Ground','Nan'\n",
    "'51','Dugtrio','Ground','Steel'\n",
    "'52','Meowth','Normal','Nan'\n",
    "'52','Meowth','Dark','Nan'\n",
    "'52','Meowth','Steel','Nan'\n",
    "'53','Persian','Normal','Nan'\n",
    "'53','Persian','Dark','Nan'\n",
    "'54','Psyduck','Water','Nan'\n",
    "'55','Golduck','Water','Nan'\n",
    "'56','Mankey','Fighting','Nan'\n",
    "'57','Primeape','Fighting','Nan'\n",
    "'58','Growlithe','Fire','Nan'\n",
    "'59','Arcanine','Fire','Nan'\n",
    "'60','Poliwag','Water','Nan'\n",
    "'61','Poliwhirl','Water','Nan'\n",
    "'62','Poliwrath','Water','Fighting'\n",
    "'63','Abra','Psychic','Nan'\n",
    "'64','Kadabra','Psychic','Nan'\n",
    "'65','Alakazam','Psychic','Nan'\n",
    "'66','Machop','Fighting','Nan'\n",
    "'67','Machoke','Fighting','Nan'\n",
    "'68','Machamp','Fighting','Nan'\n",
    "'69','Bellsprout','Grass','Poison'\n",
    "'70','Weepinbell','Grass','Poison'\n",
    "'71','Victreebel','Grass','Poison'\n",
    "'72','Tentacool','Water','Poison'\n",
    "'73','Tentacruel','Water','Poison'\n",
    "'74','Geodude','Rock','Ground'\n",
    "'74','Geodude','Rock','Electric'\n",
    "'75','Graveler','Rock','Ground'\n",
    "'75','Graveler','Rock','Electric'\n",
    "'76','Golem','Rock','Ground'\n",
    "'76','Golem','Rock','Electric'\n",
    "'77','Ponyta','Fire','Nan'\n",
    "'77','Ponyta','Psychic','Nan'\n",
    "'78','Rapidash','Fire','Nan'\n",
    "'78','Rapidash','Psychic','Fairy'\n",
    "'79','Slowpoke','Water','Psychic'\n",
    "'79','Slowpoke','Psychic','Nan'\n",
    "'80','Slowbro','Water','Psychic'\n",
    "'80','Slowbro','Poison','Psychic'\n",
    "'81','Magnemite','Electric','Steel'\n",
    "'82','Magneton','Electric','Steel'\n",
    "'83','Farfetchd','Normal','Flying'\n",
    "'83','Farfetchd','Fighting','Nan'\n",
    "'84','Doduo','Normal','Flying'\n",
    "'85','Dodrio','Normal','Flying'\n",
    "'86','Seel','Water','Nan'\n",
    "'87','Dewgong','Water','Ice'\n",
    "'88','Grimer','Poison','Nan'\n",
    "'88','Grimer','Poison','Dark'\n",
    "'89','Muk','Poison','Nan'\n",
    "'89','Muk','Poison','Dark'\n",
    "'90','Shellder','Water','Nan'\n",
    "'91','Cloyster','Water','Ice'\n",
    "'92','Gastly','Ghost','Poison'\n",
    "'93','Haunter','Ghost','Poison'\n",
    "'94','Gengar','Ghost','Poison'\n",
    "'95','Onix','Rock','Ground'\n",
    "'96','Drowzee','Psychic','Nan'\n",
    "'97','Hypno','Psychic','Nan'\n",
    "'98','Krabby','Water','Nan'\n",
    "'99','Kingler','Water','Nan'\n",
    "'100','Voltorb','Electric','Nan'\n",
    "'101','Electrode','Electric','Nan'\n",
    "'102','Exeggcute','Grass','Psychic'\n",
    "'103','Exeggutor','Grass','Psychic'\n",
    "'103','Exeggutor','Grass','Dragon'\n",
    "'104','Cubone','Ground','Nan'\n",
    "'105','Marowak','Ground','Nan'\n",
    "'105','Marowak','Fire','Ghost'\n",
    "'106','Hitmonlee','Fighting','Nan'\n",
    "'107','Hitmonchan','Fighting','Nan'\n",
    "'108','Lickitung','Normal','Nan'\n",
    "'109','Koffing','Poison','Nan'\n",
    "'110','Weezing','Poison','Nan'\n",
    "'110','Weezing','Poison','Fairy'\n",
    "'111','Rhyhorn','Ground','Rock'\n",
    "'112','Rhydon','Ground','Rock'\n",
    "'113','Chansey','Normal','Nan'\n",
    "'114','Tangela','Grass','Nan'\n",
    "'115','Kangaskhan','Normal','Nan'\n",
    "'116','Horsea','Water','Nan'\n",
    "'117','Seadra','Water','Nan'\n",
    "'118','Goldeen','Water','Nan'\n",
    "'119','Seaking','Water','Nan'\n",
    "'120','Staryu','Water','Nan'\n",
    "'121','Starmie','Water','Psychic'\n",
    "'122','Mr. Mime','Psychic','Fairy'\n",
    "'122','Mr. Mime','Ice','Psychic'\n",
    "'123','Scyther','Bug','Flying'\n",
    "'124','Jynx','Ice','Psychic'\n",
    "'125','Electabuzz','Electric','Nan'\n",
    "'126','Magmar','Fire','Nan'\n",
    "'127','Pinsir','Bug','Nan'\n",
    "'128','Tauros','Normal','Nan'\n",
    "'129','Magikarp','Water','Nan'\n",
    "'130','Gyarados','Water','Flying'\n",
    "'131','Lapras','Water','Ice'\n",
    "'132','Ditto','Normal','Nan'\n",
    "'133','Eevee','Normal','Nan'\n",
    "'134','Vaporeon','Water','Nan'\n",
    "'135','Jolteon','Electric','Nan'\n",
    "'136','Flareon','Fire','Nan'\n",
    "'137','Porygon','Normal','Nan'\n",
    "'138','Omanyte','Rock','Water'\n",
    "'139','Omastar','Rock','Water'\n",
    "'140','Kabuto','Rock','Water'\n",
    "'141','Kabutops','Rock','Water'\n",
    "'142','Aerodactyl','Rock','Flying'\n",
    "'143','Snorlax','Normal','Nan'\n",
    "'144','Articuno','Ice','Flying'\n",
    "'144','Articuno','Psychic','Flying'\n",
    "'145','Zapdos','Electric','Flying'\n",
    "'145','Zapdos','Fighting','Flying'\n",
    "'146','Moltres','Fire','Flying'\n",
    "'146','Moltres','Dark','Flying'\n",
    "'147','Dratini','Dragon','Nan'\n",
    "'148','Dragonair','Dragon','Nan'\n",
    "'149','Dragonite','Dragon','Flying'\n",
    "'150','Mewtwo','Psychic','Nan'\n",
    "'151','Mew','Psychic','Nan'\n",
    "'152','Chikorita','Grass','Nan'\n",
    "'153','Bayleef','Grass','Nan'\n",
    "'154','Meganium','Grass','Nan'\n",
    "'155','Cyndaquil','Fire','Nan'\n",
    "'156','Quilava','Fire','Nan'\n",
    "'157','Typhlosion','Fire','Nan'\n",
    "'158','Totodile','Water','Nan'\n",
    "'159','Croconaw','Water','Nan'\n",
    "'160','Feraligatr','Water','Nan'\n",
    "'161','Sentret','Normal','Nan'\n",
    "'162','Furret','Normal','Nan'\n",
    "'163','Hoothoot','Normal','Flying'\n",
    "'164','Noctowl','Normal','Flying'\n",
    "'165','Ledyba','Bug','Flying'\n",
    "'166','Ledian','Bug','Flying'\n",
    "'167','Spinarak','Bug','Poison'\n",
    "'168','Ariados','Bug','Poison'\n",
    "'169','Crobat','Poison','Flying'\n",
    "'170','Chinchou','Water','Electric'\n",
    "'171','Lanturn','Water','Electric'\n",
    "'172','Pichu','Electric','Nan'\n",
    "'173','Cleffa','Fairy','Nan'\n",
    "'174','Igglybuff','Normal','Fairy'\n",
    "'175','Togepi','Fairy','Nan'\n",
    "'176','Togetic','Fairy','Flying'\n",
    "'177','Natu','Psychic','Flying'\n",
    "'178','Xatu','Psychic','Flying'\n",
    "'179','Mareep','Electric','Nan'\n",
    "'180','Flaaffy','Electric','Nan'\n",
    "'181','Ampharos','Electric','Nan'\n",
    "'182','Bellossom','Grass','Nan'\n",
    "'183','Marill','Water','Fairy'\n",
    "'184','Azumarill','Water','Fairy'\n",
    "'185','Sudowoodo','Rock','Nan'\n",
    "'186','Politoed','Water','Nan'\n",
    "'187','Hoppip','Grass','Flying'\n",
    "'188','Skiploom','Grass','Flying'\n",
    "'189','Jumpluff','Grass','Flying'\n",
    "'190','Aipom','Normal','Nan'\n",
    "'191','Sunkern','Grass','Nan'\n",
    "'192','Sunflora','Grass','Nan'\n",
    "'193','Yanma','Bug','Flying'\n",
    "'194','Wooper','Water','Ground'\n",
    "'195','Quagsire','Water','Ground'\n",
    "'196','Espeon','Psychic','Nan'\n",
    "'197','Umbreon','Dark','Nan'\n",
    "'198','Murkrow','Dark','Flying'\n",
    "'199','Slowking','Water','Psychic'\n",
    "'199','Slowking','Poison','Psychic'\n",
    "'200','Misdreavus','Ghost','Nan'\n",
    "'201','Unown','Psychic','Nan'\n",
    "'202','Wobbuffet','Psychic','Nan'\n",
    "'203','Girafarig','Normal','Psychic'\n",
    "'204','Pineco','Bug','Nan'\n",
    "'205','Forretress','Bug','Steel'\n",
    "'206','Dunsparce','Normal','Nan'\n",
    "'207','Gligar','Ground','Flying'\n",
    "'208','Steelix','Steel','Ground'\n",
    "'209','Snubbull','Fairy','Nan'\n",
    "'210','Granbull','Fairy','Nan'\n",
    "'211','Qwilfish','Water','Poison'\n",
    "'212','Scizor','Bug','Steel'\n",
    "'213','Shuckle','Bug','Rock'\n",
    "'214','Heracross','Bug','Fighting'\n",
    "'215','Sneasel','Dark','Ice'\n",
    "'216','Teddiursa','Normal','Nan'\n",
    "'217','Ursaring','Normal','Nan'\n",
    "'218','Slugma','Fire','Nan'\n",
    "'219','Magcargo','Fire','Rock'\n",
    "'220','Swinub','Ice','Ground'\n",
    "'221','Piloswine','Ice','Ground'\n",
    "'222','Corsola','Water','Rock'\n",
    "'222','Corsola','Ghost','Nan'\n",
    "'223','Remoraid','Water','Nan'\n",
    "'224','Octillery','Water','Nan'\n",
    "'225','Delibird','Ice','Flying'\n",
    "'226','Mantine','Water','Flying'\n",
    "'227','Skarmory','Steel','Flying'\n",
    "'228','Houndour','Dark','Fire'\n",
    "'229','Houndoom','Dark','Fire'\n",
    "'230','Kingdra','Water','Dragon'\n",
    "'231','Phanpy','Ground','Nan'\n",
    "'232','Donphan','Ground','Nan'\n",
    "'233','Porygon2','Normal','Nan'\n",
    "'234','Stantler','Normal','Nan'\n",
    "'235','Smeargle','Normal','Nan'\n",
    "'236','Tyrogue','Fighting','Nan'\n",
    "'237','Hitmontop','Fighting','Nan'\n",
    "'238','Smoochum','Ice','Psychic'\n",
    "'239','Elekid','Electric','Nan'\n",
    "'240','Magby','Fire','Nan'\n",
    "'241','Miltank','Normal','Nan'\n",
    "'242','Blissey','Normal','Nan'\n",
    "'243','Raikou','Electric','Nan'\n",
    "'244','Entei','Fire','Nan'\n",
    "'245','Suicune','Water','Nan'\n",
    "'246','Larvitar','Rock','Ground'\n",
    "'247','Pupitar','Rock','Ground'\n",
    "'248','Tyranitar','Rock','Dark'\n",
    "'249','Lugia','Psychic','Flying'\n",
    "'250','Ho-Oh','Fire','Flying'\n",
    "'251','Celebi','Psychic','Grass'\n",
    "'252','Treecko','Grass','Nan'\n",
    "'253','Grovyle','Grass','Nan'\n",
    "'254','Sceptile','Grass','Nan'\n",
    "'255','Torchic','Fire','Nan'\n",
    "'256','Combusken','Fire','Fighting'\n",
    "'257','Blaziken','Fire','Fighting'\n",
    "'258','Mudkip','Water','Nan'\n",
    "'259','Marshtomp','Water','Ground'\n",
    "'260','Swampert','Water','Ground'\n",
    "'261','Poochyena','Dark','Nan'\n",
    "'262','Mightyena','Dark','Nan'\n",
    "'263','Zigzagoon','Normal','Nan'\n",
    "'263','Zigzagoon','Dark','Normal'\n",
    "'264','Linoone','Normal','Nan'\n",
    "'264','Linoone','Dark','Normal'\n",
    "'265','Wurmple','Bug','Nan'\n",
    "'266','Silcoon','Bug','Nan'\n",
    "'267','Beautifly','Bug','Flying'\n",
    "'268','Cascoon','Bug','Nan'\n",
    "'269','Dustox','Bug','Poison'\n",
    "'270','Lotad','Water','Grass'\n",
    "'271','Lombre','Water','Grass'\n",
    "'272','Ludicolo','Water','Grass'\n",
    "'273','Seedot','Grass','Nan'\n",
    "'274','Nuzleaf','Grass','Dark'\n",
    "'275','Shiftry','Grass','Dark'\n",
    "'276','Taillow','Normal','Flying'\n",
    "'277','Swellow','Normal','Flying'\n",
    "'278','Wingull','Water','Flying'\n",
    "'279','Pelipper','Water','Flying'\n",
    "'280','Ralts','Psychic','Fairy'\n",
    "'281','Kirlia','Psychic','Fairy'\n",
    "'282','Gardevoir','Psychic','Fairy'\n",
    "'283','Surskit','Bug','Water'\n",
    "'284','Masquerain','Bug','Flying'\n",
    "'285','Shroomish','Grass','Nan'\n",
    "'286','Breloom','Grass','Fighting'\n",
    "'287','Slakoth','Normal','Nan'\n",
    "'288','Vigoroth','Normal','Nan'\n",
    "'289','Slaking','Normal','Nan'\n",
    "'290','Nincada','Bug','Ground'\n",
    "'291','Ninjask','Bug','Flying'\n",
    "'292','Shedinja','Bug','Ghost'\n",
    "'293','Whismur','Normal','Nan'\n",
    "'294','Loudred','Normal','Nan'\n",
    "'295','Exploud','Normal','Nan'\n",
    "'296','Makuhita','Fighting','Nan'\n",
    "'297','Hariyama','Fighting','Nan'\n",
    "'298','Azurill','Normal','Fairy'\n",
    "'299','Nosepass','Rock','Nan'\n",
    "'300','Skitty','Normal','Nan'\n",
    "'301','Delcatty','Normal','Nan'\n",
    "'302','Sableye','Dark','Ghost'\n",
    "'303','Mawile','Steel','Fairy'\n",
    "'304','Aron','Steel','Rock'\n",
    "'305','Lairon','Steel','Rock'\n",
    "'306','Aggron','Steel','Rock'\n",
    "'307','Meditite','Fighting','Psychic'\n",
    "'308','Medicham','Fighting','Psychic'\n",
    "'309','Electrike','Electric','Nan'\n",
    "'310','Manectric','Electric','Nan'\n",
    "'311','Plusle','Electric','Nan'\n",
    "'312','Minun','Electric','Nan'\n",
    "'313','Volbeat','Bug','Nan'\n",
    "'314','Illumise','Bug','Nan'\n",
    "'315','Roselia','Grass','Poison'\n",
    "'316','Gulpin','Poison','Nan'\n",
    "'317','Swalot','Poison','Nan'\n",
    "'318','Carvanha','Water','Dark'\n",
    "'319','Sharpedo','Water','Dark'\n",
    "'320','Wailmer','Water','Nan'\n",
    "'321','Wailord','Water','Nan'\n",
    "'322','Numel','Fire','Ground'\n",
    "'323','Camerupt','Fire','Ground'\n",
    "'324','Torkoal','Fire','Nan'\n",
    "'325','Spoink','Psychic','Nan'\n",
    "'326','Grumpig','Psychic','Nan'\n",
    "'327','Spinda','Normal','Nan'\n",
    "'328','Trapinch','Ground','Nan'\n",
    "'329','Vibrava','Ground','Dragon'\n",
    "'330','Flygon','Ground','Dragon'\n",
    "'331','Cacnea','Grass','Nan'\n",
    "'332','Cacturne','Grass','Dark'\n",
    "'333','Swablu','Normal','Flying'\n",
    "'334','Altaria','Dragon','Flying'\n",
    "'335','Zangoose','Normal','Nan'\n",
    "'336','Seviper','Poison','Nan'\n",
    "'337','Lunatone','Rock','Psychic'\n",
    "'338','Solrock','Rock','Psychic'\n",
    "'339','Barboach','Water','Ground'\n",
    "'340','Whiscash','Water','Ground'\n",
    "'341','Corphish','Water','Nan'\n",
    "'342','Crawdaunt','Water','Dark'\n",
    "'343','Baltoy','Ground','Psychic'\n",
    "'344','Claydol','Ground','Psychic'\n",
    "'345','Lileep','Rock','Grass'\n",
    "'346','Cradily','Rock','Grass'\n",
    "'347','Anorith','Rock','Bug'\n",
    "'348','Armaldo','Rock','Bug'\n",
    "'349','Feebas','Water','Nan'\n",
    "'350','Milotic','Water','Nan'\n",
    "'351','Castform','Normal','Nan'\n",
    "'351','Castform','Fire','Nan'\n",
    "'351','Castform','Water','Nan'\n",
    "'351','Castform','Ice','Nan'\n",
    "'352','Kecleon','Normal','Nan'\n",
    "'353','Shuppet','Ghost','Nan'\n",
    "'354','Banette','Ghost','Nan'\n",
    "'355','Duskull','Ghost','Nan'\n",
    "'356','Dusclops','Ghost','Nan'\n",
    "'357','Tropius','Grass','Flying'\n",
    "'358','Chimecho','Psychic','Nan'\n",
    "'359','Absol','Dark','Nan'\n",
    "'360','Wynaut','Psychic','Nan'\n",
    "'361','Snorunt','Ice','Nan'\n",
    "'362','Glalie','Ice','Nan'\n",
    "'363','Spheal','Ice','Water'\n",
    "'364','Sealeo','Ice','Water'\n",
    "'365','Walrein','Ice','Water'\n",
    "'366','Clamperl','Water','Nan'\n",
    "'367','Huntail','Water','Nan'\n",
    "'368','Gorebyss','Water','Nan'\n",
    "'369','Relicanth','Water','Rock'\n",
    "'370','Luvdisc','Water','Nan'\n",
    "'371','Bagon','Dragon','Nan'\n",
    "'372','Shelgon','Dragon','Nan'\n",
    "'373','Salamence','Dragon','Flying'\n",
    "'374','Beldum','Steel','Psychic'\n",
    "'375','Metang','Steel','Psychic'\n",
    "'376','Metagross','Steel','Psychic'\n",
    "'377','Regirock','Rock','Nan'\n",
    "'378','Regice','Ice','Nan'\n",
    "'379','Registeel','Steel','Nan'\n",
    "'380','Latias','Dragon','Psychic'\n",
    "'381','Latios','Dragon','Psychic'\n",
    "'382','Kyogre','Water','Nan'\n",
    "'383','Groudon','Ground','Nan'\n",
    "'384','Rayquaza','Dragon','Flying'\n",
    "'385','Jirachi','Steel','Psychic'\n",
    "'386','Deoxys','Psychic','Nan'\n",
    "'386','Deoxys','Psychic','Nan'\n",
    "'386','Deoxys','Psychic','Nan'\n",
    "'386','Deoxys','Psychic','Nan'\n",
    "'387','Turtwig','Grass','Nan'\n",
    "'388','Grotle','Grass','Nan'\n",
    "'389','Torterra','Grass','Ground'\n",
    "'390','Chimchar','Fire','Nan'\n",
    "'391','Monferno','Fire','Fighting'\n",
    "'392','Infernape','Fire','Fighting'\n",
    "'393','Piplup','Water','Nan'\n",
    "'394','Prinplup','Water','Nan'\n",
    "'395','Empoleon','Water','Steel'\n",
    "'396','Starly','Normal','Flying'\n",
    "'397','Staravia','Normal','Flying'\n",
    "'398','Staraptor','Normal','Flying'\n",
    "'399','Bidoof','Normal','Nan'\n",
    "'400','Bibarel','Normal','Water'\n",
    "'401','Kricketot','Bug','Nan'\n",
    "'402','Kricketune','Bug','Nan'\n",
    "'403','Shinx','Electric','Nan'\n",
    "'404','Luxio','Electric','Nan'\n",
    "'405','Luxray','Electric','Nan'\n",
    "'406','Budew','Grass','Poison'\n",
    "'407','Roserade','Grass','Poison'\n",
    "'408','Cranidos','Rock','Nan'\n",
    "'409','Rampardos','Rock','Nan'\n",
    "'410','Shieldon','Rock','Steel'\n",
    "'411','Bastiodon','Rock','Steel'\n",
    "'412','Burmy','Bug','Nan'\n",
    "'412','Burmy','Bug','Nan'\n",
    "'412','Burmy','Bug','Nan'\n",
    "'413','Wormadam','Bug','Grass'\n",
    "'413','Wormadam','Bug','Ground'\n",
    "'413','Wormadam','Bug','Steel'\n",
    "'414','Mothim','Bug','Flying'\n",
    "'415','Combee','Bug','Flying'\n",
    "'416','Vespiquen','Bug','Flying'\n",
    "'417','Pachirisu','Electric','Nan'\n",
    "'418','Buizel','Water','Nan'\n",
    "'419','Floatzel','Water','Nan'\n",
    "'420','Cherubi','Grass','Nan'\n",
    "'421','Cherrim','Grass','Nan'\n",
    "'422','Shellos','Water','Nan'\n",
    "'422','Shellos','Water','Nan'\n",
    "'423','Gastrodon','Water','Ground'\n",
    "'423','Gastrodon','Water','Ground'\n",
    "'424','Ambipom','Normal','Nan'\n",
    "'425','Drifloon','Ghost','Flying'\n",
    "'426','Drifblim','Ghost','Flying'\n",
    "'427','Buneary','Normal','Nan'\n",
    "'428','Lopunny','Normal','Nan'\n",
    "'429','Mismagius','Ghost','Nan'\n",
    "'430','Honchkrow','Dark','Flying'\n",
    "'431','Glameow','Normal','Nan'\n",
    "'432','Purugly','Normal','Nan'\n",
    "'433','Chingling','Psychic','Nan'\n",
    "'434','Stunky','Poison','Dark'\n",
    "'435','Skuntank','Poison','Dark'\n",
    "'436','Bronzor','Steel','Psychic'\n",
    "'437','Bronzong','Steel','Psychic'\n",
    "'438','Bonsly','Rock','Nan'\n",
    "'439','Mime Jr.','Psychic','Fairy'\n",
    "'440','Happiny','Normal','Nan'\n",
    "'441','Chatot','Normal','Flying'\n",
    "'442','Spiritomb','Ghost','Dark'\n",
    "'443','Gible','Dragon','Ground'\n",
    "'444','Gabite','Dragon','Ground'\n",
    "'445','Garchomp','Dragon','Ground'\n",
    "'446','Munchlax','Normal','Nan'\n",
    "'447','Riolu','Fighting','Nan'\n",
    "'448','Lucario','Fighting','Steel'\n",
    "'449','Hippopotas','Ground','Nan'\n",
    "'450','Hippowdon','Ground','Nan'\n",
    "'451','Skorupi','Poison','Bug'\n",
    "'452','Drapion','Poison','Dark'\n",
    "'453','Croagunk','Poison','Fighting'\n",
    "'454','Toxicroak','Poison','Fighting'\n",
    "'455','Carnivine','Grass','Nan'\n",
    "'456','Finneon','Water','Nan'\n",
    "'457','Lumineon','Water','Nan'\n",
    "'458','Mantyke','Water','Flying'\n",
    "'459','Snover','Grass','Ice'\n",
    "'460','Abomasnow','Grass','Ice'\n",
    "'461','Weavile','Dark','Ice'\n",
    "'462','Magnezone','Electric','Steel'\n",
    "'463','Lickilicky','Normal','Nan'\n",
    "'464','Rhyperior','Ground','Rock'\n",
    "'465','Tangrowth','Grass','Nan'\n",
    "'466','Electivire','Electric','Nan'\n",
    "'467','Magmortar','Fire','Nan'\n",
    "'468','Togekiss','Fairy','Flying'\n",
    "'469','Yanmega','Bug','Flying'\n",
    "'470','Leafeon','Grass','Nan'\n",
    "'471','Glaceon','Ice','Nan'\n",
    "'472','Gliscor','Ground','Flying'\n",
    "'473','Mamoswine','Ice','Ground'\n",
    "'474','Porygon-Z','Normal','Nan'\n",
    "'475','Gallade','Psychic','Fighting'\n",
    "'476','Probopass','Rock','Steel'\n",
    "'477','Dusknoir','Ghost','Nan'\n",
    "'478','Froslass','Ice','Ghost'\n",
    "'479','Rotom','Electric','Ghost'\n",
    "'479','Rotom','Electric','Fire'\n",
    "'479','Rotom','Electric','Water'\n",
    "'479','Rotom','Electric','Ice'\n",
    "'479','Rotom','Electric','Flying'\n",
    "'479','Rotom','Electric','Grass'\n",
    "'480','Uxie','Psychic','Nan'\n",
    "'481','Mesprit','Psychic','Nan'\n",
    "'482','Azelf','Psychic','Nan'\n",
    "'483','Dialga','Steel','Dragon'\n",
    "'484','Palkia','Water','Dragon'\n",
    "'485','Heatran','Fire','Steel'\n",
    "'486','Regigigas','Normal','Nan'\n",
    "'487','Giratina','Ghost','Dragon'\n",
    "'487','Giratina','Ghost','Dragon'\n",
    "'488','Cresselia','Psychic','Nan'\n",
    "'489','Phione','Water','Nan'\n",
    "'490','Manaphy','Water','Nan'\n",
    "'491','Darkrai','Dark','Nan'\n",
    "'492','Shaymin','Grass','Nan'\n",
    "'492','Shaymin','Grass','Flying'\n",
    "'493','Arceus','Normal','Nan'\n",
    "'494','Victini','Psychic','Fire'\n",
    "'495','Snivy','Grass','Nan'\n",
    "'496','Servine','Grass','Nan'\n",
    "'497','Serperior','Grass','Nan'\n",
    "'498','Tepig','Fire','Nan'\n",
    "'499','Pignite','Fire','Fighting'\n",
    "'500','Emboar','Fire','Fighting'\n",
    "'501','Oshawott','Water','Nan'\n",
    "'502','Dewott','Water','Nan'\n",
    "'503','Samurott','Water','Nan'\n",
    "'504','Patrat','Normal','Nan'\n",
    "'505','Watchog','Normal','Nan'\n",
    "'506','Lillipup','Normal','Nan'\n",
    "'507','Herdier','Normal','Nan'\n",
    "'508','Stoutland','Normal','Nan'\n",
    "'509','Purrloin','Dark','Nan'\n",
    "'510','Liepard','Dark','Nan'\n",
    "'511','Pansage','Grass','Nan'\n",
    "'512','Simisage','Grass','Nan'\n",
    "'513','Pansear','Fire','Nan'\n",
    "'514','Simisear','Fire','Nan'\n",
    "'515','Panpour','Water','Nan'\n",
    "'516','Simipour','Water','Nan'\n",
    "'517','Munna','Psychic','Nan'\n",
    "'518','Musharna','Psychic','Nan'\n",
    "'519','Pidove','Normal','Flying'\n",
    "'520','Tranquill','Normal','Flying'\n",
    "'521','Unfezant','Normal','Flying'\n",
    "'521','Unfezant','Normal','Flying'\n",
    "'522','Blitzle','Electric','Nan'\n",
    "'523','Zebstrika','Electric','Nan'\n",
    "'524','Roggenrola','Rock','Nan'\n",
    "'525','Boldore','Rock','Nan'\n",
    "'526','Gigalith','Rock','Nan'\n",
    "'527','Woobat','Psychic','Flying'\n",
    "'528','Swoobat','Psychic','Flying'\n",
    "'529','Drilbur','Ground','Nan'\n",
    "'530','Excadrill','Ground','Steel'\n",
    "'531','Audino','Normal','Nan'\n",
    "'532','Timburr','Fighting','Nan'\n",
    "'533','Gurdurr','Fighting','Nan'\n",
    "'534','Conkeldurr','Fighting','Nan'\n",
    "'535','Tympole','Water','Nan'\n",
    "'536','Palpitoad','Water','Ground'\n",
    "'537','Seismitoad','Water','Ground'\n",
    "'538','Throh','Fighting','Nan'\n",
    "'539','Sawk','Fighting','Nan'\n",
    "'540','Sewaddle','Bug','Grass'\n",
    "'541','Swadloon','Bug','Grass'\n",
    "'542','Leavanny','Bug','Grass'\n",
    "'543','Venipede','Bug','Poison'\n",
    "'544','Whirlipede','Bug','Poison'\n",
    "'545','Scolipede','Bug','Poison'\n",
    "'546','Cottonee','Grass','Fairy'\n",
    "'547','Whimsicott','Grass','Fairy'\n",
    "'548','Petilil','Grass','Nan'\n",
    "'549','Lilligant','Grass','Nan'\n",
    "'550','Basculin','Water','Nan'\n",
    "'550','Basculin','Water','Nan'\n",
    "'551','Sandile','Ground','Dark'\n",
    "'552','Krokorok','Ground','Dark'\n",
    "'553','Krookodile','Ground','Dark'\n",
    "'554','Darumaka','Fire','Nan'\n",
    "'554','Darumaka','Ice','Nan'\n",
    "'555','Darmanitan','Fire','Nan'\n",
    "'555','Darmanitan','Fire','Psychic'\n",
    "'555','Darmanitan','Ice','Nan'\n",
    "'555','Darmanitan','Ice','Fire'\n",
    "'556','Maractus','Grass','Nan'\n",
    "'557','Dwebble','Bug','Rock'\n",
    "'558','Crustle','Bug','Rock'\n",
    "'559','Scraggy','Dark','Fighting'\n",
    "'560','Scrafty','Dark','Fighting'\n",
    "'561','Sigilyph','Psychic','Flying'\n",
    "'562','Yamask','Ghost','Nan'\n",
    "'562','Yamask','Ground','Ghost'\n",
    "'563','Cofagrigus','Ghost','Nan'\n",
    "'564','Tirtouga','Water','Rock'\n",
    "'565','Carracosta','Water','Rock'\n",
    "'566','Archen','Rock','Flying'\n",
    "'567','Archeops','Rock','Flying'\n",
    "'568','Trubbish','Poison','Nan'\n",
    "'569','Garbodor','Poison','Nan'\n",
    "'570','Zorua','Dark','Nan'\n",
    "'571','Zoroark','Dark','Nan'\n",
    "'572','Minccino','Normal','Nan'\n",
    "'573','Cinccino','Normal','Nan'\n",
    "'574','Gothita','Psychic','Nan'\n",
    "'575','Gothorita','Psychic','Nan'\n",
    "'576','Gothitelle','Psychic','Nan'\n",
    "'577','Solosis','Psychic','Nan'\n",
    "'578','Duosion','Psychic','Nan'\n",
    "'579','Reuniclus','Psychic','Nan'\n",
    "'580','Ducklett','Water','Flying'\n",
    "'581','Swanna','Water','Flying'\n",
    "'582','Vanillite','Ice','Nan'\n",
    "'583','Vanillish','Ice','Nan'\n",
    "'584','Vanilluxe','Ice','Nan'\n",
    "'585','Deerling','Normal','Grass'\n",
    "'586','Sawsbuck','Normal','Grass'\n",
    "'587','Emolga','Electric','Flying'\n",
    "'588','Karrablast','Bug','Nan'\n",
    "'589','Escavalier','Bug','Steel'\n",
    "'590','Foongus','Grass','Poison'\n",
    "'591','Amoonguss','Grass','Poison'\n",
    "'592','Frillish','Water','Ghost'\n",
    "'592','Frillish','Water','Ghost'\n",
    "'593','Jellicent','Water','Ghost'\n",
    "'593','Jellicent','Water','Ghost'\n",
    "'594','Alomomola','Water','Nan'\n",
    "'595','Joltik','Bug','Electric'\n",
    "'596','Galvantula','Bug','Electric'\n",
    "'597','Ferroseed','Grass','Steel'\n",
    "'598','Ferrothorn','Grass','Steel'\n",
    "'599','Klink','Steel','Nan'\n",
    "'600','Klang','Steel','Nan'\n",
    "'601','Klinklang','Steel','Nan'\n",
    "'602','Tynamo','Electric','Nan'\n",
    "'603','Eelektrik','Electric','Nan'\n",
    "'604','Eelektross','Electric','Nan'\n",
    "'605','Elgyem','Psychic','Nan'\n",
    "'606','Beheeyem','Psychic','Nan'\n",
    "'607','Litwick','Ghost','Fire'\n",
    "'608','Lampent','Ghost','Fire'\n",
    "'609','Chandelure','Ghost','Fire'\n",
    "'610','Axew','Dragon','Nan'\n",
    "'611','Fraxure','Dragon','Nan'\n",
    "'612','Haxorus','Dragon','Nan'\n",
    "'613','Cubchoo','Ice','Nan'\n",
    "'614','Beartic','Ice','Nan'\n",
    "'615','Cryogonal','Ice','Nan'\n",
    "'616','Shelmet','Bug','Nan'\n",
    "'617','Accelgor','Bug','Nan'\n",
    "'618','Stunfisk','Ground','Electric'\n",
    "'618','Stunfisk','Ground','Steel'\n",
    "'619','Mienfoo','Fighting','Nan'\n",
    "'620','Mienshao','Fighting','Nan'\n",
    "'621','Druddigon','Dragon','Nan'\n",
    "'622','Golett','Ground','Ghost'\n",
    "'623','Golurk','Ground','Ghost'\n",
    "'624','Pawniard','Dark','Steel'\n",
    "'625','Bisharp','Dark','Steel'\n",
    "'626','Bouffalant','Normal','Nan'\n",
    "'627','Rufflet','Normal','Flying'\n",
    "'628','Braviary','Normal','Flying'\n",
    "'629','Vullaby','Dark','Flying'\n",
    "'630','Mandibuzz','Dark','Flying'\n",
    "'631','Heatmor','Fire','Nan'\n",
    "'632','Durant','Bug','Steel'\n",
    "'633','Deino','Dark','Dragon'\n",
    "'634','Zweilous','Dark','Dragon'\n",
    "'635','Hydreigon','Dark','Dragon'\n",
    "'636','Larvesta','Bug','Fire'\n",
    "'637','Volcarona','Bug','Fire'\n",
    "'638','Cobalion','Steel','Fighting'\n",
    "'639','Terrakion','Rock','Fighting'\n",
    "'640','Virizion','Grass','Fighting'\n",
    "'641','Tornadus','Flying','Nan'\n",
    "'642','Thundurus','Electric','Flying'\n",
    "'643','Reshiram','Dragon','Fire'\n",
    "'644','Zekrom','Dragon','Electric'\n",
    "'645','Landorus','Ground','Flying'\n",
    "'646','Kyurem','Dragon','Ice'\n",
    "'647','Keldeo','Water','Fighting'\n",
    "'648','Meloetta','Normal','Psychic'\n",
    "'648','Meloetta','Normal','Fighting'\n",
    "'649','Genesect','Bug','Steel'\n",
    "'650','Chespin','Grass','Nan'\n",
    "'651','Quilladin','Grass','Nan'\n",
    "'652','Chesnaught','Grass','Fighting'\n",
    "'653','Fennekin','Fire','Nan'\n",
    "'654','Braixen','Fire','Nan'\n",
    "'655','Delphox','Fire','Psychic'\n",
    "'656','Froakie','Water','Nan'\n",
    "'657','Frogadier','Water','Nan'\n",
    "'658','Greninja','Water','Dark'\n",
    "'659','Bunnelby','Normal','Nan'\n",
    "'660','Diggersby','Normal','Ground'\n",
    "'661','Fletchling','Normal','Flying'\n",
    "'662','Fletchinder','Fire','Flying'\n",
    "'663','Talonflame','Fire','Flying'\n",
    "'664','Scatterbug','Bug','Nan'\n",
    "'665','Spewpa','Bug','Nan'\n",
    "'666','Vivillon','Bug','Flying'\n",
    "'667','Litleo','Fire','Normal'\n",
    "'668','Pyroar','Fire','Normal'\n",
    "'669','FlabsSbsS','Fairy','Nan'\n",
    "'670','Floette','Fairy','Nan'\n",
    "'671','Florges','Fairy','Nan'\n",
    "'672','Skiddo','Grass','Nan'\n",
    "'673','Gogoat','Grass','Nan'\n",
    "'674','Pancham','Fighting','Nan'\n",
    "'675','Pangoro','Fighting','Dark'\n",
    "'676','Furfrou','Normal','Nan'\n",
    "'677','Espurr','Psychic','Nan'\n",
    "'678','Meowstic','Psychic','Nan'\n",
    "'679','Honedge','Steel','Ghost'\n",
    "'680','Doublade','Steel','Ghost'\n",
    "'681','Aegislash','Steel','Ghost'\n",
    "'682','Spritzee','Fairy','Nan'\n",
    "'683','Aromatisse','Fairy','Nan'\n",
    "'684','Swirlix','Fairy','Nan'\n",
    "'685','Slurpuff','Fairy','Nan'\n",
    "'686','Inkay','Dark','Psychic'\n",
    "'687','Malamar','Dark','Psychic'\n",
    "'688','Binacle','Rock','Water'\n",
    "'689','Barbaracle','Rock','Water'\n",
    "'690','Skrelp','Poison','Water'\n",
    "'691','Dragalge','Poison','Dragon'\n",
    "'692','Clauncher','Water','Nan'\n",
    "'693','Clawitzer','Water','Nan'\n",
    "'694','Helioptile','Electric','Normal'\n",
    "'695','Heliolisk','Electric','Normal'\n",
    "'696','Tyrunt','Rock','Dragon'\n",
    "'697','Tyrantrum','Rock','Dragon'\n",
    "'698','Amaura','Rock','Ice'\n",
    "'699','Aurorus','Rock','Ice'\n",
    "'700','Sylveon','Fairy','Nan'\n",
    "'701','Hawlucha','Fighting','Flying'\n",
    "'702','Dedenne','Electric','Fairy'\n",
    "'703','Carbink','Rock','Fairy'\n",
    "'704','Goomy','Dragon','Nan'\n",
    "'705','Sliggoo','Dragon','Nan'\n",
    "'706','Goodra','Dragon','Nan'\n",
    "'707','Klefki','Steel','Fairy'\n",
    "'708','Phantump','Ghost','Grass'\n",
    "'709','Trevenant','Ghost','Grass'\n",
    "'710','Pumpkaboo','Ghost','Grass'\n",
    "'711','Gourgeist','Ghost','Grass'\n",
    "'712','Bergmite','Ice','Nan'\n",
    "'713','Avalugg','Ice','Nan'\n",
    "'714','Noibat','Flying','Dragon'\n",
    "'715','Noivern','Flying','Dragon'\n",
    "'716','Xerneas','Fairy','Nan'\n",
    "'717','Yveltal','Dark','Flying'\n",
    "'718','Zygarde','Dragon','Ground'\n",
    "'719','Diancie','Rock','Fairy'\n",
    "'720','Hoopa','Psychic','Ghost'\n",
    "'720','Hoopa','Psychic','Dark'"
   ]
  },
  {
   "cell_type": "code",
   "execution_count": 64,
   "id": "a2959c49-3577-45f7-9647-60413afb17cf",
   "metadata": {},
   "outputs": [
    {
     "data": {
      "text/plain": [
       "\u001b[0;31mInit signature:\u001b[0m \u001b[0mzip\u001b[0m\u001b[0;34m(\u001b[0m\u001b[0mself\u001b[0m\u001b[0;34m,\u001b[0m \u001b[0;34m/\u001b[0m\u001b[0;34m,\u001b[0m \u001b[0;34m*\u001b[0m\u001b[0margs\u001b[0m\u001b[0;34m,\u001b[0m \u001b[0;34m**\u001b[0m\u001b[0mkwargs\u001b[0m\u001b[0;34m)\u001b[0m\u001b[0;34m\u001b[0m\u001b[0;34m\u001b[0m\u001b[0m\n",
       "\u001b[0;31mDocstring:\u001b[0m     \n",
       "zip(*iterables) --> A zip object yielding tuples until an input is exhausted.\n",
       "\n",
       "   >>> list(zip('abcdefg', range(3), range(4)))\n",
       "   [('a', 0, 0), ('b', 1, 1), ('c', 2, 2)]\n",
       "\n",
       "The zip object yields n-length tuples, where n is the number of iterables\n",
       "passed as positional arguments to zip().  The i-th element in every tuple\n",
       "comes from the i-th iterable argument to zip().  This continues until the\n",
       "shortest argument is exhausted.\n",
       "\u001b[0;31mType:\u001b[0m           type\n",
       "\u001b[0;31mSubclasses:\u001b[0m     \n"
      ]
     },
     "metadata": {},
     "output_type": "display_data"
    }
   ],
   "source": [
    "?zip"
   ]
  },
  {
   "cell_type": "markdown",
   "id": "7fa09f4b-a079-4365-8bb7-9078cf04ee39",
   "metadata": {},
   "source": [
    "## Counting Pokémon from a sample\n",
    "\n",
    "A sample of 500 Pokémon has been generated, and three lists from this sample have been loaded into your session:\n",
    "\n",
    "    The names list contains the names of each Pokémon in the sample.\n",
    "    The primary_types list containing the corresponding primary type of each Pokémon in the sample.\n",
    "    The generations list contains the corresponding generation of each Pokémon in the sample.\n",
    "\n",
    "You want to quickly gather a few counts from these lists to better understand the sample that was generated. Use Counter from the collections module to explore what types of Pokémon are in your sample, what generations they come from, and how many Pokémon have a name that starts with a specific letter.\n",
    "\n",
    "Counter has already been imported into your session for convenience.\n",
    "Instructions\n",
    "100 XP\n",
    "\n",
    "    Collect the count of each primary type from the sample.\n",
    "    Collect the count of each generation from the sample.\n",
    "    Use list comprehension to collect the first letter of each Pokémon in the names list. Save this as starting_letters.\n",
    "    Collect the count of starting letters from the starting_letters list. Save this as starting_letters_count.\n"
   ]
  },
  {
   "cell_type": "code",
   "execution_count": 2,
   "id": "997d2d77-62db-4f46-9f56-48b9f9861faf",
   "metadata": {},
   "outputs": [
    {
     "name": "stdout",
     "output_type": "stream",
     "text": [
      "500\n",
      "500\n",
      "500\n"
     ]
    }
   ],
   "source": [
    "import csv\n",
    "\n",
    "\n",
    "with open('PokeMon_List2.csv', 'r') as file_obj:\n",
    "    csv_reader = csv.reader(file_obj)\n",
    "    #next(csv_reader)   # Working code, skips the first row of the csv file\n",
    "    list_of_tuples = list(map(tuple, csv_reader))\n",
    "\n",
    "\n",
    "# *************************************************************************************************** #\n",
    "#name = list_of_tuples[1:][:]   # Why we cant do it this way?\n",
    "names = [i[1] for i in list_of_tuples[:500]]\n",
    "\n",
    "primary_types = [i[2] for i in list_of_tuples[:500]]\n",
    "secondary_types = [i[3] for i in list_of_tuples[:500]]\n",
    "#\n",
    "print(len(names))\n",
    "print(len(primary_types))\n",
    "print(len(secondary_types))"
   ]
  },
  {
   "cell_type": "code",
   "execution_count": null,
   "id": "aa48b07b-11a8-4882-a501-a93a23c37a99",
   "metadata": {},
   "outputs": [],
   "source": [
    "from collections import Counter\n",
    "\n",
    "# Collect the count of primary types\n",
    "type_count = Counter(primary_types)\n",
    "print(type_count, '\\n')\n",
    "\n",
    "# Collect the count of generations\n",
    "gen_count = Counter(generations)\n",
    "print(gen_count, '\\n')\n",
    "\n",
    "# Use list comprehension to get each Pokémon's starting letter\n",
    "starting_letters = [name[0] for name in names]\n",
    "\n",
    "# Collect the count of Pokémon for each starting_letter\n",
    "starting_letters_count = Counter(starting_letters)\n",
    "print(starting_letters_count)"
   ]
  },
  {
   "cell_type": "markdown",
   "id": "3819da88-ed7a-4c02-a8af-b0d206c0139b",
   "metadata": {},
   "source": [
    "## Combinations of Pokémon\n",
    "\n",
    "Ash, a Pokémon trainer, encounters a group of five Pokémon. These Pokémon have been loaded into a list within your session (called pokemon) and printed into the console for your convenience.\n",
    "\n",
    "Ash would like to try to catch some of these Pokémon, but his Pokédex can only store two Pokémon at a time. Let's use combinations from the itertools module to see what the possible pairs of Pokémon are that Ash could catch.\n",
    "Instructions\n",
    "100 XP\n",
    "\n",
    "    Import combinations from itertools.\n",
    "    Create a combinations object called combos_obj that contains all possible pairs of Pokémon from the pokemon list. A pair has 2 Pokémon.\n",
    "    Unpack combos_obj into a list called combos_2.\n",
    "    Ash upgraded his Pokédex so that it can now store four Pokémon. Use combinations to collect all possible combinations of 4 different Pokémon. Save these combinations directly into a list called combos_4 using the star character (*).\n"
   ]
  },
  {
   "cell_type": "code",
   "execution_count": 3,
   "id": "b5a6cb75-ea1f-41a1-a6bb-38c64b3222d6",
   "metadata": {
    "tags": []
   },
   "outputs": [
    {
     "name": "stdout",
     "output_type": "stream",
     "text": [
      "<class 'itertools.combinations'> \n",
      "\n",
      "[('Pokemon', 'Bulbasaur'), ('Pokemon', 'Ivysaur'), ('Pokemon', 'Venusaur'), ('Pokemon', 'Charmander'), ('Pokemon', 'Charmeleon'), ('Pokemon', 'Charizard'), ('Pokemon', 'Squirtle'), ('Pokemon', 'Wartortle'), ('Pokemon', 'Blastoise'), ('Bulbasaur', 'Ivysaur'), ('Bulbasaur', 'Venusaur'), ('Bulbasaur', 'Charmander'), ('Bulbasaur', 'Charmeleon'), ('Bulbasaur', 'Charizard'), ('Bulbasaur', 'Squirtle'), ('Bulbasaur', 'Wartortle'), ('Bulbasaur', 'Blastoise'), ('Ivysaur', 'Venusaur'), ('Ivysaur', 'Charmander'), ('Ivysaur', 'Charmeleon'), ('Ivysaur', 'Charizard'), ('Ivysaur', 'Squirtle'), ('Ivysaur', 'Wartortle'), ('Ivysaur', 'Blastoise'), ('Venusaur', 'Charmander'), ('Venusaur', 'Charmeleon'), ('Venusaur', 'Charizard'), ('Venusaur', 'Squirtle'), ('Venusaur', 'Wartortle'), ('Venusaur', 'Blastoise'), ('Charmander', 'Charmeleon'), ('Charmander', 'Charizard'), ('Charmander', 'Squirtle'), ('Charmander', 'Wartortle'), ('Charmander', 'Blastoise'), ('Charmeleon', 'Charizard'), ('Charmeleon', 'Squirtle'), ('Charmeleon', 'Wartortle'), ('Charmeleon', 'Blastoise'), ('Charizard', 'Squirtle'), ('Charizard', 'Wartortle'), ('Charizard', 'Blastoise'), ('Squirtle', 'Wartortle'), ('Squirtle', 'Blastoise'), ('Wartortle', 'Blastoise')] \n",
      "\n",
      "[('Pokemon', 'Bulbasaur', 'Ivysaur', 'Venusaur'), ('Pokemon', 'Bulbasaur', 'Ivysaur', 'Charmander'), ('Pokemon', 'Bulbasaur', 'Ivysaur', 'Charmeleon'), ('Pokemon', 'Bulbasaur', 'Ivysaur', 'Charizard'), ('Pokemon', 'Bulbasaur', 'Ivysaur', 'Squirtle'), ('Pokemon', 'Bulbasaur', 'Ivysaur', 'Wartortle'), ('Pokemon', 'Bulbasaur', 'Ivysaur', 'Blastoise'), ('Pokemon', 'Bulbasaur', 'Venusaur', 'Charmander'), ('Pokemon', 'Bulbasaur', 'Venusaur', 'Charmeleon'), ('Pokemon', 'Bulbasaur', 'Venusaur', 'Charizard'), ('Pokemon', 'Bulbasaur', 'Venusaur', 'Squirtle'), ('Pokemon', 'Bulbasaur', 'Venusaur', 'Wartortle'), ('Pokemon', 'Bulbasaur', 'Venusaur', 'Blastoise'), ('Pokemon', 'Bulbasaur', 'Charmander', 'Charmeleon'), ('Pokemon', 'Bulbasaur', 'Charmander', 'Charizard'), ('Pokemon', 'Bulbasaur', 'Charmander', 'Squirtle'), ('Pokemon', 'Bulbasaur', 'Charmander', 'Wartortle'), ('Pokemon', 'Bulbasaur', 'Charmander', 'Blastoise'), ('Pokemon', 'Bulbasaur', 'Charmeleon', 'Charizard'), ('Pokemon', 'Bulbasaur', 'Charmeleon', 'Squirtle'), ('Pokemon', 'Bulbasaur', 'Charmeleon', 'Wartortle'), ('Pokemon', 'Bulbasaur', 'Charmeleon', 'Blastoise'), ('Pokemon', 'Bulbasaur', 'Charizard', 'Squirtle'), ('Pokemon', 'Bulbasaur', 'Charizard', 'Wartortle'), ('Pokemon', 'Bulbasaur', 'Charizard', 'Blastoise'), ('Pokemon', 'Bulbasaur', 'Squirtle', 'Wartortle'), ('Pokemon', 'Bulbasaur', 'Squirtle', 'Blastoise'), ('Pokemon', 'Bulbasaur', 'Wartortle', 'Blastoise'), ('Pokemon', 'Ivysaur', 'Venusaur', 'Charmander'), ('Pokemon', 'Ivysaur', 'Venusaur', 'Charmeleon'), ('Pokemon', 'Ivysaur', 'Venusaur', 'Charizard'), ('Pokemon', 'Ivysaur', 'Venusaur', 'Squirtle'), ('Pokemon', 'Ivysaur', 'Venusaur', 'Wartortle'), ('Pokemon', 'Ivysaur', 'Venusaur', 'Blastoise'), ('Pokemon', 'Ivysaur', 'Charmander', 'Charmeleon'), ('Pokemon', 'Ivysaur', 'Charmander', 'Charizard'), ('Pokemon', 'Ivysaur', 'Charmander', 'Squirtle'), ('Pokemon', 'Ivysaur', 'Charmander', 'Wartortle'), ('Pokemon', 'Ivysaur', 'Charmander', 'Blastoise'), ('Pokemon', 'Ivysaur', 'Charmeleon', 'Charizard'), ('Pokemon', 'Ivysaur', 'Charmeleon', 'Squirtle'), ('Pokemon', 'Ivysaur', 'Charmeleon', 'Wartortle'), ('Pokemon', 'Ivysaur', 'Charmeleon', 'Blastoise'), ('Pokemon', 'Ivysaur', 'Charizard', 'Squirtle'), ('Pokemon', 'Ivysaur', 'Charizard', 'Wartortle'), ('Pokemon', 'Ivysaur', 'Charizard', 'Blastoise'), ('Pokemon', 'Ivysaur', 'Squirtle', 'Wartortle'), ('Pokemon', 'Ivysaur', 'Squirtle', 'Blastoise'), ('Pokemon', 'Ivysaur', 'Wartortle', 'Blastoise'), ('Pokemon', 'Venusaur', 'Charmander', 'Charmeleon'), ('Pokemon', 'Venusaur', 'Charmander', 'Charizard'), ('Pokemon', 'Venusaur', 'Charmander', 'Squirtle'), ('Pokemon', 'Venusaur', 'Charmander', 'Wartortle'), ('Pokemon', 'Venusaur', 'Charmander', 'Blastoise'), ('Pokemon', 'Venusaur', 'Charmeleon', 'Charizard'), ('Pokemon', 'Venusaur', 'Charmeleon', 'Squirtle'), ('Pokemon', 'Venusaur', 'Charmeleon', 'Wartortle'), ('Pokemon', 'Venusaur', 'Charmeleon', 'Blastoise'), ('Pokemon', 'Venusaur', 'Charizard', 'Squirtle'), ('Pokemon', 'Venusaur', 'Charizard', 'Wartortle'), ('Pokemon', 'Venusaur', 'Charizard', 'Blastoise'), ('Pokemon', 'Venusaur', 'Squirtle', 'Wartortle'), ('Pokemon', 'Venusaur', 'Squirtle', 'Blastoise'), ('Pokemon', 'Venusaur', 'Wartortle', 'Blastoise'), ('Pokemon', 'Charmander', 'Charmeleon', 'Charizard'), ('Pokemon', 'Charmander', 'Charmeleon', 'Squirtle'), ('Pokemon', 'Charmander', 'Charmeleon', 'Wartortle'), ('Pokemon', 'Charmander', 'Charmeleon', 'Blastoise'), ('Pokemon', 'Charmander', 'Charizard', 'Squirtle'), ('Pokemon', 'Charmander', 'Charizard', 'Wartortle'), ('Pokemon', 'Charmander', 'Charizard', 'Blastoise'), ('Pokemon', 'Charmander', 'Squirtle', 'Wartortle'), ('Pokemon', 'Charmander', 'Squirtle', 'Blastoise'), ('Pokemon', 'Charmander', 'Wartortle', 'Blastoise'), ('Pokemon', 'Charmeleon', 'Charizard', 'Squirtle'), ('Pokemon', 'Charmeleon', 'Charizard', 'Wartortle'), ('Pokemon', 'Charmeleon', 'Charizard', 'Blastoise'), ('Pokemon', 'Charmeleon', 'Squirtle', 'Wartortle'), ('Pokemon', 'Charmeleon', 'Squirtle', 'Blastoise'), ('Pokemon', 'Charmeleon', 'Wartortle', 'Blastoise'), ('Pokemon', 'Charizard', 'Squirtle', 'Wartortle'), ('Pokemon', 'Charizard', 'Squirtle', 'Blastoise'), ('Pokemon', 'Charizard', 'Wartortle', 'Blastoise'), ('Pokemon', 'Squirtle', 'Wartortle', 'Blastoise'), ('Bulbasaur', 'Ivysaur', 'Venusaur', 'Charmander'), ('Bulbasaur', 'Ivysaur', 'Venusaur', 'Charmeleon'), ('Bulbasaur', 'Ivysaur', 'Venusaur', 'Charizard'), ('Bulbasaur', 'Ivysaur', 'Venusaur', 'Squirtle'), ('Bulbasaur', 'Ivysaur', 'Venusaur', 'Wartortle'), ('Bulbasaur', 'Ivysaur', 'Venusaur', 'Blastoise'), ('Bulbasaur', 'Ivysaur', 'Charmander', 'Charmeleon'), ('Bulbasaur', 'Ivysaur', 'Charmander', 'Charizard'), ('Bulbasaur', 'Ivysaur', 'Charmander', 'Squirtle'), ('Bulbasaur', 'Ivysaur', 'Charmander', 'Wartortle'), ('Bulbasaur', 'Ivysaur', 'Charmander', 'Blastoise'), ('Bulbasaur', 'Ivysaur', 'Charmeleon', 'Charizard'), ('Bulbasaur', 'Ivysaur', 'Charmeleon', 'Squirtle'), ('Bulbasaur', 'Ivysaur', 'Charmeleon', 'Wartortle'), ('Bulbasaur', 'Ivysaur', 'Charmeleon', 'Blastoise'), ('Bulbasaur', 'Ivysaur', 'Charizard', 'Squirtle'), ('Bulbasaur', 'Ivysaur', 'Charizard', 'Wartortle'), ('Bulbasaur', 'Ivysaur', 'Charizard', 'Blastoise'), ('Bulbasaur', 'Ivysaur', 'Squirtle', 'Wartortle'), ('Bulbasaur', 'Ivysaur', 'Squirtle', 'Blastoise'), ('Bulbasaur', 'Ivysaur', 'Wartortle', 'Blastoise'), ('Bulbasaur', 'Venusaur', 'Charmander', 'Charmeleon'), ('Bulbasaur', 'Venusaur', 'Charmander', 'Charizard'), ('Bulbasaur', 'Venusaur', 'Charmander', 'Squirtle'), ('Bulbasaur', 'Venusaur', 'Charmander', 'Wartortle'), ('Bulbasaur', 'Venusaur', 'Charmander', 'Blastoise'), ('Bulbasaur', 'Venusaur', 'Charmeleon', 'Charizard'), ('Bulbasaur', 'Venusaur', 'Charmeleon', 'Squirtle'), ('Bulbasaur', 'Venusaur', 'Charmeleon', 'Wartortle'), ('Bulbasaur', 'Venusaur', 'Charmeleon', 'Blastoise'), ('Bulbasaur', 'Venusaur', 'Charizard', 'Squirtle'), ('Bulbasaur', 'Venusaur', 'Charizard', 'Wartortle'), ('Bulbasaur', 'Venusaur', 'Charizard', 'Blastoise'), ('Bulbasaur', 'Venusaur', 'Squirtle', 'Wartortle'), ('Bulbasaur', 'Venusaur', 'Squirtle', 'Blastoise'), ('Bulbasaur', 'Venusaur', 'Wartortle', 'Blastoise'), ('Bulbasaur', 'Charmander', 'Charmeleon', 'Charizard'), ('Bulbasaur', 'Charmander', 'Charmeleon', 'Squirtle'), ('Bulbasaur', 'Charmander', 'Charmeleon', 'Wartortle'), ('Bulbasaur', 'Charmander', 'Charmeleon', 'Blastoise'), ('Bulbasaur', 'Charmander', 'Charizard', 'Squirtle'), ('Bulbasaur', 'Charmander', 'Charizard', 'Wartortle'), ('Bulbasaur', 'Charmander', 'Charizard', 'Blastoise'), ('Bulbasaur', 'Charmander', 'Squirtle', 'Wartortle'), ('Bulbasaur', 'Charmander', 'Squirtle', 'Blastoise'), ('Bulbasaur', 'Charmander', 'Wartortle', 'Blastoise'), ('Bulbasaur', 'Charmeleon', 'Charizard', 'Squirtle'), ('Bulbasaur', 'Charmeleon', 'Charizard', 'Wartortle'), ('Bulbasaur', 'Charmeleon', 'Charizard', 'Blastoise'), ('Bulbasaur', 'Charmeleon', 'Squirtle', 'Wartortle'), ('Bulbasaur', 'Charmeleon', 'Squirtle', 'Blastoise'), ('Bulbasaur', 'Charmeleon', 'Wartortle', 'Blastoise'), ('Bulbasaur', 'Charizard', 'Squirtle', 'Wartortle'), ('Bulbasaur', 'Charizard', 'Squirtle', 'Blastoise'), ('Bulbasaur', 'Charizard', 'Wartortle', 'Blastoise'), ('Bulbasaur', 'Squirtle', 'Wartortle', 'Blastoise'), ('Ivysaur', 'Venusaur', 'Charmander', 'Charmeleon'), ('Ivysaur', 'Venusaur', 'Charmander', 'Charizard'), ('Ivysaur', 'Venusaur', 'Charmander', 'Squirtle'), ('Ivysaur', 'Venusaur', 'Charmander', 'Wartortle'), ('Ivysaur', 'Venusaur', 'Charmander', 'Blastoise'), ('Ivysaur', 'Venusaur', 'Charmeleon', 'Charizard'), ('Ivysaur', 'Venusaur', 'Charmeleon', 'Squirtle'), ('Ivysaur', 'Venusaur', 'Charmeleon', 'Wartortle'), ('Ivysaur', 'Venusaur', 'Charmeleon', 'Blastoise'), ('Ivysaur', 'Venusaur', 'Charizard', 'Squirtle'), ('Ivysaur', 'Venusaur', 'Charizard', 'Wartortle'), ('Ivysaur', 'Venusaur', 'Charizard', 'Blastoise'), ('Ivysaur', 'Venusaur', 'Squirtle', 'Wartortle'), ('Ivysaur', 'Venusaur', 'Squirtle', 'Blastoise'), ('Ivysaur', 'Venusaur', 'Wartortle', 'Blastoise'), ('Ivysaur', 'Charmander', 'Charmeleon', 'Charizard'), ('Ivysaur', 'Charmander', 'Charmeleon', 'Squirtle'), ('Ivysaur', 'Charmander', 'Charmeleon', 'Wartortle'), ('Ivysaur', 'Charmander', 'Charmeleon', 'Blastoise'), ('Ivysaur', 'Charmander', 'Charizard', 'Squirtle'), ('Ivysaur', 'Charmander', 'Charizard', 'Wartortle'), ('Ivysaur', 'Charmander', 'Charizard', 'Blastoise'), ('Ivysaur', 'Charmander', 'Squirtle', 'Wartortle'), ('Ivysaur', 'Charmander', 'Squirtle', 'Blastoise'), ('Ivysaur', 'Charmander', 'Wartortle', 'Blastoise'), ('Ivysaur', 'Charmeleon', 'Charizard', 'Squirtle'), ('Ivysaur', 'Charmeleon', 'Charizard', 'Wartortle'), ('Ivysaur', 'Charmeleon', 'Charizard', 'Blastoise'), ('Ivysaur', 'Charmeleon', 'Squirtle', 'Wartortle'), ('Ivysaur', 'Charmeleon', 'Squirtle', 'Blastoise'), ('Ivysaur', 'Charmeleon', 'Wartortle', 'Blastoise'), ('Ivysaur', 'Charizard', 'Squirtle', 'Wartortle'), ('Ivysaur', 'Charizard', 'Squirtle', 'Blastoise'), ('Ivysaur', 'Charizard', 'Wartortle', 'Blastoise'), ('Ivysaur', 'Squirtle', 'Wartortle', 'Blastoise'), ('Venusaur', 'Charmander', 'Charmeleon', 'Charizard'), ('Venusaur', 'Charmander', 'Charmeleon', 'Squirtle'), ('Venusaur', 'Charmander', 'Charmeleon', 'Wartortle'), ('Venusaur', 'Charmander', 'Charmeleon', 'Blastoise'), ('Venusaur', 'Charmander', 'Charizard', 'Squirtle'), ('Venusaur', 'Charmander', 'Charizard', 'Wartortle'), ('Venusaur', 'Charmander', 'Charizard', 'Blastoise'), ('Venusaur', 'Charmander', 'Squirtle', 'Wartortle'), ('Venusaur', 'Charmander', 'Squirtle', 'Blastoise'), ('Venusaur', 'Charmander', 'Wartortle', 'Blastoise'), ('Venusaur', 'Charmeleon', 'Charizard', 'Squirtle'), ('Venusaur', 'Charmeleon', 'Charizard', 'Wartortle'), ('Venusaur', 'Charmeleon', 'Charizard', 'Blastoise'), ('Venusaur', 'Charmeleon', 'Squirtle', 'Wartortle'), ('Venusaur', 'Charmeleon', 'Squirtle', 'Blastoise'), ('Venusaur', 'Charmeleon', 'Wartortle', 'Blastoise'), ('Venusaur', 'Charizard', 'Squirtle', 'Wartortle'), ('Venusaur', 'Charizard', 'Squirtle', 'Blastoise'), ('Venusaur', 'Charizard', 'Wartortle', 'Blastoise'), ('Venusaur', 'Squirtle', 'Wartortle', 'Blastoise'), ('Charmander', 'Charmeleon', 'Charizard', 'Squirtle'), ('Charmander', 'Charmeleon', 'Charizard', 'Wartortle'), ('Charmander', 'Charmeleon', 'Charizard', 'Blastoise'), ('Charmander', 'Charmeleon', 'Squirtle', 'Wartortle'), ('Charmander', 'Charmeleon', 'Squirtle', 'Blastoise'), ('Charmander', 'Charmeleon', 'Wartortle', 'Blastoise'), ('Charmander', 'Charizard', 'Squirtle', 'Wartortle'), ('Charmander', 'Charizard', 'Squirtle', 'Blastoise'), ('Charmander', 'Charizard', 'Wartortle', 'Blastoise'), ('Charmander', 'Squirtle', 'Wartortle', 'Blastoise'), ('Charmeleon', 'Charizard', 'Squirtle', 'Wartortle'), ('Charmeleon', 'Charizard', 'Squirtle', 'Blastoise'), ('Charmeleon', 'Charizard', 'Wartortle', 'Blastoise'), ('Charmeleon', 'Squirtle', 'Wartortle', 'Blastoise'), ('Charizard', 'Squirtle', 'Wartortle', 'Blastoise')]\n"
     ]
    }
   ],
   "source": [
    "# Import combinations from itertools\n",
    "from itertools import combinations\n",
    "\n",
    "pokemon = names[:10]\n",
    "\n",
    "# Create a combination object with pairs of Pokémon\n",
    "combos_obj = combinations(pokemon, 2)\n",
    "print(type(combos_obj), '\\n')\n",
    "\n",
    "# Convert combos_obj to a list by unpacking\n",
    "combos_2 = [*combos_obj]\n",
    "print(combos_2, '\\n')\n",
    "\n",
    "# Collect all possible combinations of 4 Pokémon directly into a list\n",
    "combos_4 = [*combinations(pokemon, 4)]\n",
    "print(combos_4)"
   ]
  },
  {
   "cell_type": "markdown",
   "id": "db717d57-880b-45d0-9f67-c749194ba93c",
   "metadata": {
    "tags": []
   },
   "source": [
    "## Set theory\n",
    "\n",
    "\n",
    "# Python build-in data type: set\n",
    "   __.intersection(): all elements that are in both sets__\n",
    "   __.difference(): all elements in one set but not the other__\n",
    "   __.symmetric_difference(): all elements in exactly one set__\n",
    "   __.union(): all elements that are in either set__\n",
    "   \n",
    "   __fast membership testing use in operator__\n",
    "\n",
    "\n",
    "\n",
    "**In this lesson, we'll continue to use the Pokemon dataset to enhance our skills when it comes to comparing objects.  \n",
    "\n",
    "# **Often we'd like to compare two objects to observe similarities and differences between their contents.  When doing this type of comparison, its best to leverage a branch of mathematics called set theory.  As you know Python comes with build-in set data type, set comes with some handy methods we can  use for comparing.  \n",
    "\n",
    "**The main takewaay is that when we'd like to compare objects multiple timesand in different ways, we should consider storing our data in sets to leveragethese elegant and efficient methods. \n",
    "\n",
    "**Another nice feature of Python sets is they ability to quickly check if a value exists within its members.  It's called membership testing.  \n",
    "\n",
    "**In this lesson, we'll show that using the in operator with a set is much faster than using it with a list or typle.  \n",
    "\n",
    "\n",
    "## Remember iterating over item in both lists is extremely inefficient\n"
   ]
  },
  {
   "cell_type": "code",
   "execution_count": 31,
   "id": "2439555f-c52c-495c-976a-d91c9e983178",
   "metadata": {},
   "outputs": [
    {
     "name": "stdout",
     "output_type": "stream",
     "text": [
      "324 ns ± 1.29 ns per loop (mean ± std. dev. of 7 runs, 1000000 loops each)\n",
      "{'Squirtle'}\n"
     ]
    }
   ],
   "source": [
    "list_a = ['Bulbasaur', 'Charmander', 'Squirtle']\n",
    "list_b = ['Caterpie', 'Pidgey', 'Squirtle']\n",
    "\n",
    "set_a = set(list_a)\n",
    "set_b = set(list_b)\n",
    "\n",
    "%timeit intersection_ab = set_a.intersection(set_b)\n",
    "print(set_a.intersection(set_b))"
   ]
  },
  {
   "cell_type": "code",
   "execution_count": 34,
   "id": "40ce971b-b64d-43f9-a347-736f2c29e2d6",
   "metadata": {},
   "outputs": [
    {
     "name": "stdout",
     "output_type": "stream",
     "text": [
      "2.46 µs ± 90.4 ns per loop (mean ± std. dev. of 7 runs, 100000 loops each)\n",
      "['Squirtle']\n"
     ]
    }
   ],
   "source": [
    "list_a = ['Bulbasaur', 'Charmander', 'Squirtle']\n",
    "list_b = ['Caterpie', 'Pidgey', 'Squirtle']\n",
    "\n",
    "\n",
    "def inter_ab(list_a, list_b):\n",
    "    intersection_ab = []\n",
    "    \n",
    "    for i in list_a:\n",
    "        for j in list_b:\n",
    "            if j == i or i==j:\n",
    "                intersection_ab.append(i)\n",
    "    return intersection_ab\n",
    "            \n",
    "    \n",
    "%timeit inter_ab(list_a, list_b)\n",
    "print(inter_ab(list_a, list_b))"
   ]
  },
  {
   "cell_type": "code",
   "execution_count": 35,
   "id": "55d0d3a8-eb20-4522-974b-1991462a3702",
   "metadata": {},
   "outputs": [
    {
     "data": {
      "text/plain": [
       "{'Bulbasaur', 'Caterpie', 'Charmander', 'Pidgey'}"
      ]
     },
     "execution_count": 35,
     "metadata": {},
     "output_type": "execute_result"
    }
   ],
   "source": [
    "# To collect element that exist in exactly one of the sets but not the both, .symmetric_difference()\n",
    "# *************************************************************************************************** #\n",
    "\n",
    "\n",
    "set_a.symmetric_difference(set_b)"
   ]
  },
  {
   "cell_type": "code",
   "execution_count": 16,
   "id": "ae547545-3d5f-485a-afa3-8e756c7cc82a",
   "metadata": {},
   "outputs": [
    {
     "name": "stdout",
     "output_type": "stream",
     "text": [
      "['__and__', '__class__', '__class_getitem__', '__contains__', '__delattr__', '__dir__', '__doc__', '__eq__', '__format__', '__ge__', '__getattribute__', '__gt__', '__hash__', '__iand__', '__init__', '__init_subclass__', '__ior__', '__isub__', '__iter__', '__ixor__', '__le__', '__len__', '__lt__', '__ne__', '__new__', '__or__', '__rand__', '__reduce__', '__reduce_ex__', '__repr__', '__ror__', '__rsub__', '__rxor__', '__setattr__', '__sizeof__', '__str__', '__sub__', '__subclasshook__', '__xor__', 'add', 'clear', 'copy', 'difference', 'difference_update', 'discard', 'intersection', 'intersection_update', 'isdisjoint', 'issubset', 'issuperset', 'pop', 'remove', 'symmetric_difference', 'symmetric_difference_update', 'union', 'update']\n"
     ]
    }
   ],
   "source": [
    "print(dir(set_a))"
   ]
  },
  {
   "cell_type": "code",
   "execution_count": 18,
   "id": "9adf3d8d-9d20-46be-b706-201171dfe15f",
   "metadata": {},
   "outputs": [
    {
     "name": "stdout",
     "output_type": "stream",
     "text": [
      "{'Bulbasaur', 'Charmander', 'Pidgey', 'Squirtle', 'Caterpie'}\n"
     ]
    }
   ],
   "source": [
    "# Combine two set use .union() method\n",
    "\n",
    "combine = set_a.union(set_b)\n",
    "print(combine)"
   ]
  },
  {
   "cell_type": "markdown",
   "id": "23576975-7b60-4cd1-b602-c48af555cc85",
   "metadata": {},
   "source": [
    "## Another nice efficiency gain when using sets is the ability to quickly check if a specific item is a member of a set's elements.  \n"
   ]
  },
  {
   "cell_type": "code",
   "execution_count": 38,
   "id": "94b0fc1b-d78a-4914-b3fd-27b963d82668",
   "metadata": {},
   "outputs": [
    {
     "name": "stdout",
     "output_type": "stream",
     "text": [
      "[('1', 'Bulbasaur', 'Grass', 'Poison'), ('2', 'Ivysaur', 'Grass', 'Poison'), ('3', 'Venusaur', 'Grass', 'Poison'), ('4', 'Charmander', 'Fire', 'Nan'), ('5', 'Charmeleon', 'Fire', 'Nan')]\n",
      "781\n",
      "['Bulbasaur' 'Ivysaur' 'Venusaur' 'Charmander' 'Charmeleon']\n"
     ]
    }
   ],
   "source": [
    "import csv\n",
    "import numpy as np\n",
    "\n",
    "with open('PokeMon_List2.csv', 'r') as file_obj:\n",
    "    csv_reader = csv.reader(file_obj)\n",
    "    next(csv_reader)   # Working code, skips the first row of the csv file\n",
    "    list_of_tuples = list(map(tuple, csv_reader))\n",
    "    \n",
    "print(list_of_tuples[:5])\n",
    "\n",
    "\n",
    "names_np = np.array(list_of_tuples)\n",
    "names = names_np[:,1]\n",
    "print(len(names))\n",
    "print(names[:5])"
   ]
  },
  {
   "cell_type": "code",
   "execution_count": 37,
   "id": "591e9802-0566-4547-9a0a-3a3a3058f87c",
   "metadata": {},
   "outputs": [
    {
     "name": "stdout",
     "output_type": "stream",
     "text": [
      "<class 'list'> <class 'tuple'> <class 'set'>\n",
      "719 719 669\n",
      "['Meowth', 'Persian', 'Persian', 'Psyduck', 'Golduck']\n",
      "('Meowth', 'Persian', 'Persian', 'Psyduck', 'Golduck')\n"
     ]
    }
   ],
   "source": [
    "names_list = list(names[:719])\n",
    "names_tuple = tuple(names[:719])\n",
    "names_set = set(names)\n",
    "\n",
    "print(type(names_list), type(names_tuple), type(names_set))\n",
    "\n",
    "print(len(names_list), len(names_tuple), len(names_set))\n",
    "\n",
    "\n",
    "print(names_list[:5])\n",
    "print(names_tuple[:5])\n",
    "#print(names_set[:5])   # TypeError: 'set' object is not subscriptable"
   ]
  },
  {
   "cell_type": "markdown",
   "id": "9d971eaa-d4f9-40d0-ad4e-f3582a20d5b8",
   "metadata": {},
   "source": [
    "# Can you slice a set Python?\n",
    "The elements in the set are immutable(cannot be modified) but the set as a whole is mutable. ... There is no index attached to any element in a python set. So they do not support any indexing or slicing operation."
   ]
  },
  {
   "cell_type": "code",
   "execution_count": 40,
   "id": "40acd01e-b411-46b1-8b6e-ee7b785be3d6",
   "metadata": {},
   "outputs": [
    {
     "name": "stdout",
     "output_type": "stream",
     "text": [
      "1.34 µs ± 8.36 ns per loop (mean ± std. dev. of 7 runs, 1000000 loops each)\n",
      "1.34 µs ± 22.7 ns per loop (mean ± std. dev. of 7 runs, 1000000 loops each)\n",
      "192 ns ± 3.15 ns per loop (mean ± std. dev. of 7 runs, 1000000 loops each)\n"
     ]
    }
   ],
   "source": [
    "%timeit 'Zubat' in names_list\n",
    "\n",
    "%timeit 'Zubat' in names_tuple\n",
    "\n",
    "%timeit 'Zubat' in names_set"
   ]
  },
  {
   "cell_type": "markdown",
   "id": "027ba9ed-4782-406c-b3a0-0ba56c60bf93",
   "metadata": {},
   "source": [
    "## One final efficiency gain when using sets comes from the definition of set itself. A set is defined as a collection of distinct elements.  Thus we can use set to collect unique items from an existig object.  \n",
    "\n"
   ]
  },
  {
   "cell_type": "code",
   "execution_count": 44,
   "id": "f5a68d92-c518-4478-b8f9-d500788ff6e8",
   "metadata": {},
   "outputs": [
    {
     "name": "stdout",
     "output_type": "stream",
     "text": [
      "[('1', 'Bulbasaur', 'Grass', 'Poison'), ('2', 'Ivysaur', 'Grass', 'Poison'), ('3', 'Venusaur', 'Grass', 'Poison'), ('4', 'Charmander', 'Fire', 'Nan'), ('5', 'Charmeleon', 'Fire', 'Nan')]\n",
      "['Grass' 'Grass' 'Grass' 'Fire' 'Fire']\n",
      "18\n",
      "18\n"
     ]
    }
   ],
   "source": [
    "import csv\n",
    "import numpy as np\n",
    "\n",
    "with open('PokeMon_List2.csv', 'r') as file_obj:\n",
    "    csv_reader = csv.reader(file_obj)\n",
    "    next(csv_reader)   # Working code, skips the first row of the csv file\n",
    "    list_of_tuples = list(map(tuple, csv_reader))\n",
    "    \n",
    "\n",
    "print(list_of_tuples[:5])\n",
    "\n",
    "\n",
    "primary_types = np.array(list_of_tuples)[:, 2]\n",
    "print(primary_types[:5])\n",
    "\n",
    "\n",
    "print(len(set(primary_types)))\n",
    "\n",
    "\n",
    "unique = []\n",
    "for i in primary_types:\n",
    "    if i in unique:\n",
    "        continue\n",
    "    unique.append(i)\n",
    "\n",
    "print(len(unique))"
   ]
  },
  {
   "cell_type": "code",
   "execution_count": 63,
   "id": "763e6b74-b200-4296-8f55-d2553813aa31",
   "metadata": {
    "tags": []
   },
   "outputs": [
    {
     "name": "stdout",
     "output_type": "stream",
     "text": [
      "707 µs ± 1.74 µs per loop (mean ± std. dev. of 7 runs, 1000 loops each)\n"
     ]
    }
   ],
   "source": [
    "%%timeit\n",
    "\n",
    "unique = []\n",
    "for i in primary_types:\n",
    "    if i in unique:\n",
    "        continue\n",
    "    unique.append(i)\n",
    "#print(len(unique))"
   ]
  },
  {
   "cell_type": "code",
   "execution_count": 64,
   "id": "b4cb32bb-a2bd-41eb-ba02-153f86a3fbcc",
   "metadata": {
    "tags": []
   },
   "outputs": [
    {
     "name": "stdout",
     "output_type": "stream",
     "text": [
      "702 µs ± 3.33 µs per loop (mean ± std. dev. of 7 runs, 1000 loops each)\n"
     ]
    }
   ],
   "source": [
    "%%timeit\n",
    "\n",
    "unique = []\n",
    "for i in primary_types:\n",
    "    if i not in unique:\n",
    "        unique.append(i)\n",
    "#print(len(unique))"
   ]
  },
  {
   "cell_type": "markdown",
   "id": "6d87bcc1-8f77-4b6b-9145-152aecc5ffed",
   "metadata": {},
   "source": [
    "## Comparing Pokédexes\n",
    "\n",
    "Two Pokémon trainers, Ash and Misty, would like to compare their individual collections of Pokémon. Let's see what Pokémon they have in common and what Pokémon Ash has that Misty does not.\n",
    "\n",
    "Both Ash and Misty's Pokédex (their collection of Pokémon) have been loaded into your session as lists called ash_pokedex and misty_pokedex. They have been printed into the console for your convenience.\n",
    "Instructions\n",
    "100 XP\n",
    "\n",
    "    Convert both lists (ash_pokedex and misty_pokedex) to sets called ash_set and misty_set respectively.\n",
    "    Find the Pokémon that both Ash and Misty have in common using a set method.\n",
    "    Find the Pokémon that are within Ash's Pokédex but are not within Misty's Pokédex with a set method.\n",
    "    Use a set method to find the Pokémon that are unique to either Ash or Misty (i.e., the Pokémon that exist in exactly one of the Pokédexes but not both).\n"
   ]
  },
  {
   "cell_type": "code",
   "execution_count": null,
   "id": "d1dc1a94-486f-4409-8ff4-6a04d371a058",
   "metadata": {},
   "outputs": [],
   "source": [
    "# Convert both lists to sets\n",
    "ash_set = set(ash_pokedex)\n",
    "misty_set = set(misty_pokedex)\n",
    "\n",
    "# Find the Pokémon that exist in both sets\n",
    "both = ash_set.intersection(misty_set)\n",
    "print(both)\n",
    "\n",
    "# Find the Pokémon that Ash has and Misty does not have\n",
    "ash_only = ash_set.difference(misty_set)\n",
    "print(ash_only)\n",
    "\n",
    "# Find the Pokémon that are in only one set (not both)\n",
    "unique_to_set = ash_set.symmetric_difference(misty_set)\n",
    "print(unique_to_set)"
   ]
  },
  {
   "cell_type": "markdown",
   "id": "8e7431a8-7d04-4ea7-bdcf-3403eb4f2ee7",
   "metadata": {},
   "source": [
    "## Searching for Pokémon\n",
    "\n",
    "Two Pokémon trainers, Ash and Brock, have a collection of ten Pokémon each. Each trainer's Pokédex (their collection of Pokémon) has been loaded into your session as lists called ash_pokedex and brock_pokedex respectively.\n",
    "\n",
    "You'd like to see if certain Pokémon are members of either Ash or Brock's Pokédex.\n",
    "\n",
    "Let's compare using a set versus using a list when performing this membership testing.\n",
    "Instructions 1/4\n",
    "25 XP\n",
    "\n",
    "    1 QUestion\n",
    "    Convert Brock's Pokédex list (brock_pokedex) to a set called brock_pokedex_set.\n",
    "    \n",
    "    \n",
    "    \n",
    "    2 Question\n",
    "    Check if 'Psyduck' is in Ash's Pokedex list (ash_pokedex) and if 'Psyduck' is in Brock's Pokedex set (brock_pokedex_set)\n",
    "    \n",
    "    \n",
    "    \n",
    "    3 Question\n",
    "    Check if 'Machop' is in Ash's Pokedex list(ash_pokedex) and if 'Machop' is in Brock's Pokedex set (brock_pokedex_set)\n",
    "    \n",
    "    \n",
    "    \n",
    "    4 Question\n",
    "    Within your IPython console, use %timeit to compare membership testing for 'Psyduck' in ash_pokedex, 'Psyduck' in brock_pokedex_set, 'Machop' in ash_pokedex and 'Machop' in brock_pokedex_set (a total of four different timings).\n",
    "    Dont include the print() function. Only time the commands that you wrote inside the print() function in the previous steps. \n",
    "    \n",
    "    Which membership testing was faster? \n",
    "    \n",
    "    Using a list is faster than using a set for membership testing in all four cases\n",
    "    Membership testing using a list and a set have the same runtimes for all four cases\n",
    "#    Membership testing using a set is faster than using a list in all four cases\n",
    "    "
   ]
  },
  {
   "cell_type": "code",
   "execution_count": null,
   "id": "37ecde2b-ccc9-4606-a7ac-3e3dcfaa71a8",
   "metadata": {},
   "outputs": [],
   "source": [
    "# Convert Brock's Pokédex to a set\n",
    "brock_pokedex_set = set(brock_pokedex)\n",
    "print(brock_pokedex_set)\n"
   ]
  },
  {
   "cell_type": "code",
   "execution_count": null,
   "id": "f05d06a0-c189-4816-b2f7-7134f679fcc6",
   "metadata": {},
   "outputs": [],
   "source": [
    "# Convert Broke's Pokedex to a set\n",
    "brock_pokedex_set = set(brock_pokedex)\n",
    "print(brock_pokedex_set)\n",
    "\n",
    "\n",
    "# Check if Psyduck is in Ash's list and Brock's set\n",
    "print('Psyduck' in ash_pokedex)\n",
    "print('Psyduck' in brock_pokedex_set)"
   ]
  },
  {
   "cell_type": "code",
   "execution_count": null,
   "id": "f6ca7ac4-3cc9-4bd1-bd6c-562e96dfbf7f",
   "metadata": {},
   "outputs": [],
   "source": [
    "%timeit 'Machop' in ash_pokedex\n",
    "\n",
    "%timeit 'Machop' in brock_pokedex_set"
   ]
  },
  {
   "cell_type": "markdown",
   "id": "63a9b112-1fdc-421b-81d0-2de1d83e0599",
   "metadata": {},
   "source": [
    "## Gathering unique Pokémon\n",
    "\n",
    "# A sample of 500 Pokémon has been created with replacement (meaning a Pokémon could be selected more than once and duplicates exist within the sample).\n",
    "\n",
    "Three lists have been loaded into your session:\n",
    "\n",
    "    The names list contains the names of each Pokémon in the sample.\n",
    "    The primary_types list containing the corresponding primary type of each Pokémon in the sample.\n",
    "    The generations list contains the corresponding generation of each Pokémon in the sample.\n",
    "\n",
    "The below function was written to gather unique values from each list:\n",
    "\n",
    "def find_unique_items(data):\n",
    "    uniques = []\n",
    "\n",
    "    for item in data:\n",
    "        if item not in uniques:\n",
    "            uniques.append(item)\n",
    "\n",
    "    return uniques\n",
    "\n",
    "Let's compare the above function to using the set data type for collecting unique items.\n",
    "Instructions 1/4\n",
    "25 XP\n",
    "\n",
    "    1 Question\n",
    "    Use the provided function to collect the unique Pokémon in the names list. Save this as uniq_names_func.\n",
    "    \n",
    "    \n",
    "    \n",
    "    2 Question\n",
    "    Use a set data type to collect the unique Pokemon in the names list.  Save this as uniq_names_set\n",
    "    \n",
    "    \n",
    "    \n",
    "    3 Question\n",
    "    Within your IPython console, use %timeit to compare the find_unique_items() function with using a set data type to collect unique Pokemon character names in names.  \n",
    "    \n",
    "    Possible Answer\n",
    "#    Using a set to collect unique values is faster\n",
    "    Using the provided function that uses a loop to gather unique items is faster\n",
    "    Both approaches have the same runtime.\n",
    "    \n",
    "    \n",
    "    \n",
    "    4 Question\n",
    "    Use the most efficient approach for gathering unique items to collect the unique Pokemon types (from the primary_types list) and Pokemon generations (from generations list)\n",
    "    \n",
    "    "
   ]
  },
  {
   "cell_type": "code",
   "execution_count": 46,
   "id": "dbb1c7ae-4d33-4fc2-96ad-4dabbeb1402a",
   "metadata": {},
   "outputs": [
    {
     "name": "stdout",
     "output_type": "stream",
     "text": [
      "500\n",
      "['Bulbasaur', 'Ivysaur', 'Venusaur', 'Charmander', 'Charmeleon']\n",
      "456\n",
      "456\n",
      "True\n"
     ]
    }
   ],
   "source": [
    "import csv\n",
    "import numpy as np\n",
    "\n",
    "with open('PokeMon_List2.csv', 'r') as file_obj:\n",
    "    csv_reader = csv.reader(file_obj)\n",
    "    next(csv_reader)   # Working code, skips the first row of the csv file\n",
    "    list_of_tuples = list(map(tuple, csv_reader))\n",
    "\n",
    "names = [i[1] for i in list_of_tuples[:500]]\n",
    "print(len(names))\n",
    "print(names[:5])\n",
    "    \n",
    "\n",
    "# *************************************************************************************************** #\n",
    "def find_unique_items(data):\n",
    "    uniques = []\n",
    "\n",
    "    for item in data:\n",
    "        if item not in uniques:\n",
    "            uniques.append(item)\n",
    "\n",
    "    return uniques\n",
    "\n",
    "\n",
    "# Use the provided function to collect unique Pokémon names\n",
    "uniq_names_func = find_unique_items(names)\n",
    "print(len(uniq_names_func))\n",
    "\n",
    "\n",
    "# Use the provided function to collect unique Pokémon names\n",
    "uniq_names_set = set(names)\n",
    "print(len(uniq_names_set))\n",
    "\n",
    "\n",
    "# Check that both unique collections are equivalent\n",
    "print(sorted(uniq_names_set) == sorted(uniq_names_func))   # Cause set data type element is unorded\n",
    "# *************************************************************************************************** #"
   ]
  },
  {
   "cell_type": "code",
   "execution_count": 47,
   "id": "096823f3-2e08-49d2-bc77-7238f8b0fc4f",
   "metadata": {},
   "outputs": [
    {
     "name": "stdout",
     "output_type": "stream",
     "text": [
      "3.22 ms ± 34.8 µs per loop (mean ± std. dev. of 7 runs, 100 loops each)\n",
      "11 µs ± 240 ns per loop (mean ± std. dev. of 7 runs, 100000 loops each)\n"
     ]
    }
   ],
   "source": [
    "%timeit find_unique_items(names)\n",
    "\n",
    "%timeit set(names)"
   ]
  },
  {
   "cell_type": "code",
   "execution_count": null,
   "id": "30534c85-326d-44ca-90d8-4f68544b2a0f",
   "metadata": {},
   "outputs": [],
   "source": [
    "# Use the best approach to collect unique primary types and generations\n",
    "\n",
    "uniq_types = set(primary_types)\n",
    "uniq_gens = set(generations)\n",
    "\n"
   ]
  },
  {
   "cell_type": "markdown",
   "id": "3f6e9a23-7bdb-416a-910d-137a80bff9de",
   "metadata": {},
   "source": [
    "## Eliminating loops\n",
    "\n",
    "\n",
    "\n",
    "We'll discuss the concept of looping, although using loops when writing Python code isnt necessary a bad design pattern, using extraneous loops can be inefficient and costly.  \n",
    "\n",
    "We'll explore some tools that can help us sliminate the need to use loops in our code.  \n",
    "\n",
    "\n",
    "# Python comes with a few looping patterns that can be used when we want to iterate over an object'c contents.  \n",
    "\n",
    "   __for loop: iterate over sequence piece-by-piece__\n",
    "   __while loop: repeat loop as long as a condition is met__\n",
    "   __\"nested\" loops: use one loop inside another loop__\n",
    "   __Costly__\n",
    "\n",
    "\n",
    "# Because most loops are evaluated in a piece-by-piece manner, thay are aften an inefficient solution.  \n",
    "# **We should try to avoid looping as much as possible when writing efficient code.  \n",
    "\n",
    "\n",
    "# **Eliminating loops usually results in fewer lines of code that are easier to interpret\n",
    "   # Flat is better than nested\n",
    "**Strving to eliminate loops in our code will help us follow this idom.  \n",
    "\n",
    "\n",
    "\n",
    "**Suppose we have a list of lists, called poke_stats, that contains statistical values fro each Pokemon.  Each row corresponds to a Pokemon, and each column corresponds to a Pokemon's specific statistical value.  \n",
    "\n",
    "# We want to do a simple sum of each of these rows, in order to collect the total stats for each Pokemon.  "
   ]
  },
  {
   "cell_type": "code",
   "execution_count": 48,
   "id": "0d5eb9b3-e2b1-48f2-ae48-f3917f6e35a0",
   "metadata": {},
   "outputs": [
    {
     "name": "stdout",
     "output_type": "stream",
     "text": [
      "[317, 150, 330]\n",
      "[317, 150, 330]\n"
     ]
    }
   ],
   "source": [
    "# List of HP, Attack, Defence, Speed\n",
    "poke_stats= [[90, 92, 75, 60],\n",
    "             [25, 20, 15, 90],\n",
    "             [65, 130, 60, 75]]\n",
    "\n",
    "\n",
    "# *************************************************************************************************** #\n",
    "total_stats = [sum(i[:]) for i in poke_stats]\n",
    "print(total_stats)\n",
    "\n",
    "\n",
    "# *************************************************************************************************** #\n",
    "total_stats2 = [*map(sum, poke_stats)]\n",
    "print(total_stats2)"
   ]
  },
  {
   "cell_type": "code",
   "execution_count": 75,
   "id": "aaf4feaa-d6d6-4383-b165-f26b740b6551",
   "metadata": {},
   "outputs": [
    {
     "name": "stdout",
     "output_type": "stream",
     "text": [
      "1.4 µs ± 20.7 ns per loop (mean ± std. dev. of 7 runs, 1000000 loops each)\n",
      "905 ns ± 9.58 ns per loop (mean ± std. dev. of 7 runs, 1000000 loops each)\n"
     ]
    }
   ],
   "source": [
    "%timeit [sum(i[:]) for i in poke_stats]\n",
    "\n",
    "%timeit [*map(sum, poke_stats)]"
   ]
  },
  {
   "cell_type": "markdown",
   "id": "f46b7606-d18e-456d-bb7c-cb11c8435691",
   "metadata": {},
   "source": [
    "# **We've also covered a few build-in modules that can help us eliminate loops.  Remember when we collected the different combinations of Pokemon types, instead using a nested for loop. we use combinations from the itertools module for a clearner and more efficient solution.  "
   ]
  },
  {
   "cell_type": "code",
   "execution_count": 53,
   "id": "0b76ff2b-e55b-49dd-9bba-1bf5abb585ef",
   "metadata": {},
   "outputs": [
    {
     "name": "stdout",
     "output_type": "stream",
     "text": [
      "10\n",
      "10\n"
     ]
    }
   ],
   "source": [
    "# Each Pokemon's type (720 total)\n",
    "poke_types = ['Normal', 'Fire', 'Water', 'Grass', 'Flying']\n",
    "\n",
    "comb = []\n",
    "for i in range(len(poke_types)):\n",
    "    for j in range(i):\n",
    "        if poke_types[i]==poke_types[j]:\n",
    "            None\n",
    "        else:\n",
    "            comb.append((poke_types[i], poke_types[j]))\n",
    "print(len(comb))\n",
    "\n",
    "\n",
    "\n",
    "from itertools import combinations\n",
    "\n",
    "# *************************************************************************************************** #\n",
    "combo = combinations(poke_types, 2)\n",
    "print(len([*combo]))"
   ]
  },
  {
   "cell_type": "markdown",
   "id": "f8f372e8-72e5-4b81-8e42-1816c2649aec",
   "metadata": {},
   "source": [
    "# Another powerful technique for eliminating loops is to use the NumPy packages.  Suppose our previous example dataset stored in a  NumPy array instead of a list of lists.  \n",
    "\n",
    "**Suppose we'd like to collect the average stats value for each Pokemon (or each row) in our array.  \n"
   ]
  },
  {
   "cell_type": "code",
   "execution_count": 79,
   "id": "01765bba-51d3-4183-b2f0-2163286c438e",
   "metadata": {},
   "outputs": [
    {
     "name": "stdout",
     "output_type": "stream",
     "text": [
      "[[ 90  92  75  60]\n",
      " [ 25  20  15  90]\n",
      " [ 65 130  60  75]]\n",
      "['T', '__abs__', '__add__', '__and__', '__array__', '__array_finalize__', '__array_function__', '__array_interface__', '__array_prepare__', '__array_priority__', '__array_struct__', '__array_ufunc__', '__array_wrap__', '__bool__', '__class__', '__complex__', '__contains__', '__copy__', '__deepcopy__', '__delattr__', '__delitem__', '__dir__', '__divmod__', '__doc__', '__eq__', '__float__', '__floordiv__', '__format__', '__ge__', '__getattribute__', '__getitem__', '__gt__', '__hash__', '__iadd__', '__iand__', '__ifloordiv__', '__ilshift__', '__imatmul__', '__imod__', '__imul__', '__index__', '__init__', '__init_subclass__', '__int__', '__invert__', '__ior__', '__ipow__', '__irshift__', '__isub__', '__iter__', '__itruediv__', '__ixor__', '__le__', '__len__', '__lshift__', '__lt__', '__matmul__', '__mod__', '__mul__', '__ne__', '__neg__', '__new__', '__or__', '__pos__', '__pow__', '__radd__', '__rand__', '__rdivmod__', '__reduce__', '__reduce_ex__', '__repr__', '__rfloordiv__', '__rlshift__', '__rmatmul__', '__rmod__', '__rmul__', '__ror__', '__rpow__', '__rrshift__', '__rshift__', '__rsub__', '__rtruediv__', '__rxor__', '__setattr__', '__setitem__', '__setstate__', '__sizeof__', '__str__', '__sub__', '__subclasshook__', '__truediv__', '__xor__', 'all', 'any', 'argmax', 'argmin', 'argpartition', 'argsort', 'astype', 'base', 'byteswap', 'choose', 'clip', 'compress', 'conj', 'conjugate', 'copy', 'ctypes', 'cumprod', 'cumsum', 'data', 'diagonal', 'dot', 'dtype', 'dump', 'dumps', 'fill', 'flags', 'flat', 'flatten', 'getfield', 'imag', 'item', 'itemset', 'itemsize', 'max', 'mean', 'min', 'nbytes', 'ndim', 'newbyteorder', 'nonzero', 'partition', 'prod', 'ptp', 'put', 'ravel', 'real', 'repeat', 'reshape', 'resize', 'round', 'searchsorted', 'setfield', 'setflags', 'shape', 'size', 'sort', 'squeeze', 'std', 'strides', 'sum', 'swapaxes', 'take', 'tobytes', 'tofile', 'tolist', 'tostring', 'trace', 'transpose', 'var', 'view']\n"
     ]
    }
   ],
   "source": [
    "# List of HP, Attack, Defence, Speed\n",
    "poke_stats= [[90, 92, 75, 60],\n",
    "             [25, 20, 15, 90],\n",
    "             [65, 130, 60, 75]]\n",
    "\n",
    "import numpy as np\n",
    "poke_stats_np = np.array(poke_stats)\n",
    "\n",
    "print(poke_stats_np)\n",
    "\n",
    "print(dir(poke_stats_np))"
   ]
  },
  {
   "cell_type": "markdown",
   "id": "bbb268ee-5249-4d66-9276-46d7ae19157b",
   "metadata": {},
   "source": [
    "# We dont need to iterate over whole dataset row by row to collect row averages. Instead NumPy array allow us to perform calculations on entire array all at once.  \n",
    "\n",
    "\n",
    "# This is much more efficient"
   ]
  },
  {
   "cell_type": "code",
   "execution_count": 54,
   "id": "51a6441a-1225-4526-bf7b-e5b5d465aeac",
   "metadata": {},
   "outputs": [
    {
     "name": "stdout",
     "output_type": "stream",
     "text": [
      "[317 150 330]\n"
     ]
    }
   ],
   "source": [
    "# List of HP, Attack, Defence, Speed\n",
    "poke_stats= [[90, 92, 75, 60],\n",
    "             [25, 20, 15, 90],\n",
    "             [65, 130, 60, 75]]\n",
    "\n",
    "\n",
    "import numpy as np\n",
    "poke_stats_np = np.array(poke_stats)\n",
    "                                 # axis=1 meaning we calcute across column values\n",
    "poke_stats_sum = poke_stats_np.sum(axis=1)\n",
    "# *************************************************************************************************** #\n",
    "\n",
    "print(poke_stats_sum)"
   ]
  },
  {
   "cell_type": "code",
   "execution_count": 60,
   "id": "3172a298-2d85-4ae4-844d-da0b25166117",
   "metadata": {},
   "outputs": [
    {
     "data": {
      "text/plain": [
       "[79.25, 37.5, 82.5]"
      ]
     },
     "execution_count": 60,
     "metadata": {},
     "output_type": "execute_result"
    }
   ],
   "source": [
    "# List of HP, Attack, Defence, Speed\n",
    "poke_stats= [[90, 92, 75, 60],\n",
    "             [25, 20, 15, 90],\n",
    "             [65, 130, 60, 75]]\n",
    "\n",
    "import numpy as np\n",
    "poke_stats_np = np.array(poke_stats)\n",
    "\n",
    "# *************************************************************************************************** #\n",
    "[*poke_stats_np.mean(axis=1)]\n",
    "#?np.mean\n",
    "\n",
    "\n",
    "# >>> np.mean(a, axis=0)\n",
    "# array([2., 3.])\n",
    "# >>> np.mean(a, axis=1)\n",
    "# array([1.5, 3.5])\n"
   ]
  },
  {
   "cell_type": "markdown",
   "id": "08ccb1b1-6ced-4e6d-8490-c97c12dd70d2",
   "metadata": {},
   "source": [
    "## Gathering Pokémon without a loop\n",
    "\n",
    "A list containing 720 Pokémon has been loaded into your session as poke_names. Another list containing each Pokémon's corresponding generation has been loaded as poke_gens.\n",
    "\n",
    "A for loop has been created to filter the Pokémon that belong to generation one or two, and collect the number of letters in each Pokémon's name:\n",
    "\n",
    "gen1_gen2_name_lengths_loop = []\n",
    "\n",
    "for name,gen in zip(poke_names, poke_gens):\n",
    "    if gen < 3:\n",
    "        name_length = len(name)\n",
    "        poke_tuple = (name, name_length)\n",
    "        gen1_gen2_name_lengths_loop.append(poke_tuple)\n",
    "\n",
    "Instructions\n",
    "100 XP\n",
    "\n",
    "    Eliminate the above for loop using list comprehension and the map() function:\n",
    "        Use list comprehension to collect each Pokémon that belongs to generation 1 or generation 2. Save this as gen1_gen2_pokemon.\n",
    "        Use the map() function to collect the number of letters in each Pokémon's name within the gen1_gen2_pokemon list. Save this map object as name_lengths_map.\n",
    "        Combine gen1_gen2_pokemon and name_length_map into a list called gen1_gen2_name_lengths.\n"
   ]
  },
  {
   "cell_type": "code",
   "execution_count": 187,
   "id": "d7e088e9-0abe-4595-834a-ee11d90cf57b",
   "metadata": {},
   "outputs": [
    {
     "name": "stdout",
     "output_type": "stream",
     "text": [
      "853 µs ± 19.8 µs per loop (mean ± std. dev. of 7 runs, 1000 loops each)\n"
     ]
    }
   ],
   "source": [
    "%%timeit\n",
    "with open('PokeMon_List2.csv', 'r') as file_obj:\n",
    "    csv_reader = csv.reader(file_obj)\n",
    "    next(csv_reader)   # Working code, skips the first row of the csv file\n",
    "    list_of_tuples = list(map(tuple, csv_reader))\n",
    "\n",
    "# *************************************************************************************************** #\n",
    "# Further study is needed in order to efficient open file and import data to container\n",
    "# *************************************************************************************************** #\n"
   ]
  },
  {
   "cell_type": "code",
   "execution_count": 68,
   "id": "748a5242-3c80-4e11-b877-5791391efb1c",
   "metadata": {},
   "outputs": [
    {
     "name": "stdout",
     "output_type": "stream",
     "text": [
      "500\n",
      "[('Bulbasaur', 9), ('Ivysaur', 7), ('Charmander', 10)]\n",
      "[9, 7, 10, 10]\n",
      "[('Bulbasaur', 9), ('Ivysaur', 7), ('Charmander', 10), ('Charmeleon', 10), ('Squirtle', 8)]\n"
     ]
    }
   ],
   "source": [
    "import random, csv\n",
    "import numpy as np\n",
    "\n",
    "with open('PokeMon_List2.csv', 'r') as file_obj:\n",
    "    csv_reader = csv.reader(file_obj)\n",
    "    next(csv_reader)   # Working code, skips the first row of the csv file\n",
    "    list_of_tuples = list(map(tuple, csv_reader))\n",
    "    \n",
    "    \n",
    "\n",
    "names = [i[1] for i in list_of_tuples]\n",
    "poke_names = names[:500]\n",
    "\n",
    "\n",
    "gens = (1, 2, 1, 3 ,3, 2, 2, 1, 1, 1)\n",
    "poke_gens = [random.choice(gens) for i in range(500)]\n",
    "print(len(poke_gens))\n",
    "\n",
    "\n",
    "    \n",
    "gen1_gen2_name_lengths_loop = []\n",
    "\n",
    "for name,gen in zip(poke_names, poke_gens):\n",
    "    if gen < 3:\n",
    "        name_length = len(name)\n",
    "        poke_tuple = (name, name_length)\n",
    "        gen1_gen2_name_lengths_loop.append(poke_tuple)\n",
    "    \n",
    "print(gen1_gen2_name_lengths_loop[:3])\n",
    "    \n",
    "    \n",
    "\n",
    "# Collect Pokémon that belong to generation 1 or generation 2\n",
    "gen1_gen2_pokemon = [name for name, gen in zip(poke_names, poke_gens) if gen < 3]\n",
    "\n",
    "\n",
    "# Create a map object that stores the name lengths\n",
    "name_lengths_map = [*map(len, gen1_gen2_pokemon)]\n",
    "print(name_lengths_map[:4])\n",
    "# *************************************************************************************************** #\n",
    "\n",
    "\n",
    "# Combine gen1_gen2_pokemon and name_lengths_map into a list\n",
    "gen1_gen2_name_lengths = [*zip(gen1_gen2_pokemon, name_lengths_map)]\n",
    "# *************************************************************************************************** #\n",
    "\n",
    "print(gen1_gen2_name_lengths[:5])"
   ]
  },
  {
   "cell_type": "markdown",
   "id": "980340b4-e36f-4ba3-be5f-5918666dbd48",
   "metadata": {},
   "source": [
    "## Pokémon totals and averages without a loop\n",
    "\n",
    "A list of 720 Pokémon has been loaded into your session called names. Each Pokémon's corresponding statistics has been loaded as a NumPy array called stats. Each row of stats corresponds to a Pokémon in names and each column represents an individual Pokémon stat (HP, Attack, Defense, Special Attack, Special Defense, and Speed respectively.)\n",
    "\n",
    "You want to gather each Pokémon's total stat value (i.e., the sum of each row in stats) and each Pokémon's average stat value (i.e., the mean of each row in stats) so that you find the strongest Pokémon.\n",
    "\n",
    "The below for loop was written to collect these values:\n",
    "\n",
    "poke_list = []\n",
    "\n",
    "for pokemon,row in zip(names, stats):\n",
    "    total_stats = np.sum(row)\n",
    "    avg_stats = np.mean(row)\n",
    "    poke_list.append((pokemon, total_stats, avg_stats))\n",
    "\n",
    "Instructions\n",
    "100 XP\n",
    "\n",
    "#    Replace the above for loop using NumPy:\n",
    "        Create a total stats array (total_stats_np) using the .sum() method and specifying the correct axis.\n",
    "        Create an average stats array (avg_stats_np) using the .mean() method and specifying the correct axis.\n",
    "        Create a final output list (poke_list_np) by combining the names list, the total_stats_np array, and the avg_stats_np array.\n"
   ]
  },
  {
   "cell_type": "code",
   "execution_count": 61,
   "id": "c16800cb-bf48-4f9d-9023-bef2393d9131",
   "metadata": {},
   "outputs": [],
   "source": [
    "#print(dir(np))"
   ]
  },
  {
   "cell_type": "code",
   "execution_count": 96,
   "id": "ba53b5b6-bb8a-46fd-b7f4-5cf0269e65ee",
   "metadata": {},
   "outputs": [
    {
     "name": "stdout",
     "output_type": "stream",
     "text": [
      "['__call__', '__class__', '__delattr__', '__dir__', '__doc__', '__eq__', '__format__', '__ge__', '__getattribute__', '__gt__', '__hash__', '__init__', '__init_subclass__', '__le__', '__lt__', '__module__', '__name__', '__ne__', '__new__', '__qualname__', '__reduce__', '__reduce_ex__', '__repr__', '__self__', '__setattr__', '__sizeof__', '__str__', '__subclasshook__', '__text_signature__']\n"
     ]
    }
   ],
   "source": [
    "print(dir(np.array))"
   ]
  },
  {
   "cell_type": "code",
   "execution_count": null,
   "id": "64b1f4a9-3d03-46ad-9449-3549f5691403",
   "metadata": {},
   "outputs": [],
   "source": [
    "# Create a total stats array\n",
    "total_stats_np = stats.sum(axis=1)\n",
    "\n",
    "# Create an average stats array\n",
    "avg_stats_np = stats.mean(axis=1)\n",
    "\n",
    "# Combine names, total_stats_np, and avg_stats_np into a list\n",
    "poke_list_np = [*zip(names, total_stats_np, avg_stats_np)]\n",
    "\n",
    "print(poke_list_np == poke_list, '\\n')\n",
    "print(poke_list_np[:3])\n",
    "print(poke_list[:3], '\\n')\n",
    "top_3 = sorted(poke_list_np, key=lambda x: x[1], reverse=True)[:3]\n",
    "print('3 strongest Pokémon:\\n{}'.format(top_3))"
   ]
  },
  {
   "cell_type": "markdown",
   "id": "4104d378-79ce-4bb0-8f45-f65e4b23caa8",
   "metadata": {},
   "source": [
    "## Writing better loops\n",
    "\n",
    "\n",
    "   __Understand what is being done with each loop iteration__\n",
    "   __Move one-time calcuation outside (or above) the loop__\n",
    "   __Use holistic conversions outside (or below) the loop__\n",
    "   __Anything that is done once should be outside the loop__\n",
    "\n",
    "**We've discussed how loops can be costly and inefficient, but sometimes you cant eliminate a loop.  In this lesson, we'll explore how to make loops more efficient when looping is unavoidable.  \n",
    "\n",
    "**Before diving in, some of the loops we'll discuss can be eliminated using techniques covered in previous lessons, for demonstrative purpose, we'll assume the use cases shown here are instances where a loop is unavoidable.  \n",
    "\n",
    "\n",
    "# The best way to make a loop more efficient is to analyze what's been done within the loop.  We want to make sure that we arent doing unnecessary work in each iteration.  \n",
    "\n",
    "**If a calculation is performed for each iteration of a loop, but its value doesnt change with each iteration, its best to move this calculation outside (or above) the loop.  If a loop is converting data types with each iteration, its possible that this conversion can be done outside (or below) the loop using a map function.  Anything that can be done once should be moved outside of a loop.  \n",
    "\n"
   ]
  },
  {
   "cell_type": "markdown",
   "id": "e6248ae6-afb1-411d-a2c2-4626ee6626bd",
   "metadata": {},
   "source": [
    "# We have a list of Pokemon names and an array of each Pokemon's corresponding attack value.  We''d like to print the names of each Pokemon with an attack value greater than the average of all attack values.  \n"
   ]
  },
  {
   "cell_type": "code",
   "execution_count": 173,
   "id": "5b6a5be4-9911-47af-8895-a834d24173ba",
   "metadata": {},
   "outputs": [
    {
     "name": "stdout",
     "output_type": "stream",
     "text": [
      "69.0\n",
      "[('Absol', 130), ('Aron', 70)]\n"
     ]
    }
   ],
   "source": [
    "import numpy as np\n",
    "\n",
    "names = ['Absol', 'Aron', 'Jynx', 'Natu', 'Onix']\n",
    "attacks = np.array([130, 70, 50, 50, 45])\n",
    "\n",
    "print(attacks.mean())\n",
    "above_avg = [(names[i],attacks[i]) for i in range(len(names)) if attacks[i]>=attacks.mean()]\n",
    "print(above_avg)"
   ]
  },
  {
   "cell_type": "code",
   "execution_count": 79,
   "id": "542ce683-5bcb-43d9-a522-a09db66d8acf",
   "metadata": {},
   "outputs": [
    {
     "name": "stdout",
     "output_type": "stream",
     "text": [
      "['__add__', '__class__', '__class_getitem__', '__contains__', '__delattr__', '__delitem__', '__dir__', '__doc__', '__eq__', '__format__', '__ge__', '__getattribute__', '__getitem__', '__gt__', '__hash__', '__iadd__', '__imul__', '__init__', '__init_subclass__', '__iter__', '__le__', '__len__', '__lt__', '__mul__', '__ne__', '__new__', '__reduce__', '__reduce_ex__', '__repr__', '__reversed__', '__rmul__', '__setattr__', '__setitem__', '__sizeof__', '__str__', '__subclasshook__', 'append', 'clear', 'copy', 'count', 'extend', 'index', 'insert', 'pop', 'remove', 'reverse', 'sort']\n",
      "69.0\n"
     ]
    }
   ],
   "source": [
    "attacks = [130, 70, 50, 50, 45]\n",
    "print(dir(attacks))\n",
    "#attacks.mean()\n",
    "\n",
    "mean = np.mean(attacks)\n",
    "print(mean)"
   ]
  },
  {
   "cell_type": "markdown",
   "id": "18e0b9c3-aac6-466b-9eb2-29bce782d20e",
   "metadata": {},
   "source": [
    "# To do this, we'll use a loop that iterates over each Pokemon and their attack value, \n",
    "\n",
    "\n"
   ]
  },
  {
   "cell_type": "code",
   "execution_count": 80,
   "id": "62fc05d1-6f49-467d-a468-7f35122fac6a",
   "metadata": {},
   "outputs": [
    {
     "name": "stdout",
     "output_type": "stream",
     "text": [
      "['Absol', 'Aron']\n"
     ]
    }
   ],
   "source": [
    "import numpy as np\n",
    "\n",
    "names = ['Absol', 'Aron', 'Jynx', 'Natu', 'Onix']\n",
    "attacks = np.array([130, 70, 50, 50, 45])\n",
    "\n",
    "avg_attack = attacks.mean()  # One time calculation put outside the loop\n",
    "above_avg = []\n",
    "# *************************************************************************************************** #\n",
    "for name, attack in zip(names, attacks):\n",
    "    if attack >= avg_attack:\n",
    "        above_avg.append(name)\n",
    "        \n",
    "print(above_avg)"
   ]
  },
  {
   "cell_type": "markdown",
   "id": "06794c8c-2874-4fb1-a573-dba7d0ab9784",
   "metadata": {},
   "source": [
    "## Another way to make loops more efficient is to use holistic conversions outside (or below) the loop.  \n",
    "\n",
    "**We have 3 list from our dataset of 720 Pokemon: a list of each Pokemon's name, a list corresponding to wheather or not a Pokemon has a legendary status, and a list of each Pokemon's generation. \n",
    "\n",
    "# We want to combine these objects so that each name, status, and generation is stored in an individual list.  \n",
    "\n",
    "**To do this, we'll use a loop that iterates over the output of the zip function.  Remember .zip() returns a collection of tuples, so we need to convert each tuple into a list since we want to create a list of lists as our output.  \n",
    "\n",
    "   # However converting each tuple to a list within the loop is not very efficient.  \n",
    "   **Instead we should collect all of our poke_tuple togetherand use the map function to convert each tuple into a list.  \n",
    "   "
   ]
  },
  {
   "cell_type": "code",
   "execution_count": 171,
   "id": "c660dcf7-2b7b-4d67-b183-8833875533ae",
   "metadata": {},
   "outputs": [
    {
     "name": "stdout",
     "output_type": "stream",
     "text": [
      "[('Pikachu', False, 1), ('Squirtle', False, 1), ('Articuno', True, 2)]\n"
     ]
    }
   ],
   "source": [
    "names = ['Pikachu', 'Squirtle', 'Articuno']\n",
    "legend_status = [False, False, True]\n",
    "generations = [1, 1, 2]\n",
    "\n",
    "\n",
    "new_list = [*zip(names, legend_status, generations)]\n",
    "print(new_list)"
   ]
  },
  {
   "cell_type": "code",
   "execution_count": 170,
   "id": "3f2c026b-c6a8-45f6-af23-99d5b149a7c5",
   "metadata": {},
   "outputs": [
    {
     "name": "stdout",
     "output_type": "stream",
     "text": [
      "[['Pikachu', False, 1], ['Squirtle', False, 1], ['Articuno', True, 2]]\n"
     ]
    }
   ],
   "source": [
    "names = ['Pikachu', 'Squirtle', 'Articuno']\n",
    "legend_status = [False, False, True]\n",
    "generations = [1, 1, 2]\n",
    "\n",
    "\n",
    "poke_data = []\n",
    "for poke_tuple in zip(names, legend_status, generations):\n",
    "    poke_list = list(poke_tuple)\n",
    "    poke_data.append(poke_list)\n",
    "    \n",
    "print(poke_data)"
   ]
  },
  {
   "cell_type": "code",
   "execution_count": 81,
   "id": "43628827-b820-480d-b0b2-c90be2f21f18",
   "metadata": {},
   "outputs": [
    {
     "name": "stdout",
     "output_type": "stream",
     "text": [
      "[['Pikachu', False, 1], ['Squirtle', False, 1], ['Articuno', True, 2]]\n"
     ]
    }
   ],
   "source": [
    "names = ['Pikachu', 'Squirtle', 'Articuno']\n",
    "legend_status = [False, False, True]\n",
    "generations = [1, 1, 2]\n",
    "\n",
    "\n",
    "poke_data = []\n",
    "for poke_tuple in zip(names, legend_status, generations):\n",
    "    poke_data.append(poke_tuple)\n",
    "    \n",
    "    \n",
    "# *************************************************************************************************** #\n",
    "poke_data = [*map(list, poke_data)]\n",
    "    \n",
    "print(poke_data)"
   ]
  },
  {
   "cell_type": "code",
   "execution_count": 82,
   "id": "7b9d4617-febc-48ec-8c5f-d79196ee751e",
   "metadata": {},
   "outputs": [
    {
     "name": "stdout",
     "output_type": "stream",
     "text": [
      "[('Pikachu', False, 1), ('Squirtle', False, 1), ('Articuno', True, 2)]\n",
      "[['Pikachu', False, 1], ['Squirtle', False, 1], ['Articuno', True, 2]]\n"
     ]
    }
   ],
   "source": [
    "names = ['Pikachu', 'Squirtle', 'Articuno']\n",
    "legend_status = [False, False, True]\n",
    "generations = [1, 1, 2]\n",
    "\n",
    "\n",
    "new_list = [*zip(names, legend_status, generations)]\n",
    "print(new_list)\n",
    "\n",
    "nn_list = [*map(list,new_list)]\n",
    "print(nn_list)"
   ]
  },
  {
   "cell_type": "markdown",
   "id": "5dc3dc6e-3d09-4e44-821b-5c521ad5f720",
   "metadata": {},
   "source": [
    "## One-time calculation loop\n",
    "\n",
    "# *****************************************************************************************************\n",
    "# A list of integers that represents each Pokémon's generation has been loaded into your session called generations. You'd like to gather the counts of each generation and determine what percentage each generation accounts for out of the total count of integers.\n",
    "\n",
    "The below loop was written to accomplish this task:\n",
    "\n",
    "for gen,count in gen_counts.items():\n",
    "    total_count = len(generations)\n",
    "    gen_percent = round(count / total_count * 100, 2)\n",
    "    print(\n",
    "      'generation {}: count = {:3} percentage = {}'\n",
    "      .format(gen, count, gen_percent)\n",
    "    )\n",
    "\n",
    "Let's make this loop more efficient by moving a one-time calculation outside the loop.\n",
    "Instructions\n",
    "100 XP\n",
    "\n",
    "    Import Counter from the collections module.\n",
    "    Use Counter() to collect the count of each generation from the generations list. Save this as gen_counts.\n",
    "    Write a better for loop that places a one-time calculation outside (above) the loop. Use the exact same syntax as the original for loop (simply copy and paste the one-time calculation above the loop).\n"
   ]
  },
  {
   "cell_type": "code",
   "execution_count": 159,
   "id": "52a7438a-ad30-4280-9054-ba660e399934",
   "metadata": {},
   "outputs": [
    {
     "name": "stdout",
     "output_type": "stream",
     "text": [
      "generation 2: count = 206 percentage = 0.412\n",
      "generation 3: count =  51 percentage = 0.102\n",
      "generation 1: count = 243 percentage = 0.486\n"
     ]
    }
   ],
   "source": [
    "import random\n",
    "\n",
    "poke_gen = (1, 1, 1, 2, 2, 3, 1, 2)\n",
    "generations = [random.choice(poke_gen) for i in range(500)]\n",
    "#generations.append(random.choice(poke_gen)*500)\n",
    "\n",
    "\n",
    "# Import Counter\n",
    "from collections import Counter\n",
    "\n",
    "# Collect the count of each generation\n",
    "gen_counts = Counter(generations)\n",
    "\n",
    "# Improve for loop by moving one calculation above the loop\n",
    "total_count = len(generations)\n",
    "\n",
    "for gen,count in gen_counts.items():\n",
    "    gen_percent = count/total_count\n",
    "    print('generation {}: count = {:3} percentage = {}'\n",
    "          .format(gen, count, gen_percent))"
   ]
  },
  {
   "cell_type": "code",
   "execution_count": 167,
   "id": "7fd5d840-7613-4177-8040-e731afe07ae9",
   "metadata": {},
   "outputs": [
    {
     "name": "stdout",
     "output_type": "stream",
     "text": [
      "8.53 ms ± 32.1 µs per loop (mean ± std. dev. of 7 runs, 100 loops each)\n",
      "[(3, 60, 0.12), (2, 186, 0.372), (1, 254, 0.508)]\n"
     ]
    }
   ],
   "source": [
    "import random\n",
    "\n",
    "poke_gen = (1, 1, 1, 2, 2, 3, 1, 2)\n",
    "generations = [random.choice(poke_gen) for i in range(500)]\n",
    "\n",
    "\n",
    "%timeit compex_info = set((i,generations.count(i),generations.count(i)/len(generations)) for i in generations)\n",
    "print(list(compex_info))"
   ]
  },
  {
   "cell_type": "markdown",
   "id": "d166f139-7148-4a24-90d8-039ee21cc736",
   "metadata": {},
   "source": [
    "# *****************************************************************************************************\n",
    "# using list comprehension + enumerate() to remove duplicates from a list \n"
   ]
  },
  {
   "cell_type": "code",
   "execution_count": 83,
   "id": "eb34723c-06c6-4a45-abd7-662d86403781",
   "metadata": {},
   "outputs": [
    {
     "name": "stdout",
     "output_type": "stream",
     "text": [
      "[1, 2, 3]\n"
     ]
    }
   ],
   "source": [
    "# using list comprehension + enumerate()\n",
    "# to remove duplicates from a list \n",
    "test_list = (1, 1, 1, 2, 2, 3, 1, 2)\n",
    "\n",
    "\n",
    "# *************************************************************************************************** #\n",
    "res = [i for n, i in enumerate(test_list) if i not in test_list[:n]]\n",
    "\n",
    "print(res)"
   ]
  },
  {
   "cell_type": "markdown",
   "id": "b5f63dfc-1a30-4d3e-82c6-4145fd1a3478",
   "metadata": {},
   "source": [
    "# How can I write a decision tree from scrash? or write a softmax layer or something"
   ]
  },
  {
   "cell_type": "markdown",
   "id": "33541d20-11eb-4d60-aa53-f025d36cbb14",
   "metadata": {},
   "source": [
    "## Holistic conversion loop\n",
    "\n",
    "A list of all possible Pokémon types has been loaded into your session as pokemon_types. It's been printed in the console for convenience.\n",
    "\n",
    "You'd like to gather all the possible pairs of Pokémon types. You want to store each of these pairs in an individual list with an enumerated index as the first element of each list. This allows you to see the total number of possible pairs and provides an indexed label for each pair.\n",
    "\n",
    "The below loop was written to accomplish this task:\n",
    "\n",
    "enumerated_pairs = []\n",
    "\n",
    "for i,pair in enumerate(possible_pairs, 1):\n",
    "    enumerated_pair_tuple = (i,) + pair\n",
    "    enumerated_pair_list = list(enumerated_pair_tuple)\n",
    "    enumerated_pairs.append(enumerated_pair_list)\n",
    "\n",
    "Let's make this loop more efficient using a holistic conversion.\n",
    "Instructions\n",
    "100 XP\n",
    "\n",
    "    combinations from the itertools module has been loaded into your session. Use it to create a list called possible_pairs that contains all possible pairs of Pokémon types (each pair has 2 Pokémon types).\n",
    "    Create an empty list called enumerated_tuples above the for loop.\n",
    "    Within the for loop, append each enumerated_pair_tuple to the empty list you created in the above step.\n",
    "    Use a built-in function to convert each tuple in enumerated_tuples to a list.\n"
   ]
  },
  {
   "cell_type": "code",
   "execution_count": 113,
   "id": "03905c8b-f9e1-41e1-a77f-f5070195dedc",
   "metadata": {},
   "outputs": [
    {
     "name": "stdout",
     "output_type": "stream",
     "text": [
      "(1, 2, 3, 4, 5, 6, 7)\n"
     ]
    },
    {
     "data": {
      "text/plain": [
       "\u001b[0;31mInit signature:\u001b[0m \u001b[0menumerate\u001b[0m\u001b[0;34m(\u001b[0m\u001b[0miterable\u001b[0m\u001b[0;34m,\u001b[0m \u001b[0mstart\u001b[0m\u001b[0;34m=\u001b[0m\u001b[0;36m0\u001b[0m\u001b[0;34m)\u001b[0m\u001b[0;34m\u001b[0m\u001b[0;34m\u001b[0m\u001b[0m\n",
       "\u001b[0;31mDocstring:\u001b[0m     \n",
       "Return an enumerate object.\n",
       "\n",
       "  iterable\n",
       "    an object supporting iteration\n",
       "\n",
       "The enumerate object yields pairs containing a count (from start, which\n",
       "defaults to zero) and a value yielded by the iterable argument.\n",
       "\n",
       "enumerate is useful for obtaining an indexed list:\n",
       "    (0, seq[0]), (1, seq[1]), (2, seq[2]), ...\n",
       "\u001b[0;31mType:\u001b[0m           type\n",
       "\u001b[0;31mSubclasses:\u001b[0m     \n"
      ]
     },
     "metadata": {},
     "output_type": "display_data"
    }
   ],
   "source": [
    "?enumerate\n",
    "\n",
    "\n",
    "tuple_a = (1, 2, 3, 4)\n",
    "tuple_b = (5, 6, 7)\n",
    "\n",
    "print(tuple_a + tuple_b)"
   ]
  },
  {
   "cell_type": "code",
   "execution_count": 91,
   "id": "81fbca55-8007-4450-81a5-ffdc0d275e0d",
   "metadata": {},
   "outputs": [
    {
     "name": "stdout",
     "output_type": "stream",
     "text": [
      "[[1, 'Bug', 'Dark'], [2, 'Bug', 'Dragon'], [3, 'Bug', 'Electric']]\n"
     ]
    }
   ],
   "source": [
    "from itertools import combinations\n",
    "\n",
    "\n",
    "pokemon_types = ['Bug', 'Dark', 'Dragon', 'Electric', 'Fairy', 'Fighting', 'Fire', 'Flying', 'Ghost', \n",
    "              'Grass', 'Ground', 'Ice', 'Normal', 'Poison', 'Psychic', 'Rock', 'Steel', 'Water']\n",
    "\n",
    "\n",
    "# Collect all possible pairs using combinations()\n",
    "possible_pairs = [*combinations(pokemon_types, 2)]\n",
    "\n",
    "\n",
    "# Below is a bad approach\n",
    "# Create an empty list called enumerated_tuples\n",
    "enumerated_tuples = []\n",
    "\n",
    "# Append each enumerated_pair_tuple to the empty list above\n",
    "for i,pair in enumerate(possible_pairs, start=1):\n",
    "    # *********************************************************************************************** #\n",
    "    pair_tuple = (i,) + pair\n",
    "    enumerated_tuples.append(pair_tuple)\n",
    "    \n",
    "    \n",
    "# Convert all tuples in enumerated_tuples to a list\n",
    "enumerated_pairs = [*map(list, enumerated_tuples)]\n",
    "print(enumerated_pairs[:3])"
   ]
  },
  {
   "cell_type": "code",
   "execution_count": 94,
   "id": "a6cdd323-a68a-4df9-a1de-50c588d6d257",
   "metadata": {},
   "outputs": [
    {
     "name": "stdout",
     "output_type": "stream",
     "text": [
      "[[1, 'Bug', 'Dark'], [2, 'Bug', 'Dragon'], [3, 'Bug', 'Electric']]\n"
     ]
    }
   ],
   "source": [
    "from itertools import combinations\n",
    "\n",
    "\n",
    "pokemon_types = ['Bug', 'Dark', 'Dragon', 'Electric', 'Fairy', 'Fighting', 'Fire', 'Flying', 'Ghost', \n",
    "              'Grass', 'Ground', 'Ice', 'Normal', 'Poison', 'Psychic', 'Rock', 'Steel', 'Water']\n",
    "\n",
    "\n",
    "# Collect all possible pairs using combinations()\n",
    "# *************************************************************************************************** #\n",
    "possible_pairs = [*combinations(pokemon_types, 2)]\n",
    "\n",
    "\n",
    "\n",
    "# It can be very simple few lines to get thing done beautifully, aviod to use loops\n",
    "# *************************************************************************************************** #\n",
    "enumerate_pairs = [*enumerate(possible_pairs, start=1)]\n",
    "    \n",
    "    \n",
    "\n",
    "print(enumerated_pairs[:3])"
   ]
  },
  {
   "cell_type": "markdown",
   "id": "3eb91e0f-d2ac-4474-a4b2-a38efcd2d617",
   "metadata": {},
   "source": [
    "## Bringing it all together: Pokémon z-scores\n",
    "\n",
    "A list of 720 Pokémon has been loaded into your session as names. Each Pokémon's corresponding Health Points is stored in a NumPy array called hps. You want to analyze the Health Points using the z-score to see how many standard deviations each Pokémon's HP is from the mean of all HPs.\n",
    "\n",
    "The below code was written to calculate the HP z-score for each Pokémon and gather the Pokémon with the highest HPs based on their z-scores:\n",
    "\n",
    "poke_zscores = []\n",
    "\n",
    "for name,hp in zip(names, hps):\n",
    "    hp_avg = hps.mean()\n",
    "    hp_std = hps.std()\n",
    "    z_score = (hp - hp_avg)/hp_std\n",
    "    poke_zscores.append((name, hp, z_score))\n",
    "\n",
    "highest_hp_pokemon = []\n",
    "\n",
    "for name,hp,zscore in poke_zscores:\n",
    "    if zscore > 2:\n",
    "        highest_hp_pokemon.append((name, hp, zscore))\n",
    "\n",
    "Instructions 1/3\n",
    "35 XP\n",
    "\n",
    "    1 QUestion\n",
    "    Use NumPy to eliminate the for loop used to create the z-scores.\n",
    "    Then, combine the names, hps, and z_scores objects together into a list called poke_zscores2.\n",
    "    \n",
    "    \n",
    "    \n",
    "    2 Question\n",
    "    Use list comprehension to replace the for loop used to collect Pokemon with the highest HPs based on their z-score. \n",
    "    \n",
    "    \n",
    "    \n",
    "    3 Question\n",
    "    Use %%timeit (cell magic mode) within your IPython console to compare the runtimes between the original code blocks and the new code you developped using NumPy and list comprehension. \n",
    "    \n",
    "    Possible Answer\n",
    "    The total time for executing both of the original code blocks was faster\n",
    "    The total time for executing the updated slution using NumPy and list comprehension was faster\n",
    "    Both approaches had the same execution time. \n"
   ]
  },
  {
   "cell_type": "code",
   "execution_count": 97,
   "id": "f290d43d-38a9-4d69-91ec-f2e2521572f2",
   "metadata": {},
   "outputs": [
    {
     "name": "stdout",
     "output_type": "stream",
     "text": [
      "['Bulbasaur', 'Ivysaur', 'Venusaur', 'Charmander', 'Charmeleon', 'Charizard']\n",
      "781\n",
      "[62. 70. 65. 67. 65. 64. 69. 65. 69. 64.]\n",
      "781\n"
     ]
    }
   ],
   "source": [
    "import csv\n",
    "import numpy as np\n",
    "\n",
    "with open('PokeMon_List2.csv', 'r') as file_obj:\n",
    "    csv_reader = csv.reader(file_obj)\n",
    "    next(csv_reader)   # Working code, skips the first row of the csv file\n",
    "    list_of_tuples = list(map(tuple, csv_reader))\n",
    "\n",
    "names = [i[1] for i in list_of_tuples]\n",
    "print(names[:6])\n",
    "print(len(names))\n",
    "\n",
    "\n",
    "# wts = np.round(np.random.normal(60.45, 8.2, 480), 2)\n",
    "hps = np.round(np.random.normal(68, 4, 781))\n",
    "print(hps[:10])\n",
    "print(len(hps))\n",
    "\n",
    "#print(dir(hps))"
   ]
  },
  {
   "cell_type": "code",
   "execution_count": 143,
   "id": "29555097-3c9f-43f9-b7f8-5edc09203410",
   "metadata": {},
   "outputs": [
    {
     "name": "stdout",
     "output_type": "stream",
     "text": [
      "('Bulbasaur', 66.0, -0.49)\n",
      "('Ivysaur', 68.0, 0.01)\n",
      "('Venusaur', 71.0, 0.75)\n"
     ]
    }
   ],
   "source": [
    "# Calculate the total HP avg and total HP standard deviation\n",
    "hp_avg = hps.mean()\n",
    "hp_std = hps.std()\n",
    "\n",
    "# Use NumPy to eliminate the previous for loop\n",
    "z_scores = np.round((hps - hp_avg)/hp_std, 2)\n",
    "\n",
    "# Combine names, hps, and z_scores\n",
    "poke_zscores2 = [*zip(names, hps, z_scores)]\n",
    "print(*poke_zscores2[:3], sep='\\n')"
   ]
  },
  {
   "cell_type": "code",
   "execution_count": 145,
   "id": "c973cc26-d96b-4766-b27d-a893634ac8ed",
   "metadata": {},
   "outputs": [
    {
     "name": "stdout",
     "output_type": "stream",
     "text": [
      "('Bulbasaur', 66.0, -0.49)\n",
      "('Ivysaur', 68.0, 0.01)\n",
      "('Venusaur', 71.0, 0.75)\n",
      "\n",
      "('Diglett', 77.0, 2.24)\n",
      "('Exeggutor', 78.0, 2.49)\n",
      "('Mew', 80.0, 2.99)\n",
      "('Pupitar', 77.0, 2.24)\n",
      "('Celebi', 79.0, 2.74)\n",
      "('Tirtouga', 78.0, 2.49)\n",
      "('Carracosta', 80.0, 2.99)\n",
      "('Minccino', 78.0, 2.49)\n",
      "('Eelektross', 81.0, 3.24)\n",
      "('Spewpa', 77.0, 2.24)\n",
      "('Xerneas', 82.0, 3.48)\n"
     ]
    }
   ],
   "source": [
    "# Calculate the total HP avg and total HP standard devision\n",
    "hp_avg = hps.mean()\n",
    "hp_std = hps.std()\n",
    "\n",
    "# Use NumPy to eliminate the previous for loop\n",
    "z_scores = np.round((hps - hp_avg)/hp_std, 2)\n",
    "\n",
    "# Combine names, hps, and z_scores\n",
    "poke_zscores2 = [*zip(names, hps, z_scores)]\n",
    "print(*poke_zscores2[:3], sep='\\n')\n",
    "print()\n",
    "\n",
    "# Use list comprehension with the same logic as the highest_hp_pokemon code block\n",
    "highest_hp_pokemon2 = [(name, hp, z_score) for name,hp,z_score in poke_zscores2  if z_score>2]\n",
    "\n",
    "print(*highest_hp_pokemon2, sep='\\n')\n",
    "# *************************************************************************************************** #\n",
    "# Should spend sometime studying list comprehension in different conditions"
   ]
  },
  {
   "cell_type": "code",
   "execution_count": null,
   "id": "432a4078-63fe-4020-a066-a175a611a954",
   "metadata": {},
   "outputs": [],
   "source": []
  },
  {
   "cell_type": "markdown",
   "id": "7be25425-ff50-4333-86ef-12178a0d58d5",
   "metadata": {},
   "source": [
    "## Intro to pandas DataFrame iteration\n",
    "\n",
    "\n",
    "   __See pandas overview in Intermediate Python Course__\n",
    "   __Library used for data analysis__\n",
    "   __DataFrame data structure built on top of NumPy__\n",
    "   __Chapter objective is best practice for iterating over DataFrame__\n",
    "\n",
    "\n",
    "**SO far, we've focused on Python's build-in data structures and NumPy array, now we'll focus on the most popular data analytics tools, the pandas DataFrame.  \n",
    "\n",
    "# You should be family with pandas before continuing with this course, and pandas is a library used for data analysis.  \n",
    "\n",
    "\n",
    "\n",
    "**The main construct of pandasis the DataFrame, a tabular data structure with labeled rows and columns.  \n"
   ]
  },
  {
   "cell_type": "markdown",
   "id": "ada4b7f9-497b-4736-99d2-0b511157cf35",
   "metadata": {},
   "source": [
    "**We've  collected team stats for each Major League Baseball team from the year 1962 to 2012, which are stored in a Pandas DataFrame called baseball_df.  \n",
    "\n",
    "The Team column is each baseball team's abbreviated name, the first ARI represents the Arizona Diamondbacks.  All other columns in this DataFrame represent specific statistics for each team in a given Year or season.  The W column specifies the number of wins a team had in a season, and G column that contains the number pf games a team played in a season.  \n"
   ]
  },
  {
   "cell_type": "code",
   "execution_count": 109,
   "id": "9e6e9647-0849-48f5-92df-e19802638c6c",
   "metadata": {},
   "outputs": [
    {
     "name": "stdout",
     "output_type": "stream",
     "text": [
      "  Team League  Year   RS   RA   W    G  Playoffs\n",
      "0  ARI     NL  2012  734  688  81  162         0\n",
      "1  ATL     NL  2012  700  600  94  162         1\n",
      "2  BAL     AL  2012  712  705  93  162         1\n",
      "3  BOS     AL  2012  734  806  69  162         0\n",
      "4  CHC     NL  2012  613  759  61  162         0\n"
     ]
    }
   ],
   "source": [
    "import pandas as pd\n",
    "\n",
    "\n",
    "baseball_df = pd.read_csv('baseball_stats.csv')\n",
    "print(baseball_df.head())\n",
    "\n",
    "\n",
    "# Return\n",
    "#    Team   League   Year    RS    RA    W    G    Playoffs\n",
    "# 0  ARI    NL       2012    734   688   81   162  0\n",
    "# 1  ATL    NL       2012    700   600   94   162  1\n",
    "# 2  BAL    AL       2012    712   705   93   162  1\n",
    "# 3  BOS    AL       2012    734   806   69   162  0\n",
    "# 4  CHC    NL       2012    613   759   61   162  0\n"
   ]
  },
  {
   "cell_type": "code",
   "execution_count": 110,
   "id": "213fd477-48c7-47ca-99f2-60768ee76d08",
   "metadata": {},
   "outputs": [
    {
     "data": {
      "text/plain": [
       "0.5"
      ]
     },
     "execution_count": 110,
     "metadata": {},
     "output_type": "execute_result"
    }
   ],
   "source": [
    "\n",
    "import numpy as np\n",
    "\n",
    "def calc_win_perc(wins, games_played):\n",
    "    win_perc = wins/games_played\n",
    "    \n",
    "    return np.round(win_perc, 2)\n",
    "\n",
    "\n",
    "calc_win_perc(50, 100)"
   ]
  },
  {
   "cell_type": "markdown",
   "id": "687abf1b-fcc8-462e-8d7d-ba3534fc7385",
   "metadata": {},
   "source": [
    "\n",
    "# One popular statistic used to evaluate a team's performance for a given season is the team's win percentage.  This metirc is calculated by dividing a team's total wins by number of games played. \n",
    "\n",
    "\n",
    "**We've written a simple function to perform this calculation.  We'd like to create a new column in our baseball_df DataFrame that storeseach team's win percentage for a season.  To do this we'll need to iterate over the DataFrams's rows and apply our calc_win_perc function.  \n",
    "\n",
    "\n",
    "First we create an empty win_perc_list to store all the win percentages we'll calculate.  \n",
    "Then we write a loop that will iterate over each row of the DataFrame. \n",
    "We then use the .iloc[] method to lookup each individual row within the DF using the index variable\n",
    "Now we grab each team's wins and games played by referencing the W and G column\n",
    "Next we pass the team's wins and gamesplayed to cal_win_perc() to calculate the win percentages\n",
    "Finally we append win_perc to win_perc_list and continue the loop.  \n",
    "\n",
    "We create our desired columnn in the DataFrame, called WP, by setting the column value equal to the win_perc_list.  "
   ]
  },
  {
   "cell_type": "code",
   "execution_count": 111,
   "id": "900a1ac9-dbc8-429e-968a-db1cf7a6a705",
   "metadata": {},
   "outputs": [
    {
     "name": "stdout",
     "output_type": "stream",
     "text": [
      "  Team League  Year   RS   RA   W    G  Playoffs    WP\n",
      "0  ARI     NL  2012  734  688  81  162         0  0.50\n",
      "1  ATL     NL  2012  700  600  94  162         1  0.58\n",
      "2  BAL     AL  2012  712  705  93  162         1  0.57\n",
      "3  BOS     AL  2012  734  806  69  162         0  0.43\n",
      "4  CHC     NL  2012  613  759  61  162         0  0.38\n"
     ]
    }
   ],
   "source": [
    "win_perc_list = []\n",
    "\n",
    "for i in range(len(baseball_df)):\n",
    "    row = baseball_df.iloc[i]     # using .iloc[] to iterate over a DF is not efficient, avoid it\n",
    "    wins = row.loc['W']\n",
    "    games_played = row.loc['G']\n",
    "    win_perc = calc_win_perc(wins, games_played)\n",
    "    win_perc_list.append(win_perc)\n",
    "    \n",
    "baseball_df['WP'] = win_perc_list\n",
    "\n",
    "\n",
    "\n",
    "print(baseball_df.head())"
   ]
  },
  {
   "cell_type": "code",
   "execution_count": 112,
   "id": "54da1401-7007-4c9a-8503-9fa3777b6196",
   "metadata": {},
   "outputs": [
    {
     "name": "stdout",
     "output_type": "stream",
     "text": [
      "  Team League  Year   RS   RA   W    G  Playoffs    WP       WWP\n",
      "0  ARI     NL  2012  734  688  81  162         0  0.50  0.500000\n",
      "1  ATL     NL  2012  700  600  94  162         1  0.58  0.580247\n",
      "2  BAL     AL  2012  712  705  93  162         1  0.57  0.574074\n",
      "3  BOS     AL  2012  734  806  69  162         0  0.43  0.425926\n",
      "4  CHC     NL  2012  613  759  61  162         0  0.38  0.376543\n"
     ]
    }
   ],
   "source": [
    "# Because Pandas was based on NumPy, so we can using NP' broadcasting to do this, avoid looping\n",
    "baseball_df['WWP'] = baseball_df['W']/baseball_df['G']\n",
    "\n",
    "\n",
    "print(baseball_df.head())"
   ]
  },
  {
   "cell_type": "markdown",
   "id": "9e9f22be-c5aa-41d4-9d71-61771c90def3",
   "metadata": {},
   "source": [
    "# Pandas comes with a few efficient methods for looping over a DataFrame.  The first we'll cover is the .iterrows(), it returns each DataFrame row as a tuple of (index, Pandas Series) pairs.  \n",
    "This meanseach object returned from .iterrows() method contains the index of each row as the first element, and the data in each row as a Pandas Series as the second element.  \n",
    "\n",
    "\n",
    "Notice that we still create the empty win_perc_list, but now we dont have to create a index variable to look up each row with in the DataFrame.  .iterrows() method handles the index for us.  "
   ]
  },
  {
   "cell_type": "code",
   "execution_count": 160,
   "id": "d036d769-a4e4-4071-b5c3-a35443ec8a07",
   "metadata": {},
   "outputs": [
    {
     "name": "stdout",
     "output_type": "stream",
     "text": [
      "[0.5, 0.58, 0.57, 0.43, 0.38]\n",
      "  Team League  Year   RS   RA   W    G  Playoffs   WPP  wwpp\n",
      "0  ARI     NL  2012  734  688  81  162         0  0.50  0.50\n",
      "1  ATL     NL  2012  700  600  94  162         1  0.58  0.58\n",
      "2  BAL     AL  2012  712  705  93  162         1  0.57  0.57\n",
      "3  BOS     AL  2012  734  806  69  162         0  0.43  0.43\n",
      "4  CHC     NL  2012  613  759  61  162         0  0.38  0.38\n"
     ]
    }
   ],
   "source": [
    "win_perc_list = []\n",
    "\n",
    "for i, row in baseball_df.iterrows():\n",
    "    wins = row['W']\n",
    "    games_played = row['G']\n",
    "    win_perc = calc_win_perc(wins, games_played)\n",
    "    win_perc_list.append(win_perc)\n",
    "    \n",
    "    \n",
    "# *************************************************************************************************** #\n",
    "win_perc_list2 = [calc_win_perc(row['W'],row['G']) for i,row in baseball_df.iterrows()]\n",
    "print(win_perc_list2)\n",
    "baseball_df['wwpp'] = win_perc_list2\n",
    "# *************************************************************************************************** #\n",
    "baseball_df['WPP'] = win_perc_list\n",
    "    \n",
    "print(baseball_df.head())"
   ]
  },
  {
   "cell_type": "markdown",
   "id": "c3153451-5095-47fb-a402-fb73e75d9154",
   "metadata": {},
   "source": [
    "## Iterating with .iterrows()\n",
    "\n",
    "In the video, we discussed that .iterrows() returns each DataFrame row as a tuple of (index, pandas Series) pairs. But, what does this mean? Let's explore with a few coding exercises.\n",
    "\n",
    "A pandas DataFrame has been loaded into your session called pit_df. This DataFrame contains the stats for the Major League Baseball team named the Pittsburgh Pirates (abbreviated as 'PIT') from the year 2008 to the year 2012. It has been printed into your console for convenience.\n",
    "Instructions 1/4\n",
    "30 XP\n",
    "\n",
    "    1 Question\n",
    "    Use .iterrows() to loop over pit_df and print each row. Save the first item from .iterrows() as i and the second as row.\n",
    "    \n",
    "    \n",
    "    \n",
    "    2 Question\n",
    "    Add two lines to the loop: one before print(row) to print each index variable and one after to print each row's type.\n",
    "    \n",
    "    \n",
    "    \n",
    "    3 Question\n",
    "    Instead of using i and row in the for statement to store the output of .iterrows(), \n",
    "# use one variable named row_tuple.\n",
    "    \n",
    "    \n",
    "    \n",
    "    4 Question\n",
    "    Add a line in the for loop to print the type of each row_tuple."
   ]
  },
  {
   "cell_type": "code",
   "execution_count": null,
   "id": "b19a915a-f516-4a48-a520-a13051f7d98e",
   "metadata": {},
   "outputs": [],
   "source": [
    "# Iterate over pit_df and print each row\n",
    "for i,row in pit_df.iterrows():\n",
    "    print(row)\n",
    "    \n",
    "    \n",
    "    \n",
    "    \n",
    "# Iterate over pit_df and print each row\n",
    "for i,row in pit_df.iterrows():\n",
    "    print(i)\n",
    "    print(type(row))\n",
    "    print(row)\n"
   ]
  },
  {
   "cell_type": "code",
   "execution_count": 119,
   "id": "01fda3f4-6691-477f-a880-2c83d7bb3578",
   "metadata": {},
   "outputs": [
    {
     "name": "stdout",
     "output_type": "stream",
     "text": [
      "(0, Team         ARI\n",
      "League        NL\n",
      "Year        2012\n",
      "RS           734\n",
      "RA           688\n",
      "W             81\n",
      "G            162\n",
      "Playoffs       0\n",
      "Name: 0, dtype: object)\n",
      "(1, Team         ATL\n",
      "League        NL\n",
      "Year        2012\n",
      "RS           700\n",
      "RA           600\n",
      "W             94\n",
      "G            162\n",
      "Playoffs       1\n",
      "Name: 1, dtype: object)\n",
      "(2, Team         BAL\n",
      "League        AL\n",
      "Year        2012\n",
      "RS           712\n",
      "RA           705\n",
      "W             93\n",
      "G            162\n",
      "Playoffs       1\n",
      "Name: 2, dtype: object)\n",
      "(3, Team         BOS\n",
      "League        AL\n",
      "Year        2012\n",
      "RS           734\n",
      "RA           806\n",
      "W             69\n",
      "G            162\n",
      "Playoffs       0\n",
      "Name: 3, dtype: object)\n",
      "(4, Team         CHC\n",
      "League        NL\n",
      "Year        2012\n",
      "RS           613\n",
      "RA           759\n",
      "W             61\n",
      "G            162\n",
      "Playoffs       0\n",
      "Name: 4, dtype: object)\n"
     ]
    }
   ],
   "source": [
    "import pandas as pd\n",
    "baseball_df = pd.read_csv('baseball_stats.csv')\n",
    "for row_tuple in baseball_df.iterrows():\n",
    "    print(row_tuple)"
   ]
  },
  {
   "cell_type": "markdown",
   "id": "4c51f45b-ea25-4a98-a117-9bd788d28d1e",
   "metadata": {},
   "source": [
    "## Run differentials with .iterrows()\n",
    "\n",
    "You've been hired by the San Francisco Giants as an analyst-congrats! The team's owner wants you to calculate a metric called the run differential for each season from the year 2008 to 2012. This metric is calculated by subtracting the total number of runs a team allowed in a season from the team's total number of runs scored in a season. 'RS' means runs scored and 'RA' means runs allowed.\n",
    "\n",
    "The below function calculates this metric:\n",
    "\n",
    "def calc_run_diff(runs_scored, runs_allowed):\n",
    "\n",
    "    run_diff = runs_scored - runs_allowed\n",
    "\n",
    "    return run_diff\n",
    "\n",
    "A DataFrame has been loaded into your session as giants_df and printed into the console. Let's practice using .iterrows() to add a run differential column to this DataFrame.\n",
    "Instructions 1/4\n",
    "35 XP\n",
    "\n",
    "    1 Question\n",
    "    Create an empty list called run_diffs that will be used to store the run differentials you will calculate.\n",
    "    \n",
    "    \n",
    "    \n",
    "    2 Question\n",
    "    Write a for loop that uses .iterrows() to loop over giants_df and collects each row's runs scored and runs allowed. \n",
    "    \n",
    "    \n",
    "    \n",
    "    3 Question\n",
    "    Add a line to the for loop that uses the provided function to calculate each row's run differential.  \n",
    "    \n",
    "    \n",
    "    \n",
    "    4 Question\n",
    "    Add a line to the loop that appends each row's run differential to the run_diffs list\n"
   ]
  },
  {
   "cell_type": "code",
   "execution_count": null,
   "id": "1a5e5afc-c7f7-46b9-ac37-926a751b1f60",
   "metadata": {},
   "outputs": [],
   "source": [
    "# Create an empty list to store run differentials\n",
    "run_diffs = []\n",
    "\n",
    "\n",
    "\n",
    "for i, row in giants_df.iterrows():\n",
    "    runs_scored = row['RS']\n",
    "    runs_allowed = row['RA']\n",
    "    run_diff = calc_run_diff(runs_scored, runs_allowed)\n",
    "    run_diffs.append(run_diff)\n",
    "    \n"
   ]
  },
  {
   "cell_type": "markdown",
   "id": "69c23832-3f42-44b8-800e-68ccd3ffca0c",
   "metadata": {},
   "source": [
    "## Another iterator method: .itertuples()\n",
    "\n",
    "\n",
    "\n",
    "**In the previous lesson, we covered how to iterate over a Pandas DataFrame row by row using the .iterrows methods.  Whereas Pandas also comes with a similar iteration method called .itertuples() method, that is often more efficient than .iterrows().  \n",
    "\n",
    "\n",
    "Lets continue using our baseball dataset to copare these two methods.  \n",
    "\n",
    "Suppose we have a Pandas DataFrame called team_wins_df that contains each team's total wins in a season\n",
    "If we use .iterrows() to loop over our team_wins_df DataFrame, and print each row's tuple, we see that each row's value stored as a Pandas Series.\n",
    "Remember .iterrows() returns each DataFrame row as a tuple of (index, Pandas Series) pairs, so we to access the row's value with square bracket indexing.  \n",
    "\n",
    "# But we could use .itertuples() to loop over our DataFrame rows instead. \n",
    "\n",
    "The .ietrtuples() method returns each DataFrame row as a special data type called namedtuple. \n",
    "\n",
    "A namedtuple is one of the specialized data types that exist within the collections modulewe've discussed previously.  These data types behave just like a Python tuple but have fields accessible using attribute lookup.  We can access each of these attributes with a lookup using a dot method.  \n",
    "\n",
    "\n",
    "\n",
    "\n",
    "# When we compare .iterrows() and .itertuples(), we see that there is quite a bit of improvement! 527.00 to 7.48\n",
    "\n",
    "**The reason .itertuples() is more efficient than .iterrows() is due to the way each method stores its output, since that .iterrows() returns each row's values as a Pandas Series, there is a bit more overhead.  \n"
   ]
  },
  {
   "cell_type": "code",
   "execution_count": 123,
   "id": "5d929197-4d2f-4990-823f-ba80c46a1d6d",
   "metadata": {},
   "outputs": [
    {
     "name": "stdout",
     "output_type": "stream",
     "text": [
      "  Team  Year   W\n",
      "0  ARI  2012  81\n",
      "1  ATL  2012  94\n",
      "2  BAL  2012  93\n",
      "3  BOS  2012  69\n",
      "4  CHC  2012  61\n"
     ]
    }
   ],
   "source": [
    "import pandas as pd\n",
    "\n",
    "team_wins_df = pd.read_csv('team_wins_df.csv')\n",
    "\n",
    "\n",
    "print(team_wins_df)\n",
    "\n",
    "\n",
    "# Return\n",
    "#    Team   Year   W \n",
    "# 0  ARI    2012   81\n",
    "# 1  ATL    2012   94\n",
    "# 2  BAL    2012   93\n",
    "# 3  BOS    2012   69\n",
    "# 4  CHC    2012   61"
   ]
  },
  {
   "cell_type": "code",
   "execution_count": 127,
   "id": "8fba586b-e532-43b3-8d5d-1ee58e24a60b",
   "metadata": {},
   "outputs": [
    {
     "name": "stdout",
     "output_type": "stream",
     "text": [
      "Pandas(Index=0, Team='ARI', Year=2012, W=81)\n",
      "ARI\n",
      "Pandas(Index=1, Team='ATL', Year=2012, W=94)\n",
      "ATL\n",
      "Pandas(Index=2, Team='BAL', Year=2012, W=93)\n",
      "BAL\n",
      "Pandas(Index=3, Team='BOS', Year=2012, W=69)\n",
      "BOS\n",
      "Pandas(Index=4, Team='CHC', Year=2012, W=61)\n",
      "CHC\n"
     ]
    }
   ],
   "source": [
    "for row_namedtuple in team_wins_df.itertuples():\n",
    "    print(row_namedtuple)\n",
    "    print(row_namedtuple.Team)\n",
    "    "
   ]
  },
  {
   "cell_type": "markdown",
   "id": "08baf3f0-8d7d-4a4c-aa42-ab2bde09a583",
   "metadata": {},
   "source": [
    "\n",
    "# One more quick note about the difference of these two methods, when using .iterrows(), we can use square brackets to reference a column within our team_wins_df DataFrame, same synax with .itertuples will cause errors, this is due to the fact that namedtuples dont support square brackets like Pandas Series does.  When looking up an attribute within a namedtuple, we must use a dot to reference the attribute.  So anytime we use .itertuples() we have to use a dot when referring to a column within our DF.  "
   ]
  },
  {
   "cell_type": "code",
   "execution_count": 131,
   "id": "0f346554-ac1f-477c-9ec9-88b4e73e12ed",
   "metadata": {},
   "outputs": [
    {
     "name": "stdout",
     "output_type": "stream",
     "text": [
      "ARI\n",
      "ATL\n",
      "BAL\n",
      "BOS\n",
      "CHC\n"
     ]
    }
   ],
   "source": [
    "for row_tuple in team_wins_df.iterrows():\n",
    "    \n",
    "    print(row_tuple[1]['Team'])   # 1 means the DF Series, 0 means the index\n"
   ]
  },
  {
   "cell_type": "code",
   "execution_count": 138,
   "id": "a9f70dd3-aae3-4781-8503-96595771df26",
   "metadata": {},
   "outputs": [
    {
     "name": "stdout",
     "output_type": "stream",
     "text": [
      "81\n",
      "0\n",
      "94\n",
      "1\n",
      "93\n",
      "2\n",
      "69\n",
      "3\n",
      "61\n",
      "4\n"
     ]
    }
   ],
   "source": [
    "for row_tuple in team_wins_df.itertuples():\n",
    "    \n",
    "    print(row_tuple[3]) \n",
    "    print(row_tuple.Index)\n",
    "    "
   ]
  },
  {
   "cell_type": "markdown",
   "id": "e799b5b7-ce24-44ee-b090-da764a6daff9",
   "metadata": {},
   "source": [
    "## Iterating with .itertuples()\n",
    "\n",
    "Remember, .itertuples() returns each DataFrame row as a special data type called a namedtuple. You can look up an attribute within a namedtuple with a special syntax. Let's practice working with namedtuples.\n",
    "\n",
    "A pandas DataFrame has been loaded into your session called rangers_df. This DataFrame contains the stats ('Team', 'League', 'Year', 'RS', 'RA', 'W', 'G', and 'Playoffs') for the Major League baseball team named the Texas Rangers (abbreviated as 'TEX').\n",
    "Instructions 1/3\n",
    "35 XP\n",
    "\n",
    "    1 QUestion\n",
    "    Use .itertuples() to loop over rangers_df and print each row.\n",
    "    \n",
    "    \n",
    "    \n",
    "    2 Question\n",
    "    Loop over rangers_df with .itertuples() and save each row's Index, Year, and Wins (W) attribute as i, year, and wins.\n",
    "    \n",
    "    \n",
    "    \n",
    "    3 Question\n",
    "    Now, loop over rangers_df and print these values only for those rows where the Rangers made the playoffs."
   ]
  },
  {
   "cell_type": "code",
   "execution_count": null,
   "id": "1651153e-6e87-4a3b-88bb-96f0020cb632",
   "metadata": {},
   "outputs": [],
   "source": [
    "# Loop over the DataFrame and print each row\n",
    "for row in rangers_df.itertuples():\n",
    "    print(row)\n",
    "    \n",
    "    \n",
    "    \n",
    "# Loop over the DataFrame and print each row\n",
    "for row in rangers_df.itertuples():\n",
    "    i = row.Index\n",
    "    year = row.Year\n",
    "    wins = row.W\n",
    "    print(i, year, wins)\n",
    "    \n",
    "    \n",
    "    \n",
    "# Loop over the DataFrame and print each row\n",
    "for row in rangers_df.itertuples():\n",
    "    if row.Playoffs is not None:\n",
    "    # if row.Playoffs == 1\n",
    "        i = row.Index\n",
    "        year = row.Year\n",
    "        wins = row.W\n",
    "    print(i, year, wins)"
   ]
  },
  {
   "cell_type": "code",
   "execution_count": 145,
   "id": "c249e084-f114-4a27-b672-01143e53520b",
   "metadata": {},
   "outputs": [
    {
     "name": "stdout",
     "output_type": "stream",
     "text": [
      "  Team  Year   W  Playoffs\n",
      "0  ARI  2012  81         0\n",
      "1  ATL  2012  94         1\n",
      "2  BAL  2012  93         0\n",
      "3  BOS  2012  69         1\n",
      "4  CHC  2012  61         1\n",
      "0 2012 81\n",
      "1 2012 94\n",
      "2 2012 93\n",
      "3 2012 69\n",
      "4 2012 61\n"
     ]
    }
   ],
   "source": [
    "import pandas as pd\n",
    "\n",
    "ranges_df = pd.read_csv('team_wins_df1.csv')\n",
    "print(ranges_df)\n",
    "\n",
    "\n",
    "for row in ranges_df.itertuples():\n",
    "    if row.Playoffs is not None:\n",
    "        \n",
    "        i = row.Index\n",
    "        year = row.Year\n",
    "        wins = row.W\n",
    "    print(i, year, wins)"
   ]
  },
  {
   "cell_type": "code",
   "execution_count": 161,
   "id": "47e9e9e5-5814-4c34-ad67-0cfd685ce077",
   "metadata": {},
   "outputs": [
    {
     "name": "stdout",
     "output_type": "stream",
     "text": [
      "  Team  Year   W  Playoffs\n",
      "0  ARI  2012  81         0\n",
      "1  ATL  2012  94         1\n",
      "2  BAL  2012  93         0\n",
      "3  BOS  2012  69         1\n",
      "4  CHC  2012  61         1\n",
      "[(0, 2012, 81), (1, 2012, 94), (2, 2012, 93), (3, 2012, 69), (4, 2012, 61)]\n"
     ]
    }
   ],
   "source": [
    "import pandas as pd\n",
    "\n",
    "ranges_df = pd.read_csv('team_wins_df1.csv')\n",
    "print(ranges_df)\n",
    "\n",
    "\n",
    "    \n",
    "# *************************************************************************************************** #\n",
    "outcome = [(row.Index, row.Year, row.W) for row in ranges_df.itertuples()]\n",
    "print(outcome)"
   ]
  },
  {
   "cell_type": "markdown",
   "id": "f6d4ace0-30e6-495f-bd27-e058c1a4248a",
   "metadata": {
    "tags": []
   },
   "source": [
    "## Run differentials with .itertuples()\n",
    "\n",
    "The New York Yankees have made a trade with the San Francisco Giants for your analyst contract— you're a hot commodity! Your new boss has seen your work with the Giants and now wants you to do something similar with the Yankees data. He'd like you to calculate run differentials for the Yankees from the year 1962 to the year 2012 and find which season they had the best run differential.\n",
    "\n",
    "You've remembered the function you used when working with the Giants and quickly write it down:\n",
    "\n",
    "def calc_run_diff(runs_scored, runs_allowed):\n",
    "\n",
    "    run_diff = runs_scored - runs_allowed\n",
    "\n",
    "    return run_diff\n",
    "\n",
    "Let's use .itertuples() to loop over the yankees_df DataFrame (which has been loaded into your session) and calculate run differentials.\n",
    "Instructions 1/4\n",
    "25 XP\n",
    "\n",
    "    1 Question\n",
    "    Use .itertuples() to loop over yankees_df and grab each row's runs scored and runs allowed values.\n",
    "    \n",
    "    \n",
    "    \n",
    "    2 Question\n",
    "    Now calculate each row's run differential using calc_run_diff().  Be sure to append each row's run differential to run_diffs\n",
    "    \n",
    "    \n",
    "    \n",
    "    3 Question\n",
    "    Append a new column called RD to the yankees_df DataFrame that contains the run differential you calculated\n",
    "    \n",
    "    \n",
    "    \n",
    "    4 Question\n",
    "    In what year within your DataFrame did the New York Yankees have the highest run differential? \n",
    "    \n",
    "    You'll need to rerun the code that calculates the RD column if you'd like to analyze the DataFrame with code rather than looking at the console output.\n",
    "    Possible answer:\n",
    "    In 2011(with a Run Differential of 210)\n",
    "    In 1998(with a Run Differential of 309)\n",
    "    In 1962(with a Run Differential of 503)\n",
    "    In 1985(with a Run Differential of 315)\n",
    "    \n",
    "    \n",
    "    \n",
    "#    yankees_df.sort_values(by=['RD'])\n",
    "    \n"
   ]
  },
  {
   "cell_type": "code",
   "execution_count": null,
   "id": "0a29a263-e33f-4114-86f4-12d59b725143",
   "metadata": {},
   "outputs": [],
   "source": [
    "run_diffs = []\n",
    "\n",
    "# Loop over the DataFrame and calculate each row's run differential\n",
    "for row in yankees_df.itertuples():\n",
    "    \n",
    "    runs_scored = row.RS\n",
    "    runs_allowed = row.RA\n",
    "    \n",
    "    \n",
    "    \n",
    "run_diffs = []\n",
    "\n",
    "# Loop over the DataFrame and calculate each row's run differential\n",
    "for row in yankees_df.itertuples():\n",
    "    \n",
    "    runs_scored = row.RS\n",
    "    runs_allowed = row.RA\n",
    "    run_difference = calc_run_diff(runs_scored, runs_allowed)\n",
    "    run_diffs.append(run_difference)\n",
    "    \n",
    "    \n",
    "    \n",
    "run_diffs = []\n",
    "\n",
    "# Loop over the DataFrame and calculate each row's run differential\n",
    "for row in yankees_df.itertuples():\n",
    "    \n",
    "    runs_scored = row.RS\n",
    "    runs_allowed = row.RA\n",
    "    run_difference = calc_run_diff(runs_scored, runs_allowed)\n",
    "    run_diffs.append(run_difference)\n",
    "    \n",
    "yankees_df['RD'] = run_diffs\n",
    "\n",
    "# *************************************************************************************************** #\n",
    "yankees_df['RDD'] = [calc_run_diff(row.RS, row.RA) for row in yankees_df.itertuples()]"
   ]
  },
  {
   "cell_type": "code",
   "execution_count": 175,
   "id": "edda0268-60f5-46c3-9c17-2e527258fe3b",
   "metadata": {},
   "outputs": [
    {
     "name": "stdout",
     "output_type": "stream",
     "text": [
      "  Team League  Year   RS   RA   W    G  Playoffs\n",
      "0  ARI     NL  2012  734  688  81  162         0\n",
      "1  ATL     NL  2012  700  600  94  162         1\n",
      "2  BAL     AL  2012  712  705  93  162         1\n",
      "3  BOS     AL  2012  734  806  69  162         0\n",
      "4  CHC     NL  2012  613  759  61  162         0\n",
      "\n",
      "  Team League  Year   RS   RA   W    G  Playoffs    RD\n",
      "0  ARI     NL  2012  734  688  81  162         0  1.07\n",
      "1  ATL     NL  2012  700  600  94  162         1  1.17\n",
      "2  BAL     AL  2012  712  705  93  162         1  1.01\n",
      "3  BOS     AL  2012  734  806  69  162         0  0.91\n",
      "4  CHC     NL  2012  613  759  61  162         0  0.81\n",
      "\n",
      "  Team League  Year   RS   RA   W    G  Playoffs    RD\n",
      "1  ATL     NL  2012  700  600  94  162         1  1.17\n",
      "0  ARI     NL  2012  734  688  81  162         0  1.07\n",
      "2  BAL     AL  2012  712  705  93  162         1  1.01\n",
      "3  BOS     AL  2012  734  806  69  162         0  0.91\n",
      "4  CHC     NL  2012  613  759  61  162         0  0.81\n",
      "Help on method sort_values in module pandas.core.frame:\n",
      "\n",
      "sort_values(by, axis: 'Axis' = 0, ascending=True, inplace: 'bool' = False, kind: 'str' = 'quicksort', na_position: 'str' = 'last', ignore_index: 'bool' = False, key: 'ValueKeyFunc' = None) method of pandas.core.frame.DataFrame instance\n",
      "    Sort by the values along either axis.\n",
      "    \n",
      "    Parameters\n",
      "    ----------\n",
      "            by : str or list of str\n",
      "                Name or list of names to sort by.\n",
      "    \n",
      "                - if `axis` is 0 or `'index'` then `by` may contain index\n",
      "                  levels and/or column labels.\n",
      "                - if `axis` is 1 or `'columns'` then `by` may contain column\n",
      "                  levels and/or index labels.\n",
      "    axis : {0 or 'index', 1 or 'columns'}, default 0\n",
      "         Axis to be sorted.\n",
      "    ascending : bool or list of bool, default True\n",
      "         Sort ascending vs. descending. Specify list for multiple sort\n",
      "         orders.  If this is a list of bools, must match the length of\n",
      "         the by.\n",
      "    inplace : bool, default False\n",
      "         If True, perform operation in-place.\n",
      "    kind : {'quicksort', 'mergesort', 'heapsort', 'stable'}, default 'quicksort'\n",
      "         Choice of sorting algorithm. See also :func:`numpy.sort` for more\n",
      "         information. `mergesort` and `stable` are the only stable algorithms. For\n",
      "         DataFrames, this option is only applied when sorting on a single\n",
      "         column or label.\n",
      "    na_position : {'first', 'last'}, default 'last'\n",
      "         Puts NaNs at the beginning if `first`; `last` puts NaNs at the\n",
      "         end.\n",
      "    ignore_index : bool, default False\n",
      "         If True, the resulting axis will be labeled 0, 1, …, n - 1.\n",
      "    \n",
      "         .. versionadded:: 1.0.0\n",
      "    \n",
      "    key : callable, optional\n",
      "        Apply the key function to the values\n",
      "        before sorting. This is similar to the `key` argument in the\n",
      "        builtin :meth:`sorted` function, with the notable difference that\n",
      "        this `key` function should be *vectorized*. It should expect a\n",
      "        ``Series`` and return a Series with the same shape as the input.\n",
      "        It will be applied to each column in `by` independently.\n",
      "    \n",
      "        .. versionadded:: 1.1.0\n",
      "    \n",
      "    Returns\n",
      "    -------\n",
      "    DataFrame or None\n",
      "        DataFrame with sorted values or None if ``inplace=True``.\n",
      "    \n",
      "    See Also\n",
      "    --------\n",
      "    DataFrame.sort_index : Sort a DataFrame by the index.\n",
      "    Series.sort_values : Similar method for a Series.\n",
      "    \n",
      "    Examples\n",
      "    --------\n",
      "    >>> df = pd.DataFrame({\n",
      "    ...     'col1': ['A', 'A', 'B', np.nan, 'D', 'C'],\n",
      "    ...     'col2': [2, 1, 9, 8, 7, 4],\n",
      "    ...     'col3': [0, 1, 9, 4, 2, 3],\n",
      "    ...     'col4': ['a', 'B', 'c', 'D', 'e', 'F']\n",
      "    ... })\n",
      "    >>> df\n",
      "      col1  col2  col3 col4\n",
      "    0    A     2     0    a\n",
      "    1    A     1     1    B\n",
      "    2    B     9     9    c\n",
      "    3  NaN     8     4    D\n",
      "    4    D     7     2    e\n",
      "    5    C     4     3    F\n",
      "    \n",
      "    Sort by col1\n",
      "    \n",
      "    >>> df.sort_values(by=['col1'])\n",
      "      col1  col2  col3 col4\n",
      "    0    A     2     0    a\n",
      "    1    A     1     1    B\n",
      "    2    B     9     9    c\n",
      "    5    C     4     3    F\n",
      "    4    D     7     2    e\n",
      "    3  NaN     8     4    D\n",
      "    \n",
      "    Sort by multiple columns\n",
      "    \n",
      "    >>> df.sort_values(by=['col1', 'col2'])\n",
      "      col1  col2  col3 col4\n",
      "    1    A     1     1    B\n",
      "    0    A     2     0    a\n",
      "    2    B     9     9    c\n",
      "    5    C     4     3    F\n",
      "    4    D     7     2    e\n",
      "    3  NaN     8     4    D\n",
      "    \n",
      "    Sort Descending\n",
      "    \n",
      "    >>> df.sort_values(by='col1', ascending=False)\n",
      "      col1  col2  col3 col4\n",
      "    4    D     7     2    e\n",
      "    5    C     4     3    F\n",
      "    2    B     9     9    c\n",
      "    0    A     2     0    a\n",
      "    1    A     1     1    B\n",
      "    3  NaN     8     4    D\n",
      "    \n",
      "    Putting NAs first\n",
      "    \n",
      "    >>> df.sort_values(by='col1', ascending=False, na_position='first')\n",
      "      col1  col2  col3 col4\n",
      "    3  NaN     8     4    D\n",
      "    4    D     7     2    e\n",
      "    5    C     4     3    F\n",
      "    2    B     9     9    c\n",
      "    0    A     2     0    a\n",
      "    1    A     1     1    B\n",
      "    \n",
      "    Sorting with a key function\n",
      "    \n",
      "    >>> df.sort_values(by='col4', key=lambda col: col.str.lower())\n",
      "       col1  col2  col3 col4\n",
      "    0    A     2     0    a\n",
      "    1    A     1     1    B\n",
      "    2    B     9     9    c\n",
      "    3  NaN     8     4    D\n",
      "    4    D     7     2    e\n",
      "    5    C     4     3    F\n",
      "    \n",
      "    Natural sort with the key argument,\n",
      "    using the `natsort <https://github.com/SethMMorton/natsort>` package.\n",
      "    \n",
      "    >>> df = pd.DataFrame({\n",
      "    ...    \"time\": ['0hr', '128hr', '72hr', '48hr', '96hr'],\n",
      "    ...    \"value\": [10, 20, 30, 40, 50]\n",
      "    ... })\n",
      "    >>> df\n",
      "        time  value\n",
      "    0    0hr     10\n",
      "    1  128hr     20\n",
      "    2   72hr     30\n",
      "    3   48hr     40\n",
      "    4   96hr     50\n",
      "    >>> from natsort import index_natsorted\n",
      "    >>> df.sort_values(\n",
      "    ...    by=\"time\",\n",
      "    ...    key=lambda x: np.argsort(index_natsorted(df[\"time\"]))\n",
      "    ... )\n",
      "        time  value\n",
      "    0    0hr     10\n",
      "    3   48hr     40\n",
      "    2   72hr     30\n",
      "    4   96hr     50\n",
      "    1  128hr     20\n",
      "\n",
      "None\n"
     ]
    }
   ],
   "source": [
    "import pandas as pd\n",
    "\n",
    "baseball_df = pd.read_csv('baseball_stats.csv')\n",
    "print(baseball_df.head())\n",
    "print()\n",
    "\n",
    "\n",
    "baseball_df['RD'] = [calc_win_perc(row.RS, row.RA) for row in baseball_df.itertuples()]\n",
    "print(baseball_df.head())\n",
    "print()\n",
    "\n",
    "#print(dir(baseball_df))  # sort_values\n",
    "\n",
    "\n",
    "print(baseball_df.sort_values(['RD'], ascending=False))\n",
    "\n",
    "print(help(baseball_df.sort_values))"
   ]
  },
  {
   "cell_type": "markdown",
   "id": "6711b427-0999-4f58-a027-0fe68d462453",
   "metadata": {},
   "source": [
    "## pandas alternative to looping\n",
    "\n",
    "\n",
    "# Pandas are based on NumPy, why not just broadcasting? \n",
    "\n",
    "**We've been looping over DataFrame row-by-row with ease in the past two lessons.  But remember, in order to write efficient code, we want to avoid looping when possible.  In this lesson, we'll explore an alternative to using .iterrows() and .itertuples() to perform calculations on a DataFrame.  \n",
    "\n",
    "We'll continue using our baseball_df dataset and revisit the calc_run_diff() function we've used in the past.  This function calculates a team's run differential for a given year by subtracting the team's total number of runs allowed from their total number of runs scored in a season.  \n",
    "\n",
    "Notice that we are iterating over baseball_df with a for loop, passing each row's RS and RA columns into our calc_run_diff() function, and appending each row's result to our fun_diffs list.  This gives us our desired output, but its not our most efficient option.  \n",
    "\n",
    "\n",
    "\n",
    "# One alternative to using a loop to iterate over a DataFrame is to use Pandas's .apply() method.  This function acts like the map() function we've used in the past.  It takes a function as input and applies this function to an entire DataFrame.  Since we are working with tabular data, we must specify an axis that we'd like our function to act on.  Just like the map() function, Pandas' .apply() method can be used with anonymous function or lambdas. \n",
    "\n",
    "# *****************************************************************************************************\n",
    "# anonymous function or lambdas. \n",
    "\n",
    "\n",
    "Lets work through how'd we'd use the .apply() method to calculate our run differentials. \n",
    "\n",
    "First we call .apply() method on the baseball_df DataFrame. \n",
    "Then we use a lambda function to iterate over the rows of the DataFrame.\n",
    "Notice that our argument for lambda is row, (since we are applying to each row of the DF)\n",
    "For every row we grab the RS and RA columns and pass them to our calc_win_perc() function, \n",
    "Lastly, we specify our axis to tell .apply() method that we want iterate over rows instead of columns. \n",
    "\n"
   ]
  },
  {
   "cell_type": "code",
   "execution_count": 229,
   "id": "aeeba599-1be5-4f1a-a24d-56cead91ba7c",
   "metadata": {},
   "outputs": [
    {
     "name": "stdout",
     "output_type": "stream",
     "text": [
      "  Team League  Year   RS   RA   W    G  Playoffs\n",
      "0  ARI     NL  2012  734  688  81  162         0\n",
      "1  ATL     NL  2012  700  600  94  162         1\n",
      "2  BAL     AL  2012  712  705  93  162         1\n",
      "3  BOS     AL  2012  734  806  69  162         0\n",
      "4  CHC     NL  2012  613  759  61  162         0\n",
      "\n",
      "  Team League  Year   RS   RA   W    G  Playoffs    RD\n",
      "0  ARI     NL  2012  734  688  81  162         0  1.07\n",
      "1  ATL     NL  2012  700  600  94  162         1  1.17\n",
      "2  BAL     AL  2012  712  705  93  162         1  1.01\n",
      "3  BOS     AL  2012  734  806  69  162         0  0.91\n",
      "4  CHC     NL  2012  613  759  61  162         0  0.81\n",
      "\n",
      "  Team League  Year   RS   RA   W    G  Playoffs    RD   RDD\n",
      "0  ARI     NL  2012  734  688  81  162         0  1.07  1.07\n",
      "1  ATL     NL  2012  700  600  94  162         1  1.17  1.17\n",
      "2  BAL     AL  2012  712  705  93  162         1  1.01  1.01\n",
      "3  BOS     AL  2012  734  806  69  162         0  0.91  0.91\n",
      "4  CHC     NL  2012  613  759  61  162         0  0.81  0.81\n"
     ]
    }
   ],
   "source": [
    "import pandas as pd\n",
    "\n",
    "baseball_df = pd.read_csv('baseball_stats.csv')\n",
    "print(baseball_df.head())\n",
    "print()\n",
    "\n",
    "\n",
    "baseball_df['RD'] = [calc_win_perc(row.RS, row.RA) for row in baseball_df.itertuples()]\n",
    "print(baseball_df.head())\n",
    "print()\n",
    "\n",
    "\n",
    "\n",
    "baseball_df['RDD'] = baseball_df.apply(lambda row: calc_win_perc(row['RS'], row['RA']), axis=1)\n",
    "\n",
    "\n",
    "# *************************************************************************************************** #\n",
    "#baseball_df['RRD'] = baseball_df.apply(calc_win_perc(baseball_df['RS'], baseball_df['RA']), axis = 1)\n",
    "print(baseball_df)\n",
    "\n",
    "#print(help(baseball_df.apply))"
   ]
  },
  {
   "cell_type": "markdown",
   "id": "ec90870f-7543-4a20-9f1e-6aea667df078",
   "metadata": {},
   "source": [
    "## Analyzing baseball stats with .apply()\n",
    "\n",
    "The Tampa Bay Rays want you to analyze their data.\n",
    "\n",
    "They'd like the following metrics:\n",
    "\n",
    "    The sum of each column in the data\n",
    "    The total amount of runs scored in a year ('RS' + 'RA' for each year)\n",
    "    The 'Playoffs' column in text format rather than using 1's and 0's\n",
    "\n",
    "The below function can be used to convert the 'Playoffs' column to text:\n",
    "\n",
    "def text_playoffs(num_playoffs): \n",
    "    if num_playoffs == 1:\n",
    "        return 'Yes'\n",
    "    else:\n",
    "        return 'No' \n",
    "\n",
    "Use .apply() to get these metrics. A DataFrame (rays_df) has been loaded and printed to the console. This DataFrame is indexed on the 'Year' column.\n",
    "Instructions 1/3\n",
    "35 XP\n",
    "\n",
    "    1\n",
    "#    Apply sum() to each column of rays_df to collect the sum of each column. Be sure to specify the correct axis.\n",
    "    \n",
    "    \n",
    "    \n",
    "    2\n",
    "#    Apply sum() to each row of rays_df, only looking at the 'RS' and 'RA' columns, and specify the correct axis.\n",
    "    \n",
    "    \n",
    "    \n",
    "    3\n",
    "    Use .apply() and a lambda function to apply text_playoffs() to each row's 'Playoffs' value of the rays_df DataFrame."
   ]
  },
  {
   "cell_type": "code",
   "execution_count": 271,
   "id": "e0dd5ebd-7ae3-4f46-939f-d66afa0ed325",
   "metadata": {},
   "outputs": [
    {
     "name": "stdout",
     "output_type": "stream",
     "text": [
      "       RS   RA   W  Playoffs\n",
      "2012  697  577  90         0\n",
      "2011  707  614  91         1\n",
      "2010  802  649  96         1\n",
      "2009  803  754  84         0\n",
      "2008  774  671  97         1\n",
      "\n",
      "RS          3783\n",
      "RA          3265\n",
      "W            458\n",
      "Playoffs       3\n",
      "dtype: int64\n",
      "\n",
      "2012    1274\n",
      "2011    1321\n",
      "2010    1451\n",
      "2009    1557\n",
      "2008    1445\n",
      "dtype: int64\n",
      "\n",
      "2012    1274\n",
      "2011    1321\n",
      "2010    1451\n",
      "2009    1557\n",
      "2008    1445\n",
      "dtype: int64\n",
      "\n",
      "2012     No\n",
      "2011    Yes\n",
      "2010    Yes\n",
      "2009     No\n",
      "2008    Yes\n",
      "dtype: object\n"
     ]
    }
   ],
   "source": [
    "import pandas as pd\n",
    "\n",
    "rays_df = pd.read_csv('rays_df.csv')\n",
    "print(rays_df)\n",
    "print()\n",
    "\n",
    "\n",
    "\n",
    "# Gather sum of all columns\n",
    "# *************************************************************************************************** #\n",
    "stat_totals = rays_df.apply(sum, axis=0)\n",
    "print(stat_totals)\n",
    "print()\n",
    "\n",
    "\n",
    "\n",
    "# *************************************************************************************************** #\n",
    "# Cause sum() takes a list as input and returns the sum of list elements, below is wroing approach\n",
    "#row_total = rays_df.apply(lambda row: sum(row['RS'], row['RA']), axis=1)\n",
    "\n",
    "# *************************************************************************************************** #\n",
    "row_total = rays_df[['RS', 'RA']].apply(sum, axis=1)\n",
    "print(row_total)\n",
    "print()\n",
    "\n",
    "\n",
    "# *************************************************************************************************** #\n",
    "ff_total = rays_df['RS']+rays_df['RA']\n",
    "print(ff_total)\n",
    "print()\n",
    "\n",
    "\n",
    "def text_playoffs(num_playoffs): \n",
    "    if num_playoffs == 1:\n",
    "        return 'Yes'\n",
    "    else:\n",
    "        return 'No' \n",
    "\n",
    "\n",
    "row_total = rays_df.apply(lambda row: text_playoffs(row['Playoffs']), axis=1)\n",
    "print(row_total)"
   ]
  },
  {
   "cell_type": "code",
   "execution_count": 244,
   "id": "b69ba549-762f-49a7-a6a5-227c89491a1c",
   "metadata": {},
   "outputs": [
    {
     "name": "stdout",
     "output_type": "stream",
     "text": [
      "Help on built-in function sum in module builtins:\n",
      "\n",
      "sum(iterable, /, start=0)\n",
      "    Return the sum of a 'start' value (default: 0) plus an iterable of numbers\n",
      "    \n",
      "    When the iterable is empty, return the start value.\n",
      "    This function is intended specifically for use with numeric values and may\n",
      "    reject non-numeric types.\n",
      "\n",
      "None\n"
     ]
    }
   ],
   "source": [
    "print(help(sum))"
   ]
  },
  {
   "cell_type": "code",
   "execution_count": 258,
   "id": "bf1040bf-457b-4d25-a59b-2a22dab04a2c",
   "metadata": {},
   "outputs": [
    {
     "name": "stdout",
     "output_type": "stream",
     "text": [
      "10\n",
      "26\n"
     ]
    }
   ],
   "source": [
    "import numpy as np\n",
    "\n",
    "a = np.array([1, 2, 3, 4])\n",
    "b = np.array([5, 6, 7, 8])\n",
    "\n",
    "print(sum(a))\n",
    "\n",
    "\n",
    "print(np.sum(b))"
   ]
  },
  {
   "cell_type": "code",
   "execution_count": 260,
   "id": "fecbdf1d-53f6-4044-97c3-ec68771514bd",
   "metadata": {},
   "outputs": [],
   "source": [
    "#print(help(np.sum))"
   ]
  },
  {
   "cell_type": "code",
   "execution_count": 267,
   "id": "203fd7cb-b20f-4330-a49e-2f4b56db417d",
   "metadata": {},
   "outputs": [
    {
     "name": "stdout",
     "output_type": "stream",
     "text": [
      "10\n",
      "[ 6  8 10 12]\n",
      "2012    1274\n",
      "2011    1321\n",
      "2010    1451\n",
      "2009    1557\n",
      "2008    1445\n",
      "dtype: int64\n"
     ]
    }
   ],
   "source": [
    "def pp_sum(a, b):\n",
    "    return a+b\n",
    "\n",
    "\n",
    "a = np.array([1, 2, 3, 4])\n",
    "b = np.array([5, 6, 7, 8])\n",
    "\n",
    "\n",
    "print(pp_sum(a[2], b[2]))\n",
    "print(pp_sum(a, b))\n",
    "\n",
    "\n",
    "# *************************************************************************************************** #\n",
    "row_total = rays_df.apply(lambda row: pp_sum(row['RS'], row['RA']), axis=1)\n",
    "print(row_total)"
   ]
  },
  {
   "cell_type": "markdown",
   "id": "afbeddb0-59d9-44a8-9b1c-6adc8f8771ed",
   "metadata": {},
   "source": [
    "## Settle a debate with .apply()\n",
    "\n",
    "Word has gotten to the Arizona Diamondbacks about your awesome analytics skills. They'd like for you to help settle a debate amongst the managers. One manager claims that the team has made the playoffs every year they have had a win percentage of 0.50 or greater. Another manager says this is not true.\n",
    "\n",
    "Let's use the below function and the .apply() method to see which manager is correct.\n",
    "\n",
    "def calc_win_perc(wins, games_played):\n",
    "    win_perc = wins / games_played\n",
    "    return np.round(win_perc,2)\n",
    "\n",
    "A DataFrame named dbacks_df has been loaded into your session.\n",
    "Instructions 1/4\n",
    "25 XP\n",
    "\n",
    "    1 Question\n",
    "    Print the first five rows of the dbacks_df DataFrame to see what the data looks like.\n",
    "    \n",
    "    \n",
    "    \n",
    "    2 Question\n",
    "    Create a Pandas Series called win_perc by applying the calc_win_perc() function to \n",
    "#   each row of the DataFrame with a lambda function\n",
    "    \n",
    "    \n",
    "    \n",
    "    3 Question\n",
    "    Create a new column in dbacks_df called WP that contains the win percentages you calculated in the above step. \n",
    "    \n",
    "    \n",
    "    \n",
    "    4 Question\n",
    "    Which manager was correct in their clarm?\n",
    "    The manager who clarmed the team has not made the playoffs every year they've had a win percentage of 0.50 or greater \n"
   ]
  },
  {
   "cell_type": "code",
   "execution_count": null,
   "id": "3a57e723-88a7-450a-a36f-bea0bb719a05",
   "metadata": {},
   "outputs": [],
   "source": [
    "# Display the first five rows of the DataFrame\n",
    "print(dbacks_df.head())\n",
    "\n",
    "\n",
    "\n",
    "def calc_win_perc(wins, games_played):\n",
    "    win_perc = wins / games_played\n",
    "    return np.round(win_perc,2)\n",
    "\n",
    "\n",
    "\n",
    "win_perc = pd.Series(dbacks_df.apply(lambda row: calc_win_perc(row['W'], row['G']), axis=1))\n",
    "win_perc = dbacks_df.apply(lambda row: calc_win_perc(row['W'], row['G']), axis=1)\n",
    "\n",
    "\n",
    "\n",
    "dbacks_df['WP'] = win_perc\n",
    "\n",
    "\n",
    "\n",
    "print(dbacks_df[dbacks_df['WP']>0.5])"
   ]
  },
  {
   "cell_type": "markdown",
   "id": "07a51ec2-1f20-4698-8519-68d545f0523c",
   "metadata": {},
   "source": [
    "## Optimal pandas iterating\n",
    "\n",
    "\n",
    "\n",
    "\n",
    "**We've come a long way from our first .iloc[] approach for iterating over a DataFrame, each approach we've discussed has really improved performance.  Whereas these approaches focus on performing calculations for each rows of our DataFrame individually.  In this lesson, we'll explore some Pandas internals that allow us to perform calculations even more efficient.  \n",
    "\n",
    "As we know, we should try to stay away from loops when writing Python code, in the previous lessons, we were iterating over a DataFrame row by row in order to perform a calculation. \n",
    "\n",
    "\n",
    "# Pandas is a library that is built on NumPy.  This means each Pandas DataFrame we use can take dvantage of the efficient characteristics of NumPy arrays that we learned in Chapter 1.  \n",
    "\n",
    "Do you remember of array's broadcasting functionality?  Broadcasting allows NumPy arrays to vectorize operations, so they are performed on all elements of an object at once.  This allows us to efficiently perform calculations over entire arrays.  Just like NumPy, Pandas is designed to vectorize calculations so that they operate on entire datasets at once.  not just on a row by row bases.  \n",
    "\n",
    "\n",
    "\n",
    "We'll continueto use the baseball_df DataFrame we have been using throughout the chapter.  Since Pandas is built on NumPy, we can grab any of these DataFrame column's value as a NumPy array using the .values method (no parenthesis here).  "
   ]
  },
  {
   "cell_type": "markdown",
   "id": "3da9c694-01b4-4990-abb1-6eed8b36bc91",
   "metadata": {},
   "source": [
    "## Replacing .iloc with underlying arrays\n",
    "\n",
    "Now that you have a better grasp on a DataFrame's internals let's update one of your previous analyses to leverage a DataFrame's underlying arrays. You'll revisit the win percentage calculations you performed row by row with the .iloc method:\n",
    "\n",
    "def calc_win_perc(wins, games_played):\n",
    "    win_perc = wins / games_played\n",
    "    return np.round(win_perc,2)\n",
    "\n",
    "win_percs_list = []\n",
    "\n",
    "for i in range(len(baseball_df)):\n",
    "    row = baseball_df.iloc[i]\n",
    "\n",
    "    wins = row['W']\n",
    "    games_played = row['G']\n",
    "\n",
    "    win_perc = calc_win_perc(wins, games_played)\n",
    "\n",
    "    win_percs_list.append(win_perc)\n",
    "\n",
    "baseball_df['WP'] = win_percs_list\n",
    "\n",
    "Let's update this analysis to use arrays instead of the .iloc method. A DataFrame (baseball_df) has been loaded into your session.\n",
    "Instructions 1/3\n",
    "50 XP\n",
    "\n",
    "    1 Question\n",
    "    Use the right method to collect the underlying 'W' and 'G' arrays of baseball_df and pass them directly into the calc_win_perc() function. Store the result as a variable called win_percs_np.\n",
    "    \n",
    "    \n",
    "    \n",
    "    2 Question\n",
    "    Create a new column in baseball_df called wp that contains the win percentages you just calculated.\n",
    "    \n",
    "    \n",
    "    \n",
    "    3 Question\n",
    "    The NumPy array approach (or we call Pandas.Series.values) is faster than the .iloc[] approach\n",
    "    \n"
   ]
  },
  {
   "cell_type": "code",
   "execution_count": null,
   "id": "29011677-fd08-4ea3-9441-392cb3274aa7",
   "metadata": {},
   "outputs": [],
   "source": [
    "def calc_win_perc(wins, games_played):\n",
    "    win_perc = wins / games_played\n",
    "    return np.round(win_perc,2)\n",
    "\n",
    "win_percs_list = []\n",
    "\n",
    "for i in range(len(baseball_df)):\n",
    "    row = baseball_df.iloc[i]\n",
    "\n",
    "    wins = row['W']\n",
    "    games_played = row['G']\n",
    "\n",
    "    win_perc = calc_win_perc(wins, games_played)\n",
    "\n",
    "    win_percs_list.append(win_perc)\n",
    "\n",
    "baseball_df['WP'] = win_percs_list\n",
    "\n",
    "\n",
    "\n",
    "\n",
    "# Use the W array and G array to calculate win percentages\n",
    "win_percs_np = calc_win_perc(baseball_df['W'].values, baseball_df['G'].values)\n",
    "\n",
    "\n",
    "\n",
    "\n",
    "baseball_df['wp'] = win_percs_np\n",
    "\n"
   ]
  },
  {
   "cell_type": "markdown",
   "id": "41d0626f-5819-44b3-805a-152d9ca39a21",
   "metadata": {},
   "source": [
    "## Bringing it all together: Predict win percentage\n",
    "\n",
    "A pandas DataFrame (baseball_df) has been loaded into your session. For convenience, a dictionary describing each column within baseball_df has been printed into your console. You can reference these descriptions throughout the exercise.\n",
    "\n",
    "You'd like to attempt to predict a team's win percentage for a given season by using the team's total runs scored in a season ('RS') and total runs allowed in a season ('RA') with the following function:\n",
    "\n",
    "def predict_win_perc(RS, RA):\n",
    "    prediction = RS ** 2 / (RS ** 2 + RA ** 2)\n",
    "    return np.round(prediction, 2)\n",
    "\n",
    "Let's compare the approaches you've learned to calculate a predicted win percentage for each season (or row) in your DataFrame.\n",
    "Instructions 1/4\n",
    "25 XP\n",
    "\n",
    "    1 Question\n",
    "    Use a for loop and .itertuples() to predict the win percentage for each row of baseball_df with the predict_win_perc() function. Save each row's predicted win percentage as win_perc_pred and append each to the win_perc_preds_loop list.\n",
    "    \n",
    "    \n",
    "    \n",
    "    2 Question\n",
    "    Apply predict_win_perc() to each row of the baseball_df DataFrame using a lambda function.  Save the predicted win percentage as win_perc_preds_apply.\n",
    "    \n",
    "    \n",
    "    \n",
    "    3 Question\n",
    "    Calculate the predicted win percentages by passing the underlying RS and RA arrays from baseball_df into predict_win_perc().  Save these predictions as win_perc_preds_np. \n",
    "    \n",
    "    \n",
    "    \n",
    "    4 Question\n",
    "    Using NumPy arrays was the Fastest approach, followed by the .itertuples() approach, and the .apply() approach was slowest. \n"
   ]
  },
  {
   "cell_type": "code",
   "execution_count": null,
   "id": "d34e641e-6713-46aa-b8a0-95250d8b7756",
   "metadata": {},
   "outputs": [],
   "source": [
    "def predict_win_perc(RS, RA):\n",
    "    prediction = RS ** 2 / (RS ** 2 + RA ** 2)\n",
    "    return np.round(prediction, 2)\n",
    "\n",
    "\n",
    "\n",
    "\n",
    "win_perc_preds_loop = []\n",
    "\n",
    "# Use a loop and .itertuples() to collect each row's predicted win percentage\n",
    "for row in baseball_df.itertuples():\n",
    "    runs_scored = row.RS\n",
    "    runs_allowed = row.RA\n",
    "    win_perc_pred = predict_win_perc(runs_scored, runs_allowed)\n",
    "    win_perc_preds_loop.append(win_perc_pred)\n",
    "    \n",
    "    \n",
    "    \n",
    "    \n",
    "    \n",
    "win_perc_preds_apply = baseball_df.apply(lambds row: predict_win_perc(row['RS'], row['RA']))\n",
    "\n",
    "\n",
    "\n",
    "\n",
    "win_perc_preds_np = predict_win_perc(baseball_df['RS'].values, baseball_df['RA'].values)"
   ]
  },
  {
   "cell_type": "code",
   "execution_count": null,
   "id": "c3e7e8e9-cb2d-445e-8853-d600b05cf164",
   "metadata": {},
   "outputs": [],
   "source": [
    "OrderedDict([('Team', 'Abbreviated team name'),\n",
    "             ('League', 'Specifies National League or American League'),\n",
    "             ('Year', \"Each season's year\"),\n",
    "             ('RS', 'Runs scored in a season'),\n",
    "             ('RA', 'Runs allowed in a season'),\n",
    "             ('W', 'Wins in a season'),\n",
    "             ('G', 'Games played in a season'),\n",
    "             ('Playoffs', '`1` if a team made the playoffs; `0` if they did not'),\n",
    "             ('WP', 'True win percentage for a season')])"
   ]
  },
  {
   "cell_type": "code",
   "execution_count": null,
   "id": "deb23db6-5dee-4449-839a-56088b97a02d",
   "metadata": {},
   "outputs": [],
   "source": []
  },
  {
   "cell_type": "code",
   "execution_count": null,
   "id": "d8fe741a-4696-4e6a-9b72-e292ae2fed1f",
   "metadata": {},
   "outputs": [],
   "source": []
  },
  {
   "cell_type": "code",
   "execution_count": null,
   "id": "d1c828b4-fd1d-48ec-9e9c-3fcb94fecff6",
   "metadata": {},
   "outputs": [],
   "source": []
  },
  {
   "cell_type": "code",
   "execution_count": null,
   "id": "93671823-6370-47dd-bf16-b41fa411dc8a",
   "metadata": {},
   "outputs": [],
   "source": []
  },
  {
   "cell_type": "code",
   "execution_count": null,
   "id": "6ea77640-53b6-473e-a959-85ca552f6405",
   "metadata": {},
   "outputs": [],
   "source": []
  },
  {
   "cell_type": "code",
   "execution_count": null,
   "id": "1fa489b7-95d3-4657-b96b-c70504d02de0",
   "metadata": {},
   "outputs": [],
   "source": []
  },
  {
   "cell_type": "code",
   "execution_count": null,
   "id": "eacc1e0d-e19c-4aa4-bda6-b8afd1252c50",
   "metadata": {},
   "outputs": [],
   "source": []
  },
  {
   "cell_type": "code",
   "execution_count": null,
   "id": "c3306d15-3ff0-47c7-9d87-8c8bcde38f09",
   "metadata": {},
   "outputs": [],
   "source": []
  },
  {
   "cell_type": "code",
   "execution_count": null,
   "id": "29b7d8ce-9dc9-4be4-a482-3e1f5b23b47d",
   "metadata": {},
   "outputs": [],
   "source": []
  },
  {
   "cell_type": "code",
   "execution_count": null,
   "id": "25199b0a-bfac-4f54-a218-149d09583d00",
   "metadata": {},
   "outputs": [],
   "source": []
  },
  {
   "cell_type": "code",
   "execution_count": null,
   "id": "502b4d21-db59-497a-899f-a6ca393acf53",
   "metadata": {},
   "outputs": [],
   "source": []
  },
  {
   "cell_type": "code",
   "execution_count": null,
   "id": "c53d9de3-1732-4008-8e69-e7538192820c",
   "metadata": {},
   "outputs": [],
   "source": []
  },
  {
   "cell_type": "code",
   "execution_count": null,
   "id": "b8ba58b6-82eb-4cc0-8c00-488960ee95d7",
   "metadata": {},
   "outputs": [],
   "source": []
  },
  {
   "cell_type": "code",
   "execution_count": null,
   "id": "662ab30d-2515-4611-bdfd-66ad415d550c",
   "metadata": {},
   "outputs": [],
   "source": []
  },
  {
   "cell_type": "code",
   "execution_count": null,
   "id": "af36a10e-2b91-443b-a873-a59c1b78a477",
   "metadata": {},
   "outputs": [],
   "source": []
  }
 ],
 "metadata": {
  "kernelspec": {
   "display_name": "Python 3 (ipykernel)",
   "language": "python",
   "name": "python3"
  },
  "language_info": {
   "codemirror_mode": {
    "name": "ipython",
    "version": 3
   },
   "file_extension": ".py",
   "mimetype": "text/x-python",
   "name": "python",
   "nbconvert_exporter": "python",
   "pygments_lexer": "ipython3",
   "version": "3.9.2"
  }
 },
 "nbformat": 4,
 "nbformat_minor": 5
}
