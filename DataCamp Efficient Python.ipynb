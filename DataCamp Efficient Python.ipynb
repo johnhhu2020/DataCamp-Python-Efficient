{
 "cells": [
  {
   "cell_type": "markdown",
   "id": "cae0df75-7ece-471a-bbb9-5661032618f0",
   "metadata": {},
   "source": [
    "##  Foundations for efficiencies\n",
    "\n",
    "In this chapter, you'll learn what it means to write efficient Python code. You'll explore Python's Standard Library, learn about NumPy arrays, and practice using some of Python's built-in tools. This chapter builds a foundation for the concepts covered ahead.\n",
    "\n",
    "    Welcome!    50 xp\n",
    "    Pop quiz: what is efficient    50 xp\n",
    "    A taste of things to come    100 xp\n",
    "    Zen of Python    35 xp\n",
    "    Building with built-ins    50 xp\n",
    "    Built-in practice: range()    100 xp\n",
    "    Built-in practice: enumerate()    100 xp\n",
    "    Built-in practice: map()    100 xp\n",
    "    The power of NumPy arrays    50 xp\n",
    "    Practice with NumPy arrays    100 xp\n",
    "    Bringing it all together: Festivus!    100 xp\n"
   ]
  },
  {
   "cell_type": "markdown",
   "id": "46a8ea61-f135-47c3-8ae5-d152b109baf0",
   "metadata": {},
   "source": [
    "##  Timing and profiling code\n",
    "\n",
    "In this chapter, you will learn how to gather and compare runtimes between different coding approaches. You'll practice using the line_profiler and memory_profiler packages to profile your code base and spot bottlenecks. Then, you'll put your learnings to practice by replacing these bottlenecks with efficient Python code.\n",
    "\n",
    "    Examining runtime    50 xp\n",
    "    Using %timeit: your turn!    100 xp\n",
    "    Using %timeit: specifying number of runs and loops    50 xp\n",
    "    Using %timeit: formal name or literal syntax    100 xp\n",
    "    Using cell magic mode (%%timeit)    50 xp\n",
    "    Code profiling for runtime    50 xp\n",
    "    Pop quiz: steps for using %lprun    50 xp\n",
    "    Using %lprun: spot bottlenecks    50 xp\n",
    "    Using %lprun: fix the bottleneck    50 xp\n",
    "    Code profiling for memory usage    50 xp\n",
    "    Pop quiz: steps for using %mprun    50 xp\n",
    "    Using %mprun: Hero BMI    50 xp\n",
    "    Using %mprun: Hero BMI 2.0    50 xp\n",
    "    Bringing it all together: Star Wars profiling    100 xp \n",
    "    "
   ]
  },
  {
   "cell_type": "markdown",
   "id": "93a2039b-46e2-4ee6-9fcd-37afb79499a4",
   "metadata": {},
   "source": [
    "##  Gaining efficiencies\n",
    "\n",
    "This chapter covers more complex efficiency tips and tricks. You'll learn a few useful built-in modules for writing efficient code and practice using set theory. You'll then learn about looping patterns in Python and how to make them more efficient.\n",
    "\n",
    "    Efficiently combining, counting, and iterating    50 xp\n",
    "    Combining Pokémon names and types    100 xp\n",
    "    Counting Pokémon from a sample    100 xp\n",
    "    Combinations of Pokémon    100 xp\n",
    "    Set theory    50 xp\n",
    "    Comparing Pokédexes    100 xp\n",
    "    Searching for Pokémon    100 xp\n",
    "    Gathering unique Pokémon    100 xp\n",
    "    Eliminating loops    50 xp\n",
    "    Gathering Pokémon without a loop    100 xp\n",
    "    Pokémon totals and averages without a loop    100 xp\n",
    "    Writing better loops    50 xp\n",
    "    One-time calculation loop    100 xp\n",
    "    Holistic conversion loop    100 xp\n",
    "    Bringing it all together: Pokémon z-scores    100 xp \n",
    "    "
   ]
  },
  {
   "cell_type": "markdown",
   "id": "8a6929ad-5e13-4409-92b6-1e26390e30e3",
   "metadata": {},
   "source": [
    "##  Basic pandas optimizations\n",
    "\n",
    "This chapter offers a brief introduction on how to efficiently work with pandas DataFrames. You'll learn the various options you have for iterating over a DataFrame. Then, you'll learn how to efficiently apply functions to data stored in a DataFrame.\n",
    "\n",
    "    Intro to pandas DataFrame iteration    50 xp\n",
    "    Iterating with .iterrows()    100 xp\n",
    "    Run differentials with .iterrows()    100 xp\n",
    "    Another iterator method: .itertuples()    50 xp\n",
    "    Iterating with .itertuples()    100 xp\n",
    "    Run differentials with .itertuples()    100 xp\n",
    "    pandas alternative to looping    50 xp\n",
    "    Analyzing baseball stats with .apply()    100 xp\n",
    "    Settle a debate with .apply()    100 xp\n",
    "    Optimal pandas iterating    50 xp\n",
    "    Replacing .iloc with underlying arrays    100 xp\n",
    "    Bringing it all together: Predict win percentage    100 xp\n",
    "    Congratulations!    50 xp\n"
   ]
  },
  {
   "cell_type": "code",
   "execution_count": null,
   "id": "e9623b95-4fb2-4096-94ee-86970a756fdb",
   "metadata": {},
   "outputs": [],
   "source": []
  },
  {
   "cell_type": "code",
   "execution_count": null,
   "id": "69e184b4-5506-4744-996c-629ca3aefed5",
   "metadata": {},
   "outputs": [],
   "source": []
  },
  {
   "cell_type": "markdown",
   "id": "06a1e634-b641-45a8-a7cb-581740cafb52",
   "metadata": {},
   "source": [
    "## In this course, you'll learn how to write cleaner, faster, and more efficient Python code\n",
    "   **.We'll explore how to time and profile your code in order to find potential bottlenecks\n",
    "   ** And learn practice eliminating these bottlenecks, and other bad design patterns, using Python's standard Library, NumPy and Pandas\n",
    "   \n",
    "   **After completing thise course, you''ll have everything you need to start writting elegant and efficient Python code. \n",
    "\n",
    "\n",
    "\n",
    "**Efficient refers to code that satisfiees two key concepts. \n",
    "   *first, fast to run and small latency between execution and returningg result\n",
    "   *second, allocates resources skillfully and isn't subjected to unnecessary overhead"
   ]
  },
  {
   "cell_type": "code",
   "execution_count": null,
   "id": "3597820d-b4f3-4cbc-941a-d441bdaf8129",
   "metadata": {},
   "outputs": [],
   "source": [
    "# Non-Pythonic\n",
    "double_numbers = []\n",
    "\n",
    "for i in range(len(numbers)):\n",
    "    double_numbers.append(numbers[i]*2)\n",
    "    \n",
    "    \n",
    "# Pythonic\n",
    "double_numbers = [x*2 for x in numbers]"
   ]
  },
  {
   "cell_type": "markdown",
   "id": "4f83e0e0-2c1b-4ed9-9ef1-4b63051f2121",
   "metadata": {},
   "source": [
    "## Things you should know:\n",
    "\n",
    "   **Data types typically used in Data Science**\n",
    "      Data Types for Data Science\n",
    "   \n",
    "   **Writing and using your own functions**\n",
    "      Python Data Science Toolbox(part 1)\n",
    "   \n",
    "   **Anonymous functions(lambda expressions)**\n",
    "      Python Data Science Toolbox(part 1)\n",
    "      \n",
    "   **Writing and using list comprehensions**\n",
    "      Python Data Science Toolbox(part 2)"
   ]
  },
  {
   "cell_type": "markdown",
   "id": "e41bdaa2-f1ec-45be-9185-666e8ddd8223",
   "metadata": {},
   "source": [
    "## A taste of things to come\n",
    "\n",
    "In this exercise, you'll explore both the Non-Pythonic and Pythonic ways of looping over a list.\n",
    "\n",
    "names = ['Jerry', 'Kramer', 'Elaine', 'George', 'Newman']\n",
    "\n",
    "Suppose you wanted to collect the names in the above list that have six letters or more. In other programming languages, the typical approach is to create an index variable (i), use i to iterate over the list, and use an if statement to collect the names with six letters or more:\n",
    "\n",
    "i = 0\n",
    "new_list= []\n",
    "while i < len(names):\n",
    "    if len(names[i]) >= 6:\n",
    "        new_list.append(names[i])\n",
    "    i += 1\n",
    "\n",
    "Let's explore some more Pythonic ways of doing this.\n",
    "Instructions 1/3\n",
    "50 XP\n",
    "\n",
    "    1   Print the list, new_list, that was created using a Non-Pythonic approach.\n",
    "\n",
    "    2   A more Pythonic approach would loop over the contents of names, rather than using an index variable. Print better_list.\n",
    "\n",
    "    3   The best Pythonic way of doing this is by using list comprehension. Print best_list."
   ]
  },
  {
   "cell_type": "code",
   "execution_count": 1,
   "id": "1ac527ec-2825-411e-bc89-5d8db7b0c5d2",
   "metadata": {},
   "outputs": [
    {
     "name": "stdout",
     "output_type": "stream",
     "text": [
      "['Kramer', 'Elaine', 'George', 'Newman']\n"
     ]
    }
   ],
   "source": [
    "# Print the list created using the Non-Pythonic approach\n",
    "\n",
    "names = ['Jerry', 'Kramer', 'Elaine', 'George', 'Newman']\n",
    "\n",
    "i = 0\n",
    "new_list= []\n",
    "while i < len(names):\n",
    "    if len(names[i]) >= 6:\n",
    "        new_list.append(names[i])\n",
    "    i += 1\n",
    "print(new_list)"
   ]
  },
  {
   "cell_type": "code",
   "execution_count": 3,
   "id": "71f78da3-1680-47de-987c-ab942c4e032f",
   "metadata": {},
   "outputs": [
    {
     "name": "stdout",
     "output_type": "stream",
     "text": [
      "['Kramer', 'Elaine', 'George', 'Newman']\n"
     ]
    }
   ],
   "source": [
    "names = ['Jerry', 'Kramer', 'Elaine', 'George', 'Newman']\n",
    "\n",
    "new_list = [i for i in names if len(i)>=6]    # I did it on the first shot\n",
    "print(new_list)"
   ]
  },
  {
   "cell_type": "code",
   "execution_count": 4,
   "id": "8eb0c8ce-180a-4859-8596-e27aafe8b1ef",
   "metadata": {},
   "outputs": [
    {
     "name": "stdout",
     "output_type": "stream",
     "text": [
      "['Kramer', 'Elaine', 'George', 'Newman']\n"
     ]
    }
   ],
   "source": [
    "# Print the list created by looping over the contents of names\n",
    "\n",
    "names = ['Jerry', 'Kramer', 'Elaine', 'George', 'Newman']\n",
    "\n",
    "better_list = []\n",
    "for name in names:\n",
    "    if len(name) >= 6:\n",
    "        better_list.append(name)\n",
    "print(better_list)"
   ]
  },
  {
   "cell_type": "code",
   "execution_count": 5,
   "id": "78a60c95-51f7-46d5-bb4f-191c77899c0f",
   "metadata": {},
   "outputs": [
    {
     "name": "stdout",
     "output_type": "stream",
     "text": [
      "['Jerry', 'Kramer', 'Elaine', 'George', 'Newman']\n"
     ]
    }
   ],
   "source": [
    "# Print the list created by using list comprehension\n",
    "\n",
    "names = ['Jerry', 'Kramer', 'Elaine', 'George', 'Newman']\n",
    "\n",
    "best_list = [i for i in names if len(name) >= 6]\n",
    "print(best_list)"
   ]
  },
  {
   "cell_type": "markdown",
   "id": "f4924529-4a67-4bd3-9d88-17f7f4b7b755",
   "metadata": {},
   "source": [
    "## Zen of Python\n",
    "\n",
    "In the video, we covered the Zen of Python written by Tim Peters, which lists 19 idioms that serve as guiding principles for any Pythonista. Python has hundreds of Python Enhancement Proposals, commonly referred to as PEPs. The Zen of Python is one of these PEPs and is documented as PEP20.\n",
    "\n",
    "One little Easter Egg in Python is the ability to print the Zen of Python using the command import this. Let's take a look at one of the idioms listed in these guiding principles.\n",
    "\n",
    "Type and run the command import this within your IPython console and answer the following question:\n",
    "\n",
    "What is the 7th idiom of the Zen of Python?\n",
    "Instructions\n",
    "50 XP\n",
    "Possible Answers\n",
    "\n",
    "    Flat is better than nested.\n",
    "    Beautiful is better than ugly.\n",
    "#   Readability counts.\n",
    "    Python is the best programming language ever.\n",
    "\n"
   ]
  },
  {
   "cell_type": "markdown",
   "id": "ffa8024c-a8fe-4b9a-b1d5-76a3ff87edd1",
   "metadata": {},
   "source": [
    "## Building with built-ins\n",
    "\n",
    "\n",
    " **Built-in components are referred to as the Python Standard Library\n",
    "\n",
    "   built-in types: list, tuple, set, dict\n",
    "    \n",
    "   built-in functions: print(), len(), range(), round(), enumerate(), map(), zip()\n",
    "    \n",
    "   built-in modules: os, sys, intertools, collections, math\n",
    "    \n",
    "    "
   ]
  },
  {
   "cell_type": "code",
   "execution_count": 6,
   "id": "649a09f1-32ca-420d-b128-4cce1aaa22fa",
   "metadata": {},
   "outputs": [
    {
     "data": {
      "text/plain": [
       "[1, 2, 3, 4, 5, 6, 7, 8, 9, 10]"
      ]
     },
     "execution_count": 6,
     "metadata": {},
     "output_type": "execute_result"
    }
   ],
   "source": [
    "num_list = list(range(1,11))\n",
    "\n",
    "num_list"
   ]
  },
  {
   "cell_type": "code",
   "execution_count": 10,
   "id": "8eae0e35-d983-4af4-8385-d0f3ee5a3ad1",
   "metadata": {},
   "outputs": [
    {
     "data": {
      "text/plain": [
       "[(0, 'a'), (1, 'b'), (2, 'c'), (3, 'd'), (4, 'e'), (5, 'f'), (6, 'g')]"
      ]
     },
     "execution_count": 10,
     "metadata": {},
     "output_type": "execute_result"
    }
   ],
   "source": [
    "letters = ['a', 'b', 'c', 'd', 'e', 'f', 'g']\n",
    "new_letters = list(enumerate(letters))\n",
    "new_letters"
   ]
  },
  {
   "cell_type": "code",
   "execution_count": null,
   "id": "62dfb20f-bf90-4c9b-b02e-a303240ff02a",
   "metadata": {},
   "outputs": [],
   "source": []
  },
  {
   "cell_type": "code",
   "execution_count": null,
   "id": "9b5351eb-7ee0-48b8-8b2e-236e816f6f80",
   "metadata": {},
   "outputs": [],
   "source": []
  },
  {
   "cell_type": "code",
   "execution_count": null,
   "id": "9dbbdfe6-4c1c-4a21-a6e7-119da694081e",
   "metadata": {},
   "outputs": [],
   "source": []
  },
  {
   "cell_type": "code",
   "execution_count": null,
   "id": "afe85b2d-b124-498f-9534-312d77e50559",
   "metadata": {},
   "outputs": [],
   "source": []
  },
  {
   "cell_type": "code",
   "execution_count": null,
   "id": "de7bfc06-e810-4895-84c8-7874beeaf808",
   "metadata": {},
   "outputs": [],
   "source": []
  },
  {
   "cell_type": "code",
   "execution_count": null,
   "id": "c84b6523-e824-438b-b420-013811872541",
   "metadata": {},
   "outputs": [],
   "source": []
  },
  {
   "cell_type": "code",
   "execution_count": null,
   "id": "1baa5d57-c37d-416e-a5aa-b89ca1995bc7",
   "metadata": {},
   "outputs": [],
   "source": []
  },
  {
   "cell_type": "code",
   "execution_count": null,
   "id": "639fac2c-829b-435d-8acd-f0391b8fbf67",
   "metadata": {},
   "outputs": [],
   "source": []
  },
  {
   "cell_type": "code",
   "execution_count": null,
   "id": "f353802e-f689-49b8-b1e5-f935308a89cb",
   "metadata": {},
   "outputs": [],
   "source": []
  },
  {
   "cell_type": "code",
   "execution_count": null,
   "id": "0858b901-b0b9-4aaa-b605-9f3a15f32b8f",
   "metadata": {},
   "outputs": [],
   "source": []
  },
  {
   "cell_type": "code",
   "execution_count": null,
   "id": "e16e06dd-1714-42f1-85e9-70917afbf865",
   "metadata": {},
   "outputs": [],
   "source": []
  }
 ],
 "metadata": {
  "kernelspec": {
   "display_name": "Python 3 (ipykernel)",
   "language": "python",
   "name": "python3"
  },
  "language_info": {
   "codemirror_mode": {
    "name": "ipython",
    "version": 3
   },
   "file_extension": ".py",
   "mimetype": "text/x-python",
   "name": "python",
   "nbconvert_exporter": "python",
   "pygments_lexer": "ipython3",
   "version": "3.9.2"
  }
 },
 "nbformat": 4,
 "nbformat_minor": 5
}
