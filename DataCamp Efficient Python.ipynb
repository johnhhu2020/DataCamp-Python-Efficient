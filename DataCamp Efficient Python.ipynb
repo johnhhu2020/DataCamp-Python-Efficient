{
 "cells": [
  {
   "cell_type": "markdown",
   "id": "cae0df75-7ece-471a-bbb9-5661032618f0",
   "metadata": {},
   "source": [
    "##  Foundations for efficiencies\n",
    "\n",
    "In this chapter, you'll learn what it means to write efficient Python code. You'll explore Python's Standard Library, learn about NumPy arrays, and practice using some of Python's built-in tools. This chapter builds a foundation for the concepts covered ahead.\n",
    "\n",
    "    Welcome!    50 xp\n",
    "    Pop quiz: what is efficient    50 xp\n",
    "    A taste of things to come    100 xp\n",
    "    Zen of Python    35 xp\n",
    "    Building with built-ins    50 xp\n",
    "    Built-in practice: range()    100 xp\n",
    "    Built-in practice: enumerate()    100 xp\n",
    "    Built-in practice: map()    100 xp\n",
    "    The power of NumPy arrays    50 xp\n",
    "    Practice with NumPy arrays    100 xp\n",
    "    Bringing it all together: Festivus!    100 xp\n"
   ]
  },
  {
   "cell_type": "markdown",
   "id": "46a8ea61-f135-47c3-8ae5-d152b109baf0",
   "metadata": {},
   "source": [
    "##  Timing and profiling code\n",
    "\n",
    "In this chapter, you will learn how to gather and compare runtimes between different coding approaches. You'll practice using the line_profiler and memory_profiler packages to profile your code base and spot bottlenecks. Then, you'll put your learnings to practice by replacing these bottlenecks with efficient Python code.\n",
    "\n",
    "    Examining runtime    50 xp\n",
    "    Using %timeit: your turn!    100 xp\n",
    "    Using %timeit: specifying number of runs and loops    50 xp\n",
    "    Using %timeit: formal name or literal syntax    100 xp\n",
    "    Using cell magic mode (%%timeit)    50 xp\n",
    "    Code profiling for runtime    50 xp\n",
    "    Pop quiz: steps for using %lprun    50 xp\n",
    "    Using %lprun: spot bottlenecks    50 xp\n",
    "    Using %lprun: fix the bottleneck    50 xp\n",
    "    Code profiling for memory usage    50 xp\n",
    "    Pop quiz: steps for using %mprun    50 xp\n",
    "    Using %mprun: Hero BMI    50 xp\n",
    "    Using %mprun: Hero BMI 2.0    50 xp\n",
    "    Bringing it all together: Star Wars profiling    100 xp \n",
    "    "
   ]
  },
  {
   "cell_type": "markdown",
   "id": "93a2039b-46e2-4ee6-9fcd-37afb79499a4",
   "metadata": {},
   "source": [
    "##  Gaining efficiencies\n",
    "\n",
    "This chapter covers more complex efficiency tips and tricks. You'll learn a few useful built-in modules for writing efficient code and practice using set theory. You'll then learn about looping patterns in Python and how to make them more efficient.\n",
    "\n",
    "    Efficiently combining, counting, and iterating    50 xp\n",
    "    Combining Pokémon names and types    100 xp\n",
    "    Counting Pokémon from a sample    100 xp\n",
    "    Combinations of Pokémon    100 xp\n",
    "    Set theory    50 xp\n",
    "    Comparing Pokédexes    100 xp\n",
    "    Searching for Pokémon    100 xp\n",
    "    Gathering unique Pokémon    100 xp\n",
    "    Eliminating loops    50 xp\n",
    "    Gathering Pokémon without a loop    100 xp\n",
    "    Pokémon totals and averages without a loop    100 xp\n",
    "    Writing better loops    50 xp\n",
    "    One-time calculation loop    100 xp\n",
    "    Holistic conversion loop    100 xp\n",
    "    Bringing it all together: Pokémon z-scores    100 xp \n",
    "    "
   ]
  },
  {
   "cell_type": "markdown",
   "id": "8a6929ad-5e13-4409-92b6-1e26390e30e3",
   "metadata": {},
   "source": [
    "##  Basic pandas optimizations\n",
    "\n",
    "This chapter offers a brief introduction on how to efficiently work with pandas DataFrames. You'll learn the various options you have for iterating over a DataFrame. Then, you'll learn how to efficiently apply functions to data stored in a DataFrame.\n",
    "\n",
    "    Intro to pandas DataFrame iteration    50 xp\n",
    "    Iterating with .iterrows()    100 xp\n",
    "    Run differentials with .iterrows()    100 xp\n",
    "    Another iterator method: .itertuples()    50 xp\n",
    "    Iterating with .itertuples()    100 xp\n",
    "    Run differentials with .itertuples()    100 xp\n",
    "    pandas alternative to looping    50 xp\n",
    "    Analyzing baseball stats with .apply()    100 xp\n",
    "    Settle a debate with .apply()    100 xp\n",
    "    Optimal pandas iterating    50 xp\n",
    "    Replacing .iloc with underlying arrays    100 xp\n",
    "    Bringing it all together: Predict win percentage    100 xp\n",
    "    Congratulations!    50 xp\n"
   ]
  },
  {
   "cell_type": "code",
   "execution_count": null,
   "id": "e9623b95-4fb2-4096-94ee-86970a756fdb",
   "metadata": {},
   "outputs": [],
   "source": []
  },
  {
   "cell_type": "code",
   "execution_count": null,
   "id": "69e184b4-5506-4744-996c-629ca3aefed5",
   "metadata": {},
   "outputs": [],
   "source": []
  },
  {
   "cell_type": "markdown",
   "id": "06a1e634-b641-45a8-a7cb-581740cafb52",
   "metadata": {},
   "source": [
    "## In this course, you'll learn how to write cleaner, faster, and more efficient Python code\n",
    "\n",
    "   **.We'll explore how to time and profile your code in order to find potential bottlenecks\n",
    "   ** And learn practice eliminating these bottlenecks, and other bad design patterns, using Python's standard Library, NumPy and Pandas\n",
    "   \n",
    "   **After completing thise course, you''ll have everything you need to start writting elegant and efficient Python code. \n",
    "\n",
    "\n",
    "\n",
    "**Efficient refers to code that satisfiees two key concepts. \n",
    "   **first, fast to run and small latency between execution and returningg result\n",
    "   **second, allocates resources skillfully and isn't subjected to unnecessary overhead"
   ]
  },
  {
   "cell_type": "code",
   "execution_count": 26,
   "id": "3597820d-b4f3-4cbc-941a-d441bdaf8129",
   "metadata": {},
   "outputs": [
    {
     "name": "stdout",
     "output_type": "stream",
     "text": [
      "[2, 6, 10, 14, 18]\n",
      "[2, 6, 10, 14, 18]\n"
     ]
    }
   ],
   "source": [
    "# Non-Pythonic\n",
    "numbers = [1, 3, 5, 7, 9]\n",
    "\n",
    "double_numbers = []\n",
    "\n",
    "for i in range(len(numbers)):\n",
    "    double_numbers.append(numbers[i]*2)\n",
    "print(double_numbers)\n",
    "# *************************************************************************************************** #\n",
    "\n",
    "    \n",
    "# Pythonic\n",
    "double_numbers = [x*2 for x in numbers]\n",
    "print(double_numbers)"
   ]
  },
  {
   "cell_type": "markdown",
   "id": "4f83e0e0-2c1b-4ed9-9ef1-4b63051f2121",
   "metadata": {},
   "source": [
    "## Things you should know:\n",
    "\n",
    "\n",
    "   **Data types typically used in Data Science**\n",
    "      Data Types for Data Science\n",
    "   \n",
    "   **Writing and using your own functions**\n",
    "      Python Data Science Toolbox(part 1)\n",
    "   \n",
    "   **Anonymous functions(lambda expressions)**\n",
    "      Python Data Science Toolbox(part 1)\n",
    "      \n",
    "   **Writing and using list comprehensions**\n",
    "      Python Data Science Toolbox(part 2)"
   ]
  },
  {
   "cell_type": "markdown",
   "id": "e41bdaa2-f1ec-45be-9185-666e8ddd8223",
   "metadata": {},
   "source": [
    "## A taste of things to come\n",
    "\n",
    "In this exercise, you'll explore both the Non-Pythonic and Pythonic ways of looping over a list.\n",
    "\n",
    "names = ['Jerry', 'Kramer', 'Elaine', 'George', 'Newman']\n",
    "\n",
    "Suppose you wanted to collect the names in the above list that have six letters or more. In other programming languages, the typical approach is to create an index variable (i), use i to iterate over the list, and use an if statement to collect the names with six letters or more:\n",
    "\n",
    "i = 0\n",
    "new_list= []\n",
    "while i < len(names):\n",
    "    if len(names[i]) >= 6:\n",
    "        new_list.append(names[i])\n",
    "    i += 1\n",
    "\n",
    "Let's explore some more Pythonic ways of doing this.\n",
    "Instructions 1/3\n",
    "50 XP\n",
    "\n",
    "    1   Print the list, new_list, that was created using a Non-Pythonic approach.\n",
    "\n",
    "    2   A more Pythonic approach would loop over the contents of names, rather than using an index variable. Print better_list.\n",
    "\n",
    "    3   The best Pythonic way of doing this is by using list comprehension. Print best_list."
   ]
  },
  {
   "cell_type": "code",
   "execution_count": 25,
   "id": "1ac527ec-2825-411e-bc89-5d8db7b0c5d2",
   "metadata": {},
   "outputs": [
    {
     "name": "stdout",
     "output_type": "stream",
     "text": [
      "['Kramer', 'Elaine', 'George', 'Newman']\n"
     ]
    }
   ],
   "source": [
    "# Print the list created using the Non-Pythonic approach\n",
    "\n",
    "\n",
    "names = ['Jerry', 'Kramer', 'Elaine', 'George', 'Newman']\n",
    "\n",
    "i = 0\n",
    "new_list= []\n",
    "while i < len(names):\n",
    "    if len(names[i]) >= 6:\n",
    "        new_list.append(names[i])\n",
    "    i += 1\n",
    "print(new_list)"
   ]
  },
  {
   "cell_type": "code",
   "execution_count": 3,
   "id": "71f78da3-1680-47de-987c-ab942c4e032f",
   "metadata": {},
   "outputs": [
    {
     "name": "stdout",
     "output_type": "stream",
     "text": [
      "['Kramer', 'Elaine', 'George', 'Newman']\n"
     ]
    }
   ],
   "source": [
    "names = ['Jerry', 'Kramer', 'Elaine', 'George', 'Newman']\n",
    "\n",
    "new_list = [i for i in names if len(i)>=6]    # I did it on the first shot\n",
    "print(new_list)"
   ]
  },
  {
   "cell_type": "code",
   "execution_count": 22,
   "id": "8eb0c8ce-180a-4859-8596-e27aafe8b1ef",
   "metadata": {},
   "outputs": [
    {
     "name": "stdout",
     "output_type": "stream",
     "text": [
      "['Kramer', 'Elaine', 'George', 'Newman']\n"
     ]
    }
   ],
   "source": [
    "# Print the list created by looping over the contents of names\n",
    "\n",
    "\n",
    "names = ['Jerry', 'Kramer', 'Elaine', 'George', 'Newman']\n",
    "\n",
    "better_list = []\n",
    "for name in names:\n",
    "    if len(name) >= 6:\n",
    "        better_list.append(name)\n",
    "print(better_list)"
   ]
  },
  {
   "cell_type": "code",
   "execution_count": 24,
   "id": "78a60c95-51f7-46d5-bb4f-191c77899c0f",
   "metadata": {},
   "outputs": [
    {
     "name": "stdout",
     "output_type": "stream",
     "text": [
      "['Jerry', 'Kramer', 'Elaine', 'George', 'Newman']\n"
     ]
    }
   ],
   "source": [
    "# Print the list created by using list comprehension\n",
    "# *************************************************************************************************** #\n",
    "\n",
    "\n",
    "names = ['Jerry', 'Kramer', 'Elaine', 'George', 'Newman']\n",
    "\n",
    "best_list = [i for i in names if len(name) >= 6]\n",
    "print(best_list)"
   ]
  },
  {
   "cell_type": "markdown",
   "id": "f4924529-4a67-4bd3-9d88-17f7f4b7b755",
   "metadata": {},
   "source": [
    "## Zen of Python\n",
    "\n",
    "In the video, we covered the Zen of Python written by Tim Peters, which lists 19 idioms that serve as guiding principles for any Pythonista. Python has hundreds of Python Enhancement Proposals, commonly referred to as PEPs. The Zen of Python is one of these PEPs and is documented as PEP20.\n",
    "\n",
    "One little Easter Egg in Python is the ability to print the Zen of Python using the command import this. Let's take a look at one of the idioms listed in these guiding principles.\n",
    "\n",
    "Type and run the command import this within your IPython console and answer the following question:\n",
    "\n",
    "What is the 7th idiom of the Zen of Python?\n",
    "Instructions\n",
    "50 XP\n",
    "Possible Answers\n",
    "\n",
    "    Flat is better than nested.\n",
    "    Beautiful is better than ugly.\n",
    "#   Readability counts.\n",
    "    Python is the best programming language ever.\n",
    "\n"
   ]
  },
  {
   "cell_type": "markdown",
   "id": "ffa8024c-a8fe-4b9a-b1d5-76a3ff87edd1",
   "metadata": {},
   "source": [
    "## Building with built-ins\n",
    "\n",
    "\n",
    " **Built-in components are referred to as the Python Standard Library\n",
    "\n",
    "   built-in types: list, tuple, set, dict\n",
    "    \n",
    "   built-in functions: print(), len(), range(), round(), enumerate(), map(), zip()\n",
    "    \n",
    "   built-in modules: os, sys, intertools, collections, math\n",
    "    \n",
    "    "
   ]
  },
  {
   "cell_type": "code",
   "execution_count": 21,
   "id": "649a09f1-32ca-420d-b128-4cce1aaa22fa",
   "metadata": {},
   "outputs": [
    {
     "name": "stdout",
     "output_type": "stream",
     "text": [
      "[1, 2, 3, 4, 5, 6, 7, 8, 9, 10]\n"
     ]
    },
    {
     "data": {
      "text/plain": [
       "\u001b[0;31mType:\u001b[0m        range\n",
       "\u001b[0;31mString form:\u001b[0m range(1, 25, 3)\n",
       "\u001b[0;31mLength:\u001b[0m      8\n",
       "\u001b[0;31mDocstring:\u001b[0m  \n",
       "range(stop) -> range object\n",
       "range(start, stop[, step]) -> range object\n",
       "\n",
       "Return an object that produces a sequence of integers from start (inclusive)\n",
       "to stop (exclusive) by step.  range(i, j) produces i, i+1, i+2, ..., j-1.\n",
       "start defaults to 0, and stop is omitted!  range(4) produces 0, 1, 2, 3.\n",
       "These are exactly the valid indices for a list of 4 elements.\n",
       "When step is given, it specifies the increment (or decrement).\n"
      ]
     },
     "metadata": {},
     "output_type": "display_data"
    }
   ],
   "source": [
    "# Buildin function: range()\n",
    "   # The range() function returns a range object, \n",
    "   # which we can convert into a list\n",
    "   # range() can also accept a start, stop, step value\n",
    "# *************************************************************************************************** #\n",
    "\n",
    "\n",
    "num_list = list(range(1,11))\n",
    "n_list = range(1,25,3)\n",
    "\n",
    "?n_list\n",
    "print(num_list)"
   ]
  },
  {
   "cell_type": "code",
   "execution_count": 47,
   "id": "8eae0e35-d983-4af4-8385-d0f3ee5a3ad1",
   "metadata": {},
   "outputs": [
    {
     "name": "stdout",
     "output_type": "stream",
     "text": [
      "<enumerate object at 0x7fd33035cfc0>\n",
      "(0, 'a') (1, 'b') (2, 'c') (3, 'd') (4, 'e') (5, 'f') (6, 'g')\n",
      "[]\n",
      "[(0, 'a'), (1, 'b'), (2, 'c'), (3, 'd'), (4, 'e'), (5, 'f'), (6, 'g')]\n",
      "[(2, 'a'), (3, 'b'), (4, 'c'), (5, 'd'), (6, 'e'), (7, 'f'), (8, 'g')]\n"
     ]
    }
   ],
   "source": [
    "# Buildin function: enumerate()\n",
    "    # enumerate() create an index item pair for each item in the object provided\n",
    "    # For example, calling enumerate on the list letters produces a sequence of indexed values\n",
    "    # Similar to range(), enumerate() returns an enumerate object, can be converted into a list too\n",
    "    \n",
    "    # We can also specify the starting index of enumerate with the keyword argument start\n",
    "# *************************************************************************************************** #\n",
    "\n",
    "\n",
    "letters = ['a', 'b', 'c', 'd', 'e', 'f', 'g']\n",
    "n_letters = enumerate(letters)\n",
    "print(n_letters)\n",
    "print(*n_letters)\n",
    "print([*n_letters])\n",
    "\n",
    "new_letters = list(enumerate(letters))\n",
    "print(new_letters)\n",
    "\n",
    "nn_letters = list(enumerate(letters, start=2))\n",
    "print(nn_letters)"
   ]
  },
  {
   "cell_type": "code",
   "execution_count": 91,
   "id": "62dfb20f-bf90-4c9b-b02e-a303240ff02a",
   "metadata": {},
   "outputs": [
    {
     "name": "stdout",
     "output_type": "stream",
     "text": [
      "[2, 2, 3, 5, 5]\n",
      "[2.25, 5.289999999999999, 11.559999999999999, 21.159999999999997, 25.0]\n",
      "[]\n",
      "2.25 5.289999999999999 11.559999999999999 21.159999999999997 25.0\n",
      "[2.25, 5.289999999999999, 11.559999999999999, 21.159999999999997, 25.0]\n",
      "[0, 1, 2, 3, 4, 5, 6, 7, 8, 9, 10, 11, 12, 13, 14]\n"
     ]
    }
   ],
   "source": [
    "# Buildin function: map()\n",
    "    # The last buildin function we'll cover is map()\n",
    "    # map() applies function into each element in an object\n",
    "    \n",
    "    # map() can also be used with lambda, or anonymous function\n",
    "    # The map() function provides a quick and clean way to apply a function to an object iteratively\n",
    "# *************************************************************************************************** #\n",
    "\n",
    "\n",
    "nums = [1.5, 2.3, 3.4, 4.6, 5.0]\n",
    "\n",
    "rnd_nums = map(round, nums)\n",
    "print(list(rnd_nums))\n",
    "\n",
    "surd_nums = map(lambda x: x**2, nums)\n",
    "# *************************************************************************************************** #\n",
    "print(list(surd_nums))\n",
    "print([*surd_nums])   # My guessing is nested function caused * unpacking failure ******************* #\n",
    "print(*map(lambda x: x**2, nums))\n",
    "print([*map(lambda x: x**2, nums)])\n",
    "# *************************************************************************************************** #\n",
    "# In this tutorial, we will learn how to use the asterisk (*) operator to unpack iterable objects, \n",
    "# and two asterisks (**) to unpack dictionaries.\n",
    "# *************************************************************************************************** #\n",
    "nn = [*range(15)]\n",
    "print(nn)"
   ]
  },
  {
   "cell_type": "markdown",
   "id": "f13e5875-f751-44ed-bdb6-44ffb0907bbd",
   "metadata": {},
   "source": [
    "## Packing With the * Operator\n",
    "\n",
    "The * operator is known, in this context, as the tuple (or iterable) unpacking operator. It extends the unpacking functionality to allow us to collect or pack multiple values in a single variable. In the following example, we pack a tuple of values into a single variable by using the * operator:\n",
    "\n",
    ">>> *a, = 1, 2\n",
    ">>> a\n",
    "[1, 2]\n",
    "\n",
    "For this code to work, the left side of the assignment must be a tuple (or a list). That's why we use a trailing comma. This tuple can contain as many variables as we need. However, it can only contain one starred expression."
   ]
  },
  {
   "cell_type": "code",
   "execution_count": 90,
   "id": "f063eed2-ee4a-48ac-a96a-fa134fd5f9f3",
   "metadata": {},
   "outputs": [
    {
     "name": "stdout",
     "output_type": "stream",
     "text": [
      "['Joh', 'Jho', 'Jo']\n",
      "[1.5, 2.3, 3.4, 4.6, 5.0]\n",
      "{'a': 1, 'b': 2, 'c': 3}\n",
      "{'a': 1, 'b': 2, 'c': 3, 'd': 4, 'e': 5, 'f': 6}\n"
     ]
    }
   ],
   "source": [
    "# We can also use the * operator to pack multiple values into a single variable. \n",
    "\n",
    "[*names] = 'Joh', 'Jho', 'Jo'\n",
    "print(names)\n",
    "\n",
    "[*nums] = [1.5, 2.3, 3.4, 4.6, 5.0]\n",
    "print(nums)\n",
    "\n",
    "\n",
    "num_dict = {'a': 1, 'b': 2, 'c': 3}\n",
    "num_dict_2 = {'d': 4, 'e': 5, 'f': 6}\n",
    "#n_dict = [**num_dict]\n",
    "n_dict = {**num_dict}\n",
    "print(n_dict)\n",
    "\n",
    "new_dict = {**num_dict, **num_dict_2}\n",
    "print(new_dict)"
   ]
  },
  {
   "cell_type": "markdown",
   "id": "cba07ef5-6ac5-4bb9-bf2e-0582899108e0",
   "metadata": {},
   "source": [
    "## Built-in practice: range()\n",
    "\n",
    "In this exercise, you will practice using Python's built-in function range(). Remember that you can use range() in a few different ways:\n",
    "\n",
    "1) Create a sequence of numbers from 0 to a stop value (which is exclusive). This is useful when you want to create a simple sequence of numbers starting at zero:\n",
    "\n",
    "range(stop)\n",
    "\n",
    "# Example\n",
    "list(range(11))\n",
    "\n",
    "[0, 1, 2, 3, 4, 5, 6, 7, 8, 9, 10]\n",
    "\n",
    "2) Create a sequence of numbers from a start value to a stop value (which is exclusive) with a step size. This is useful when you want to create a sequence of numbers that increments by some value other than one. For example, a list of even numbers:\n",
    "\n",
    "range(start, stop, step)\n",
    "\n",
    "# Example\n",
    "list(range(2,11,2))\n",
    "\n",
    "[2, 4, 6, 8, 10]\n",
    "\n",
    "Instructions\n",
    "100 XP\n",
    "\n",
    "    Create a range object that starts at zero and ends at five. Only use a stop argument.\n",
    "    Convert the nums variable into a list called nums_list.\n",
    "    Create a new list called nums_list2 that starts at one, ends at eleven, and increments by two by \n",
    "# unpacking a range object using the star character (*).\n",
    "\n",
    "Hint\n",
    "\n",
    "    The stop argument in range() is exclusive. This means range(11) will create a range object from zero to ten.\n",
    "    To convert an object y into a list, you can use the command list(y).\n",
    "    You can unpack an object z into a list by using the command [*z].\n"
   ]
  },
  {
   "cell_type": "code",
   "execution_count": 92,
   "id": "9dbbdfe6-4c1c-4a21-a6e7-119da694081e",
   "metadata": {},
   "outputs": [
    {
     "name": "stdout",
     "output_type": "stream",
     "text": [
      "<class 'range'>\n",
      "0 1 2 3 4 5\n",
      "[0, 1, 2, 3, 4, 5]\n",
      "[1, 3, 5, 7, 9, 11]\n"
     ]
    }
   ],
   "source": [
    "# Create a range object that goes from 0 to 5\n",
    "nums = range(6)\n",
    "print(type(nums))\n",
    "print(*nums)  # My guessing is nested function caused * unpacking failure *************************** #\n",
    "# *************************************************************************************************** #\n",
    "\n",
    "# Convert nums to a list\n",
    "nums_list = list(nums)\n",
    "print(nums_list)\n",
    "\n",
    "# Create a new list of odd numbers from 1 to 11 by unpacking a range object\n",
    "nums_list2 = [*range(1,12,2)]\n",
    "# *************************************************************************************************** #\n",
    "print(nums_list2)"
   ]
  },
  {
   "cell_type": "markdown",
   "id": "617efcd0-34e0-4bde-9529-c1e9abab5f96",
   "metadata": {},
   "source": [
    "## Built-in practice: enumerate()\n",
    "\n",
    "In this exercise, you'll practice using Python's built-in function enumerate(). This function is useful for obtaining an indexed list. For example, suppose you had a list of people that arrived at a party you are hosting. The list is ordered by arrival (Jerry was the first to arrive, followed by Kramer, etc.):\n",
    "\n",
    "names = ['Jerry', 'Kramer', 'Elaine', 'George', 'Newman']\n",
    "\n",
    "If you wanted to attach an index representing a person's arrival order, you could use the following for loop:\n",
    "\n",
    "indexed_names = []\n",
    "for i in range(len(names)):\n",
    "    index_name = (i, names[i])\n",
    "    indexed_names.append(index_name)\n",
    "\n",
    "[(0,'Jerry'),(1,'Kramer'),(2,'Elaine'),(3,'George'),(4,'Newman')]\n",
    "\n",
    "But, that's not the most efficient solution. Let's explore how to use enumerate() to make this more efficient.\n",
    "Instructions\n",
    "100 XP\n",
    "\n",
    "    Instead of using for i in range(len(names)), update the for loop to use i as the index variable and name as the iterator variable and use enumerate().\n",
    "    Rewrite the previous for loop using enumerate() and list comprehension to create a new list, indexed_names_comp.\n",
    "    Create another list (indexed_names_unpack) by using the star character (*) to unpack the enumerate object created from using enumerate() on names. This time, start the index for enumerate() at one instead of zero.\n",
    "\n",
    "Hint\n",
    "\n",
    "    When using enumerate() in a for loop, the first variable is an index variable. The second variable is the iterator variable.\n",
    "    Use i as the index variable and name as the iterator variable in your list comprehension.\n",
    "    To unpack an enumerate object, use a star character (*) before the enumerate() function.\n",
    "    enumerate(names, s) will specify s as a starting index.\n"
   ]
  },
  {
   "cell_type": "code",
   "execution_count": 37,
   "id": "de7bfc06-e810-4895-84c8-7874beeaf808",
   "metadata": {},
   "outputs": [
    {
     "name": "stdout",
     "output_type": "stream",
     "text": [
      "[(0, 'Jerry'), (1, 'Kramer'), (2, 'Elaine'), (3, 'George'), (4, 'Newman')]\n",
      "[(0, 'Jerry'), (1, 'Kramer'), (2, 'Elaine'), (3, 'George'), (4, 'Newman')]\n",
      "[<enumerate object at 0x7fd330293f80>]\n"
     ]
    }
   ],
   "source": [
    "names = ['Jerry', 'Kramer', 'Elaine', 'George', 'Newman']\n",
    "\n",
    "# Rewrite the for loop to use enumerate\n",
    "indexed_names = []\n",
    "for i,name in enumerate(names):\n",
    "    index_name = (i,name)\n",
    "    indexed_names.append(index_name) \n",
    "print(indexed_names)\n",
    "\n",
    "# Rewrite the above for loop using list comprehension\n",
    "indexed_names_comp = [(i,name) for i,name in enumerate(names)]\n",
    "print(indexed_names_comp)\n",
    "\n",
    "# Unpack an enumerate object with a starting index of one\n",
    "indexed_names_unpack = [enumerate(names, start=1)]\n",
    "print(indexed_names_unpack)"
   ]
  },
  {
   "cell_type": "code",
   "execution_count": 53,
   "id": "c84b6523-e824-438b-b420-013811872541",
   "metadata": {},
   "outputs": [
    {
     "name": "stdout",
     "output_type": "stream",
     "text": [
      "[(0, 'Jerry'), (1, 'Kramer'), (2, 'Elaine'), (3, 'George'), (4, 'Newman')]\n",
      "[(0, 'Jerry'), (1, 'Kramer'), (2, 'Elaine'), (3, 'George'), (4, 'Newman')]\n",
      "[(1, 'Jerry'), (2, 'Kramer'), (3, 'Elaine'), (4, 'George'), (5, 'Newman')]\n"
     ]
    }
   ],
   "source": [
    "names = ['Jerry', 'Kramer', 'Elaine', 'George', 'Newman']\n",
    "\n",
    "# Rewrite the for loop to use enumerate\n",
    "indexed_names = []\n",
    "for i,name in enumerate(names):\n",
    "    index_name = (i,name)\n",
    "    indexed_names.append(index_name) \n",
    "print(indexed_names)\n",
    "\n",
    "# Rewrite the above for loop using list comprehension\n",
    "indexed_names_comp = [(i,name) for i,name in enumerate(names)]\n",
    "print(indexed_names_comp)\n",
    "\n",
    "# Unpack an enumerate object with a starting index of one\n",
    "indexed_names_unpack = [*enumerate(names, 1)]\n",
    "# *************************************************************************************************** #\n",
    "print(indexed_names_unpack)"
   ]
  },
  {
   "cell_type": "markdown",
   "id": "78afaffc-c261-4d4f-8fec-bf415bdc2af9",
   "metadata": {},
   "source": [
    "## Built-in practice: map()\n",
    "\n",
    "In this exercise, you'll practice using Python's built-in map() function to apply a function to every element of an object. Let's look at a list of party guests:\n",
    "\n",
    "names = ['Jerry', 'Kramer', 'Elaine', 'George', 'Newman']\n",
    "\n",
    "Suppose you wanted to create a new list (called names_uppercase) that converted all the letters in each name to uppercase. you could accomplish this with the below for loop:\n",
    "\n",
    "names_uppercase = []\n",
    "\n",
    "for name in names:\n",
    "  names_uppercase.append(name.upper())\n",
    "\n",
    "['JERRY', 'KRAMER', 'ELAINE', 'GEORGE', 'NEWMAN']\n",
    "\n",
    "Let's explore using the map() function to do this more efficiently in one line of code.\n",
    "Instructions\n",
    "100 XP\n",
    "\n",
    "    Use map() and the method str.upper() to convert each name in the list names to uppercase. Save this to the variable names_map.\n",
    "    Print the data type of names_map.\n",
    "# *****************************************************************************************************\n",
    "#    Unpack the contents of names_map into a list called names_uppercase using the star character (*).\n",
    "    Print names_uppercase and observe its contents.\n"
   ]
  },
  {
   "cell_type": "code",
   "execution_count": 4,
   "id": "00864815-919d-46bd-a281-f891ce16bfcf",
   "metadata": {},
   "outputs": [
    {
     "name": "stdout",
     "output_type": "stream",
     "text": [
      "<class 'map'>\n",
      "['JERRY', 'KRAMER', 'ELAINE', 'GEORGE', 'NEWMAN']\n"
     ]
    }
   ],
   "source": [
    "names = ['JERRY', 'KRAMER', 'ELAINE', 'GEORGE', 'NEWMAN']\n",
    "\n",
    "\n",
    "# Use map to apply str.upper to each element in names\n",
    "names_map  = map(str.upper, names)\n",
    "\n",
    "# Print the type of the names_map\n",
    "print(type(names_map))\n",
    "\n",
    "# Unpack names_map into a list\n",
    "names_uppercase = [*names_map]\n",
    "#names_uppercase = list(names_map)   # Working code\n",
    "\n",
    "# Print the list created above\n",
    "print(names_uppercase)"
   ]
  },
  {
   "cell_type": "markdown",
   "id": "d161cfbe-64f4-4f08-a78b-d84ff62392c3",
   "metadata": {},
   "source": [
    "## The power of NumPy arrays\n",
    "\n",
    "\n",
    "\n",
    "\n",
    "**NumPy or Numerical Python, \n",
    "\n"
   ]
  },
  {
   "cell_type": "code",
   "execution_count": null,
   "id": "aa3943c1-87f8-4a2c-bda9-c645003da9bb",
   "metadata": {},
   "outputs": [],
   "source": []
  },
  {
   "cell_type": "code",
   "execution_count": null,
   "id": "6d0331c0-af48-4b99-8a89-913d59479b94",
   "metadata": {},
   "outputs": [],
   "source": []
  },
  {
   "cell_type": "code",
   "execution_count": null,
   "id": "c0314f02-15bb-4997-b6f9-7c5e97c14c38",
   "metadata": {},
   "outputs": [],
   "source": []
  },
  {
   "cell_type": "code",
   "execution_count": null,
   "id": "3e2ac94a-aaf1-4220-b912-d60f8b332988",
   "metadata": {},
   "outputs": [],
   "source": []
  },
  {
   "cell_type": "code",
   "execution_count": null,
   "id": "037f8592-a5e1-43bc-99e5-5d8fd08491ec",
   "metadata": {},
   "outputs": [],
   "source": []
  },
  {
   "cell_type": "code",
   "execution_count": null,
   "id": "5896c069-acdc-4d51-be59-e949c97998ef",
   "metadata": {},
   "outputs": [],
   "source": []
  },
  {
   "cell_type": "code",
   "execution_count": null,
   "id": "63e5b28a-7fee-4acc-9f46-77375fd13e56",
   "metadata": {},
   "outputs": [],
   "source": []
  },
  {
   "cell_type": "code",
   "execution_count": null,
   "id": "878bfc25-bee1-4ad0-aa6f-3e69b85d0645",
   "metadata": {},
   "outputs": [],
   "source": []
  },
  {
   "cell_type": "code",
   "execution_count": null,
   "id": "c3a6be3a-a3e6-4b40-8ab7-4e3cb0ebf26a",
   "metadata": {},
   "outputs": [],
   "source": []
  },
  {
   "cell_type": "code",
   "execution_count": null,
   "id": "d245f86d-770c-4c18-8dd8-fda965933d12",
   "metadata": {},
   "outputs": [],
   "source": []
  },
  {
   "cell_type": "code",
   "execution_count": null,
   "id": "a6b02fc7-7ed0-4636-a49f-09bff5cf92ec",
   "metadata": {},
   "outputs": [],
   "source": []
  },
  {
   "cell_type": "code",
   "execution_count": null,
   "id": "d1d47d93-2ed9-4856-b7c8-9b712f8653cf",
   "metadata": {},
   "outputs": [],
   "source": []
  },
  {
   "cell_type": "code",
   "execution_count": null,
   "id": "62f2b8d5-de8b-4e9c-ac0a-fb0dc60d433f",
   "metadata": {},
   "outputs": [],
   "source": []
  },
  {
   "cell_type": "code",
   "execution_count": null,
   "id": "1cbf33c6-eed2-45f0-8c1a-7e7edcbfdef2",
   "metadata": {},
   "outputs": [],
   "source": []
  },
  {
   "cell_type": "code",
   "execution_count": null,
   "id": "c1b82688-f734-4776-b04a-ce300e18ed18",
   "metadata": {},
   "outputs": [],
   "source": []
  },
  {
   "cell_type": "code",
   "execution_count": null,
   "id": "50426cf7-3ace-4153-82f1-85223b60488f",
   "metadata": {},
   "outputs": [],
   "source": []
  },
  {
   "cell_type": "code",
   "execution_count": null,
   "id": "d111d60f-0755-43c8-83be-914ec621b31d",
   "metadata": {},
   "outputs": [],
   "source": []
  },
  {
   "cell_type": "code",
   "execution_count": null,
   "id": "682c2acb-f010-4688-a8f5-1eef278e791e",
   "metadata": {},
   "outputs": [],
   "source": []
  },
  {
   "cell_type": "code",
   "execution_count": null,
   "id": "a7120fb9-c787-401b-aaa4-6846e074434d",
   "metadata": {},
   "outputs": [],
   "source": []
  },
  {
   "cell_type": "code",
   "execution_count": null,
   "id": "b88fbcef-e513-4c16-a6d1-c501242758e6",
   "metadata": {},
   "outputs": [],
   "source": []
  },
  {
   "cell_type": "code",
   "execution_count": null,
   "id": "70da3bc1-ba81-431b-ac00-d6b2d7e64a98",
   "metadata": {},
   "outputs": [],
   "source": []
  },
  {
   "cell_type": "code",
   "execution_count": null,
   "id": "9271c4ad-452d-4e9f-92aa-ced28331b0fc",
   "metadata": {},
   "outputs": [],
   "source": []
  },
  {
   "cell_type": "code",
   "execution_count": null,
   "id": "16942256-f4dc-4d96-a61e-94e368030f6b",
   "metadata": {},
   "outputs": [],
   "source": []
  },
  {
   "cell_type": "code",
   "execution_count": null,
   "id": "b07b2baf-382e-4981-a4d5-2f3d0fe67a72",
   "metadata": {},
   "outputs": [],
   "source": []
  },
  {
   "cell_type": "code",
   "execution_count": null,
   "id": "895f410a-66f2-4e3d-8bd7-a51735d69221",
   "metadata": {},
   "outputs": [],
   "source": []
  },
  {
   "cell_type": "code",
   "execution_count": null,
   "id": "a855ce1e-50c9-4fa5-a72c-f2e777d882e6",
   "metadata": {},
   "outputs": [],
   "source": []
  },
  {
   "cell_type": "code",
   "execution_count": null,
   "id": "24bd569f-ca7d-42c6-9452-59fe06ece574",
   "metadata": {},
   "outputs": [],
   "source": []
  },
  {
   "cell_type": "code",
   "execution_count": null,
   "id": "3c3a7049-da2e-4b0c-8ccb-ed734c8f6fa3",
   "metadata": {},
   "outputs": [],
   "source": []
  },
  {
   "cell_type": "code",
   "execution_count": null,
   "id": "e4dddbd8-ffda-44ae-85ac-b9e5f69fb419",
   "metadata": {},
   "outputs": [],
   "source": []
  },
  {
   "cell_type": "code",
   "execution_count": null,
   "id": "9c1ead31-9bd2-42bc-b501-1f36e313c104",
   "metadata": {},
   "outputs": [],
   "source": []
  },
  {
   "cell_type": "code",
   "execution_count": null,
   "id": "ec63f2a6-e45d-4c34-9e52-cf27047ebe8b",
   "metadata": {},
   "outputs": [],
   "source": []
  },
  {
   "cell_type": "code",
   "execution_count": null,
   "id": "a5f5d7fd-0f9e-40dd-a62d-4b669baece17",
   "metadata": {},
   "outputs": [],
   "source": []
  },
  {
   "cell_type": "code",
   "execution_count": null,
   "id": "13a30158-82fc-438b-ae75-4a5be85294f7",
   "metadata": {},
   "outputs": [],
   "source": []
  },
  {
   "cell_type": "code",
   "execution_count": null,
   "id": "d38ab9b5-49e0-4ae8-b51c-35faad4063e2",
   "metadata": {},
   "outputs": [],
   "source": []
  },
  {
   "cell_type": "code",
   "execution_count": null,
   "id": "d3fd471b-232e-43fc-a640-0ab427076525",
   "metadata": {},
   "outputs": [],
   "source": []
  },
  {
   "cell_type": "code",
   "execution_count": null,
   "id": "005a2222-91af-4596-b5b9-9e7f04663ff7",
   "metadata": {},
   "outputs": [],
   "source": []
  },
  {
   "cell_type": "code",
   "execution_count": null,
   "id": "639fac2c-829b-435d-8acd-f0391b8fbf67",
   "metadata": {},
   "outputs": [],
   "source": []
  },
  {
   "cell_type": "code",
   "execution_count": null,
   "id": "f353802e-f689-49b8-b1e5-f935308a89cb",
   "metadata": {},
   "outputs": [],
   "source": []
  },
  {
   "cell_type": "code",
   "execution_count": null,
   "id": "0858b901-b0b9-4aaa-b605-9f3a15f32b8f",
   "metadata": {},
   "outputs": [],
   "source": []
  },
  {
   "cell_type": "code",
   "execution_count": null,
   "id": "e16e06dd-1714-42f1-85e9-70917afbf865",
   "metadata": {},
   "outputs": [],
   "source": []
  }
 ],
 "metadata": {
  "kernelspec": {
   "display_name": "Python 3 (ipykernel)",
   "language": "python",
   "name": "python3"
  },
  "language_info": {
   "codemirror_mode": {
    "name": "ipython",
    "version": 3
   },
   "file_extension": ".py",
   "mimetype": "text/x-python",
   "name": "python",
   "nbconvert_exporter": "python",
   "pygments_lexer": "ipython3",
   "version": "3.9.2"
  }
 },
 "nbformat": 4,
 "nbformat_minor": 5
}
