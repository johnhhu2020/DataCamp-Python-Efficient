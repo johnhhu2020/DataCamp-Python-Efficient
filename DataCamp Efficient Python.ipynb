{
 "cells": [
  {
   "cell_type": "markdown",
   "id": "cae0df75-7ece-471a-bbb9-5661032618f0",
   "metadata": {},
   "source": [
    "##  Foundations for efficiencies\n",
    "\n",
    "In this chapter, you'll learn what it means to write efficient Python code. You'll explore Python's Standard Library, learn about NumPy arrays, and practice using some of Python's built-in tools. This chapter builds a foundation for the concepts covered ahead.\n",
    "\n",
    "    Welcome!    50 xp\n",
    "    Pop quiz: what is efficient    50 xp\n",
    "    A taste of things to come    100 xp\n",
    "    Zen of Python    35 xp\n",
    "    Building with built-ins    50 xp\n",
    "    Built-in practice: range()    100 xp\n",
    "    Built-in practice: enumerate()    100 xp\n",
    "    Built-in practice: map()    100 xp\n",
    "    The power of NumPy arrays    50 xp\n",
    "    Practice with NumPy arrays    100 xp\n",
    "    Bringing it all together: Festivus!    100 xp\n"
   ]
  },
  {
   "cell_type": "markdown",
   "id": "46a8ea61-f135-47c3-8ae5-d152b109baf0",
   "metadata": {},
   "source": [
    "##  Timing and profiling code\n",
    "\n",
    "In this chapter, you will learn how to gather and compare runtimes between different coding approaches. You'll practice using the line_profiler and memory_profiler packages to profile your code base and spot bottlenecks. Then, you'll put your learnings to practice by replacing these bottlenecks with efficient Python code.\n",
    "\n",
    "    Examining runtime    50 xp\n",
    "    Using %timeit: your turn!    100 xp\n",
    "    Using %timeit: specifying number of runs and loops    50 xp\n",
    "    Using %timeit: formal name or literal syntax    100 xp\n",
    "    Using cell magic mode (%%timeit)    50 xp\n",
    "    Code profiling for runtime    50 xp\n",
    "    Pop quiz: steps for using %lprun    50 xp\n",
    "    Using %lprun: spot bottlenecks    50 xp\n",
    "    Using %lprun: fix the bottleneck    50 xp\n",
    "    Code profiling for memory usage    50 xp\n",
    "    Pop quiz: steps for using %mprun    50 xp\n",
    "    Using %mprun: Hero BMI    50 xp\n",
    "    Using %mprun: Hero BMI 2.0    50 xp\n",
    "    Bringing it all together: Star Wars profiling    100 xp \n",
    "    "
   ]
  },
  {
   "cell_type": "markdown",
   "id": "93a2039b-46e2-4ee6-9fcd-37afb79499a4",
   "metadata": {},
   "source": [
    "##  Gaining efficiencies\n",
    "\n",
    "This chapter covers more complex efficiency tips and tricks. You'll learn a few useful built-in modules for writing efficient code and practice using set theory. You'll then learn about looping patterns in Python and how to make them more efficient.\n",
    "\n",
    "    Efficiently combining, counting, and iterating    50 xp\n",
    "    Combining Pokémon names and types    100 xp\n",
    "    Counting Pokémon from a sample    100 xp\n",
    "    Combinations of Pokémon    100 xp\n",
    "    Set theory    50 xp\n",
    "    Comparing Pokédexes    100 xp\n",
    "    Searching for Pokémon    100 xp\n",
    "    Gathering unique Pokémon    100 xp\n",
    "    Eliminating loops    50 xp\n",
    "    Gathering Pokémon without a loop    100 xp\n",
    "    Pokémon totals and averages without a loop    100 xp\n",
    "    Writing better loops    50 xp\n",
    "    One-time calculation loop    100 xp\n",
    "    Holistic conversion loop    100 xp\n",
    "    Bringing it all together: Pokémon z-scores    100 xp \n",
    "    "
   ]
  },
  {
   "cell_type": "markdown",
   "id": "8a6929ad-5e13-4409-92b6-1e26390e30e3",
   "metadata": {},
   "source": [
    "##  Basic pandas optimizations\n",
    "\n",
    "This chapter offers a brief introduction on how to efficiently work with pandas DataFrames. You'll learn the various options you have for iterating over a DataFrame. Then, you'll learn how to efficiently apply functions to data stored in a DataFrame.\n",
    "\n",
    "    Intro to pandas DataFrame iteration    50 xp\n",
    "    Iterating with .iterrows()    100 xp\n",
    "    Run differentials with .iterrows()    100 xp\n",
    "    Another iterator method: .itertuples()    50 xp\n",
    "    Iterating with .itertuples()    100 xp\n",
    "    Run differentials with .itertuples()    100 xp\n",
    "    pandas alternative to looping    50 xp\n",
    "    Analyzing baseball stats with .apply()    100 xp\n",
    "    Settle a debate with .apply()    100 xp\n",
    "    Optimal pandas iterating    50 xp\n",
    "    Replacing .iloc with underlying arrays    100 xp\n",
    "    Bringing it all together: Predict win percentage    100 xp\n",
    "    Congratulations!    50 xp\n"
   ]
  },
  {
   "cell_type": "code",
   "execution_count": null,
   "id": "e9623b95-4fb2-4096-94ee-86970a756fdb",
   "metadata": {},
   "outputs": [],
   "source": []
  },
  {
   "cell_type": "code",
   "execution_count": null,
   "id": "69e184b4-5506-4744-996c-629ca3aefed5",
   "metadata": {},
   "outputs": [],
   "source": []
  },
  {
   "cell_type": "markdown",
   "id": "06a1e634-b641-45a8-a7cb-581740cafb52",
   "metadata": {},
   "source": [
    "## In this course, you'll learn how to write cleaner, faster, and more efficient Python code\n",
    "\n",
    "   **.We'll explore how to time and profile your code in order to find potential bottlenecks\n",
    "   ** And learn practice eliminating these bottlenecks, and other bad design patterns, using Python's standard Library, NumPy and Pandas\n",
    "   \n",
    "   **After completing thise course, you''ll have everything you need to start writting elegant and efficient Python code. \n",
    "\n",
    "\n",
    "\n",
    "**Efficient refers to code that satisfiees two key concepts. \n",
    "   **first, fast to run and small latency between execution and returningg result\n",
    "   **second, allocates resources skillfully and isn't subjected to unnecessary overhead"
   ]
  },
  {
   "cell_type": "code",
   "execution_count": 26,
   "id": "3597820d-b4f3-4cbc-941a-d441bdaf8129",
   "metadata": {},
   "outputs": [
    {
     "name": "stdout",
     "output_type": "stream",
     "text": [
      "[2, 6, 10, 14, 18]\n",
      "[2, 6, 10, 14, 18]\n"
     ]
    }
   ],
   "source": [
    "# Non-Pythonic\n",
    "numbers = [1, 3, 5, 7, 9]\n",
    "\n",
    "double_numbers = []\n",
    "\n",
    "for i in range(len(numbers)):\n",
    "    double_numbers.append(numbers[i]*2)\n",
    "print(double_numbers)\n",
    "# *************************************************************************************************** #\n",
    "\n",
    "    \n",
    "# Pythonic\n",
    "double_numbers = [x*2 for x in numbers]\n",
    "print(double_numbers)"
   ]
  },
  {
   "cell_type": "markdown",
   "id": "4f83e0e0-2c1b-4ed9-9ef1-4b63051f2121",
   "metadata": {},
   "source": [
    "## Things you should know:\n",
    "\n",
    "\n",
    "   **Data types typically used in Data Science**\n",
    "      Data Types for Data Science\n",
    "   \n",
    "   **Writing and using your own functions**\n",
    "      Python Data Science Toolbox(part 1)\n",
    "   \n",
    "   **Anonymous functions(lambda expressions)**\n",
    "      Python Data Science Toolbox(part 1)\n",
    "      \n",
    "   **Writing and using list comprehensions**\n",
    "      Python Data Science Toolbox(part 2)"
   ]
  },
  {
   "cell_type": "markdown",
   "id": "e41bdaa2-f1ec-45be-9185-666e8ddd8223",
   "metadata": {},
   "source": [
    "## A taste of things to come\n",
    "\n",
    "In this exercise, you'll explore both the Non-Pythonic and Pythonic ways of looping over a list.\n",
    "\n",
    "names = ['Jerry', 'Kramer', 'Elaine', 'George', 'Newman']\n",
    "\n",
    "Suppose you wanted to collect the names in the above list that have six letters or more. In other programming languages, the typical approach is to create an index variable (i), use i to iterate over the list, and use an if statement to collect the names with six letters or more:\n",
    "\n",
    "i = 0\n",
    "new_list= []\n",
    "while i < len(names):\n",
    "    if len(names[i]) >= 6:\n",
    "        new_list.append(names[i])\n",
    "    i += 1\n",
    "\n",
    "Let's explore some more Pythonic ways of doing this.\n",
    "Instructions 1/3\n",
    "50 XP\n",
    "\n",
    "    1   Print the list, new_list, that was created using a Non-Pythonic approach.\n",
    "\n",
    "    2   A more Pythonic approach would loop over the contents of names, rather than using an index variable. Print better_list.\n",
    "\n",
    "    3   The best Pythonic way of doing this is by using list comprehension. Print best_list."
   ]
  },
  {
   "cell_type": "code",
   "execution_count": 25,
   "id": "1ac527ec-2825-411e-bc89-5d8db7b0c5d2",
   "metadata": {},
   "outputs": [
    {
     "name": "stdout",
     "output_type": "stream",
     "text": [
      "['Kramer', 'Elaine', 'George', 'Newman']\n"
     ]
    }
   ],
   "source": [
    "# Print the list created using the Non-Pythonic approach\n",
    "\n",
    "\n",
    "names = ['Jerry', 'Kramer', 'Elaine', 'George', 'Newman']\n",
    "\n",
    "i = 0\n",
    "new_list= []\n",
    "while i < len(names):\n",
    "    if len(names[i]) >= 6:\n",
    "        new_list.append(names[i])\n",
    "    i += 1\n",
    "print(new_list)"
   ]
  },
  {
   "cell_type": "code",
   "execution_count": 3,
   "id": "71f78da3-1680-47de-987c-ab942c4e032f",
   "metadata": {},
   "outputs": [
    {
     "name": "stdout",
     "output_type": "stream",
     "text": [
      "['Kramer', 'Elaine', 'George', 'Newman']\n"
     ]
    }
   ],
   "source": [
    "names = ['Jerry', 'Kramer', 'Elaine', 'George', 'Newman']\n",
    "\n",
    "new_list = [i for i in names if len(i)>=6]    # I did it on the first shot\n",
    "print(new_list)"
   ]
  },
  {
   "cell_type": "code",
   "execution_count": 22,
   "id": "8eb0c8ce-180a-4859-8596-e27aafe8b1ef",
   "metadata": {},
   "outputs": [
    {
     "name": "stdout",
     "output_type": "stream",
     "text": [
      "['Kramer', 'Elaine', 'George', 'Newman']\n"
     ]
    }
   ],
   "source": [
    "# Print the list created by looping over the contents of names\n",
    "\n",
    "\n",
    "names = ['Jerry', 'Kramer', 'Elaine', 'George', 'Newman']\n",
    "\n",
    "better_list = []\n",
    "for name in names:\n",
    "    if len(name) >= 6:\n",
    "        better_list.append(name)\n",
    "print(better_list)"
   ]
  },
  {
   "cell_type": "code",
   "execution_count": 24,
   "id": "78a60c95-51f7-46d5-bb4f-191c77899c0f",
   "metadata": {},
   "outputs": [
    {
     "name": "stdout",
     "output_type": "stream",
     "text": [
      "['Jerry', 'Kramer', 'Elaine', 'George', 'Newman']\n"
     ]
    }
   ],
   "source": [
    "# Print the list created by using list comprehension\n",
    "# *************************************************************************************************** #\n",
    "\n",
    "\n",
    "names = ['Jerry', 'Kramer', 'Elaine', 'George', 'Newman']\n",
    "\n",
    "best_list = [i for i in names if len(name) >= 6]\n",
    "print(best_list)"
   ]
  },
  {
   "cell_type": "markdown",
   "id": "f4924529-4a67-4bd3-9d88-17f7f4b7b755",
   "metadata": {},
   "source": [
    "## Zen of Python\n",
    "\n",
    "In the video, we covered the Zen of Python written by Tim Peters, which lists 19 idioms that serve as guiding principles for any Pythonista. Python has hundreds of Python Enhancement Proposals, commonly referred to as PEPs. The Zen of Python is one of these PEPs and is documented as PEP20.\n",
    "\n",
    "One little Easter Egg in Python is the ability to print the Zen of Python using the command import this. Let's take a look at one of the idioms listed in these guiding principles.\n",
    "\n",
    "Type and run the command import this within your IPython console and answer the following question:\n",
    "\n",
    "What is the 7th idiom of the Zen of Python?\n",
    "Instructions\n",
    "50 XP\n",
    "Possible Answers\n",
    "\n",
    "    Flat is better than nested.\n",
    "    Beautiful is better than ugly.\n",
    "#   Readability counts.\n",
    "    Python is the best programming language ever.\n",
    "\n"
   ]
  },
  {
   "cell_type": "markdown",
   "id": "ffa8024c-a8fe-4b9a-b1d5-76a3ff87edd1",
   "metadata": {},
   "source": [
    "## Building with built-ins\n",
    "\n",
    "\n",
    " **Built-in components are referred to as the Python Standard Library\n",
    "\n",
    "   built-in types: list, tuple, set, dict\n",
    "    \n",
    "   built-in functions: print(), len(), range(), round(), enumerate(), map(), zip()\n",
    "    \n",
    "   built-in modules: os, sys, intertools, collections, math\n",
    "    \n",
    "    "
   ]
  },
  {
   "cell_type": "code",
   "execution_count": 21,
   "id": "649a09f1-32ca-420d-b128-4cce1aaa22fa",
   "metadata": {},
   "outputs": [
    {
     "name": "stdout",
     "output_type": "stream",
     "text": [
      "[1, 2, 3, 4, 5, 6, 7, 8, 9, 10]\n"
     ]
    },
    {
     "data": {
      "text/plain": [
       "\u001b[0;31mType:\u001b[0m        range\n",
       "\u001b[0;31mString form:\u001b[0m range(1, 25, 3)\n",
       "\u001b[0;31mLength:\u001b[0m      8\n",
       "\u001b[0;31mDocstring:\u001b[0m  \n",
       "range(stop) -> range object\n",
       "range(start, stop[, step]) -> range object\n",
       "\n",
       "Return an object that produces a sequence of integers from start (inclusive)\n",
       "to stop (exclusive) by step.  range(i, j) produces i, i+1, i+2, ..., j-1.\n",
       "start defaults to 0, and stop is omitted!  range(4) produces 0, 1, 2, 3.\n",
       "These are exactly the valid indices for a list of 4 elements.\n",
       "When step is given, it specifies the increment (or decrement).\n"
      ]
     },
     "metadata": {},
     "output_type": "display_data"
    }
   ],
   "source": [
    "# Buildin function: range()\n",
    "   # The range() function returns a range object, \n",
    "   # which we can convert into a list\n",
    "   # range() can also accept a start, stop, step value\n",
    "# *************************************************************************************************** #\n",
    "\n",
    "\n",
    "num_list = list(range(1,11))\n",
    "n_list = range(1,25,3)\n",
    "\n",
    "?n_list\n",
    "print(num_list)"
   ]
  },
  {
   "cell_type": "code",
   "execution_count": 47,
   "id": "8eae0e35-d983-4af4-8385-d0f3ee5a3ad1",
   "metadata": {},
   "outputs": [
    {
     "name": "stdout",
     "output_type": "stream",
     "text": [
      "<enumerate object at 0x7fd33035cfc0>\n",
      "(0, 'a') (1, 'b') (2, 'c') (3, 'd') (4, 'e') (5, 'f') (6, 'g')\n",
      "[]\n",
      "[(0, 'a'), (1, 'b'), (2, 'c'), (3, 'd'), (4, 'e'), (5, 'f'), (6, 'g')]\n",
      "[(2, 'a'), (3, 'b'), (4, 'c'), (5, 'd'), (6, 'e'), (7, 'f'), (8, 'g')]\n"
     ]
    }
   ],
   "source": [
    "# Buildin function: enumerate()\n",
    "    # enumerate() create an index item pair for each item in the object provided\n",
    "    # For example, calling enumerate on the list letters produces a sequence of indexed values\n",
    "    # Similar to range(), enumerate() returns an enumerate object, can be converted into a list too\n",
    "    \n",
    "    # We can also specify the starting index of enumerate with the keyword argument start\n",
    "# *************************************************************************************************** #\n",
    "\n",
    "\n",
    "letters = ['a', 'b', 'c', 'd', 'e', 'f', 'g']\n",
    "n_letters = enumerate(letters)\n",
    "print(n_letters)\n",
    "print(*n_letters)\n",
    "print([*n_letters])\n",
    "\n",
    "new_letters = list(enumerate(letters))\n",
    "print(new_letters)\n",
    "\n",
    "nn_letters = list(enumerate(letters, start=2))\n",
    "print(nn_letters)"
   ]
  },
  {
   "cell_type": "code",
   "execution_count": 91,
   "id": "62dfb20f-bf90-4c9b-b02e-a303240ff02a",
   "metadata": {},
   "outputs": [
    {
     "name": "stdout",
     "output_type": "stream",
     "text": [
      "[2, 2, 3, 5, 5]\n",
      "[2.25, 5.289999999999999, 11.559999999999999, 21.159999999999997, 25.0]\n",
      "[]\n",
      "2.25 5.289999999999999 11.559999999999999 21.159999999999997 25.0\n",
      "[2.25, 5.289999999999999, 11.559999999999999, 21.159999999999997, 25.0]\n",
      "[0, 1, 2, 3, 4, 5, 6, 7, 8, 9, 10, 11, 12, 13, 14]\n"
     ]
    }
   ],
   "source": [
    "# Buildin function: map()\n",
    "    # The last buildin function we'll cover is map()\n",
    "    # map() applies function into each element in an object\n",
    "    \n",
    "    # map() can also be used with lambda, or anonymous function\n",
    "    # The map() function provides a quick and clean way to apply a function to an object iteratively\n",
    "# *************************************************************************************************** #\n",
    "\n",
    "\n",
    "nums = [1.5, 2.3, 3.4, 4.6, 5.0]\n",
    "\n",
    "rnd_nums = map(round, nums)\n",
    "print(list(rnd_nums))\n",
    "\n",
    "surd_nums = map(lambda x: x**2, nums)\n",
    "# *************************************************************************************************** #\n",
    "print(list(surd_nums))\n",
    "print([*surd_nums])   # My guessing is nested function caused * unpacking failure ******************* #\n",
    "print(*map(lambda x: x**2, nums))\n",
    "print([*map(lambda x: x**2, nums)])\n",
    "# *************************************************************************************************** #\n",
    "# In this tutorial, we will learn how to use the asterisk (*) operator to unpack iterable objects, \n",
    "# and two asterisks (**) to unpack dictionaries.\n",
    "# *************************************************************************************************** #\n",
    "nn = [*range(15)]\n",
    "print(nn)"
   ]
  },
  {
   "cell_type": "markdown",
   "id": "f13e5875-f751-44ed-bdb6-44ffb0907bbd",
   "metadata": {},
   "source": [
    "## Packing With the * Operator\n",
    "\n",
    "The * operator is known, in this context, as the tuple (or iterable) unpacking operator. It extends the unpacking functionality to allow us to collect or pack multiple values in a single variable. In the following example, we pack a tuple of values into a single variable by using the * operator:\n",
    "\n",
    ">>> *a, = 1, 2\n",
    ">>> a\n",
    "[1, 2]\n",
    "\n",
    "For this code to work, the left side of the assignment must be a tuple (or a list). That's why we use a trailing comma. This tuple can contain as many variables as we need. However, it can only contain one starred expression."
   ]
  },
  {
   "cell_type": "code",
   "execution_count": 90,
   "id": "f063eed2-ee4a-48ac-a96a-fa134fd5f9f3",
   "metadata": {},
   "outputs": [
    {
     "name": "stdout",
     "output_type": "stream",
     "text": [
      "['Joh', 'Jho', 'Jo']\n",
      "[1.5, 2.3, 3.4, 4.6, 5.0]\n",
      "{'a': 1, 'b': 2, 'c': 3}\n",
      "{'a': 1, 'b': 2, 'c': 3, 'd': 4, 'e': 5, 'f': 6}\n"
     ]
    }
   ],
   "source": [
    "# We can also use the * operator to pack multiple values into a single variable. \n",
    "\n",
    "[*names] = 'Joh', 'Jho', 'Jo'\n",
    "print(names)\n",
    "\n",
    "[*nums] = [1.5, 2.3, 3.4, 4.6, 5.0]\n",
    "print(nums)\n",
    "\n",
    "\n",
    "num_dict = {'a': 1, 'b': 2, 'c': 3}\n",
    "num_dict_2 = {'d': 4, 'e': 5, 'f': 6}\n",
    "#n_dict = [**num_dict]\n",
    "n_dict = {**num_dict}\n",
    "print(n_dict)\n",
    "\n",
    "new_dict = {**num_dict, **num_dict_2}\n",
    "print(new_dict)"
   ]
  },
  {
   "cell_type": "markdown",
   "id": "cba07ef5-6ac5-4bb9-bf2e-0582899108e0",
   "metadata": {},
   "source": [
    "## Built-in practice: range()\n",
    "\n",
    "In this exercise, you will practice using Python's built-in function range(). Remember that you can use range() in a few different ways:\n",
    "\n",
    "1) Create a sequence of numbers from 0 to a stop value (which is exclusive). This is useful when you want to create a simple sequence of numbers starting at zero:\n",
    "\n",
    "range(stop)\n",
    "\n",
    "# Example\n",
    "list(range(11))\n",
    "\n",
    "[0, 1, 2, 3, 4, 5, 6, 7, 8, 9, 10]\n",
    "\n",
    "2) Create a sequence of numbers from a start value to a stop value (which is exclusive) with a step size. This is useful when you want to create a sequence of numbers that increments by some value other than one. For example, a list of even numbers:\n",
    "\n",
    "range(start, stop, step)\n",
    "\n",
    "# Example\n",
    "list(range(2,11,2))\n",
    "\n",
    "[2, 4, 6, 8, 10]\n",
    "\n",
    "Instructions\n",
    "100 XP\n",
    "\n",
    "    Create a range object that starts at zero and ends at five. Only use a stop argument.\n",
    "    Convert the nums variable into a list called nums_list.\n",
    "    Create a new list called nums_list2 that starts at one, ends at eleven, and increments by two by \n",
    "# unpacking a range object using the star character (*).\n",
    "\n",
    "Hint\n",
    "\n",
    "    The stop argument in range() is exclusive. This means range(11) will create a range object from zero to ten.\n",
    "    To convert an object y into a list, you can use the command list(y).\n",
    "    You can unpack an object z into a list by using the command [*z].\n"
   ]
  },
  {
   "cell_type": "code",
   "execution_count": 92,
   "id": "9dbbdfe6-4c1c-4a21-a6e7-119da694081e",
   "metadata": {},
   "outputs": [
    {
     "name": "stdout",
     "output_type": "stream",
     "text": [
      "<class 'range'>\n",
      "0 1 2 3 4 5\n",
      "[0, 1, 2, 3, 4, 5]\n",
      "[1, 3, 5, 7, 9, 11]\n"
     ]
    }
   ],
   "source": [
    "# Create a range object that goes from 0 to 5\n",
    "nums = range(6)\n",
    "print(type(nums))\n",
    "print(*nums)  # My guessing is nested function caused * unpacking failure *************************** #\n",
    "# *************************************************************************************************** #\n",
    "\n",
    "# Convert nums to a list\n",
    "nums_list = list(nums)\n",
    "print(nums_list)\n",
    "\n",
    "# Create a new list of odd numbers from 1 to 11 by unpacking a range object\n",
    "nums_list2 = [*range(1,12,2)]\n",
    "# *************************************************************************************************** #\n",
    "print(nums_list2)"
   ]
  },
  {
   "cell_type": "markdown",
   "id": "617efcd0-34e0-4bde-9529-c1e9abab5f96",
   "metadata": {},
   "source": [
    "## Built-in practice: enumerate()\n",
    "\n",
    "In this exercise, you'll practice using Python's built-in function enumerate(). This function is useful for obtaining an indexed list. For example, suppose you had a list of people that arrived at a party you are hosting. The list is ordered by arrival (Jerry was the first to arrive, followed by Kramer, etc.):\n",
    "\n",
    "names = ['Jerry', 'Kramer', 'Elaine', 'George', 'Newman']\n",
    "\n",
    "If you wanted to attach an index representing a person's arrival order, you could use the following for loop:\n",
    "\n",
    "indexed_names = []\n",
    "for i in range(len(names)):\n",
    "    index_name = (i, names[i])\n",
    "    indexed_names.append(index_name)\n",
    "\n",
    "[(0,'Jerry'),(1,'Kramer'),(2,'Elaine'),(3,'George'),(4,'Newman')]\n",
    "\n",
    "But, that's not the most efficient solution. Let's explore how to use enumerate() to make this more efficient.\n",
    "Instructions\n",
    "100 XP\n",
    "\n",
    "    Instead of using for i in range(len(names)), update the for loop to use i as the index variable and name as the iterator variable and use enumerate().\n",
    "    Rewrite the previous for loop using enumerate() and list comprehension to create a new list, indexed_names_comp.\n",
    "    Create another list (indexed_names_unpack) by using the star character (*) to unpack the enumerate object created from using enumerate() on names. This time, start the index for enumerate() at one instead of zero.\n",
    "\n",
    "Hint\n",
    "\n",
    "    When using enumerate() in a for loop, the first variable is an index variable. The second variable is the iterator variable.\n",
    "    Use i as the index variable and name as the iterator variable in your list comprehension.\n",
    "    To unpack an enumerate object, use a star character (*) before the enumerate() function.\n",
    "    enumerate(names, s) will specify s as a starting index.\n"
   ]
  },
  {
   "cell_type": "code",
   "execution_count": 37,
   "id": "de7bfc06-e810-4895-84c8-7874beeaf808",
   "metadata": {},
   "outputs": [
    {
     "name": "stdout",
     "output_type": "stream",
     "text": [
      "[(0, 'Jerry'), (1, 'Kramer'), (2, 'Elaine'), (3, 'George'), (4, 'Newman')]\n",
      "[(0, 'Jerry'), (1, 'Kramer'), (2, 'Elaine'), (3, 'George'), (4, 'Newman')]\n",
      "[<enumerate object at 0x7fd330293f80>]\n"
     ]
    }
   ],
   "source": [
    "names = ['Jerry', 'Kramer', 'Elaine', 'George', 'Newman']\n",
    "\n",
    "# Rewrite the for loop to use enumerate\n",
    "indexed_names = []\n",
    "for i,name in enumerate(names):\n",
    "    index_name = (i,name)\n",
    "    indexed_names.append(index_name) \n",
    "print(indexed_names)\n",
    "\n",
    "# Rewrite the above for loop using list comprehension\n",
    "indexed_names_comp = [(i,name) for i,name in enumerate(names)]\n",
    "print(indexed_names_comp)\n",
    "\n",
    "# Unpack an enumerate object with a starting index of one\n",
    "indexed_names_unpack = [enumerate(names, start=1)]\n",
    "print(indexed_names_unpack)"
   ]
  },
  {
   "cell_type": "code",
   "execution_count": 53,
   "id": "c84b6523-e824-438b-b420-013811872541",
   "metadata": {},
   "outputs": [
    {
     "name": "stdout",
     "output_type": "stream",
     "text": [
      "[(0, 'Jerry'), (1, 'Kramer'), (2, 'Elaine'), (3, 'George'), (4, 'Newman')]\n",
      "[(0, 'Jerry'), (1, 'Kramer'), (2, 'Elaine'), (3, 'George'), (4, 'Newman')]\n",
      "[(1, 'Jerry'), (2, 'Kramer'), (3, 'Elaine'), (4, 'George'), (5, 'Newman')]\n"
     ]
    }
   ],
   "source": [
    "names = ['Jerry', 'Kramer', 'Elaine', 'George', 'Newman']\n",
    "\n",
    "# Rewrite the for loop to use enumerate\n",
    "indexed_names = []\n",
    "for i,name in enumerate(names):\n",
    "    index_name = (i,name)\n",
    "    indexed_names.append(index_name) \n",
    "print(indexed_names)\n",
    "\n",
    "# Rewrite the above for loop using list comprehension\n",
    "indexed_names_comp = [(i,name) for i,name in enumerate(names)]\n",
    "print(indexed_names_comp)\n",
    "\n",
    "# Unpack an enumerate object with a starting index of one\n",
    "indexed_names_unpack = [*enumerate(names, 1)]\n",
    "# *************************************************************************************************** #\n",
    "print(indexed_names_unpack)"
   ]
  },
  {
   "cell_type": "markdown",
   "id": "78afaffc-c261-4d4f-8fec-bf415bdc2af9",
   "metadata": {},
   "source": [
    "## Built-in practice: map()\n",
    "\n",
    "In this exercise, you'll practice using Python's built-in map() function to apply a function to every element of an object. Let's look at a list of party guests:\n",
    "\n",
    "names = ['Jerry', 'Kramer', 'Elaine', 'George', 'Newman']\n",
    "\n",
    "Suppose you wanted to create a new list (called names_uppercase) that converted all the letters in each name to uppercase. you could accomplish this with the below for loop:\n",
    "\n",
    "names_uppercase = []\n",
    "\n",
    "for name in names:\n",
    "  names_uppercase.append(name.upper())\n",
    "\n",
    "['JERRY', 'KRAMER', 'ELAINE', 'GEORGE', 'NEWMAN']\n",
    "\n",
    "Let's explore using the map() function to do this more efficiently in one line of code.\n",
    "Instructions\n",
    "100 XP\n",
    "\n",
    "    Use map() and the method str.upper() to convert each name in the list names to uppercase. Save this to the variable names_map.\n",
    "    Print the data type of names_map.\n",
    "# *****************************************************************************************************\n",
    "#    Unpack the contents of names_map into a list called names_uppercase using the star character (*).\n",
    "    Print names_uppercase and observe its contents.\n"
   ]
  },
  {
   "cell_type": "code",
   "execution_count": 4,
   "id": "00864815-919d-46bd-a281-f891ce16bfcf",
   "metadata": {},
   "outputs": [
    {
     "name": "stdout",
     "output_type": "stream",
     "text": [
      "<class 'map'>\n",
      "['JERRY', 'KRAMER', 'ELAINE', 'GEORGE', 'NEWMAN']\n"
     ]
    }
   ],
   "source": [
    "names = ['JERRY', 'KRAMER', 'ELAINE', 'GEORGE', 'NEWMAN']\n",
    "\n",
    "\n",
    "# Use map to apply str.upper to each element in names\n",
    "names_map  = map(str.upper, names)\n",
    "\n",
    "# Print the type of the names_map\n",
    "print(type(names_map))\n",
    "\n",
    "# Unpack names_map into a list\n",
    "names_uppercase = [*names_map]\n",
    "#names_uppercase = list(names_map)   # Working code\n",
    "\n",
    "# Print the list created above\n",
    "print(names_uppercase)"
   ]
  },
  {
   "cell_type": "markdown",
   "id": "d161cfbe-64f4-4f08-a78b-d84ff62392c3",
   "metadata": {},
   "source": [
    "## The power of NumPy arrays\n",
    "\n",
    "\n",
    "\n",
    "\n",
    "**NumPy or Numerical Python, is an invaluable package for DataScientists.  Its the fundamental package for scientific computing in Python and pvovides a number of benefits for writing efficient code.  In this course, we'll highlight one of the most imprtant advantages of NumPy, the NumPy array.  \n",
    "\n",
    "# NumPy arrays provides a fast and menory efficient alternative to Pytho lists.  NumPy arrays are homogeneous, which means that they must contanin elements of the same type.  \n",
    "\n",
    "**We can see the type of each element using the .dtype() method.  \n",
    "\n",
    "\n"
   ]
  },
  {
   "cell_type": "code",
   "execution_count": 16,
   "id": "aa3943c1-87f8-4a2c-bda9-c645003da9bb",
   "metadata": {},
   "outputs": [
    {
     "data": {
      "text/plain": [
       "dtype('float64')"
      ]
     },
     "execution_count": 16,
     "metadata": {},
     "output_type": "execute_result"
    }
   ],
   "source": [
    "import numpy as np\n",
    "\n",
    "weight = [65.4, 59.2, 63.6, 88.4, 68.7]\n",
    "np_weight = np.array(weight)\n",
    "\n",
    "np_weight.dtype\n",
    "#print(dir(np_weight))\n",
    "\n",
    "\n",
    "# *****************************************************************************************************\n",
    "# Shape is a so-called attribute of the np2d array, that can give you more information about \n",
    "# what the data structure looks like.  Note that the syntax for access an attribute looks \n",
    "# a bit like calling a method, but they are not the same.  Remember that the method has \n",
    "# round brackets fater them and you can see here, the attribute do not.  \n"
   ]
  },
  {
   "cell_type": "markdown",
   "id": "c3d01505-ddd3-4455-bf23-ea9723ab15d6",
   "metadata": {},
   "source": [
    "# *****************************************************************************************************\n",
    "# Shape is a so-called attribute of the np2d array, that can give you more information about what the data structure looks like.  Note that the syntax for access an attribute looks a bit like calling a method, but they are not the same.  Remember that the method has round brackets fater them and you can see here, the attribute do not.  \n"
   ]
  },
  {
   "cell_type": "code",
   "execution_count": 18,
   "id": "c0314f02-15bb-4997-b6f9-7c5e97c14c38",
   "metadata": {},
   "outputs": [
    {
     "data": {
      "text/plain": [
       "array([57.36, 65.  , 67.18,  1.  , 70.  ])"
      ]
     },
     "execution_count": 18,
     "metadata": {},
     "output_type": "execute_result"
    }
   ],
   "source": [
    "height = [57.36, 65, 67.18, True, 70]\n",
    "\n",
    "np_height = np.array(height)\n",
    "np_height"
   ]
  },
  {
   "cell_type": "markdown",
   "id": "5a23e5e5-3912-40c9-9503-92eec9aafc06",
   "metadata": {},
   "source": [
    "# **In above array, the integer and boolean are preceeding dot in the array, that because NumPy converts the integer and boolean to float to retain that array's homogeneous nature.  \n",
    "\n",
    "# Homogeneity allows NumPy array to be more memory efficient and faster than Python lists.  \n",
    "**Requiring all elements be the same type eliminates the overhead needed for data type checking.  \n",
    "\n",
    "\n",
    "\n",
    "# **When analyzing data, you often want to perform operations over entire collections of values quickly. \n",
    "\n",
    "# **# The second advantage of NumPy arrays is they broadcasting functionality.  NumPy arrays vectorize operations, so they are performed on all elements of an object at once.  Allows us to efficiently perform calculations over entire array.  \n",
    "\n",
    "\n",
    "**# Another advantange of NumPy arrays is their indexing capabilities.  When comparing basic indexing between a one-dimensional array and list, the capabilities are indentical.  \n",
    "\n",
    "**When using two-dimensional arrays and lists, the advantages oa arrays are clear, the analogous list ayntax is a bit more verbose as you have to surround both indexing with square brackets.  \n",
    "\n",
    "**If we select all rows and last column of our 2 dimensional array, we can use colon to represent all rows and then index -1 to represent last column.  But list dont support this kind of syntax, so we must use a list comprehension to return columns. \n",
    "\n"
   ]
  },
  {
   "cell_type": "code",
   "execution_count": 36,
   "id": "63e5b28a-7fee-4acc-9f46-77375fd13e56",
   "metadata": {},
   "outputs": [
    {
     "data": {
      "text/plain": [
       "array([3.2901696e+03, 4.2250000e+03, 4.5131524e+03, 1.0000000e+00,\n",
       "       4.9000000e+03])"
      ]
     },
     "execution_count": 36,
     "metadata": {},
     "output_type": "execute_result"
    }
   ],
   "source": [
    "height = [57.36, 65, 67.18, True, 70]\n",
    "\n",
    "np_height = np.array(height)\n",
    "np_height_squd = np_height**2\n",
    "\n",
    "np_height_squd"
   ]
  },
  {
   "cell_type": "code",
   "execution_count": 42,
   "id": "878bfc25-bee1-4ad0-aa6f-3e69b85d0645",
   "metadata": {},
   "outputs": [
    {
     "name": "stdout",
     "output_type": "stream",
     "text": [
      "4\n",
      "4\n",
      "[4, 8]\n",
      "[1, 2, 3, 4]\n",
      "[4 8]\n"
     ]
    }
   ],
   "source": [
    "nums = [[1, 2, 3, 4], \n",
    "        [5, 6, 7, 8]]\n",
    "\n",
    "np_nums = np.array(nums)\n",
    "\n",
    "print(nums[0][-1])\n",
    "\n",
    "print(np_nums[0, -1])\n",
    "\n",
    "print([i[-1] for i in nums])\n",
    "print(nums[0])\n",
    "\n",
    "print(np_nums[:, -1])"
   ]
  },
  {
   "cell_type": "markdown",
   "id": "4a1c3d06-aced-48d3-ab73-c59eb2e1f009",
   "metadata": {},
   "source": [
    "\n",
    "**NumPy array also have a special technique called boolean indexing, with an array, we cna create a boolean mast using a simple inequality.  Indexing the array is as simple as enclosing this inequality in square brackets.  \n",
    "\n",
    "\n",
    "\n"
   ]
  },
  {
   "cell_type": "code",
   "execution_count": 51,
   "id": "d245f86d-770c-4c18-8dd8-fda965933d12",
   "metadata": {},
   "outputs": [
    {
     "name": "stdout",
     "output_type": "stream",
     "text": [
      "[False False False  True  True]\n",
      "[88.4 68.7]\n"
     ]
    }
   ],
   "source": [
    "weight = [65.4, 59.2, 63.6, 88.4, 68.7]\n",
    "\n",
    "np_weight = np.array(weight)\n",
    "\n",
    "\n",
    "print(np_weight>66)\n",
    "\n",
    "print(np_weight[np_weight>66])"
   ]
  },
  {
   "cell_type": "code",
   "execution_count": 82,
   "id": "a6b02fc7-7ed0-4636-a49f-09bff5cf92ec",
   "metadata": {},
   "outputs": [
    {
     "name": "stdout",
     "output_type": "stream",
     "text": [
      "[False, False, False, True, True]\n",
      "[88.4, 68.7]\n"
     ]
    }
   ],
   "source": [
    "weight = [65.4, 59.2, 63.6, 88.4, 68.7]\n",
    "\n",
    "\n",
    "# *************************************************************************************************** #\n",
    "# *************************************************************************************************** #\n",
    "select_weight = [True if i>66 else False for i in weight]\n",
    "print(select_weight)\n",
    "\n",
    "# *************************************************************************************************** #\n",
    "# *************************************************************************************************** #\n",
    "sel_weight = [i for i in weight if i>66 ]\n",
    "print(sel_weight)"
   ]
  },
  {
   "cell_type": "markdown",
   "id": "20c72520-b570-4a6d-afd3-0ab769d38acf",
   "metadata": {},
   "source": [
    "## Practice with NumPy arrays\n",
    "\n",
    "# Let's practice slicing numpy arrays and using NumPy's broadcasting concept. Remember, broadcasting refers to a numpy array's ability to vectorize operations, so they are performed on all elements of an object at once.\n",
    "\n",
    "A two-dimensional numpy array has been loaded into your session (called nums) and printed into the console for your convenience. numpy has been imported into your session as np.\n",
    "Instructions 1/2\n",
    "50 XP\n",
    "\n",
    "    1\n",
    "    2\n",
    "\n",
    "    Print the second row of nums.\n",
    "    Print the items of nums that are greater than six.\n",
    "    Create nums_dbl that doubles each number in nums.\n",
    "    Replace the third column in nums with a new column that adds 1 to each item in the original column.\n",
    "\n",
    "Question\n",
    "\n",
    "When compared to a list object, what are two advantages of using a numpy array?\n",
    "Possible Answers\n",
    "\n",
    "    A numpy array is the only data structure that can be used with the numpy package and often has less verbose indexing syntax.\n",
    "    A numpy array contains homogeneous data types (which reduces memory consumption) and provides the ability to apply operations on all elements through broadcasting.\n",
    "    A numpy array supports boolean indexing and has much better one-dimensional indexing capabilities.\n",
    "    Both a list object and a numpy array are identical.\n",
    "    "
   ]
  },
  {
   "cell_type": "code",
   "execution_count": 84,
   "id": "62f2b8d5-de8b-4e9c-ac0a-fb0dc60d433f",
   "metadata": {},
   "outputs": [
    {
     "name": "stdout",
     "output_type": "stream",
     "text": [
      "[[ 1  2  3  4  5]\n",
      " [ 6  7  8  9 10]]\n",
      "[ 6  7  8  9 10]\n",
      "[ 7  8  9 10]\n",
      "[[ 2  4  6  8 10]\n",
      " [12 14 16 18 20]]\n",
      "[[ 1  2  4  4  5]\n",
      " [ 6  7  9  9 10]]\n"
     ]
    }
   ],
   "source": [
    "nums = [[1, 2, 3, 4, 5], \n",
    "        [6, 7, 8, 9, 10]]\n",
    "nums = np.array(nums)\n",
    "\n",
    "# Print second row of nums\n",
    "print(nums)\n",
    "print(nums[1,:])\n",
    "\n",
    "# Print all elements of nums that are greater than six\n",
    "print(nums[nums > 6])\n",
    "\n",
    "# Double every element of nums\n",
    "nums_dbl = nums * 2\n",
    "print(nums_dbl)\n",
    "\n",
    "# Replace the third column of nums\n",
    "nums[:,2] = nums[:,2] + 1\n",
    "print(nums)"
   ]
  },
  {
   "cell_type": "markdown",
   "id": "8a33c368-cb96-49e1-862c-39c2c26af067",
   "metadata": {},
   "source": [
    "## Bringing it all together: Festivus!\n",
    "\n",
    "In this exercise, you will be throwing a party—a Festivus if you will!\n",
    "\n",
    "You have a list of guests (the names list). Each guest, for whatever reason, has decided to show up to the party in 10-minute increments. For example, Jerry shows up to Festivus 10 minutes into the party's start time, Kramer shows up 20 minutes into the party, and so on and so forth.\n",
    "\n",
    "We want to write a few simple lines of code, using the built-ins we have covered, to welcome each of your guests and let them know how many minutes late they are to your party. Note that numpy has been imported into your session as np and the names list has been loaded as well.\n",
    "\n",
    "Let's welcome your guests!\n",
    "Instructions 1/4\n",
    "25 XP\n",
    "\n",
    "    1\n",
    "    2\n",
    "    3\n",
    "    4\n",
    "\n",
    "    Use range() to create a list of arrival times (10 through 50 incremented by 10). Create the list arrival_times by unpacking the range object.\n",
    "\n",
    "# You can unpack the range object by placing a star character (*) in front of it; just like you've done in previous exercises.\n",
    "\n",
    "\n",
    "\n",
    "    You realize your clock is three minutes fast. Convert the arrival_times list into a numpy array (called arrival_times_np) and use NumPy broadcasting to subtract three minutes from each arrival time.\n",
    "    \n",
    "    \n",
    "    \n",
    "#    Use list comprehension with enumerate() to pair each guest in the names list to their updated arrival time in the new_times array. You'll need to use the index variable created from using enumerate() on new_times to index the names list.\n",
    "\n",
    "\n",
    "\n",
    "\n",
    "    A function named welcome_guest() has been pre-loaded into your session. Use map() to apply this function to each element of the guest_arrivals list and save it as the variable welcome_map.\n"
   ]
  },
  {
   "cell_type": "code",
   "execution_count": 3,
   "id": "c1b82688-f734-4776-b04a-ce300e18ed18",
   "metadata": {},
   "outputs": [
    {
     "name": "stdout",
     "output_type": "stream",
     "text": [
      "[10, 20, 30, 40]\n"
     ]
    }
   ],
   "source": [
    "names = ['Jerry', 'Kramer', 'Elaine', 'George', 'Newman']\n",
    "\n",
    "\n",
    "# Create a list of arrival times\n",
    "arrival_times = [*range(10, 50, 10)]\n",
    "\n",
    "print(arrival_times)"
   ]
  },
  {
   "cell_type": "code",
   "execution_count": 4,
   "id": "50426cf7-3ace-4153-82f1-85223b60488f",
   "metadata": {},
   "outputs": [
    {
     "name": "stdout",
     "output_type": "stream",
     "text": [
      "[ 7 17 27 37 47]\n"
     ]
    }
   ],
   "source": [
    "# Create a list of arrival times\n",
    "arrival_times = [*range(10,60,10)]\n",
    "\n",
    "# Convert arrival_times to an array and update the times\n",
    "arrival_times_np = np.array(arrival_times)\n",
    "new_times = arrival_times_np - 3\n",
    "\n",
    "print(new_times)"
   ]
  },
  {
   "cell_type": "code",
   "execution_count": 5,
   "id": "d111d60f-0755-43c8-83be-914ec621b31d",
   "metadata": {},
   "outputs": [
    {
     "name": "stdout",
     "output_type": "stream",
     "text": [
      "[('Jerry', 7), ('Kramer', 17), ('Elaine', 27), ('George', 37), ('Newman', 47)]\n"
     ]
    }
   ],
   "source": [
    "# Create a list of arrival times\n",
    "arrival_times = [*range(10,60,10)]\n",
    "\n",
    "# Convert arrival_times to an array and update the times\n",
    "arrival_times_np = np.array(arrival_times)\n",
    "new_times = arrival_times_np - 3\n",
    "\n",
    "# Use list comprehension and enumerate to pair guests to new times\n",
    "guest_arrivals = [(names[i],time) for i,time in enumerate(new_times)]\n",
    "# *************************************************************************************************** #\n",
    "# *************************************************************************************************** #\n",
    "\n",
    "print(guest_arrivals)\n"
   ]
  },
  {
   "cell_type": "code",
   "execution_count": 197,
   "id": "682c2acb-f010-4688-a8f5-1eef278e791e",
   "metadata": {},
   "outputs": [
    {
     "name": "stdout",
     "output_type": "stream",
     "text": [
      "Welcome to Festivus Jerry... You've 7 min late\n",
      "Welcome to Festivus Kramer... You've 17 min late\n",
      "Welcome to Festivus Elaine... You've 27 min late\n",
      "Welcome to Festivus George... You've 37 min late\n",
      "Welcome to Festivus Newman... You've 47 min late\n"
     ]
    }
   ],
   "source": [
    "#welcome_guest??\n",
    "#Return:\n",
    "def welcome_guest(guest_and_time):\n",
    "    \n",
    "    \"\"\"\\n\n",
    "    Returns a welcome string for the guest_and_time tuple.\\n\n",
    "    \n",
    "    Args:\\n\n",
    "      guest_and_time (tuple): The guest and time tuple to create\\n\n",
    "      a welcome string for.\\n\n",
    "      \n",
    "    Returns:\\n\n",
    "      welcome_string (str): A string welcoming the guest to Festivus.\\n\n",
    "      \\'Welcome to Festivus {guest}... You\\'re {time} min late.\\'\\n    \\n\n",
    "    \"\"\"\n",
    "\n",
    "    guest = guest_and_time[0]\n",
    "    arrival_time = guest_and_time[1]\n",
    "    welcome_string = \"Welcome to Festivus {}... You\\'re {} min late.\".format(guest,arrival_time)\n",
    "    return welcome_string\n",
    "#\\nFile:      /tmp/tmpdqkos8y4/<ipython-input-1-286a427e45ef>\\nType:      function\\n'}\n",
    "\n",
    " \n",
    "#In [9]:\n",
    "#welcome_guest(guest_arrivals)\n",
    "#Out[9]:\n",
    "#\"Welcome to Festivus ('Jerry', 7)... You're ('Kramer', 17) min late.\"\n",
    "\n",
    "\n",
    "def welcome_guest(guest_and_time):\n",
    "\n",
    "#    for guest, time in guest_and_time:\n",
    "#        print(f\"Welcome to Festivus {guest}... You've {time} min late\")\n",
    "# Return:\n",
    "# ValueError: too many values to unpack (expected 2)\n",
    "    \n",
    "#    print(f\"Welcome to Festivus {i.index(0) for i in guest_and_time}.\\\n",
    "#    ...You've {i.index(1) for i in guest_and_time} min late\")\n",
    "\n",
    "    return f\"Welcome to Festivus {guest_and_time[0]}... You've {guest_and_time[1]} min late\"\n",
    "\n",
    "#    return f\"Welcome to Festivus {[i[0] for i in guest_arrivals]}.\\\n",
    "#    ...You.ve {[i[1] for i in guest_arrivals]} min late\"\n",
    "# Return:\n",
    "# Welcome to Festivus ['Jerry', 'Kramer', 'Elaine', 'George', 'Newman'].    ...You.ve [7, 17, 27\n",
    "              \n",
    "\n",
    "# Create a list of arrival times\n",
    "arrival_times = [*range(10,60,10)]\n",
    "\n",
    "# Convert arrival_times to an array and update the times\n",
    "arrival_times_np = np.array(arrival_times)\n",
    "new_times = arrival_times_np - 3\n",
    "\n",
    "# Use list comprehension and enumerate to pair guests to new times\n",
    "guest_arrivals = [(names[i],time) for i,time in enumerate(new_times)]\n",
    "\n",
    "# Map the welcome_guest function to each (guest,time) pair\n",
    "welcome_map = map(welcome_guest, guest_arrivals)\n",
    "# *************************************************************************************************** #\n",
    "# *************************************************************************************************** #\n",
    "# map() a function on [('Jerry', 7), ('Kramer', 17), ('Elaine', 27), ('George', 37), ('Newman', 47)]\n",
    "# function will be applied on each tuple pair ('Jerry', 7), then ('Kramer', 17)\n",
    "\n",
    "\n",
    "guest_welcomes = [*welcome_map]\n",
    "print(*guest_welcomes, sep='\\n')\n"
   ]
  },
  {
   "cell_type": "raw",
   "id": "dbdb5693-ab59-45c1-a976-a56219dfd2af",
   "metadata": {},
   "source": [
    "DataCamp IDE Return\n",
    "\n",
    "welcome_guest??\n",
    "\n",
    "{'text/plain': 'Signature: welcome_guest(guest_and_time)\\nDocstring:\\nReturns a welcome string for the guest_and_time tuple.\\n\\nArgs:\\n    guest_and_time (tuple): The guest and time tuple to create\\n        a welcome string for.\\n        \\nReturns:\\n    welcome_string (str): A string welcoming the guest to Festivus.\\n    \\'Welcome to Festivus {guest}... You\\'re {time} min late.\\'\\nSource:   \\ndef welcome_guest(guest_and_time):\\n    \"\"\"\\n    Returns a welcome string for the guest_and_time tuple.\\n    \\n    Args:\\n        guest_and_time (tuple): The guest and time tuple to create\\n            a welcome string for.\\n            \\n    Returns:\\n        welcome_string (str): A string welcoming the guest to Festivus.\\n        \\'Welcome to Festivus {guest}... You\\'re {time} min late.\\'\\n    \\n    \"\"\"\\n    guest = guest_and_time[0]\\n    arrival_time = guest_and_time[1]\\n    welcome_string = \"Welcome to Festivus {}... You\\'re {} min late.\".format(guest,arrival_time)\\n    return welcome_string\\nFile:      /tmp/tmpdqkos8y4/<ipython-input-1-286a427e45ef>\\nType:      function\\n'}"
   ]
  },
  {
   "cell_type": "code",
   "execution_count": 147,
   "id": "bb5057ff-1bfc-409a-95f0-d0e08990ca77",
   "metadata": {},
   "outputs": [
    {
     "name": "stdout",
     "output_type": "stream",
     "text": [
      "[('Jerry', 7), ('Kramer', 17), ('Elaine', 27), ('George', 37), ('Newman', 47)]\n",
      "Jerry\n",
      "['Jerry', 'Kramer', 'Elaine', 'George', 'Newman']\n"
     ]
    }
   ],
   "source": [
    "print(guest_arrivals)\n",
    "#print(dir(guest_arrivals))\n",
    "\n",
    "print(guest_arrivals[0][0])\n",
    "\n",
    "print([i[0] for i in guest_arrivals])"
   ]
  },
  {
   "cell_type": "code",
   "execution_count": 102,
   "id": "b88fbcef-e513-4c16-a6d1-c501242758e6",
   "metadata": {},
   "outputs": [
    {
     "name": "stdout",
     "output_type": "stream",
     "text": [
      "Welcome to Festivus Jerry... You've 7 min late\n",
      "Welcome to Festivus Kramer... You've 17 min late\n",
      "Welcome to Festivus Elaine... You've 27 min late\n",
      "Welcome to Festivus George... You've 37 min late\n",
      "Welcome to Festivus Newman... You've 47 min late\n"
     ]
    }
   ],
   "source": [
    "def welcome_guest(guest_and_time):\n",
    "    #for guest, time in guest_and_time:\n",
    "    #print(f\"Welcome to Festivus {guest_and_time[:, 0]}... You've {guest_and_time[:, 1]} min late\")\n",
    "\n",
    "    for guest, time in guest_and_time:\n",
    "        print(f\"Welcome to Festivus {guest}... You've {time} min late\")\n",
    "        \n",
    "        \n",
    "welcome_guest(guest_arrivals)"
   ]
  },
  {
   "cell_type": "markdown",
   "id": "a27be796-228b-402b-b0b5-5f0587a9aea7",
   "metadata": {},
   "source": [
    "# *****************************************************************************************************"
   ]
  },
  {
   "cell_type": "code",
   "execution_count": 9,
   "id": "e3a07618-284a-40e1-b01c-cd8b48ad8909",
   "metadata": {},
   "outputs": [
    {
     "name": "stdout",
     "output_type": "stream",
     "text": [
      "Welcome to Festivus ('Jerry', 7) ...You've ('Kramer', 17) min late\n",
      "[\"Welcome to Festivus ('Jerry', 7) ...You've ('Kramer', 17) min late\"]\n",
      "Welcome to Festivus ('Jerry', 7) ...You've ('Kramer', 17) min late\n",
      "\n",
      "[\"Welcome to Festivus Jerry ...You've 7 min late\", \"Welcome to Festivus Kramer ...You've 17 min late\", \"Welcome to Festivus Elaine ...You've 27 min late\", \"Welcome to Festivus George ...You've 37 min late\", \"Welcome to Festivus Newman ...You've 47 min late\"]\n",
      "\n",
      "Welcome to Festivus Jerry ...You've 7 min late\n",
      "Welcome to Festivus Kramer ...You've 17 min late\n",
      "Welcome to Festivus Elaine ...You've 27 min late\n",
      "Welcome to Festivus George ...You've 37 min late\n",
      "Welcome to Festivus Newman ...You've 47 min late\n"
     ]
    }
   ],
   "source": [
    "def welcome_guest(guest_and_time):\n",
    "    return f\"Welcome to Festivus {guest_and_time[0]} ...You've {guest_and_time[1]} min late\"\n",
    "\n",
    "out = welcome_guest(guest_arrivals)\n",
    "out2 = [*[out]]\n",
    "print(out)\n",
    "print(out2)\n",
    "print(*out2)\n",
    "print()\n",
    "# *************************************************************************************************** #\n",
    "\n",
    "\n",
    "welcome = map(welcome_guest, guest_arrivals)\n",
    "to_print = [*welcome]\n",
    "print(to_print)\n",
    "print()\n",
    "print(*to_print, sep='\\n')\n",
    "\n",
    "# *************************************************************************************************** #\n",
    "# *************************************************************************************************** #\n",
    "# *************************************************************************************************** #\n",
    "# To feel and understand the * unpacking immplementation and the map function using on iterable object"
   ]
  },
  {
   "cell_type": "code",
   "execution_count": null,
   "id": "9271c4ad-452d-4e9f-92aa-ced28331b0fc",
   "metadata": {},
   "outputs": [],
   "source": []
  },
  {
   "cell_type": "markdown",
   "id": "485698ca-e291-4f5e-a2f5-e664665eac79",
   "metadata": {},
   "source": [
    "## Examining runtime\n",
    "\n",
    "\n",
    "\n",
    "**In this lesson, we'll learn how to examine the runtime of our code.  As mentioned in the previous chapter, runtime is an important consideration when thinking about efficiency.  \n",
    "\n",
    "**IPyhon comes with some handy build-in magic commands we can use to time our code. %timeit.  The magic commands are enhancements that have been added on top of the normal Python syntax.  These commands are prefixedwith the % sign, see all the magic commands with %lsmagic\n",
    "\n"
   ]
  },
  {
   "cell_type": "code",
   "execution_count": 198,
   "id": "b07b2baf-382e-4981-a4d5-2f3d0fe67a72",
   "metadata": {},
   "outputs": [
    {
     "data": {
      "application/json": {
       "cell": {
        "!": "OSMagics",
        "HTML": "Other",
        "SVG": "Other",
        "bash": "Other",
        "capture": "ExecutionMagics",
        "debug": "ExecutionMagics",
        "file": "Other",
        "html": "DisplayMagics",
        "javascript": "DisplayMagics",
        "js": "DisplayMagics",
        "latex": "DisplayMagics",
        "markdown": "DisplayMagics",
        "perl": "Other",
        "prun": "ExecutionMagics",
        "pypy": "Other",
        "python": "Other",
        "python2": "Other",
        "python3": "Other",
        "ruby": "Other",
        "script": "ScriptMagics",
        "sh": "Other",
        "svg": "DisplayMagics",
        "sx": "OSMagics",
        "system": "OSMagics",
        "time": "ExecutionMagics",
        "timeit": "ExecutionMagics",
        "writefile": "OSMagics"
       },
       "line": {
        "alias": "OSMagics",
        "alias_magic": "BasicMagics",
        "autoawait": "AsyncMagics",
        "autocall": "AutoMagics",
        "automagic": "AutoMagics",
        "autosave": "KernelMagics",
        "bookmark": "OSMagics",
        "cat": "Other",
        "cd": "OSMagics",
        "clear": "KernelMagics",
        "colors": "BasicMagics",
        "conda": "PackagingMagics",
        "config": "ConfigMagics",
        "connect_info": "KernelMagics",
        "cp": "Other",
        "debug": "ExecutionMagics",
        "dhist": "OSMagics",
        "dirs": "OSMagics",
        "doctest_mode": "BasicMagics",
        "ed": "Other",
        "edit": "KernelMagics",
        "env": "OSMagics",
        "gui": "BasicMagics",
        "hist": "Other",
        "history": "HistoryMagics",
        "killbgscripts": "ScriptMagics",
        "ldir": "Other",
        "less": "KernelMagics",
        "lf": "Other",
        "lk": "Other",
        "ll": "Other",
        "load": "CodeMagics",
        "load_ext": "ExtensionMagics",
        "loadpy": "CodeMagics",
        "logoff": "LoggingMagics",
        "logon": "LoggingMagics",
        "logstart": "LoggingMagics",
        "logstate": "LoggingMagics",
        "logstop": "LoggingMagics",
        "ls": "Other",
        "lsmagic": "BasicMagics",
        "lx": "Other",
        "macro": "ExecutionMagics",
        "magic": "BasicMagics",
        "man": "KernelMagics",
        "matplotlib": "PylabMagics",
        "mkdir": "Other",
        "more": "KernelMagics",
        "mv": "Other",
        "notebook": "BasicMagics",
        "page": "BasicMagics",
        "pastebin": "CodeMagics",
        "pdb": "ExecutionMagics",
        "pdef": "NamespaceMagics",
        "pdoc": "NamespaceMagics",
        "pfile": "NamespaceMagics",
        "pinfo": "NamespaceMagics",
        "pinfo2": "NamespaceMagics",
        "pip": "PackagingMagics",
        "popd": "OSMagics",
        "pprint": "BasicMagics",
        "precision": "BasicMagics",
        "prun": "ExecutionMagics",
        "psearch": "NamespaceMagics",
        "psource": "NamespaceMagics",
        "pushd": "OSMagics",
        "pwd": "OSMagics",
        "pycat": "OSMagics",
        "pylab": "PylabMagics",
        "qtconsole": "KernelMagics",
        "quickref": "BasicMagics",
        "recall": "HistoryMagics",
        "rehashx": "OSMagics",
        "reload_ext": "ExtensionMagics",
        "rep": "Other",
        "rerun": "HistoryMagics",
        "reset": "NamespaceMagics",
        "reset_selective": "NamespaceMagics",
        "rm": "Other",
        "rmdir": "Other",
        "run": "ExecutionMagics",
        "save": "CodeMagics",
        "sc": "OSMagics",
        "set_env": "OSMagics",
        "store": "StoreMagics",
        "sx": "OSMagics",
        "system": "OSMagics",
        "tb": "ExecutionMagics",
        "time": "ExecutionMagics",
        "timeit": "ExecutionMagics",
        "unalias": "OSMagics",
        "unload_ext": "ExtensionMagics",
        "who": "NamespaceMagics",
        "who_ls": "NamespaceMagics",
        "whos": "NamespaceMagics",
        "xdel": "NamespaceMagics",
        "xmode": "BasicMagics"
       }
      },
      "text/plain": [
       "Available line magics:\n",
       "%alias  %alias_magic  %autoawait  %autocall  %automagic  %autosave  %bookmark  %cat  %cd  %clear  %colors  %conda  %config  %connect_info  %cp  %debug  %dhist  %dirs  %doctest_mode  %ed  %edit  %env  %gui  %hist  %history  %killbgscripts  %ldir  %less  %lf  %lk  %ll  %load  %load_ext  %loadpy  %logoff  %logon  %logstart  %logstate  %logstop  %ls  %lsmagic  %lx  %macro  %magic  %man  %matplotlib  %mkdir  %more  %mv  %notebook  %page  %pastebin  %pdb  %pdef  %pdoc  %pfile  %pinfo  %pinfo2  %pip  %popd  %pprint  %precision  %prun  %psearch  %psource  %pushd  %pwd  %pycat  %pylab  %qtconsole  %quickref  %recall  %rehashx  %reload_ext  %rep  %rerun  %reset  %reset_selective  %rm  %rmdir  %run  %save  %sc  %set_env  %store  %sx  %system  %tb  %time  %timeit  %unalias  %unload_ext  %who  %who_ls  %whos  %xdel  %xmode\n",
       "\n",
       "Available cell magics:\n",
       "%%!  %%HTML  %%SVG  %%bash  %%capture  %%debug  %%file  %%html  %%javascript  %%js  %%latex  %%markdown  %%perl  %%prun  %%pypy  %%python  %%python2  %%python3  %%ruby  %%script  %%sh  %%svg  %%sx  %%system  %%time  %%timeit  %%writefile\n",
       "\n",
       "Automagic is ON, % prefix IS NOT needed for line magics."
      ]
     },
     "execution_count": 198,
     "metadata": {},
     "output_type": "execute_result"
    }
   ],
   "source": [
    "%lsmagic"
   ]
  },
  {
   "cell_type": "code",
   "execution_count": 203,
   "id": "895f410a-66f2-4e3d-8bd7-a51735d69221",
   "metadata": {},
   "outputs": [
    {
     "name": "stdout",
     "output_type": "stream",
     "text": [
      "CPU times: user 2 µs, sys: 1e+03 ns, total: 3 µs\n",
      "Wall time: 6.68 µs\n",
      "[0.66125308 0.65303654 0.15436973 0.23602073 0.75578688]\n"
     ]
    }
   ],
   "source": [
    "%time\n",
    "\n",
    "import numpy as np\n",
    "\n",
    "rand_nums = np.random.rand(1000)\n",
    "print(rand_nums[:5])"
   ]
  },
  {
   "cell_type": "code",
   "execution_count": 1,
   "id": "a855ce1e-50c9-4fa5-a72c-f2e777d882e6",
   "metadata": {},
   "outputs": [
    {
     "name": "stdout",
     "output_type": "stream",
     "text": [
      "36.6 µs ± 3.86 µs per loop (mean ± std. dev. of 7 runs, 10000 loops each)\n"
     ]
    },
    {
     "ename": "NameError",
     "evalue": "name 'rand_nums' is not defined",
     "output_type": "error",
     "traceback": [
      "\u001b[0;31m---------------------------------------------------------------------------\u001b[0m",
      "\u001b[0;31mNameError\u001b[0m                                 Traceback (most recent call last)",
      "\u001b[0;32m/tmp/ipykernel_22098/234390948.py\u001b[0m in \u001b[0;36m<module>\u001b[0;34m\u001b[0m\n\u001b[1;32m      2\u001b[0m \u001b[0;34m\u001b[0m\u001b[0m\n\u001b[1;32m      3\u001b[0m \u001b[0mget_ipython\u001b[0m\u001b[0;34m(\u001b[0m\u001b[0;34m)\u001b[0m\u001b[0;34m.\u001b[0m\u001b[0mrun_line_magic\u001b[0m\u001b[0;34m(\u001b[0m\u001b[0;34m'timeit'\u001b[0m\u001b[0;34m,\u001b[0m \u001b[0;34m'rand_nums = np.random.rand(1000)'\u001b[0m\u001b[0;34m)\u001b[0m\u001b[0;34m\u001b[0m\u001b[0;34m\u001b[0m\u001b[0m\n\u001b[0;32m----> 4\u001b[0;31m \u001b[0mprint\u001b[0m\u001b[0;34m(\u001b[0m\u001b[0mrand_nums\u001b[0m\u001b[0;34m[\u001b[0m\u001b[0;34m:\u001b[0m\u001b[0;36m5\u001b[0m\u001b[0;34m]\u001b[0m\u001b[0;34m)\u001b[0m\u001b[0;34m\u001b[0m\u001b[0;34m\u001b[0m\u001b[0m\n\u001b[0m\u001b[1;32m      5\u001b[0m \u001b[0mprint\u001b[0m\u001b[0;34m(\u001b[0m\u001b[0mtype\u001b[0m\u001b[0;34m(\u001b[0m\u001b[0mrand_nums\u001b[0m\u001b[0;34m)\u001b[0m\u001b[0;34m)\u001b[0m\u001b[0;34m\u001b[0m\u001b[0;34m\u001b[0m\u001b[0m\n",
      "\u001b[0;31mNameError\u001b[0m: name 'rand_nums' is not defined"
     ]
    }
   ],
   "source": [
    "import numpy as np\n",
    "\n",
    "%timeit rand_nums = np.random.rand(1000)\n",
    "print(rand_nums[:5])\n",
    "print(type(rand_nums))"
   ]
  },
  {
   "cell_type": "markdown",
   "id": "44cd302c-3687-4c14-9279-04dbf1f2ee41",
   "metadata": {},
   "source": [
    "# **One advantage to using %timeit is the fact that it provides an average of timing statistics.  \n",
    "**Notice that the output provides a mean and standard deviation of time.  We also see that multiple runs and loops were generated.  \n",
    "\n",
    "# %timeit runs through the provided code multiple times to estimatethe code's execution time.  This provides a more accurate representation of the actual runtime.  \n",
    "\n",
    "\n",
    "**The number of runs represents how many iterations you'd like to use to estimate the runtime.  The number of loops represents how many times you'd like the code to be executed per run.  \n",
    "\n",
    "# **We can specify the number of runs using the -r flag, and the number of loops using the -n flag\n"
   ]
  },
  {
   "cell_type": "code",
   "execution_count": 1,
   "id": "3c3a7049-da2e-4b0c-8ccb-ed734c8f6fa3",
   "metadata": {},
   "outputs": [
    {
     "name": "stdout",
     "output_type": "stream",
     "text": [
      "20.4 µs ± 3.11 µs per loop (mean ± std. dev. of 10 runs, 1000 loops each)\n"
     ]
    }
   ],
   "source": [
    "import numpy as np\n",
    "\n",
    "\n",
    "%timeit -r10 -n1000 rand_nums = np.random.rand(1000)\n",
    "#print(rand_nums[:5])\n",
    "#print(type(rand_nums))"
   ]
  },
  {
   "cell_type": "markdown",
   "id": "3143b999-0345-4a66-a564-2576a6ede879",
   "metadata": {},
   "source": [
    "# **Another cool feature of %timeit is its ability to run on singleor multiple lines of code. \n",
    "\n",
    "\n",
    "  **When using %timeit in line magic code, or with a single line of code, one percentage sign is used.  Similarly we can run %timeit in cell magic mode.  (or provide multiple lines of code.) by using two percentage signs. %%timeit\n",
    "  "
   ]
  },
  {
   "cell_type": "code",
   "execution_count": 2,
   "id": "9c1ead31-9bd2-42bc-b501-1f36e313c104",
   "metadata": {},
   "outputs": [
    {
     "name": "stdout",
     "output_type": "stream",
     "text": [
      "152 µs ± 933 ns per loop (mean ± std. dev. of 7 runs, 10000 loops each)\n"
     ]
    }
   ],
   "source": [
    "%%timeit\n",
    "\n",
    "nums = []\n",
    "for i in range(1000):\n",
    "    nums.append(i)"
   ]
  },
  {
   "cell_type": "markdown",
   "id": "e7d62fab-a306-4aa1-a9de-33e669141132",
   "metadata": {},
   "source": [
    "# We can save the output of %timeit into a variable using the -o flag.  \n",
    "\n",
    "\n",
    "**This allows us to dig deeper into the output and see things like the time for each run, the best for all runs, and the worst time for all runs.  \n"
   ]
  },
  {
   "cell_type": "code",
   "execution_count": 3,
   "id": "a5f5d7fd-0f9e-40dd-a62d-4b669baece17",
   "metadata": {},
   "outputs": [
    {
     "name": "stdout",
     "output_type": "stream",
     "text": [
      "18.1 µs ± 284 ns per loop (mean ± std. dev. of 7 runs, 100000 loops each)\n"
     ]
    }
   ],
   "source": [
    "import numpy as np\n",
    "\n",
    "times = %timeit -o rand_nums = np.random.rand(1000)"
   ]
  },
  {
   "cell_type": "code",
   "execution_count": 5,
   "id": "13a30158-82fc-438b-ae75-4a5be85294f7",
   "metadata": {},
   "outputs": [
    {
     "data": {
      "text/plain": [
       "[1.7756067299924325e-05,\n",
       " 1.8325870239932556e-05,\n",
       " 1.8093979990080697e-05,\n",
       " 1.7981149010010995e-05,\n",
       " 1.8588930539990544e-05,\n",
       " 1.781848231999902e-05,\n",
       " 1.782109755993588e-05]"
      ]
     },
     "execution_count": 5,
     "metadata": {},
     "output_type": "execute_result"
    }
   ],
   "source": [
    "# the time for each run\n",
    "\n",
    "times.timings"
   ]
  },
  {
   "cell_type": "code",
   "execution_count": 6,
   "id": "d38ab9b5-49e0-4ae8-b51c-35faad4063e2",
   "metadata": {},
   "outputs": [
    {
     "data": {
      "text/plain": [
       "1.7756067299924325e-05"
      ]
     },
     "execution_count": 6,
     "metadata": {},
     "output_type": "execute_result"
    }
   ],
   "source": [
    "times.best"
   ]
  },
  {
   "cell_type": "code",
   "execution_count": 7,
   "id": "d3fd471b-232e-43fc-a640-0ab427076525",
   "metadata": {},
   "outputs": [
    {
     "data": {
      "text/plain": [
       "1.8588930539990544e-05"
      ]
     },
     "execution_count": 7,
     "metadata": {},
     "output_type": "execute_result"
    }
   ],
   "source": [
    "times.worst"
   ]
  },
  {
   "cell_type": "markdown",
   "id": "bbabb778-cca2-4909-9ffe-f1423a5aa5cc",
   "metadata": {},
   "source": [
    "# Comapring times on some of Python's build in data structures.  \n",
    "\n"
   ]
  },
  {
   "cell_type": "code",
   "execution_count": 14,
   "id": "6a965ccc-858e-40ff-955b-1f8f6d9e503e",
   "metadata": {},
   "outputs": [
    {
     "name": "stdout",
     "output_type": "stream",
     "text": [
      "<class 'str'>\n",
      "['__add__', '__class__', '__contains__', '__delattr__', '__dir__', '__doc__', '__eq__', '__format__', '__ge__', '__getattribute__', '__getitem__', '__getnewargs__', '__gt__', '__hash__', '__init__', '__init_subclass__', '__iter__', '__le__', '__len__', '__lt__', '__mod__', '__mul__', '__ne__', '__new__', '__reduce__', '__reduce_ex__', '__repr__', '__rmod__', '__rmul__', '__setattr__', '__sizeof__', '__str__', '__subclasshook__', 'capitalize', 'casefold', 'center', 'count', 'encode', 'endswith', 'expandtabs', 'find', 'format', 'format_map', 'index', 'isalnum', 'isalpha', 'isascii', 'isdecimal', 'isdigit', 'isidentifier', 'islower', 'isnumeric', 'isprintable', 'isspace', 'istitle', 'isupper', 'join', 'ljust', 'lower', 'lstrip', 'maketrans', 'partition', 'removeprefix', 'removesuffix', 'replace', 'rfind', 'rindex', 'rjust', 'rpartition', 'rsplit', 'rstrip', 'split', 'splitlines', 'startswith', 'strip', 'swapcase', 'title', 'translate', 'upper', 'zfill']\n"
     ]
    }
   ],
   "source": [
    "a = 'John'\n",
    "\n",
    "print(type(a))\n",
    "print(dir(a))\n",
    "# we found the str object has a 'upper' method, index[-2]. use it in below with map function"
   ]
  },
  {
   "cell_type": "code",
   "execution_count": 17,
   "id": "639fac2c-829b-435d-8acd-f0391b8fbf67",
   "metadata": {},
   "outputs": [
    {
     "name": "stdout",
     "output_type": "stream",
     "text": [
      "['JERRY', 'KRAMER', 'ELAINE', 'GEORGE', 'NEWMAN']\n",
      "[<map object at 0x7fc1a1010e50>]\n"
     ]
    }
   ],
   "source": [
    "# Python allows us to create these data structures using: formal name\n",
    "# but be careful, when iterate elements from object,\n",
    "# formal name can iterable all the elements of inside object and put in the container\n",
    "# *************************************************************************************************** #\n",
    "# An iterable is any Python object capable of returning its members one at a time, \n",
    "# permitting it to be iterated over in a for-loop.\n",
    "\n",
    "our_list = list()\n",
    "our_dict = dict()\n",
    "our_tuple = tuple()\n",
    "\n",
    "names = ['Jerry', 'Kramer', 'Elaine', 'George', 'Newman']\n",
    "# *************************************************************************************************** #\n",
    "new_names = list(map(str.upper, names))\n",
    "print(new_names)\n",
    "# *************************************************************************************************** #\n",
    "nn_names = [map(str.lower, names)]\n",
    "print(nn_names)\n",
    "# Can you see the difference? why? because map function gives us a \n",
    "\n",
    "\n",
    "# or shorthand called literal syntax\n",
    "# but be careful, when iterate elements from object,\n",
    "# literal syntax only gives you a basket to contain all stuff\n",
    "our_list = []\n",
    "our_dict = {}\n",
    "our_tuple = ()"
   ]
  },
  {
   "cell_type": "code",
   "execution_count": 23,
   "id": "f353802e-f689-49b8-b1e5-f935308a89cb",
   "metadata": {},
   "outputs": [
    {
     "name": "stdout",
     "output_type": "stream",
     "text": [
      "237 ns ± 5.04 ns per loop (mean ± std. dev. of 7 runs, 1000000 loops each)\n"
     ]
    }
   ],
   "source": [
    "f_time = %timeit -o formal_dict = dict()"
   ]
  },
  {
   "cell_type": "code",
   "execution_count": 24,
   "id": "0858b901-b0b9-4aaa-b605-9f3a15f32b8f",
   "metadata": {},
   "outputs": [
    {
     "name": "stdout",
     "output_type": "stream",
     "text": [
      "94.6 ns ± 0.17 ns per loop (mean ± std. dev. of 7 runs, 10000000 loops each)\n"
     ]
    }
   ],
   "source": [
    "l_time = %timeit -o literal_dict = {}"
   ]
  },
  {
   "cell_type": "code",
   "execution_count": 30,
   "id": "d1f11aaa-9e00-4bff-b63c-5956a3cc3313",
   "metadata": {},
   "outputs": [
    {
     "name": "stdout",
     "output_type": "stream",
     "text": [
      "['__class__', '__delattr__', '__dict__', '__dir__', '__doc__', '__eq__', '__format__', '__ge__', '__getattribute__', '__gt__', '__hash__', '__init__', '__init_subclass__', '__le__', '__lt__', '__module__', '__ne__', '__new__', '__reduce__', '__reduce_ex__', '__repr__', '__setattr__', '__sizeof__', '__str__', '__subclasshook__', '__weakref__', '_precision', '_repr_pretty_', 'all_runs', 'average', 'best', 'compile_time', 'loops', 'repeat', 'stdev', 'timings', 'worst']\n"
     ]
    }
   ],
   "source": [
    "print(dir(l_time))"
   ]
  },
  {
   "cell_type": "code",
   "execution_count": 31,
   "id": "202d2529-7a24-4e24-856f-f534255fcb17",
   "metadata": {},
   "outputs": [
    {
     "name": "stdout",
     "output_type": "stream",
     "text": [
      "l_dict is better than f_dict by 142.6964152142838 ns\n"
     ]
    }
   ],
   "source": [
    "diff = (f_time.average - l_time.average)*(10**9)\n",
    "\n",
    "print(\"l_dict is better than f_dict by {} ns\".format(diff))"
   ]
  },
  {
   "cell_type": "markdown",
   "id": "53facb04-418b-46b7-8c8f-165d71cb7f95",
   "metadata": {},
   "source": [
    "## Using %timeit: your turn!\n",
    "\n",
    "You'd like to create a list of integers from 0 to 50 using the range() function. However, you are unsure whether using list comprehension or unpacking the range object into a list is faster. Let's use %timeit to find the best implementation.\n",
    "\n",
    "For your convenience, a reference table of time orders of magnitude is provided below (faster at the top).\n",
    "symbol \tname \tunit (s)\n",
    "ns \tnanosecond \t10-9\n",
    "µs (us) \tmicrosecond \t10-6\n",
    "ms \tmillisecond \t10-3\n",
    "s \tsecond \t100\n",
    "Instructions 1/3\n",
    "35 XP\n",
    "\n",
    "    1\n",
    "    2     missing important   special thanks to Mr. MMBazel on GitHub\n",
    "    3     missing important   special thanks to Mr. MMBazel on GitHub\n",
    "# *****************************************************************************************************\n",
    "\n",
    "    Use list comprehension and range() to create a list of integers from 0 to 50 called nums_list_comp.\n",
    "\n",
    "\n",
    "    Use range() to create a list of integers from 0 to 50 and unpack its contents into a list called nums_unpack.\n",
    "\n",
    "\n",
    "    Question\n",
    "    Use %timeit within your IPython console to compare the runtimes for creating a list of integers from 0 to 50 using list comprehension vs. unpacking the range object. Don't include the print() statements when timing.\n",
    "\n",
    "    Which method was faster?\n"
   ]
  },
  {
   "cell_type": "code",
   "execution_count": 32,
   "id": "ccacc635-8121-49aa-8411-c4107e0385fc",
   "metadata": {},
   "outputs": [
    {
     "name": "stdout",
     "output_type": "stream",
     "text": [
      "[0, 1, 2, 3, 4, 5, 6, 7, 8, 9, 10, 11, 12, 13, 14, 15, 16, 17, 18, 19, 20, 21, 22, 23, 24, 25, 26, 27, 28, 29, 30, 31, 32, 33, 34, 35, 36, 37, 38, 39, 40, 41, 42, 43, 44, 45, 46, 47, 48, 49, 50]\n"
     ]
    }
   ],
   "source": [
    "# Create a list of integers (0-50) using list comprehension\n",
    "nums_list_comp = [num for num in range(51)]\n",
    "print(nums_list_comp)"
   ]
  },
  {
   "cell_type": "code",
   "execution_count": 10,
   "id": "a5a3d1ef-7b84-4b08-bbce-72efa1614c94",
   "metadata": {},
   "outputs": [
    {
     "name": "stdout",
     "output_type": "stream",
     "text": [
      "13.8 µs ± 828 ns per loop (mean ± std. dev. of 7 runs, 10000 loops each)\n"
     ]
    },
    {
     "ename": "NameError",
     "evalue": "name 'f_list' is not defined",
     "output_type": "error",
     "traceback": [
      "\u001b[0;31m---------------------------------------------------------------------------\u001b[0m",
      "\u001b[0;31mNameError\u001b[0m                                 Traceback (most recent call last)",
      "\u001b[0;32m/tmp/ipykernel_22098/467702423.py\u001b[0m in \u001b[0;36m<module>\u001b[0;34m\u001b[0m\n\u001b[1;32m      3\u001b[0m \u001b[0;31m# *************************************************************************************************** #\u001b[0m\u001b[0;34m\u001b[0m\u001b[0;34m\u001b[0m\u001b[0;34m\u001b[0m\u001b[0m\n\u001b[1;32m      4\u001b[0m \u001b[0;31m# Why cant we print f_list after above line?\u001b[0m\u001b[0;34m\u001b[0m\u001b[0;34m\u001b[0m\u001b[0;34m\u001b[0m\u001b[0m\n\u001b[0;32m----> 5\u001b[0;31m \u001b[0mprint\u001b[0m\u001b[0;34m(\u001b[0m\u001b[0mf_list\u001b[0m\u001b[0;34m)\u001b[0m\u001b[0;34m\u001b[0m\u001b[0;34m\u001b[0m\u001b[0m\n\u001b[0m",
      "\u001b[0;31mNameError\u001b[0m: name 'f_list' is not defined"
     ]
    }
   ],
   "source": [
    "f_time = %timeit -o  f_list = list(num for num in range(51))\n",
    "\n",
    "# *************************************************************************************************** #\n",
    "# Why cant we print f_list after above line?  \n",
    "print(f_list)"
   ]
  },
  {
   "cell_type": "code",
   "execution_count": 1,
   "id": "5d74770e-eaca-4017-9875-6923de8034d1",
   "metadata": {},
   "outputs": [
    {
     "name": "stdout",
     "output_type": "stream",
     "text": [
      "4.53 µs ± 23 ns per loop (mean ± std. dev. of 7 runs, 100000 loops each)\n"
     ]
    },
    {
     "ename": "NameError",
     "evalue": "name 'l_list' is not defined",
     "output_type": "error",
     "traceback": [
      "\u001b[0;31m---------------------------------------------------------------------------\u001b[0m",
      "\u001b[0;31mNameError\u001b[0m                                 Traceback (most recent call last)",
      "\u001b[0;32m/tmp/ipykernel_19465/923480130.py\u001b[0m in \u001b[0;36m<module>\u001b[0;34m\u001b[0m\n\u001b[1;32m      1\u001b[0m \u001b[0ml_time\u001b[0m \u001b[0;34m=\u001b[0m \u001b[0mget_ipython\u001b[0m\u001b[0;34m(\u001b[0m\u001b[0;34m)\u001b[0m\u001b[0;34m.\u001b[0m\u001b[0mrun_line_magic\u001b[0m\u001b[0;34m(\u001b[0m\u001b[0;34m'timeit'\u001b[0m\u001b[0;34m,\u001b[0m \u001b[0;34m'-o  l_list = [num for num in range(51)]'\u001b[0m\u001b[0;34m)\u001b[0m\u001b[0;34m\u001b[0m\u001b[0;34m\u001b[0m\u001b[0m\n\u001b[1;32m      2\u001b[0m \u001b[0;34m\u001b[0m\u001b[0m\n\u001b[0;32m----> 3\u001b[0;31m \u001b[0mprint\u001b[0m\u001b[0;34m(\u001b[0m\u001b[0ml_list\u001b[0m\u001b[0;34m)\u001b[0m\u001b[0;34m\u001b[0m\u001b[0;34m\u001b[0m\u001b[0m\n\u001b[0m",
      "\u001b[0;31mNameError\u001b[0m: name 'l_list' is not defined"
     ]
    }
   ],
   "source": [
    "l_time = %timeit -o  l_list = [num for num in range(51)]\n",
    "\n",
    "print(l_list)"
   ]
  },
  {
   "cell_type": "code",
   "execution_count": 50,
   "id": "66270d14-7da1-438c-b065-99b7ba8cba89",
   "metadata": {},
   "outputs": [
    {
     "name": "stdout",
     "output_type": "stream",
     "text": [
      "[0, 1, 2, 3, 4, 5, 6, 7, 8, 9, 10, 11, 12, 13, 14, 15, 16, 17, 18, 19, 20, 21, 22, 23, 24, 25, 26, 27, 28, 29, 30, 31, 32, 33, 34, 35, 36, 37, 38, 39, 40, 41, 42, 43, 44, 45, 46, 47, 48, 49, 50]\n",
      "[0, 1, 2, 3, 4, 5, 6, 7, 8, 9, 10, 11, 12, 13, 14, 15, 16, 17, 18, 19, 20, 21, 22, 23, 24, 25, 26, 27, 28, 29, 30, 31, 32, 33, 34, 35, 36, 37, 38, 39, 40, 41, 42, 43, 44, 45, 46, 47, 48, 49, 50]\n",
      "[[0, 1, 2, 3, 4, 5, 6, 7, 8, 9, 10, 11, 12, 13, 14, 15, 16, 17, 18, 19, 20, 21, 22, 23, 24, 25, 26, 27, 28, 29, 30, 31, 32, 33, 34, 35, 36, 37, 38, 39, 40, 41, 42, 43, 44, 45, 46, 47, 48, 49, 50]]\n"
     ]
    }
   ],
   "source": [
    "# Use range() to create a list of integers from 0 to 50 and unpack its contents into a list \n",
    "# called nums_unpack.\n",
    "\n",
    "# Create a list of integers (0-50) using list comprehension\n",
    "nums_list_comp = [num for num in range(51)]\n",
    "print(nums_list_comp)\n",
    "\n",
    "# Create a list of integers (0-50) by unpacking range\n",
    "nums_unpack = [*(nums_list_comp)]\n",
    "print(nums_unpack)\n",
    "\n",
    "\n",
    "# *************************************************************************************************** #\n",
    "print([nums_list_comp])"
   ]
  },
  {
   "cell_type": "code",
   "execution_count": null,
   "id": "e61c758c-b135-44b4-9753-cf08caca63bd",
   "metadata": {},
   "outputs": [],
   "source": [
    "# Question\n",
    "# Use %timeit within your IPython console to compare the runtimes for creating a list of integers \n",
    "# from 0 to 50 using list comprehension vs. unpacking the range object. Don't include the print() \n",
    "# statements when timing.\n",
    "\n",
    "#Which method was faster?"
   ]
  },
  {
   "cell_type": "code",
   "execution_count": 51,
   "id": "e7a87e95-9fae-4649-844b-b43a819edfae",
   "metadata": {},
   "outputs": [
    {
     "name": "stdout",
     "output_type": "stream",
     "text": [
      "4.73 µs ± 67.7 ns per loop (mean ± std. dev. of 7 runs, 100000 loops each)\n"
     ]
    }
   ],
   "source": [
    "comprehension_list_time = %timeit -o  nums_list_comp = [num for num in range(51)]"
   ]
  },
  {
   "cell_type": "code",
   "execution_count": 52,
   "id": "bf717ac4-773a-48d1-a81a-508373fd3f0c",
   "metadata": {},
   "outputs": [
    {
     "name": "stdout",
     "output_type": "stream",
     "text": [
      "223 ns ± 5.42 ns per loop (mean ± std. dev. of 7 runs, 1000000 loops each)\n"
     ]
    }
   ],
   "source": [
    "unpacking_list_time = %timeit -o  nums_unpack = [*(nums_list_comp)]"
   ]
  },
  {
   "cell_type": "markdown",
   "id": "96565aaf-23f2-4d94-983f-4a1b49f21765",
   "metadata": {},
   "source": [
    "# ns \t\tnanosecond \t\t10-9\n",
    "# µs (us) \tmicrosecond \t10-6\n",
    "\n",
    "\n",
    "# *************************************************************************************************** #\n",
    "# So ns means less time spending, but why?  And wahts the point doing this?  What we want to know? "
   ]
  },
  {
   "cell_type": "code",
   "execution_count": 53,
   "id": "1c17f928-1722-4260-9229-4a2877b6327d",
   "metadata": {},
   "outputs": [
    {
     "name": "stdout",
     "output_type": "stream",
     "text": [
      "7.22 µs ± 69.1 ns per loop (mean ± std. dev. of 7 runs, 100000 loops each)\n"
     ]
    }
   ],
   "source": [
    "unpacking_and_comprehension_list_time = %timeit -o  nums_unpack = [*(i for i in range(51))]"
   ]
  },
  {
   "cell_type": "code",
   "execution_count": 1,
   "id": "e16e06dd-1714-42f1-85e9-70917afbf865",
   "metadata": {},
   "outputs": [
    {
     "name": "stdout",
     "output_type": "stream",
     "text": [
      "727 ns ± 3.93 ns per loop (mean ± std. dev. of 7 runs, 1000000 loops each)\n"
     ]
    },
    {
     "ename": "NameError",
     "evalue": "name 'generate_list' is not defined",
     "output_type": "error",
     "traceback": [
      "\u001b[0;31m---------------------------------------------------------------------------\u001b[0m",
      "\u001b[0;31mNameError\u001b[0m                                 Traceback (most recent call last)",
      "\u001b[0;32m/tmp/ipykernel_19665/1493660309.py\u001b[0m in \u001b[0;36m<module>\u001b[0;34m\u001b[0m\n\u001b[1;32m     11\u001b[0m \u001b[0;34m\u001b[0m\u001b[0m\n\u001b[1;32m     12\u001b[0m \u001b[0;34m\u001b[0m\u001b[0m\n\u001b[0;32m---> 13\u001b[0;31m \u001b[0mprint\u001b[0m\u001b[0;34m(\u001b[0m\u001b[0;34m*\u001b[0m\u001b[0mgenerate_list\u001b[0m\u001b[0;34m)\u001b[0m\u001b[0;34m\u001b[0m\u001b[0;34m\u001b[0m\u001b[0m\n\u001b[0m",
      "\u001b[0;31mNameError\u001b[0m: name 'generate_list' is not defined"
     ]
    }
   ],
   "source": [
    "%timeit  generate_list = (i for i in range(51))\n",
    "# Return error if we print(generate_list)\n",
    "# NameError: name 'generate_list' is not defined\n",
    "# *************************************************************************************************** #\n",
    "\n",
    "\n",
    "#generator_list_time = %timeit -o  generate_list = (i for i in range(51))\n",
    "\n",
    "\n",
    "#generate_list = (i for i in range(51))\n",
    "\n",
    "\n",
    "print(*generate_list)"
   ]
  },
  {
   "cell_type": "markdown",
   "id": "825c72b9-bf6f-4d5b-98a3-3742bdbc6c4e",
   "metadata": {},
   "source": [
    "# *****************************************************************************************************\n",
    "# Generator can only be unpacking once, interesting\n"
   ]
  },
  {
   "cell_type": "code",
   "execution_count": 7,
   "id": "3c7fd018-5eb4-43c4-b4aa-05a07555b6dd",
   "metadata": {},
   "outputs": [
    {
     "name": "stdout",
     "output_type": "stream",
     "text": [
      "<generator object <genexpr> at 0x7f01983a8740>\n",
      "[0, 1, 2, 3, 4, 5, 6, 7, 8, 9, 10, 11, 12, 13, 14, 15, 16, 17, 18, 19, 20, 21, 22, 23, 24, 25, 26, 27, 28, 29, 30, 31, 32, 33, 34, 35, 36, 37, 38, 39, 40, 41, 42, 43, 44, 45, 46, 47, 48, 49, 50]\n"
     ]
    }
   ],
   "source": [
    "generate_list = (i for i in range(51))\n",
    "\n",
    "print(generate_list)\n",
    "\n",
    "# *************************************************************************************************** #\n",
    "#print(*(generate_list))       # **********************************************************************\n",
    "new_list = [*(generate_list)]  # Generator can only be unpacking once, interesting\n",
    "print(new_list)\n",
    "\n",
    "\n",
    "#print(list(*(generate_list)))  # TypeError: list expected at most 1 argument, got 51"
   ]
  },
  {
   "cell_type": "code",
   "execution_count": 8,
   "id": "0a35846c-2c39-4e3f-a316-02b567e17e79",
   "metadata": {},
   "outputs": [
    {
     "name": "stdout",
     "output_type": "stream",
     "text": [
      "297 ns ± 8.56 ns per loop (mean ± std. dev. of 7 runs, 1000000 loops each)\n",
      "[]\n"
     ]
    }
   ],
   "source": [
    "# *************************************************************************************************** #\n",
    "\n",
    "generate_list = (i for i in range(51))  # 717 ns\n",
    "\n",
    "list_unpacking_time = %timeit -o generate_unpack = [*(generate_list)]  # 275 ns\n",
    "\n",
    "# *************************************************************************************************** #\n",
    "# Creating generator cost 717 ns, unpacking generator elements into list cost 275 ns, \n",
    "# Can we think its a relative efficiency solution?  and generator can handle data size over memory\n",
    "# *************************************************************************************************** #\n",
    "new_list = [*(generate_list)]\n",
    "print(new_list)"
   ]
  },
  {
   "cell_type": "code",
   "execution_count": 1,
   "id": "6a9e5998-7021-4746-819f-675585beff02",
   "metadata": {},
   "outputs": [
    {
     "name": "stdout",
     "output_type": "stream",
     "text": [
      "4.54 µs ± 40.4 ns per loop (mean ± std. dev. of 7 runs, 100000 loops each)\n"
     ]
    },
    {
     "ename": "NameError",
     "evalue": "name 'l_list' is not defined",
     "output_type": "error",
     "traceback": [
      "\u001b[0;31m---------------------------------------------------------------------------\u001b[0m",
      "\u001b[0;31mNameError\u001b[0m                                 Traceback (most recent call last)",
      "\u001b[0;32m/tmp/ipykernel_19450/1598315522.py\u001b[0m in \u001b[0;36m<module>\u001b[0;34m\u001b[0m\n\u001b[1;32m      1\u001b[0m \u001b[0ml_time\u001b[0m \u001b[0;34m=\u001b[0m \u001b[0mget_ipython\u001b[0m\u001b[0;34m(\u001b[0m\u001b[0;34m)\u001b[0m\u001b[0;34m.\u001b[0m\u001b[0mrun_line_magic\u001b[0m\u001b[0;34m(\u001b[0m\u001b[0;34m'timeit'\u001b[0m\u001b[0;34m,\u001b[0m \u001b[0;34m'-o  l_list = [num for num in range(51)]'\u001b[0m\u001b[0;34m)\u001b[0m\u001b[0;34m\u001b[0m\u001b[0;34m\u001b[0m\u001b[0m\n\u001b[1;32m      2\u001b[0m \u001b[0;34m\u001b[0m\u001b[0m\n\u001b[0;32m----> 3\u001b[0;31m \u001b[0mprint\u001b[0m\u001b[0;34m(\u001b[0m\u001b[0mtype\u001b[0m\u001b[0;34m(\u001b[0m\u001b[0ml_list\u001b[0m\u001b[0;34m)\u001b[0m\u001b[0;34m)\u001b[0m\u001b[0;34m\u001b[0m\u001b[0;34m\u001b[0m\u001b[0m\n\u001b[0m",
      "\u001b[0;31mNameError\u001b[0m: name 'l_list' is not defined"
     ]
    }
   ],
   "source": [
    "l_time = %timeit -o  l_list = [num for num in range(51)]\n",
    "\n",
    "print(type(l_list))"
   ]
  },
  {
   "cell_type": "markdown",
   "id": "727a3c30-f266-4e4d-8049-a60750c72e91",
   "metadata": {},
   "source": [
    "## Using %timeit: specifying number of runs and loops\n",
    "\n",
    "A list of 480 superheroes has been loaded into your session (called heroes). You'd like to analyze the runtime for converting this heroes list into a set. Instead of relying on the default settings for %timeit, you'd like to only use 5 runs and 25 loops per each run.\n",
    "\n",
    "What is the correct syntax when using %timeit and only using 5 runs with 25 loops per each run?\n",
    "Instructions\n",
    "50 XP\n",
    "Possible Answers\n",
    "\n",
    "    timeit -runs5 -loops25 set(heroes)\n",
    "#    %%timeit -r5 -n25 set(heroes)\n",
    "    %timeit set(heroes), 5, 25\n",
    "    %timeit -r5 -n25 set(heroes)\n",
    "    "
   ]
  },
  {
   "cell_type": "markdown",
   "id": "d09afc17-4fff-4f35-83ea-eb02acb03415",
   "metadata": {},
   "source": [
    "## Using %timeit: formal name or literal syntax\n",
    "\n",
    "Python allows you to create data structures using either a formal name or a literal syntax. In this exercise, you'll explore how using a literal syntax for creating a data structure can speed up runtimes.\n",
    "data structure \tformal name \tliteral syntax\n",
    "list \tlist() \t[]\n",
    "dictionary \tdict() \t{}\n",
    "tuple \ttuple() \t()\n",
    "Instructions 1/3\n",
    "35 XP\n",
    "\n",
    "    1\n",
    "    2\n",
    "    3\n",
    "\n",
    "    Create an empty list called formal_list using the formal name (list()).\n",
    "    Create an empty list called literal_list using the literal syntax ([]).\n",
    "\n",
    "\n",
    "\n",
    "    Print out the type of formal_list and literal_list to show that both naming conventions create a list.\n",
    "    \n",
    "    \n",
    "    \n",
    "    Instructions 3/3\n",
    "    Question\n",
    "    Use %timeit in your IPython console to compare runtimes between creating a list using the formal name (list()) and the literal syntax ([]). Don't include the print() statements when timing.\n",
    "\n",
    "    Which naming convention is faster?\n",
    "    "
   ]
  },
  {
   "cell_type": "code",
   "execution_count": 10,
   "id": "e78b79e0-6e52-4619-8bdf-fea78d9b9830",
   "metadata": {},
   "outputs": [
    {
     "name": "stdout",
     "output_type": "stream",
     "text": [
      "[]\n",
      "[]\n"
     ]
    }
   ],
   "source": [
    "# Create a list using the formal name\n",
    "formal_list = list()\n",
    "print(formal_list)\n",
    "\n",
    "# Create a list using the literal syntax\n",
    "literal_list = []\n",
    "print(literal_list)"
   ]
  },
  {
   "cell_type": "code",
   "execution_count": 11,
   "id": "161c8057-a360-4eea-8a16-6574eb4689fc",
   "metadata": {},
   "outputs": [
    {
     "name": "stdout",
     "output_type": "stream",
     "text": [
      "<class 'list'>\n",
      "<class 'list'>\n"
     ]
    }
   ],
   "source": [
    "# Create a list using the formal name\n",
    "formal_list = list()\n",
    "print(type(formal_list))\n",
    "\n",
    "# Create a list using the literal syntax\n",
    "literal_list = []\n",
    "print(type(literal_list))"
   ]
  },
  {
   "cell_type": "code",
   "execution_count": 12,
   "id": "09aedf8b-a9b1-4610-8bdd-e8e06857f6d0",
   "metadata": {},
   "outputs": [
    {
     "name": "stdout",
     "output_type": "stream",
     "text": [
      "195 ns ± 0.991 ns per loop (mean ± std. dev. of 7 runs, 1000000 loops each)\n",
      "<class 'list'>\n",
      "96.4 ns ± 0.502 ns per loop (mean ± std. dev. of 7 runs, 10000000 loops each)\n",
      "<class 'list'>\n"
     ]
    }
   ],
   "source": [
    "# Create a list using the formal name\n",
    "f_time = %timeit -o  formal_list = list()\n",
    "print(type(formal_list))\n",
    "\n",
    "# Create a list using the literal syntax\n",
    "l_time = %timeit -o  literal_list = []\n",
    "print(type(literal_list))"
   ]
  },
  {
   "cell_type": "markdown",
   "id": "cedda501-0e7a-4376-b182-3664723c8887",
   "metadata": {},
   "source": [
    "## Using cell magic mode (%%timeit)\n",
    "\n",
    "From here on out, you'll be working with a superheroes dataset. For this exercise, a list of each hero's weight in kilograms (called wts) is loaded into your session. You'd like to convert these weights into pounds.\n",
    "\n",
    "You could accomplish this using the below for loop:\n",
    "\n",
    "hero_wts_lbs = []\n",
    "for wt in wts:\n",
    "    hero_wts_lbs.append(wt * 2.20462)\n",
    "\n",
    "Or you could use a numpy array to accomplish this task:\n",
    "\n",
    "wts_np = np.array(wts)\n",
    "hero_wts_lbs_np = wts_np * 2.20462\n",
    "\n",
    "Use %%timeit in your IPython console to compare runtimes between these two approaches. Make sure to press SHIFT+ENTER after the magic command to add a new line before writing the code you wish to time. After you've finished coding, answer the following question:\n",
    "\n",
    "Which of the above techniques is faster?\n",
    "Instructions\n",
    "50 XP\n",
    "Possible Answers\n",
    "\n",
    "    The for loop technique was faster.\n",
    "#    The numpy technique was faster.\n",
    "    Both techniques had similar runtimes."
   ]
  },
  {
   "cell_type": "code",
   "execution_count": 39,
   "id": "a2894399-aad2-420c-9de6-f3c4371989a9",
   "metadata": {},
   "outputs": [
    {
     "name": "stdout",
     "output_type": "stream",
     "text": [
      "480\n",
      "[37.49 71.8  79.6  68.14 65.5 ]\n"
     ]
    },
    {
     "data": {
      "image/png": "[encoded data removed]",
      "text/plain": [
       "<Figure size 432x288 with 1 Axes>"
      ]
     },
     "metadata": {
      "needs_background": "light"
     },
     "output_type": "display_data"
    }
   ],
   "source": [
    "import numpy as np\n",
    "\n",
    "\n",
    "# weight = np.round(np.random.normal(60.32, 15, 5000),2)\n",
    "wts = np.round(np.random.normal(60.45, 8.2, 480), 2)\n",
    "\n",
    "print(len(wts))\n",
    "print(wts[:5])\n",
    "\n",
    "\n",
    "x = [i for i in range(len(wts))]\n",
    "\n",
    "import matplotlib.pyplot as plt\n",
    "\n",
    "#plt.plot(x, wts)\n",
    "#plt.hist(wts, 20)\n",
    "plt.hist(wts, 30)\n",
    "\n",
    "plt.xlabel('hero weight in kg of range')\n",
    "plt.ylabel('hero weight bin num')\n",
    "plt.title('hero weight and distribution', fontweight='bold')\n",
    "\n",
    "plt.show()"
   ]
  },
  {
   "cell_type": "code",
   "execution_count": 33,
   "id": "4f785869-deb2-4933-878f-6861e70f8ad9",
   "metadata": {},
   "outputs": [
    {
     "data": {
      "text/plain": [
       "\u001b[0;31mSignature:\u001b[0m \u001b[0mplt\u001b[0m\u001b[0;34m.\u001b[0m\u001b[0mtitle\u001b[0m\u001b[0;34m(\u001b[0m\u001b[0mlabel\u001b[0m\u001b[0;34m,\u001b[0m \u001b[0mfontdict\u001b[0m\u001b[0;34m=\u001b[0m\u001b[0;32mNone\u001b[0m\u001b[0;34m,\u001b[0m \u001b[0mloc\u001b[0m\u001b[0;34m=\u001b[0m\u001b[0;32mNone\u001b[0m\u001b[0;34m,\u001b[0m \u001b[0mpad\u001b[0m\u001b[0;34m=\u001b[0m\u001b[0;32mNone\u001b[0m\u001b[0;34m,\u001b[0m \u001b[0;34m*\u001b[0m\u001b[0;34m,\u001b[0m \u001b[0my\u001b[0m\u001b[0;34m=\u001b[0m\u001b[0;32mNone\u001b[0m\u001b[0;34m,\u001b[0m \u001b[0;34m**\u001b[0m\u001b[0mkwargs\u001b[0m\u001b[0;34m)\u001b[0m\u001b[0;34m\u001b[0m\u001b[0;34m\u001b[0m\u001b[0m\n",
       "\u001b[0;31mDocstring:\u001b[0m\n",
       "Set a title for the Axes.\n",
       "\n",
       "Set one of the three available Axes titles. The available titles\n",
       "are positioned above the Axes in the center, flush with the left\n",
       "edge, and flush with the right edge.\n",
       "\n",
       "Parameters\n",
       "----------\n",
       "label : str\n",
       "    Text to use for the title\n",
       "\n",
       "fontdict : dict\n",
       "    A dictionary controlling the appearance of the title text,\n",
       "    the default *fontdict* is::\n",
       "\n",
       "       {'fontsize': rcParams['axes.titlesize'],\n",
       "        'fontweight': rcParams['axes.titleweight'],\n",
       "        'color': rcParams['axes.titlecolor'],\n",
       "        'verticalalignment': 'baseline',\n",
       "        'horizontalalignment': loc}\n",
       "\n",
       "loc : {'center', 'left', 'right'}, default: :rc:`axes.titlelocation`\n",
       "    Which title to set.\n",
       "\n",
       "y : float, default: :rc:`axes.titley`\n",
       "    Vertical Axes loation for the title (1.0 is the top).  If\n",
       "    None (the default), y is determined automatically to avoid\n",
       "    decorators on the Axes.\n",
       "\n",
       "pad : float, default: :rc:`axes.titlepad`\n",
       "    The offset of the title from the top of the Axes, in points.\n",
       "\n",
       "Returns\n",
       "-------\n",
       "`.Text`\n",
       "    The matplotlib text instance representing the title\n",
       "\n",
       "Other Parameters\n",
       "----------------\n",
       "**kwargs : `.Text` properties\n",
       "    Other keyword arguments are text properties, see `.Text` for a list\n",
       "    of valid text properties.\n",
       "\u001b[0;31mFile:\u001b[0m      ~/.virtual_environments/py39/lib/python3.9/site-packages/matplotlib/pyplot.py\n",
       "\u001b[0;31mType:\u001b[0m      function\n"
      ]
     },
     "metadata": {},
     "output_type": "display_data"
    }
   ],
   "source": [
    "#print(dir(plt))\n",
    "\n",
    "#?plt.hist\n",
    "?plt.title"
   ]
  },
  {
   "cell_type": "code",
   "execution_count": 18,
   "id": "615935dc-e00d-49a9-919f-3c0d8671c236",
   "metadata": {},
   "outputs": [
    {
     "name": "stdout",
     "output_type": "stream",
     "text": [
      "275 µs ± 1.93 µs per loop (mean ± std. dev. of 7 runs, 1000 loops each)\n"
     ]
    }
   ],
   "source": [
    "%%timeit\n",
    "hero_wts_lbs = []\n",
    "for wt in wts:\n",
    "    hero_wts_lbs.append(wt*2.20462)\n",
    "    "
   ]
  },
  {
   "cell_type": "code",
   "execution_count": 19,
   "id": "0f00ac72-c8db-4671-8161-cec63f5077ad",
   "metadata": {},
   "outputs": [
    {
     "name": "stdout",
     "output_type": "stream",
     "text": [
      "3.05 µs ± 74.8 ns per loop (mean ± std. dev. of 7 runs, 100000 loops each)\n"
     ]
    }
   ],
   "source": [
    "%%timeit\n",
    "wts_np = np.array(wts)\n",
    "hero_wts_lbs_np = wts_np*2.20462"
   ]
  },
  {
   "cell_type": "markdown",
   "id": "fea211c1-ef3a-4c13-aea2-1dd9a993fdf3",
   "metadata": {},
   "source": [
    "# *****************************************************************************************************\n",
    "# Thats impressive, how could NumPy array did it so much faster? "
   ]
  },
  {
   "cell_type": "markdown",
   "id": "730f278c-b5b1-4943-bc13-00f5aea265be",
   "metadata": {},
   "source": [
    "## Code profiling for runtime\n",
    "\n",
    "\n",
    "\n",
    "**We've covered how to time our code using the magic command %timeit, which works well with bite-sized code.  \n",
    "# But what if we want to time a large code base or see the line-by-line runtime within a function.  \n",
    "# In this lesson, we'll cover a concept called code profiling that allows us analyze code more efficiently.  \n",
    "\n",
    "**Code profiling is a technique used to describe how long, and how often, various parts of a program executed.  The beauty of a code profiling is its ability to gather summary statistics on individual pieces of our code without using magic command like %timeit.  \n",
    "\n",
    "\n",
    "# We'll focus on the line_profiler package to profile a function's runtime line-by-line.  \n"
   ]
  },
  {
   "cell_type": "code",
   "execution_count": 42,
   "id": "e420b3e0-57ce-473a-a3bf-a391938c07c0",
   "metadata": {},
   "outputs": [
    {
     "name": "stdout",
     "output_type": "stream",
     "text": [
      "20.3 µs ± 185 ns per loop (mean ± std. dev. of 7 runs, 10000 loops each)\n",
      "{'Batman': (74.01559999999999, 209.4389), 'Superman': (75.19669999999999, 222.66661999999997), 'Wonder Woman': (72.0471, 163.14188)}\n"
     ]
    }
   ],
   "source": [
    "import line_profiler as lp\n",
    "import numpy as np\n",
    "\n",
    "heroes = ['Batman', 'Superman', 'Wonder Woman']\n",
    "hts = np.array([188.0,  191.0, 183.0])\n",
    "wts = np.array([95, 101, 74])\n",
    "\n",
    "\n",
    "def convert_units(heroes, heights, weights):\n",
    "    new_hts = [ht*0.39370 for ht in heights]\n",
    "    new_wts = [wt*2.20462 for wt in weights]\n",
    "    \n",
    "    hero_data = {}\n",
    "    \n",
    "    for i, hero in enumerate(heroes):\n",
    "        hero_data[hero] = (new_hts[i], new_wts[i])\n",
    "        \n",
    "    return hero_data\n",
    "\n",
    "\n",
    "%timeit heroes_data = convert_units(heroes, hts, wts)\n",
    "print(heroes_data)"
   ]
  },
  {
   "cell_type": "markdown",
   "id": "e6eae2a2-8e9e-4345-982b-959893857fa2",
   "metadata": {},
   "source": [
    "# What if we want to see how long each line within the function took to run? \n",
    "\n",
    "\n",
    "\n",
    "# Load line_profiler into our session\n",
    "%load_ext line_profiler\n",
    "# Then use the magic command %lprun from line_profiler, \n",
    "# to gather runtimes for individual linesof code within the convert_units function\n",
    "\n",
    "%lprun -f convert_units  convert_units(heroes, hts, wts)\n",
    "# %lprun uses s special syntax.  First we use the -f flag to indicate we'd like to profile a function,\n",
    "# Next we specify the name of the function we'd like to profile\n",
    "# Finally we provide the exact function call we'd like to profile by including any arguments needed\n",
    "\n",
    "\n",
    "# *****************************************************************************************************"
   ]
  },
  {
   "cell_type": "code",
   "execution_count": 47,
   "id": "80c94b9f-e078-479f-b319-68e55114447e",
   "metadata": {},
   "outputs": [
    {
     "name": "stdout",
     "output_type": "stream",
     "text": [
      "The line_profiler extension is already loaded. To reload it, use:\n",
      "  %reload_ext line_profiler\n"
     ]
    },
    {
     "data": {
      "text/plain": [
       "Timer unit: 1e-06 s\n",
       "\n",
       "Total time: 0.000202 s\n",
       "File: /tmp/ipykernel_19700/970579716.py\n",
       "Function: convert_units at line 19\n",
       "\n",
       "Line #      Hits         Time  Per Hit   % Time  Line Contents\n",
       "==============================================================\n",
       "    19                                           def convert_units(heroes, heights, weights):\n",
       "    20         1         26.0     26.0     12.9      new_hts = [ht*0.39370 for ht in heights]\n",
       "    21         1         63.0     63.0     31.2      new_wts = [wt*2.20462 for wt in weights]\n",
       "    22                                               \n",
       "    23         1          5.0      5.0      2.5      hero_data = {}\n",
       "    24                                               \n",
       "    25         4         96.0     24.0     47.5      for i, hero in enumerate(heroes):\n",
       "    26         3         10.0      3.3      5.0          hero_data[hero] = (new_hts[i], new_wts[i])\n",
       "    27                                                   \n",
       "    28         1          2.0      2.0      1.0      return hero_data"
      ]
     },
     "metadata": {},
     "output_type": "display_data"
    }
   ],
   "source": [
    "# Load line_profiler into our session\n",
    "%load_ext line_profiler\n",
    "# Then use the magic command %lprun from line_profiler, \n",
    "# to gather runtimes for individual linesof code within the convert_units function\n",
    "\n",
    "%lprun -f convert_units  convert_units(heroes, hts, wts)\n",
    "# %lprun uses s special syntax.  First we use the -f flag to indicate we'd like to profile a function,\n",
    "# Next we specify the name of the function we'd like to profile\n",
    "# Finally we provide the exact function call we'd like to profile by including any arguments needed\n",
    "\n",
    "import line_profiler as lp\n",
    "import numpy as np\n",
    "\n",
    "heroes = ['Batman', 'Superman', 'Wonder Woman']\n",
    "hts = np.array([188.0,  191.0, 183.0])\n",
    "wts = np.array([95, 101, 74])\n",
    "\n",
    "\n",
    "def convert_units(heroes, heights, weights):\n",
    "    new_hts = [ht*0.39370 for ht in heights]\n",
    "    new_wts = [wt*2.20462 for wt in weights]\n",
    "    \n",
    "    hero_data = {}\n",
    "    \n",
    "    for i, hero in enumerate(heroes):\n",
    "        hero_data[hero] = (new_hts[i], new_wts[i])\n",
    "        \n",
    "    return hero_data\n",
    "\n",
    "#\n",
    "#heroes_data = convert_units(heroes, hts, wts)\n",
    "#print(heroes_data)"
   ]
  },
  {
   "cell_type": "code",
   "execution_count": 48,
   "id": "568569dd-e9a5-43fe-8e92-585bdcc92dc2",
   "metadata": {},
   "outputs": [
    {
     "name": "stdout",
     "output_type": "stream",
     "text": [
      "30.9 µs ± 1.52 µs per loop (mean ± std. dev. of 7 runs, 10000 loops each)\n"
     ]
    }
   ],
   "source": [
    "convert_time = %timeit -o  heroes_data = convert_units(heroes, hts, wts)\n",
    "\n",
    "# ns \t\tnanosecond \t\t10-9\n",
    "# µs (us) \tmicrosecond \t10-6"
   ]
  },
  {
   "cell_type": "markdown",
   "id": "1462e5f4-2eba-40d5-9803-3eaf6b96b7f6",
   "metadata": {},
   "source": [
    "# The output from %lprun provides a nice table that summarizes the profiling statistics\n",
    "\n",
    "\n",
    "   **First a column specifying the Line number followed by a column, displaying the number of times that line was executed (called the Hits column).  \n",
    "   **Next , the Time column shows the total amount of time each line took to execute.  This column uses a specific unit that can be found in the first line of the output.  Here our time unit is listed in microseconds using scientific notation (1e_06 s or 10^(-6) s).  \n",
    "   **The Per Hit column gives the average amount of time spent executing a single line.  This is calculated by dividing the Time column by the Hits column.  \n",
    "   **The %Time column shows the percentage of time spent on a line relative to the total amount of time spen t in the function.  \n",
    "   **Finally the source code is displayed for each line in the Line Contents column.  \n",
    "\n",
    "\n",
    "  # You may notice that the Total time reported when using %lprun and the time reported from using %timeit do not match.  Remember %timeit uses multiple loops order to calculatean average and standard devision of time, so the time report from each of these magic commands arent expected to match exactly.\n",
    "   "
   ]
  },
  {
   "cell_type": "markdown",
   "id": "f1367b1d-2078-441b-83c7-88eef56bb8b0",
   "metadata": {},
   "source": [
    "## Pop quiz: steps for using %lprun\n",
    "\n",
    "Below is the convert_units() function, which converts the heights and weights of our favorite superheroes from metric units to Imperial units.\n",
    "\n",
    "def convert_units(heroes, heights, weights):\n",
    "\n",
    "    new_hts = [ht * 0.39370  for ht in heights]\n",
    "    new_wts = [wt * 2.20462  for wt in weights]\n",
    "\n",
    "    hero_data = {}\n",
    "\n",
    "    for i,hero in enumerate(heroes):\n",
    "        hero_data[hero] = (new_hts[i], new_wts[i])\n",
    "\n",
    "    return hero_data\n",
    "\n",
    "Suppose you have a list of superheroes (named heroes) along with each hero's height (in centimeters) and weight (in kilograms) loaded as NumPy arrays (named hts and wts respectively).\n",
    "\n",
    "What are the necessary steps you need to take in order to profile the convert_units() function acting on your superheroes data if you'd like to see line-by-line runtimes?\n",
    "Answer the question\n",
    "50XP\n",
    "Possible Answers\n",
    "\n",
    "    Use %load_ext line_profiler to load the line_profiler within your IPython session.\n",
    "    press\n",
    "    1\n",
    "#    Use %lprun -f convert_units convert_units(heroes, hts, wts) to get line-by-line runtimes.\n",
    "    press\n",
    "    2\n",
    "    Use %timeit convert_units(heroes, hts, wts) to gather runtimes.\n",
    "    press\n",
    "    3\n",
    "    The first and second options from above are necessary.\n",
    "    press\n",
    "    4\n",
    "    "
   ]
  },
  {
   "cell_type": "markdown",
   "id": "a7162ba5-8e8f-46b0-a580-2491ebe78f59",
   "metadata": {},
   "source": [
    "## Using %lprun: spot bottlenecks\n",
    "\n",
    "Profiling a function allows you to dig deeper into the function's source code and potentially spot bottlenecks. When you see certain lines of code taking up the majority of the function's runtime, it is an indication that you may want to deploy a different, more efficient technique.\n",
    "\n",
    "Lets dig deeper into the convert_units() function.\n",
    "\n",
    "def convert_units(heroes, heights, weights):\n",
    "\n",
    "    new_hts = [ht * 0.39370  for ht in heights]\n",
    "    new_wts = [wt * 2.20462  for wt in weights]\n",
    "\n",
    "    hero_data = {}\n",
    "\n",
    "    for i,hero in enumerate(heroes):\n",
    "        hero_data[hero] = (new_hts[i], new_wts[i])\n",
    "\n",
    "    return hero_data\n",
    "\n",
    "Load the line_profiler package into your IPython session. Then, use %lprun to profile the convert_units() function acting on your superheroes data. Remember to use the special syntax for working with %lprun (you'll have to provide a -f flag specifying the function you'd like to profile).\n",
    "\n",
    "The convert_units() function, heroes list, hts array, and wts array have been loaded into your session. After you've finished coding, answer the following question:\n",
    "\n",
    "What percentage of time is spent on the new_hts list comprehension line of code relative to the total amount of time spent in the convert_units() function?\n",
    "Instructions\n",
    "50 XP\n",
    "Possible Answers\n",
    "\n",
    "    0% - 10%\n",
    "    11% - 20%\n",
    "#    21% - 50%\n",
    "    51% - 100%\n",
    "\n"
   ]
  },
  {
   "cell_type": "code",
   "execution_count": 17,
   "id": "5d28440c-f57c-4ec1-baba-ecf89b5fa31f",
   "metadata": {},
   "outputs": [
    {
     "name": "stdout",
     "output_type": "stream",
     "text": [
      "The line_profiler extension is already loaded. To reload it, use:\n",
      "  %reload_ext line_profiler\n"
     ]
    },
    {
     "data": {
      "text/plain": [
       "Timer unit: 1e-06 s\n",
       "\n",
       "Total time: 0.000105 s\n",
       "File: /tmp/ipykernel_22098/1540777712.py\n",
       "Function: convert_units at line 11\n",
       "\n",
       "Line #      Hits         Time  Per Hit   % Time  Line Contents\n",
       "==============================================================\n",
       "    11                                           def convert_units(heroes, heights, weights):\n",
       "    12         1         31.0     31.0     29.5      new_hts = [ht*0.39370 for ht in heights]\n",
       "    13         1         51.0     51.0     48.6      new_wts = [wt*2.20462 for wt in weights]\n",
       "    14                                               \n",
       "    15         1          2.0      2.0      1.9      hero_data = {}\n",
       "    16                                               \n",
       "    17         4          9.0      2.2      8.6      for i, hero in enumerate(heroes):\n",
       "    18         3          8.0      2.7      7.6          hero_data[hero] = (new_hts[i], new_wts[i])\n",
       "    19                                                   \n",
       "    20         1          4.0      4.0      3.8      return hero_data"
      ]
     },
     "metadata": {},
     "output_type": "display_data"
    }
   ],
   "source": [
    "# %lsmagic\n",
    "\n",
    "import line_profiler as lp\n",
    "import numpy as np\n",
    "\n",
    "heroes = ['Batman', 'Superman', 'Wonder Woman']\n",
    "hts = np.array([188.0,  191.0, 183.0])\n",
    "wts = np.array([95, 101, 74])\n",
    "\n",
    "\n",
    "def convert_units(heroes, heights, weights):\n",
    "    new_hts = [ht*0.39370 for ht in heights]\n",
    "    new_wts = [wt*2.20462 for wt in weights]\n",
    "    \n",
    "    hero_data = {}\n",
    "    \n",
    "    for i, hero in enumerate(heroes):\n",
    "        hero_data[hero] = (new_hts[i], new_wts[i])\n",
    "        \n",
    "    return hero_data\n",
    "\n",
    "\n",
    "\n",
    "%load_ext line_profiler\n",
    "\n",
    "%lprun -f convert_units  convert_units(heroes, hts, wts)"
   ]
  },
  {
   "cell_type": "code",
   "execution_count": 18,
   "id": "9640bfdc-f8ab-4473-b0f9-a2f40747c753",
   "metadata": {},
   "outputs": [
    {
     "data": {
      "text/plain": [
       "array([ 95, 101,  74])"
      ]
     },
     "execution_count": 18,
     "metadata": {},
     "output_type": "execute_result"
    }
   ],
   "source": [
    "wts\n"
   ]
  },
  {
   "cell_type": "code",
   "execution_count": 19,
   "id": "6f47e5a3-0231-4a78-a621-f804ab257888",
   "metadata": {},
   "outputs": [
    {
     "data": {
      "application/json": {
       "cell": {
        "!": "OSMagics",
        "HTML": "Other",
        "SVG": "Other",
        "bash": "Other",
        "capture": "ExecutionMagics",
        "debug": "ExecutionMagics",
        "file": "Other",
        "html": "DisplayMagics",
        "javascript": "DisplayMagics",
        "js": "DisplayMagics",
        "latex": "DisplayMagics",
        "markdown": "DisplayMagics",
        "perl": "Other",
        "prun": "ExecutionMagics",
        "pypy": "Other",
        "python": "Other",
        "python2": "Other",
        "python3": "Other",
        "ruby": "Other",
        "script": "ScriptMagics",
        "sh": "Other",
        "svg": "DisplayMagics",
        "sx": "OSMagics",
        "system": "OSMagics",
        "time": "ExecutionMagics",
        "timeit": "ExecutionMagics",
        "writefile": "OSMagics"
       },
       "line": {
        "alias": "OSMagics",
        "alias_magic": "BasicMagics",
        "autoawait": "AsyncMagics",
        "autocall": "AutoMagics",
        "automagic": "AutoMagics",
        "autosave": "KernelMagics",
        "bookmark": "OSMagics",
        "cat": "Other",
        "cd": "OSMagics",
        "clear": "KernelMagics",
        "colors": "BasicMagics",
        "conda": "PackagingMagics",
        "config": "ConfigMagics",
        "connect_info": "KernelMagics",
        "cp": "Other",
        "debug": "ExecutionMagics",
        "dhist": "OSMagics",
        "dirs": "OSMagics",
        "doctest_mode": "BasicMagics",
        "ed": "Other",
        "edit": "KernelMagics",
        "env": "OSMagics",
        "gui": "BasicMagics",
        "hist": "Other",
        "history": "HistoryMagics",
        "killbgscripts": "ScriptMagics",
        "ldir": "Other",
        "less": "KernelMagics",
        "lf": "Other",
        "lk": "Other",
        "ll": "Other",
        "load": "CodeMagics",
        "load_ext": "ExtensionMagics",
        "loadpy": "CodeMagics",
        "logoff": "LoggingMagics",
        "logon": "LoggingMagics",
        "logstart": "LoggingMagics",
        "logstate": "LoggingMagics",
        "logstop": "LoggingMagics",
        "lprun": "LineProfilerMagics",
        "ls": "Other",
        "lsmagic": "BasicMagics",
        "lx": "Other",
        "macro": "ExecutionMagics",
        "magic": "BasicMagics",
        "man": "KernelMagics",
        "matplotlib": "PylabMagics",
        "mkdir": "Other",
        "more": "KernelMagics",
        "mv": "Other",
        "notebook": "BasicMagics",
        "page": "BasicMagics",
        "pastebin": "CodeMagics",
        "pdb": "ExecutionMagics",
        "pdef": "NamespaceMagics",
        "pdoc": "NamespaceMagics",
        "pfile": "NamespaceMagics",
        "pinfo": "NamespaceMagics",
        "pinfo2": "NamespaceMagics",
        "pip": "PackagingMagics",
        "popd": "OSMagics",
        "pprint": "BasicMagics",
        "precision": "BasicMagics",
        "prun": "ExecutionMagics",
        "psearch": "NamespaceMagics",
        "psource": "NamespaceMagics",
        "pushd": "OSMagics",
        "pwd": "OSMagics",
        "pycat": "OSMagics",
        "pylab": "PylabMagics",
        "qtconsole": "KernelMagics",
        "quickref": "BasicMagics",
        "recall": "HistoryMagics",
        "rehashx": "OSMagics",
        "reload_ext": "ExtensionMagics",
        "rep": "Other",
        "rerun": "HistoryMagics",
        "reset": "NamespaceMagics",
        "reset_selective": "NamespaceMagics",
        "rm": "Other",
        "rmdir": "Other",
        "run": "ExecutionMagics",
        "save": "CodeMagics",
        "sc": "OSMagics",
        "set_env": "OSMagics",
        "store": "StoreMagics",
        "sx": "OSMagics",
        "system": "OSMagics",
        "tb": "ExecutionMagics",
        "time": "ExecutionMagics",
        "timeit": "ExecutionMagics",
        "unalias": "OSMagics",
        "unload_ext": "ExtensionMagics",
        "who": "NamespaceMagics",
        "who_ls": "NamespaceMagics",
        "whos": "NamespaceMagics",
        "xdel": "NamespaceMagics",
        "xmode": "BasicMagics"
       }
      },
      "text/plain": [
       "Available line magics:\n",
       "%alias  %alias_magic  %autoawait  %autocall  %automagic  %autosave  %bookmark  %cat  %cd  %clear  %colors  %conda  %config  %connect_info  %cp  %debug  %dhist  %dirs  %doctest_mode  %ed  %edit  %env  %gui  %hist  %history  %killbgscripts  %ldir  %less  %lf  %lk  %ll  %load  %load_ext  %loadpy  %logoff  %logon  %logstart  %logstate  %logstop  %lprun  %ls  %lsmagic  %lx  %macro  %magic  %man  %matplotlib  %mkdir  %more  %mv  %notebook  %page  %pastebin  %pdb  %pdef  %pdoc  %pfile  %pinfo  %pinfo2  %pip  %popd  %pprint  %precision  %prun  %psearch  %psource  %pushd  %pwd  %pycat  %pylab  %qtconsole  %quickref  %recall  %rehashx  %reload_ext  %rep  %rerun  %reset  %reset_selective  %rm  %rmdir  %run  %save  %sc  %set_env  %store  %sx  %system  %tb  %time  %timeit  %unalias  %unload_ext  %who  %who_ls  %whos  %xdel  %xmode\n",
       "\n",
       "Available cell magics:\n",
       "%%!  %%HTML  %%SVG  %%bash  %%capture  %%debug  %%file  %%html  %%javascript  %%js  %%latex  %%markdown  %%perl  %%prun  %%pypy  %%python  %%python2  %%python3  %%ruby  %%script  %%sh  %%svg  %%sx  %%system  %%time  %%timeit  %%writefile\n",
       "\n",
       "Automagic is ON, % prefix IS NOT needed for line magics."
      ]
     },
     "execution_count": 19,
     "metadata": {},
     "output_type": "execute_result"
    }
   ],
   "source": [
    "%lsmagic"
   ]
  },
  {
   "cell_type": "code",
   "execution_count": null,
   "id": "8018b588-88d4-4d8b-aef6-0fc602c702cb",
   "metadata": {},
   "outputs": [],
   "source": [
    "# Create a list of integers (0-50) using list comprehension\n",
    "nums_list_comp = [num for num in range(51)]\n",
    "print(nums_list_comp)\n",
    "In [1]:\n",
    "%load_ext line_profiler\n",
    "In [2]:\n",
    "\n",
    "In [2]:\n",
    "%lprun -f convert_units  convert_units(heroes, hts, wts)"
   ]
  },
  {
   "cell_type": "markdown",
   "id": "1e1e2104-91a0-427b-b6f8-9b47254445d5",
   "metadata": {},
   "source": [
    "## Code profiling for memory usage\n",
    "\n",
    "\n",
    "\n",
    "**We've defined efficient code as code that has a minimal runtime and a small memory footprint.  So far, we've only covered how to inspect the runtime of our code.  In this lession, we'll cover a few techniques on how to evaluate our code's memory footprint.  \n",
    "\n",
    "\n",
    "# One basic approach for inspecting memory consumption isusing Python's build in modules sys.  This module contains system specific function and contains one nice method .getsizeof(), that returns the size of an objcet in bytes.  \n",
    "\n",
    "**sys.getsizeof() is a quick and dirty way to see the size of an object, but this only gives us the size of an individual object.  What if we want to inspect the line-by-line memory footprint of our code?  \n",
    "\n",
    "\n",
    "# We'll have to use a code profiler.  Just like we've used code profiling to gether datailed stats on runtime, we can also use code profiling to analyze the memory allocation for each line of code in our code base.  We use the memory_profiler package that is very similar to the line_profiler package.  \n",
    "\n",
    "**The momory_frofiler comes with a handy magic command %mprun that uses the same syntax as %lprun\n",
    "\n",
    "**One drawback to using %mprunis that any function profiled for memory consumption must be defined in a file and imported.  %mprun can only be used on functions defined in pyhsical files, and not in IPython session.  \n"
   ]
  },
  {
   "cell_type": "code",
   "execution_count": 82,
   "id": "e41c1c2a-42dc-4ec9-8348-62e764b4898a",
   "metadata": {},
   "outputs": [
    {
     "data": {
      "text/plain": [
       "8056"
      ]
     },
     "execution_count": 82,
     "metadata": {},
     "output_type": "execute_result"
    }
   ],
   "source": [
    "import sys\n",
    "\n",
    "nums_list = [*range(1000)]\n",
    "sys.getsizeof(nums_list)\n",
    "\n",
    "\n",
    "# *************************************************************************************************** #\n",
    "# sys.getsizeof() returns the size of an object in bytes"
   ]
  },
  {
   "cell_type": "code",
   "execution_count": 32,
   "id": "2ddf9e99-41f5-4aeb-8168-f1b254a373e3",
   "metadata": {},
   "outputs": [
    {
     "data": {
      "text/plain": [
       "8104"
      ]
     },
     "execution_count": 32,
     "metadata": {},
     "output_type": "execute_result"
    }
   ],
   "source": [
    "import numpy as np\n",
    "#nums_np = np.array(range(1000))  # why not np.array([*range(1000)]) or np.array(*range(1000))\n",
    "nums_np2 = np.array([*range(1000)])\n",
    "sys.getsizeof(nums_np2)"
   ]
  },
  {
   "cell_type": "code",
   "execution_count": 31,
   "id": "480c4150-ddb9-4d22-8c46-ea0e4feb8b43",
   "metadata": {},
   "outputs": [
    {
     "data": {
      "text/plain": [
       "8104"
      ]
     },
     "execution_count": 31,
     "metadata": {},
     "output_type": "execute_result"
    }
   ],
   "source": [
    "import numpy as np\n",
    "nums_np = np.array(range(1000))\n",
    "sys.getsizeof(nums_np)"
   ]
  },
  {
   "cell_type": "code",
   "execution_count": 37,
   "id": "9a6ec8a8-423a-4fb1-a673-c8cda362289d",
   "metadata": {},
   "outputs": [
    {
     "data": {
      "text/plain": [
       "\u001b[0;31mDocstring:\u001b[0m Load an IPython extension by its module name.\n",
       "\u001b[0;31mFile:\u001b[0m      ~/.virtual_environments/py39/lib/python3.9/site-packages/IPython/core/magics/extension.py\n"
      ]
     },
     "metadata": {},
     "output_type": "display_data"
    }
   ],
   "source": [
    "?%load_ext"
   ]
  },
  {
   "cell_type": "code",
   "execution_count": 47,
   "id": "44deec2e-18b6-48e0-92bd-66c737c7df16",
   "metadata": {},
   "outputs": [
    {
     "name": "stdout",
     "output_type": "stream",
     "text": [
      "The memory_profiler extension is already loaded. To reload it, use:\n",
      "  %reload_ext memory_profiler\n",
      "\n"
     ]
    },
    {
     "data": {
      "text/plain": [
       "Filename: /home/jhu/.virtual_environments/heroes_func.py\n",
       "\n",
       "Line #    Mem usage    Increment  Occurences   Line Contents\n",
       "============================================================\n",
       "     1     77.5 MiB     77.5 MiB           1   def convert_units(heroes, heights, weights):\n",
       "     2     77.5 MiB      0.0 MiB           6       new_hts = [ht*0.39370 for ht in heights]\n",
       "     3     77.5 MiB      0.0 MiB           6       new_wts = [wt*2.20462 for wt in weights]\n",
       "     4                                             \n",
       "     5     77.5 MiB      0.0 MiB           1       hero_data = {}\n",
       "     6                                             \n",
       "     7     77.5 MiB      0.0 MiB           4       for i, hero in enumerate(heroes):\n",
       "     8     77.5 MiB      0.0 MiB           3           hero_data[hero] = (new_hts[i], new_wts[i])\n",
       "     9                                                 \n",
       "    10     77.5 MiB      0.0 MiB           1       return hero_data"
      ]
     },
     "metadata": {},
     "output_type": "display_data"
    }
   ],
   "source": [
    "import numpy as np\n",
    "from heroes_func import convert_units\n",
    "\n",
    "heroes = ['Batman', 'Superman', 'Wonder Woman']\n",
    "hts = np.array([188.0,  191.0, 183.0])\n",
    "wts = np.array([95, 101, 74])\n",
    "\n",
    "\n",
    "%load_ext memory_profiler\n",
    "%mprun -f convert_units  convert_units(heroes, hts, wts)"
   ]
  },
  {
   "cell_type": "markdown",
   "id": "bb6adef3-1d11-4141-a522-d4fe945b1f74",
   "metadata": {},
   "source": [
    "## In this example, the convert_units function was placed in a file named heroes_func.py, now we simply import our function from the heroes_func.py file, and use the magic command %mprun to gather statistics on its memory footprint.  %mprun output is similar to %lprun output.  \n",
    "\n",
    "   **First Line column represent the line number of the code that has been profiled\n",
    "   **Second Men usage column is the memory used after that line has been executed\n",
    "   **The Increment column shows the diff in memory of current line respect to the previous\n",
    "     It shows us the impact of the current line on the total memory usage\n",
    "   **The Last LineContents shows the source code that has been profiled\n",
    "   \n",
    "   \n",
    "## Profiling  a function with %mprun allows us to see what lines are taking up a large amount of memory and possible develop a more efficient solution.  "
   ]
  },
  {
   "cell_type": "code",
   "execution_count": 73,
   "id": "5ba4e57d-df3e-4056-a4de-a83d9d0591c8",
   "metadata": {},
   "outputs": [
    {
     "name": "stdout",
     "output_type": "stream",
     "text": [
      "['Robert', 'Nikki', 'Edgar', 'Cindy', 'Dustin', 'Ronald', 'Janet', 'Reva', 'Peter', 'Adrian']\n",
      "312024\n",
      "[202.33541957 194.95231036 210.40621334 179.15907899 167.33723425\n",
      " 171.34098172 199.01829057 193.82540397 167.90809816 180.29211501]\n",
      "[108.10781817  94.51560164  97.91975744 102.23738267  99.26354253\n",
      "  95.14227893  84.23304551  87.34606882 102.29084034 100.45343104]\n",
      "280112\n",
      "The memory_profiler extension is already loaded. To reload it, use:\n",
      "  %reload_ext memory_profiler\n",
      "\n"
     ]
    },
    {
     "data": {
      "text/plain": [
       "Filename: /home/jhu/.virtual_environments/heroes_func.py\n",
       "\n",
       "Line #    Mem usage    Increment  Occurences   Line Contents\n",
       "============================================================\n",
       "     1     88.3 MiB     88.3 MiB           1   def convert_units(heroes, heights, weights):\n",
       "     2     88.3 MiB      0.0 MiB       35004       new_hts = [ht*0.39370 for ht in heights]\n",
       "     3     88.5 MiB      0.3 MiB       35004       new_wts = [wt*2.20462 for wt in weights]\n",
       "     4                                             \n",
       "     5     88.5 MiB      0.0 MiB           1       hero_data = {}\n",
       "     6                                             \n",
       "     7     88.5 MiB      0.0 MiB       35002       for i, hero in enumerate(heroes):\n",
       "     8     88.5 MiB      0.0 MiB       35001           hero_data[hero] = (new_hts[i], new_wts[i])\n",
       "     9                                                 \n",
       "    10     88.5 MiB      0.0 MiB           1       return hero_data"
      ]
     },
     "metadata": {},
     "output_type": "display_data"
    }
   ],
   "source": [
    "import names\n",
    "import numpy as np\n",
    "import sys\n",
    "\n",
    "#print(dir(names.get_full_name))\n",
    "#print(dir(names))\n",
    "\n",
    "#for i in range(35001):\n",
    "#    heros = [*names.get_first_name()]\n",
    "#print(heros[:10])\n",
    "    \n",
    "    \n",
    "heroes = [names.get_first_name() for i in range(35001)]\n",
    "print(heroes[:10])\n",
    "print(sys.getsizeof(heroes))\n",
    "\n",
    "#?np.random.normal\n",
    "\n",
    "hts = np.array(np.random.normal(191.4, 13, 35001))\n",
    "wts = np.array(np.random.normal(95.3, 8, 35001))\n",
    "\n",
    "print(hts[:10])\n",
    "print(wts[:10])\n",
    "\n",
    "print(sys.getsizeof(hts))\n",
    "\n",
    "\n",
    "from heroes_func import convert_units\n",
    "\n",
    "\n",
    "%load_ext memory_profiler\n",
    "%mprun -f convert_units  convert_units(heroes, hts, wts)"
   ]
  },
  {
   "cell_type": "markdown",
   "id": "72d1a37d-1168-43c6-aefb-465b4ac7518d",
   "metadata": {},
   "source": [
    "## Do not worry about zeors, the main take away is that small memory allocation may not show up when using %mprun magic command, and thats a ferfectly fine result.  \n",
    "\n",
    "## Finally how memory_frofiler package did this?  The memory_profiler inspects memory footprint consumption by querying the operating system.  This might be slightly different from the amount of memory that is used by the Python interpreter.  And results may differ between platforms and runs.  \n",
    "\n"
   ]
  },
  {
   "cell_type": "markdown",
   "id": "3bbad3a1-e7a1-4ce6-a53b-eba099ecd304",
   "metadata": {},
   "source": [
    "## Pop quiz: steps for using %mprun\n",
    "\n",
    "Suppose you have a list of superheroes (named heroes) along with each hero's height (in centimeters) and weight (in kilograms) loaded as NumPy arrays (named hts and wts, respectively). You also have a convert_units() function saved in a file titled hero_funcs.py.\n",
    "\n",
    "What are the necessary steps you need to take in order to profile the convert_units() function acting on your superheroes data if you'd like to see the line-by-line memory consumption of convert_units()?\n",
    "Answer the question\n",
    "50XP\n",
    "Possible Answers\n",
    "\n",
    "    Use the command from hero_funcs import convert_units to load the function you'd like to profile.\n",
    "    1\n",
    "    Use %load_ext memory_profiler to load the memory_profiler within your IPython session.\n",
    "    2\n",
    "    Use %mprun -f convert_units convert_units(heroes, hts, wts) to get line-by-line memory allocations.\n",
    "    3\n",
    "#    All of the above.\n",
    "    4\n",
    "    "
   ]
  },
  {
   "cell_type": "markdown",
   "id": "856b57be-d96a-4010-9f42-7bb9ca53f398",
   "metadata": {},
   "source": [
    "## Using %mprun: Hero BMI\n",
    "\n",
    "You'd like to calculate the body mass index (BMI) for a selected sample of heroes. BMI can be calculated using the below formula:\n",
    "\n",
    "BMI = mass(kg) / height(m)^2\n",
    "\n",
    "# A random sample of 25,000 superheroes has been loaded into your session as an array called sample_indices. This sample is a list of indices that corresponds to each superhero's index selected from the heroes list.\n",
    "\n",
    "A function named calc_bmi_lists has also been created and saved to a file titled bmi_lists.py. For convenience, it is displayed below:\n",
    "\n",
    "def calc_bmi_lists(sample_indices, hts, wts):\n",
    "\n",
    "    # Gather sample heights and weights as lists\n",
    "    s_hts = [hts[i] for i in sample_indices]\n",
    "    s_wts = [wts[i] for i in sample_indices]\n",
    "\n",
    "    # Convert heights from cm to m and square with list comprehension\n",
    "    s_hts_m_sqr = [(ht / 100) ** 2 for ht in s_hts]\n",
    "\n",
    "    # Calculate BMIs as a list with list comprehension\n",
    "    bmis = [s_wts[i] / s_hts_m_sqr[i] for i in range(len(sample_indices))]\n",
    "\n",
    "    return bmis\n",
    "\n",
    "# Notice that this function performs all necessary calculations using list comprehension (hence the name calc_bmi_lists()). Dig deeper into this function and analyze the memory footprint for performing your calculations using lists:\n",
    "\n",
    "    Load the memory_profiler package into your IPython session.\n",
    "    Import calc_bmi_lists from bmi_lists.\n",
    "    Once you've completed the above steps, use %mprun to profile the calc_bmi_lists() function acting on your superheroes data. The hts array and wts array have already been loaded into your session.\n",
    "\n",
    "After you've finished coding, answer the following question:\n",
    "\n",
    "How much memory do the list comprehension lines of code consume in the calc_bmi_lists() function? (i.e., what is the total sum of the Increment column for these four lines of code?)\n",
    "Instructions\n",
    "50 XP\n",
    "Possible Answers\n",
    "\n",
    "    20.0 MiB - 30.0 MiB\n",
    "#    0.1 MiB - 2.0 MiB\n",
    "    10.0 MiB - 15.0 MiB\n",
    "    0.0 MiB\n",
    "    "
   ]
  },
  {
   "cell_type": "code",
   "execution_count": 1,
   "id": "b6d32c90-b270-4135-af9f-cc69a58f667a",
   "metadata": {},
   "outputs": [
    {
     "name": "stdout",
     "output_type": "stream",
     "text": [
      "\n"
     ]
    },
    {
     "data": {
      "text/plain": [
       "Filename: /home/jhu/.virtual_environments/bmi_lists.py\n",
       "\n",
       "Line #    Mem usage    Increment  Occurences   Line Contents\n",
       "============================================================\n",
       "     1     78.3 MiB     78.3 MiB           1   def calc_bmi_lists(sample_indices, hts, wts):\n",
       "     2                                         \n",
       "     3                                             # Gather sample heights and weights as lists\n",
       "     4     79.2 MiB      0.9 MiB       25004       s_hts = [hts[i] for i in sample_indices]\n",
       "     5     80.2 MiB      1.0 MiB       25004       s_wts = [wts[i] for i in sample_indices]\n",
       "     6                                         \n",
       "     7                                             # Convert heights from cm to m and square with list comprehension\n",
       "     8     81.3 MiB      1.0 MiB       25004       s_hts_m_sqr = [(ht / 100) ** 2 for ht in s_hts]\n",
       "     9                                         \n",
       "    10                                             # Calculate BMIs as a list with list comprehension\n",
       "    11     82.0 MiB      0.8 MiB       25004       bmis = [s_wts[i] / s_hts_m_sqr[i] for i in range(len(sample_indices))]\n",
       "    12                                         \n",
       "    13     82.0 MiB      0.0 MiB           1       return bmis"
      ]
     },
     "metadata": {},
     "output_type": "display_data"
    }
   ],
   "source": [
    "from bmi_lists import calc_bmi_lists\n",
    "import names\n",
    "import numpy as np\n",
    "\n",
    "heroes = [names.get_first_name() for i in range(25001)]\n",
    "\n",
    "hts = np.array(np.random.normal(191.4, 13, 25001))\n",
    "wts = np.array(np.random.normal(95.3, 8, 25001))\n",
    "sample_indices = np.array([i for i in range(25001)])\n",
    "\n",
    "\n",
    "%load_ext memory_profiler\n",
    "%mprun -f calc_bmi_lists calc_bmi_lists(sample_indices, hts, wts)\n",
    "\n"
   ]
  },
  {
   "cell_type": "code",
   "execution_count": 1,
   "id": "5fc7523d-8e46-4aea-832c-df04bbed528a",
   "metadata": {},
   "outputs": [
    {
     "name": "stdout",
     "output_type": "stream",
     "text": [
      "71.2 ms ± 325 µs per loop (mean ± std. dev. of 7 runs, 10 loops each)\n"
     ]
    },
    {
     "data": {
      "text/plain": [
       "Timer unit: 1e-06 s\n",
       "\n",
       "Total time: 0.088552 s\n",
       "File: /tmp/ipykernel_28078/4291369752.py\n",
       "Function: calc_bmi_lists at line 12\n",
       "\n",
       "Line #      Hits         Time  Per Hit   % Time  Line Contents\n",
       "==============================================================\n",
       "    12                                           def calc_bmi_lists(sample_indices, hts, wts):\n",
       "    13                                           \n",
       "    14                                               # Gather sample heights and weights as lists\n",
       "    15         1      18180.0  18180.0     20.5      s_hts = [hts[i] for i in sample_indices]\n",
       "    16         1      18626.0  18626.0     21.0      s_wts = [wts[i] for i in sample_indices]\n",
       "    17                                           \n",
       "    18                                               # Convert heights from cm to m and square with list comprehension\n",
       "    19         1      36559.0  36559.0     41.3      s_hts_m_sqr = [(ht / 100) ** 2 for ht in s_hts]\n",
       "    20                                           \n",
       "    21                                               # Calculate BMIs as a list with list comprehension\n",
       "    22         1      15183.0  15183.0     17.1      bmis = [s_wts[i] / s_hts_m_sqr[i] for i in range(len(sample_indices))]\n",
       "    23                                           \n",
       "    24         1          4.0      4.0      0.0      return bmis"
      ]
     },
     "metadata": {},
     "output_type": "display_data"
    }
   ],
   "source": [
    "from bmi_lists import calc_bmi_lists\n",
    "import names\n",
    "import numpy as np\n",
    "\n",
    "heroes = [names.get_first_name() for i in range(25001)]\n",
    "\n",
    "hts = np.array(np.random.normal(191.4, 13, 25001))\n",
    "wts = np.array(np.random.normal(95.3, 8, 25001))\n",
    "sample_indices = np.array([i for i in range(25001)])\n",
    "\n",
    "\n",
    "def calc_bmi_lists(sample_indices, hts, wts):\n",
    "\n",
    "    # Gather sample heights and weights as lists\n",
    "    s_hts = [hts[i] for i in sample_indices]\n",
    "    s_wts = [wts[i] for i in sample_indices]\n",
    "\n",
    "    # Convert heights from cm to m and square with list comprehension\n",
    "    s_hts_m_sqr = [(ht / 100) ** 2 for ht in s_hts]\n",
    "\n",
    "    # Calculate BMIs as a list with list comprehension\n",
    "    bmis = [s_wts[i] / s_hts_m_sqr[i] for i in range(len(sample_indices))]\n",
    "\n",
    "    return bmis\n",
    "\n",
    "\n",
    "\n",
    "%load_ext line_profiler\n",
    "%lprun -f calc_bmi_lists calc_bmi_lists(sample_indices, hts, wts)\n",
    "\n",
    "\n",
    "comp_time = %timeit -o calc_bmi_lists(sample_indices, hts, wts)"
   ]
  },
  {
   "cell_type": "code",
   "execution_count": 1,
   "id": "8529eab9-c504-4428-9881-6d800473b577",
   "metadata": {},
   "outputs": [
    {
     "name": "stdout",
     "output_type": "stream",
     "text": [
      "\n"
     ]
    },
    {
     "data": {
      "text/plain": [
       "Filename: /home/jhu/.virtual_environments/bmi_lists_2.py\n",
       "\n",
       "Line #    Mem usage    Increment  Occurences   Line Contents\n",
       "============================================================\n",
       "     1     78.9 MiB     78.9 MiB           1   def calc_bmi_lists(sample_indices, hts, wts):\n",
       "     2                                         \n",
       "     3                                             # Gather sample heights and weights as lists\n",
       "     4     79.8 MiB      0.9 MiB       50005       s_hts = list(hts[i] for i in sample_indices)\n",
       "     5     80.8 MiB      1.0 MiB       50005       s_wts = list(wts[i] for i in sample_indices)\n",
       "     6                                         \n",
       "     7                                             # Convert heights from cm to m and square with list comprehension\n",
       "     8     81.9 MiB      1.1 MiB       25004       s_hts_m_sqr = [(ht / 100) ** 2 for ht in s_hts]\n",
       "     9                                         \n",
       "    10                                             # Calculate BMIs as a list with list comprehension\n",
       "    11     82.7 MiB      0.8 MiB       25004       bmis = [s_wts[i] / s_hts_m_sqr[i] for i in range(len(sample_indices))]\n",
       "    12                                         \n",
       "    13     82.7 MiB      0.0 MiB           1       return bmis"
      ]
     },
     "metadata": {},
     "output_type": "display_data"
    }
   ],
   "source": [
    "from bmi_lists_2 import calc_bmi_lists\n",
    "import names\n",
    "import numpy as np\n",
    "\n",
    "heroes = [names.get_first_name() for i in range(25001)]\n",
    "\n",
    "hts = np.array(np.random.normal(191.4, 13, 25001))\n",
    "wts = np.array(np.random.normal(95.3, 8, 25001))\n",
    "sample_indices = np.array([i for i in range(25001)])\n",
    "\n",
    "\n",
    "%load_ext memory_profiler\n",
    "%mprun -f calc_bmi_lists calc_bmi_lists(sample_indices, hts, wts)\n"
   ]
  },
  {
   "cell_type": "code",
   "execution_count": 1,
   "id": "64421f34-b85b-4377-96d8-e0afdbf480f8",
   "metadata": {
    "tags": []
   },
   "outputs": [
    {
     "name": "stdout",
     "output_type": "stream",
     "text": [
      "76.3 ms ± 585 µs per loop (mean ± std. dev. of 7 runs, 10 loops each)\n"
     ]
    },
    {
     "data": {
      "text/plain": [
       "Timer unit: 1e-06 s\n",
       "\n",
       "Total time: 0.117078 s\n",
       "File: /tmp/ipykernel_28057/824577974.py\n",
       "Function: calc_bmi_lists at line 12\n",
       "\n",
       "Line #      Hits         Time  Per Hit   % Time  Line Contents\n",
       "==============================================================\n",
       "    12                                           def calc_bmi_lists(sample_indices, hts, wts):\n",
       "    13                                           \n",
       "    14                                               # Gather sample heights and weights as lists\n",
       "    15         1      25549.0  25549.0     21.8      s_hts = list(hts[i] for i in sample_indices)\n",
       "    16         1      26050.0  26050.0     22.3      s_wts = list(wts[i] for i in sample_indices)\n",
       "    17                                           \n",
       "    18                                               # Convert heights from cm to m and square with list comprehension\n",
       "    19         1      43929.0  43929.0     37.5      s_hts_m_sqr = list((ht / 100) ** 2 for ht in s_hts)\n",
       "    20                                           \n",
       "    21                                               # Calculate BMIs as a list with list comprehension\n",
       "    22         1      21547.0  21547.0     18.4      bmis = list(s_wts[i] / s_hts_m_sqr[i] for i in range(len(sample_indices)))\n",
       "    23                                           \n",
       "    24         1          3.0      3.0      0.0      return bmis"
      ]
     },
     "metadata": {},
     "output_type": "display_data"
    }
   ],
   "source": [
    "from bmi_lists import calc_bmi_lists\n",
    "import names\n",
    "import numpy as np\n",
    "\n",
    "heroes = [names.get_first_name() for i in range(25001)]\n",
    "\n",
    "hts = np.array(np.random.normal(191.4, 13, 25001))\n",
    "wts = np.array(np.random.normal(95.3, 8, 25001))\n",
    "sample_indices = np.array([i for i in range(25001)])\n",
    "\n",
    "\n",
    "def calc_bmi_lists(sample_indices, hts, wts):\n",
    "\n",
    "    # Gather sample heights and weights as lists\n",
    "    s_hts = list(hts[i] for i in sample_indices)\n",
    "    s_wts = list(wts[i] for i in sample_indices)\n",
    "\n",
    "    # Convert heights from cm to m and square with list comprehension\n",
    "    s_hts_m_sqr = list((ht / 100) ** 2 for ht in s_hts)\n",
    "\n",
    "    # Calculate BMIs as a list with list comprehension\n",
    "    bmis = list(s_wts[i] / s_hts_m_sqr[i] for i in range(len(sample_indices)))\n",
    "\n",
    "    return bmis\n",
    "\n",
    "\n",
    "\n",
    "%load_ext line_profiler\n",
    "%lprun -f calc_bmi_lists calc_bmi_lists(sample_indices, hts, wts)\n",
    "\n",
    "\n",
    "comp_time = %timeit -o calc_bmi_lists(sample_indices, hts, wts)"
   ]
  },
  {
   "cell_type": "markdown",
   "id": "f4de275e-07dd-49d2-a617-126cc83ea3e7",
   "metadata": {},
   "source": [
    "# the Occurence column 4, the 50005 and 25004 difference made me to think list() runs more more times, but takes less memory footprint comparing to [].  But on the time spending side, list() performs better and run less times.  Which sit opposite of %lprun profile. Whats going on ??? \n",
    "SO we need to get real understanding between list() and []. \n",
    "\n",
    "\n",
    "# list() and []\n",
    "Use the second form. It's more Pythonic, and it's probably faster __(since it doesn't involve loading and calling a separate funciton).\n",
    "\n",
    "\n",
    "\n",
    "    The former just wraps the entire item in square brackets [], making it a one-item list:\n",
    "\n",
    "    >>> [{'foo': 1, 'bar': 2}]\n",
    "    [{'foo': 1, 'bar': 2}]\n",
    "\n",
    "    The latter iterates over the dictionary (getting keys) and produces a list out of them:\n",
    "\n",
    "    >>> list({'foo': 1, 'bar': 2})\n",
    "    ['foo', 'bar']\n",
    "\n",
    "\n",
    "\n",
    "The two are completely equivalent, except that it is possible to redefine the identifier list to refer to a different object. Accordingly, it is safer to use [] unless you want to be able to redefine list to be a new type.\n",
    "\n",
    "Technically, using [] will be very slightly faster, because it avoids name lookup. This is unlikely to be significant in any case, unless the programme is allocating lists constantly and furiously.\n",
    "\n",
    "As Sven notes, list has other uses, but of course the question does not ask about those.\n"
   ]
  },
  {
   "cell_type": "code",
   "execution_count": 1,
   "id": "a5dabea4-7aec-4515-9b1d-8796d7b85a96",
   "metadata": {},
   "outputs": [
    {
     "name": "stdout",
     "output_type": "stream",
     "text": [
      "73.7 ms ± 1.46 ms per loop (mean ± std. dev. of 7 runs, 10 loops each)\n"
     ]
    },
    {
     "data": {
      "text/plain": [
       "Timer unit: 1e-06 s\n",
       "\n",
       "Total time: 0.134852 s\n",
       "File: /tmp/ipykernel_28035/3613734889.py\n",
       "Function: calc_bmi_lists at line 24\n",
       "\n",
       "Line #      Hits         Time  Per Hit   % Time  Line Contents\n",
       "==============================================================\n",
       "    24                                           def calc_bmi_lists(sample_indices, hts, wts):\n",
       "    25                                           \n",
       "    26                                               # Gather sample heights and weights as lists\n",
       "    27         1      28777.0  28777.0     21.3      s_hts = list(hts[i] for i in sample_indices)\n",
       "    28         1      38446.0  38446.0     28.5      s_wts = list(wts[i] for i in sample_indices)\n",
       "    29                                           \n",
       "    30                                               # Convert heights from cm to m and square with list comprehension\n",
       "    31         1      48757.0  48757.0     36.2      s_hts_m_sqr = [(ht / 100) ** 2 for ht in s_hts]\n",
       "    32                                           \n",
       "    33                                               # Calculate BMIs as a list with list comprehension\n",
       "    34         1      18868.0  18868.0     14.0      bmis = [s_wts[i] / s_hts_m_sqr[i] for i in range(len(sample_indices))]\n",
       "    35                                           \n",
       "    36         1          4.0      4.0      0.0      return bmis"
      ]
     },
     "metadata": {},
     "output_type": "display_data"
    }
   ],
   "source": [
    "# Load line_profiler into our session\n",
    "#%load_ext line_profiler\n",
    "# Then use the magic command %lprun from line_profiler, \n",
    "# to gather runtimes for individual linesof code within the convert_units function\n",
    "\n",
    "#%lprun -f convert_units  convert_units(heroes, hts, wts)\n",
    "# %lprun uses s special syntax.  First we use the -f flag to indicate we'd like to profile a function,\n",
    "# Next we specify the name of the function we'd like to profile\n",
    "# Finally we provide the exact function call we'd like to profile by including any arguments needed\n",
    "\n",
    "\n",
    "\n",
    "import names\n",
    "import numpy as np\n",
    "\n",
    "heroes = [names.get_first_name() for i in range(25001)]\n",
    "\n",
    "hts = np.array(np.random.normal(191.4, 13, 25001))\n",
    "wts = np.array(np.random.normal(95.3, 8, 25001))\n",
    "sample_indices = np.array([i for i in range(25001)])\n",
    "\n",
    "\n",
    "\n",
    "def calc_bmi_lists(sample_indices, hts, wts):\n",
    "\n",
    "    # Gather sample heights and weights as lists\n",
    "    s_hts = list(hts[i] for i in sample_indices)\n",
    "    s_wts = list(wts[i] for i in sample_indices)\n",
    "\n",
    "    # Convert heights from cm to m and square with list comprehension\n",
    "    s_hts_m_sqr = [(ht / 100) ** 2 for ht in s_hts]\n",
    "\n",
    "    # Calculate BMIs as a list with list comprehension\n",
    "    bmis = [s_wts[i] / s_hts_m_sqr[i] for i in range(len(sample_indices))]\n",
    "\n",
    "    return bmis\n",
    "\n",
    "\n",
    "\n",
    "%load_ext line_profiler\n",
    "\n",
    "%lprun -f calc_bmi_lists  calc_bmi_lists(sample_indices, hts, wts)\n",
    "\n",
    "\n",
    "\n",
    "\n",
    "list_time = %timeit -o calc_bmi_lists(sample_indices, hts, wts)"
   ]
  },
  {
   "cell_type": "code",
   "execution_count": 1,
   "id": "34ef36c0-9218-4516-ba7e-f94d3b81e3d6",
   "metadata": {
    "collapsed": true,
    "jupyter": {
     "outputs_hidden": true
    },
    "tags": []
   },
   "outputs": [
    {
     "name": "stdout",
     "output_type": "stream",
     "text": [
      "Filename: /home/jhu/.virtual_environments/bmi_lists_3.py\n",
      "\n",
      "Line #    Mem usage    Increment  Occurences   Line Contents\n",
      "============================================================\n",
      "     3     74.5 MiB     74.5 MiB           1   @profile\n",
      "     4                                         def calc_bmi_lists(sample_indices, hts, wts):\n",
      "     5                                         \n",
      "     6                                             # Gather sample heights and weights as lists\n",
      "     7     75.5 MiB      1.0 MiB       50005       s_hts = list(hts[i] for i in sample_indices)\n",
      "     8     76.2 MiB      0.8 MiB       50005       s_wts = list(wts[i] for i in sample_indices)\n",
      "     9                                         \n",
      "    10                                             # Convert heights from cm to m and square with list comprehension\n",
      "    11     77.3 MiB      1.0 MiB       25004       s_hts_m_sqr = [(ht / 100) ** 2 for ht in s_hts]\n",
      "    12                                         \n",
      "    13                                             # Calculate BMIs as a list with list comprehension\n",
      "    14     78.3 MiB      1.0 MiB       25004       bmis = [s_wts[i] / s_hts_m_sqr[i] for i in range(len(sample_indices))]\n",
      "    15                                         \n",
      "    16     78.3 MiB      0.0 MiB           1       return bmis\n",
      "\n",
      "\n"
     ]
    },
    {
     "data": {
      "text/plain": [
       "[25.399453975499238,\n",
       " 29.167861019422997,\n",
       " 21.249255669823377,\n",
       " 22.65335335093367,\n",
       " 37.229041945519576,\n",
       " 31.857757768960298,\n",
       " 26.868900864167127,\n",
       " 32.96194591668054,\n",
       " 24.56938956696261,\n",
       " 26.18108897565899,\n",
       " 26.054309685647052,\n",
       " 29.016923780467994,\n",
       " 27.46276446202396,\n",
       " 25.83573434083813,\n",
       " 35.633464012440996,\n",
       " 23.092747576450492,\n",
       " 28.575988799280395,\n",
       " 32.80724991563664,\n",
       " 22.030789083028285,\n",
       " 31.69493717772167,\n",
       " 38.24051109793615,\n",
       " 21.44736845890312,\n",
       " 26.428809320788982,\n",
       " 22.818443399349952,\n",
       " 26.351175142277253,\n",
       " 25.713650876628932,\n",
       " 22.64573224305561,\n",
       " 27.397088028000173,\n",
       " 21.462032564729974,\n",
       " 31.42420920421924,\n",
       " 28.721307340233334,\n",
       " 20.55882595634345,\n",
       " 22.722498521630243,\n",
       " 25.377154845291873,\n",
       " 25.32740264358287,\n",
       " 21.13310250803275,\n",
       " 23.264623128073826,\n",
       " 23.609903692178655,\n",
       " 26.13401460792282,\n",
       " 26.104029930150897,\n",
       " 25.02895620483339,\n",
       " 22.45795320779389,\n",
       " 29.259897911626545,\n",
       " 22.157514905878955,\n",
       " 29.1664043391566,\n",
       " 33.50031314656253,\n",
       " 22.28048612526138,\n",
       " 28.064156501566636,\n",
       " 24.336031647143127,\n",
       " 23.344924751662656,\n",
       " 25.18059150388831,\n",
       " 21.92087371513938,\n",
       " 26.919578790655578,\n",
       " 29.254873241484674,\n",
       " 26.524765879712383,\n",
       " 19.48284523787098,\n",
       " 22.156214998680184,\n",
       " 28.194154936351207,\n",
       " 24.983793358508905,\n",
       " 27.523171312437512,\n",
       " 30.539751574814098,\n",
       " 24.344522730552043,\n",
       " 34.1197423694494,\n",
       " 23.32542577843573,\n",
       " 43.27966803199152,\n",
       " 27.968230151674256,\n",
       " 25.05569414942646,\n",
       " 26.052766557462355,\n",
       " 27.97033304276871,\n",
       " 28.888470544541438,\n",
       " 33.849404913474324,\n",
       " 20.680671967482876,\n",
       " 25.47790456970569,\n",
       " 26.430565107552948,\n",
       " 23.344844306360724,\n",
       " 28.950367981232016,\n",
       " 20.942187603399045,\n",
       " 22.755534322062,\n",
       " 26.119138852330753,\n",
       " 28.348616857826197,\n",
       " 23.193488877529955,\n",
       " 32.75241985907244,\n",
       " 25.852641883518793,\n",
       " 29.158475709406044,\n",
       " 25.86808658897042,\n",
       " 23.98226052222451,\n",
       " 25.3069502248686,\n",
       " 32.0012984906492,\n",
       " 27.213471554394832,\n",
       " 24.41786149386923,\n",
       " 25.983461570892366,\n",
       " 35.06251287400271,\n",
       " 23.439322665127854,\n",
       " 27.100671906620484,\n",
       " 31.007291014755086,\n",
       " 29.085851016160568,\n",
       " 23.023454974057866,\n",
       " 22.35570346250496,\n",
       " 28.04099750173555,\n",
       " 26.54408664809633,\n",
       " 24.04659355037265,\n",
       " 28.870232023237975,\n",
       " 24.99518891393211,\n",
       " 29.187397951892414,\n",
       " 24.74664334016562,\n",
       " 21.973308403261345,\n",
       " 29.588514391856595,\n",
       " 22.986755823070137,\n",
       " 19.754981395694344,\n",
       " 27.251502104591403,\n",
       " 26.096868087836782,\n",
       " 23.62367670995321,\n",
       " 23.46070974089424,\n",
       " 25.729174400876712,\n",
       " 21.837435865647496,\n",
       " 22.79457701870492,\n",
       " 29.737232109642555,\n",
       " 22.91236590863033,\n",
       " 23.314196258853407,\n",
       " 23.158723944334067,\n",
       " 22.744791208205704,\n",
       " 20.73064018509129,\n",
       " 28.544109211763352,\n",
       " 29.45304027731977,\n",
       " 21.312435206171763,\n",
       " 23.454571947286045,\n",
       " 18.405297452331904,\n",
       " 31.824482158638872,\n",
       " 24.51541697084062,\n",
       " 19.745061501702256,\n",
       " 26.0142612749202,\n",
       " 30.286047537735865,\n",
       " 21.812133587659574,\n",
       " 30.807121755329938,\n",
       " 32.003459528844786,\n",
       " 24.612723406834075,\n",
       " 40.112269756667544,\n",
       " 17.900011234273283,\n",
       " 22.70265914668375,\n",
       " 33.24098591237765,\n",
       " 27.293952184985685,\n",
       " 24.072519912188845,\n",
       " 21.940332233789576,\n",
       " 24.86523776649482,\n",
       " 19.001736069879776,\n",
       " 32.88167076178205,\n",
       " 30.202523881271258,\n",
       " 27.48388635752743,\n",
       " 21.347416634377204,\n",
       " 24.101537475496485,\n",
       " 23.24107971580056,\n",
       " 19.597134307229318,\n",
       " 23.149840730956214,\n",
       " 36.12269328496762,\n",
       " 28.642223406061795,\n",
       " 22.820771182226878,\n",
       " 29.446698524134067,\n",
       " 26.369644739503094,\n",
       " 29.258073922484165,\n",
       " 22.776904222055546,\n",
       " 25.785940028980328,\n",
       " 21.343456037593736,\n",
       " 17.81844848894349,\n",
       " 25.37239505677765,\n",
       " 26.318594194260605,\n",
       " 32.34228626066217,\n",
       " 29.08170575394444,\n",
       " 23.466467602547716,\n",
       " 27.547478333253448,\n",
       " 25.154582388131068,\n",
       " 28.33746376184807,\n",
       " 28.412752187576665,\n",
       " 29.27156252489324,\n",
       " 19.973844780568538,\n",
       " 27.48324489542807,\n",
       " 17.447808130523512,\n",
       " 17.48359004990678,\n",
       " 23.77226598572039,\n",
       " 21.1083413291698,\n",
       " 18.44721386775909,\n",
       " 22.303154763022295,\n",
       " 25.393778104808373,\n",
       " 27.339069593201557,\n",
       " 22.157446054696056,\n",
       " 21.27686531926024,\n",
       " 26.711567060912998,\n",
       " 20.246370589439323,\n",
       " 39.49803742725072,\n",
       " 29.725329551221296,\n",
       " 24.657933571024888,\n",
       " 28.198056816733725,\n",
       " 20.671487125326664,\n",
       " 32.31395052935717,\n",
       " 25.751327779075556,\n",
       " 22.405938289451786,\n",
       " 27.281167784485305,\n",
       " 26.68981417984978,\n",
       " 20.402596082484163,\n",
       " 20.608859705172854,\n",
       " 24.43827525322886,\n",
       " 35.21608896819574,\n",
       " 23.39995616189779,\n",
       " 32.302895361166286,\n",
       " 27.034678356779906,\n",
       " 42.64029902646751,\n",
       " 21.854828223329072,\n",
       " 21.25738802773923,\n",
       " 32.398896244937156,\n",
       " 20.264362993017773,\n",
       " 23.900420963138572,\n",
       " 27.669198866524074,\n",
       " 32.770194249881676,\n",
       " 22.65299734195055,\n",
       " 27.598255896329608,\n",
       " 21.848692384649002,\n",
       " 21.600584101726866,\n",
       " 22.296483062973323,\n",
       " 24.838908443722715,\n",
       " 20.91356618644351,\n",
       " 32.64096857278911,\n",
       " 36.462094239948264,\n",
       " 30.84346739223199,\n",
       " 21.499848146341265,\n",
       " 21.203295010283924,\n",
       " 25.641484142588045,\n",
       " 23.91716253803912,\n",
       " 21.472610584924684,\n",
       " 25.96054412421148,\n",
       " 22.290088003111737,\n",
       " 23.925805704340746,\n",
       " 36.424412707095335,\n",
       " 22.722241434462557,\n",
       " 33.296375325325805,\n",
       " 30.553248050425402,\n",
       " 26.800421998504806,\n",
       " 27.05621542518889,\n",
       " 32.27779907622773,\n",
       " 31.901932823447947,\n",
       " 25.62223998606236,\n",
       " 23.733966071197543,\n",
       " 22.85352598531252,\n",
       " 20.054150185150462,\n",
       " 26.900622077804925,\n",
       " 25.599023882565515,\n",
       " 29.873337928235713,\n",
       " 24.56279818412687,\n",
       " 28.89054216356467,\n",
       " 27.90607748699263,\n",
       " 20.705064398710146,\n",
       " 20.267620205970072,\n",
       " 19.60880027254422,\n",
       " 28.513533456701225,\n",
       " 27.240991841338502,\n",
       " 25.445373519062695,\n",
       " 25.147472810776144,\n",
       " 29.712108440178877,\n",
       " 28.44175647175378,\n",
       " 19.03394103837654,\n",
       " 30.118709004804103,\n",
       " 24.95021952666974,\n",
       " 28.98482881155992,\n",
       " 20.609252815273848,\n",
       " 28.00450633035207,\n",
       " 35.49847273971165,\n",
       " 27.57262740631455,\n",
       " 18.29088092302673,\n",
       " 19.958873727349403,\n",
       " 30.094376583210806,\n",
       " 23.73754628745509,\n",
       " 25.518036130692963,\n",
       " 22.32437945234171,\n",
       " 27.547005468278115,\n",
       " 22.8488516726959,\n",
       " 28.72326600189829,\n",
       " 24.89941135933705,\n",
       " 28.95652396273803,\n",
       " 27.445426281020495,\n",
       " 27.52693742824327,\n",
       " 21.600073825443562,\n",
       " 38.59919972389234,\n",
       " 26.08069990718668,\n",
       " 30.054860484028104,\n",
       " 22.840288848290907,\n",
       " 25.815429068714153,\n",
       " 28.76168337316024,\n",
       " 23.36182291198733,\n",
       " 26.797793361690765,\n",
       " 24.491788144624493,\n",
       " 28.11608281009743,\n",
       " 32.04246740962957,\n",
       " 25.19892922986953,\n",
       " 25.27547636208041,\n",
       " 27.736728863765084,\n",
       " 27.234319333460355,\n",
       " 29.5450638498294,\n",
       " 38.05747354252051,\n",
       " 29.546538627540613,\n",
       " 22.725413248184058,\n",
       " 32.2494539703091,\n",
       " 28.900766898790035,\n",
       " 25.007322785163044,\n",
       " 28.354390858052557,\n",
       " 21.5430320376235,\n",
       " 29.23849614800111,\n",
       " 28.50876104163672,\n",
       " 25.25515619202711,\n",
       " 28.26289969796219,\n",
       " 27.07781361407995,\n",
       " 20.13792134672312,\n",
       " 19.449226024576095,\n",
       " 28.17821984430312,\n",
       " 30.168770106697323,\n",
       " 25.347036336489737,\n",
       " 23.26716576216529,\n",
       " 25.10680564901857,\n",
       " 20.07327528139109,\n",
       " 18.2969286722143,\n",
       " 24.7423983386265,\n",
       " 25.712638287739843,\n",
       " 23.392659382749894,\n",
       " 24.074300343507524,\n",
       " 16.976939393687978,\n",
       " 30.496537022491164,\n",
       " 23.396373155170075,\n",
       " 26.17654815400065,\n",
       " 23.345878072920783,\n",
       " 23.733155467658868,\n",
       " 22.872936053371784,\n",
       " 31.673473044921813,\n",
       " 32.718440457995946,\n",
       " 22.762965121806605,\n",
       " 22.234167382065248,\n",
       " 29.156354544445506,\n",
       " 23.997111787394804,\n",
       " 19.269775353833307,\n",
       " 27.02536469638061,\n",
       " 31.418720259130737,\n",
       " 26.12716563655666,\n",
       " 30.743963216526332,\n",
       " 30.688027609184456,\n",
       " 23.31149409358113,\n",
       " 30.95341953329427,\n",
       " 19.860356757043746,\n",
       " 30.960271039171946,\n",
       " 27.359298916751346,\n",
       " 28.740246922637652,\n",
       " 19.955611820463265,\n",
       " 24.824469318609633,\n",
       " 24.372147095610263,\n",
       " 30.024643514825122,\n",
       " 24.18967819717883,\n",
       " 26.09028476662208,\n",
       " 25.030673712223667,\n",
       " 25.1853996032178,\n",
       " 27.28126808720096,\n",
       " 25.250432207279214,\n",
       " 22.30767647348278,\n",
       " 29.15530086913074,\n",
       " 25.018232502609635,\n",
       " 24.449664280142528,\n",
       " 22.18069154363209,\n",
       " 29.183606030973404,\n",
       " 27.95137091004327,\n",
       " 26.782412482879806,\n",
       " 24.0248967296681,\n",
       " 24.213484754608682,\n",
       " 21.357899079135887,\n",
       " 40.930876059995676,\n",
       " 29.155496240666047,\n",
       " 27.779576692064282,\n",
       " 29.86739378751796,\n",
       " 31.95557234228678,\n",
       " 21.985377335080237,\n",
       " 20.823136590397496,\n",
       " 29.125816404003317,\n",
       " 25.332470604441163,\n",
       " 32.031573126125146,\n",
       " 28.232203071656105,\n",
       " 23.086525755710564,\n",
       " 28.20055237438983,\n",
       " 27.666050997299283,\n",
       " 22.671556896996194,\n",
       " 30.411017843412157,\n",
       " 28.779341190536186,\n",
       " 28.569520065811542,\n",
       " 23.190212381673252,\n",
       " 27.924488237953565,\n",
       " 30.34531917570472,\n",
       " 22.145554691732876,\n",
       " 26.004637612177405,\n",
       " 20.30222206789632,\n",
       " 20.117534407669126,\n",
       " 24.30643414029811,\n",
       " 22.47739860587537,\n",
       " 28.33267976455281,\n",
       " 29.862304379898507,\n",
       " 30.626620783545935,\n",
       " 23.486228160760568,\n",
       " 22.53739498157284,\n",
       " 29.48937456211875,\n",
       " 23.677998709842267,\n",
       " 33.067216322422375,\n",
       " 24.5734044932002,\n",
       " 31.697651398909823,\n",
       " 26.32960758532726,\n",
       " 28.47791863788493,\n",
       " 30.48402965135129,\n",
       " 27.416285782368274,\n",
       " 28.298289715478187,\n",
       " 24.18360321003494,\n",
       " 23.910211917505606,\n",
       " 22.655219536820614,\n",
       " 29.828781540422032,\n",
       " 26.922961688064436,\n",
       " 19.710337813145976,\n",
       " 22.739171079161075,\n",
       " 27.926723490772027,\n",
       " 24.885900339368604,\n",
       " 28.881394064237643,\n",
       " 23.68309695186647,\n",
       " 25.371342840814705,\n",
       " 29.0159539165172,\n",
       " 27.516254143747485,\n",
       " 23.957318381933977,\n",
       " 27.20005322665108,\n",
       " 24.458677377828902,\n",
       " 23.970752263240364,\n",
       " 23.364676077756886,\n",
       " 33.32907012020418,\n",
       " 24.17299499682153,\n",
       " 23.02663056843756,\n",
       " 20.651600204199685,\n",
       " 27.83630288078842,\n",
       " 30.716393200455656,\n",
       " 21.768300928893066,\n",
       " 22.80783167273689,\n",
       " 25.143677369082653,\n",
       " 27.885989066546504,\n",
       " 23.415102372700513,\n",
       " 28.90465004455143,\n",
       " 28.539117245469292,\n",
       " 24.673453031634498,\n",
       " 24.880236441725277,\n",
       " 27.82114727865608,\n",
       " 21.193657046806717,\n",
       " 25.533912751209467,\n",
       " 29.5150022307907,\n",
       " 23.00682254352455,\n",
       " 23.902503723557,\n",
       " 22.307240557864382,\n",
       " 24.28409337949107,\n",
       " 25.380231090188158,\n",
       " 25.99831706843094,\n",
       " 23.993377757201248,\n",
       " 28.53240256739865,\n",
       " 18.805374134240793,\n",
       " 29.264419740181946,\n",
       " 24.851282419723454,\n",
       " 21.7456900827162,\n",
       " 36.62725805457064,\n",
       " 26.499425823417855,\n",
       " 23.270841168845948,\n",
       " 31.002521397010185,\n",
       " 26.959563598694125,\n",
       " 17.300736077436536,\n",
       " 31.785766726303695,\n",
       " 26.599099871391584,\n",
       " 25.242102155647174,\n",
       " 27.96591700876268,\n",
       " 25.84507843818802,\n",
       " 19.77205729352063,\n",
       " 24.170415431724773,\n",
       " 30.586534534409875,\n",
       " 29.772401532666915,\n",
       " 21.50157625775207,\n",
       " 22.913630877373983,\n",
       " 25.547448892844496,\n",
       " 29.862450442901114,\n",
       " 29.17070656056852,\n",
       " 23.38356489412032,\n",
       " 25.55105860369427,\n",
       " 29.713439100230975,\n",
       " 23.009022842053927,\n",
       " 26.694618702535543,\n",
       " 27.364752592145617,\n",
       " 25.996146562022187,\n",
       " 29.598725778068882,\n",
       " 32.4512755324088,\n",
       " 28.755107025138,\n",
       " 26.82344122386975,\n",
       " 36.71836737900809,\n",
       " 16.421639456697626,\n",
       " 23.98151863123188,\n",
       " 27.683964278068306,\n",
       " 23.79727436721911,\n",
       " 26.490399587364934,\n",
       " 24.645368412109033,\n",
       " 26.057002449584466,\n",
       " 31.19818405166772,\n",
       " 36.40610293980106,\n",
       " 29.338629990773484,\n",
       " 19.19524574094241,\n",
       " 28.840189686920663,\n",
       " 33.18025184598858,\n",
       " 29.75227945128274,\n",
       " 26.942559865792067,\n",
       " 28.676929140909007,\n",
       " 20.690702072437468,\n",
       " 25.716165414223337,\n",
       " 27.982734892210292,\n",
       " 25.681949973645363,\n",
       " 24.458503850484064,\n",
       " 22.07707912480642,\n",
       " 38.606982979581545,\n",
       " 26.27270532352788,\n",
       " 22.263406636943568,\n",
       " 30.61590869448216,\n",
       " 20.663613298770194,\n",
       " 29.083038740733066,\n",
       " 25.485871163556958,\n",
       " 21.538588773720637,\n",
       " 27.559178151577765,\n",
       " 27.449130073895546,\n",
       " 18.412805439617152,\n",
       " 31.995731146225943,\n",
       " 27.364211019118308,\n",
       " 21.54915386007935,\n",
       " 25.25143757947502,\n",
       " 19.37896283863918,\n",
       " 37.32190233113694,\n",
       " 17.635881297369796,\n",
       " 30.83212906819403,\n",
       " 20.30178826142881,\n",
       " 23.52324316939534,\n",
       " 25.172370010744604,\n",
       " 27.72036164629416,\n",
       " 30.711068386453622,\n",
       " 23.91112920999721,\n",
       " 23.16539027042061,\n",
       " 27.705422383314367,\n",
       " 26.659517183317032,\n",
       " 26.395980203989787,\n",
       " 36.37958693908564,\n",
       " 36.161393945316576,\n",
       " 23.662666782957437,\n",
       " 26.543455282780105,\n",
       " 24.360493884795027,\n",
       " 26.721978240320727,\n",
       " 22.95760598872792,\n",
       " 30.905252806374875,\n",
       " 28.246665274737904,\n",
       " 23.56565695114577,\n",
       " 31.802268216138994,\n",
       " 39.39387651034606,\n",
       " 35.61050407943947,\n",
       " 26.529514472913014,\n",
       " 24.721811468577148,\n",
       " 32.13663135733107,\n",
       " 22.844293485533758,\n",
       " 36.594051148833984,\n",
       " 26.62537150528516,\n",
       " 22.926163829909715,\n",
       " 30.26515804120222,\n",
       " 20.863239490112267,\n",
       " 29.321896361210353,\n",
       " 22.334860280666216,\n",
       " 30.352484161894463,\n",
       " 29.31602480969197,\n",
       " 18.448322609149447,\n",
       " 30.24469252437263,\n",
       " 23.01610308887315,\n",
       " 28.376667606137747,\n",
       " 29.034403594830824,\n",
       " 22.98364709521018,\n",
       " 28.811017744409472,\n",
       " 30.66522292012042,\n",
       " 24.024428838431316,\n",
       " 31.834319722428226,\n",
       " 24.412139969409907,\n",
       " 31.942274106111558,\n",
       " 21.953351908905763,\n",
       " 27.714476867597067,\n",
       " 29.49574724961577,\n",
       " 26.426825021504307,\n",
       " 36.784475765277854,\n",
       " 26.370730393892842,\n",
       " 26.408768627288147,\n",
       " 21.115146034012948,\n",
       " 28.451435220388635,\n",
       " 28.440619498188255,\n",
       " 21.694972641880113,\n",
       " 24.500728104048267,\n",
       " 26.00606722474871,\n",
       " 32.507000563970095,\n",
       " 26.075138191904156,\n",
       " 36.752653780362834,\n",
       " 27.3834917328145,\n",
       " 22.31844505504554,\n",
       " 23.047228702385226,\n",
       " 25.54785385497131,\n",
       " 24.61592794835052,\n",
       " 28.507248691192313,\n",
       " 20.240537820963976,\n",
       " 29.49453474394266,\n",
       " 32.16047336382988,\n",
       " 26.945272344338555,\n",
       " 23.61116272338578,\n",
       " 21.23037151582492,\n",
       " 25.122899203899596,\n",
       " 24.403072191906045,\n",
       " 23.56046924717819,\n",
       " 24.587962301371157,\n",
       " 25.64562611021629,\n",
       " 27.16641845191815,\n",
       " 26.964667829683606,\n",
       " 21.909294870794792,\n",
       " 29.227393327739005,\n",
       " 23.176568946532964,\n",
       " 31.824772478139895,\n",
       " 23.21653929797579,\n",
       " 28.603452195295638,\n",
       " 24.879048096294962,\n",
       " 26.385731915487895,\n",
       " 32.574103350532695,\n",
       " 22.36848313660083,\n",
       " 28.517014952531905,\n",
       " 24.13077516590992,\n",
       " 25.97815349027792,\n",
       " 27.973619145926726,\n",
       " 32.104731668363506,\n",
       " 22.194233604166175,\n",
       " 25.93807514540707,\n",
       " 25.821590432810396,\n",
       " 19.906473620850342,\n",
       " 24.0439711630484,\n",
       " 24.133964180580843,\n",
       " 22.97500044653945,\n",
       " 27.11859850242881,\n",
       " 31.312166759047287,\n",
       " 24.704733426042267,\n",
       " 41.64827307392791,\n",
       " 22.01172124640376,\n",
       " 23.390739622798105,\n",
       " 27.72828366050384,\n",
       " 22.854599093593603,\n",
       " 31.124330858812417,\n",
       " 22.746226770438444,\n",
       " 23.811768625075604,\n",
       " 33.06298444811758,\n",
       " 26.149791172151893,\n",
       " 26.912563166441306,\n",
       " 21.0532508026607,\n",
       " 21.982970994318197,\n",
       " 30.911070227490615,\n",
       " 31.463995346496688,\n",
       " 19.90462138731136,\n",
       " 29.922735059077745,\n",
       " 24.145604163502178,\n",
       " 25.941608065363084,\n",
       " 34.00972110802012,\n",
       " 24.525775198860195,\n",
       " 32.67314725866219,\n",
       " 34.6680804091501,\n",
       " 26.066940120163167,\n",
       " 26.484203512167845,\n",
       " 26.812067244727167,\n",
       " 28.828206349839288,\n",
       " 26.458196760901995,\n",
       " 27.8685372738432,\n",
       " 26.817598953236356,\n",
       " 22.917158351991237,\n",
       " 20.370936271326702,\n",
       " 23.30543998223157,\n",
       " 20.248906772828693,\n",
       " 21.688567750137196,\n",
       " 29.48968026264226,\n",
       " 23.84861084193912,\n",
       " 28.293676914652877,\n",
       " 28.35409671548338,\n",
       " 24.306717660874572,\n",
       " 29.598172168476815,\n",
       " 37.0831090854098,\n",
       " 31.200588589782733,\n",
       " 29.18212032138772,\n",
       " 24.871434185109003,\n",
       " 23.899693967280232,\n",
       " 21.229201114622388,\n",
       " 16.36629564988356,\n",
       " 23.903211495939264,\n",
       " 36.72662440851642,\n",
       " 17.38589895268431,\n",
       " 29.75215131756947,\n",
       " 25.43227363834737,\n",
       " 22.705827816232656,\n",
       " 26.467788567498058,\n",
       " 30.42960871635165,\n",
       " 32.24426249926823,\n",
       " 25.435893488153695,\n",
       " 30.17067372343421,\n",
       " 31.99640203993756,\n",
       " 31.142353947714014,\n",
       " 22.32406698525457,\n",
       " 26.425623908267816,\n",
       " 27.55013807130127,\n",
       " 26.97578917988726,\n",
       " 23.372925397760373,\n",
       " 29.12332077802727,\n",
       " 23.088964899241205,\n",
       " 41.28885965125138,\n",
       " 20.39100861710466,\n",
       " 26.490727053030668,\n",
       " 18.7059630474564,\n",
       " 26.776714473542004,\n",
       " 20.025441124340222,\n",
       " 28.35622450207139,\n",
       " 26.32561717808599,\n",
       " 28.18079490425205,\n",
       " 22.411917752098216,\n",
       " 30.173941980010213,\n",
       " 27.132793494024458,\n",
       " 22.493457456108832,\n",
       " 25.611518358706693,\n",
       " 31.703214059162885,\n",
       " 21.007941053936186,\n",
       " 34.852543972460445,\n",
       " 17.609514310446617,\n",
       " 27.853622091560545,\n",
       " 24.069252821735038,\n",
       " 33.65053133422968,\n",
       " 26.167887873769615,\n",
       " 30.625589651542015,\n",
       " 28.870198249378205,\n",
       " 25.795693765415017,\n",
       " 27.292587483191227,\n",
       " 24.175069964129452,\n",
       " 42.952221977496826,\n",
       " 21.9236332086804,\n",
       " 25.357179452362526,\n",
       " 31.3926588707044,\n",
       " 20.565265637216793,\n",
       " 22.713056915563975,\n",
       " 25.951726572555067,\n",
       " 29.182843929742603,\n",
       " 24.07867952390002,\n",
       " 25.413892278132195,\n",
       " 27.860771798514733,\n",
       " 24.893793615471846,\n",
       " 30.847871601437742,\n",
       " 26.748423124606017,\n",
       " 32.17755146995968,\n",
       " 33.12706272346346,\n",
       " 23.333179122523077,\n",
       " 18.04764418760486,\n",
       " 29.2766447087179,\n",
       " 35.505223848778336,\n",
       " 34.0089552016067,\n",
       " 27.274057977565192,\n",
       " 23.673697625950552,\n",
       " 23.736358007217458,\n",
       " 25.374655339484626,\n",
       " 30.14429684571222,\n",
       " 29.617059073378133,\n",
       " 24.66919295590773,\n",
       " 21.813156482141064,\n",
       " 27.1173587068176,\n",
       " 20.49865227760047,\n",
       " 23.367251547177545,\n",
       " 18.459645614807794,\n",
       " 27.95967063278926,\n",
       " 22.032093623582483,\n",
       " 26.090836165475164,\n",
       " 19.643513436449798,\n",
       " 26.8509359450096,\n",
       " 35.34331434849913,\n",
       " 29.562308690742583,\n",
       " 28.08516300854982,\n",
       " 26.0779993709749,\n",
       " 21.561042644911474,\n",
       " 22.006579437480394,\n",
       " 24.547965047763412,\n",
       " 31.571721813218602,\n",
       " 25.915946358159225,\n",
       " 22.925903596960122,\n",
       " 30.48216247619863,\n",
       " 26.40593759134361,\n",
       " 19.187235226884237,\n",
       " 26.912413138235042,\n",
       " 32.17990969359579,\n",
       " 32.3149553208357,\n",
       " 29.786957333727756,\n",
       " 25.94524630617851,\n",
       " 22.686695334187668,\n",
       " 20.688293740883562,\n",
       " 27.40094281822637,\n",
       " 27.162050403381123,\n",
       " 24.379467740374594,\n",
       " 30.565685526820115,\n",
       " 27.934506293293715,\n",
       " 23.31612922984607,\n",
       " 23.885744527046754,\n",
       " 26.153162507009863,\n",
       " 24.875316760985275,\n",
       " 26.570652913841435,\n",
       " 26.341520917221548,\n",
       " 32.099487589256675,\n",
       " 24.342351329749803,\n",
       " 37.78715787985388,\n",
       " 23.331689977759254,\n",
       " 25.363094089388092,\n",
       " 23.04529771907536,\n",
       " 33.94468901762788,\n",
       " 24.399253896883224,\n",
       " 26.70240942760087,\n",
       " 32.236602933298954,\n",
       " 22.449663402514247,\n",
       " 24.38700701798266,\n",
       " 23.854383601516695,\n",
       " 28.847050245043853,\n",
       " 17.180571166166278,\n",
       " 21.201322171819914,\n",
       " 23.18551935219168,\n",
       " 33.726591423469756,\n",
       " 21.861274230681133,\n",
       " 27.567005454251582,\n",
       " 25.757933994961665,\n",
       " 31.772429864445375,\n",
       " 27.60697677922773,\n",
       " 37.543644923071724,\n",
       " 20.68222746277076,\n",
       " 25.424482978363404,\n",
       " 28.408659222877507,\n",
       " 24.63927627232603,\n",
       " 24.588747887608072,\n",
       " 28.146069826116516,\n",
       " 23.401371779193095,\n",
       " 25.42448547668027,\n",
       " 22.7027953695039,\n",
       " 26.999355342116992,\n",
       " 28.379888860896862,\n",
       " 25.53177790443344,\n",
       " 29.271025269141848,\n",
       " 21.714773704785056,\n",
       " 23.915719098179704,\n",
       " 30.181943010242886,\n",
       " 26.831348925720118,\n",
       " 25.700419093094624,\n",
       " 16.891131212521362,\n",
       " 26.40666296802642,\n",
       " 28.651977429105294,\n",
       " 32.22491683732162,\n",
       " 24.270849757314412,\n",
       " 28.646624653327073,\n",
       " 28.033773354875176,\n",
       " 21.90483191258507,\n",
       " 26.869965985117602,\n",
       " 32.526613324263714,\n",
       " 24.631008959991473,\n",
       " 28.22104749749387,\n",
       " 31.417332845750487,\n",
       " 21.978693006940954,\n",
       " 26.52325723449309,\n",
       " 25.16059758339091,\n",
       " 29.29886504830279,\n",
       " 20.931667506030028,\n",
       " 30.946307541554233,\n",
       " 26.410890289416766,\n",
       " 30.435314555653395,\n",
       " 18.595843630247654,\n",
       " 20.003691776392927,\n",
       " 24.9321281646624,\n",
       " 23.53863953259538,\n",
       " 22.3481742274911,\n",
       " 28.10295443866347,\n",
       " 25.163435461380352,\n",
       " 26.849918861603086,\n",
       " 34.313330607378965,\n",
       " 22.9275232898705,\n",
       " 24.62949004970258,\n",
       " 27.345709259706766,\n",
       " 26.251812647465147,\n",
       " 21.50501738048397,\n",
       " 24.467062607386037,\n",
       " 29.130188720723233,\n",
       " 29.74283574579041,\n",
       " 22.92009942901397,\n",
       " 24.24191053885922,\n",
       " 22.383224718109368,\n",
       " 26.982764180771778,\n",
       " 31.38614971495673,\n",
       " 19.858515377003243,\n",
       " 27.453664037644764,\n",
       " 22.37509207654211,\n",
       " 22.031441199483815,\n",
       " 23.820099530203695,\n",
       " 25.723981449551605,\n",
       " 31.371223243089187,\n",
       " 19.858469668625993,\n",
       " 26.50781332927539,\n",
       " 19.01774288310685,\n",
       " 35.65411855114786,\n",
       " 22.667029157384235,\n",
       " 22.06265468613386,\n",
       " 27.37576289329012,\n",
       " 27.669205900259207,\n",
       " 24.877555861566094,\n",
       " 27.22952666666125,\n",
       " 23.272748269408005,\n",
       " 21.84875232080352,\n",
       " 29.3869412166235,\n",
       " 30.631479119312345,\n",
       " 27.710891542959292,\n",
       " 30.757485606375486,\n",
       " 21.239281133060103,\n",
       " 24.847345684726797,\n",
       " 22.111619196533663,\n",
       " 27.997761635672255,\n",
       " 28.830080257048024,\n",
       " 27.08478635396643,\n",
       " 27.193750283616367,\n",
       " 26.075260957515184,\n",
       " 22.27580040847182,\n",
       " 30.412995266659358,\n",
       " 29.667642161784368,\n",
       " 29.452285750004346,\n",
       " 29.96964361600973,\n",
       " 26.3094275506764,\n",
       " 26.205570506638605,\n",
       " 26.737611478865784,\n",
       " 25.958727865028337,\n",
       " 26.963351131122987,\n",
       " 25.235913815598483,\n",
       " 27.072212020037423,\n",
       " 30.257027107617006,\n",
       " 25.10002280359142,\n",
       " 22.66963604504402,\n",
       " 22.66163239139824,\n",
       " 32.5619793098018,\n",
       " 24.939065032271603,\n",
       " 26.6642936096372,\n",
       " 23.24773516980939,\n",
       " 25.64826572065465,\n",
       " 20.10466891501088,\n",
       " 33.37952880597433,\n",
       " 24.935573187766092,\n",
       " 19.859243883934198,\n",
       " 27.065615882691198,\n",
       " 20.652636581548478,\n",
       " 29.192181383909343,\n",
       " 39.944399897457096,\n",
       " 30.60534235233011,\n",
       " 34.45078201749037,\n",
       " 32.855791187687366,\n",
       " 24.528278619090415,\n",
       " 26.623168401153343,\n",
       " 21.332703487973646,\n",
       " 26.517188501621696,\n",
       " 27.151514807211523,\n",
       " 26.341515951572696,\n",
       " 31.17035061479006,\n",
       " 25.61189885196382,\n",
       " 27.845135398212,\n",
       " 39.54497814769536,\n",
       " 25.63490820610645,\n",
       " 24.07860147115804,\n",
       " 29.18615635243316,\n",
       " 25.032814132577084,\n",
       " 21.528352799590117,\n",
       " 22.99665629992676,\n",
       " 26.643142571176803,\n",
       " 20.58888542895353,\n",
       " 27.452416928506235,\n",
       " 25.96838842954736,\n",
       " 29.08769836387613,\n",
       " 24.06524327078115,\n",
       " 16.670478431297433,\n",
       " 22.64860771903368,\n",
       " 25.968334021482015,\n",
       " 28.69443935446602,\n",
       " 26.192598602781928,\n",
       " 31.25063642252655,\n",
       " 24.364104906297783,\n",
       " 32.65788123761199,\n",
       " 27.88775042379687,\n",
       " 29.462223728970468,\n",
       " 26.78668273917565,\n",
       " 24.958385435270472,\n",
       " 25.99460212019063,\n",
       " 28.204787245640336,\n",
       " 36.74951932166748,\n",
       " 31.71181431928952,\n",
       " 32.399481957192144,\n",
       " 28.658164576514324,\n",
       " 30.954369744883664,\n",
       " 25.60769771549259,\n",
       " 22.879687740502735,\n",
       " 26.01552876118717,\n",
       " 22.94817635181235,\n",
       " 31.607024667373125,\n",
       " 22.493059645950556,\n",
       " 21.12665897194025,\n",
       " ...]"
      ]
     },
     "execution_count": 1,
     "metadata": {},
     "output_type": "execute_result"
    }
   ],
   "source": [
    "# *************************************************************************************************** #\n",
    "# *************************************************************************************************** #\n",
    "\n",
    "import names\n",
    "import numpy as np\n",
    "\n",
    "heroes = [names.get_first_name() for i in range(25001)]\n",
    "\n",
    "hts = np.array(np.random.normal(191.4, 13, 25001))\n",
    "wts = np.array(np.random.normal(95.3, 8, 25001))\n",
    "sample_indices = np.array([i for i in range(25001)])\n",
    "\n",
    "\n",
    "\n",
    "from bmi_lists_3 import calc_bmi_lists\n",
    "\n",
    "calc_bmi_lists(sample_indices, hts, wts)\n",
    "\n",
    "\n",
    "# Why the return value pop out? I didnt ask the function to print\n",
    "# can we evaluate function preformance (memory and timing) but not return value pops out? \n",
    "# *************************************************************************************************** #"
   ]
  },
  {
   "cell_type": "markdown",
   "id": "a30cf632-b42c-4d35-a2be-188af5bb4364",
   "metadata": {},
   "source": [
    "## Using %mprun: Hero BMI 2.0\n",
    "\n",
    "Let's see if using a different approach to calculate the BMIs can save some memory. If you remember, each hero's height and weight is stored in a numpy array. That means you can use NumPy's handy array indexing capabilities and broadcasting to perform your calculations. A function named calc_bmi_arrays has been created and saved to a file titled bmi_arrays.py. For convenience, it is displayed below:\n",
    "\n",
    "def calc_bmi_arrays(sample_indices, hts, wts):\n",
    "\n",
    "    # Gather sample heights and weights as arrays\n",
    "    s_hts = hts[sample_indices]\n",
    "    s_wts = wts[sample_indices]\n",
    "\n",
    "    # Convert heights from cm to m and square with broadcasting\n",
    "    s_hts_m_sqr = (s_hts / 100) ** 2\n",
    "\n",
    "    # Calculate BMIs as an array using broadcasting\n",
    "    bmis = s_wts / s_hts_m_sqr\n",
    "\n",
    "    return bmis\n",
    "\n",
    "Notice that this function performs all necessary calculations using arrays.\n",
    "\n",
    "Let's see if this updated array approach decreases your memory footprint:\n",
    "\n",
    "    Load the memory_profiler package into your IPython session.\n",
    "    Import calc_bmi_arrays from bmi_arrays.\n",
    "    Once you've completed the above steps, use %mprun to profile the calc_bmi_arrays() function acting on your superheroes data. The sample_indices array, hts array, and wts array have been loaded into your session.\n",
    "\n",
    "After you've finished coding, answer the following question:\n",
    "\n",
    "# How much memory do the array indexing and broadcasting lines of code consume in the calc_bmi_array() function? (i.e., what is the total sum of the Increment column for these four lines of code?)\n",
    "Instructions\n",
    "50 XP\n",
    "Possible Answers\n",
    "\n",
    "    10.0 MiB - 15.0 MiB\n",
    "    0.0 MiB\n",
    "    20.0 MiB - 30.0 MiB\n",
    "#    0.1 MiB - 2.0 MiB\n",
    "    "
   ]
  },
  {
   "cell_type": "code",
   "execution_count": 1,
   "id": "fb52dbd9-c7af-4c5c-87e0-3f67071bff27",
   "metadata": {},
   "outputs": [
    {
     "name": "stdout",
     "output_type": "stream",
     "text": [
      "[    0     1     2 ... 24998 24999 25000]\n",
      "[200.27124979 187.94400899 205.35300298 ... 175.3764089  191.06715217\n",
      " 197.52769463]\n",
      "[200.27124979 187.94400899 205.35300298 ... 175.3764089  191.06715217\n",
      " 197.52769463]\n"
     ]
    }
   ],
   "source": [
    "import names\n",
    "import numpy as np\n",
    "\n",
    "heroes = [names.get_first_name() for i in range(25001)]\n",
    "\n",
    "hts = np.array(np.random.normal(191.4, 13, 25001))\n",
    "wts = np.array(np.random.normal(95.3, 8, 25001))\n",
    "sample_indices = np.array([i for i in range(25001)])\n",
    "print(sample_indices)\n",
    "\n",
    "# Gather sample heights and weights as arrays\n",
    "# What? array indexing using an array? \n",
    "s_hts = hts[sample_indices]\n",
    "s_wts = wts[sample_indices]\n",
    "\n",
    "ss_hts = hts[:]\n",
    "\n",
    "print(s_hts)\n",
    "print(ss_hts)"
   ]
  },
  {
   "cell_type": "code",
   "execution_count": 1,
   "id": "73f93722-2d5a-4cdb-8030-db8ce51930b9",
   "metadata": {},
   "outputs": [
    {
     "name": "stdout",
     "output_type": "stream",
     "text": [
      "Filename: /home/jhu/.virtual_environments/bmi_lists_4.py\n",
      "\n",
      "Line #    Mem usage    Increment  Occurences   Line Contents\n",
      "============================================================\n",
      "     3     76.7 MiB     76.7 MiB           1   @profile\n",
      "     4                                         def calc_bmi_lists(sample_indices, hts, wts):\n",
      "     5                                         \n",
      "     6                                             # Gather sample heights and weights as lists\n",
      "     7     76.9 MiB      0.2 MiB           1       s_hts = hts[sample_indices]\n",
      "     8     76.9 MiB      0.0 MiB           1       s_wts = wts[sample_indices]\n",
      "     9                                         \n",
      "    10                                             # Convert heights from cm to m and square with list comprehension\n",
      "    11     77.4 MiB      0.5 MiB           1       s_hts_m_sqr = (s_hts / 100) ** 2\n",
      "    12                                         \n",
      "    13                                             # Calculate BMIs as a list with list comprehension\n",
      "    14     77.4 MiB      0.0 MiB           1       bmis = s_wts / s_hts_m_sqr\n",
      "    15                                         \n",
      "    16     77.4 MiB      0.0 MiB           1       return bmis\n",
      "\n",
      "\n"
     ]
    },
    {
     "data": {
      "text/plain": [
       "array([36.26653895, 27.12692284, 25.06300983, ..., 22.57803949,\n",
       "       26.30305968, 22.38502402])"
      ]
     },
     "execution_count": 1,
     "metadata": {},
     "output_type": "execute_result"
    }
   ],
   "source": [
    "import names\n",
    "import numpy as np\n",
    "\n",
    "heroes = [names.get_first_name() for i in range(25001)]\n",
    "\n",
    "hts = np.array(np.random.normal(191.4, 13, 25001))\n",
    "wts = np.array(np.random.normal(95.3, 8, 25001))\n",
    "sample_indices = np.array([i for i in range(25001)])\n",
    "\n",
    "\n",
    "\n",
    "from bmi_lists_4 import calc_bmi_lists\n",
    "\n",
    "calc_bmi_lists(sample_indices, hts, wts)"
   ]
  },
  {
   "cell_type": "code",
   "execution_count": 1,
   "id": "e499794d-7b3c-4cff-81a0-5a5106b2247f",
   "metadata": {},
   "outputs": [
    {
     "name": "stdout",
     "output_type": "stream",
     "text": [
      "Filename: /home/jhu/.virtual_environments/bmi_lists_5.py\n",
      "\n",
      "Line #    Mem usage    Increment  Occurences   Line Contents\n",
      "============================================================\n",
      "     3     74.6 MiB     74.6 MiB           1   @profile\n",
      "     4                                         def calc_bmi_lists(sample_indices, hts, wts):\n",
      "     5                                         \n",
      "     6                                             # Gather sample heights and weights as lists\n",
      "     7     74.6 MiB      0.0 MiB           1       s_hts = hts[:]\n",
      "     8     74.6 MiB      0.0 MiB           1       s_wts = wts[:]\n",
      "     9                                         \n",
      "    10                                             # Convert heights from cm to m and square with list comprehension\n",
      "    11     74.8 MiB      0.2 MiB           1       s_hts_m_sqr = (s_hts / 100) ** 2\n",
      "    12                                         \n",
      "    13                                             # Calculate BMIs as a list with list comprehension\n",
      "    14     74.8 MiB      0.0 MiB           1       bmis = s_wts / s_hts_m_sqr\n",
      "    15                                         \n",
      "    16     74.8 MiB      0.0 MiB           1       return bmis\n",
      "\n",
      "\n"
     ]
    },
    {
     "data": {
      "text/plain": [
       "array([35.87387881, 20.8379687 , 35.27832338, ..., 20.38479907,\n",
       "       27.78618811, 31.05260026])"
      ]
     },
     "execution_count": 1,
     "metadata": {},
     "output_type": "execute_result"
    }
   ],
   "source": [
    "import names\n",
    "import numpy as np\n",
    "\n",
    "heroes = [names.get_first_name() for i in range(25001)]\n",
    "\n",
    "hts = np.array(np.random.normal(191.4, 13, 25001))\n",
    "wts = np.array(np.random.normal(95.3, 8, 25001))\n",
    "sample_indices = np.array([i for i in range(25001)])\n",
    "\n",
    "\n",
    "\n",
    "from bmi_lists_5 import calc_bmi_lists\n",
    "\n",
    "calc_bmi_lists(sample_indices, hts, wts)"
   ]
  },
  {
   "cell_type": "code",
   "execution_count": 1,
   "id": "d22330d3-c351-4991-9e5f-96f2f0644e29",
   "metadata": {},
   "outputs": [
    {
     "name": "stdout",
     "output_type": "stream",
     "text": [
      "\n"
     ]
    },
    {
     "data": {
      "text/plain": [
       "Filename: /home/jhu/.virtual_environments/bmi_lists_6.py\n",
       "\n",
       "Line #    Mem usage    Increment  Occurences   Line Contents\n",
       "============================================================\n",
       "     4     80.6 MiB     80.6 MiB           1   def calc_bmi_lists(sample_indices, hts, wts):\n",
       "     5                                         \n",
       "     6                                             # Gather sample heights and weights as lists\n",
       "     7     80.6 MiB      0.0 MiB           1       s_hts = hts[:]\n",
       "     8     80.6 MiB      0.0 MiB           1       s_wts = wts[:]\n",
       "     9                                         \n",
       "    10                                             # Convert heights from cm to m and square with list comprehension\n",
       "    11     81.0 MiB      0.4 MiB           1       s_hts_m_sqr = (s_hts / 100) ** 2\n",
       "    12                                         \n",
       "    13                                             # Calculate BMIs as a list with list comprehension\n",
       "    14     81.0 MiB      0.0 MiB           1       bmis = s_wts / s_hts_m_sqr\n",
       "    15                                         \n",
       "    16     81.0 MiB      0.0 MiB           1       return bmis"
      ]
     },
     "metadata": {},
     "output_type": "display_data"
    }
   ],
   "source": [
    "import names\n",
    "import numpy as np\n",
    "\n",
    "heroes = [names.get_first_name() for i in range(25001)]\n",
    "\n",
    "hts = np.array(np.random.normal(191.4, 13, 25001))\n",
    "wts = np.array(np.random.normal(95.3, 8, 25001))\n",
    "sample_indices = np.array([i for i in range(25001)])\n",
    "\n",
    "\n",
    "\n",
    "from bmi_lists_6 import calc_bmi_lists\n",
    "\n",
    "%load_ext memory_profiler\n",
    "\n",
    "%mprun -f calc_bmi_lists calc_bmi_lists(sample_indices, hts, wts)\n"
   ]
  },
  {
   "cell_type": "code",
   "execution_count": 1,
   "id": "f6b7210a-ed2b-4fb1-8753-bba0d5a73ae2",
   "metadata": {},
   "outputs": [
    {
     "name": "stdout",
     "output_type": "stream",
     "text": [
      "52.5 µs ± 498 ns per loop (mean ± std. dev. of 7 runs, 10000 loops each)\n"
     ]
    },
    {
     "data": {
      "text/plain": [
       "Timer unit: 1e-06 s\n",
       "\n",
       "Total time: 0.000171 s\n",
       "File: /tmp/ipykernel_28200/862699756.py\n",
       "Function: calc_bmi_lists at line 12\n",
       "\n",
       "Line #      Hits         Time  Per Hit   % Time  Line Contents\n",
       "==============================================================\n",
       "    12                                           def calc_bmi_lists(sample_indices, hts, wts):\n",
       "    13                                           \n",
       "    14                                               # Gather sample heights and weights as lists\n",
       "    15         1          6.0      6.0      3.5      s_hts = hts[:]    # time spent 52.3 µs is much better than 147 µs with s_hts = hts[sample_indices]\n",
       "    16         1          1.0      1.0      0.6      s_wts = wts[:]    # ***************************************************************************** #\n",
       "    17                                           \n",
       "    18                                               # Convert heights from cm to m and square with list comprehension\n",
       "    19         1        140.0    140.0     81.9      s_hts_m_sqr = (s_hts / 100) ** 2\n",
       "    20                                           \n",
       "    21                                               # Calculate BMIs as a list with list comprehension\n",
       "    22         1         23.0     23.0     13.5      bmis = s_wts / s_hts_m_sqr\n",
       "    23                                           \n",
       "    24         1          1.0      1.0      0.6      return bmis"
      ]
     },
     "metadata": {},
     "output_type": "display_data"
    }
   ],
   "source": [
    "import names\n",
    "import numpy as np\n",
    "\n",
    "heroes = [names.get_first_name() for i in range(25001)]\n",
    "\n",
    "hts = np.array(np.random.normal(191.4, 13, 25001))\n",
    "wts = np.array(np.random.normal(95.3, 8, 25001))\n",
    "sample_indices = np.array([i for i in range(25001)])\n",
    "\n",
    "\n",
    "\n",
    "def calc_bmi_lists(sample_indices, hts, wts):\n",
    "\n",
    "    # Gather sample heights and weights as lists\n",
    "    s_hts = hts[:]    # time spent 52.3 µs is much better than 147 µs with s_hts = hts[sample_indices]\n",
    "    s_wts = wts[:]    # ***************************************************************************** #\n",
    "\n",
    "    # Convert heights from cm to m and square with list comprehension\n",
    "    s_hts_m_sqr = (s_hts / 100) ** 2\n",
    "\n",
    "    # Calculate BMIs as a list with list comprehension\n",
    "    bmis = s_wts / s_hts_m_sqr\n",
    "\n",
    "    return bmis\n",
    "\n",
    "\n",
    "\n",
    "%load_ext line_profiler\n",
    "\n",
    "%lprun -f calc_bmi_lists calc_bmi_lists(sample_indices, hts, wts)\n",
    "\n",
    "\n",
    "np_time = %timeit -o calc_bmi_lists(sample_indices, hts, wts)\n"
   ]
  },
  {
   "cell_type": "code",
   "execution_count": 1,
   "id": "c886fa8e-6446-4b66-9760-2445a81278f9",
   "metadata": {},
   "outputs": [
    {
     "name": "stdout",
     "output_type": "stream",
     "text": [
      "155 µs ± 17.7 µs per loop (mean ± std. dev. of 7 runs, 10000 loops each)\n"
     ]
    },
    {
     "data": {
      "text/plain": [
       "Timer unit: 1e-06 s\n",
       "\n",
       "Total time: 0.000498 s\n",
       "File: /tmp/ipykernel_28222/2650322169.py\n",
       "Function: calc_bmi_lists at line 12\n",
       "\n",
       "Line #      Hits         Time  Per Hit   % Time  Line Contents\n",
       "==============================================================\n",
       "    12                                           def calc_bmi_lists(sample_indices, hts, wts):\n",
       "    13                                           \n",
       "    14                                               # Gather sample heights and weights as lists\n",
       "    15         1        101.0    101.0     20.3      s_hts = hts[sample_indices]\n",
       "    16         1        141.0    141.0     28.3      s_wts = wts[sample_indices]\n",
       "    17                                           \n",
       "    18                                               # Convert heights from cm to m and square with list comprehension\n",
       "    19         1        232.0    232.0     46.6      s_hts_m_sqr = (s_hts / 100) ** 2\n",
       "    20                                           \n",
       "    21                                               # Calculate BMIs as a list with list comprehension\n",
       "    22         1         23.0     23.0      4.6      bmis = s_wts / s_hts_m_sqr\n",
       "    23                                           \n",
       "    24         1          1.0      1.0      0.2      return bmis"
      ]
     },
     "metadata": {},
     "output_type": "display_data"
    }
   ],
   "source": [
    "import names\n",
    "import numpy as np\n",
    "\n",
    "heroes = [names.get_first_name() for i in range(25001)]\n",
    "\n",
    "hts = np.array(np.random.normal(191.4, 13, 25001))\n",
    "wts = np.array(np.random.normal(95.3, 8, 25001))\n",
    "sample_indices = np.array([i for i in range(25001)])\n",
    "\n",
    "\n",
    "\n",
    "def calc_bmi_lists(sample_indices, hts, wts):\n",
    "\n",
    "    # Gather sample heights and weights as lists\n",
    "    s_hts = hts[sample_indices]\n",
    "    s_wts = wts[sample_indices]\n",
    "\n",
    "    # Convert heights from cm to m and square with list comprehension\n",
    "    s_hts_m_sqr = (s_hts / 100) ** 2\n",
    "\n",
    "    # Calculate BMIs as a list with list comprehension\n",
    "    bmis = s_wts / s_hts_m_sqr\n",
    "\n",
    "    return bmis\n",
    "    \n",
    "\n",
    "\n",
    "%load_ext line_profiler\n",
    "\n",
    "%lprun -f calc_bmi_lists calc_bmi_lists(sample_indices, hts, wts)\n",
    "\n",
    "\n",
    "bmi_time = %timeit -o calc_bmi_lists(sample_indices, hts, wts)\n"
   ]
  },
  {
   "cell_type": "markdown",
   "id": "cea07196-8626-42c9-a441-2c26aac2450a",
   "metadata": {},
   "source": [
    "## Bringing it all together: Star Wars profiling\n",
    "\n",
    "# ******************************************************************************************\n",
    "A list of 480 superheroes has been loaded into your session (called heroes) as well as a list of each hero's corresponding publisher (called publishers).\n",
    "\n",
    "You'd like to filter the heroes list based on a hero's specific publisher, but are unsure which of the below functions is more efficient.\n",
    "\n",
    "def get_publisher_heroes(heroes, publishers, desired_publisher):\n",
    "\n",
    "    desired_heroes = []\n",
    "\n",
    "    for i,pub in enumerate(publishers):\n",
    "        if pub == desired_publisher:\n",
    "            desired_heroes.append(heroes[i])\n",
    "\n",
    "    return desired_heroes\n",
    "\n",
    "def get_publisher_heroes_np(heroes, publishers, desired_publisher):\n",
    "\n",
    "    heroes_np = np.array(heroes)\n",
    "    pubs_np = np.array(publishers)\n",
    "\n",
    "    desired_heroes = heroes_np[pubs_np == desired_publisher]\n",
    "\n",
    "    return desired_heroes\n",
    "\n",
    "Instructions 1/4\n",
    "25 XP\n",
    "\n",
    "    1\n",
    "    2\n",
    "    3    Missing Important\n",
    "    4    Missing Important\n",
    "\n",
    "    Use the get_publisher_heroes() function and the get_publisher_heroes_np() function to collect heroes from the Star Wars universe. The desired_publisher for Star Wars is 'George Lucas'.\n",
    "    Hint\n",
    "\n",
    "    You can use get_publisher_heroes() or get_publisher_heroes_np() function to gather Star Wars heroes by placing the heroes and publishers lists into the function at the correct locations and using 'George Lucas' as the desired_publisher keyword argument.\n",
    "\n",
    "    \n",
    "    \n",
    "    \n",
    "    2 Question\n",
    "    Within your IPython console, load the line_profiler and use %lprun to profile the two functions for line-by-line runtime. When using %lprun, use each function to gather the Star Wars heroes as you did in the previous step. After you've finished profiling, answer the following question:\n",
    "    Which function has the fastest runtime?\n",
    "    \n",
    "    \n",
    "    \n",
    "    \n",
    "    3 \n",
    "    \n",
    "    \n",
    "    \n",
    "    \n",
    "    4\n",
    "    \n",
    "    \n",
    "    \n",
    "    \n"
   ]
  },
  {
   "cell_type": "code",
   "execution_count": 2,
   "id": "06df99c2-ca6c-4e4f-8072-03dfe4546f46",
   "metadata": {},
   "outputs": [
    {
     "name": "stdout",
     "output_type": "stream",
     "text": [
      "The line_profiler extension is already loaded. To reload it, use:\n",
      "  %reload_ext line_profiler\n",
      "93 µs ± 3.52 µs per loop (mean ± std. dev. of 7 runs, 10000 loops each)\n",
      "425 µs ± 11.2 µs per loop (mean ± std. dev. of 7 runs, 1000 loops each)\n"
     ]
    },
    {
     "data": {
      "text/plain": [
       "Timer unit: 1e-06 s\n",
       "\n",
       "Total time: 0.000454 s\n",
       "File: /tmp/ipykernel_28752/1811628486.py\n",
       "Function: get_publisher_heroes_np at line 23\n",
       "\n",
       "Line #      Hits         Time  Per Hit   % Time  Line Contents\n",
       "==============================================================\n",
       "    23                                           def get_publisher_heroes_np(heroes, publishers, desired_publisher):\n",
       "    24                                           \n",
       "    25         1        209.0    209.0     46.0      heroes_np = np.array(heroes)\n",
       "    26         1        207.0    207.0     45.6      pubs_np = np.array(publishers)\n",
       "    27                                           \n",
       "    28         1         37.0     37.0      8.1      desired_heroes = heroes_np[pubs_np == desired_publisher]\n",
       "    29                                           \n",
       "    30         1          1.0      1.0      0.2      return desired_heroes"
      ]
     },
     "metadata": {},
     "output_type": "display_data"
    }
   ],
   "source": [
    "import names, random\n",
    "import numpy as np\n",
    "\n",
    "heroes = [names.get_first_name() for i in range(481)]\n",
    "\n",
    "pub_list = ('Marvel Comics', 'DC Comics', 'Dark Horse Comics', 'Image Comics', \n",
    "              'IDW Publishing', 'Valiant Comics', 'George Lucas')\n",
    "\n",
    "publishers = [random.choice(pub_list) for i in range(481)]\n",
    "\n",
    "\n",
    "def get_publisher_heroes(heroes, publishers, desired_publisher):\n",
    "\n",
    "    desired_heroes = []\n",
    "\n",
    "    for i,pub in enumerate(publishers):\n",
    "        if pub == desired_publisher:\n",
    "            desired_heroes.append(heroes[i])\n",
    "\n",
    "    return desired_heroes\n",
    "\n",
    "\n",
    "def get_publisher_heroes_np(heroes, publishers, desired_publisher):\n",
    "\n",
    "    heroes_np = np.array(heroes)\n",
    "    pubs_np = np.array(publishers)\n",
    "\n",
    "    desired_heroes = heroes_np[pubs_np == desired_publisher]\n",
    "\n",
    "    return desired_heroes\n",
    "    \n",
    "\n",
    "\n",
    "%load_ext line_profiler\n",
    "\n",
    "%lprun -f get_publisher_heroes get_publisher_heroes(heroes, publishers, 'George Lucas')\n",
    "\n",
    "bmi_time = %timeit -o get_publisher_heroes(heroes, publishers, 'George Lucas')\n",
    "\n",
    "\n",
    "%lprun -f get_publisher_heroes_np get_publisher_heroes_np(heroes, publishers, 'George Lucas')\n",
    "\n",
    "bmi_time = %timeit -o get_publisher_heroes_np(heroes, publishers, 'George Lucas')"
   ]
  },
  {
   "cell_type": "code",
   "execution_count": 4,
   "id": "ccc9e9f0-7e30-43d6-8a32-8d3276b2fc31",
   "metadata": {},
   "outputs": [
    {
     "name": "stdout",
     "output_type": "stream",
     "text": [
      "['George Lucas', 'DC Comics', 'DC Comics', 'IDW Publishing', 'Marvel Comics', 'Valiant Comics', 'Marvel Comics', 'DC Comics', 'Valiant Comics', 'IDW Publishing']\n"
     ]
    }
   ],
   "source": [
    "import names, random\n",
    "import numpy as np\n",
    "\n",
    "heroes = [names.get_first_name() for i in range(481)]\n",
    "#publishers = [names.get_last_name()+'Inc.' for i in range(481)]\n",
    "\n",
    "pub_list = ('Marvel Comics', 'DC Comics', 'Dark Horse Comics', 'Image Comics', \n",
    "              'IDW Publishing', 'Valiant Comics', 'George Lucas')\n",
    "\n",
    "publishers = [random.choice(pub_list) for i in range(481)]\n",
    "\n",
    "\n",
    "print(publishers[:10])"
   ]
  },
  {
   "cell_type": "code",
   "execution_count": null,
   "id": "553b5f3c-cd1f-41f3-ac05-f3ea3f3df4dc",
   "metadata": {},
   "outputs": [],
   "source": []
  },
  {
   "cell_type": "code",
   "execution_count": null,
   "id": "f3907e65-719b-46f6-b845-09f88e7b53e1",
   "metadata": {},
   "outputs": [],
   "source": []
  },
  {
   "cell_type": "code",
   "execution_count": null,
   "id": "c7357cbc-a430-4853-a25b-fd7ca20684ba",
   "metadata": {},
   "outputs": [],
   "source": []
  },
  {
   "cell_type": "code",
   "execution_count": null,
   "id": "98e4cc91-e952-4b1e-845e-fcc383801922",
   "metadata": {},
   "outputs": [],
   "source": []
  },
  {
   "cell_type": "code",
   "execution_count": null,
   "id": "1427fc82-89e0-4c1a-9ecf-687e6525ce5e",
   "metadata": {},
   "outputs": [],
   "source": []
  },
  {
   "cell_type": "code",
   "execution_count": null,
   "id": "172fd3a5-57ef-408e-939c-6562ee5ce893",
   "metadata": {},
   "outputs": [],
   "source": []
  },
  {
   "cell_type": "code",
   "execution_count": null,
   "id": "b56117d0-128b-4b64-9609-5764bf0340b1",
   "metadata": {},
   "outputs": [],
   "source": []
  },
  {
   "cell_type": "code",
   "execution_count": null,
   "id": "6bc43c97-5090-4b28-b9d7-90c1127c049b",
   "metadata": {},
   "outputs": [],
   "source": []
  },
  {
   "cell_type": "code",
   "execution_count": null,
   "id": "ee8f2868-cce4-4bc2-af42-bfa3dcabf2fb",
   "metadata": {},
   "outputs": [],
   "source": []
  },
  {
   "cell_type": "code",
   "execution_count": null,
   "id": "5355b4a6-9e29-473b-952c-db5e8dce93cb",
   "metadata": {},
   "outputs": [],
   "source": []
  },
  {
   "cell_type": "code",
   "execution_count": null,
   "id": "1dd25d79-54fa-47fd-b2ff-7be129275380",
   "metadata": {},
   "outputs": [],
   "source": []
  },
  {
   "cell_type": "code",
   "execution_count": null,
   "id": "bfafebae-b737-49f9-8de3-3e203691fb35",
   "metadata": {},
   "outputs": [],
   "source": []
  },
  {
   "cell_type": "code",
   "execution_count": null,
   "id": "623ddbc1-43ac-427a-9d24-7cf436b387a9",
   "metadata": {},
   "outputs": [],
   "source": []
  },
  {
   "cell_type": "code",
   "execution_count": null,
   "id": "43d692e8-16d0-4cda-a209-72ee498fce5a",
   "metadata": {},
   "outputs": [],
   "source": []
  },
  {
   "cell_type": "code",
   "execution_count": null,
   "id": "ebb2a6c6-2466-43da-b64e-a0f35569c84e",
   "metadata": {},
   "outputs": [],
   "source": []
  },
  {
   "cell_type": "code",
   "execution_count": null,
   "id": "073d9458-fe80-4cf9-9f28-71e8f67e1345",
   "metadata": {},
   "outputs": [],
   "source": []
  },
  {
   "cell_type": "code",
   "execution_count": null,
   "id": "36be9529-5616-4cff-a53c-eca6407dc50b",
   "metadata": {},
   "outputs": [],
   "source": []
  },
  {
   "cell_type": "code",
   "execution_count": null,
   "id": "a7023a54-a3d8-4737-b87f-96cf972c5bad",
   "metadata": {},
   "outputs": [],
   "source": []
  },
  {
   "cell_type": "code",
   "execution_count": null,
   "id": "a2959c49-3577-45f7-9647-60413afb17cf",
   "metadata": {},
   "outputs": [],
   "source": []
  },
  {
   "cell_type": "code",
   "execution_count": null,
   "id": "4b54b386-003a-46ba-9a53-7de9746dba29",
   "metadata": {},
   "outputs": [],
   "source": []
  },
  {
   "cell_type": "code",
   "execution_count": null,
   "id": "997d2d77-62db-4f46-9f56-48b9f9861faf",
   "metadata": {},
   "outputs": [],
   "source": []
  },
  {
   "cell_type": "code",
   "execution_count": null,
   "id": "aa48b07b-11a8-4882-a501-a93a23c37a99",
   "metadata": {},
   "outputs": [],
   "source": []
  },
  {
   "cell_type": "code",
   "execution_count": null,
   "id": "884c533d-3f8e-4307-91b6-b7793a3be8ac",
   "metadata": {},
   "outputs": [],
   "source": []
  },
  {
   "cell_type": "code",
   "execution_count": null,
   "id": "b5a6cb75-ea1f-41a1-a6bb-38c64b3222d6",
   "metadata": {},
   "outputs": [],
   "source": []
  },
  {
   "cell_type": "code",
   "execution_count": null,
   "id": "5891f9b9-c747-4296-bb97-53d669813664",
   "metadata": {},
   "outputs": [],
   "source": []
  },
  {
   "cell_type": "code",
   "execution_count": null,
   "id": "2439555f-c52c-495c-976a-d91c9e983178",
   "metadata": {},
   "outputs": [],
   "source": []
  },
  {
   "cell_type": "code",
   "execution_count": null,
   "id": "40ce971b-b64d-43f9-a347-736f2c29e2d6",
   "metadata": {},
   "outputs": [],
   "source": []
  },
  {
   "cell_type": "code",
   "execution_count": null,
   "id": "55d0d3a8-eb20-4522-974b-1991462a3702",
   "metadata": {},
   "outputs": [],
   "source": []
  },
  {
   "cell_type": "code",
   "execution_count": null,
   "id": "ae547545-3d5f-485a-afa3-8e756c7cc82a",
   "metadata": {},
   "outputs": [],
   "source": []
  },
  {
   "cell_type": "code",
   "execution_count": null,
   "id": "9adf3d8d-9d20-46be-b706-201171dfe15f",
   "metadata": {},
   "outputs": [],
   "source": []
  },
  {
   "cell_type": "code",
   "execution_count": null,
   "id": "29b01c19-8b5f-47b3-9297-5fdb5f528e7e",
   "metadata": {},
   "outputs": [],
   "source": []
  },
  {
   "cell_type": "code",
   "execution_count": null,
   "id": "94b0fc1b-d78a-4914-b3fd-27b963d82668",
   "metadata": {},
   "outputs": [],
   "source": []
  },
  {
   "cell_type": "code",
   "execution_count": null,
   "id": "de07d5f0-be74-4f86-ac1a-1744e2642cac",
   "metadata": {},
   "outputs": [],
   "source": []
  },
  {
   "cell_type": "code",
   "execution_count": null,
   "id": "aaf4feaa-d6d6-4383-b165-f26b740b6551",
   "metadata": {},
   "outputs": [],
   "source": []
  },
  {
   "cell_type": "code",
   "execution_count": null,
   "id": "2ad10db5-5f53-4cfc-acd1-8c207007fd84",
   "metadata": {},
   "outputs": [],
   "source": []
  },
  {
   "cell_type": "code",
   "execution_count": null,
   "id": "0b76ff2b-e55b-49dd-9bba-1bf5abb585ef",
   "metadata": {},
   "outputs": [],
   "source": []
  },
  {
   "cell_type": "code",
   "execution_count": null,
   "id": "835c92f9-bdda-4f05-8708-2942ed8e3936",
   "metadata": {},
   "outputs": [],
   "source": []
  },
  {
   "cell_type": "code",
   "execution_count": null,
   "id": "01765bba-51d3-4183-b2f0-2163286c438e",
   "metadata": {},
   "outputs": [],
   "source": []
  },
  {
   "cell_type": "code",
   "execution_count": null,
   "id": "3a7b848a-fe5a-47d4-af0d-67f2602a44ad",
   "metadata": {},
   "outputs": [],
   "source": []
  },
  {
   "cell_type": "code",
   "execution_count": null,
   "id": "3172a298-2d85-4ae4-844d-da0b25166117",
   "metadata": {},
   "outputs": [],
   "source": []
  },
  {
   "cell_type": "code",
   "execution_count": null,
   "id": "638e4261-83b7-4961-859f-6a448f444150",
   "metadata": {},
   "outputs": [],
   "source": []
  },
  {
   "cell_type": "code",
   "execution_count": null,
   "id": "af36a10e-2b91-443b-a873-a59c1b78a477",
   "metadata": {},
   "outputs": [],
   "source": []
  }
 ],
 "metadata": {
  "kernelspec": {
   "display_name": "Python 3 (ipykernel)",
   "language": "python",
   "name": "python3"
  },
  "language_info": {
   "codemirror_mode": {
    "name": "ipython",
    "version": 3
   },
   "file_extension": ".py",
   "mimetype": "text/x-python",
   "name": "python",
   "nbconvert_exporter": "python",
   "pygments_lexer": "ipython3",
   "version": "3.9.2"
  }
 },
 "nbformat": 4,
 "nbformat_minor": 5
}
