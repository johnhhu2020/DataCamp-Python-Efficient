{
 "cells": [
  {
   "cell_type": "markdown",
   "id": "cae0df75-7ece-471a-bbb9-5661032618f0",
   "metadata": {},
   "source": [
    "##  Foundations for efficiencies\n",
    "\n",
    "In this chapter, you'll learn what it means to write efficient Python code. You'll explore Python's Standard Library, learn about NumPy arrays, and practice using some of Python's built-in tools. This chapter builds a foundation for the concepts covered ahead.\n",
    "\n",
    "    Welcome!    50 xp\n",
    "    Pop quiz: what is efficient    50 xp\n",
    "    A taste of things to come    100 xp\n",
    "    Zen of Python    35 xp\n",
    "    Building with built-ins    50 xp\n",
    "    Built-in practice: range()    100 xp\n",
    "    Built-in practice: enumerate()    100 xp\n",
    "    Built-in practice: map()    100 xp\n",
    "    The power of NumPy arrays    50 xp\n",
    "    Practice with NumPy arrays    100 xp\n",
    "    Bringing it all together: Festivus!    100 xp\n"
   ]
  },
  {
   "cell_type": "markdown",
   "id": "46a8ea61-f135-47c3-8ae5-d152b109baf0",
   "metadata": {},
   "source": [
    "##  Timing and profiling code\n",
    "\n",
    "In this chapter, you will learn how to gather and compare runtimes between different coding approaches. You'll practice using the line_profiler and memory_profiler packages to profile your code base and spot bottlenecks. Then, you'll put your learnings to practice by replacing these bottlenecks with efficient Python code.\n",
    "\n",
    "    Examining runtime    50 xp\n",
    "    Using %timeit: your turn!    100 xp\n",
    "    Using %timeit: specifying number of runs and loops    50 xp\n",
    "    Using %timeit: formal name or literal syntax    100 xp\n",
    "    Using cell magic mode (%%timeit)    50 xp\n",
    "    Code profiling for runtime    50 xp\n",
    "    Pop quiz: steps for using %lprun    50 xp\n",
    "    Using %lprun: spot bottlenecks    50 xp\n",
    "    Using %lprun: fix the bottleneck    50 xp\n",
    "    Code profiling for memory usage    50 xp\n",
    "    Pop quiz: steps for using %mprun    50 xp\n",
    "    Using %mprun: Hero BMI    50 xp\n",
    "    Using %mprun: Hero BMI 2.0    50 xp\n",
    "    Bringing it all together: Star Wars profiling    100 xp \n",
    "    "
   ]
  },
  {
   "cell_type": "markdown",
   "id": "93a2039b-46e2-4ee6-9fcd-37afb79499a4",
   "metadata": {},
   "source": [
    "##  Gaining efficiencies\n",
    "\n",
    "This chapter covers more complex efficiency tips and tricks. You'll learn a few useful built-in modules for writing efficient code and practice using set theory. You'll then learn about looping patterns in Python and how to make them more efficient.\n",
    "\n",
    "    Efficiently combining, counting, and iterating    50 xp\n",
    "    Combining Pokémon names and types    100 xp\n",
    "    Counting Pokémon from a sample    100 xp\n",
    "    Combinations of Pokémon    100 xp\n",
    "    Set theory    50 xp\n",
    "    Comparing Pokédexes    100 xp\n",
    "    Searching for Pokémon    100 xp\n",
    "    Gathering unique Pokémon    100 xp\n",
    "    Eliminating loops    50 xp\n",
    "    Gathering Pokémon without a loop    100 xp\n",
    "    Pokémon totals and averages without a loop    100 xp\n",
    "    Writing better loops    50 xp\n",
    "    One-time calculation loop    100 xp\n",
    "    Holistic conversion loop    100 xp\n",
    "    Bringing it all together: Pokémon z-scores    100 xp \n",
    "    "
   ]
  },
  {
   "cell_type": "markdown",
   "id": "8a6929ad-5e13-4409-92b6-1e26390e30e3",
   "metadata": {},
   "source": [
    "##  Basic pandas optimizations\n",
    "\n",
    "This chapter offers a brief introduction on how to efficiently work with pandas DataFrames. You'll learn the various options you have for iterating over a DataFrame. Then, you'll learn how to efficiently apply functions to data stored in a DataFrame.\n",
    "\n",
    "    Intro to pandas DataFrame iteration    50 xp\n",
    "    Iterating with .iterrows()    100 xp\n",
    "    Run differentials with .iterrows()    100 xp\n",
    "    Another iterator method: .itertuples()    50 xp\n",
    "    Iterating with .itertuples()    100 xp\n",
    "    Run differentials with .itertuples()    100 xp\n",
    "    pandas alternative to looping    50 xp\n",
    "    Analyzing baseball stats with .apply()    100 xp\n",
    "    Settle a debate with .apply()    100 xp\n",
    "    Optimal pandas iterating    50 xp\n",
    "    Replacing .iloc with underlying arrays    100 xp\n",
    "    Bringing it all together: Predict win percentage    100 xp\n",
    "    Congratulations!    50 xp\n"
   ]
  },
  {
   "cell_type": "code",
   "execution_count": null,
   "id": "e9623b95-4fb2-4096-94ee-86970a756fdb",
   "metadata": {},
   "outputs": [],
   "source": []
  },
  {
   "cell_type": "code",
   "execution_count": null,
   "id": "69e184b4-5506-4744-996c-629ca3aefed5",
   "metadata": {},
   "outputs": [],
   "source": []
  },
  {
   "cell_type": "markdown",
   "id": "06a1e634-b641-45a8-a7cb-581740cafb52",
   "metadata": {},
   "source": [
    "## In this course, you'll learn how to write cleaner, faster, and more efficient Python code\n",
    "\n",
    "   **.We'll explore how to time and profile your code in order to find potential bottlenecks\n",
    "   ** And learn practice eliminating these bottlenecks, and other bad design patterns, using Python's standard Library, NumPy and Pandas\n",
    "   \n",
    "   **After completing thise course, you''ll have everything you need to start writting elegant and efficient Python code. \n",
    "\n",
    "\n",
    "\n",
    "**Efficient refers to code that satisfiees two key concepts. \n",
    "   **first, fast to run and small latency between execution and returningg result\n",
    "   **second, allocates resources skillfully and isn't subjected to unnecessary overhead"
   ]
  },
  {
   "cell_type": "code",
   "execution_count": 26,
   "id": "3597820d-b4f3-4cbc-941a-d441bdaf8129",
   "metadata": {},
   "outputs": [
    {
     "name": "stdout",
     "output_type": "stream",
     "text": [
      "[2, 6, 10, 14, 18]\n",
      "[2, 6, 10, 14, 18]\n"
     ]
    }
   ],
   "source": [
    "# Non-Pythonic\n",
    "numbers = [1, 3, 5, 7, 9]\n",
    "\n",
    "double_numbers = []\n",
    "\n",
    "for i in range(len(numbers)):\n",
    "    double_numbers.append(numbers[i]*2)\n",
    "print(double_numbers)\n",
    "# *************************************************************************************************** #\n",
    "\n",
    "    \n",
    "# Pythonic\n",
    "double_numbers = [x*2 for x in numbers]\n",
    "print(double_numbers)"
   ]
  },
  {
   "cell_type": "markdown",
   "id": "4f83e0e0-2c1b-4ed9-9ef1-4b63051f2121",
   "metadata": {},
   "source": [
    "## Things you should know:\n",
    "\n",
    "\n",
    "   **Data types typically used in Data Science**\n",
    "      Data Types for Data Science\n",
    "   \n",
    "   **Writing and using your own functions**\n",
    "      Python Data Science Toolbox(part 1)\n",
    "   \n",
    "   **Anonymous functions(lambda expressions)**\n",
    "      Python Data Science Toolbox(part 1)\n",
    "      \n",
    "   **Writing and using list comprehensions**\n",
    "      Python Data Science Toolbox(part 2)"
   ]
  },
  {
   "cell_type": "markdown",
   "id": "e41bdaa2-f1ec-45be-9185-666e8ddd8223",
   "metadata": {},
   "source": [
    "## A taste of things to come\n",
    "\n",
    "In this exercise, you'll explore both the Non-Pythonic and Pythonic ways of looping over a list.\n",
    "\n",
    "names = ['Jerry', 'Kramer', 'Elaine', 'George', 'Newman']\n",
    "\n",
    "Suppose you wanted to collect the names in the above list that have six letters or more. In other programming languages, the typical approach is to create an index variable (i), use i to iterate over the list, and use an if statement to collect the names with six letters or more:\n",
    "\n",
    "i = 0\n",
    "new_list= []\n",
    "while i < len(names):\n",
    "    if len(names[i]) >= 6:\n",
    "        new_list.append(names[i])\n",
    "    i += 1\n",
    "\n",
    "Let's explore some more Pythonic ways of doing this.\n",
    "Instructions 1/3\n",
    "50 XP\n",
    "\n",
    "    1   Print the list, new_list, that was created using a Non-Pythonic approach.\n",
    "\n",
    "    2   A more Pythonic approach would loop over the contents of names, rather than using an index variable. Print better_list.\n",
    "\n",
    "    3   The best Pythonic way of doing this is by using list comprehension. Print best_list."
   ]
  },
  {
   "cell_type": "code",
   "execution_count": 25,
   "id": "1ac527ec-2825-411e-bc89-5d8db7b0c5d2",
   "metadata": {},
   "outputs": [
    {
     "name": "stdout",
     "output_type": "stream",
     "text": [
      "['Kramer', 'Elaine', 'George', 'Newman']\n"
     ]
    }
   ],
   "source": [
    "# Print the list created using the Non-Pythonic approach\n",
    "\n",
    "\n",
    "names = ['Jerry', 'Kramer', 'Elaine', 'George', 'Newman']\n",
    "\n",
    "i = 0\n",
    "new_list= []\n",
    "while i < len(names):\n",
    "    if len(names[i]) >= 6:\n",
    "        new_list.append(names[i])\n",
    "    i += 1\n",
    "print(new_list)"
   ]
  },
  {
   "cell_type": "code",
   "execution_count": 3,
   "id": "71f78da3-1680-47de-987c-ab942c4e032f",
   "metadata": {},
   "outputs": [
    {
     "name": "stdout",
     "output_type": "stream",
     "text": [
      "['Kramer', 'Elaine', 'George', 'Newman']\n"
     ]
    }
   ],
   "source": [
    "names = ['Jerry', 'Kramer', 'Elaine', 'George', 'Newman']\n",
    "\n",
    "new_list = [i for i in names if len(i)>=6]    # I did it on the first shot\n",
    "print(new_list)"
   ]
  },
  {
   "cell_type": "code",
   "execution_count": 22,
   "id": "8eb0c8ce-180a-4859-8596-e27aafe8b1ef",
   "metadata": {},
   "outputs": [
    {
     "name": "stdout",
     "output_type": "stream",
     "text": [
      "['Kramer', 'Elaine', 'George', 'Newman']\n"
     ]
    }
   ],
   "source": [
    "# Print the list created by looping over the contents of names\n",
    "\n",
    "\n",
    "names = ['Jerry', 'Kramer', 'Elaine', 'George', 'Newman']\n",
    "\n",
    "better_list = []\n",
    "for name in names:\n",
    "    if len(name) >= 6:\n",
    "        better_list.append(name)\n",
    "print(better_list)"
   ]
  },
  {
   "cell_type": "code",
   "execution_count": 24,
   "id": "78a60c95-51f7-46d5-bb4f-191c77899c0f",
   "metadata": {},
   "outputs": [
    {
     "name": "stdout",
     "output_type": "stream",
     "text": [
      "['Jerry', 'Kramer', 'Elaine', 'George', 'Newman']\n"
     ]
    }
   ],
   "source": [
    "# Print the list created by using list comprehension\n",
    "# *************************************************************************************************** #\n",
    "\n",
    "\n",
    "names = ['Jerry', 'Kramer', 'Elaine', 'George', 'Newman']\n",
    "\n",
    "best_list = [i for i in names if len(name) >= 6]\n",
    "print(best_list)"
   ]
  },
  {
   "cell_type": "markdown",
   "id": "f4924529-4a67-4bd3-9d88-17f7f4b7b755",
   "metadata": {},
   "source": [
    "## Zen of Python\n",
    "\n",
    "In the video, we covered the Zen of Python written by Tim Peters, which lists 19 idioms that serve as guiding principles for any Pythonista. Python has hundreds of Python Enhancement Proposals, commonly referred to as PEPs. The Zen of Python is one of these PEPs and is documented as PEP20.\n",
    "\n",
    "One little Easter Egg in Python is the ability to print the Zen of Python using the command import this. Let's take a look at one of the idioms listed in these guiding principles.\n",
    "\n",
    "Type and run the command import this within your IPython console and answer the following question:\n",
    "\n",
    "What is the 7th idiom of the Zen of Python?\n",
    "Instructions\n",
    "50 XP\n",
    "Possible Answers\n",
    "\n",
    "    Flat is better than nested.\n",
    "    Beautiful is better than ugly.\n",
    "#   Readability counts.\n",
    "    Python is the best programming language ever.\n",
    "\n"
   ]
  },
  {
   "cell_type": "markdown",
   "id": "ffa8024c-a8fe-4b9a-b1d5-76a3ff87edd1",
   "metadata": {},
   "source": [
    "## Building with built-ins\n",
    "\n",
    "\n",
    " **Built-in components are referred to as the Python Standard Library\n",
    "\n",
    "   built-in types: list, tuple, set, dict\n",
    "    \n",
    "   built-in functions: print(), len(), range(), round(), enumerate(), map(), zip()\n",
    "    \n",
    "   built-in modules: os, sys, intertools, collections, math\n",
    "    \n",
    "    "
   ]
  },
  {
   "cell_type": "code",
   "execution_count": 21,
   "id": "649a09f1-32ca-420d-b128-4cce1aaa22fa",
   "metadata": {},
   "outputs": [
    {
     "name": "stdout",
     "output_type": "stream",
     "text": [
      "[1, 2, 3, 4, 5, 6, 7, 8, 9, 10]\n"
     ]
    },
    {
     "data": {
      "text/plain": [
       "\u001b[0;31mType:\u001b[0m        range\n",
       "\u001b[0;31mString form:\u001b[0m range(1, 25, 3)\n",
       "\u001b[0;31mLength:\u001b[0m      8\n",
       "\u001b[0;31mDocstring:\u001b[0m  \n",
       "range(stop) -> range object\n",
       "range(start, stop[, step]) -> range object\n",
       "\n",
       "Return an object that produces a sequence of integers from start (inclusive)\n",
       "to stop (exclusive) by step.  range(i, j) produces i, i+1, i+2, ..., j-1.\n",
       "start defaults to 0, and stop is omitted!  range(4) produces 0, 1, 2, 3.\n",
       "These are exactly the valid indices for a list of 4 elements.\n",
       "When step is given, it specifies the increment (or decrement).\n"
      ]
     },
     "metadata": {},
     "output_type": "display_data"
    }
   ],
   "source": [
    "# Buildin function: range()\n",
    "   # The range() function returns a range object, \n",
    "   # which we can convert into a list\n",
    "   # range() can also accept a start, stop, step value\n",
    "# *************************************************************************************************** #\n",
    "\n",
    "\n",
    "num_list = list(range(1,11))\n",
    "n_list = range(1,25,3)\n",
    "\n",
    "?n_list\n",
    "print(num_list)"
   ]
  },
  {
   "cell_type": "code",
   "execution_count": 47,
   "id": "8eae0e35-d983-4af4-8385-d0f3ee5a3ad1",
   "metadata": {},
   "outputs": [
    {
     "name": "stdout",
     "output_type": "stream",
     "text": [
      "<enumerate object at 0x7fd33035cfc0>\n",
      "(0, 'a') (1, 'b') (2, 'c') (3, 'd') (4, 'e') (5, 'f') (6, 'g')\n",
      "[]\n",
      "[(0, 'a'), (1, 'b'), (2, 'c'), (3, 'd'), (4, 'e'), (5, 'f'), (6, 'g')]\n",
      "[(2, 'a'), (3, 'b'), (4, 'c'), (5, 'd'), (6, 'e'), (7, 'f'), (8, 'g')]\n"
     ]
    }
   ],
   "source": [
    "# Buildin function: enumerate()\n",
    "    # enumerate() create an index item pair for each item in the object provided\n",
    "    # For example, calling enumerate on the list letters produces a sequence of indexed values\n",
    "    # Similar to range(), enumerate() returns an enumerate object, can be converted into a list too\n",
    "    \n",
    "    # We can also specify the starting index of enumerate with the keyword argument start\n",
    "# *************************************************************************************************** #\n",
    "\n",
    "\n",
    "letters = ['a', 'b', 'c', 'd', 'e', 'f', 'g']\n",
    "n_letters = enumerate(letters)\n",
    "print(n_letters)\n",
    "print(*n_letters)\n",
    "print([*n_letters])\n",
    "\n",
    "new_letters = list(enumerate(letters))\n",
    "print(new_letters)\n",
    "\n",
    "nn_letters = list(enumerate(letters, start=2))\n",
    "print(nn_letters)"
   ]
  },
  {
   "cell_type": "code",
   "execution_count": 91,
   "id": "62dfb20f-bf90-4c9b-b02e-a303240ff02a",
   "metadata": {},
   "outputs": [
    {
     "name": "stdout",
     "output_type": "stream",
     "text": [
      "[2, 2, 3, 5, 5]\n",
      "[2.25, 5.289999999999999, 11.559999999999999, 21.159999999999997, 25.0]\n",
      "[]\n",
      "2.25 5.289999999999999 11.559999999999999 21.159999999999997 25.0\n",
      "[2.25, 5.289999999999999, 11.559999999999999, 21.159999999999997, 25.0]\n",
      "[0, 1, 2, 3, 4, 5, 6, 7, 8, 9, 10, 11, 12, 13, 14]\n"
     ]
    }
   ],
   "source": [
    "# Buildin function: map()\n",
    "    # The last buildin function we'll cover is map()\n",
    "    # map() applies function into each element in an object\n",
    "    \n",
    "    # map() can also be used with lambda, or anonymous function\n",
    "    # The map() function provides a quick and clean way to apply a function to an object iteratively\n",
    "# *************************************************************************************************** #\n",
    "\n",
    "\n",
    "nums = [1.5, 2.3, 3.4, 4.6, 5.0]\n",
    "\n",
    "rnd_nums = map(round, nums)\n",
    "print(list(rnd_nums))\n",
    "\n",
    "surd_nums = map(lambda x: x**2, nums)\n",
    "# *************************************************************************************************** #\n",
    "print(list(surd_nums))\n",
    "print([*surd_nums])   # My guessing is nested function caused * unpacking failure ******************* #\n",
    "print(*map(lambda x: x**2, nums))\n",
    "print([*map(lambda x: x**2, nums)])\n",
    "# *************************************************************************************************** #\n",
    "# In this tutorial, we will learn how to use the asterisk (*) operator to unpack iterable objects, \n",
    "# and two asterisks (**) to unpack dictionaries.\n",
    "# *************************************************************************************************** #\n",
    "nn = [*range(15)]\n",
    "print(nn)"
   ]
  },
  {
   "cell_type": "markdown",
   "id": "f13e5875-f751-44ed-bdb6-44ffb0907bbd",
   "metadata": {},
   "source": [
    "## Packing With the * Operator\n",
    "\n",
    "The * operator is known, in this context, as the tuple (or iterable) unpacking operator. It extends the unpacking functionality to allow us to collect or pack multiple values in a single variable. In the following example, we pack a tuple of values into a single variable by using the * operator:\n",
    "\n",
    ">>> *a, = 1, 2\n",
    ">>> a\n",
    "[1, 2]\n",
    "\n",
    "For this code to work, the left side of the assignment must be a tuple (or a list). That's why we use a trailing comma. This tuple can contain as many variables as we need. However, it can only contain one starred expression."
   ]
  },
  {
   "cell_type": "code",
   "execution_count": 90,
   "id": "f063eed2-ee4a-48ac-a96a-fa134fd5f9f3",
   "metadata": {},
   "outputs": [
    {
     "name": "stdout",
     "output_type": "stream",
     "text": [
      "['Joh', 'Jho', 'Jo']\n",
      "[1.5, 2.3, 3.4, 4.6, 5.0]\n",
      "{'a': 1, 'b': 2, 'c': 3}\n",
      "{'a': 1, 'b': 2, 'c': 3, 'd': 4, 'e': 5, 'f': 6}\n"
     ]
    }
   ],
   "source": [
    "# We can also use the * operator to pack multiple values into a single variable. \n",
    "\n",
    "[*names] = 'Joh', 'Jho', 'Jo'\n",
    "print(names)\n",
    "\n",
    "[*nums] = [1.5, 2.3, 3.4, 4.6, 5.0]\n",
    "print(nums)\n",
    "\n",
    "\n",
    "num_dict = {'a': 1, 'b': 2, 'c': 3}\n",
    "num_dict_2 = {'d': 4, 'e': 5, 'f': 6}\n",
    "#n_dict = [**num_dict]\n",
    "n_dict = {**num_dict}\n",
    "print(n_dict)\n",
    "\n",
    "new_dict = {**num_dict, **num_dict_2}\n",
    "print(new_dict)"
   ]
  },
  {
   "cell_type": "markdown",
   "id": "cba07ef5-6ac5-4bb9-bf2e-0582899108e0",
   "metadata": {},
   "source": [
    "## Built-in practice: range()\n",
    "\n",
    "In this exercise, you will practice using Python's built-in function range(). Remember that you can use range() in a few different ways:\n",
    "\n",
    "1) Create a sequence of numbers from 0 to a stop value (which is exclusive). This is useful when you want to create a simple sequence of numbers starting at zero:\n",
    "\n",
    "range(stop)\n",
    "\n",
    "# Example\n",
    "list(range(11))\n",
    "\n",
    "[0, 1, 2, 3, 4, 5, 6, 7, 8, 9, 10]\n",
    "\n",
    "2) Create a sequence of numbers from a start value to a stop value (which is exclusive) with a step size. This is useful when you want to create a sequence of numbers that increments by some value other than one. For example, a list of even numbers:\n",
    "\n",
    "range(start, stop, step)\n",
    "\n",
    "# Example\n",
    "list(range(2,11,2))\n",
    "\n",
    "[2, 4, 6, 8, 10]\n",
    "\n",
    "Instructions\n",
    "100 XP\n",
    "\n",
    "    Create a range object that starts at zero and ends at five. Only use a stop argument.\n",
    "    Convert the nums variable into a list called nums_list.\n",
    "    Create a new list called nums_list2 that starts at one, ends at eleven, and increments by two by \n",
    "# unpacking a range object using the star character (*).\n",
    "\n",
    "Hint\n",
    "\n",
    "    The stop argument in range() is exclusive. This means range(11) will create a range object from zero to ten.\n",
    "    To convert an object y into a list, you can use the command list(y).\n",
    "    You can unpack an object z into a list by using the command [*z].\n"
   ]
  },
  {
   "cell_type": "code",
   "execution_count": 92,
   "id": "9dbbdfe6-4c1c-4a21-a6e7-119da694081e",
   "metadata": {},
   "outputs": [
    {
     "name": "stdout",
     "output_type": "stream",
     "text": [
      "<class 'range'>\n",
      "0 1 2 3 4 5\n",
      "[0, 1, 2, 3, 4, 5]\n",
      "[1, 3, 5, 7, 9, 11]\n"
     ]
    }
   ],
   "source": [
    "# Create a range object that goes from 0 to 5\n",
    "nums = range(6)\n",
    "print(type(nums))\n",
    "print(*nums)  # My guessing is nested function caused * unpacking failure *************************** #\n",
    "# *************************************************************************************************** #\n",
    "\n",
    "# Convert nums to a list\n",
    "nums_list = list(nums)\n",
    "print(nums_list)\n",
    "\n",
    "# Create a new list of odd numbers from 1 to 11 by unpacking a range object\n",
    "nums_list2 = [*range(1,12,2)]\n",
    "# *************************************************************************************************** #\n",
    "print(nums_list2)"
   ]
  },
  {
   "cell_type": "markdown",
   "id": "617efcd0-34e0-4bde-9529-c1e9abab5f96",
   "metadata": {},
   "source": [
    "## Built-in practice: enumerate()\n",
    "\n",
    "In this exercise, you'll practice using Python's built-in function enumerate(). This function is useful for obtaining an indexed list. For example, suppose you had a list of people that arrived at a party you are hosting. The list is ordered by arrival (Jerry was the first to arrive, followed by Kramer, etc.):\n",
    "\n",
    "names = ['Jerry', 'Kramer', 'Elaine', 'George', 'Newman']\n",
    "\n",
    "If you wanted to attach an index representing a person's arrival order, you could use the following for loop:\n",
    "\n",
    "indexed_names = []\n",
    "for i in range(len(names)):\n",
    "    index_name = (i, names[i])\n",
    "    indexed_names.append(index_name)\n",
    "\n",
    "[(0,'Jerry'),(1,'Kramer'),(2,'Elaine'),(3,'George'),(4,'Newman')]\n",
    "\n",
    "But, that's not the most efficient solution. Let's explore how to use enumerate() to make this more efficient.\n",
    "Instructions\n",
    "100 XP\n",
    "\n",
    "    Instead of using for i in range(len(names)), update the for loop to use i as the index variable and name as the iterator variable and use enumerate().\n",
    "    Rewrite the previous for loop using enumerate() and list comprehension to create a new list, indexed_names_comp.\n",
    "    Create another list (indexed_names_unpack) by using the star character (*) to unpack the enumerate object created from using enumerate() on names. This time, start the index for enumerate() at one instead of zero.\n",
    "\n",
    "Hint\n",
    "\n",
    "    When using enumerate() in a for loop, the first variable is an index variable. The second variable is the iterator variable.\n",
    "    Use i as the index variable and name as the iterator variable in your list comprehension.\n",
    "    To unpack an enumerate object, use a star character (*) before the enumerate() function.\n",
    "    enumerate(names, s) will specify s as a starting index.\n"
   ]
  },
  {
   "cell_type": "code",
   "execution_count": 37,
   "id": "de7bfc06-e810-4895-84c8-7874beeaf808",
   "metadata": {},
   "outputs": [
    {
     "name": "stdout",
     "output_type": "stream",
     "text": [
      "[(0, 'Jerry'), (1, 'Kramer'), (2, 'Elaine'), (3, 'George'), (4, 'Newman')]\n",
      "[(0, 'Jerry'), (1, 'Kramer'), (2, 'Elaine'), (3, 'George'), (4, 'Newman')]\n",
      "[<enumerate object at 0x7fd330293f80>]\n"
     ]
    }
   ],
   "source": [
    "names = ['Jerry', 'Kramer', 'Elaine', 'George', 'Newman']\n",
    "\n",
    "# Rewrite the for loop to use enumerate\n",
    "indexed_names = []\n",
    "for i,name in enumerate(names):\n",
    "    index_name = (i,name)\n",
    "    indexed_names.append(index_name) \n",
    "print(indexed_names)\n",
    "\n",
    "# Rewrite the above for loop using list comprehension\n",
    "indexed_names_comp = [(i,name) for i,name in enumerate(names)]\n",
    "print(indexed_names_comp)\n",
    "\n",
    "# Unpack an enumerate object with a starting index of one\n",
    "indexed_names_unpack = [enumerate(names, start=1)]\n",
    "print(indexed_names_unpack)"
   ]
  },
  {
   "cell_type": "code",
   "execution_count": 53,
   "id": "c84b6523-e824-438b-b420-013811872541",
   "metadata": {},
   "outputs": [
    {
     "name": "stdout",
     "output_type": "stream",
     "text": [
      "[(0, 'Jerry'), (1, 'Kramer'), (2, 'Elaine'), (3, 'George'), (4, 'Newman')]\n",
      "[(0, 'Jerry'), (1, 'Kramer'), (2, 'Elaine'), (3, 'George'), (4, 'Newman')]\n",
      "[(1, 'Jerry'), (2, 'Kramer'), (3, 'Elaine'), (4, 'George'), (5, 'Newman')]\n"
     ]
    }
   ],
   "source": [
    "names = ['Jerry', 'Kramer', 'Elaine', 'George', 'Newman']\n",
    "\n",
    "# Rewrite the for loop to use enumerate\n",
    "indexed_names = []\n",
    "for i,name in enumerate(names):\n",
    "    index_name = (i,name)\n",
    "    indexed_names.append(index_name) \n",
    "print(indexed_names)\n",
    "\n",
    "# Rewrite the above for loop using list comprehension\n",
    "indexed_names_comp = [(i,name) for i,name in enumerate(names)]\n",
    "print(indexed_names_comp)\n",
    "\n",
    "# Unpack an enumerate object with a starting index of one\n",
    "indexed_names_unpack = [*enumerate(names, 1)]\n",
    "# *************************************************************************************************** #\n",
    "print(indexed_names_unpack)"
   ]
  },
  {
   "cell_type": "markdown",
   "id": "78afaffc-c261-4d4f-8fec-bf415bdc2af9",
   "metadata": {},
   "source": [
    "## Built-in practice: map()\n",
    "\n",
    "In this exercise, you'll practice using Python's built-in map() function to apply a function to every element of an object. Let's look at a list of party guests:\n",
    "\n",
    "names = ['Jerry', 'Kramer', 'Elaine', 'George', 'Newman']\n",
    "\n",
    "Suppose you wanted to create a new list (called names_uppercase) that converted all the letters in each name to uppercase. you could accomplish this with the below for loop:\n",
    "\n",
    "names_uppercase = []\n",
    "\n",
    "for name in names:\n",
    "  names_uppercase.append(name.upper())\n",
    "\n",
    "['JERRY', 'KRAMER', 'ELAINE', 'GEORGE', 'NEWMAN']\n",
    "\n",
    "Let's explore using the map() function to do this more efficiently in one line of code.\n",
    "Instructions\n",
    "100 XP\n",
    "\n",
    "    Use map() and the method str.upper() to convert each name in the list names to uppercase. Save this to the variable names_map.\n",
    "    Print the data type of names_map.\n",
    "# *****************************************************************************************************\n",
    "#    Unpack the contents of names_map into a list called names_uppercase using the star character (*).\n",
    "    Print names_uppercase and observe its contents.\n"
   ]
  },
  {
   "cell_type": "code",
   "execution_count": 4,
   "id": "00864815-919d-46bd-a281-f891ce16bfcf",
   "metadata": {},
   "outputs": [
    {
     "name": "stdout",
     "output_type": "stream",
     "text": [
      "<class 'map'>\n",
      "['JERRY', 'KRAMER', 'ELAINE', 'GEORGE', 'NEWMAN']\n"
     ]
    }
   ],
   "source": [
    "names = ['JERRY', 'KRAMER', 'ELAINE', 'GEORGE', 'NEWMAN']\n",
    "\n",
    "\n",
    "# Use map to apply str.upper to each element in names\n",
    "names_map  = map(str.upper, names)\n",
    "\n",
    "# Print the type of the names_map\n",
    "print(type(names_map))\n",
    "\n",
    "# Unpack names_map into a list\n",
    "names_uppercase = [*names_map]\n",
    "#names_uppercase = list(names_map)   # Working code\n",
    "\n",
    "# Print the list created above\n",
    "print(names_uppercase)"
   ]
  },
  {
   "cell_type": "markdown",
   "id": "d161cfbe-64f4-4f08-a78b-d84ff62392c3",
   "metadata": {},
   "source": [
    "## The power of NumPy arrays\n",
    "\n",
    "\n",
    "\n",
    "\n",
    "**NumPy or Numerical Python, is an invaluable package for DataScientists.  Its the fundamental package for scientific computing in Python and pvovides a number of benefits for writing efficient code.  In this course, we'll highlight one of the most imprtant advantages of NumPy, the NumPy array.  \n",
    "\n",
    "# NumPy arrays provides a fast and menory efficient alternative to Pytho lists.  NumPy arrays are homogeneous, which means that they must contanin elements of the same type.  \n",
    "\n",
    "**We can see the type of each element using the .dtype() method.  \n",
    "\n",
    "\n"
   ]
  },
  {
   "cell_type": "code",
   "execution_count": 16,
   "id": "aa3943c1-87f8-4a2c-bda9-c645003da9bb",
   "metadata": {},
   "outputs": [
    {
     "data": {
      "text/plain": [
       "dtype('float64')"
      ]
     },
     "execution_count": 16,
     "metadata": {},
     "output_type": "execute_result"
    }
   ],
   "source": [
    "import numpy as np\n",
    "\n",
    "weight = [65.4, 59.2, 63.6, 88.4, 68.7]\n",
    "np_weight = np.array(weight)\n",
    "\n",
    "np_weight.dtype\n",
    "#print(dir(np_weight))\n",
    "\n",
    "\n",
    "# *****************************************************************************************************\n",
    "# Shape is a so-called attribute of the np2d array, that can give you more information about \n",
    "# what the data structure looks like.  Note that the syntax for access an attribute looks \n",
    "# a bit like calling a method, but they are not the same.  Remember that the method has \n",
    "# round brackets fater them and you can see here, the attribute do not.  \n"
   ]
  },
  {
   "cell_type": "markdown",
   "id": "c3d01505-ddd3-4455-bf23-ea9723ab15d6",
   "metadata": {},
   "source": [
    "# *****************************************************************************************************\n",
    "# Shape is a so-called attribute of the np2d array, that can give you more information about what the data structure looks like.  Note that the syntax for access an attribute looks a bit like calling a method, but they are not the same.  Remember that the method has round brackets fater them and you can see here, the attribute do not.  \n"
   ]
  },
  {
   "cell_type": "code",
   "execution_count": 18,
   "id": "c0314f02-15bb-4997-b6f9-7c5e97c14c38",
   "metadata": {},
   "outputs": [
    {
     "data": {
      "text/plain": [
       "array([57.36, 65.  , 67.18,  1.  , 70.  ])"
      ]
     },
     "execution_count": 18,
     "metadata": {},
     "output_type": "execute_result"
    }
   ],
   "source": [
    "height = [57.36, 65, 67.18, True, 70]\n",
    "\n",
    "np_height = np.array(height)\n",
    "np_height"
   ]
  },
  {
   "cell_type": "markdown",
   "id": "5a23e5e5-3912-40c9-9503-92eec9aafc06",
   "metadata": {},
   "source": [
    "# **In above array, the integer and boolean are preceeding dot in the array, that because NumPy converts the integer and boolean to float to retain that array's homogeneous nature.  \n",
    "\n",
    "# Homogeneity allows NumPy array to be more memory efficient and faster than Python lists.  \n",
    "**Requiring all elements be the same type eliminates the overhead needed for data type checking.  \n",
    "\n",
    "\n",
    "\n",
    "# **When analyzing data, you often want to perform operations over entire collections of values quickly. \n",
    "\n",
    "**# The second advantage of NumPy arrays is they broadcasting functionality.  NumPy arrays vectorize operations, so they are performed on all elements of an object at once.  Allows us to efficiently perform calculations over entire array.  \n",
    "\n",
    "\n",
    "**# Another advantange of NumPy arrays is their indexing capabilities.  When comparing basic indexing between a one-dimensional array and list, the capabilities are indentical.  \n",
    "\n",
    "**When using two-dimensional arrays and lists, the advantages oa arrays are clear, the analogous list ayntax is a bit more verbose as you have to surround both indexing with square brackets.  \n",
    "\n",
    "**If we select all rows and last column of our 2 dimensional array, we can use colon to represent all rows and then index -1 to represent last column.  But list dont support this kind of syntax, so we must use a list comprehension to return columns. \n",
    "\n"
   ]
  },
  {
   "cell_type": "code",
   "execution_count": 36,
   "id": "63e5b28a-7fee-4acc-9f46-77375fd13e56",
   "metadata": {},
   "outputs": [
    {
     "data": {
      "text/plain": [
       "array([3.2901696e+03, 4.2250000e+03, 4.5131524e+03, 1.0000000e+00,\n",
       "       4.9000000e+03])"
      ]
     },
     "execution_count": 36,
     "metadata": {},
     "output_type": "execute_result"
    }
   ],
   "source": [
    "height = [57.36, 65, 67.18, True, 70]\n",
    "\n",
    "np_height = np.array(height)\n",
    "np_height_squd = np_height**2\n",
    "\n",
    "np_height_squd"
   ]
  },
  {
   "cell_type": "code",
   "execution_count": 42,
   "id": "878bfc25-bee1-4ad0-aa6f-3e69b85d0645",
   "metadata": {},
   "outputs": [
    {
     "name": "stdout",
     "output_type": "stream",
     "text": [
      "4\n",
      "4\n",
      "[4, 8]\n",
      "[1, 2, 3, 4]\n",
      "[4 8]\n"
     ]
    }
   ],
   "source": [
    "nums = [[1, 2, 3, 4], \n",
    "        [5, 6, 7, 8]]\n",
    "\n",
    "np_nums = np.array(nums)\n",
    "\n",
    "print(nums[0][-1])\n",
    "\n",
    "print(np_nums[0, -1])\n",
    "\n",
    "print([i[-1] for i in nums])\n",
    "print(nums[0])\n",
    "\n",
    "print(np_nums[:, -1])"
   ]
  },
  {
   "cell_type": "markdown",
   "id": "4a1c3d06-aced-48d3-ab73-c59eb2e1f009",
   "metadata": {},
   "source": [
    "\n",
    "**NumPy array also have a special technique called boolean indexing, with an array, we cna create a boolean mast using a simple inequality.  Indexing the array is as simple as enclosing this inequality in square brackets.  \n",
    "\n",
    "\n",
    "\n"
   ]
  },
  {
   "cell_type": "code",
   "execution_count": 51,
   "id": "d245f86d-770c-4c18-8dd8-fda965933d12",
   "metadata": {},
   "outputs": [
    {
     "name": "stdout",
     "output_type": "stream",
     "text": [
      "[False False False  True  True]\n",
      "[88.4 68.7]\n"
     ]
    }
   ],
   "source": [
    "weight = [65.4, 59.2, 63.6, 88.4, 68.7]\n",
    "\n",
    "np_weight = np.array(weight)\n",
    "\n",
    "\n",
    "print(np_weight>66)\n",
    "\n",
    "print(np_weight[np_weight>66])"
   ]
  },
  {
   "cell_type": "code",
   "execution_count": 82,
   "id": "a6b02fc7-7ed0-4636-a49f-09bff5cf92ec",
   "metadata": {},
   "outputs": [
    {
     "name": "stdout",
     "output_type": "stream",
     "text": [
      "[False, False, False, True, True]\n",
      "[88.4, 68.7]\n"
     ]
    }
   ],
   "source": [
    "weight = [65.4, 59.2, 63.6, 88.4, 68.7]\n",
    "\n",
    "\n",
    "# *************************************************************************************************** #\n",
    "# *************************************************************************************************** #\n",
    "select_weight = [True if i>66 else False for i in weight]\n",
    "print(select_weight)\n",
    "\n",
    "# *************************************************************************************************** #\n",
    "# *************************************************************************************************** #\n",
    "sel_weight = [i for i in weight if i>66 ]\n",
    "print(sel_weight)"
   ]
  },
  {
   "cell_type": "markdown",
   "id": "20c72520-b570-4a6d-afd3-0ab769d38acf",
   "metadata": {},
   "source": [
    "## Practice with NumPy arrays\n",
    "\n",
    "# Let's practice slicing numpy arrays and using NumPy's broadcasting concept. Remember, broadcasting refers to a numpy array's ability to vectorize operations, so they are performed on all elements of an object at once.\n",
    "\n",
    "A two-dimensional numpy array has been loaded into your session (called nums) and printed into the console for your convenience. numpy has been imported into your session as np.\n",
    "Instructions 1/2\n",
    "50 XP\n",
    "\n",
    "    1\n",
    "    2\n",
    "\n",
    "    Print the second row of nums.\n",
    "    Print the items of nums that are greater than six.\n",
    "    Create nums_dbl that doubles each number in nums.\n",
    "    Replace the third column in nums with a new column that adds 1 to each item in the original column.\n",
    "\n",
    "Question\n",
    "\n",
    "When compared to a list object, what are two advantages of using a numpy array?\n",
    "Possible Answers\n",
    "\n",
    "    A numpy array is the only data structure that can be used with the numpy package and often has less verbose indexing syntax.\n",
    "    A numpy array contains homogeneous data types (which reduces memory consumption) and provides the ability to apply operations on all elements through broadcasting.\n",
    "    A numpy array supports boolean indexing and has much better one-dimensional indexing capabilities.\n",
    "    Both a list object and a numpy array are identical.\n",
    "    "
   ]
  },
  {
   "cell_type": "code",
   "execution_count": 84,
   "id": "62f2b8d5-de8b-4e9c-ac0a-fb0dc60d433f",
   "metadata": {},
   "outputs": [
    {
     "name": "stdout",
     "output_type": "stream",
     "text": [
      "[[ 1  2  3  4  5]\n",
      " [ 6  7  8  9 10]]\n",
      "[ 6  7  8  9 10]\n",
      "[ 7  8  9 10]\n",
      "[[ 2  4  6  8 10]\n",
      " [12 14 16 18 20]]\n",
      "[[ 1  2  4  4  5]\n",
      " [ 6  7  9  9 10]]\n"
     ]
    }
   ],
   "source": [
    "nums = [[1, 2, 3, 4, 5], \n",
    "        [6, 7, 8, 9, 10]]\n",
    "nums = np.array(nums)\n",
    "\n",
    "# Print second row of nums\n",
    "print(nums)\n",
    "print(nums[1,:])\n",
    "\n",
    "# Print all elements of nums that are greater than six\n",
    "print(nums[nums > 6])\n",
    "\n",
    "# Double every element of nums\n",
    "nums_dbl = nums * 2\n",
    "print(nums_dbl)\n",
    "\n",
    "# Replace the third column of nums\n",
    "nums[:,2] = nums[:,2] + 1\n",
    "print(nums)"
   ]
  },
  {
   "cell_type": "markdown",
   "id": "8a33c368-cb96-49e1-862c-39c2c26af067",
   "metadata": {},
   "source": [
    "## Bringing it all together: Festivus!\n",
    "\n",
    "In this exercise, you will be throwing a party—a Festivus if you will!\n",
    "\n",
    "You have a list of guests (the names list). Each guest, for whatever reason, has decided to show up to the party in 10-minute increments. For example, Jerry shows up to Festivus 10 minutes into the party's start time, Kramer shows up 20 minutes into the party, and so on and so forth.\n",
    "\n",
    "We want to write a few simple lines of code, using the built-ins we have covered, to welcome each of your guests and let them know how many minutes late they are to your party. Note that numpy has been imported into your session as np and the names list has been loaded as well.\n",
    "\n",
    "Let's welcome your guests!\n",
    "Instructions 1/4\n",
    "25 XP\n",
    "\n",
    "    1\n",
    "    2\n",
    "    3\n",
    "    4\n",
    "\n",
    "    Use range() to create a list of arrival times (10 through 50 incremented by 10). Create the list arrival_times by unpacking the range object.\n",
    "\n",
    "# You can unpack the range object by placing a star character (*) in front of it; just like you've done in previous exercises.\n",
    "\n",
    "\n",
    "\n",
    "    You realize your clock is three minutes fast. Convert the arrival_times list into a numpy array (called arrival_times_np) and use NumPy broadcasting to subtract three minutes from each arrival time.\n",
    "    \n",
    "    \n",
    "    \n",
    "#    Use list comprehension with enumerate() to pair each guest in the names list to their updated arrival time in the new_times array. You'll need to use the index variable created from using enumerate() on new_times to index the names list.\n",
    "\n",
    "\n",
    "\n",
    "\n",
    "    A function named welcome_guest() has been pre-loaded into your session. Use map() to apply this function to each element of the guest_arrivals list and save it as the variable welcome_map.\n"
   ]
  },
  {
   "cell_type": "code",
   "execution_count": 3,
   "id": "c1b82688-f734-4776-b04a-ce300e18ed18",
   "metadata": {},
   "outputs": [
    {
     "name": "stdout",
     "output_type": "stream",
     "text": [
      "[10, 20, 30, 40]\n"
     ]
    }
   ],
   "source": [
    "names = ['Jerry', 'Kramer', 'Elaine', 'George', 'Newman']\n",
    "\n",
    "\n",
    "# Create a list of arrival times\n",
    "arrival_times = [*range(10, 50, 10)]\n",
    "\n",
    "print(arrival_times)"
   ]
  },
  {
   "cell_type": "code",
   "execution_count": 4,
   "id": "50426cf7-3ace-4153-82f1-85223b60488f",
   "metadata": {},
   "outputs": [
    {
     "name": "stdout",
     "output_type": "stream",
     "text": [
      "[ 7 17 27 37 47]\n"
     ]
    }
   ],
   "source": [
    "# Create a list of arrival times\n",
    "arrival_times = [*range(10,60,10)]\n",
    "\n",
    "# Convert arrival_times to an array and update the times\n",
    "arrival_times_np = np.array(arrival_times)\n",
    "new_times = arrival_times_np - 3\n",
    "\n",
    "print(new_times)"
   ]
  },
  {
   "cell_type": "code",
   "execution_count": 5,
   "id": "d111d60f-0755-43c8-83be-914ec621b31d",
   "metadata": {},
   "outputs": [
    {
     "name": "stdout",
     "output_type": "stream",
     "text": [
      "[('Jerry', 7), ('Kramer', 17), ('Elaine', 27), ('George', 37), ('Newman', 47)]\n"
     ]
    }
   ],
   "source": [
    "# Create a list of arrival times\n",
    "arrival_times = [*range(10,60,10)]\n",
    "\n",
    "# Convert arrival_times to an array and update the times\n",
    "arrival_times_np = np.array(arrival_times)\n",
    "new_times = arrival_times_np - 3\n",
    "\n",
    "# Use list comprehension and enumerate to pair guests to new times\n",
    "guest_arrivals = [(names[i],time) for i,time in enumerate(new_times)]\n",
    "# *************************************************************************************************** #\n",
    "# *************************************************************************************************** #\n",
    "\n",
    "print(guest_arrivals)\n"
   ]
  },
  {
   "cell_type": "code",
   "execution_count": 197,
   "id": "682c2acb-f010-4688-a8f5-1eef278e791e",
   "metadata": {},
   "outputs": [
    {
     "name": "stdout",
     "output_type": "stream",
     "text": [
      "Welcome to Festivus Jerry... You've 7 min late\n",
      "Welcome to Festivus Kramer... You've 17 min late\n",
      "Welcome to Festivus Elaine... You've 27 min late\n",
      "Welcome to Festivus George... You've 37 min late\n",
      "Welcome to Festivus Newman... You've 47 min late\n"
     ]
    }
   ],
   "source": [
    "#welcome_guest??\n",
    "#Return:\n",
    "def welcome_guest(guest_and_time):\n",
    "    \n",
    "    \"\"\"\\n\n",
    "    Returns a welcome string for the guest_and_time tuple.\\n\n",
    "    \n",
    "    Args:\\n\n",
    "      guest_and_time (tuple): The guest and time tuple to create\\n\n",
    "      a welcome string for.\\n\n",
    "      \n",
    "    Returns:\\n\n",
    "      welcome_string (str): A string welcoming the guest to Festivus.\\n\n",
    "      \\'Welcome to Festivus {guest}... You\\'re {time} min late.\\'\\n    \\n\n",
    "    \"\"\"\n",
    "\n",
    "    guest = guest_and_time[0]\n",
    "    arrival_time = guest_and_time[1]\n",
    "    welcome_string = \"Welcome to Festivus {}... You\\'re {} min late.\".format(guest,arrival_time)\n",
    "    return welcome_string\n",
    "#\\nFile:      /tmp/tmpdqkos8y4/<ipython-input-1-286a427e45ef>\\nType:      function\\n'}\n",
    "\n",
    " \n",
    "#In [9]:\n",
    "#welcome_guest(guest_arrivals)\n",
    "#Out[9]:\n",
    "#\"Welcome to Festivus ('Jerry', 7)... You're ('Kramer', 17) min late.\"\n",
    "\n",
    "\n",
    "def welcome_guest(guest_and_time):\n",
    "\n",
    "#    for guest, time in guest_and_time:\n",
    "#        print(f\"Welcome to Festivus {guest}... You've {time} min late\")\n",
    "# Return:\n",
    "# ValueError: too many values to unpack (expected 2)\n",
    "    \n",
    "#    print(f\"Welcome to Festivus {i.index(0) for i in guest_and_time}.\\\n",
    "#    ...You've {i.index(1) for i in guest_and_time} min late\")\n",
    "\n",
    "    return f\"Welcome to Festivus {guest_and_time[0]}... You've {guest_and_time[1]} min late\"\n",
    "\n",
    "#    return f\"Welcome to Festivus {[i[0] for i in guest_arrivals]}.\\\n",
    "#    ...You.ve {[i[1] for i in guest_arrivals]} min late\"\n",
    "# Return:\n",
    "# Welcome to Festivus ['Jerry', 'Kramer', 'Elaine', 'George', 'Newman'].    ...You.ve [7, 17, 27\n",
    "              \n",
    "\n",
    "# Create a list of arrival times\n",
    "arrival_times = [*range(10,60,10)]\n",
    "\n",
    "# Convert arrival_times to an array and update the times\n",
    "arrival_times_np = np.array(arrival_times)\n",
    "new_times = arrival_times_np - 3\n",
    "\n",
    "# Use list comprehension and enumerate to pair guests to new times\n",
    "guest_arrivals = [(names[i],time) for i,time in enumerate(new_times)]\n",
    "\n",
    "# Map the welcome_guest function to each (guest,time) pair\n",
    "welcome_map = map(welcome_guest, guest_arrivals)\n",
    "# *************************************************************************************************** #\n",
    "# *************************************************************************************************** #\n",
    "# map() a function on [('Jerry', 7), ('Kramer', 17), ('Elaine', 27), ('George', 37), ('Newman', 47)]\n",
    "# function will be applied on each tuple pair ('Jerry', 7), then ('Kramer', 17)\n",
    "\n",
    "\n",
    "guest_welcomes = [*welcome_map]\n",
    "print(*guest_welcomes, sep='\\n')\n"
   ]
  },
  {
   "cell_type": "raw",
   "id": "dbdb5693-ab59-45c1-a976-a56219dfd2af",
   "metadata": {},
   "source": [
    "DataCamp IDE Return\n",
    "\n",
    "welcome_guest??\n",
    "\n",
    "{'text/plain': 'Signature: welcome_guest(guest_and_time)\\nDocstring:\\nReturns a welcome string for the guest_and_time tuple.\\n\\nArgs:\\n    guest_and_time (tuple): The guest and time tuple to create\\n        a welcome string for.\\n        \\nReturns:\\n    welcome_string (str): A string welcoming the guest to Festivus.\\n    \\'Welcome to Festivus {guest}... You\\'re {time} min late.\\'\\nSource:   \\ndef welcome_guest(guest_and_time):\\n    \"\"\"\\n    Returns a welcome string for the guest_and_time tuple.\\n    \\n    Args:\\n        guest_and_time (tuple): The guest and time tuple to create\\n            a welcome string for.\\n            \\n    Returns:\\n        welcome_string (str): A string welcoming the guest to Festivus.\\n        \\'Welcome to Festivus {guest}... You\\'re {time} min late.\\'\\n    \\n    \"\"\"\\n    guest = guest_and_time[0]\\n    arrival_time = guest_and_time[1]\\n    welcome_string = \"Welcome to Festivus {}... You\\'re {} min late.\".format(guest,arrival_time)\\n    return welcome_string\\nFile:      /tmp/tmpdqkos8y4/<ipython-input-1-286a427e45ef>\\nType:      function\\n'}"
   ]
  },
  {
   "cell_type": "code",
   "execution_count": 147,
   "id": "bb5057ff-1bfc-409a-95f0-d0e08990ca77",
   "metadata": {},
   "outputs": [
    {
     "name": "stdout",
     "output_type": "stream",
     "text": [
      "[('Jerry', 7), ('Kramer', 17), ('Elaine', 27), ('George', 37), ('Newman', 47)]\n",
      "Jerry\n",
      "['Jerry', 'Kramer', 'Elaine', 'George', 'Newman']\n"
     ]
    }
   ],
   "source": [
    "print(guest_arrivals)\n",
    "#print(dir(guest_arrivals))\n",
    "\n",
    "print(guest_arrivals[0][0])\n",
    "\n",
    "print([i[0] for i in guest_arrivals])"
   ]
  },
  {
   "cell_type": "code",
   "execution_count": 102,
   "id": "b88fbcef-e513-4c16-a6d1-c501242758e6",
   "metadata": {},
   "outputs": [
    {
     "name": "stdout",
     "output_type": "stream",
     "text": [
      "Welcome to Festivus Jerry... You've 7 min late\n",
      "Welcome to Festivus Kramer... You've 17 min late\n",
      "Welcome to Festivus Elaine... You've 27 min late\n",
      "Welcome to Festivus George... You've 37 min late\n",
      "Welcome to Festivus Newman... You've 47 min late\n"
     ]
    }
   ],
   "source": [
    "def welcome_guest(guest_and_time):\n",
    "    #for guest, time in guest_and_time:\n",
    "    #print(f\"Welcome to Festivus {guest_and_time[:, 0]}... You've {guest_and_time[:, 1]} min late\")\n",
    "\n",
    "    for guest, time in guest_and_time:\n",
    "        print(f\"Welcome to Festivus {guest}... You've {time} min late\")\n",
    "        \n",
    "        \n",
    "welcome_guest(guest_arrivals)"
   ]
  },
  {
   "cell_type": "markdown",
   "id": "a27be796-228b-402b-b0b5-5f0587a9aea7",
   "metadata": {},
   "source": [
    "# *****************************************************************************************************"
   ]
  },
  {
   "cell_type": "code",
   "execution_count": 9,
   "id": "e3a07618-284a-40e1-b01c-cd8b48ad8909",
   "metadata": {},
   "outputs": [
    {
     "name": "stdout",
     "output_type": "stream",
     "text": [
      "Welcome to Festivus ('Jerry', 7) ...You've ('Kramer', 17) min late\n",
      "[\"Welcome to Festivus ('Jerry', 7) ...You've ('Kramer', 17) min late\"]\n",
      "Welcome to Festivus ('Jerry', 7) ...You've ('Kramer', 17) min late\n",
      "\n",
      "[\"Welcome to Festivus Jerry ...You've 7 min late\", \"Welcome to Festivus Kramer ...You've 17 min late\", \"Welcome to Festivus Elaine ...You've 27 min late\", \"Welcome to Festivus George ...You've 37 min late\", \"Welcome to Festivus Newman ...You've 47 min late\"]\n",
      "\n",
      "Welcome to Festivus Jerry ...You've 7 min late\n",
      "Welcome to Festivus Kramer ...You've 17 min late\n",
      "Welcome to Festivus Elaine ...You've 27 min late\n",
      "Welcome to Festivus George ...You've 37 min late\n",
      "Welcome to Festivus Newman ...You've 47 min late\n"
     ]
    }
   ],
   "source": [
    "def welcome_guest(guest_and_time):\n",
    "    return f\"Welcome to Festivus {guest_and_time[0]} ...You've {guest_and_time[1]} min late\"\n",
    "\n",
    "out = welcome_guest(guest_arrivals)\n",
    "out2 = [*[out]]\n",
    "print(out)\n",
    "print(out2)\n",
    "print(*out2)\n",
    "print()\n",
    "# *************************************************************************************************** #\n",
    "\n",
    "\n",
    "welcome = map(welcome_guest, guest_arrivals)\n",
    "to_print = [*welcome]\n",
    "print(to_print)\n",
    "print()\n",
    "print(*to_print, sep='\\n')\n",
    "\n",
    "# *************************************************************************************************** #\n",
    "# *************************************************************************************************** #\n",
    "# *************************************************************************************************** #\n",
    "# To feel and understand the * unpacking immplementation and the map function using on iterable object"
   ]
  },
  {
   "cell_type": "code",
   "execution_count": null,
   "id": "9271c4ad-452d-4e9f-92aa-ced28331b0fc",
   "metadata": {},
   "outputs": [],
   "source": []
  },
  {
   "cell_type": "markdown",
   "id": "485698ca-e291-4f5e-a2f5-e664665eac79",
   "metadata": {},
   "source": [
    "## Examining runtime\n",
    "\n",
    "\n",
    "\n",
    "**In this lesson, we'll learn how to examine the runtime of our code.  As mentioned in the previous chapter, runtime is an important consideration when thinking about efficiency.  \n",
    "\n",
    "**IPyhon comes with some handy build-in magic commands we can use to time our code. %timeit.  The magic commands are enhancements that have been added on top of the normal Python syntax.  These commands are prefixedwith the % sign, see all the magic commands with %lsmagic\n",
    "\n"
   ]
  },
  {
   "cell_type": "code",
   "execution_count": 198,
   "id": "b07b2baf-382e-4981-a4d5-2f3d0fe67a72",
   "metadata": {},
   "outputs": [
    {
     "data": {
      "application/json": {
       "cell": {
        "!": "OSMagics",
        "HTML": "Other",
        "SVG": "Other",
        "bash": "Other",
        "capture": "ExecutionMagics",
        "debug": "ExecutionMagics",
        "file": "Other",
        "html": "DisplayMagics",
        "javascript": "DisplayMagics",
        "js": "DisplayMagics",
        "latex": "DisplayMagics",
        "markdown": "DisplayMagics",
        "perl": "Other",
        "prun": "ExecutionMagics",
        "pypy": "Other",
        "python": "Other",
        "python2": "Other",
        "python3": "Other",
        "ruby": "Other",
        "script": "ScriptMagics",
        "sh": "Other",
        "svg": "DisplayMagics",
        "sx": "OSMagics",
        "system": "OSMagics",
        "time": "ExecutionMagics",
        "timeit": "ExecutionMagics",
        "writefile": "OSMagics"
       },
       "line": {
        "alias": "OSMagics",
        "alias_magic": "BasicMagics",
        "autoawait": "AsyncMagics",
        "autocall": "AutoMagics",
        "automagic": "AutoMagics",
        "autosave": "KernelMagics",
        "bookmark": "OSMagics",
        "cat": "Other",
        "cd": "OSMagics",
        "clear": "KernelMagics",
        "colors": "BasicMagics",
        "conda": "PackagingMagics",
        "config": "ConfigMagics",
        "connect_info": "KernelMagics",
        "cp": "Other",
        "debug": "ExecutionMagics",
        "dhist": "OSMagics",
        "dirs": "OSMagics",
        "doctest_mode": "BasicMagics",
        "ed": "Other",
        "edit": "KernelMagics",
        "env": "OSMagics",
        "gui": "BasicMagics",
        "hist": "Other",
        "history": "HistoryMagics",
        "killbgscripts": "ScriptMagics",
        "ldir": "Other",
        "less": "KernelMagics",
        "lf": "Other",
        "lk": "Other",
        "ll": "Other",
        "load": "CodeMagics",
        "load_ext": "ExtensionMagics",
        "loadpy": "CodeMagics",
        "logoff": "LoggingMagics",
        "logon": "LoggingMagics",
        "logstart": "LoggingMagics",
        "logstate": "LoggingMagics",
        "logstop": "LoggingMagics",
        "ls": "Other",
        "lsmagic": "BasicMagics",
        "lx": "Other",
        "macro": "ExecutionMagics",
        "magic": "BasicMagics",
        "man": "KernelMagics",
        "matplotlib": "PylabMagics",
        "mkdir": "Other",
        "more": "KernelMagics",
        "mv": "Other",
        "notebook": "BasicMagics",
        "page": "BasicMagics",
        "pastebin": "CodeMagics",
        "pdb": "ExecutionMagics",
        "pdef": "NamespaceMagics",
        "pdoc": "NamespaceMagics",
        "pfile": "NamespaceMagics",
        "pinfo": "NamespaceMagics",
        "pinfo2": "NamespaceMagics",
        "pip": "PackagingMagics",
        "popd": "OSMagics",
        "pprint": "BasicMagics",
        "precision": "BasicMagics",
        "prun": "ExecutionMagics",
        "psearch": "NamespaceMagics",
        "psource": "NamespaceMagics",
        "pushd": "OSMagics",
        "pwd": "OSMagics",
        "pycat": "OSMagics",
        "pylab": "PylabMagics",
        "qtconsole": "KernelMagics",
        "quickref": "BasicMagics",
        "recall": "HistoryMagics",
        "rehashx": "OSMagics",
        "reload_ext": "ExtensionMagics",
        "rep": "Other",
        "rerun": "HistoryMagics",
        "reset": "NamespaceMagics",
        "reset_selective": "NamespaceMagics",
        "rm": "Other",
        "rmdir": "Other",
        "run": "ExecutionMagics",
        "save": "CodeMagics",
        "sc": "OSMagics",
        "set_env": "OSMagics",
        "store": "StoreMagics",
        "sx": "OSMagics",
        "system": "OSMagics",
        "tb": "ExecutionMagics",
        "time": "ExecutionMagics",
        "timeit": "ExecutionMagics",
        "unalias": "OSMagics",
        "unload_ext": "ExtensionMagics",
        "who": "NamespaceMagics",
        "who_ls": "NamespaceMagics",
        "whos": "NamespaceMagics",
        "xdel": "NamespaceMagics",
        "xmode": "BasicMagics"
       }
      },
      "text/plain": [
       "Available line magics:\n",
       "%alias  %alias_magic  %autoawait  %autocall  %automagic  %autosave  %bookmark  %cat  %cd  %clear  %colors  %conda  %config  %connect_info  %cp  %debug  %dhist  %dirs  %doctest_mode  %ed  %edit  %env  %gui  %hist  %history  %killbgscripts  %ldir  %less  %lf  %lk  %ll  %load  %load_ext  %loadpy  %logoff  %logon  %logstart  %logstate  %logstop  %ls  %lsmagic  %lx  %macro  %magic  %man  %matplotlib  %mkdir  %more  %mv  %notebook  %page  %pastebin  %pdb  %pdef  %pdoc  %pfile  %pinfo  %pinfo2  %pip  %popd  %pprint  %precision  %prun  %psearch  %psource  %pushd  %pwd  %pycat  %pylab  %qtconsole  %quickref  %recall  %rehashx  %reload_ext  %rep  %rerun  %reset  %reset_selective  %rm  %rmdir  %run  %save  %sc  %set_env  %store  %sx  %system  %tb  %time  %timeit  %unalias  %unload_ext  %who  %who_ls  %whos  %xdel  %xmode\n",
       "\n",
       "Available cell magics:\n",
       "%%!  %%HTML  %%SVG  %%bash  %%capture  %%debug  %%file  %%html  %%javascript  %%js  %%latex  %%markdown  %%perl  %%prun  %%pypy  %%python  %%python2  %%python3  %%ruby  %%script  %%sh  %%svg  %%sx  %%system  %%time  %%timeit  %%writefile\n",
       "\n",
       "Automagic is ON, % prefix IS NOT needed for line magics."
      ]
     },
     "execution_count": 198,
     "metadata": {},
     "output_type": "execute_result"
    }
   ],
   "source": [
    "%lsmagic"
   ]
  },
  {
   "cell_type": "code",
   "execution_count": 203,
   "id": "895f410a-66f2-4e3d-8bd7-a51735d69221",
   "metadata": {},
   "outputs": [
    {
     "name": "stdout",
     "output_type": "stream",
     "text": [
      "CPU times: user 2 µs, sys: 1e+03 ns, total: 3 µs\n",
      "Wall time: 6.68 µs\n",
      "[0.66125308 0.65303654 0.15436973 0.23602073 0.75578688]\n"
     ]
    }
   ],
   "source": [
    "%time\n",
    "\n",
    "import numpy as np\n",
    "\n",
    "rand_nums = np.random.rand(1000)\n",
    "print(rand_nums[:5])"
   ]
  },
  {
   "cell_type": "code",
   "execution_count": 1,
   "id": "a855ce1e-50c9-4fa5-a72c-f2e777d882e6",
   "metadata": {},
   "outputs": [
    {
     "name": "stdout",
     "output_type": "stream",
     "text": [
      "36.6 µs ± 3.86 µs per loop (mean ± std. dev. of 7 runs, 10000 loops each)\n"
     ]
    },
    {
     "ename": "NameError",
     "evalue": "name 'rand_nums' is not defined",
     "output_type": "error",
     "traceback": [
      "\u001b[0;31m---------------------------------------------------------------------------\u001b[0m",
      "\u001b[0;31mNameError\u001b[0m                                 Traceback (most recent call last)",
      "\u001b[0;32m/tmp/ipykernel_22098/234390948.py\u001b[0m in \u001b[0;36m<module>\u001b[0;34m\u001b[0m\n\u001b[1;32m      2\u001b[0m \u001b[0;34m\u001b[0m\u001b[0m\n\u001b[1;32m      3\u001b[0m \u001b[0mget_ipython\u001b[0m\u001b[0;34m(\u001b[0m\u001b[0;34m)\u001b[0m\u001b[0;34m.\u001b[0m\u001b[0mrun_line_magic\u001b[0m\u001b[0;34m(\u001b[0m\u001b[0;34m'timeit'\u001b[0m\u001b[0;34m,\u001b[0m \u001b[0;34m'rand_nums = np.random.rand(1000)'\u001b[0m\u001b[0;34m)\u001b[0m\u001b[0;34m\u001b[0m\u001b[0;34m\u001b[0m\u001b[0m\n\u001b[0;32m----> 4\u001b[0;31m \u001b[0mprint\u001b[0m\u001b[0;34m(\u001b[0m\u001b[0mrand_nums\u001b[0m\u001b[0;34m[\u001b[0m\u001b[0;34m:\u001b[0m\u001b[0;36m5\u001b[0m\u001b[0;34m]\u001b[0m\u001b[0;34m)\u001b[0m\u001b[0;34m\u001b[0m\u001b[0;34m\u001b[0m\u001b[0m\n\u001b[0m\u001b[1;32m      5\u001b[0m \u001b[0mprint\u001b[0m\u001b[0;34m(\u001b[0m\u001b[0mtype\u001b[0m\u001b[0;34m(\u001b[0m\u001b[0mrand_nums\u001b[0m\u001b[0;34m)\u001b[0m\u001b[0;34m)\u001b[0m\u001b[0;34m\u001b[0m\u001b[0;34m\u001b[0m\u001b[0m\n",
      "\u001b[0;31mNameError\u001b[0m: name 'rand_nums' is not defined"
     ]
    }
   ],
   "source": [
    "import numpy as np\n",
    "\n",
    "%timeit rand_nums = np.random.rand(1000)\n",
    "print(rand_nums[:5])\n",
    "print(type(rand_nums))"
   ]
  },
  {
   "cell_type": "markdown",
   "id": "44cd302c-3687-4c14-9279-04dbf1f2ee41",
   "metadata": {},
   "source": [
    "# **One advantage to using %timeit is the fact that it provides an average of timing statistics.  \n",
    "**Notice that the output provides a mean and standard deviation of time.  We also see that multiple runs and loops were generated.  \n",
    "\n",
    "# %timeit runs through the provided code multiple times to estimatethe code's execution time.  This provides a more accurate representation of the actual runtime.  \n",
    "\n",
    "\n",
    "**The number of runs represents how many iterations you'd like to use to estimate the runtime.  The number of loops represents how many times you'd like the code to be executed per run.  \n",
    "\n",
    "# **We can specify the number of runs using the -r flag, and the number of loops using the -n flag\n"
   ]
  },
  {
   "cell_type": "code",
   "execution_count": 1,
   "id": "3c3a7049-da2e-4b0c-8ccb-ed734c8f6fa3",
   "metadata": {},
   "outputs": [
    {
     "name": "stdout",
     "output_type": "stream",
     "text": [
      "20.4 µs ± 3.11 µs per loop (mean ± std. dev. of 10 runs, 1000 loops each)\n"
     ]
    }
   ],
   "source": [
    "import numpy as np\n",
    "\n",
    "\n",
    "%timeit -r10 -n1000 rand_nums = np.random.rand(1000)\n",
    "#print(rand_nums[:5])\n",
    "#print(type(rand_nums))"
   ]
  },
  {
   "cell_type": "markdown",
   "id": "3143b999-0345-4a66-a564-2576a6ede879",
   "metadata": {},
   "source": [
    "# **Another cool feature of %timeit is its ability to run on singleor multiple lines of code. \n",
    "\n",
    "\n",
    "  **When using %timeit in line magic code, or with a single line of code, one percentage sign is used.  Similarly we can run %timeit in cell magic mode.  (or provide multiple lines of code.) by using two percentage signs. %%timeit\n",
    "  "
   ]
  },
  {
   "cell_type": "code",
   "execution_count": 2,
   "id": "9c1ead31-9bd2-42bc-b501-1f36e313c104",
   "metadata": {},
   "outputs": [
    {
     "name": "stdout",
     "output_type": "stream",
     "text": [
      "152 µs ± 933 ns per loop (mean ± std. dev. of 7 runs, 10000 loops each)\n"
     ]
    }
   ],
   "source": [
    "%%timeit\n",
    "\n",
    "nums = []\n",
    "for i in range(1000):\n",
    "    nums.append(i)"
   ]
  },
  {
   "cell_type": "markdown",
   "id": "e7d62fab-a306-4aa1-a9de-33e669141132",
   "metadata": {},
   "source": [
    "# We can save the output of %timeit into a variable using the -o flag.  \n",
    "\n",
    "\n",
    "**This allows us to dig deeper into the output and see things like the time for each run, the best for all runs, and the worst time for all runs.  \n"
   ]
  },
  {
   "cell_type": "code",
   "execution_count": 3,
   "id": "a5f5d7fd-0f9e-40dd-a62d-4b669baece17",
   "metadata": {},
   "outputs": [
    {
     "name": "stdout",
     "output_type": "stream",
     "text": [
      "18.1 µs ± 284 ns per loop (mean ± std. dev. of 7 runs, 100000 loops each)\n"
     ]
    }
   ],
   "source": [
    "import numpy as np\n",
    "\n",
    "times = %timeit -o rand_nums = np.random.rand(1000)"
   ]
  },
  {
   "cell_type": "code",
   "execution_count": 5,
   "id": "13a30158-82fc-438b-ae75-4a5be85294f7",
   "metadata": {},
   "outputs": [
    {
     "data": {
      "text/plain": [
       "[1.7756067299924325e-05,\n",
       " 1.8325870239932556e-05,\n",
       " 1.8093979990080697e-05,\n",
       " 1.7981149010010995e-05,\n",
       " 1.8588930539990544e-05,\n",
       " 1.781848231999902e-05,\n",
       " 1.782109755993588e-05]"
      ]
     },
     "execution_count": 5,
     "metadata": {},
     "output_type": "execute_result"
    }
   ],
   "source": [
    "# the time for each run\n",
    "\n",
    "times.timings"
   ]
  },
  {
   "cell_type": "code",
   "execution_count": 6,
   "id": "d38ab9b5-49e0-4ae8-b51c-35faad4063e2",
   "metadata": {},
   "outputs": [
    {
     "data": {
      "text/plain": [
       "1.7756067299924325e-05"
      ]
     },
     "execution_count": 6,
     "metadata": {},
     "output_type": "execute_result"
    }
   ],
   "source": [
    "times.best"
   ]
  },
  {
   "cell_type": "code",
   "execution_count": 7,
   "id": "d3fd471b-232e-43fc-a640-0ab427076525",
   "metadata": {},
   "outputs": [
    {
     "data": {
      "text/plain": [
       "1.8588930539990544e-05"
      ]
     },
     "execution_count": 7,
     "metadata": {},
     "output_type": "execute_result"
    }
   ],
   "source": [
    "times.worst"
   ]
  },
  {
   "cell_type": "markdown",
   "id": "bbabb778-cca2-4909-9ffe-f1423a5aa5cc",
   "metadata": {},
   "source": [
    "# Comapring times on some of Python's build in data structures.  \n",
    "\n"
   ]
  },
  {
   "cell_type": "code",
   "execution_count": 14,
   "id": "6a965ccc-858e-40ff-955b-1f8f6d9e503e",
   "metadata": {},
   "outputs": [
    {
     "name": "stdout",
     "output_type": "stream",
     "text": [
      "<class 'str'>\n",
      "['__add__', '__class__', '__contains__', '__delattr__', '__dir__', '__doc__', '__eq__', '__format__', '__ge__', '__getattribute__', '__getitem__', '__getnewargs__', '__gt__', '__hash__', '__init__', '__init_subclass__', '__iter__', '__le__', '__len__', '__lt__', '__mod__', '__mul__', '__ne__', '__new__', '__reduce__', '__reduce_ex__', '__repr__', '__rmod__', '__rmul__', '__setattr__', '__sizeof__', '__str__', '__subclasshook__', 'capitalize', 'casefold', 'center', 'count', 'encode', 'endswith', 'expandtabs', 'find', 'format', 'format_map', 'index', 'isalnum', 'isalpha', 'isascii', 'isdecimal', 'isdigit', 'isidentifier', 'islower', 'isnumeric', 'isprintable', 'isspace', 'istitle', 'isupper', 'join', 'ljust', 'lower', 'lstrip', 'maketrans', 'partition', 'removeprefix', 'removesuffix', 'replace', 'rfind', 'rindex', 'rjust', 'rpartition', 'rsplit', 'rstrip', 'split', 'splitlines', 'startswith', 'strip', 'swapcase', 'title', 'translate', 'upper', 'zfill']\n"
     ]
    }
   ],
   "source": [
    "a = 'John'\n",
    "\n",
    "print(type(a))\n",
    "print(dir(a))\n",
    "# we found the str object has a 'upper' method, index[-2]. use it in below with map function"
   ]
  },
  {
   "cell_type": "code",
   "execution_count": 17,
   "id": "639fac2c-829b-435d-8acd-f0391b8fbf67",
   "metadata": {},
   "outputs": [
    {
     "name": "stdout",
     "output_type": "stream",
     "text": [
      "['JERRY', 'KRAMER', 'ELAINE', 'GEORGE', 'NEWMAN']\n",
      "[<map object at 0x7fc1a1010e50>]\n"
     ]
    }
   ],
   "source": [
    "# Python allows us to create these data structures using: formal name\n",
    "# but be careful, when iterate elements from object,\n",
    "# formal name can iterable all the elements of inside object and put in the container\n",
    "# *************************************************************************************************** #\n",
    "# An iterable is any Python object capable of returning its members one at a time, \n",
    "# permitting it to be iterated over in a for-loop.\n",
    "\n",
    "our_list = list()\n",
    "our_dict = dict()\n",
    "our_tuple = tuple()\n",
    "\n",
    "names = ['Jerry', 'Kramer', 'Elaine', 'George', 'Newman']\n",
    "# *************************************************************************************************** #\n",
    "new_names = list(map(str.upper, names))\n",
    "print(new_names)\n",
    "# *************************************************************************************************** #\n",
    "nn_names = [map(str.lower, names)]\n",
    "print(nn_names)\n",
    "# Can you see the difference? why? because map function gives us a \n",
    "\n",
    "\n",
    "# or shorthand called literal syntax\n",
    "# but be careful, when iterate elements from object,\n",
    "# literal syntax only gives you a basket to contain all stuff\n",
    "our_list = []\n",
    "our_dict = {}\n",
    "our_tuple = ()"
   ]
  },
  {
   "cell_type": "code",
   "execution_count": 23,
   "id": "f353802e-f689-49b8-b1e5-f935308a89cb",
   "metadata": {},
   "outputs": [
    {
     "name": "stdout",
     "output_type": "stream",
     "text": [
      "237 ns ± 5.04 ns per loop (mean ± std. dev. of 7 runs, 1000000 loops each)\n"
     ]
    }
   ],
   "source": [
    "f_time = %timeit -o formal_dict = dict()"
   ]
  },
  {
   "cell_type": "code",
   "execution_count": 24,
   "id": "0858b901-b0b9-4aaa-b605-9f3a15f32b8f",
   "metadata": {},
   "outputs": [
    {
     "name": "stdout",
     "output_type": "stream",
     "text": [
      "94.6 ns ± 0.17 ns per loop (mean ± std. dev. of 7 runs, 10000000 loops each)\n"
     ]
    }
   ],
   "source": [
    "l_time = %timeit -o literal_dict = {}"
   ]
  },
  {
   "cell_type": "code",
   "execution_count": 30,
   "id": "d1f11aaa-9e00-4bff-b63c-5956a3cc3313",
   "metadata": {},
   "outputs": [
    {
     "name": "stdout",
     "output_type": "stream",
     "text": [
      "['__class__', '__delattr__', '__dict__', '__dir__', '__doc__', '__eq__', '__format__', '__ge__', '__getattribute__', '__gt__', '__hash__', '__init__', '__init_subclass__', '__le__', '__lt__', '__module__', '__ne__', '__new__', '__reduce__', '__reduce_ex__', '__repr__', '__setattr__', '__sizeof__', '__str__', '__subclasshook__', '__weakref__', '_precision', '_repr_pretty_', 'all_runs', 'average', 'best', 'compile_time', 'loops', 'repeat', 'stdev', 'timings', 'worst']\n"
     ]
    }
   ],
   "source": [
    "print(dir(l_time))"
   ]
  },
  {
   "cell_type": "code",
   "execution_count": 31,
   "id": "202d2529-7a24-4e24-856f-f534255fcb17",
   "metadata": {},
   "outputs": [
    {
     "name": "stdout",
     "output_type": "stream",
     "text": [
      "l_dict is better than f_dict by 142.6964152142838 ns\n"
     ]
    }
   ],
   "source": [
    "diff = (f_time.average - l_time.average)*(10**9)\n",
    "\n",
    "print(\"l_dict is better than f_dict by {} ns\".format(diff))"
   ]
  },
  {
   "cell_type": "markdown",
   "id": "53facb04-418b-46b7-8c8f-165d71cb7f95",
   "metadata": {},
   "source": [
    "## Using %timeit: your turn!\n",
    "\n",
    "You'd like to create a list of integers from 0 to 50 using the range() function. However, you are unsure whether using list comprehension or unpacking the range object into a list is faster. Let's use %timeit to find the best implementation.\n",
    "\n",
    "For your convenience, a reference table of time orders of magnitude is provided below (faster at the top).\n",
    "symbol \tname \tunit (s)\n",
    "ns \tnanosecond \t10-9\n",
    "µs (us) \tmicrosecond \t10-6\n",
    "ms \tmillisecond \t10-3\n",
    "s \tsecond \t100\n",
    "Instructions 1/3\n",
    "35 XP\n",
    "\n",
    "    1\n",
    "    2     missing important   special thanks to Mr. MMBazel on GitHub\n",
    "    3     missing important   special thanks to Mr. MMBazel on GitHub\n",
    "# *****************************************************************************************************\n",
    "\n",
    "    Use list comprehension and range() to create a list of integers from 0 to 50 called nums_list_comp.\n",
    "\n",
    "\n",
    "    Use range() to create a list of integers from 0 to 50 and unpack its contents into a list called nums_unpack.\n",
    "\n",
    "\n",
    "    Question\n",
    "    Use %timeit within your IPython console to compare the runtimes for creating a list of integers from 0 to 50 using list comprehension vs. unpacking the range object. Don't include the print() statements when timing.\n",
    "\n",
    "    Which method was faster?\n"
   ]
  },
  {
   "cell_type": "code",
   "execution_count": 32,
   "id": "ccacc635-8121-49aa-8411-c4107e0385fc",
   "metadata": {},
   "outputs": [
    {
     "name": "stdout",
     "output_type": "stream",
     "text": [
      "[0, 1, 2, 3, 4, 5, 6, 7, 8, 9, 10, 11, 12, 13, 14, 15, 16, 17, 18, 19, 20, 21, 22, 23, 24, 25, 26, 27, 28, 29, 30, 31, 32, 33, 34, 35, 36, 37, 38, 39, 40, 41, 42, 43, 44, 45, 46, 47, 48, 49, 50]\n"
     ]
    }
   ],
   "source": [
    "# Create a list of integers (0-50) using list comprehension\n",
    "nums_list_comp = [num for num in range(51)]\n",
    "print(nums_list_comp)"
   ]
  },
  {
   "cell_type": "code",
   "execution_count": 10,
   "id": "a5a3d1ef-7b84-4b08-bbce-72efa1614c94",
   "metadata": {},
   "outputs": [
    {
     "name": "stdout",
     "output_type": "stream",
     "text": [
      "13.8 µs ± 828 ns per loop (mean ± std. dev. of 7 runs, 10000 loops each)\n"
     ]
    },
    {
     "ename": "NameError",
     "evalue": "name 'f_list' is not defined",
     "output_type": "error",
     "traceback": [
      "\u001b[0;31m---------------------------------------------------------------------------\u001b[0m",
      "\u001b[0;31mNameError\u001b[0m                                 Traceback (most recent call last)",
      "\u001b[0;32m/tmp/ipykernel_22098/467702423.py\u001b[0m in \u001b[0;36m<module>\u001b[0;34m\u001b[0m\n\u001b[1;32m      3\u001b[0m \u001b[0;31m# *************************************************************************************************** #\u001b[0m\u001b[0;34m\u001b[0m\u001b[0;34m\u001b[0m\u001b[0;34m\u001b[0m\u001b[0m\n\u001b[1;32m      4\u001b[0m \u001b[0;31m# Why cant we print f_list after above line?\u001b[0m\u001b[0;34m\u001b[0m\u001b[0;34m\u001b[0m\u001b[0;34m\u001b[0m\u001b[0m\n\u001b[0;32m----> 5\u001b[0;31m \u001b[0mprint\u001b[0m\u001b[0;34m(\u001b[0m\u001b[0mf_list\u001b[0m\u001b[0;34m)\u001b[0m\u001b[0;34m\u001b[0m\u001b[0;34m\u001b[0m\u001b[0m\n\u001b[0m",
      "\u001b[0;31mNameError\u001b[0m: name 'f_list' is not defined"
     ]
    }
   ],
   "source": [
    "f_time = %timeit -o  f_list = list(num for num in range(51))\n",
    "\n",
    "# *************************************************************************************************** #\n",
    "# Why cant we print f_list after above line?  \n",
    "print(f_list)"
   ]
  },
  {
   "cell_type": "code",
   "execution_count": 1,
   "id": "5d74770e-eaca-4017-9875-6923de8034d1",
   "metadata": {},
   "outputs": [
    {
     "name": "stdout",
     "output_type": "stream",
     "text": [
      "4.53 µs ± 23 ns per loop (mean ± std. dev. of 7 runs, 100000 loops each)\n"
     ]
    },
    {
     "ename": "NameError",
     "evalue": "name 'l_list' is not defined",
     "output_type": "error",
     "traceback": [
      "\u001b[0;31m---------------------------------------------------------------------------\u001b[0m",
      "\u001b[0;31mNameError\u001b[0m                                 Traceback (most recent call last)",
      "\u001b[0;32m/tmp/ipykernel_19465/923480130.py\u001b[0m in \u001b[0;36m<module>\u001b[0;34m\u001b[0m\n\u001b[1;32m      1\u001b[0m \u001b[0ml_time\u001b[0m \u001b[0;34m=\u001b[0m \u001b[0mget_ipython\u001b[0m\u001b[0;34m(\u001b[0m\u001b[0;34m)\u001b[0m\u001b[0;34m.\u001b[0m\u001b[0mrun_line_magic\u001b[0m\u001b[0;34m(\u001b[0m\u001b[0;34m'timeit'\u001b[0m\u001b[0;34m,\u001b[0m \u001b[0;34m'-o  l_list = [num for num in range(51)]'\u001b[0m\u001b[0;34m)\u001b[0m\u001b[0;34m\u001b[0m\u001b[0;34m\u001b[0m\u001b[0m\n\u001b[1;32m      2\u001b[0m \u001b[0;34m\u001b[0m\u001b[0m\n\u001b[0;32m----> 3\u001b[0;31m \u001b[0mprint\u001b[0m\u001b[0;34m(\u001b[0m\u001b[0ml_list\u001b[0m\u001b[0;34m)\u001b[0m\u001b[0;34m\u001b[0m\u001b[0;34m\u001b[0m\u001b[0m\n\u001b[0m",
      "\u001b[0;31mNameError\u001b[0m: name 'l_list' is not defined"
     ]
    }
   ],
   "source": [
    "l_time = %timeit -o  l_list = [num for num in range(51)]\n",
    "\n",
    "print(l_list)"
   ]
  },
  {
   "cell_type": "code",
   "execution_count": 50,
   "id": "66270d14-7da1-438c-b065-99b7ba8cba89",
   "metadata": {},
   "outputs": [
    {
     "name": "stdout",
     "output_type": "stream",
     "text": [
      "[0, 1, 2, 3, 4, 5, 6, 7, 8, 9, 10, 11, 12, 13, 14, 15, 16, 17, 18, 19, 20, 21, 22, 23, 24, 25, 26, 27, 28, 29, 30, 31, 32, 33, 34, 35, 36, 37, 38, 39, 40, 41, 42, 43, 44, 45, 46, 47, 48, 49, 50]\n",
      "[0, 1, 2, 3, 4, 5, 6, 7, 8, 9, 10, 11, 12, 13, 14, 15, 16, 17, 18, 19, 20, 21, 22, 23, 24, 25, 26, 27, 28, 29, 30, 31, 32, 33, 34, 35, 36, 37, 38, 39, 40, 41, 42, 43, 44, 45, 46, 47, 48, 49, 50]\n",
      "[[0, 1, 2, 3, 4, 5, 6, 7, 8, 9, 10, 11, 12, 13, 14, 15, 16, 17, 18, 19, 20, 21, 22, 23, 24, 25, 26, 27, 28, 29, 30, 31, 32, 33, 34, 35, 36, 37, 38, 39, 40, 41, 42, 43, 44, 45, 46, 47, 48, 49, 50]]\n"
     ]
    }
   ],
   "source": [
    "# Use range() to create a list of integers from 0 to 50 and unpack its contents into a list \n",
    "# called nums_unpack.\n",
    "\n",
    "# Create a list of integers (0-50) using list comprehension\n",
    "nums_list_comp = [num for num in range(51)]\n",
    "print(nums_list_comp)\n",
    "\n",
    "# Create a list of integers (0-50) by unpacking range\n",
    "nums_unpack = [*(nums_list_comp)]\n",
    "print(nums_unpack)\n",
    "\n",
    "\n",
    "# *************************************************************************************************** #\n",
    "print([nums_list_comp])"
   ]
  },
  {
   "cell_type": "code",
   "execution_count": null,
   "id": "e61c758c-b135-44b4-9753-cf08caca63bd",
   "metadata": {},
   "outputs": [],
   "source": [
    "# Question\n",
    "# Use %timeit within your IPython console to compare the runtimes for creating a list of integers \n",
    "# from 0 to 50 using list comprehension vs. unpacking the range object. Don't include the print() \n",
    "# statements when timing.\n",
    "\n",
    "#Which method was faster?"
   ]
  },
  {
   "cell_type": "code",
   "execution_count": 51,
   "id": "e7a87e95-9fae-4649-844b-b43a819edfae",
   "metadata": {},
   "outputs": [
    {
     "name": "stdout",
     "output_type": "stream",
     "text": [
      "4.73 µs ± 67.7 ns per loop (mean ± std. dev. of 7 runs, 100000 loops each)\n"
     ]
    }
   ],
   "source": [
    "comprehension_list_time = %timeit -o  nums_list_comp = [num for num in range(51)]"
   ]
  },
  {
   "cell_type": "code",
   "execution_count": 52,
   "id": "bf717ac4-773a-48d1-a81a-508373fd3f0c",
   "metadata": {},
   "outputs": [
    {
     "name": "stdout",
     "output_type": "stream",
     "text": [
      "223 ns ± 5.42 ns per loop (mean ± std. dev. of 7 runs, 1000000 loops each)\n"
     ]
    }
   ],
   "source": [
    "unpacking_list_time = %timeit -o  nums_unpack = [*(nums_list_comp)]"
   ]
  },
  {
   "cell_type": "markdown",
   "id": "96565aaf-23f2-4d94-983f-4a1b49f21765",
   "metadata": {},
   "source": [
    "# ns \t\tnanosecond \t\t10-9\n",
    "# µs (us) \tmicrosecond \t10-6\n",
    "\n",
    "\n",
    "# *************************************************************************************************** #\n",
    "# So ns means less time spending, but why?  And wahts the point doing this?  What we want to know? "
   ]
  },
  {
   "cell_type": "code",
   "execution_count": 53,
   "id": "1c17f928-1722-4260-9229-4a2877b6327d",
   "metadata": {},
   "outputs": [
    {
     "name": "stdout",
     "output_type": "stream",
     "text": [
      "7.22 µs ± 69.1 ns per loop (mean ± std. dev. of 7 runs, 100000 loops each)\n"
     ]
    }
   ],
   "source": [
    "unpacking_and_comprehension_list_time = %timeit -o  nums_unpack = [*(i for i in range(51))]"
   ]
  },
  {
   "cell_type": "code",
   "execution_count": 1,
   "id": "e16e06dd-1714-42f1-85e9-70917afbf865",
   "metadata": {},
   "outputs": [
    {
     "name": "stdout",
     "output_type": "stream",
     "text": [
      "727 ns ± 3.93 ns per loop (mean ± std. dev. of 7 runs, 1000000 loops each)\n"
     ]
    },
    {
     "ename": "NameError",
     "evalue": "name 'generate_list' is not defined",
     "output_type": "error",
     "traceback": [
      "\u001b[0;31m---------------------------------------------------------------------------\u001b[0m",
      "\u001b[0;31mNameError\u001b[0m                                 Traceback (most recent call last)",
      "\u001b[0;32m/tmp/ipykernel_19665/1493660309.py\u001b[0m in \u001b[0;36m<module>\u001b[0;34m\u001b[0m\n\u001b[1;32m     11\u001b[0m \u001b[0;34m\u001b[0m\u001b[0m\n\u001b[1;32m     12\u001b[0m \u001b[0;34m\u001b[0m\u001b[0m\n\u001b[0;32m---> 13\u001b[0;31m \u001b[0mprint\u001b[0m\u001b[0;34m(\u001b[0m\u001b[0;34m*\u001b[0m\u001b[0mgenerate_list\u001b[0m\u001b[0;34m)\u001b[0m\u001b[0;34m\u001b[0m\u001b[0;34m\u001b[0m\u001b[0m\n\u001b[0m",
      "\u001b[0;31mNameError\u001b[0m: name 'generate_list' is not defined"
     ]
    }
   ],
   "source": [
    "%timeit  generate_list = (i for i in range(51))\n",
    "# Return error if we print(generate_list)\n",
    "# NameError: name 'generate_list' is not defined\n",
    "# *************************************************************************************************** #\n",
    "\n",
    "\n",
    "#generator_list_time = %timeit -o  generate_list = (i for i in range(51))\n",
    "\n",
    "\n",
    "#generate_list = (i for i in range(51))\n",
    "\n",
    "\n",
    "print(*generate_list)"
   ]
  },
  {
   "cell_type": "markdown",
   "id": "825c72b9-bf6f-4d5b-98a3-3742bdbc6c4e",
   "metadata": {},
   "source": [
    "# *****************************************************************************************************\n",
    "# Generator can only be unpacking once, interesting\n"
   ]
  },
  {
   "cell_type": "code",
   "execution_count": 7,
   "id": "3c7fd018-5eb4-43c4-b4aa-05a07555b6dd",
   "metadata": {},
   "outputs": [
    {
     "name": "stdout",
     "output_type": "stream",
     "text": [
      "<generator object <genexpr> at 0x7f01983a8740>\n",
      "[0, 1, 2, 3, 4, 5, 6, 7, 8, 9, 10, 11, 12, 13, 14, 15, 16, 17, 18, 19, 20, 21, 22, 23, 24, 25, 26, 27, 28, 29, 30, 31, 32, 33, 34, 35, 36, 37, 38, 39, 40, 41, 42, 43, 44, 45, 46, 47, 48, 49, 50]\n"
     ]
    }
   ],
   "source": [
    "generate_list = (i for i in range(51))\n",
    "\n",
    "print(generate_list)\n",
    "\n",
    "# *************************************************************************************************** #\n",
    "#print(*(generate_list))       # **********************************************************************\n",
    "new_list = [*(generate_list)]  # Generator can only be unpacking once, interesting\n",
    "print(new_list)\n",
    "\n",
    "\n",
    "#print(list(*(generate_list)))  # TypeError: list expected at most 1 argument, got 51"
   ]
  },
  {
   "cell_type": "code",
   "execution_count": 8,
   "id": "0a35846c-2c39-4e3f-a316-02b567e17e79",
   "metadata": {},
   "outputs": [
    {
     "name": "stdout",
     "output_type": "stream",
     "text": [
      "297 ns ± 8.56 ns per loop (mean ± std. dev. of 7 runs, 1000000 loops each)\n",
      "[]\n"
     ]
    }
   ],
   "source": [
    "# *************************************************************************************************** #\n",
    "\n",
    "generate_list = (i for i in range(51))  # 717 ns\n",
    "\n",
    "list_unpacking_time = %timeit -o generate_unpack = [*(generate_list)]  # 275 ns\n",
    "\n",
    "# *************************************************************************************************** #\n",
    "# Creating generator cost 717 ns, unpacking generator elements into list cost 275 ns, \n",
    "# Can we think its a relative efficiency solution?  and generator can handle data size over memory\n",
    "# *************************************************************************************************** #\n",
    "new_list = [*(generate_list)]\n",
    "print(new_list)"
   ]
  },
  {
   "cell_type": "code",
   "execution_count": 1,
   "id": "6a9e5998-7021-4746-819f-675585beff02",
   "metadata": {},
   "outputs": [
    {
     "name": "stdout",
     "output_type": "stream",
     "text": [
      "4.54 µs ± 40.4 ns per loop (mean ± std. dev. of 7 runs, 100000 loops each)\n"
     ]
    },
    {
     "ename": "NameError",
     "evalue": "name 'l_list' is not defined",
     "output_type": "error",
     "traceback": [
      "\u001b[0;31m---------------------------------------------------------------------------\u001b[0m",
      "\u001b[0;31mNameError\u001b[0m                                 Traceback (most recent call last)",
      "\u001b[0;32m/tmp/ipykernel_19450/1598315522.py\u001b[0m in \u001b[0;36m<module>\u001b[0;34m\u001b[0m\n\u001b[1;32m      1\u001b[0m \u001b[0ml_time\u001b[0m \u001b[0;34m=\u001b[0m \u001b[0mget_ipython\u001b[0m\u001b[0;34m(\u001b[0m\u001b[0;34m)\u001b[0m\u001b[0;34m.\u001b[0m\u001b[0mrun_line_magic\u001b[0m\u001b[0;34m(\u001b[0m\u001b[0;34m'timeit'\u001b[0m\u001b[0;34m,\u001b[0m \u001b[0;34m'-o  l_list = [num for num in range(51)]'\u001b[0m\u001b[0;34m)\u001b[0m\u001b[0;34m\u001b[0m\u001b[0;34m\u001b[0m\u001b[0m\n\u001b[1;32m      2\u001b[0m \u001b[0;34m\u001b[0m\u001b[0m\n\u001b[0;32m----> 3\u001b[0;31m \u001b[0mprint\u001b[0m\u001b[0;34m(\u001b[0m\u001b[0mtype\u001b[0m\u001b[0;34m(\u001b[0m\u001b[0ml_list\u001b[0m\u001b[0;34m)\u001b[0m\u001b[0;34m)\u001b[0m\u001b[0;34m\u001b[0m\u001b[0;34m\u001b[0m\u001b[0m\n\u001b[0m",
      "\u001b[0;31mNameError\u001b[0m: name 'l_list' is not defined"
     ]
    }
   ],
   "source": [
    "l_time = %timeit -o  l_list = [num for num in range(51)]\n",
    "\n",
    "print(type(l_list))"
   ]
  },
  {
   "cell_type": "markdown",
   "id": "727a3c30-f266-4e4d-8049-a60750c72e91",
   "metadata": {},
   "source": [
    "## Using %timeit: specifying number of runs and loops\n",
    "\n",
    "A list of 480 superheroes has been loaded into your session (called heroes). You'd like to analyze the runtime for converting this heroes list into a set. Instead of relying on the default settings for %timeit, you'd like to only use 5 runs and 25 loops per each run.\n",
    "\n",
    "What is the correct syntax when using %timeit and only using 5 runs with 25 loops per each run?\n",
    "Instructions\n",
    "50 XP\n",
    "Possible Answers\n",
    "\n",
    "    timeit -runs5 -loops25 set(heroes)\n",
    "#    %%timeit -r5 -n25 set(heroes)\n",
    "    %timeit set(heroes), 5, 25\n",
    "    %timeit -r5 -n25 set(heroes)\n",
    "    "
   ]
  },
  {
   "cell_type": "markdown",
   "id": "d09afc17-4fff-4f35-83ea-eb02acb03415",
   "metadata": {},
   "source": [
    "## Using %timeit: formal name or literal syntax\n",
    "\n",
    "Python allows you to create data structures using either a formal name or a literal syntax. In this exercise, you'll explore how using a literal syntax for creating a data structure can speed up runtimes.\n",
    "data structure \tformal name \tliteral syntax\n",
    "list \tlist() \t[]\n",
    "dictionary \tdict() \t{}\n",
    "tuple \ttuple() \t()\n",
    "Instructions 1/3\n",
    "35 XP\n",
    "\n",
    "    1\n",
    "    2\n",
    "    3\n",
    "\n",
    "    Create an empty list called formal_list using the formal name (list()).\n",
    "    Create an empty list called literal_list using the literal syntax ([]).\n",
    "\n",
    "\n",
    "\n",
    "    Print out the type of formal_list and literal_list to show that both naming conventions create a list.\n",
    "    \n",
    "    \n",
    "    \n",
    "    Instructions 3/3\n",
    "    Question\n",
    "    Use %timeit in your IPython console to compare runtimes between creating a list using the formal name (list()) and the literal syntax ([]). Don't include the print() statements when timing.\n",
    "\n",
    "    Which naming convention is faster?\n",
    "    "
   ]
  },
  {
   "cell_type": "code",
   "execution_count": 10,
   "id": "e78b79e0-6e52-4619-8bdf-fea78d9b9830",
   "metadata": {},
   "outputs": [
    {
     "name": "stdout",
     "output_type": "stream",
     "text": [
      "[]\n",
      "[]\n"
     ]
    }
   ],
   "source": [
    "# Create a list using the formal name\n",
    "formal_list = list()\n",
    "print(formal_list)\n",
    "\n",
    "# Create a list using the literal syntax\n",
    "literal_list = []\n",
    "print(literal_list)"
   ]
  },
  {
   "cell_type": "code",
   "execution_count": 11,
   "id": "161c8057-a360-4eea-8a16-6574eb4689fc",
   "metadata": {},
   "outputs": [
    {
     "name": "stdout",
     "output_type": "stream",
     "text": [
      "<class 'list'>\n",
      "<class 'list'>\n"
     ]
    }
   ],
   "source": [
    "# Create a list using the formal name\n",
    "formal_list = list()\n",
    "print(type(formal_list))\n",
    "\n",
    "# Create a list using the literal syntax\n",
    "literal_list = []\n",
    "print(type(literal_list))"
   ]
  },
  {
   "cell_type": "code",
   "execution_count": 12,
   "id": "09aedf8b-a9b1-4610-8bdd-e8e06857f6d0",
   "metadata": {},
   "outputs": [
    {
     "name": "stdout",
     "output_type": "stream",
     "text": [
      "195 ns ± 0.991 ns per loop (mean ± std. dev. of 7 runs, 1000000 loops each)\n",
      "<class 'list'>\n",
      "96.4 ns ± 0.502 ns per loop (mean ± std. dev. of 7 runs, 10000000 loops each)\n",
      "<class 'list'>\n"
     ]
    }
   ],
   "source": [
    "# Create a list using the formal name\n",
    "f_time = %timeit -o  formal_list = list()\n",
    "print(type(formal_list))\n",
    "\n",
    "# Create a list using the literal syntax\n",
    "l_time = %timeit -o  literal_list = []\n",
    "print(type(literal_list))"
   ]
  },
  {
   "cell_type": "markdown",
   "id": "cedda501-0e7a-4376-b182-3664723c8887",
   "metadata": {},
   "source": [
    "## Using cell magic mode (%%timeit)\n",
    "\n",
    "From here on out, you'll be working with a superheroes dataset. For this exercise, a list of each hero's weight in kilograms (called wts) is loaded into your session. You'd like to convert these weights into pounds.\n",
    "\n",
    "You could accomplish this using the below for loop:\n",
    "\n",
    "hero_wts_lbs = []\n",
    "for wt in wts:\n",
    "    hero_wts_lbs.append(wt * 2.20462)\n",
    "\n",
    "Or you could use a numpy array to accomplish this task:\n",
    "\n",
    "wts_np = np.array(wts)\n",
    "hero_wts_lbs_np = wts_np * 2.20462\n",
    "\n",
    "Use %%timeit in your IPython console to compare runtimes between these two approaches. Make sure to press SHIFT+ENTER after the magic command to add a new line before writing the code you wish to time. After you've finished coding, answer the following question:\n",
    "\n",
    "Which of the above techniques is faster?\n",
    "Instructions\n",
    "50 XP\n",
    "Possible Answers\n",
    "\n",
    "    The for loop technique was faster.\n",
    "#    The numpy technique was faster.\n",
    "    Both techniques had similar runtimes."
   ]
  },
  {
   "cell_type": "code",
   "execution_count": 39,
   "id": "a2894399-aad2-420c-9de6-f3c4371989a9",
   "metadata": {},
   "outputs": [
    {
     "name": "stdout",
     "output_type": "stream",
     "text": [
      "480\n",
      "[37.49 71.8  79.6  68.14 65.5 ]\n"
     ]
    },
    {
     "data": {
      "image/png": "[encoded data removed]",
      "text/plain": [
       "<Figure size 432x288 with 1 Axes>"
      ]
     },
     "metadata": {
      "needs_background": "light"
     },
     "output_type": "display_data"
    }
   ],
   "source": [
    "import numpy as np\n",
    "\n",
    "\n",
    "# weight = np.round(np.random.normal(60.32, 15, 5000),2)\n",
    "wts = np.round(np.random.normal(60.45, 8.2, 480), 2)\n",
    "\n",
    "print(len(wts))\n",
    "print(wts[:5])\n",
    "\n",
    "\n",
    "x = [i for i in range(len(wts))]\n",
    "\n",
    "import matplotlib.pyplot as plt\n",
    "\n",
    "#plt.plot(x, wts)\n",
    "#plt.hist(wts, 20)\n",
    "plt.hist(wts, 30)\n",
    "\n",
    "plt.xlabel('hero weight in kg of range')\n",
    "plt.ylabel('hero weight bin num')\n",
    "plt.title('hero weight and distribution', fontweight='bold')\n",
    "\n",
    "plt.show()"
   ]
  },
  {
   "cell_type": "code",
   "execution_count": 33,
   "id": "4f785869-deb2-4933-878f-6861e70f8ad9",
   "metadata": {},
   "outputs": [
    {
     "data": {
      "text/plain": [
       "\u001b[0;31mSignature:\u001b[0m \u001b[0mplt\u001b[0m\u001b[0;34m.\u001b[0m\u001b[0mtitle\u001b[0m\u001b[0;34m(\u001b[0m\u001b[0mlabel\u001b[0m\u001b[0;34m,\u001b[0m \u001b[0mfontdict\u001b[0m\u001b[0;34m=\u001b[0m\u001b[0;32mNone\u001b[0m\u001b[0;34m,\u001b[0m \u001b[0mloc\u001b[0m\u001b[0;34m=\u001b[0m\u001b[0;32mNone\u001b[0m\u001b[0;34m,\u001b[0m \u001b[0mpad\u001b[0m\u001b[0;34m=\u001b[0m\u001b[0;32mNone\u001b[0m\u001b[0;34m,\u001b[0m \u001b[0;34m*\u001b[0m\u001b[0;34m,\u001b[0m \u001b[0my\u001b[0m\u001b[0;34m=\u001b[0m\u001b[0;32mNone\u001b[0m\u001b[0;34m,\u001b[0m \u001b[0;34m**\u001b[0m\u001b[0mkwargs\u001b[0m\u001b[0;34m)\u001b[0m\u001b[0;34m\u001b[0m\u001b[0;34m\u001b[0m\u001b[0m\n",
       "\u001b[0;31mDocstring:\u001b[0m\n",
       "Set a title for the Axes.\n",
       "\n",
       "Set one of the three available Axes titles. The available titles\n",
       "are positioned above the Axes in the center, flush with the left\n",
       "edge, and flush with the right edge.\n",
       "\n",
       "Parameters\n",
       "----------\n",
       "label : str\n",
       "    Text to use for the title\n",
       "\n",
       "fontdict : dict\n",
       "    A dictionary controlling the appearance of the title text,\n",
       "    the default *fontdict* is::\n",
       "\n",
       "       {'fontsize': rcParams['axes.titlesize'],\n",
       "        'fontweight': rcParams['axes.titleweight'],\n",
       "        'color': rcParams['axes.titlecolor'],\n",
       "        'verticalalignment': 'baseline',\n",
       "        'horizontalalignment': loc}\n",
       "\n",
       "loc : {'center', 'left', 'right'}, default: :rc:`axes.titlelocation`\n",
       "    Which title to set.\n",
       "\n",
       "y : float, default: :rc:`axes.titley`\n",
       "    Vertical Axes loation for the title (1.0 is the top).  If\n",
       "    None (the default), y is determined automatically to avoid\n",
       "    decorators on the Axes.\n",
       "\n",
       "pad : float, default: :rc:`axes.titlepad`\n",
       "    The offset of the title from the top of the Axes, in points.\n",
       "\n",
       "Returns\n",
       "-------\n",
       "`.Text`\n",
       "    The matplotlib text instance representing the title\n",
       "\n",
       "Other Parameters\n",
       "----------------\n",
       "**kwargs : `.Text` properties\n",
       "    Other keyword arguments are text properties, see `.Text` for a list\n",
       "    of valid text properties.\n",
       "\u001b[0;31mFile:\u001b[0m      ~/.virtual_environments/py39/lib/python3.9/site-packages/matplotlib/pyplot.py\n",
       "\u001b[0;31mType:\u001b[0m      function\n"
      ]
     },
     "metadata": {},
     "output_type": "display_data"
    }
   ],
   "source": [
    "#print(dir(plt))\n",
    "\n",
    "#?plt.hist\n",
    "?plt.title"
   ]
  },
  {
   "cell_type": "code",
   "execution_count": 18,
   "id": "615935dc-e00d-49a9-919f-3c0d8671c236",
   "metadata": {},
   "outputs": [
    {
     "name": "stdout",
     "output_type": "stream",
     "text": [
      "275 µs ± 1.93 µs per loop (mean ± std. dev. of 7 runs, 1000 loops each)\n"
     ]
    }
   ],
   "source": [
    "%%timeit\n",
    "hero_wts_lbs = []\n",
    "for wt in wts:\n",
    "    hero_wts_lbs.append(wt*2.20462)\n",
    "    "
   ]
  },
  {
   "cell_type": "code",
   "execution_count": 19,
   "id": "0f00ac72-c8db-4671-8161-cec63f5077ad",
   "metadata": {},
   "outputs": [
    {
     "name": "stdout",
     "output_type": "stream",
     "text": [
      "3.05 µs ± 74.8 ns per loop (mean ± std. dev. of 7 runs, 100000 loops each)\n"
     ]
    }
   ],
   "source": [
    "%%timeit\n",
    "wts_np = np.array(wts)\n",
    "hero_wts_lbs_np = wts_np*2.20462"
   ]
  },
  {
   "cell_type": "markdown",
   "id": "fea211c1-ef3a-4c13-aea2-1dd9a993fdf3",
   "metadata": {},
   "source": [
    "# *****************************************************************************************************\n",
    "# Thats impressive, how could NumPy array did it so much faster? "
   ]
  },
  {
   "cell_type": "markdown",
   "id": "730f278c-b5b1-4943-bc13-00f5aea265be",
   "metadata": {},
   "source": [
    "## Code profiling for runtime\n",
    "\n",
    "\n",
    "\n",
    "**We've covered how to time our code using the magic command %timeit, which works well with bite-sized code.  \n",
    "# But what if we want to time a large code base or see the line-by-line runtime within a function.  \n",
    "# In this lesson, we'll cover a concept called code profiling that allows us analyze code more efficiently.  \n",
    "\n",
    "**Code profiling is a technique used to describe how long, and how often, various parts of a program executed.  The beauty of a code profiling is its ability to gather summary statistics on individual pieces of our code without using magic command like %timeit.  \n",
    "\n",
    "\n",
    "# We'll focus on the line_profiler package to profile a function's runtime line-by-line.  \n"
   ]
  },
  {
   "cell_type": "code",
   "execution_count": 42,
   "id": "e420b3e0-57ce-473a-a3bf-a391938c07c0",
   "metadata": {},
   "outputs": [
    {
     "name": "stdout",
     "output_type": "stream",
     "text": [
      "20.3 µs ± 185 ns per loop (mean ± std. dev. of 7 runs, 10000 loops each)\n",
      "{'Batman': (74.01559999999999, 209.4389), 'Superman': (75.19669999999999, 222.66661999999997), 'Wonder Woman': (72.0471, 163.14188)}\n"
     ]
    }
   ],
   "source": [
    "import line_profiler as lp\n",
    "import numpy as np\n",
    "\n",
    "heroes = ['Batman', 'Superman', 'Wonder Woman']\n",
    "hts = np.array([188.0,  191.0, 183.0])\n",
    "wts = np.array([95, 101, 74])\n",
    "\n",
    "\n",
    "def convert_units(heroes, heights, weights):\n",
    "    new_hts = [ht*0.39370 for ht in heights]\n",
    "    new_wts = [wt*2.20462 for wt in weights]\n",
    "    \n",
    "    hero_data = {}\n",
    "    \n",
    "    for i, hero in enumerate(heroes):\n",
    "        hero_data[hero] = (new_hts[i], new_wts[i])\n",
    "        \n",
    "    return hero_data\n",
    "\n",
    "\n",
    "%timeit heroes_data = convert_units(heroes, hts, wts)\n",
    "print(heroes_data)"
   ]
  },
  {
   "cell_type": "markdown",
   "id": "e6eae2a2-8e9e-4345-982b-959893857fa2",
   "metadata": {},
   "source": [
    "# What if we want to see how long each line within the function took to run? \n",
    "\n",
    "\n",
    "\n",
    "# Load line_profiler into our session\n",
    "%load_ext line_profiler\n",
    "# Then use the magic command %lprun from line_profiler, \n",
    "# to gather runtimes for individual linesof code within the convert_units function\n",
    "\n",
    "%lprun -f convert_units  convert_units(heroes, hts, wts)\n",
    "# %lprun uses s special syntax.  First we use the -f flag to indicate we'd like to profile a function,\n",
    "# Next we specify the name of the function we'd like to profile\n",
    "# Finally we provide the exact function call we'd like to profile by including any arguments needed\n",
    "\n",
    "\n",
    "# *****************************************************************************************************"
   ]
  },
  {
   "cell_type": "code",
   "execution_count": 47,
   "id": "80c94b9f-e078-479f-b319-68e55114447e",
   "metadata": {},
   "outputs": [
    {
     "name": "stdout",
     "output_type": "stream",
     "text": [
      "The line_profiler extension is already loaded. To reload it, use:\n",
      "  %reload_ext line_profiler\n"
     ]
    },
    {
     "data": {
      "text/plain": [
       "Timer unit: 1e-06 s\n",
       "\n",
       "Total time: 0.000202 s\n",
       "File: /tmp/ipykernel_19700/970579716.py\n",
       "Function: convert_units at line 19\n",
       "\n",
       "Line #      Hits         Time  Per Hit   % Time  Line Contents\n",
       "==============================================================\n",
       "    19                                           def convert_units(heroes, heights, weights):\n",
       "    20         1         26.0     26.0     12.9      new_hts = [ht*0.39370 for ht in heights]\n",
       "    21         1         63.0     63.0     31.2      new_wts = [wt*2.20462 for wt in weights]\n",
       "    22                                               \n",
       "    23         1          5.0      5.0      2.5      hero_data = {}\n",
       "    24                                               \n",
       "    25         4         96.0     24.0     47.5      for i, hero in enumerate(heroes):\n",
       "    26         3         10.0      3.3      5.0          hero_data[hero] = (new_hts[i], new_wts[i])\n",
       "    27                                                   \n",
       "    28         1          2.0      2.0      1.0      return hero_data"
      ]
     },
     "metadata": {},
     "output_type": "display_data"
    }
   ],
   "source": [
    "# Load line_profiler into our session\n",
    "%load_ext line_profiler\n",
    "# Then use the magic command %lprun from line_profiler, \n",
    "# to gather runtimes for individual linesof code within the convert_units function\n",
    "\n",
    "%lprun -f convert_units  convert_units(heroes, hts, wts)\n",
    "# %lprun uses s special syntax.  First we use the -f flag to indicate we'd like to profile a function,\n",
    "# Next we specify the name of the function we'd like to profile\n",
    "# Finally we provide the exact function call we'd like to profile by including any arguments needed\n",
    "\n",
    "import line_profiler as lp\n",
    "import numpy as np\n",
    "\n",
    "heroes = ['Batman', 'Superman', 'Wonder Woman']\n",
    "hts = np.array([188.0,  191.0, 183.0])\n",
    "wts = np.array([95, 101, 74])\n",
    "\n",
    "\n",
    "def convert_units(heroes, heights, weights):\n",
    "    new_hts = [ht*0.39370 for ht in heights]\n",
    "    new_wts = [wt*2.20462 for wt in weights]\n",
    "    \n",
    "    hero_data = {}\n",
    "    \n",
    "    for i, hero in enumerate(heroes):\n",
    "        hero_data[hero] = (new_hts[i], new_wts[i])\n",
    "        \n",
    "    return hero_data\n",
    "\n",
    "#\n",
    "#heroes_data = convert_units(heroes, hts, wts)\n",
    "#print(heroes_data)"
   ]
  },
  {
   "cell_type": "code",
   "execution_count": 48,
   "id": "568569dd-e9a5-43fe-8e92-585bdcc92dc2",
   "metadata": {},
   "outputs": [
    {
     "name": "stdout",
     "output_type": "stream",
     "text": [
      "30.9 µs ± 1.52 µs per loop (mean ± std. dev. of 7 runs, 10000 loops each)\n"
     ]
    }
   ],
   "source": [
    "convert_time = %timeit -o  heroes_data = convert_units(heroes, hts, wts)\n",
    "\n",
    "# ns \t\tnanosecond \t\t10-9\n",
    "# µs (us) \tmicrosecond \t10-6"
   ]
  },
  {
   "cell_type": "markdown",
   "id": "1462e5f4-2eba-40d5-9803-3eaf6b96b7f6",
   "metadata": {},
   "source": [
    "# The output from %lprun provides a nice table that summarizes the profiling statistics\n",
    "\n",
    "\n",
    "   **First a column specifying the Line number followed by a column, displaying the number of times that line was executed (called the Hits column).  \n",
    "   **Next , the Time column shows the total amount of time each line took to execute.  This column uses a specific unit that can be found in the first line of the output.  Here our time unit is listed in microseconds using scientific notation (1e_06 s or 10^(-6) s).  \n",
    "   **The Per Hit column gives the average amount of time spent executing a single line.  This is calculated by dividing the Time column by the Hits column.  \n",
    "   **The %Time column shows the percentage of time spent on a line relative to the total amount of time spen t in the function.  \n",
    "   **Finally the source code is displayed for each line in the Line Contents column.  \n",
    "\n",
    "\n",
    "  # You may notice that the Total time reported when using %lprun and the time reported from using %timeit do not match.  Remember %timeit uses multiple loops order to calculatean average and standard devision of time, so the time report from each of these magic commands arent expected to match exactly.\n",
    "   "
   ]
  },
  {
   "cell_type": "markdown",
   "id": "f1367b1d-2078-441b-83c7-88eef56bb8b0",
   "metadata": {},
   "source": [
    "## Pop quiz: steps for using %lprun\n",
    "\n",
    "Below is the convert_units() function, which converts the heights and weights of our favorite superheroes from metric units to Imperial units.\n",
    "\n",
    "def convert_units(heroes, heights, weights):\n",
    "\n",
    "    new_hts = [ht * 0.39370  for ht in heights]\n",
    "    new_wts = [wt * 2.20462  for wt in weights]\n",
    "\n",
    "    hero_data = {}\n",
    "\n",
    "    for i,hero in enumerate(heroes):\n",
    "        hero_data[hero] = (new_hts[i], new_wts[i])\n",
    "\n",
    "    return hero_data\n",
    "\n",
    "Suppose you have a list of superheroes (named heroes) along with each hero's height (in centimeters) and weight (in kilograms) loaded as NumPy arrays (named hts and wts respectively).\n",
    "\n",
    "What are the necessary steps you need to take in order to profile the convert_units() function acting on your superheroes data if you'd like to see line-by-line runtimes?\n",
    "Answer the question\n",
    "50XP\n",
    "Possible Answers\n",
    "\n",
    "    Use %load_ext line_profiler to load the line_profiler within your IPython session.\n",
    "    press\n",
    "    1\n",
    "#    Use %lprun -f convert_units convert_units(heroes, hts, wts) to get line-by-line runtimes.\n",
    "    press\n",
    "    2\n",
    "    Use %timeit convert_units(heroes, hts, wts) to gather runtimes.\n",
    "    press\n",
    "    3\n",
    "    The first and second options from above are necessary.\n",
    "    press\n",
    "    4\n",
    "    "
   ]
  },
  {
   "cell_type": "markdown",
   "id": "a7162ba5-8e8f-46b0-a580-2491ebe78f59",
   "metadata": {},
   "source": [
    "## Using %lprun: spot bottlenecks\n",
    "\n",
    "Profiling a function allows you to dig deeper into the function's source code and potentially spot bottlenecks. When you see certain lines of code taking up the majority of the function's runtime, it is an indication that you may want to deploy a different, more efficient technique.\n",
    "\n",
    "Lets dig deeper into the convert_units() function.\n",
    "\n",
    "def convert_units(heroes, heights, weights):\n",
    "\n",
    "    new_hts = [ht * 0.39370  for ht in heights]\n",
    "    new_wts = [wt * 2.20462  for wt in weights]\n",
    "\n",
    "    hero_data = {}\n",
    "\n",
    "    for i,hero in enumerate(heroes):\n",
    "        hero_data[hero] = (new_hts[i], new_wts[i])\n",
    "\n",
    "    return hero_data\n",
    "\n",
    "Load the line_profiler package into your IPython session. Then, use %lprun to profile the convert_units() function acting on your superheroes data. Remember to use the special syntax for working with %lprun (you'll have to provide a -f flag specifying the function you'd like to profile).\n",
    "\n",
    "The convert_units() function, heroes list, hts array, and wts array have been loaded into your session. After you've finished coding, answer the following question:\n",
    "\n",
    "What percentage of time is spent on the new_hts list comprehension line of code relative to the total amount of time spent in the convert_units() function?\n",
    "Instructions\n",
    "50 XP\n",
    "Possible Answers\n",
    "\n",
    "    0% - 10%\n",
    "    11% - 20%\n",
    "#    21% - 50%\n",
    "    51% - 100%\n",
    "\n"
   ]
  },
  {
   "cell_type": "code",
   "execution_count": 17,
   "id": "5d28440c-f57c-4ec1-baba-ecf89b5fa31f",
   "metadata": {},
   "outputs": [
    {
     "name": "stdout",
     "output_type": "stream",
     "text": [
      "The line_profiler extension is already loaded. To reload it, use:\n",
      "  %reload_ext line_profiler\n"
     ]
    },
    {
     "data": {
      "text/plain": [
       "Timer unit: 1e-06 s\n",
       "\n",
       "Total time: 0.000105 s\n",
       "File: /tmp/ipykernel_22098/1540777712.py\n",
       "Function: convert_units at line 11\n",
       "\n",
       "Line #      Hits         Time  Per Hit   % Time  Line Contents\n",
       "==============================================================\n",
       "    11                                           def convert_units(heroes, heights, weights):\n",
       "    12         1         31.0     31.0     29.5      new_hts = [ht*0.39370 for ht in heights]\n",
       "    13         1         51.0     51.0     48.6      new_wts = [wt*2.20462 for wt in weights]\n",
       "    14                                               \n",
       "    15         1          2.0      2.0      1.9      hero_data = {}\n",
       "    16                                               \n",
       "    17         4          9.0      2.2      8.6      for i, hero in enumerate(heroes):\n",
       "    18         3          8.0      2.7      7.6          hero_data[hero] = (new_hts[i], new_wts[i])\n",
       "    19                                                   \n",
       "    20         1          4.0      4.0      3.8      return hero_data"
      ]
     },
     "metadata": {},
     "output_type": "display_data"
    }
   ],
   "source": [
    "# %lsmagic\n",
    "\n",
    "import line_profiler as lp\n",
    "import numpy as np\n",
    "\n",
    "heroes = ['Batman', 'Superman', 'Wonder Woman']\n",
    "hts = np.array([188.0,  191.0, 183.0])\n",
    "wts = np.array([95, 101, 74])\n",
    "\n",
    "\n",
    "def convert_units(heroes, heights, weights):\n",
    "    new_hts = [ht*0.39370 for ht in heights]\n",
    "    new_wts = [wt*2.20462 for wt in weights]\n",
    "    \n",
    "    hero_data = {}\n",
    "    \n",
    "    for i, hero in enumerate(heroes):\n",
    "        hero_data[hero] = (new_hts[i], new_wts[i])\n",
    "        \n",
    "    return hero_data\n",
    "\n",
    "\n",
    "\n",
    "%load_ext line_profiler\n",
    "\n",
    "%lprun -f convert_units  convert_units(heroes, hts, wts)"
   ]
  },
  {
   "cell_type": "code",
   "execution_count": 18,
   "id": "9640bfdc-f8ab-4473-b0f9-a2f40747c753",
   "metadata": {},
   "outputs": [
    {
     "data": {
      "text/plain": [
       "array([ 95, 101,  74])"
      ]
     },
     "execution_count": 18,
     "metadata": {},
     "output_type": "execute_result"
    }
   ],
   "source": [
    "wts\n"
   ]
  },
  {
   "cell_type": "code",
   "execution_count": 19,
   "id": "6f47e5a3-0231-4a78-a621-f804ab257888",
   "metadata": {},
   "outputs": [
    {
     "data": {
      "application/json": {
       "cell": {
        "!": "OSMagics",
        "HTML": "Other",
        "SVG": "Other",
        "bash": "Other",
        "capture": "ExecutionMagics",
        "debug": "ExecutionMagics",
        "file": "Other",
        "html": "DisplayMagics",
        "javascript": "DisplayMagics",
        "js": "DisplayMagics",
        "latex": "DisplayMagics",
        "markdown": "DisplayMagics",
        "perl": "Other",
        "prun": "ExecutionMagics",
        "pypy": "Other",
        "python": "Other",
        "python2": "Other",
        "python3": "Other",
        "ruby": "Other",
        "script": "ScriptMagics",
        "sh": "Other",
        "svg": "DisplayMagics",
        "sx": "OSMagics",
        "system": "OSMagics",
        "time": "ExecutionMagics",
        "timeit": "ExecutionMagics",
        "writefile": "OSMagics"
       },
       "line": {
        "alias": "OSMagics",
        "alias_magic": "BasicMagics",
        "autoawait": "AsyncMagics",
        "autocall": "AutoMagics",
        "automagic": "AutoMagics",
        "autosave": "KernelMagics",
        "bookmark": "OSMagics",
        "cat": "Other",
        "cd": "OSMagics",
        "clear": "KernelMagics",
        "colors": "BasicMagics",
        "conda": "PackagingMagics",
        "config": "ConfigMagics",
        "connect_info": "KernelMagics",
        "cp": "Other",
        "debug": "ExecutionMagics",
        "dhist": "OSMagics",
        "dirs": "OSMagics",
        "doctest_mode": "BasicMagics",
        "ed": "Other",
        "edit": "KernelMagics",
        "env": "OSMagics",
        "gui": "BasicMagics",
        "hist": "Other",
        "history": "HistoryMagics",
        "killbgscripts": "ScriptMagics",
        "ldir": "Other",
        "less": "KernelMagics",
        "lf": "Other",
        "lk": "Other",
        "ll": "Other",
        "load": "CodeMagics",
        "load_ext": "ExtensionMagics",
        "loadpy": "CodeMagics",
        "logoff": "LoggingMagics",
        "logon": "LoggingMagics",
        "logstart": "LoggingMagics",
        "logstate": "LoggingMagics",
        "logstop": "LoggingMagics",
        "lprun": "LineProfilerMagics",
        "ls": "Other",
        "lsmagic": "BasicMagics",
        "lx": "Other",
        "macro": "ExecutionMagics",
        "magic": "BasicMagics",
        "man": "KernelMagics",
        "matplotlib": "PylabMagics",
        "mkdir": "Other",
        "more": "KernelMagics",
        "mv": "Other",
        "notebook": "BasicMagics",
        "page": "BasicMagics",
        "pastebin": "CodeMagics",
        "pdb": "ExecutionMagics",
        "pdef": "NamespaceMagics",
        "pdoc": "NamespaceMagics",
        "pfile": "NamespaceMagics",
        "pinfo": "NamespaceMagics",
        "pinfo2": "NamespaceMagics",
        "pip": "PackagingMagics",
        "popd": "OSMagics",
        "pprint": "BasicMagics",
        "precision": "BasicMagics",
        "prun": "ExecutionMagics",
        "psearch": "NamespaceMagics",
        "psource": "NamespaceMagics",
        "pushd": "OSMagics",
        "pwd": "OSMagics",
        "pycat": "OSMagics",
        "pylab": "PylabMagics",
        "qtconsole": "KernelMagics",
        "quickref": "BasicMagics",
        "recall": "HistoryMagics",
        "rehashx": "OSMagics",
        "reload_ext": "ExtensionMagics",
        "rep": "Other",
        "rerun": "HistoryMagics",
        "reset": "NamespaceMagics",
        "reset_selective": "NamespaceMagics",
        "rm": "Other",
        "rmdir": "Other",
        "run": "ExecutionMagics",
        "save": "CodeMagics",
        "sc": "OSMagics",
        "set_env": "OSMagics",
        "store": "StoreMagics",
        "sx": "OSMagics",
        "system": "OSMagics",
        "tb": "ExecutionMagics",
        "time": "ExecutionMagics",
        "timeit": "ExecutionMagics",
        "unalias": "OSMagics",
        "unload_ext": "ExtensionMagics",
        "who": "NamespaceMagics",
        "who_ls": "NamespaceMagics",
        "whos": "NamespaceMagics",
        "xdel": "NamespaceMagics",
        "xmode": "BasicMagics"
       }
      },
      "text/plain": [
       "Available line magics:\n",
       "%alias  %alias_magic  %autoawait  %autocall  %automagic  %autosave  %bookmark  %cat  %cd  %clear  %colors  %conda  %config  %connect_info  %cp  %debug  %dhist  %dirs  %doctest_mode  %ed  %edit  %env  %gui  %hist  %history  %killbgscripts  %ldir  %less  %lf  %lk  %ll  %load  %load_ext  %loadpy  %logoff  %logon  %logstart  %logstate  %logstop  %lprun  %ls  %lsmagic  %lx  %macro  %magic  %man  %matplotlib  %mkdir  %more  %mv  %notebook  %page  %pastebin  %pdb  %pdef  %pdoc  %pfile  %pinfo  %pinfo2  %pip  %popd  %pprint  %precision  %prun  %psearch  %psource  %pushd  %pwd  %pycat  %pylab  %qtconsole  %quickref  %recall  %rehashx  %reload_ext  %rep  %rerun  %reset  %reset_selective  %rm  %rmdir  %run  %save  %sc  %set_env  %store  %sx  %system  %tb  %time  %timeit  %unalias  %unload_ext  %who  %who_ls  %whos  %xdel  %xmode\n",
       "\n",
       "Available cell magics:\n",
       "%%!  %%HTML  %%SVG  %%bash  %%capture  %%debug  %%file  %%html  %%javascript  %%js  %%latex  %%markdown  %%perl  %%prun  %%pypy  %%python  %%python2  %%python3  %%ruby  %%script  %%sh  %%svg  %%sx  %%system  %%time  %%timeit  %%writefile\n",
       "\n",
       "Automagic is ON, % prefix IS NOT needed for line magics."
      ]
     },
     "execution_count": 19,
     "metadata": {},
     "output_type": "execute_result"
    }
   ],
   "source": [
    "%lsmagic"
   ]
  },
  {
   "cell_type": "code",
   "execution_count": null,
   "id": "8018b588-88d4-4d8b-aef6-0fc602c702cb",
   "metadata": {},
   "outputs": [],
   "source": [
    "# Create a list of integers (0-50) using list comprehension\n",
    "nums_list_comp = [num for num in range(51)]\n",
    "print(nums_list_comp)\n",
    "In [1]:\n",
    "%load_ext line_profiler\n",
    "In [2]:\n",
    "\n",
    "In [2]:\n",
    "%lprun -f convert_units  convert_units(heroes, hts, wts)"
   ]
  },
  {
   "cell_type": "markdown",
   "id": "1e1e2104-91a0-427b-b6f8-9b47254445d5",
   "metadata": {},
   "source": [
    "## Code profiling for memory usage\n",
    "\n",
    "\n",
    "\n",
    "**We've defined efficient code as code that has a minimal runtime and a small memory footprint.  So far, we've only covered how to inspect the runtime of our code.  In this lession, we'll cover a few techniques on how to evaluate our code's memory footprint.  \n",
    "\n",
    "\n",
    "# One basic approach for inspecting memory consumption isusing Python's build in modules sys.  This module contains system specific function and contains one nice method .getsizeof(), that returns the size of an objcet in bytes.  \n",
    "\n",
    "**sys.getsizeof() is a quick and dirty way to see the size of an object, but this only gives us the size of an individual object.  What if we want to inspect the line-by-line memory footprint of our code?  \n",
    "\n",
    "\n",
    "# We'll have to use a code profiler.  Just like we've used code profiling to gether datailed stats on runtime, we can also use code profiling to analyze the memory allocation for each line of code in our code base.  We use the memory_profiler package that is very similar to the line_profiler package.  \n",
    "\n",
    "**The momory_frofiler comes with a handy magic command %mprun that uses the same syntax as %lprun\n",
    "\n",
    "**One drawback to using %mprunis that any function profiled for memory consumption must be defined in a file and imported.  %mprun can only be used on functions defined in pyhsical files, and not in IPython session.  \n"
   ]
  },
  {
   "cell_type": "code",
   "execution_count": 82,
   "id": "e41c1c2a-42dc-4ec9-8348-62e764b4898a",
   "metadata": {},
   "outputs": [
    {
     "data": {
      "text/plain": [
       "8056"
      ]
     },
     "execution_count": 82,
     "metadata": {},
     "output_type": "execute_result"
    }
   ],
   "source": [
    "import sys\n",
    "\n",
    "nums_list = [*range(1000)]\n",
    "sys.getsizeof(nums_list)\n",
    "\n",
    "\n",
    "# *************************************************************************************************** #\n",
    "# sys.getsizeof() returns the size of an object in bytes"
   ]
  },
  {
   "cell_type": "code",
   "execution_count": 32,
   "id": "2ddf9e99-41f5-4aeb-8168-f1b254a373e3",
   "metadata": {},
   "outputs": [
    {
     "data": {
      "text/plain": [
       "8104"
      ]
     },
     "execution_count": 32,
     "metadata": {},
     "output_type": "execute_result"
    }
   ],
   "source": [
    "import numpy as np\n",
    "#nums_np = np.array(range(1000))  # why not np.array([*range(1000)]) or np.array(*range(1000))\n",
    "nums_np2 = np.array([*range(1000)])\n",
    "sys.getsizeof(nums_np2)"
   ]
  },
  {
   "cell_type": "code",
   "execution_count": 31,
   "id": "480c4150-ddb9-4d22-8c46-ea0e4feb8b43",
   "metadata": {},
   "outputs": [
    {
     "data": {
      "text/plain": [
       "8104"
      ]
     },
     "execution_count": 31,
     "metadata": {},
     "output_type": "execute_result"
    }
   ],
   "source": [
    "import numpy as np\n",
    "nums_np = np.array(range(1000))\n",
    "sys.getsizeof(nums_np)"
   ]
  },
  {
   "cell_type": "code",
   "execution_count": 37,
   "id": "9a6ec8a8-423a-4fb1-a673-c8cda362289d",
   "metadata": {},
   "outputs": [
    {
     "data": {
      "text/plain": [
       "\u001b[0;31mDocstring:\u001b[0m Load an IPython extension by its module name.\n",
       "\u001b[0;31mFile:\u001b[0m      ~/.virtual_environments/py39/lib/python3.9/site-packages/IPython/core/magics/extension.py\n"
      ]
     },
     "metadata": {},
     "output_type": "display_data"
    }
   ],
   "source": [
    "?%load_ext"
   ]
  },
  {
   "cell_type": "code",
   "execution_count": 47,
   "id": "44deec2e-18b6-48e0-92bd-66c737c7df16",
   "metadata": {},
   "outputs": [
    {
     "name": "stdout",
     "output_type": "stream",
     "text": [
      "The memory_profiler extension is already loaded. To reload it, use:\n",
      "  %reload_ext memory_profiler\n",
      "\n"
     ]
    },
    {
     "data": {
      "text/plain": [
       "Filename: /home/jhu/.virtual_environments/heroes_func.py\n",
       "\n",
       "Line #    Mem usage    Increment  Occurences   Line Contents\n",
       "============================================================\n",
       "     1     77.5 MiB     77.5 MiB           1   def convert_units(heroes, heights, weights):\n",
       "     2     77.5 MiB      0.0 MiB           6       new_hts = [ht*0.39370 for ht in heights]\n",
       "     3     77.5 MiB      0.0 MiB           6       new_wts = [wt*2.20462 for wt in weights]\n",
       "     4                                             \n",
       "     5     77.5 MiB      0.0 MiB           1       hero_data = {}\n",
       "     6                                             \n",
       "     7     77.5 MiB      0.0 MiB           4       for i, hero in enumerate(heroes):\n",
       "     8     77.5 MiB      0.0 MiB           3           hero_data[hero] = (new_hts[i], new_wts[i])\n",
       "     9                                                 \n",
       "    10     77.5 MiB      0.0 MiB           1       return hero_data"
      ]
     },
     "metadata": {},
     "output_type": "display_data"
    }
   ],
   "source": [
    "import numpy as np\n",
    "from heroes_func import convert_units\n",
    "\n",
    "heroes = ['Batman', 'Superman', 'Wonder Woman']\n",
    "hts = np.array([188.0,  191.0, 183.0])\n",
    "wts = np.array([95, 101, 74])\n",
    "\n",
    "\n",
    "%load_ext memory_profiler\n",
    "%mprun -f convert_units  convert_units(heroes, hts, wts)"
   ]
  },
  {
   "cell_type": "markdown",
   "id": "bb6adef3-1d11-4141-a522-d4fe945b1f74",
   "metadata": {},
   "source": [
    "## In this example, the convert_units function was placed in a file named heroes_func.py, now we simply import our function from the heroes_func.py file, and use the magic command %mprun to gather statistics on its memory footprint.  %mprun output is similar to %lprun output.  \n",
    "\n",
    "   **First Line column represent the line number of the code that has been profiled\n",
    "   **Second Men usage column is the memory used after that line has been executed\n",
    "   **The Increment column shows the diff in memory of current line respect to the previous\n",
    "     It shows us the impact of the current line on the total memory usage\n",
    "   **The Last LineContents shows the source code that has been profiled\n",
    "   \n",
    "   \n",
    "## Profiling  a function with %mprun allows us to see what lines are taking up a large amount of memory and possible develop a more efficient solution.  "
   ]
  },
  {
   "cell_type": "code",
   "execution_count": 73,
   "id": "5ba4e57d-df3e-4056-a4de-a83d9d0591c8",
   "metadata": {},
   "outputs": [
    {
     "name": "stdout",
     "output_type": "stream",
     "text": [
      "['Robert', 'Nikki', 'Edgar', 'Cindy', 'Dustin', 'Ronald', 'Janet', 'Reva', 'Peter', 'Adrian']\n",
      "312024\n",
      "[202.33541957 194.95231036 210.40621334 179.15907899 167.33723425\n",
      " 171.34098172 199.01829057 193.82540397 167.90809816 180.29211501]\n",
      "[108.10781817  94.51560164  97.91975744 102.23738267  99.26354253\n",
      "  95.14227893  84.23304551  87.34606882 102.29084034 100.45343104]\n",
      "280112\n",
      "The memory_profiler extension is already loaded. To reload it, use:\n",
      "  %reload_ext memory_profiler\n",
      "\n"
     ]
    },
    {
     "data": {
      "text/plain": [
       "Filename: /home/jhu/.virtual_environments/heroes_func.py\n",
       "\n",
       "Line #    Mem usage    Increment  Occurences   Line Contents\n",
       "============================================================\n",
       "     1     88.3 MiB     88.3 MiB           1   def convert_units(heroes, heights, weights):\n",
       "     2     88.3 MiB      0.0 MiB       35004       new_hts = [ht*0.39370 for ht in heights]\n",
       "     3     88.5 MiB      0.3 MiB       35004       new_wts = [wt*2.20462 for wt in weights]\n",
       "     4                                             \n",
       "     5     88.5 MiB      0.0 MiB           1       hero_data = {}\n",
       "     6                                             \n",
       "     7     88.5 MiB      0.0 MiB       35002       for i, hero in enumerate(heroes):\n",
       "     8     88.5 MiB      0.0 MiB       35001           hero_data[hero] = (new_hts[i], new_wts[i])\n",
       "     9                                                 \n",
       "    10     88.5 MiB      0.0 MiB           1       return hero_data"
      ]
     },
     "metadata": {},
     "output_type": "display_data"
    }
   ],
   "source": [
    "import names\n",
    "import numpy as np\n",
    "import sys\n",
    "\n",
    "#print(dir(names.get_full_name))\n",
    "#print(dir(names))\n",
    "\n",
    "#for i in range(35001):\n",
    "#    heros = [*names.get_first_name()]\n",
    "#print(heros[:10])\n",
    "    \n",
    "    \n",
    "heroes = [names.get_first_name() for i in range(35001)]\n",
    "print(heroes[:10])\n",
    "print(sys.getsizeof(heroes))\n",
    "\n",
    "#?np.random.normal\n",
    "\n",
    "hts = np.array(np.random.normal(191.4, 13, 35001))\n",
    "wts = np.array(np.random.normal(95.3, 8, 35001))\n",
    "\n",
    "print(hts[:10])\n",
    "print(wts[:10])\n",
    "\n",
    "print(sys.getsizeof(hts))\n",
    "\n",
    "\n",
    "from heroes_func import convert_units\n",
    "\n",
    "\n",
    "%load_ext memory_profiler\n",
    "%mprun -f convert_units  convert_units(heroes, hts, wts)"
   ]
  },
  {
   "cell_type": "markdown",
   "id": "72d1a37d-1168-43c6-aefb-465b4ac7518d",
   "metadata": {},
   "source": [
    "## Do not worry about zeors, the main take away is that small memory allocation may not show up when using %mprun magic command, and thats a ferfectly fine result.  \n",
    "\n",
    "## Finally how memory_frofiler package did this?  The memory_profiler inspects memory footprint consumption by querying the operating system.  This might be slightly different from the amount of memory that is used by the Python interpreter.  And results may differ between platforms and runs.  \n",
    "\n"
   ]
  },
  {
   "cell_type": "markdown",
   "id": "3bbad3a1-e7a1-4ce6-a53b-eba099ecd304",
   "metadata": {},
   "source": [
    "## Pop quiz: steps for using %mprun\n",
    "\n",
    "Suppose you have a list of superheroes (named heroes) along with each hero's height (in centimeters) and weight (in kilograms) loaded as NumPy arrays (named hts and wts, respectively). You also have a convert_units() function saved in a file titled hero_funcs.py.\n",
    "\n",
    "What are the necessary steps you need to take in order to profile the convert_units() function acting on your superheroes data if you'd like to see the line-by-line memory consumption of convert_units()?\n",
    "Answer the question\n",
    "50XP\n",
    "Possible Answers\n",
    "\n",
    "    Use the command from hero_funcs import convert_units to load the function you'd like to profile.\n",
    "    1\n",
    "    Use %load_ext memory_profiler to load the memory_profiler within your IPython session.\n",
    "    2\n",
    "    Use %mprun -f convert_units convert_units(heroes, hts, wts) to get line-by-line memory allocations.\n",
    "    3\n",
    "#    All of the above.\n",
    "    4\n",
    "    "
   ]
  },
  {
   "cell_type": "markdown",
   "id": "856b57be-d96a-4010-9f42-7bb9ca53f398",
   "metadata": {},
   "source": [
    "## Using %mprun: Hero BMI\n",
    "\n",
    "You'd like to calculate the body mass index (BMI) for a selected sample of heroes. BMI can be calculated using the below formula:\n",
    "\n",
    "BMI = mass(kg) / height(m)^2\n",
    "\n",
    "# A random sample of 25,000 superheroes has been loaded into your session as an array called sample_indices. This sample is a list of indices that corresponds to each superhero's index selected from the heroes list.\n",
    "\n",
    "A function named calc_bmi_lists has also been created and saved to a file titled bmi_lists.py. For convenience, it is displayed below:\n",
    "\n",
    "def calc_bmi_lists(sample_indices, hts, wts):\n",
    "\n",
    "    # Gather sample heights and weights as lists\n",
    "    s_hts = [hts[i] for i in sample_indices]\n",
    "    s_wts = [wts[i] for i in sample_indices]\n",
    "\n",
    "    # Convert heights from cm to m and square with list comprehension\n",
    "    s_hts_m_sqr = [(ht / 100) ** 2 for ht in s_hts]\n",
    "\n",
    "    # Calculate BMIs as a list with list comprehension\n",
    "    bmis = [s_wts[i] / s_hts_m_sqr[i] for i in range(len(sample_indices))]\n",
    "\n",
    "    return bmis\n",
    "\n",
    "# Notice that this function performs all necessary calculations using list comprehension (hence the name calc_bmi_lists()). Dig deeper into this function and analyze the memory footprint for performing your calculations using lists:\n",
    "\n",
    "    Load the memory_profiler package into your IPython session.\n",
    "    Import calc_bmi_lists from bmi_lists.\n",
    "    Once you've completed the above steps, use %mprun to profile the calc_bmi_lists() function acting on your superheroes data. The hts array and wts array have already been loaded into your session.\n",
    "\n",
    "After you've finished coding, answer the following question:\n",
    "\n",
    "How much memory do the list comprehension lines of code consume in the calc_bmi_lists() function? (i.e., what is the total sum of the Increment column for these four lines of code?)\n",
    "Instructions\n",
    "50 XP\n",
    "Possible Answers\n",
    "\n",
    "    20.0 MiB - 30.0 MiB\n",
    "    0.1 MiB - 2.0 MiB\n",
    "    10.0 MiB - 15.0 MiB\n",
    "    0.0 MiB\n",
    "    "
   ]
  },
  {
   "cell_type": "code",
   "execution_count": 79,
   "id": "b6d32c90-b270-4135-af9f-cc69a58f667a",
   "metadata": {},
   "outputs": [
    {
     "name": "stdout",
     "output_type": "stream",
     "text": [
      "The memory_profiler extension is already loaded. To reload it, use:\n",
      "  %reload_ext memory_profiler\n",
      "\n"
     ]
    },
    {
     "data": {
      "text/plain": [
       "Filename: /home/jhu/.virtual_environments/bmi_lists.py\n",
       "\n",
       "Line #    Mem usage    Increment  Occurences   Line Contents\n",
       "============================================================\n",
       "     1     91.7 MiB     91.7 MiB           1   def calc_bmi_lists(sample_indices, hts, wts):\n",
       "     2                                         \n",
       "     3                                             # Gather sample heights and weights as lists\n",
       "     4     91.9 MiB      0.3 MiB       25004       s_hts = [hts[i] for i in sample_indices]\n",
       "     5     92.7 MiB      0.8 MiB       25004       s_wts = [wts[i] for i in sample_indices]\n",
       "     6                                         \n",
       "     7                                             # Convert heights from cm to m and square with list comprehension\n",
       "     8     93.5 MiB      0.8 MiB       25004       s_hts_m_sqr = [(ht / 100) ** 2 for ht in s_hts]\n",
       "     9                                         \n",
       "    10                                             # Calculate BMIs as a list with list comprehension\n",
       "    11     94.5 MiB      1.0 MiB       25004       bmis = [s_wts[i] / s_hts_m_sqr[i] for i in range(len(sample_indices))]\n",
       "    12                                         \n",
       "    13     94.5 MiB      0.0 MiB           1       return bmis"
      ]
     },
     "metadata": {},
     "output_type": "display_data"
    }
   ],
   "source": [
    "from bmi_lists import calc_bmi_lists\n",
    "import names\n",
    "\n",
    "heroes = [names.get_first_name() for i in range(25001)]\n",
    "\n",
    "hts = np.array(np.random.normal(191.4, 13, 25001))\n",
    "wts = np.array(np.random.normal(95.3, 8, 25001))\n",
    "sample_indices = np.array([i for i in range(25001)])\n",
    "\n",
    "\n",
    "%load_ext memory_profiler\n",
    "%mprun -f calc_bmi_lists calc_bmi_lists(sample_indices, hts, wts)\n",
    "\n",
    "\n"
   ]
  },
  {
   "cell_type": "code",
   "execution_count": 80,
   "id": "8529eab9-c504-4428-9881-6d800473b577",
   "metadata": {},
   "outputs": [
    {
     "name": "stdout",
     "output_type": "stream",
     "text": [
      "The memory_profiler extension is already loaded. To reload it, use:\n",
      "  %reload_ext memory_profiler\n",
      "\n"
     ]
    },
    {
     "data": {
      "text/plain": [
       "Filename: /home/jhu/.virtual_environments/bmi_lists_2.py\n",
       "\n",
       "Line #    Mem usage    Increment  Occurences   Line Contents\n",
       "============================================================\n",
       "     1     92.9 MiB     92.9 MiB           1   def calc_bmi_lists(sample_indices, hts, wts):\n",
       "     2                                         \n",
       "     3                                             # Gather sample heights and weights as lists\n",
       "     4     92.9 MiB      0.0 MiB       50005       s_hts = list(hts[i] for i in sample_indices)\n",
       "     5     92.9 MiB      0.0 MiB       50005       s_wts = list(wts[i] for i in sample_indices)\n",
       "     6                                         \n",
       "     7                                             # Convert heights from cm to m and square with list comprehension\n",
       "     8     93.7 MiB      0.8 MiB       25004       s_hts_m_sqr = [(ht / 100) ** 2 for ht in s_hts]\n",
       "     9                                         \n",
       "    10                                             # Calculate BMIs as a list with list comprehension\n",
       "    11     94.8 MiB      1.0 MiB       25004       bmis = [s_wts[i] / s_hts_m_sqr[i] for i in range(len(sample_indices))]\n",
       "    12                                         \n",
       "    13     94.8 MiB      0.0 MiB           1       return bmis"
      ]
     },
     "metadata": {},
     "output_type": "display_data"
    }
   ],
   "source": [
    "from bmi_lists_2 import calc_bmi_lists\n",
    "import names\n",
    "\n",
    "heroes = [names.get_first_name() for i in range(25001)]\n",
    "\n",
    "hts = np.array(np.random.normal(191.4, 13, 25001))\n",
    "wts = np.array(np.random.normal(95.3, 8, 25001))\n",
    "sample_indices = np.array([i for i in range(25001)])\n",
    "\n",
    "\n",
    "%load_ext memory_profiler\n",
    "%mprun -f calc_bmi_lists calc_bmi_lists(sample_indices, hts, wts)\n",
    "\n",
    "\n"
   ]
  },
  {
   "cell_type": "markdown",
   "id": "f4de275e-07dd-49d2-a617-126cc83ea3e7",
   "metadata": {},
   "source": [
    "# the Occurence column 4, the 50005 and 25004 difference made me to think list() runs more more times, but takes less memory footprint comparing to [].  But on the time spending side, list() performs better and run less times.  Which sit opposite of %lprun profile. Whats going on ??? \n",
    "SO we need to get real understanding between list() and []. \n",
    "\n",
    "\n",
    "# list() and []\n",
    "Use the second form. It's more Pythonic, and it's probably faster __(since it doesn't involve loading and calling a separate funciton).\n",
    "\n",
    "\n",
    "\n",
    "    The former just wraps the entire item in square brackets [], making it a one-item list:\n",
    "\n",
    "    >>> [{'foo': 1, 'bar': 2}]\n",
    "    [{'foo': 1, 'bar': 2}]\n",
    "\n",
    "    The latter iterates over the dictionary (getting keys) and produces a list out of them:\n",
    "\n",
    "    >>> list({'foo': 1, 'bar': 2})\n",
    "    ['foo', 'bar']\n",
    "\n",
    "\n",
    "\n",
    "The two are completely equivalent, except that it is possible to redefine the identifier list to refer to a different object. Accordingly, it is safer to use [] unless you want to be able to redefine list to be a new type.\n",
    "\n",
    "Technically, using [] will be very slightly faster, because it avoids name lookup. This is unlikely to be significant in any case, unless the programme is allocating lists constantly and furiously.\n",
    "\n",
    "As Sven notes, list has other uses, but of course the question does not ask about those.\n"
   ]
  },
  {
   "cell_type": "code",
   "execution_count": 81,
   "id": "a5dabea4-7aec-4515-9b1d-8796d7b85a96",
   "metadata": {},
   "outputs": [
    {
     "name": "stdout",
     "output_type": "stream",
     "text": [
      "The line_profiler extension is already loaded. To reload it, use:\n",
      "  %reload_ext line_profiler\n"
     ]
    },
    {
     "data": {
      "text/plain": [
       "Timer unit: 1e-06 s\n",
       "\n",
       "Total time: 0.101208 s\n",
       "File: /home/jhu/.virtual_environments/bmi_lists_2.py\n",
       "Function: calc_bmi_lists at line 1\n",
       "\n",
       "Line #      Hits         Time  Per Hit   % Time  Line Contents\n",
       "==============================================================\n",
       "     1                                           def calc_bmi_lists(sample_indices, hts, wts):\n",
       "     2                                           \n",
       "     3                                               # Gather sample heights and weights as lists\n",
       "     4         1      24680.0  24680.0     24.4      s_hts = list(hts[i] for i in sample_indices)\n",
       "     5         1      25370.0  25370.0     25.1      s_wts = list(wts[i] for i in sample_indices)\n",
       "     6                                           \n",
       "     7                                               # Convert heights from cm to m and square with list comprehension\n",
       "     8         1      36946.0  36946.0     36.5      s_hts_m_sqr = [(ht / 100) ** 2 for ht in s_hts]\n",
       "     9                                           \n",
       "    10                                               # Calculate BMIs as a list with list comprehension\n",
       "    11         1      14210.0  14210.0     14.0      bmis = [s_wts[i] / s_hts_m_sqr[i] for i in range(len(sample_indices))]\n",
       "    12                                           \n",
       "    13         1          2.0      2.0      0.0      return bmis"
      ]
     },
     "metadata": {},
     "output_type": "display_data"
    }
   ],
   "source": [
    "# Load line_profiler into our session\n",
    "#%load_ext line_profiler\n",
    "# Then use the magic command %lprun from line_profiler, \n",
    "# to gather runtimes for individual linesof code within the convert_units function\n",
    "\n",
    "#%lprun -f convert_units  convert_units(heroes, hts, wts)\n",
    "# %lprun uses s special syntax.  First we use the -f flag to indicate we'd like to profile a function,\n",
    "# Next we specify the name of the function we'd like to profile\n",
    "# Finally we provide the exact function call we'd like to profile by including any arguments needed\n",
    "\n",
    "\n",
    "\n",
    "#from bmi_lists import calc_bmi_lists\n",
    "import names\n",
    "\n",
    "heroes = [names.get_first_name() for i in range(25001)]\n",
    "\n",
    "hts = np.array(np.random.normal(191.4, 13, 25001))\n",
    "wts = np.array(np.random.normal(95.3, 8, 25001))\n",
    "sample_indices = np.array([i for i in range(25001)])\n",
    "\n",
    "\n",
    "\n",
    "\n",
    "%load_ext line_profiler\n",
    "\n",
    "%lprun -f calc_bmi_lists  calc_bmi_lists(sample_indices, hts, wts)\n",
    "\n",
    "\n",
    "\n",
    "def calc_bmi_lists(sample_indices, hts, wts):\n",
    "\n",
    "    # Gather sample heights and weights as lists\n",
    "    s_hts = list(hts[i] for i in sample_indices)\n",
    "    s_wts = list(wts[i] for i in sample_indices)\n",
    "\n",
    "    # Convert heights from cm to m and square with list comprehension\n",
    "    s_hts_m_sqr = [(ht / 100) ** 2 for ht in s_hts]\n",
    "\n",
    "    # Calculate BMIs as a list with list comprehension\n",
    "    bmis = [s_wts[i] / s_hts_m_sqr[i] for i in range(len(sample_indices))]\n",
    "\n",
    "    return bmis"
   ]
  },
  {
   "cell_type": "code",
   "execution_count": 91,
   "id": "34ef36c0-9218-4516-ba7e-f94d3b81e3d6",
   "metadata": {
    "tags": []
   },
   "outputs": [
    {
     "name": "stdout",
     "output_type": "stream",
     "text": [
      "Filename: /home/jhu/.virtual_environments/bmi_lists_3.py\n",
      "\n",
      "Line #    Mem usage    Increment  Occurences   Line Contents\n",
      "============================================================\n",
      "     3     93.3 MiB     93.3 MiB           1   @profile\n",
      "     4                                         def calc_bmi_lists(sample_indices, hts, wts):\n",
      "     5                                         \n",
      "     6                                             # Gather sample heights and weights as lists\n",
      "     7     93.3 MiB      0.0 MiB       50005       s_hts = list(hts[i] for i in sample_indices)\n",
      "     8     93.3 MiB      0.0 MiB       50005       s_wts = list(wts[i] for i in sample_indices)\n",
      "     9                                         \n",
      "    10                                             # Convert heights from cm to m and square with list comprehension\n",
      "    11     93.5 MiB      0.3 MiB       25004       s_hts_m_sqr = [(ht / 100) ** 2 for ht in s_hts]\n",
      "    12                                         \n",
      "    13                                             # Calculate BMIs as a list with list comprehension\n",
      "    14     94.3 MiB      0.8 MiB       25004       bmis = [s_wts[i] / s_hts_m_sqr[i] for i in range(len(sample_indices))]\n",
      "    15                                         \n",
      "    16     94.3 MiB      0.0 MiB           1       return bmis\n",
      "\n",
      "\n"
     ]
    },
    {
     "data": {
      "text/plain": [
       "[24.95012117717167,\n",
       " 25.550562596753387,\n",
       " 26.31461081014454,\n",
       " 27.32181396806047,\n",
       " 30.629082432394863,\n",
       " 24.480540311854615,\n",
       " 29.314542095011976,\n",
       " 34.93668713819157,\n",
       " 21.433748910666086,\n",
       " 24.89031739521572,\n",
       " 24.836870406980356,\n",
       " 20.349122802947946,\n",
       " 23.953861899901742,\n",
       " 24.671016738866037,\n",
       " 18.98413384309341,\n",
       " 26.967826528762824,\n",
       " 19.698794419806855,\n",
       " 27.03396565467006,\n",
       " 25.867117654616248,\n",
       " 26.591920672910977,\n",
       " 25.06837795969251,\n",
       " 27.82756264834823,\n",
       " 24.3823035180181,\n",
       " 25.28446733084922,\n",
       " 24.804227385330265,\n",
       " 23.904177981536865,\n",
       " 31.44481184680375,\n",
       " 24.265541362928374,\n",
       " 25.192774398010663,\n",
       " 22.381868282869238,\n",
       " 31.683213181899504,\n",
       " 25.66265102356349,\n",
       " 22.731744185434206,\n",
       " 31.798722550916196,\n",
       " 30.652712434580543,\n",
       " 30.56692159821895,\n",
       " 30.83754292405449,\n",
       " 32.593019242893114,\n",
       " 29.784487700448725,\n",
       " 31.81643837511583,\n",
       " 28.34881031419322,\n",
       " 29.309666802609527,\n",
       " 27.441319215432323,\n",
       " 25.02424491166157,\n",
       " 26.124686173745097,\n",
       " 26.437552860288008,\n",
       " 23.699133916235212,\n",
       " 29.73124903615019,\n",
       " 24.75923044791482,\n",
       " 28.718977937745834,\n",
       " 26.20995692483979,\n",
       " 31.44313845663433,\n",
       " 28.148522806393448,\n",
       " 30.6998323752703,\n",
       " 22.06526257466236,\n",
       " 23.420802415748973,\n",
       " 21.009475239271982,\n",
       " 23.028285903697366,\n",
       " 34.877797504454634,\n",
       " 27.693539720978382,\n",
       " 20.309386494456767,\n",
       " 31.58443961101598,\n",
       " 31.20063412175046,\n",
       " 28.809073385680367,\n",
       " 26.827416819386865,\n",
       " 24.486198392073465,\n",
       " 29.575938210438924,\n",
       " 26.249767720624067,\n",
       " 23.681666118499557,\n",
       " 23.09907690583282,\n",
       " 26.0548895626693,\n",
       " 21.501727002382346,\n",
       " 26.535969906829123,\n",
       " 27.40459005171246,\n",
       " 25.104702726682557,\n",
       " 32.97356139735438,\n",
       " 22.36892447961417,\n",
       " 23.823585580686398,\n",
       " 27.695201145513796,\n",
       " 24.36102909618605,\n",
       " 24.230816775223442,\n",
       " 23.413693967274376,\n",
       " 26.051166701929436,\n",
       " 31.73799492450093,\n",
       " 27.84501268881812,\n",
       " 24.624482397870782,\n",
       " 29.599901688766614,\n",
       " 29.508462714179007,\n",
       " 28.691679359526614,\n",
       " 24.980312140548776,\n",
       " 26.17477403390752,\n",
       " 26.43014185305407,\n",
       " 23.257229196098013,\n",
       " 24.478569306586945,\n",
       " 23.284108133453213,\n",
       " 27.24733899833929,\n",
       " 29.40122472715402,\n",
       " 20.282910951582785,\n",
       " 30.3121490934705,\n",
       " 26.571514965675423,\n",
       " 26.560285990430046,\n",
       " 20.790132872494613,\n",
       " 24.358656429212616,\n",
       " 25.59937411271781,\n",
       " 21.297275674630317,\n",
       " 24.220437711179244,\n",
       " 23.739708342157854,\n",
       " 26.649081623609685,\n",
       " 30.120525273383343,\n",
       " 21.108118642331053,\n",
       " 26.73814653398439,\n",
       " 16.756615042993623,\n",
       " 24.36343073252254,\n",
       " 27.96107582918935,\n",
       " 26.0156796570423,\n",
       " 28.0896636302018,\n",
       " 32.96634358445076,\n",
       " 24.181685247433474,\n",
       " 23.619146006960456,\n",
       " 27.510879860367748,\n",
       " 28.818828261029708,\n",
       " 35.84957139534938,\n",
       " 30.898770513419795,\n",
       " 26.69305047156938,\n",
       " 30.1289007607347,\n",
       " 28.30921987794889,\n",
       " 28.452882619426596,\n",
       " 19.243718482755884,\n",
       " 20.571989484960426,\n",
       " 26.34004308682416,\n",
       " 28.389082562831433,\n",
       " 28.046846558179112,\n",
       " 28.739766315756842,\n",
       " 23.71981253959725,\n",
       " 26.555998519833018,\n",
       " 24.315459042516796,\n",
       " 29.648985333789103,\n",
       " 26.686598180007472,\n",
       " 26.080413293880174,\n",
       " 30.94933680102944,\n",
       " 32.585378452388056,\n",
       " 22.28015063074453,\n",
       " 28.362315759757724,\n",
       " 33.41359374954278,\n",
       " 24.497860143016887,\n",
       " 26.60129865800624,\n",
       " 19.950770121952758,\n",
       " 22.706027365968616,\n",
       " 25.90761325353308,\n",
       " 25.336124647109237,\n",
       " 23.043318536335512,\n",
       " 33.44728167873651,\n",
       " 18.06400702640308,\n",
       " 23.729261614982576,\n",
       " 22.63326002708474,\n",
       " 29.143595069440476,\n",
       " 28.590414850565416,\n",
       " 26.054841747197973,\n",
       " 31.944350551412814,\n",
       " 27.106253709397766,\n",
       " 27.284008050513666,\n",
       " 20.349544614835633,\n",
       " 25.53965899940259,\n",
       " 20.989374200743487,\n",
       " 22.827039447235755,\n",
       " 19.70279299954052,\n",
       " 22.8620703911176,\n",
       " 20.535657206532374,\n",
       " 29.45164663950594,\n",
       " 25.43467320152403,\n",
       " 17.767292117768434,\n",
       " 29.235703355085224,\n",
       " 23.54597907179765,\n",
       " 23.390863734158533,\n",
       " 30.101118789433823,\n",
       " 24.102119397620534,\n",
       " 26.128278510866576,\n",
       " 27.279360657597948,\n",
       " 22.425053848325703,\n",
       " 25.752945441926844,\n",
       " 28.187169579629636,\n",
       " 30.01066448124277,\n",
       " 24.30003415479438,\n",
       " 28.922282605866243,\n",
       " 33.06201733991536,\n",
       " 29.615825202210058,\n",
       " 31.40407512107977,\n",
       " 24.384267357145074,\n",
       " 27.06101260456653,\n",
       " 33.53165901254882,\n",
       " 26.050535426815745,\n",
       " 32.75660197761277,\n",
       " 22.655526980218156,\n",
       " 30.266576285700417,\n",
       " 37.83847994687846,\n",
       " 23.967257060733196,\n",
       " 27.498364942111735,\n",
       " 26.10109126692958,\n",
       " 28.701389619436252,\n",
       " 36.8171371980627,\n",
       " 21.75630252206291,\n",
       " 32.8149305651096,\n",
       " 22.273801231985484,\n",
       " 18.843974248364244,\n",
       " 23.799018191655914,\n",
       " 27.93037017027861,\n",
       " 24.686896414950162,\n",
       " 30.530818796146637,\n",
       " 26.343659903264097,\n",
       " 32.54679094598922,\n",
       " 35.941777057922295,\n",
       " 34.65972990951514,\n",
       " 26.852190199886607,\n",
       " 24.519822774929885,\n",
       " 30.49177370424335,\n",
       " 26.09025634312831,\n",
       " 30.22074266255022,\n",
       " 24.63289164890668,\n",
       " 31.70976789015473,\n",
       " 26.275144897786515,\n",
       " 23.136838510921848,\n",
       " 30.197370071802244,\n",
       " 30.225423460405505,\n",
       " 23.730970149450492,\n",
       " 31.011911772168553,\n",
       " 26.787685048898265,\n",
       " 20.49496290155249,\n",
       " 28.414785464083362,\n",
       " 28.98378934895072,\n",
       " 19.927533228776888,\n",
       " 36.60015530854638,\n",
       " 23.569718305449605,\n",
       " 24.532897053120855,\n",
       " 20.847394811480502,\n",
       " 23.707637181165637,\n",
       " 29.064511877042744,\n",
       " 27.76745526361071,\n",
       " 27.408837961590976,\n",
       " 28.15332824004054,\n",
       " 24.37232062072186,\n",
       " 30.066543273626667,\n",
       " 27.85064052853197,\n",
       " 31.823339324549956,\n",
       " 19.898810346957678,\n",
       " 25.969540533985505,\n",
       " 25.059130317281596,\n",
       " 22.19331993911939,\n",
       " 24.855017131597332,\n",
       " 19.37375957849379,\n",
       " 36.01763056087873,\n",
       " 21.94516453236141,\n",
       " 26.80073278233304,\n",
       " 18.524402928224752,\n",
       " 33.466064757329235,\n",
       " 24.937846987459807,\n",
       " 26.949379584448742,\n",
       " 21.87351685311477,\n",
       " 26.886483697318553,\n",
       " 26.530248501764312,\n",
       " 21.941334138277238,\n",
       " 30.70045647529311,\n",
       " 23.727397097440644,\n",
       " 27.29387907263592,\n",
       " 25.768846188826004,\n",
       " 33.68978114446864,\n",
       " 28.98574228031523,\n",
       " 30.211174859041407,\n",
       " 32.60233876857702,\n",
       " 24.07013716340163,\n",
       " 36.947420141498895,\n",
       " 27.409598659367774,\n",
       " 26.99381946758108,\n",
       " 25.382126848979716,\n",
       " 25.835151235850756,\n",
       " 23.764507556779307,\n",
       " 27.297908945743462,\n",
       " 17.063030918104367,\n",
       " 23.262586502249874,\n",
       " 22.426242063966644,\n",
       " 29.272853323765897,\n",
       " 18.073048656394374,\n",
       " 34.58936927811072,\n",
       " 21.48930946620062,\n",
       " 23.46095447412852,\n",
       " 25.488483715953336,\n",
       " 29.16194498025466,\n",
       " 20.6325089033376,\n",
       " 40.88974337583164,\n",
       " 32.63185904217955,\n",
       " 20.416480729628834,\n",
       " 26.98849643632753,\n",
       " 21.258867061555293,\n",
       " 26.328375392091974,\n",
       " 31.000262713802144,\n",
       " 29.43658695223594,\n",
       " 34.30528928918459,\n",
       " 27.761009462324335,\n",
       " 20.432901407517846,\n",
       " 25.268427840233112,\n",
       " 21.847817533341384,\n",
       " 25.294223222183877,\n",
       " 22.280953015598634,\n",
       " 30.27117541204036,\n",
       " 21.507955001656242,\n",
       " 27.18951343357956,\n",
       " 24.43887249928044,\n",
       " 24.005063920932553,\n",
       " 30.781361167996362,\n",
       " 24.743326110152804,\n",
       " 25.3281790774969,\n",
       " 27.616196700917374,\n",
       " 23.433652065220365,\n",
       " 25.921352603647485,\n",
       " 25.896954570500814,\n",
       " 29.83574362023234,\n",
       " 24.51742194184367,\n",
       " 34.51140535664215,\n",
       " 25.56003359197021,\n",
       " 29.32976616897805,\n",
       " 30.26975939740424,\n",
       " 38.238564167599435,\n",
       " 27.836452774331864,\n",
       " 26.400306596091145,\n",
       " 27.21510062688329,\n",
       " 25.118169195221146,\n",
       " 21.091478330158612,\n",
       " 28.589729541077737,\n",
       " 27.385767104120795,\n",
       " 22.051046084044724,\n",
       " 27.930872843484433,\n",
       " 25.58194267827098,\n",
       " 26.338169684445358,\n",
       " 23.64803326307804,\n",
       " 21.174581134985363,\n",
       " 30.59366822085931,\n",
       " 28.17968149305342,\n",
       " 28.70052202099795,\n",
       " 23.49096607581787,\n",
       " 19.536984896255852,\n",
       " 23.465700552122755,\n",
       " 22.89050530197479,\n",
       " 27.665527763581874,\n",
       " 27.644250551467707,\n",
       " 30.467661158884265,\n",
       " 21.07651373087339,\n",
       " 33.18125088420991,\n",
       " 32.19609936115707,\n",
       " 23.269784637098024,\n",
       " 35.28877694040719,\n",
       " 25.51351134418008,\n",
       " 32.27925810458206,\n",
       " 20.18493545355527,\n",
       " 24.339264385676863,\n",
       " 29.99065835110037,\n",
       " 31.282539005046033,\n",
       " 22.30160111886088,\n",
       " 25.441294962796285,\n",
       " 19.8021581311852,\n",
       " 29.460146380845625,\n",
       " 22.199670992500533,\n",
       " 28.236405353970444,\n",
       " 22.22587400273344,\n",
       " 21.319150824213942,\n",
       " 27.429927669799376,\n",
       " 29.399207577871977,\n",
       " 27.182627322718453,\n",
       " 27.6125635830917,\n",
       " 30.637363100084556,\n",
       " 27.751009907295366,\n",
       " 21.509206550646606,\n",
       " 36.92785572851948,\n",
       " 25.73081066835599,\n",
       " 24.77599504045674,\n",
       " 25.32637548820788,\n",
       " 25.382064023494603,\n",
       " 24.525177608993634,\n",
       " 26.868193571180168,\n",
       " 24.973209701827297,\n",
       " 30.940843630636287,\n",
       " 33.21670173339712,\n",
       " 28.990038313394965,\n",
       " 23.91375499385703,\n",
       " 26.63478213260844,\n",
       " 21.60571852958797,\n",
       " 22.80554947808649,\n",
       " 27.36000003241698,\n",
       " 22.788695502407077,\n",
       " 28.891100318514106,\n",
       " 24.713114840494644,\n",
       " 25.164338425865004,\n",
       " 21.845555743559085,\n",
       " 13.853688890792267,\n",
       " 26.783514285785657,\n",
       " 21.348703535519363,\n",
       " 25.76086515791168,\n",
       " 30.505679200672883,\n",
       " 22.574622504298514,\n",
       " 33.476003631258294,\n",
       " 25.650770330952337,\n",
       " 18.359254477272287,\n",
       " 28.638292968881327,\n",
       " 24.745559465982335,\n",
       " 27.605426454865828,\n",
       " 41.44505626027354,\n",
       " 23.097531007583253,\n",
       " 25.44860233393837,\n",
       " 29.950046682952074,\n",
       " 21.234736971032255,\n",
       " 26.080869218504674,\n",
       " 22.490960743644173,\n",
       " 19.738869208958004,\n",
       " 27.900541525107172,\n",
       " 16.581378793673768,\n",
       " 18.309903167565974,\n",
       " 22.435994102639675,\n",
       " 29.131653588138565,\n",
       " 30.252215127297468,\n",
       " 33.25362816359942,\n",
       " 20.068984424198998,\n",
       " 27.851123575709632,\n",
       " 28.017507434548364,\n",
       " 27.608304056124165,\n",
       " 24.64535774408709,\n",
       " 27.719153766332614,\n",
       " 24.41955589241137,\n",
       " 25.971130906787824,\n",
       " 26.398838025014673,\n",
       " 24.13467976517934,\n",
       " 24.69971601362969,\n",
       " 20.675949006789626,\n",
       " 27.31751585608623,\n",
       " 40.74249231517167,\n",
       " 34.861307186126595,\n",
       " 24.972193528528077,\n",
       " 22.980640224478833,\n",
       " 30.263511808428923,\n",
       " 24.23380044683515,\n",
       " 30.784885070077063,\n",
       " 26.70894719383835,\n",
       " 18.906278172215174,\n",
       " 27.051440104106465,\n",
       " 23.45016408548395,\n",
       " 23.714257649711502,\n",
       " 26.68745988125349,\n",
       " 28.478058501093347,\n",
       " 22.1565435477789,\n",
       " 23.544106761245537,\n",
       " 24.171818435395622,\n",
       " 24.625719664543528,\n",
       " 18.83647414792193,\n",
       " 23.37404359535083,\n",
       " 22.882204769632263,\n",
       " 23.003191761201062,\n",
       " 22.19041085810671,\n",
       " 25.08143707522506,\n",
       " 28.188338973216336,\n",
       " 24.446024469549496,\n",
       " 23.38870558103847,\n",
       " 27.660744212737793,\n",
       " 28.930992984383153,\n",
       " 29.006097727891735,\n",
       " 28.482183116223496,\n",
       " 20.7649147073419,\n",
       " 31.94993671828536,\n",
       " 22.356764078113105,\n",
       " 35.74298772014157,\n",
       " 25.242612967163442,\n",
       " 26.70609225953722,\n",
       " 26.182103940290755,\n",
       " 22.975357061938848,\n",
       " 23.878046089044428,\n",
       " 23.987595620400615,\n",
       " 36.76554173759329,\n",
       " 31.142205842504666,\n",
       " 22.638209999247554,\n",
       " 35.2299363633389,\n",
       " 25.20515715275172,\n",
       " 27.532757561252875,\n",
       " 26.434877573071148,\n",
       " 24.72190977594879,\n",
       " 28.02452022642736,\n",
       " 23.585382717255182,\n",
       " 20.77915851183506,\n",
       " 28.780494507260332,\n",
       " 40.75430728365679,\n",
       " 26.390526394463,\n",
       " 26.52973488534058,\n",
       " 22.60446516143943,\n",
       " 22.052230454654975,\n",
       " 29.458422984015968,\n",
       " 22.406529547889946,\n",
       " 27.43541240638038,\n",
       " 24.11778740495007,\n",
       " 33.31767702600235,\n",
       " 35.6272980352486,\n",
       " 24.527654725527864,\n",
       " 20.39735814499,\n",
       " 27.114847859250222,\n",
       " 26.766989369565753,\n",
       " 31.777059892566843,\n",
       " 23.008892450702866,\n",
       " 20.988867589370198,\n",
       " 35.15897583079488,\n",
       " 20.13245224031628,\n",
       " 20.825778214402902,\n",
       " 28.81008823356098,\n",
       " 25.60875947254942,\n",
       " 33.5124500632197,\n",
       " 25.4746527323903,\n",
       " 31.098516146976774,\n",
       " 29.771967318639607,\n",
       " 32.944785532755525,\n",
       " 35.70419635665157,\n",
       " 22.089677818056575,\n",
       " 23.547772066489344,\n",
       " 27.683789265297968,\n",
       " 26.90864413169908,\n",
       " 21.832300719929233,\n",
       " 33.14171366757799,\n",
       " 26.631828914701156,\n",
       " 19.38605880985999,\n",
       " 24.22774800019166,\n",
       " 25.648934196978487,\n",
       " 31.927369076062813,\n",
       " 22.65834336622864,\n",
       " 40.63309293421606,\n",
       " 31.72805393443494,\n",
       " 22.234743632916857,\n",
       " 19.508169999886196,\n",
       " 26.38109100340549,\n",
       " 24.69974095360683,\n",
       " 24.49376201427353,\n",
       " 19.725670684927998,\n",
       " 36.71085406413597,\n",
       " 21.538954307193556,\n",
       " 29.194375335146095,\n",
       " 35.36661777737175,\n",
       " 22.998582272154547,\n",
       " 29.297778266885057,\n",
       " 28.655377747343955,\n",
       " 20.932270781575173,\n",
       " 28.084756454623182,\n",
       " 32.531663377307325,\n",
       " 28.130252127603704,\n",
       " 22.104509085342887,\n",
       " 26.017194664737865,\n",
       " 24.461875141121997,\n",
       " 30.05698338333179,\n",
       " 23.929667112714736,\n",
       " 21.557036882931477,\n",
       " 21.867035419669307,\n",
       " 21.611297472655572,\n",
       " 26.232742172931893,\n",
       " 26.09921249885414,\n",
       " 35.356582450642534,\n",
       " 22.551394673750952,\n",
       " 29.75911082928507,\n",
       " 24.914942264093064,\n",
       " 28.28101284096681,\n",
       " 24.483647895648563,\n",
       " 24.866176762561192,\n",
       " 29.55348912559229,\n",
       " 25.63463676537787,\n",
       " 30.2575575054125,\n",
       " 33.57481331715942,\n",
       " 28.716731861822208,\n",
       " 30.271351863366213,\n",
       " 17.91258474640648,\n",
       " 24.089215935648443,\n",
       " 27.367903907470485,\n",
       " 19.63523894976092,\n",
       " 23.286176473580475,\n",
       " 27.23647450982773,\n",
       " 21.410313715962502,\n",
       " 31.93788407012152,\n",
       " 24.152217643275232,\n",
       " 26.493313065396027,\n",
       " 24.39073858387201,\n",
       " 30.918021827844193,\n",
       " 27.67956056072411,\n",
       " 28.79191689665439,\n",
       " 22.83603151626909,\n",
       " 25.12824895306818,\n",
       " 20.485698083007698,\n",
       " 29.308752513303467,\n",
       " 22.196673854670955,\n",
       " 23.247257729378727,\n",
       " 22.49545536176462,\n",
       " 22.566819010570832,\n",
       " 25.780308137336547,\n",
       " 30.831803663254785,\n",
       " 24.29684118323447,\n",
       " 23.60868910400281,\n",
       " 28.218437199622326,\n",
       " 27.757947197453305,\n",
       " 30.47290439009764,\n",
       " 23.661573892372154,\n",
       " 24.789190842776787,\n",
       " 24.395664104570567,\n",
       " 30.2884003761452,\n",
       " 26.047885642730236,\n",
       " 24.619288575362912,\n",
       " 22.587239151987653,\n",
       " 25.49940350588872,\n",
       " 28.194829566916244,\n",
       " 31.74820403195222,\n",
       " 20.344284499732346,\n",
       " 32.66610305465633,\n",
       " 20.748495927533046,\n",
       " 26.405448644140797,\n",
       " 30.751025523217002,\n",
       " 27.002713461810824,\n",
       " 29.307102831012354,\n",
       " 20.78096756057485,\n",
       " 22.276868560613348,\n",
       " 27.43203586494381,\n",
       " 31.168920933359914,\n",
       " 23.11520071134282,\n",
       " 23.857588834586416,\n",
       " 26.755093805698166,\n",
       " 27.305543044103185,\n",
       " 29.06401965003135,\n",
       " 26.629198261347224,\n",
       " 28.55877555244632,\n",
       " 28.880590517151692,\n",
       " 30.55097132925731,\n",
       " 25.72081260235866,\n",
       " 26.211086836289418,\n",
       " 24.624204123750314,\n",
       " 25.571603443633823,\n",
       " 19.565673211080604,\n",
       " 23.657474936084,\n",
       " 27.73739409821166,\n",
       " 23.79152446809079,\n",
       " 27.953373366403063,\n",
       " 25.275447361499463,\n",
       " 26.14622754476941,\n",
       " 24.107583118040232,\n",
       " 22.04286495102493,\n",
       " 27.92880840767479,\n",
       " 26.221235670673448,\n",
       " 29.420265368120923,\n",
       " 28.400927348443382,\n",
       " 24.198085128488554,\n",
       " 24.9600322417965,\n",
       " 27.505277524957666,\n",
       " 28.340756472323097,\n",
       " 20.56841628477515,\n",
       " 27.480593058421945,\n",
       " 27.494911699561293,\n",
       " 23.059863386017437,\n",
       " 29.46704609349202,\n",
       " 25.887646729591907,\n",
       " 28.46411070078733,\n",
       " 38.86166828874184,\n",
       " 25.366711893602655,\n",
       " 23.389200861428478,\n",
       " 34.7219910557259,\n",
       " 23.809902972922142,\n",
       " 25.694141501872892,\n",
       " 30.3970451953498,\n",
       " 28.42214023648062,\n",
       " 25.232260514129948,\n",
       " 23.435807122648825,\n",
       " 23.21645772262016,\n",
       " 36.96736562668889,\n",
       " 26.354207702701,\n",
       " 25.626280603509056,\n",
       " 22.3773447716579,\n",
       " 29.492042941826742,\n",
       " 27.789827948219127,\n",
       " 30.258708056422062,\n",
       " 31.881004921961644,\n",
       " 28.298099375599342,\n",
       " 24.88733295935812,\n",
       " 26.37533980694198,\n",
       " 24.346217980478357,\n",
       " 30.82688185611997,\n",
       " 27.208014999093017,\n",
       " 22.329785289132996,\n",
       " 23.058014425353083,\n",
       " 23.891511473104305,\n",
       " 22.834987331659796,\n",
       " 24.226847566644327,\n",
       " 23.915894087654745,\n",
       " 26.503270748656096,\n",
       " 27.869848568715728,\n",
       " 31.013971423273457,\n",
       " 32.12734849187411,\n",
       " 23.4343645417022,\n",
       " 24.104667736902112,\n",
       " 27.422555516243133,\n",
       " 21.596045612395386,\n",
       " 23.21719267013877,\n",
       " 19.375499715035595,\n",
       " 30.984007106966292,\n",
       " 27.257481301452415,\n",
       " 33.06027578171692,\n",
       " 25.30325950350872,\n",
       " 25.971998585059744,\n",
       " 24.098713531284133,\n",
       " 31.9257085439104,\n",
       " 25.533699589887433,\n",
       " 26.814560840452778,\n",
       " 20.46790417478211,\n",
       " 29.245461273843937,\n",
       " 29.322626654923308,\n",
       " 22.136216116343927,\n",
       " 29.589798177137112,\n",
       " 28.92477073395593,\n",
       " 25.18167604092499,\n",
       " 23.487390709133322,\n",
       " 29.20833275644587,\n",
       " 22.14970228453651,\n",
       " 29.54544806779632,\n",
       " 20.868700808216065,\n",
       " 16.341172259234064,\n",
       " 25.67333395725859,\n",
       " 34.64536799151653,\n",
       " 21.16204084590401,\n",
       " 36.83559529833145,\n",
       " 30.121558829076708,\n",
       " 22.966877827746263,\n",
       " 30.440711562474846,\n",
       " 25.28993978376912,\n",
       " 19.45267268412444,\n",
       " 23.060032250133276,\n",
       " 22.19646521649635,\n",
       " 29.747839918155215,\n",
       " 23.556575541030394,\n",
       " 25.32104571991977,\n",
       " 24.926704099758695,\n",
       " 22.230068138562956,\n",
       " 27.701200948252833,\n",
       " 25.91640904298245,\n",
       " 26.491288426935405,\n",
       " 26.039793331695513,\n",
       " 26.860184406976618,\n",
       " 39.78817749609235,\n",
       " 23.773049817767223,\n",
       " 29.7222202528948,\n",
       " 24.203489270312282,\n",
       " 27.976200550497175,\n",
       " 26.723588027732678,\n",
       " 22.70644371113647,\n",
       " 20.052900887079105,\n",
       " 22.95607445276586,\n",
       " 28.472537112846904,\n",
       " 22.478994229719415,\n",
       " 24.169037921041316,\n",
       " 36.728436342381606,\n",
       " 27.183612625706743,\n",
       " 26.584716411981372,\n",
       " 32.15816855212862,\n",
       " 26.429263515189092,\n",
       " 28.206782109550172,\n",
       " 19.434534272476817,\n",
       " 29.97789116148253,\n",
       " 33.21994143673867,\n",
       " 27.659205372502726,\n",
       " 21.838806222867372,\n",
       " 26.389197407593613,\n",
       " 29.15650606712593,\n",
       " 27.156220229047435,\n",
       " 29.380485391595787,\n",
       " 29.111867253301675,\n",
       " 23.221253401151216,\n",
       " 24.15941882541921,\n",
       " 23.23625802029357,\n",
       " 26.052778142195997,\n",
       " 22.199678601630417,\n",
       " 29.22057063693018,\n",
       " 29.824713553829742,\n",
       " 28.886033765920892,\n",
       " 23.680742544062436,\n",
       " 24.259514315451973,\n",
       " 28.633437344800047,\n",
       " 25.08919309373808,\n",
       " 30.523784376942615,\n",
       " 25.801158927531397,\n",
       " 28.931387814484275,\n",
       " 17.3935669842017,\n",
       " 23.426748190465833,\n",
       " 21.923470316660193,\n",
       " 27.3041501891441,\n",
       " 25.08802665896738,\n",
       " 29.79852837187288,\n",
       " 33.59640217594569,\n",
       " 19.619921381202175,\n",
       " 32.51943554903602,\n",
       " 23.65960194780754,\n",
       " 31.2407718245059,\n",
       " 25.866227923462947,\n",
       " 29.77987110735933,\n",
       " 20.598846086410454,\n",
       " 23.826977458895286,\n",
       " 29.390966757552995,\n",
       " 21.087616228919384,\n",
       " 26.432442387479984,\n",
       " 27.759854712974306,\n",
       " 28.85726197030564,\n",
       " 21.682222242014184,\n",
       " 25.34333319016357,\n",
       " 30.43203426258999,\n",
       " 25.25535124130053,\n",
       " 26.603157584754342,\n",
       " 24.53906260661111,\n",
       " 25.160279009818733,\n",
       " 28.31030327761038,\n",
       " 24.196555345865722,\n",
       " 25.065677630640458,\n",
       " 25.997552547988214,\n",
       " 28.97842723541544,\n",
       " 23.66712019414041,\n",
       " 30.190378850360528,\n",
       " 29.848897150689236,\n",
       " 30.906892594570525,\n",
       " 23.44144297632689,\n",
       " 24.202079077321166,\n",
       " 23.811432380666428,\n",
       " 25.195001106977184,\n",
       " 26.990096601851448,\n",
       " 29.848531066775465,\n",
       " 23.809066012624083,\n",
       " 41.69658816392621,\n",
       " 24.18081390143937,\n",
       " 34.41485406853303,\n",
       " 26.836936990753763,\n",
       " 27.544960723060335,\n",
       " 28.925922486347137,\n",
       " 26.901186808744626,\n",
       " 20.671847778393904,\n",
       " 25.8403563778361,\n",
       " 20.673399505644902,\n",
       " 21.183691137321116,\n",
       " 25.460427241050798,\n",
       " 34.52795016003953,\n",
       " 23.618616968070192,\n",
       " 27.780441850316084,\n",
       " 26.544401673969116,\n",
       " 23.62582388556923,\n",
       " 26.955816569769034,\n",
       " 23.366009328052755,\n",
       " 30.347896055319328,\n",
       " 20.91210122479451,\n",
       " 23.79235668750373,\n",
       " 24.752993522946266,\n",
       " 26.165846458920402,\n",
       " 24.868260475225565,\n",
       " 24.090241561669895,\n",
       " 32.201077919498694,\n",
       " 29.115101206625607,\n",
       " 28.505246732537955,\n",
       " 24.715367821439006,\n",
       " 26.38559743902079,\n",
       " 40.60290837545517,\n",
       " 30.51358114577856,\n",
       " 25.390328072863728,\n",
       " 25.794263700571125,\n",
       " 24.6123188264335,\n",
       " 26.110852615789717,\n",
       " 27.876528104855737,\n",
       " 34.78497422140993,\n",
       " 28.257819935845617,\n",
       " 23.92739445637594,\n",
       " 25.769782941394965,\n",
       " 23.44795868123939,\n",
       " 20.592407012238507,\n",
       " 25.293836008996024,\n",
       " 28.519621355056124,\n",
       " 30.48952702731831,\n",
       " 29.072264614716484,\n",
       " 27.626262535804567,\n",
       " 23.556496667068053,\n",
       " 25.03197384715925,\n",
       " 27.065898571769573,\n",
       " 23.09672048388759,\n",
       " 22.721276644361335,\n",
       " 33.57624001743685,\n",
       " 29.868452746260147,\n",
       " 29.579392732196442,\n",
       " 21.383875317837667,\n",
       " 23.695840841646397,\n",
       " 29.935833133910354,\n",
       " 23.441875760176988,\n",
       " 28.02257579137967,\n",
       " 22.28586156007109,\n",
       " 27.019632336099647,\n",
       " 20.71947979975202,\n",
       " 19.833476565576458,\n",
       " 21.867075212650892,\n",
       " 21.257451033642763,\n",
       " 26.731381511492422,\n",
       " 26.208987381927766,\n",
       " 18.686483897823553,\n",
       " 19.46403901990895,\n",
       " 29.103992915063095,\n",
       " 22.957996994932266,\n",
       " 24.715756153606584,\n",
       " 22.132517360561213,\n",
       " 24.86340777497196,\n",
       " 25.23684165773828,\n",
       " 25.17301631790654,\n",
       " 27.124881609713178,\n",
       " 21.42361301042534,\n",
       " 25.619176703590146,\n",
       " 31.117594722931997,\n",
       " 26.28433971112702,\n",
       " 20.891871007752474,\n",
       " 23.476625998089204,\n",
       " 26.59710763037866,\n",
       " 23.58977343919338,\n",
       " 21.686408534987034,\n",
       " 29.92974105420309,\n",
       " 29.549345868426418,\n",
       " 27.019749987606225,\n",
       " 24.02001357734234,\n",
       " 30.195005749048928,\n",
       " 25.080231181887438,\n",
       " 18.435111683423006,\n",
       " 26.23583421590791,\n",
       " 21.07829964702147,\n",
       " 24.946262046900458,\n",
       " 24.38635774845985,\n",
       " 21.49622178158541,\n",
       " 22.557627875144252,\n",
       " 22.609423056450744,\n",
       " 24.37511831411271,\n",
       " 25.977446785340078,\n",
       " 25.174927431066063,\n",
       " 25.205012095074963,\n",
       " 24.050103103466693,\n",
       " 29.59820572965215,\n",
       " 23.949166906491637,\n",
       " 25.136621753234625,\n",
       " 31.817537324163823,\n",
       " 21.477899365376885,\n",
       " 19.023615333184964,\n",
       " 22.536822002878775,\n",
       " 26.070872603987606,\n",
       " 24.106819911474528,\n",
       " 24.1254160520202,\n",
       " 27.64036800822068,\n",
       " 29.207253647610987,\n",
       " 25.229911103508517,\n",
       " 30.60140635592943,\n",
       " 21.847766938491873,\n",
       " 27.113468800226908,\n",
       " 18.401396761471748,\n",
       " 25.853454101786085,\n",
       " 25.78172654291087,\n",
       " 22.1331148042104,\n",
       " 21.005584088305035,\n",
       " 22.80999089022457,\n",
       " 24.503363610115187,\n",
       " 23.214751508654782,\n",
       " 21.067069510272383,\n",
       " 28.922010337639,\n",
       " 24.71433816929045,\n",
       " 28.48385059613992,\n",
       " 23.684314645422564,\n",
       " 20.84352662159911,\n",
       " 20.583910628865947,\n",
       " 27.463517294085694,\n",
       " 24.692748891534073,\n",
       " 21.177451163960846,\n",
       " 26.640025389664608,\n",
       " 34.69503482064544,\n",
       " 21.96952837626799,\n",
       " 25.071795902310278,\n",
       " 25.12729617120251,\n",
       " 25.593129804054083,\n",
       " 22.591929969207897,\n",
       " 25.171243805333376,\n",
       " 21.380660803456124,\n",
       " 28.715019898903964,\n",
       " 26.533172909237305,\n",
       " 31.53634685525217,\n",
       " 23.89945016862167,\n",
       " 24.41730614293907,\n",
       " 30.196514167265953,\n",
       " 27.52611593642147,\n",
       " 28.752100757400694,\n",
       " 21.640810932106362,\n",
       " 19.587195301740575,\n",
       " 31.973266761340117,\n",
       " 22.642650325209267,\n",
       " 19.466732221844403,\n",
       " 26.31339484419786,\n",
       " 26.843202511469467,\n",
       " 24.569243093938244,\n",
       " 24.44320489514825,\n",
       " 29.860873245431304,\n",
       " 29.41868118569265,\n",
       " 25.411479385745935,\n",
       " 33.445136528428264,\n",
       " 27.994902022487434,\n",
       " 27.485640241347564,\n",
       " 22.730805864056663,\n",
       " 24.955935958434186,\n",
       " ...]"
      ]
     },
     "execution_count": 91,
     "metadata": {},
     "output_type": "execute_result"
    }
   ],
   "source": [
    "# *************************************************************************************************** #\n",
    "# *************************************************************************************************** #\n",
    "# *************************************************************************************************** #\n",
    "\n",
    "#\n",
    "#from memory_profiler import profile\n",
    "\n",
    "import names\n",
    "\n",
    "heroes = [names.get_first_name() for i in range(25001)]\n",
    "\n",
    "hts = np.array(np.random.normal(191.4, 13, 25001))\n",
    "wts = np.array(np.random.normal(95.3, 8, 25001))\n",
    "sample_indices = np.array([i for i in range(25001)])\n",
    "\n",
    "\n",
    "\n",
    "from bmi_lists_3 import calc_bmi_lists\n",
    "\n",
    "calc_bmi_lists(sample_indices, hts, wts)\n",
    "\n",
    "\n",
    "# Why the return value pop out? I didnt ask the function to print"
   ]
  },
  {
   "cell_type": "markdown",
   "id": "a30cf632-b42c-4d35-a2be-188af5bb4364",
   "metadata": {},
   "source": [
    "## Using %mprun: Hero BMI 2.0\n",
    "\n",
    "Let's see if using a different approach to calculate the BMIs can save some memory. If you remember, each hero's height and weight is stored in a numpy array. That means you can use NumPy's handy array indexing capabilities and broadcasting to perform your calculations. A function named calc_bmi_arrays has been created and saved to a file titled bmi_arrays.py. For convenience, it is displayed below:\n",
    "\n",
    "def calc_bmi_arrays(sample_indices, hts, wts):\n",
    "\n",
    "    # Gather sample heights and weights as arrays\n",
    "    s_hts = hts[sample_indices]\n",
    "    s_wts = wts[sample_indices]\n",
    "\n",
    "    # Convert heights from cm to m and square with broadcasting\n",
    "    s_hts_m_sqr = (s_hts / 100) ** 2\n",
    "\n",
    "    # Calculate BMIs as an array using broadcasting\n",
    "    bmis = s_wts / s_hts_m_sqr\n",
    "\n",
    "    return bmis\n",
    "\n",
    "Notice that this function performs all necessary calculations using arrays.\n",
    "\n",
    "Let's see if this updated array approach decreases your memory footprint:\n",
    "\n",
    "    Load the memory_profiler package into your IPython session.\n",
    "    Import calc_bmi_arrays from bmi_arrays.\n",
    "    Once you've completed the above steps, use %mprun to profile the calc_bmi_arrays() function acting on your superheroes data. The sample_indices array, hts array, and wts array have been loaded into your session.\n",
    "\n",
    "After you've finished coding, answer the following question:\n",
    "\n",
    "How much memory do the array indexing and broadcasting lines of code consume in the calc_bmi_array() function? (i.e., what is the total sum of the Increment column for these four lines of code?)\n",
    "Instructions\n",
    "50 XP\n",
    "Possible Answers\n",
    "\n",
    "    10.0 MiB - 15.0 MiB\n",
    "    0.0 MiB\n",
    "    20.0 MiB - 30.0 MiB\n",
    "    0.1 MiB - 2.0 MiB"
   ]
  },
  {
   "cell_type": "code",
   "execution_count": null,
   "id": "73f93722-2d5a-4cdb-8030-db8ce51930b9",
   "metadata": {},
   "outputs": [],
   "source": []
  },
  {
   "cell_type": "code",
   "execution_count": null,
   "id": "e499794d-7b3c-4cff-81a0-5a5106b2247f",
   "metadata": {},
   "outputs": [],
   "source": []
  },
  {
   "cell_type": "code",
   "execution_count": null,
   "id": "8852044f-7885-4616-8a86-2949f0a3f930",
   "metadata": {},
   "outputs": [],
   "source": []
  },
  {
   "cell_type": "code",
   "execution_count": null,
   "id": "c886fa8e-6446-4b66-9760-2445a81278f9",
   "metadata": {},
   "outputs": [],
   "source": []
  },
  {
   "cell_type": "code",
   "execution_count": null,
   "id": "3172a298-2d85-4ae4-844d-da0b25166117",
   "metadata": {},
   "outputs": [],
   "source": []
  },
  {
   "cell_type": "code",
   "execution_count": null,
   "id": "638e4261-83b7-4961-859f-6a448f444150",
   "metadata": {},
   "outputs": [],
   "source": []
  },
  {
   "cell_type": "code",
   "execution_count": null,
   "id": "af36a10e-2b91-443b-a873-a59c1b78a477",
   "metadata": {},
   "outputs": [],
   "source": []
  }
 ],
 "metadata": {
  "kernelspec": {
   "display_name": "Python 3 (ipykernel)",
   "language": "python",
   "name": "python3"
  },
  "language_info": {
   "codemirror_mode": {
    "name": "ipython",
    "version": 3
   },
   "file_extension": ".py",
   "mimetype": "text/x-python",
   "name": "python",
   "nbconvert_exporter": "python",
   "pygments_lexer": "ipython3",
   "version": "3.9.2"
  }
 },
 "nbformat": 4,
 "nbformat_minor": 5
}
